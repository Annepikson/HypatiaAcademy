{
 "cells": [
  {
   "cell_type": "markdown",
   "metadata": {},
   "source": [
    "# Bits and Bytes\n",
    "\n",
    "A byte is 8 bits, on most computer systems.  Bits are written as 1s and 0s.  Bytes are written using the hexadecimal number system, which uses digits plut the letters A to F.\n",
    "\n",
    "To understand that consider how we write number using the decimal system-"
   ]
  },
  {
   "cell_type": "markdown",
   "metadata": {},
   "source": [
    "# The decimal system.\n",
    "In the decimal system numbers are written as powers of 10.  We use the digits 0,1,2,3,4,5,6,7,8,9.\n",
    "\n",
    "353 is:\n",
    "\n",
    "\\begin{align}\n",
    "(3*10^2)+(5*10^1)+(3*10^0)=353\n",
    "\\end{align}\n",
    "\n",
    "\n",
    " \n",
    "\n",
    "\n",
    "\n",
    "\n"
   ]
  },
  {
   "cell_type": "markdown",
   "metadata": {},
   "source": [
    "# Binary Numbers\n",
    "In the binary system numbers are written as power of 2.  We use the digits 0 and 1.\n",
    "\n",
    "3 is:\n",
    "\n",
    "\n"
   ]
  },
  {
   "cell_type": "markdown",
   "metadata": {},
   "source": [
    "\\begin{align}\n",
    "(2*2^1)+(1*2^0)=011=3\n",
    "\\end{align}\n",
    " "
   ]
  },
  {
   "cell_type": "markdown",
   "metadata": {},
   "source": [
    "# Hexadecidamel Numbers\n",
    "Hexadecimal numbers are written as powers of 16.\n",
    "\n",
    "| number | hex digit |\n",
    "| ----------- | ----------- |\n",
    "| 0 | 0 |\n",
    "| 1 | 1 |\n",
    "| 2 | 2 |\n",
    "| 3 | 3 |\n",
    "| 4 | 4 |\n",
    "| 5 | 5 |\n",
    "| 6 | 6 |\n",
    "| 7 | 7 |\n",
    "| 8 | 8 |\n",
    "| 9 | 9 |\n",
    "| 10 | A |\n",
    "| 11 | B |\n",
    "| 12 | C |\n",
    "| 13 | D |\n",
    "| 14 | E |\n",
    "| 15 | F |\n",
    " \n",
    "\n",
    " \n",
    "\n",
    "1AC is:"
   ]
  },
  {
   "cell_type": "markdown",
   "metadata": {},
   "source": []
  },
  {
   "cell_type": "markdown",
   "metadata": {},
   "source": [
    "\\begin{align}\n",
    "(1*16^2)+(A*16^1)+(C*16^0)=1AC \n",
    "\\end{align}\n",
    "\\begin{align}\n",
    " (1*16^2)+(10*16^1)+(12*16^0)=428 \n",
    "\\end{align}"
   ]
  },
  {
   "cell_type": "code",
   "execution_count": null,
   "metadata": {},
   "outputs": [],
   "source": [
    "hex(16)"
   ]
  },
  {
   "cell_type": "code",
   "execution_count": null,
   "metadata": {},
   "outputs": [],
   "source": [
    "bin(2)"
   ]
  }
 ],
 "metadata": {
  "kernelspec": {
   "display_name": "Python 3",
   "language": "python",
   "name": "python3"
  },
  "language_info": {
   "codemirror_mode": {
    "name": "ipython",
    "version": 3
   },
   "file_extension": ".py",
   "mimetype": "text/x-python",
   "name": "python",
   "nbconvert_exporter": "python",
   "pygments_lexer": "ipython3",
   "version": "3.4.4"
  }
 },
 "nbformat": 4,
 "nbformat_minor": 2
}
