{
  "nbformat": 4,
  "nbformat_minor": 0,
  "metadata": {
    "colab": {
      "provenance": [],
      "authorship_tag": "ABX9TyMe3IDFmvnjNbiMFZ7VykTj",
      "include_colab_link": true
    },
    "kernelspec": {
      "name": "python3",
      "display_name": "Python 3"
    },
    "language_info": {
      "name": "python"
    }
  },
  "cells": [
    {
      "cell_type": "markdown",
      "metadata": {
        "id": "view-in-github",
        "colab_type": "text"
      },
      "source": [
        "<a href=\"https://colab.research.google.com/github/Annepikson/HypatiaAcademy/blob/master/2024_8_30.ipynb\" target=\"_parent\"><img src=\"https://colab.research.google.com/assets/colab-badge.svg\" alt=\"Open In Colab\"/></a>"
      ]
    },
    {
      "cell_type": "code",
      "execution_count": 6,
      "metadata": {
        "colab": {
          "base_uri": "https://localhost:8080/"
        },
        "id": "Cc-odV3rnAut",
        "outputId": "2a3e3fd8-abd2-46b5-b88a-337c2ca64184"
      },
      "outputs": [
        {
          "output_type": "execute_result",
          "data": {
            "text/plain": [
              "['anna', 'diana', 'sonia']"
            ]
          },
          "metadata": {},
          "execution_count": 6
        }
      ],
      "source": [
        "\n",
        "\n",
        "list_1 = ['anna','diana','sonia']\n",
        "def bubble_sort(list_1):\n",
        "    n = len(list_1)\n",
        "\n",
        "    # Traverse through all array elements\n",
        "    for i in range(n):\n",
        "\n",
        "        # Last i elements are already in place\n",
        "        for j in range(0, n-i-1):\n",
        "\n",
        "            # Traverse the array from 0 to n-i-1\n",
        "            # Swap if the element found is greater\n",
        "            # than the next element\n",
        "            if list_1[j] > list_1[j+1]:\n",
        "                list_1[j], list_1[j+1] = list_1[j+1], list_1[j]\n",
        "\n",
        "    return list_1\n",
        "\n",
        "\n",
        "list_1"
      ]
    },
    {
      "cell_type": "code",
      "source": [
        "numbers = [10,9,8,7]\n",
        "sorted_numbers = bubble_sort(numbers)\n",
        "print(\"\\nSorted list:\", sorted_numbers)\n",
        "def bubble_sort(numbers):\n",
        "    n = len(numbers)\n",
        "\n",
        "    print(\"Initial list:\", numbers)\n",
        "\n",
        "    # Traverse through all array elements\n",
        "    for i in range(n):\n",
        "        print(f\"\\nPass {i + 1}:\")\n",
        "\n",
        "        # Last i elements are already sorted\n",
        "        for j in range(0, n - i - 1):\n",
        "            print(f\"Checking indices {j} and {j + 1}: {numbers[j]} and {numbers[j + 1]}\")\n",
        "\n",
        "            # Swap if the element found is greater than the next element\n",
        "            if numbers[j] > numbers[j + 1]:\n",
        "                print(f\"Swapping {numbers[j]} and {numbers[j + 1]}\")\n",
        "                numbers[j], numbers[j + 1] = numbers[j + 1], numbers[j]\n",
        "            else:\n",
        "                print(f\"No swap needed for {numbers[j]} and {numbers[j + 1]}\")\n",
        "\n",
        "        print(\"List after pass:\", numbers)\n",
        "\n",
        "    return numbers\n",
        "numbers"
      ],
      "metadata": {
        "colab": {
          "base_uri": "https://localhost:8080/"
        },
        "id": "D57YRcVvoUyZ",
        "outputId": "64362574-26be-47b9-bf64-bc9eed5af03c"
      },
      "execution_count": 12,
      "outputs": [
        {
          "output_type": "stream",
          "name": "stdout",
          "text": [
            "Initial list: [10, 9, 8, 7]\n",
            "\n",
            "Pass 1:\n",
            "Checking indices 0 and 1: 10 and 9\n",
            "Swapping 10 and 9\n",
            "Checking indices 1 and 2: 10 and 8\n",
            "Swapping 10 and 8\n",
            "Checking indices 2 and 3: 10 and 7\n",
            "Swapping 10 and 7\n",
            "List after pass: [9, 8, 7, 10]\n",
            "\n",
            "Pass 2:\n",
            "Checking indices 0 and 1: 9 and 8\n",
            "Swapping 9 and 8\n",
            "Checking indices 1 and 2: 9 and 7\n",
            "Swapping 9 and 7\n",
            "List after pass: [8, 7, 9, 10]\n",
            "\n",
            "Pass 3:\n",
            "Checking indices 0 and 1: 8 and 7\n",
            "Swapping 8 and 7\n",
            "List after pass: [7, 8, 9, 10]\n",
            "\n",
            "Pass 4:\n",
            "List after pass: [7, 8, 9, 10]\n",
            "\n",
            "Sorted list: [7, 8, 9, 10]\n"
          ]
        },
        {
          "output_type": "execute_result",
          "data": {
            "text/plain": [
              "[7, 8, 9, 10]"
            ]
          },
          "metadata": {},
          "execution_count": 12
        }
      ]
    }
  ]
}