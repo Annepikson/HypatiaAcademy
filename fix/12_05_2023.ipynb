{
  "nbformat": 4,
  "nbformat_minor": 0,
  "metadata": {
    "colab": {
      "provenance": [],
      "include_colab_link": true
    },
    "kernelspec": {
      "name": "python3",
      "display_name": "Python 3"
    },
    "language_info": {
      "name": "python"
    }
  },
  "cells": [
    {
      "cell_type": "markdown",
      "metadata": {
        "id": "view-in-github",
        "colab_type": "text"
      },
      "source": [
        "<a href=\"https://colab.research.google.com/github/werowe/HypatiaAcademy/blob/master/fix/12_05_2023.ipynb\" target=\"_parent\"><img src=\"https://colab.research.google.com/assets/colab-badge.svg\" alt=\"Open In Colab\"/></a>"
      ]
    },
    {
      "cell_type": "code",
      "source": [
        "def make_uppercase(word):\n",
        "    return word.upper()\n",
        "\n",
        "    my_string = \"something very long\"\n",
        "\n",
        "    \n",
        "substring = my_string[9:20]\n",
        "print(substring)"
      ],
      "metadata": {
        "id": "-oq7Gh65hZaK",
        "colab": {
          "base_uri": "https://localhost:8080/",
          "height": 221
        },
        "outputId": "1f7c7c5c-bda0-4699-ea38-7cb8c35eb0a6"
      },
      "execution_count": 1,
      "outputs": [
        {
          "output_type": "error",
          "ename": "NameError",
          "evalue": "ignored",
          "traceback": [
            "\u001b[0;31m---------------------------------------------------------------------------\u001b[0m",
            "\u001b[0;31mNameError\u001b[0m                                 Traceback (most recent call last)",
            "\u001b[0;32m<ipython-input-1-7091aac4a9dc>\u001b[0m in \u001b[0;36m<cell line: 5>\u001b[0;34m()\u001b[0m\n\u001b[1;32m      3\u001b[0m \u001b[0;34m\u001b[0m\u001b[0m\n\u001b[1;32m      4\u001b[0m     \u001b[0mmy_string\u001b[0m \u001b[0;34m=\u001b[0m \u001b[0;34m\"something very long\"\u001b[0m\u001b[0;34m\u001b[0m\u001b[0;34m\u001b[0m\u001b[0m\n\u001b[0;32m----> 5\u001b[0;31m \u001b[0msubstring\u001b[0m \u001b[0;34m=\u001b[0m \u001b[0mmy_string\u001b[0m\u001b[0;34m[\u001b[0m\u001b[0;36m9\u001b[0m\u001b[0;34m:\u001b[0m\u001b[0;36m20\u001b[0m\u001b[0;34m]\u001b[0m\u001b[0;34m\u001b[0m\u001b[0;34m\u001b[0m\u001b[0m\n\u001b[0m\u001b[1;32m      6\u001b[0m \u001b[0mprint\u001b[0m\u001b[0;34m(\u001b[0m\u001b[0msubstring\u001b[0m\u001b[0;34m)\u001b[0m\u001b[0;34m\u001b[0m\u001b[0;34m\u001b[0m\u001b[0m\n",
            "\u001b[0;31mNameError\u001b[0m: name 'my_string' is not defined"
          ]
        }
      ]
    },
    {
      "cell_type": "code",
      "source": [
        "# the error above is because my_string is inside the function.  there are 4 spaces\n",
        "# before my_string.  so below the function it says it is not_defined\n",
        "\n",
        "#here you are not calling the function make_uppercase.  you need to add:\n",
        "\n",
        "\n",
        "\n",
        "def make_uppercase(word):\n",
        "    return word.upper()\n",
        "\n",
        "my_string = make_uppercase(\"something very long\")\n",
        "print(my_string)\n",
        "    \n",
        "substring = my_string[9:20]\n",
        "print(substring)\n",
        "\n"
      ],
      "metadata": {
        "colab": {
          "base_uri": "https://localhost:8080/"
        },
        "id": "INdoYhfA0yPB",
        "outputId": "51391d82-24fd-468c-f5de-c6e853125dcc"
      },
      "execution_count": 3,
      "outputs": [
        {
          "output_type": "stream",
          "name": "stdout",
          "text": [
            "SOMETHING VERY LONG\n",
            " VERY LONG\n"
          ]
        }
      ]
    },
    {
      "cell_type": "code",
      "source": [],
      "metadata": {
        "id": "p0XDx22v0wHW"
      },
      "execution_count": null,
      "outputs": []
    }
  ]
}