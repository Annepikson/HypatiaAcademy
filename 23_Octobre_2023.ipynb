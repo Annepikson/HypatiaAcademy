{
  "cells": [
    {
      "cell_type": "markdown",
      "metadata": {
        "id": "view-in-github",
        "colab_type": "text"
      },
      "source": [
        "<a href=\"https://colab.research.google.com/github/Annepikson/HypatiaAcademy/blob/master/23_Octobre_2023.ipynb\" target=\"_parent\"><img src=\"https://colab.research.google.com/assets/colab-badge.svg\" alt=\"Open In Colab\"/></a>"
      ]
    },
    {
      "cell_type": "code",
      "execution_count": null,
      "metadata": {
        "colab": {
          "base_uri": "https://localhost:8080/"
        },
        "id": "BmPoxkEW6KZt",
        "outputId": "70354c76-5fbe-468b-9a95-56e6c31a812e"
      },
      "outputs": [
        {
          "output_type": "stream",
          "name": "stdout",
          "text": [
            "a= 45 b= 33 c= 12\n",
            "a= 33 b= 12 c= 21\n",
            "s= 21 b= 12 c= 9\n",
            "a= 12 b= 9 c= 3\n",
            "a= 9 b= 3 c= 6\n",
            "a= 6 b= 3 c= 3\n"
          ]
        }
      ],
      "source": [
        "\n",
        "a = 45\n",
        "b = 33\n",
        "c = a-b\n",
        "\n",
        "print(\"a=\",a,\"b=\",b,\"c=\",c)\n",
        "while b != c:\n",
        "  if b > c:\n",
        "    a = b\n",
        "    b = c\n",
        "\n",
        "c = a-b\n",
        "print(\"a=\",a,\"b=\",b,\"c=\",c)\n",
        "if b < c:\n",
        "  a = c\n",
        "c = a-b\n",
        "print(\"s=\",a,\"b=\",b,\"c=\",c)\n",
        "if a > b:\n",
        "  a = b\n",
        "  b = c\n",
        "\n",
        "c = a-b\n",
        "print(\"a=\",a,\"b=\",b,\"c=\",c)\n",
        "\n",
        "if a > b:\n",
        "  a = b\n",
        "  b = c\n",
        "\n",
        "c = a-b\n",
        "print(\"a=\",a,\"b=\",b,\"c=\",c)\n",
        "\n",
        "if b < c:\n",
        "  a = c\n",
        "\n",
        "c = a-b\n",
        "print(\"a=\",a,\"b=\",b,\"c=\",c)"
      ]
    }
  ],
  "metadata": {
    "colab": {
      "provenance": [],
      "authorship_tag": "ABX9TyPVNhGIkneWyH0Jo0isYirW",
      "include_colab_link": true
    },
    "kernelspec": {
      "display_name": "Python 3",
      "name": "python3"
    },
    "language_info": {
      "name": "python"
    }
  },
  "nbformat": 4,
  "nbformat_minor": 0
}