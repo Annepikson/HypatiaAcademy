{
 "cells": [
  {
   "cell_type": "markdown",
   "metadata": {},
   "source": [
    "# VARIABLES"
   ]
  },
  {
   "cell_type": "markdown",
   "metadata": {},
   "source": [
    "Οι υπολογιστές, χρησιμοποιύν τις μεταβλητές (Variables) για να αποθηκεύουν πληροφορίες. Μπορούν να παρομοιαστύν με κινούμενα κουτιά αφού έχουν περιεχόμενο και όνομα που μας λέει τί περιέχει. \n",
    "* Αν θέλουμε η ονομασία να έχει παραπάνω απο 1 λέχεις βάζουμε _\n",
    "* Πρέπει να δώσουμε όνομα και αξία στην μεταβλητή. "
   ]
  },
  {
   "cell_type": "code",
   "execution_count": 1,
   "metadata": {},
   "outputs": [
    {
     "name": "stdout",
     "output_type": "stream",
     "text": [
      "Monday\n"
     ]
    }
   ],
   "source": [
    "day=\"Monday\"\n",
    "print(day)"
   ]
  },
  {
   "cell_type": "code",
   "execution_count": null,
   "metadata": {},
   "outputs": [],
   "source": []
  }
 ],
 "metadata": {
  "kernelspec": {
   "display_name": "Python 3",
   "language": "python",
   "name": "python3"
  },
  "language_info": {
   "codemirror_mode": {
    "name": "ipython",
    "version": 3
   },
   "file_extension": ".py",
   "mimetype": "text/x-python",
   "name": "python",
   "nbconvert_exporter": "python",
   "pygments_lexer": "ipython3",
   "version": "3.8.2"
  }
 },
 "nbformat": 4,
 "nbformat_minor": 4
}
