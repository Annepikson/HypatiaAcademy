{
 "cells": [
  {
   "cell_type": "markdown",
   "metadata": {},
   "source": [
    "# Character Encoding"
   ]
  },
  {
   "cell_type": "markdown",
   "metadata": {},
   "source": [
    "Αν και μπορεί να είναι περίπλοκο, είναι απαραίτητο να κατανοήσουμε την κωδικοποίηση δεκαεξαδικών, δυαδικών, ascii και unicode.\n",
    "\n",
    "Οι υπολογιστές και τα smartphone χρησιμοποιούν σήμερα το UTF-8 ως επί το πλείστον. Έτσι μπορούν να εμφανίσουν κινέζικα, αραβικά, ελληνικά και όλες τις γλώσσες. Πριν από αυτό είχαμε μόλις ASCII.\n",
    "\n",
    "Το ASCII εμπίπτει σε δύο κατηγορίες: με δυνατότητα προβολής και χωρίς δυνατότητα εμφάνισης, όπως ροές γραμμής.\n",
    "\n",
    "Αυτοί είναι οι εμφανιζόμενοι χαρακτήρες ASCII. Είναι ψηφία των γραμμάτων a-Z συν το ερωτηματικό κ.λπ.\n"
   ]
  },
  {
   "cell_type": "code",
   "execution_count": 1,
   "metadata": {},
   "outputs": [
    {
     "name": "stdout",
     "output_type": "stream",
     "text": [
      " ,!,\",#,$,%,&,',(,),*,+,,,-,.,/,0,1,2,3,4,5,6,7,8,9,:,;,<,=,>,?,@,A,B,C,D,E,F,G,H,I,J,K,L,M,N,O,P,Q,R,S,T,U,V,W,X,Y,Z,[,\\,],^,_,`,a,b,c,d,e,f,g,h,i,j,k,l,m,n,o,p,q,r,s,t,u,v,w,x,y,z,{,|,},"
     ]
    }
   ],
   "source": [
    "for i in range(32,126,1):\n",
    "    print(chr(i),end=\",\")"
   ]
  },
  {
   "cell_type": "markdown",
   "metadata": {},
   "source": [
    "A: Ένα παράδεγμα, είναι ο κωδικός ASCII 65. Μπορείτε να το εκτυπώσετε χρησιμοποιώντας τη συνάρτηση chr."
   ]
  },
  {
   "cell_type": "code",
   "execution_count": 2,
   "metadata": {},
   "outputs": [
    {
     "name": "stdout",
     "output_type": "stream",
     "text": [
      "chr(65)= A\n"
     ]
    }
   ],
   "source": [
    "print('chr(65)=', chr(65))"
   ]
  },
  {
   "cell_type": "markdown",
   "metadata": {},
   "source": [
    "Εδώ εκτυπώνουμε τον κωδικό ASCII που αντιστοιχεί στο γράμμα A."
   ]
  },
  {
   "cell_type": "code",
   "execution_count": 5,
   "metadata": {},
   "outputs": [
    {
     "name": "stdout",
     "output_type": "stream",
     "text": [
      "ord('A') 65\n"
     ]
    },
    {
     "data": {
      "text/plain": [
       "65"
      ]
     },
     "execution_count": 5,
     "metadata": {},
     "output_type": "execute_result"
    }
   ],
   "source": [
    "print(\"ord('A')\",ord('A'))\n",
    "ord('A')"
   ]
  },
  {
   "cell_type": "markdown",
   "metadata": {},
   "source": [
    "# Special characters"
   ]
  },
  {
   "cell_type": "markdown",
   "metadata": {},
   "source": [
    "\n",
    "386/5000\n",
    "Ορισμένοι αριθμοί έχουν ειδικές λειτουργίες, όπως καρτέλα ή νέα γραμμή. Στους παλιούς υπολογιστές υπήρχε ένα κουδούνι. Και σήμερα έχουμε emoji.\n",
    "\n",
    "Το \\ n είναι μια γραμμή τροφοδοσίας και μια νέα γραμμή παραθύρων. Αυτό αναγκάζει το κείμενο να αλλάξει γραμμή.\n",
    "\n",
    "Βάζετε μια ανάστροφη κάθετο μπροστά από το n για να δείξετε ότι πρόκειται για έναν ειδικό χαρακτήρα. Αυτό ονομάζεται διαφυγή του χαρακτήρα. Έτσι, ο \\ είναι ο χαρακτήρας διαφυγής."
   ]
  },
  {
   "cell_type": "code",
   "execution_count": 6,
   "metadata": {},
   "outputs": [
    {
     "name": "stdout",
     "output_type": "stream",
     "text": [
      "\t indent me\n",
      "\n",
      " here put a blank line before me and after me\n",
      "\n",
      "The tab \\t has ASCII code= 9\n"
     ]
    }
   ],
   "source": [
    "print('\\t indent me') \n",
    "\n",
    "print('\\n here put a blank line before me and after me\\n')\n",
    "\n",
    " \n",
    "\n",
    "print('The tab \\\\t has ASCII code=',ord('\\t'))"
   ]
  },
  {
   "cell_type": "markdown",
   "metadata": {},
   "source": [
    "# Unicode Και UTF-8"
   ]
  },
  {
   "cell_type": "markdown",
   "metadata": {},
   "source": [
    "Το Unicode είναι ένα πρότυπο. Το UTF-8 είναι ένα υποσύνολο αυτού. Βασικά καλύπτουν όλα τα αλφάβητα και emoji\n",
    "\n",
    "Βάζετε ένα \\ u μπροστά από χαρακτήρες unicode. Γράφουμε αυτόν τον αριθμό σε δεκαεξαδική μορφή. Εξηγούμε εδώ το δεκαεξαδικό σύστημα αρίθμησης.\n",
    "\n",
    "Εδώ εκτυπώνουμε το ελληνικό γράμμα λ χρησιμοποιώντας το unicode val:"
   ]
  },
  {
   "cell_type": "code",
   "execution_count": 7,
   "metadata": {},
   "outputs": [
    {
     "name": "stdout",
     "output_type": "stream",
     "text": [
      "λ\n"
     ]
    }
   ],
   "source": [
    "print('\\u03BB')"
   ]
  },
  {
   "cell_type": "markdown",
   "metadata": {},
   "source": [
    "Εδώ το χρησιμοποιούμε για να το δείξουμε σε δεκαεξαδική μορφή. Το \\ b σημαίνει δυαδική μορφή. Δεδομένου ότι υπάρχουν δύο \\ xs που σημαίνει ότι υπάρχουν δύο byte."
   ]
  },
  {
   "cell_type": "code",
   "execution_count": 8,
   "metadata": {},
   "outputs": [
    {
     "data": {
      "text/plain": [
       "b'\\xce\\xbb'"
      ]
     },
     "execution_count": 8,
     "metadata": {},
     "output_type": "execute_result"
    }
   ],
   "source": [
    "'λ'.encode('utf-8')"
   ]
  },
  {
   "cell_type": "markdown",
   "metadata": {},
   "source": [
    "Παρακάτω μετατρέπουμε την δεκαεξαδική τιμή του λ στην εμφανιζόμενη τιμή\n",
    "\\ x σημαίνει ότι αυτός είναι ένας δεκαεξαδικός αριθμός"
   ]
  },
  {
   "cell_type": "code",
   "execution_count": 10,
   "metadata": {},
   "outputs": [
    {
     "data": {
      "text/plain": [
       "'λ'"
      ]
     },
     "execution_count": 10,
     "metadata": {},
     "output_type": "execute_result"
    }
   ],
   "source": [
    "b'\\xce\\xbb'.decode('utf-8')"
   ]
  },
  {
   "cell_type": "markdown",
   "metadata": {},
   "source": [
    "Εδώ είναι ένα emoji."
   ]
  },
  {
   "cell_type": "code",
   "execution_count": 11,
   "metadata": {},
   "outputs": [
    {
     "data": {
      "text/plain": [
       "b'\\xf0\\x9f\\x98\\xa9'"
      ]
     },
     "execution_count": 11,
     "metadata": {},
     "output_type": "execute_result"
    }
   ],
   "source": [
    "'😩'.encode('utf-8')\n"
   ]
  },
  {
   "cell_type": "markdown",
   "metadata": {},
   "source": [
    "Παρατηρήστε ότι αυτό είναι 4 bites."
   ]
  },
  {
   "cell_type": "code",
   "execution_count": 12,
   "metadata": {},
   "outputs": [
    {
     "data": {
      "text/plain": [
       "'😩'"
      ]
     },
     "execution_count": 12,
     "metadata": {},
     "output_type": "execute_result"
    }
   ],
   "source": [
    "b'\\xf0\\x9f\\x98\\xa9'.decode('utf-8')"
   ]
  },
  {
   "cell_type": "markdown",
   "metadata": {},
   "source": [
    "# Εκτύπωση του ελληνικού αλφαβήτου"
   ]
  },
  {
   "cell_type": "markdown",
   "metadata": {},
   "source": [
    "Εδώ γράφουμε κώδικα για να εκτυπώσουμε το ελληνικό αλφάβητο.\n",
    "\n",
    "Οι χαρακτήρες Ελληνικού Αλφαβήτου είναι χαρακτήρες διπλού byte. Παίρνουν λοιπόν δύο byte αντί για λατινικά γράμματα, που διαρκούν 1.\n",
    "\n",
    "Μπορείτε να δείτε τον κωδικό UTF-8 για καθένα από τα γράμματα του ελληνικού αλφαβήτου εδώ\n",
    "\n",
    "Οι δεκαεξαδικοί αριθμοί για τα ελληνικά γράμματα κυμαίνονται από CE91 έως CF8E. Ωστόσο, παραλείπουμε το CEBF στο CF79 καθώς υπάρχει ένα κενό στη μέση. Στον παρακάτω κώδικα το αντιμετωπίζουμε ρίχνοντας ένα σφάλμα όταν ο υπολογιστής προσπαθεί να τις μετατρέψει σε εμφανιζόμενους χαρακτήρες.\n",
    "\n",
    "Εκτυπώνουμε αυτά εκτυπώνοντας κάθε χαρακτήρα στην περιοχή CE91 έως CF8E. Μετατρέπουμε πρώτα αυτούς τους δύο αριθμούς σε ακέραιους αριθμούς:"
   ]
  },
  {
   "cell_type": "code",
   "execution_count": 13,
   "metadata": {},
   "outputs": [
    {
     "name": "stdout",
     "output_type": "stream",
     "text": [
      "52881 53134\n"
     ]
    }
   ],
   "source": [
    "fr=int(\"0xce91\", 16)\n",
    "to=int(\"0xcf8e\",16)\n",
    "print(fr,to)"
   ]
  },
  {
   "cell_type": "markdown",
   "metadata": {},
   "source": [
    "Βγαίνουμε από την αρχή του εύρους έως το τέλος."
   ]
  },
  {
   "cell_type": "code",
   "execution_count": null,
   "metadata": {},
   "outputs": [],
   "source": [
    "python for i in range(fr,to,1):"
   ]
  },
  {
   "cell_type": "markdown",
   "metadata": {},
   "source": [
    "Εδώ λέμε στην Python να μετατρέψει την τιμή loop i σε δύο byte. Οι μεγαλύτεροι χαρακτήρες στο σύνολο χαρακτήρων UTF-8 απαιτούν 2 bytes. Τα ελληνικά γράμματα απαιτούν 2 bytes."
   ]
  },
  {
   "cell_type": "code",
   "execution_count": 15,
   "metadata": {},
   "outputs": [
    {
     "name": "stdout",
     "output_type": "stream",
     "text": [
      "b'\\xce\\x91'\n"
     ]
    }
   ],
   "source": [
    "twoBytes=fr.to_bytes(2,'big')\n",
    "print(twoBytes)"
   ]
  },
  {
   "cell_type": "markdown",
   "metadata": {},
   "source": [
    "Στη συνέχεια το μετατρέπουμε σε Ελληνικά:"
   ]
  },
  {
   "cell_type": "code",
   "execution_count": 16,
   "metadata": {},
   "outputs": [
    {
     "name": "stdout",
     "output_type": "stream",
     "text": [
      "Α\n"
     ]
    }
   ],
   "source": [
    "decodedTwoBytes=twoBytes.decode('utf-8')\n",
    "print(decodedTwoBytes)"
   ]
  },
  {
   "cell_type": "markdown",
   "metadata": {},
   "source": [
    "Όπως είπαμε, το εύρος fr = int (\"0xce91\", 16) έως = int (\"0xcf8e\", 16) έχει ένα κενό στη μέση που δεν είναι καθόλου χαρακτήρας. Έτσι, αντί για hard code που δοκιμάζουμε και εκτός από τον κώδικα που θα ρίξει και στη συνέχεια θα χειριστεί ένα σφάλμα όταν η Python προσπαθεί να αποκωδικοποιήσει έναν αριθμό που δεν είναι έγκυρο γράμμα UTF-8."
   ]
  },
  {
   "cell_type": "code",
   "execution_count": null,
   "metadata": {},
   "outputs": [],
   "source": [
    "try:\n",
    "except UnicodeDecodeError:\n",
    "       True==True"
   ]
  },
  {
   "cell_type": "markdown",
   "metadata": {},
   "source": [
    "Εδώ είναι ο πλήρης κωδικός."
   ]
  },
  {
   "cell_type": "code",
   "execution_count": 18,
   "metadata": {},
   "outputs": [
    {
     "name": "stdout",
     "output_type": "stream",
     "text": [
      "52881 Α\n",
      "52882 Β\n",
      "52883 Γ\n",
      "52884 Δ\n",
      "52885 Ε\n",
      "52886 Ζ\n",
      "52887 Η\n",
      "52888 Θ\n",
      "52889 Ι\n",
      "52890 Κ\n",
      "52891 Λ\n",
      "52892 Μ\n",
      "52893 Ν\n",
      "52894 Ξ\n",
      "52895 Ο\n",
      "52896 Π\n",
      "52897 Ρ\n",
      "52898 ΢\n",
      "52899 Σ\n",
      "52900 Τ\n",
      "52901 Υ\n",
      "52902 Φ\n",
      "52903 Χ\n",
      "52904 Ψ\n",
      "52905 Ω\n",
      "52906 Ϊ\n",
      "52907 Ϋ\n",
      "52908 ά\n",
      "52909 έ\n",
      "52910 ή\n",
      "52911 ί\n",
      "52912 ΰ\n",
      "52913 α\n",
      "52914 β\n",
      "52915 γ\n",
      "52916 δ\n",
      "52917 ε\n",
      "52918 ζ\n",
      "52919 η\n",
      "52920 θ\n",
      "52921 ι\n",
      "52922 κ\n",
      "52923 λ\n",
      "52924 μ\n",
      "52925 ν\n",
      "52926 ξ\n",
      "52927 ο\n",
      "53120 π\n",
      "53121 ρ\n",
      "53122 ς\n",
      "53123 σ\n",
      "53124 τ\n",
      "53125 υ\n",
      "53126 φ\n",
      "53127 χ\n",
      "53128 ψ\n",
      "53129 ω\n",
      "53130 ϊ\n",
      "53131 ϋ\n",
      "53132 ό\n",
      "53133 ύ\n"
     ]
    }
   ],
   "source": [
    "for i in range(fr,to,1):\n",
    "    try:\n",
    "        twoBytes=i.to_bytes(2,'big')\n",
    "        decodedTwoBytes=twoBytes.decode('utf-8')\n",
    "        print(i,decodedTwoBytes)\n",
    "    except UnicodeDecodeError:\n",
    "       True==True"
   ]
  },
  {
   "cell_type": "markdown",
   "metadata": {},
   "source": [
    "Άσκηση Γράψτε ένα πρόγραμμα για ανάγνωση και εκτύπωση αυτού του κωδικοποιημένου αρχείου UTF-16. (Για ιστορικούς λόγους ορισμένα αρχεία των Windows είναι κωδικοποιημένα UTF-16.) Ανοίξτε τον κατάλογο αρχείων από το Διαδίκτυο ως εξής:"
   ]
  },
  {
   "cell_type": "code",
   "execution_count": 19,
   "metadata": {},
   "outputs": [],
   "source": [
    "import urllib.request\n",
    "\n",
    "f = \"https://raw.githubusercontent.com/werowe/HypatiaAcademy/master/assignment/encoded.txt\"\n",
    "\n",
    "l = urllib.request.urlopen(f)"
   ]
  },
  {
   "cell_type": "code",
   "execution_count": null,
   "metadata": {},
   "outputs": [],
   "source": []
  }
 ],
 "metadata": {
  "kernelspec": {
   "display_name": "Python 3",
   "language": "python",
   "name": "python3"
  },
  "language_info": {
   "codemirror_mode": {
    "name": "ipython",
    "version": 3
   },
   "file_extension": ".py",
   "mimetype": "text/x-python",
   "name": "python",
   "nbconvert_exporter": "python",
   "pygments_lexer": "ipython3",
   "version": "3.8.2"
  }
 },
 "nbformat": 4,
 "nbformat_minor": 4
}
