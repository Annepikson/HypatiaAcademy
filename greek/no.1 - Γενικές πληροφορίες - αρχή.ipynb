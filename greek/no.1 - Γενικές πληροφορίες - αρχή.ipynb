{
 "cells": [
 {
 "cell_type": "markdown",
 "metadata": {},
 "source": [
 "# Γενικές πληροφορίες"
 ]
 },
 {
 "cell_type": "markdown",
 "metadata": {},
 "source": [
 "## Spaces"
 ]
 },
 {
 "cell_type": "markdown",
 "metadata": {},
 "source": [
 "* όταν θέλουμε να τρέξουμε μία λειτουργία που ανήκει μέσα σε μια άλλη, αφήνουμε 4 spaces μπροστά(θα το δούμε και σε επόμενες αναρτήσεις)"
 ]
 },
 {
 "cell_type": "markdown",
 "metadata": {},
 "source": [
 "## Index"
 ]
 },
 {
 "cell_type": "markdown",
 "metadata": {},
 "source": [
 "* παρουσιάζει συνήθως τη θέση ενός αντικειμένου μέσα σε μία λίστα. Τα strings στην pyhton μπορούν να εξηγηθούν ως λίστες με χαρακτήρες. Σε κάθε χαρακτήρα δίνεται ένα index ξεκινώντας από το 0"
 ]
 },
 {
 "cell_type": "markdown",
 "metadata": {},
 "source": [
 "## print()"
 ]
 },
 {
 "cell_type": "markdown",
 "metadata": {},
 "source": [
 "Το χρησιμοποιούμε για να τυπώσουμε κάτι στην οθόνη. Για να τυπώσουμε ένα κείμενο που δεν είναι κάποια μεταβλητή, βάζουμε \"\" μέσα σε (). Πάντα βάζουμε () για να τυπώσουμε οτιδήποτε. Ακόμα και αριθμούς ή μεταβλητές."
  ]
 },
 {
 "cell_type": "code",
 "execution_count": 4,
 "metadata": {},
 "outputs": [
 {
 "name": "stdout",
 "output_type": "stream",
 "text": [
 "We are play ing\n"
 ]
 }
 ],
 "source": [
 "verb=\"play\"\n",
 "print(\"We are \" + verb +\" ing\")"
 ]
 },
 {
 "cell_type": "markdown",
 "metadata": {},
 "source": [
 "* Για να τυπώσει (απεικονίσει) πράγματα, χρησιμοποιεί την κονσόλα (console) - text based enviroment που τα προγράμματα μπορούν να τυπώσουν πράγματα."
  ]
 },
 {
 "cell_type": "markdown",
 "metadata": {},
 "source": [
 "## =, == "
 ]
 },
 {
 "cell_type": "markdown",
 "metadata": {},
 "source": [
 "* Με το μονό = ορίζουμε την αξία, ενώ με το διπλό == λέμε στον υπολογιστή να ελέγξει αν ισχύει η ισότητα.\n",
 "* Με το != μπορούμε να ελέγξουμε αν δεν ισχύει η ισότητα\n",
 "* Μπορούμε να χρησιμοποιήσουμε και τα < >"
 ]
 },
 {
 "cell_type": "markdown",
 "metadata": {},
 "source": [
 "**Αν δεν καταλαβαίνετε κάτι, μην σας ανησυχεί καθόλου!Θα τα δούμε όλα αναλυτικά σιγά :)**"
 ]
 },
 {
 "cell_type": "code",
 "execution_count": null,
 "metadata": {},
 "outputs": [],
 "source": []
 }
],
 "metadata": {
 "kernelspec": {
 "display_name": "Python 3",
 "language": "python",
 "name": "python3"
 },
 "language_info": {
 "codemirror_mode": {
 "name": "ipython",
 "version": 3
  },
 "file_extension": ".py",
 "mimetype": "text/x-python",
 "name": "python",
 "nbconvert_exporter": "python",
 "pygments_lexer": "ipython3",
 "version": "3.8.2"
 }
},
 "nbformat": 4,
 "nbformat_minor": 4
}
