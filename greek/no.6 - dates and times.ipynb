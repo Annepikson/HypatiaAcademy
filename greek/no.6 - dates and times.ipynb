{
 "cells": [
  {
   "cell_type": "markdown",
   "metadata": {},
   "source": [
    "# Dates and Times"
   ]
  },
  {
   "cell_type": "markdown",
   "metadata": {},
   "source": [
    "* Στους υπολογιστές, οι ημερομηνίες είναι ώρες είναι αριθμοί. Αυτό είναι απαραίτητο για να μπορείτε να κάνετε μαθηματικά ημερομηνίας. Με άλλα λόγια, εάν θέλετε να προσθέσετε έναν ορισμένο αριθμό ημερών σε μια ημερομηνία, πρέπει να χρησιμοποιήσετε το αντικείμενο (object) timedelta."
   ]
  },
  {
   "cell_type": "markdown",
   "metadata": {},
   "source": [
    "* Υπάρχουν διαφορετικές τεχνικές αποθήκευσης. Αλλά στις περισσότερες περιπτώσεις μια ημερομηνία είναι ο αριθμός των δευτερολέπτων από αυτήν την ημερομηνία, η οποία ονομάζεται epoch time."
   ]
  },
  {
   "cell_type": "markdown",
   "metadata": {},
   "source": [
    "January 1, 1970, 00:00:00"
   ]
  },
  {
   "cell_type": "markdown",
   "metadata": {},
   "source": [
    "\n",
    "Αυτό δίνει την αρχική epoch time:"
   ]
  },
  {
   "cell_type": "code",
   "execution_count": 1,
   "metadata": {},
   "outputs": [
    {
     "data": {
      "text/plain": [
       "time.struct_time(tm_year=1970, tm_mon=1, tm_mday=1, tm_hour=0, tm_min=0, tm_sec=0, tm_wday=3, tm_yday=1, tm_isdst=0)"
      ]
     },
     "execution_count": 1,
     "metadata": {},
     "output_type": "execute_result"
    }
   ],
   "source": [
    "import time\n",
    "time.gmtime(0)"
   ]
  },
  {
   "cell_type": "code",
   "execution_count": 6,
   "metadata": {},
   "outputs": [
    {
     "name": "stdout",
     "output_type": "stream",
     "text": [
      "2020-08-23\n"
     ]
    }
   ],
   "source": [
    "import datetime\n",
    "\n",
    "print(date.today())"
   ]
  },
  {
   "cell_type": "markdown",
   "metadata": {},
   "source": [
    "* Δείτε πώς δημιουργείτε ένα αντικείμενο ημερομηνίας. Μπορείτε να βάλετε το έτος, το μήνα, την ημερομηνία ή μπορείτε να βάλετε τα ονόματα των παραμέτρων που το καθιστούν ευκολότερο από το να θυμάστε ποια σειρά απαιτούνται."
   ]
  },
  {
   "cell_type": "code",
   "execution_count": 7,
   "metadata": {},
   "outputs": [
    {
     "name": "stdout",
     "output_type": "stream",
     "text": [
      "2020-12-05\n",
      "2020-12-05\n"
     ]
    }
   ],
   "source": [
    "print(datetime.date(year=2020, month=12, day=5))\n",
    "print(datetime.date(2020, 12, 5))"
   ]
  },
  {
   "cell_type": "markdown",
   "metadata": {},
   "source": [
    "\n",
    "* Εδώ είναι η τρέχουσα ημερομηνία:"
   ]
  },
  {
   "cell_type": "code",
   "execution_count": 8,
   "metadata": {},
   "outputs": [
    {
     "name": "stdout",
     "output_type": "stream",
     "text": [
      "2020-08-23\n"
     ]
    }
   ],
   "source": [
    "d=date.today()\n",
    "print(d.isoformat())"
   ]
  },
  {
   "cell_type": "markdown",
   "metadata": {},
   "source": [
    "\n",
    "* Εκτύπωση ημερομηνίας σε μορφή έτους-μήνα-ημέρας."
   ]
  },
  {
   "cell_type": "code",
   "execution_count": 9,
   "metadata": {},
   "outputs": [
    {
     "data": {
      "text/plain": [
       "'2020-Aug-23'"
      ]
     },
     "execution_count": 9,
     "metadata": {},
     "output_type": "execute_result"
    }
   ],
   "source": [
    "d.strftime('%Y-%h-%d')"
   ]
  },
  {
   "cell_type": "markdown",
   "metadata": {},
   "source": [
    "## Formating Dates"
   ]
  },
  {
   "cell_type": "markdown",
   "metadata": {},
   "source": [
    "* Εδώ είναι η πλήρης λίστα και οι κωδικοί μορφοποίησης ώρας. Για παράδειγμα, μπορείτε να δείτε ότι το% A σημαίνει να γράψετε το πλήρες όνομα της ημέρας και όχι το συντομευμένο όνομα. % x σημαίνει εκτύπωση σύμφωνα με τις τοπικές ρυθμίσεις."
   ]
  },
  {
   "cell_type": "code",
   "execution_count": 10,
   "metadata": {},
   "outputs": [
    {
     "data": {
      "text/plain": [
       "'Sun Sunday 0 23 Aug August 08 20 2020 00 12 AM 00 00 000000   236 34 33 Sun Aug 23 00:00:00 2020 00:00:00 08/23/20'"
      ]
     },
     "execution_count": 10,
     "metadata": {},
     "output_type": "execute_result"
    }
   ],
   "source": [
    "d.strftime('%a %A %w %d %b %B %m %y %Y %H %I %p %M %S %f %Z %z %j %U %W %c %X %x')"
   ]
  },
  {
   "cell_type": "markdown",
   "metadata": {},
   "source": [
    "\n",
    "* Προχωρήστε μπροστά μία εβδομάδα."
   ]
  },
  {
   "cell_type": "code",
   "execution_count": 11,
   "metadata": {},
   "outputs": [
    {
     "name": "stdout",
     "output_type": "stream",
     "text": [
      "2020-08-30\n"
     ]
    }
   ],
   "source": [
    "from datetime import timedelta\n",
    "oneWeek=timedelta(days=7,hours=0, minutes=0, seconds=0, microseconds=0)\n",
    "d=date.today()+oneWeek\n",
    "print(d.isoformat())"
   ]
  },
  {
   "cell_type": "markdown",
   "metadata": {},
   "source": [
    "* Πηγαίνετε πίσω στο χρόνο μία εβδομάδα."
   ]
  },
  {
   "cell_type": "code",
   "execution_count": 12,
   "metadata": {},
   "outputs": [
    {
     "name": "stdout",
     "output_type": "stream",
     "text": [
      "2020-08-16\n"
     ]
    }
   ],
   "source": [
    "from datetime import timedelta\n",
    "oneWeek=timedelta(days=-7,hours=0, minutes=0, seconds=0, microseconds=0)\n",
    "d=date.today()+oneWeek\n",
    "print(d.isoformat())"
   ]
  },
  {
   "cell_type": "code",
   "execution_count": null,
   "metadata": {},
   "outputs": [],
   "source": []
  }
 ],
 "metadata": {
  "kernelspec": {
   "display_name": "Python 3",
   "language": "python",
   "name": "python3"
  },
  "language_info": {
   "codemirror_mode": {
    "name": "ipython",
    "version": 3
   },
   "file_extension": ".py",
   "mimetype": "text/x-python",
   "name": "python",
   "nbconvert_exporter": "python",
   "pygments_lexer": "ipython3",
   "version": "3.8.2"
  }
 },
 "nbformat": 4,
 "nbformat_minor": 4
}
