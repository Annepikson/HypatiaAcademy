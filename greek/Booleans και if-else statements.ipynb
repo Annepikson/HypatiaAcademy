{
 "cells": [
  {
   "cell_type": "markdown",
   "metadata": {},
   "source": [
    "# BOOLEANS"
   ]
  },
  {
   "cell_type": "markdown",
   "metadata": {},
   "source": [
    "*  Μπορούν να είναι True or False."
   ]
  },
  {
   "cell_type": "code",
   "execution_count": 5,
   "metadata": {},
   "outputs": [
    {
     "name": "stdout",
     "output_type": "stream",
     "text": [
      "False\n"
     ]
    }
   ],
   "source": [
    "print(\"apples\"==\"oranges\")"
   ]
  },
  {
   "cell_type": "markdown",
   "metadata": {},
   "source": [
    "Αυτό το False, είναι Boolean"
   ]
  },
  {
   "cell_type": "markdown",
   "metadata": {},
   "source": [
    "* Μπορούμε να αποθηκεύσουμε αυτές τις συγκρίσεις (comparisons) μέσα σε μεταβλητές. "
   ]
  },
  {
   "cell_type": "code",
   "execution_count": 6,
   "metadata": {},
   "outputs": [
    {
     "name": "stdout",
     "output_type": "stream",
     "text": [
      "True\n"
     ]
    }
   ],
   "source": [
    "result=\"apples\"==\"apples\"\n",
    "print(result)"
   ]
  },
  {
   "cell_type": "markdown",
   "metadata": {},
   "source": [
    "Μπορούμε να συγκρίνουμε και μεταβλητές"
   ]
  },
  {
   "cell_type": "code",
   "execution_count": 7,
   "metadata": {},
   "outputs": [
    {
     "name": "stdout",
     "output_type": "stream",
     "text": [
      "False\n"
     ]
    }
   ],
   "source": [
    "number=1\n",
    "result=number==10\n",
    "print(result)"
   ]
  },
  {
   "cell_type": "markdown",
   "metadata": {},
   "source": [
    "* Ένα άλλο παράδειγμα, είναι ο έλεγχος ενός κωδικού πρόσβασης"
   ]
  },
  {
   "cell_type": "code",
   "execution_count": 9,
   "metadata": {},
   "outputs": [
    {
     "name": "stdout",
     "output_type": "stream",
     "text": [
      "False\n"
     ]
    }
   ],
   "source": [
    "password=\"Swordfish\"\n",
    "login_id=password==\"helloworld\"\n",
    "print(login_id)"
   ]
  },
  {
   "cell_type": "markdown",
   "metadata": {},
   "source": [
    "# if-else statements"
   ]
  },
  {
   "cell_type": "markdown",
   "metadata": {},
   "source": [
    "* Τα Booleans είναι πολύ καλά γιατι βοηθούν τα προγράμματα να πάρουν απόφαση αν θα τρέξουν ένα κώδικα ή όχι "
   ]
  },
  {
   "cell_type": "code",
   "execution_count": 13,
   "metadata": {},
   "outputs": [
    {
     "name": "stdout",
     "output_type": "stream",
     "text": [
      "Welcome\n"
     ]
    }
   ],
   "source": [
    "password=\"Swordfish\"\n",
    "if password==\"Swordfish\":\n",
    "    print(\"Welcome\")\n",
    "else:\n",
    "    print(\"Try again\")"
   ]
  },
  {
   "cell_type": "code",
   "execution_count": 18,
   "metadata": {},
   "outputs": [
    {
     "name": "stdout",
     "output_type": "stream",
     "text": [
      "You Passed\n"
     ]
    }
   ],
   "source": [
    "score=100\n",
    "if score<100:\n",
    "    print(\"You need more points\")\n",
    "else:\n",
    "    print(\"You Passed\")"
   ]
  },
  {
   "cell_type": "markdown",
   "metadata": {},
   "source": [
    "* Mπορούμε να χρησιμοποιήσουμε το else για να του πούμε να κάνει κάτι αν δέν ισχύει το πρώτο if"
   ]
  },
  {
   "cell_type": "markdown",
   "metadata": {},
   "source": [
    "* Υπάρχει και το elif (else if) το οποίο μας επιτρέπει να βάλουμε περισσότερες οδηγίες.\n",
    "* Μετά το if μπορούμε να βάλουμε όσα elif θέλουμε"
   ]
  },
  {
   "cell_type": "code",
   "execution_count": 20,
   "metadata": {},
   "outputs": [
    {
     "name": "stdout",
     "output_type": "stream",
     "text": [
      "Good Afternoon\n"
     ]
    }
   ],
   "source": [
    "hour=12\n",
    "if hour < 12:\n",
    "      print(\"Good morning\")\n",
    "elif hour < 17:\n",
    "      print(\"Good Afternoon\")\n",
    "elif hour<21:\n",
    "      print(\"Good Evening\")\n",
    "else:\n",
    "      print(\"Go To Sleep\")"
   ]
  },
  {
   "cell_type": "code",
   "execution_count": null,
   "metadata": {},
   "outputs": [],
   "source": []
  }
 ],
 "metadata": {
  "kernelspec": {
   "display_name": "Python 3",
   "language": "python",
   "name": "python3"
  },
  "language_info": {
   "codemirror_mode": {
    "name": "ipython",
    "version": 3
   },
   "file_extension": ".py",
   "mimetype": "text/x-python",
   "name": "python",
   "nbconvert_exporter": "python",
   "pygments_lexer": "ipython3",
   "version": "3.8.2"
  }
 },
 "nbformat": 4,
 "nbformat_minor": 4
}
