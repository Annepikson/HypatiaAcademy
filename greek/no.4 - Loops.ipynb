{
 "cells": [
  {
   "cell_type": "markdown",
   "metadata": {},
   "source": [
    "# Loops"
   ]
  },
  {
   "cell_type": "markdown",
   "metadata": {},
   "source": [
    "* Ο υπολογιστής με τα loops, μπορεί να τρέξει μιά οδηγία πολλές φορές, χωρίς εμείς να πρέπει να την γράψουμε πολλές φορές. "
   ]
  },
  {
   "cell_type": "markdown",
   "metadata": {},
   "source": [
    "## While"
   ]
  },
  {
   "cell_type": "code",
   "execution_count": null,
   "metadata": {},
   "outputs": [],
   "source": [
    "while true:\n",
    "    print(\"Echo\")"
   ]
  },
  {
   "cell_type": "markdown",
   "metadata": {},
   "source": [
    "* Με αυτό τον τρόπο όμως, το loop θα επαναλαμβάνεται για πάντα, γιατί είναι πάντα true."
   ]
  },
  {
   "cell_type": "code",
   "execution_count": 2,
   "metadata": {},
   "outputs": [
    {
     "name": "stdout",
     "output_type": "stream",
     "text": [
      "Echo\n"
     ]
    }
   ],
   "source": [
    "run=True\n",
    "while run==True:\n",
    "    print(\"Echo\")\n",
    "    run=False"
   ]
  },
  {
   "cell_type": "markdown",
   "metadata": {},
   "source": [
    "*  Με αυτό τον τρόπο, το  loop σταματά απο την πρώτη φορά που τρέχει."
   ]
  },
  {
   "cell_type": "markdown",
   "metadata": {},
   "source": [
    "* Μπορούμε να χρησιμοποιήσουμε το counter variable για να ελέξουμε τις φορές που τρέχει το loop."
   ]
  },
  {
   "cell_type": "code",
   "execution_count": 4,
   "metadata": {},
   "outputs": [
    {
     "name": "stdout",
     "output_type": "stream",
     "text": [
      "1\n",
      "2\n"
     ]
    }
   ],
   "source": [
    "number = 1\n",
    "while number < 3:\n",
    "    print(number)\n",
    "    number=number+1"
   ]
  },
  {
   "cell_type": "markdown",
   "metadata": {},
   "source": [
    "* Με αυτό τον τρόπο, το  loop σταματά πρίν τον αριθμό 3. Αν θέλαμε να σταματά στο 3, θα βάζαμε <= αντί < ή != για άνισο"
   ]
  },
  {
   "cell_type": "markdown",
   "metadata": {},
   "source": [
    "* Αν θέλαμε να αφαιρεί απο τον αριθμό αντί να προσθέτει θα βάζαμε  number=number-1"
   ]
  },
  {
   "cell_type": "markdown",
   "metadata": {},
   "source": [
    "## for in"
   ]
  },
  {
   "cell_type": "markdown",
   "metadata": {},
   "source": [
    "* Με το for in μπορούμε να εκτελέσουμε το  loop με έναν συγκεκριμένο αριθμό. Για αυτή την πράξη, χρησιμοποιούμε το range."
   ]
  },
  {
   "cell_type": "code",
   "execution_count": 6,
   "metadata": {},
   "outputs": [
    {
     "name": "stdout",
     "output_type": "stream",
     "text": [
      "1\n",
      "2\n",
      "3\n"
     ]
    }
   ],
   "source": [
    "for number in range(1,4,1):\n",
    "    print(number)"
   ]
  },
  {
   "cell_type": "markdown",
   "metadata": {},
   "source": [
    "* Μέσα στην παρένθεση, μπαίνουν 3 αριθμοί:"
   ]
  },
  {
   "cell_type": "markdown",
   "metadata": {},
   "source": [
    "1 **Start** - Λέει στον υπολιγιστή απο ποίον αριθμό να ξεκινήσει.\n",
    "\n",
    "2 **Stop** - Λέει στον υπολογιστή να τελειώσει στον προηγούμενο αριθμό απο αυτόν\n",
    "\n",
    "3 **Step**- Λέει στον υπολογιστή πόσο μεγάλο να είναι το πήδημα μεταξύ των αριθμών."
   ]
  },
  {
   "cell_type": "code",
   "execution_count": null,
   "metadata": {},
   "outputs": [],
   "source": []
  }
 ],
 "metadata": {
  "kernelspec": {
   "display_name": "Python 3",
   "language": "python",
   "name": "python3"
  },
  "language_info": {
   "codemirror_mode": {
    "name": "ipython",
    "version": 3
   },
   "file_extension": ".py",
   "mimetype": "text/x-python",
   "name": "python",
   "nbconvert_exporter": "python",
   "pygments_lexer": "ipython3",
   "version": "3.8.2"
  }
 },
 "nbformat": 4,
 "nbformat_minor": 4
}
