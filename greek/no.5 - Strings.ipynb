{
 "cells": [
  {
   "cell_type": "markdown",
   "metadata": {},
   "source": [
    "# STRINGS"
   ]
  },
  {
   "cell_type": "markdown",
   "metadata": {},
   "source": [
    "* Χρησιμοποιούμε \"\" για να δημιουργήσουμε μεταβλητές τύπου string. \n",
    "* Μπορούμε να βάλουμε μαζί 2 μεταβλητές χρησιμοποιόντας το +\n",
    "* Για να τυπώσουμε κάτι που δέν είναι εvός είδους μόνο, πχ τυπώνουμε string και αριθμό, χρησιμοποιούμε το str() για να μετατρέψουμε τον αριμό σε  string"
   ]
  },
  {
   "cell_type": "code",
   "execution_count": 4,
   "metadata": {},
   "outputs": [
    {
     "name": "stdout",
     "output_type": "stream",
     "text": [
      "Scene 24\n"
     ]
    }
   ],
   "source": [
    "string=\"Scene \"\n",
    "number=24\n",
    "print(string+str(number))"
   ]
  },
  {
   "cell_type": "markdown",
   "metadata": {},
   "source": [
    "* Μπορούμε να επαναλάβουμε ένα string με το *"
   ]
  },
  {
   "cell_type": "code",
   "execution_count": 5,
   "metadata": {},
   "outputs": [
    {
     "name": "stdout",
     "output_type": "stream",
     "text": [
      "Scene Scene Scene \n"
     ]
    }
   ],
   "source": [
    "print(string * 3)"
   ]
  },
  {
   "cell_type": "markdown",
   "metadata": {},
   "source": [
    "* Επειδή τα strings μπορούν να γίνουν πολύ μεγάλα, το len() μας μετρά τους χααρακτήρες του."
   ]
  },
  {
   "cell_type": "code",
   "execution_count": 8,
   "metadata": {},
   "outputs": [
    {
     "name": "stdout",
     "output_type": "stream",
     "text": [
      "32\n"
     ]
    }
   ],
   "source": [
    "title=\"Mothly Python High Flying Circus\"\n",
    "print(len(title))"
   ]
  },
  {
   "cell_type": "markdown",
   "metadata": {},
   "source": [
    "* Κάθε χαρακτήρας σε ένα string, έχει μία τοποθεσία (position), και μπορούμε να βάλουμε[ ] για να βρούμε το αντικείμενο:"
   ]
  },
  {
   "cell_type": "code",
   "execution_count": 10,
   "metadata": {},
   "outputs": [
    {
     "name": "stdout",
     "output_type": "stream",
     "text": [
      "C\n",
      "i\n"
     ]
    }
   ],
   "source": [
    "name=\"Captain Future\"\n",
    "character=name[0]\n",
    "print(character)\n",
    "print(name[5])"
   ]
  },
  {
   "cell_type": "markdown",
   "metadata": {},
   "source": [
    "* Μπορούμε να δώσουμε οδηγία να τυπώσει απο ένα χαρακτήρα μέχρι έναν άλλο. του λέμε ποιούς χαρκτήρες με τους δέικτες (index) και χρησιμοποιούμε ένα :"
   ]
  },
  {
   "cell_type": "code",
   "execution_count": 12,
   "metadata": {},
   "outputs": [
    {
     "name": "stdout",
     "output_type": "stream",
     "text": [
      "Captain\n"
     ]
    }
   ],
   "source": [
    "rank=name[0:7]\n",
    "print(rank)"
   ]
  },
  {
   "cell_type": "markdown",
   "metadata": {},
   "source": [
    "* **.replace** – μπορούμε να αντικαταστήσουμε κομμάτια του string με αυτό. "
   ]
  },
  {
   "cell_type": "code",
   "execution_count": 13,
   "metadata": {},
   "outputs": [
    {
     "name": "stdout",
     "output_type": "stream",
     "text": [
      "What is your quest\n"
     ]
    }
   ],
   "source": [
    "q=\"What is your name\"\n",
    "q=q.replace(\"name\", \"quest\")\n",
    "print(q)"
   ]
  },
  {
   "cell_type": "markdown",
   "metadata": {},
   "source": [
    "* Αν θέλουμε να βάλουμε line break εντός ενός string, χρησιμοποιούμε το /n"
   ]
  },
  {
   "cell_type": "code",
   "execution_count": 18,
   "metadata": {},
   "outputs": [
    {
     "name": "stdout",
     "output_type": "stream",
     "text": [
      "Arthur,king of britons\n",
      " Hello World!\n"
     ]
    }
   ],
   "source": [
    "a=\"Arthur,king of britons\\n\"\n",
    "b=\"Hello World!\"\n",
    "print(a,b)"
   ]
  },
  {
   "cell_type": "markdown",
   "metadata": {},
   "source": [
    "* Αν βάλουμε σκέτο print() αφήνει μία γραμμή και αν βάλουμε μέσα \\n αφήνει 2"
   ]
  },
  {
   "cell_type": "code",
   "execution_count": 21,
   "metadata": {},
   "outputs": [
    {
     "name": "stdout",
     "output_type": "stream",
     "text": [
      "Arthur,king of britons\n",
      "\n",
      "Hello World!\n"
     ]
    }
   ],
   "source": [
    "c=\"Arthur,king of britons\"\n",
    "d=\"Hello World!\"\n",
    "print(c)\n",
    "print()\n",
    "print(d)"
   ]
  },
  {
   "cell_type": "markdown",
   "metadata": {},
   "source": [
    "* Αν θέλουμε να αποτρέψουμε το line break, βάζουμε \\ σαν γράφουμε"
   ]
  },
  {
   "cell_type": "markdown",
   "metadata": {},
   "source": [
    "* Κάποιες φορές, μπορεί να μήν θέλουμε να αλλάξει γραμμή, έστω και αν βάλουμε το /n. Γι’ αυτό υπάρχουν τα raw strings. Για να δημιουργήσουμε ένα, πρέπει πρίν τα “” να  βάλουμε ένα r"
   ]
  },
  {
   "cell_type": "markdown",
   "metadata": {},
   "source": [
    "* Αν θέλουμε να τυπωθεί το \\n και όχι να αλλάξει η γραμμή, βάζουμε \\\\n"
   ]
  },
  {
   "cell_type": "code",
   "execution_count": null,
   "metadata": {},
   "outputs": [],
   "source": []
  }
 ],
 "metadata": {
  "kernelspec": {
   "display_name": "Python 3",
   "language": "python",
   "name": "python3"
  },
  "language_info": {
   "codemirror_mode": {
    "name": "ipython",
    "version": 3
   },
   "file_extension": ".py",
   "mimetype": "text/x-python",
   "name": "python",
   "nbconvert_exporter": "python",
   "pygments_lexer": "ipython3",
   "version": "3.8.2"
  }
 },
 "nbformat": 4,
 "nbformat_minor": 4
}
