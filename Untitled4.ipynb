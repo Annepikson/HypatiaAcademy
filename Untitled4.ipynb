{
  "nbformat": 4,
  "nbformat_minor": 0,
  "metadata": {
    "colab": {
      "provenance": [],
      "authorship_tag": "ABX9TyP4MnloDdzr4bmPJfGTEA/A",
      "include_colab_link": true
    },
    "kernelspec": {
      "name": "python3",
      "display_name": "Python 3"
    },
    "language_info": {
      "name": "python"
    }
  },
  "cells": [
    {
      "cell_type": "markdown",
      "metadata": {
        "id": "view-in-github",
        "colab_type": "text"
      },
      "source": [
        "<a href=\"https://colab.research.google.com/github/Annepikson/HypatiaAcademy/blob/master/Untitled4.ipynb\" target=\"_parent\"><img src=\"https://colab.research.google.com/assets/colab-badge.svg\" alt=\"Open In Colab\"/></a>"
      ]
    },
    {
      "cell_type": "code",
      "source": [
        "import numpy as np"
      ],
      "metadata": {
        "id": "gZTrT28Wi1DC"
      },
      "execution_count": 11,
      "outputs": []
    },
    {
      "cell_type": "code",
      "execution_count": 12,
      "metadata": {
        "colab": {
          "base_uri": "https://localhost:8080/"
        },
        "id": "0m95cNZGh7j6",
        "outputId": "9ddbb9e5-b960-489c-fcfe-870b43b4c256"
      },
      "outputs": [
        {
          "output_type": "stream",
          "name": "stdout",
          "text": [
            "dim 2\n",
            "shape (2, 5)\n"
          ]
        }
      ],
      "source": [
        "y = np.array([[1, 2, 3, 4, 5],\n",
        "              [1, 2, 3, 4, 5]])\n",
        "\n",
        "print(\"dim\",y.ndim)\n",
        "print(\"shape\", y.shape)"
      ]
    },
    {
      "cell_type": "code",
      "source": [
        "y = np.array([[[1, 2, 3, 4, 5],\n",
        "              [1, 2, 3, 4, 5]]])\n",
        "\n",
        "print(\"dim\",y.ndim)\n",
        "print(\"shape\", y.shape)"
      ],
      "metadata": {
        "colab": {
          "base_uri": "https://localhost:8080/"
        },
        "id": "xYPtJkQ1i-ln",
        "outputId": "da654134-0b27-4693-b9b6-c75bd3defd4e"
      },
      "execution_count": 13,
      "outputs": [
        {
          "output_type": "stream",
          "name": "stdout",
          "text": [
            "dim 3\n",
            "shape (1, 2, 5)\n"
          ]
        }
      ]
    },
    {
      "cell_type": "code",
      "source": [
        "y = np.array([[[[1, 2, 3, 4, 5],\n",
        "              [1, 2, 3, 4, 5]]]])\n",
        "\n",
        "print(\"dim\",y.ndim)\n",
        "print(\"shape\", y.shape)"
      ],
      "metadata": {
        "colab": {
          "base_uri": "https://localhost:8080/"
        },
        "id": "_PrFixHSjbFM",
        "outputId": "4b0443c2-adae-4196-c9c1-d8263cbd2959"
      },
      "execution_count": 14,
      "outputs": [
        {
          "output_type": "stream",
          "name": "stdout",
          "text": [
            "dim 4\n",
            "shape (1, 1, 2, 5)\n"
          ]
        }
      ]
    }
  ]
}