{
  "nbformat": 4,
  "nbformat_minor": 0,
  "metadata": {
    "colab": {
      "provenance": [],
      "authorship_tag": "ABX9TyPOQadYQy7WsONmoRESOMzg",
      "include_colab_link": true
    },
    "kernelspec": {
      "name": "python3",
      "display_name": "Python 3"
    },
    "language_info": {
      "name": "python"
    }
  },
  "cells": [
    {
      "cell_type": "markdown",
      "metadata": {
        "id": "view-in-github",
        "colab_type": "text"
      },
      "source": [
        "<a href=\"https://colab.research.google.com/github/werowe/HypatiaAcademy/blob/master/numpy/10_july_2023_numpy_matrices_indexing.ipynb\" target=\"_parent\"><img src=\"https://colab.research.google.com/assets/colab-badge.svg\" alt=\"Open In Colab\"/></a>"
      ]
    },
    {
      "cell_type": "code",
      "execution_count": 5,
      "metadata": {
        "colab": {
          "base_uri": "https://localhost:8080/"
        },
        "id": "LYMy4p2CzNS0",
        "outputId": "23a8cd5e-73a7-43af-d3f9-91491b4866c3"
      },
      "outputs": [
        {
          "output_type": "execute_result",
          "data": {
            "text/plain": [
              "array([[-16,  20],\n",
              "       [ 16,   2]])"
            ]
          },
          "metadata": {},
          "execution_count": 5
        }
      ],
      "source": [
        "import numpy as np\n",
        "\n",
        "a = np.array([[2 , -2], [5, 3]] )\n",
        "b = np.array([[-1 , 4], [7, -6]] )\n",
        "\n",
        "np.dot(a,b)"
      ]
    },
    {
      "cell_type": "code",
      "source": [
        "np.matmul(a,b)"
      ],
      "metadata": {
        "colab": {
          "base_uri": "https://localhost:8080/"
        },
        "id": "W0rgLLawz7oI",
        "outputId": "94f965a3-8d37-4aaa-d7e4-d98a69294126"
      },
      "execution_count": 6,
      "outputs": [
        {
          "output_type": "execute_result",
          "data": {
            "text/plain": [
              "array([[-16,  20],\n",
              "       [ 16,   2]])"
            ]
          },
          "metadata": {},
          "execution_count": 6
        }
      ]
    },
    {
      "cell_type": "code",
      "source": [
        "v1 = np.array([1,2])\n",
        "v2 = np.array([3,\n",
        "               4])\n",
        "\n",
        "1*3+2*4\n",
        "\n",
        "np.dot(v1,v2)"
      ],
      "metadata": {
        "colab": {
          "base_uri": "https://localhost:8080/"
        },
        "id": "21BY0yT21LzX",
        "outputId": "df687047-4190-4f93-c0d0-5f86c499b405"
      },
      "execution_count": 8,
      "outputs": [
        {
          "output_type": "execute_result",
          "data": {
            "text/plain": [
              "11"
            ]
          },
          "metadata": {},
          "execution_count": 8
        }
      ]
    },
    {
      "cell_type": "code",
      "source": [
        "a = np.arange(12)**2  # the first 12 square numbers\n",
        "print(\"a\", a)\n",
        "\n",
        "i = np.array([1, 1, 3, 8, 5, 2])  # an array of indices\n",
        "\n",
        "print(\"\\na[i]\", a[i])  # the elements of `a` at the positions `i`\n",
        "\n",
        "\n",
        "j = np.array([[3, 4], [9, 7]])  # a bidimensional array of indices\n",
        "print(\"\\na[j]\",a[j])  # the same shape as `j`\n"
      ],
      "metadata": {
        "colab": {
          "base_uri": "https://localhost:8080/"
        },
        "id": "QqAc9ED12n0l",
        "outputId": "5aa0a077-7220-4827-bae4-a03c94083322"
      },
      "execution_count": 15,
      "outputs": [
        {
          "output_type": "stream",
          "name": "stdout",
          "text": [
            "a [  0   1   4   9  16  25  36  49  64  81 100 121]\n",
            "\n",
            "a[i] [ 1  1  9 64 25  4]\n",
            "\n",
            "a[j] [[ 9 16]\n",
            " [81 49]]\n"
          ]
        }
      ]
    },
    {
      "cell_type": "code",
      "source": [
        "palette = np.array([[0, 0, 0],         # black\n",
        "                    [255, 0, 0],       # red\n",
        "                    [0, 255, 0],       # green\n",
        "                    [0, 0, 255],       # blue\n",
        "                    [255, 255, 255]])  # white\n",
        "image = np.array([[0, 1, 2, 0],  # each value corresponds to a color in the palette\n",
        "                  [0, 3, 4, 0]])\n",
        "palette[image]  # the (2, 4, 3) color image"
      ],
      "metadata": {
        "colab": {
          "base_uri": "https://localhost:8080/"
        },
        "id": "IwcajOHw3I9F",
        "outputId": "d4e577c4-5618-4a84-dd4d-05c694a0e992"
      },
      "execution_count": 17,
      "outputs": [
        {
          "output_type": "execute_result",
          "data": {
            "text/plain": [
              "array([[[  0,   0,   0],\n",
              "        [255,   0,   0],\n",
              "        [  0, 255,   0],\n",
              "        [  0,   0,   0]],\n",
              "\n",
              "       [[  0,   0,   0],\n",
              "        [  0,   0, 255],\n",
              "        [255, 255, 255],\n",
              "        [  0,   0,   0]]])"
            ]
          },
          "metadata": {},
          "execution_count": 17
        }
      ]
    },
    {
      "cell_type": "code",
      "source": [
        "image"
      ],
      "metadata": {
        "colab": {
          "base_uri": "https://localhost:8080/"
        },
        "id": "kJcxWHgt4ux0",
        "outputId": "59053bc2-e11e-46c5-9137-04e884e6731e"
      },
      "execution_count": 26,
      "outputs": [
        {
          "output_type": "execute_result",
          "data": {
            "text/plain": [
              "array([[0, 1, 2, 0],\n",
              "       [0, 3, 4, 0]])"
            ]
          },
          "metadata": {},
          "execution_count": 26
        }
      ]
    },
    {
      "cell_type": "code",
      "source": [
        "palette.shape\n",
        "np.array([ 0,   0,   0]).shape"
      ],
      "metadata": {
        "colab": {
          "base_uri": "https://localhost:8080/"
        },
        "id": "PYKM-mU35iBV",
        "outputId": "92c5cc3e-1a35-4c18-fa25-f7b93bc33ae1"
      },
      "execution_count": 24,
      "outputs": [
        {
          "output_type": "execute_result",
          "data": {
            "text/plain": [
              "(3,)"
            ]
          },
          "metadata": {},
          "execution_count": 24
        }
      ]
    }
  ]
}