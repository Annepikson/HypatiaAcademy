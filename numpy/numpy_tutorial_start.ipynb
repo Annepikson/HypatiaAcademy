{
  "cells": [
    {
      "cell_type": "markdown",
      "metadata": {
        "id": "view-in-github",
        "colab_type": "text"
      },
      "source": [
        "<a href=\"https://colab.research.google.com/github/werowe/HypatiaAcademy/blob/master/numpy/numpy_tutorial_start.ipynb\" target=\"_parent\"><img src=\"https://colab.research.google.com/assets/colab-badge.svg\" alt=\"Open In Colab\"/></a>"
      ]
    },
    {
      "cell_type": "markdown",
      "id": "22813ac4",
      "metadata": {
        "id": "22813ac4"
      },
      "source": [
        "https://numpy.org/devdocs/user/quickstart.html\n"
      ]
    },
    {
      "cell_type": "code",
      "source": [
        "import numpy as np\n",
        "\n",
        "arr=np.array([[2,1,4],\n",
        "              [2,1,4],\n",
        "              [3,4,5]],dtype=np.int16)\n",
        "\n"
      ],
      "metadata": {
        "id": "WOWoDiThwCaH"
      },
      "id": "WOWoDiThwCaH",
      "execution_count": 18,
      "outputs": []
    },
    {
      "cell_type": "code",
      "execution_count": 16,
      "id": "8f176d30",
      "metadata": {
        "id": "8f176d30",
        "outputId": "f0c44c72-b6e6-47d4-b1f9-e33bb4c22f7c",
        "colab": {
          "base_uri": "https://localhost:8080/"
        }
      },
      "outputs": [
        {
          "output_type": "execute_result",
          "data": {
            "text/plain": [
              "(3, 3)"
            ]
          },
          "metadata": {},
          "execution_count": 16
        }
      ],
      "source": [
        "#dimensions\n",
        "\n",
        "arr.shape\n",
        ""
      ]
    },
    {
      "cell_type": "code",
      "execution_count": 19,
      "id": "b97bf0a8",
      "metadata": {
        "id": "b97bf0a8",
        "outputId": "f907e2fa-fb12-48f5-9bc6-c1d8ca28312d",
        "colab": {
          "base_uri": "https://localhost:8080/"
        }
      },
      "outputs": [
        {
          "output_type": "execute_result",
          "data": {
            "text/plain": [
              "2"
            ]
          },
          "metadata": {},
          "execution_count": 19
        }
      ],
      "source": [
        "#axes.  why is this not 3?\n",
        "\n",
        "arr.ndim"
      ]
    },
    {
      "cell_type": "code",
      "execution_count": 23,
      "id": "369eb9f0",
      "metadata": {
        "id": "369eb9f0",
        "outputId": "a099da0a-d330-40ac-a88f-838137fee5f1",
        "colab": {
          "base_uri": "https://localhost:8080/"
        }
      },
      "outputs": [
        {
          "output_type": "stream",
          "name": "stdout",
          "text": [
            "[ 0  1  2  3  4  5  6  7  8  9 10 11 12 13 14]\n",
            "[1 1 1 1 1 1 1 1 1 1 1 1 1 1 1]\n",
            "[0. 0. 0. 0. 0. 0. 0. 0. 0. 0. 0. 0. 0. 0. 0.]\n"
          ]
        }
      ],
      "source": [
        "# this creates an array of 15 elements\n",
        "\n",
        "a = np.arange(15)\n",
        "b = np.ones(15,dtype=np.int16)\n",
        "c = np.zeros(15)\n",
        "print(a)\n",
        "print(b)\n",
        "print(c)\n",
        "\n",
        "\n",
        " #.reshape(3, 5)"
      ]
    },
    {
      "cell_type": "code",
      "execution_count": 24,
      "id": "db27858d",
      "metadata": {
        "id": "db27858d",
        "outputId": "1bf0f099-6457-42e9-9b2b-c1232b10db6b",
        "colab": {
          "base_uri": "https://localhost:8080/"
        }
      },
      "outputs": [
        {
          "output_type": "execute_result",
          "data": {
            "text/plain": [
              "(15,)"
            ]
          },
          "metadata": {},
          "execution_count": 24
        }
      ],
      "source": [
        " # a vector has one column.  a matrix has more than one column\n",
        "\n",
        " # since this has 15 rows.  we can divides into 3 * 5\n",
        "\n",
        " a.shape"
      ]
    },
    {
      "cell_type": "code",
      "execution_count": 30,
      "id": "0c4c604b",
      "metadata": {
        "id": "0c4c604b",
        "outputId": "b7d62391-a41b-454e-db82-5e1fe3d70ab5",
        "colab": {
          "base_uri": "https://localhost:8080/"
        }
      },
      "outputs": [
        {
          "output_type": "stream",
          "name": "stdout",
          "text": [
            "shape= (3, 5)\n",
            "axes= 2\n",
            "[[ 0  1  2  3  4]\n",
            " [ 5  6  7  8  9]\n",
            " [10 11 12 13 14]]\n"
          ]
        }
      ],
      "source": [
        " g=a.reshape(3,5)\n",
        " print(\"shape=\", g.shape)\n",
        " print(\"axes=\", g.ndim)\n",
        " print(g)"
      ]
    },
    {
      "cell_type": "code",
      "execution_count": 31,
      "id": "075222a4",
      "metadata": {
        "id": "075222a4",
        "outputId": "207b844c-ec1f-4752-bb1b-bfd99ca8ce2e",
        "colab": {
          "base_uri": "https://localhost:8080/",
          "height": 203
        }
      },
      "outputs": [
        {
          "output_type": "error",
          "ename": "ValueError",
          "evalue": "ignored",
          "traceback": [
            "\u001b[0;31m---------------------------------------------------------------------------\u001b[0m",
            "\u001b[0;31mValueError\u001b[0m                                Traceback (most recent call last)",
            "\u001b[0;32m<ipython-input-31-d550becd4cfe>\u001b[0m in \u001b[0;36m<cell line: 4>\u001b[0;34m()\u001b[0m\n\u001b[1;32m      2\u001b[0m \u001b[0;34m\u001b[0m\u001b[0m\n\u001b[1;32m      3\u001b[0m \u001b[0;31m# shape 3x4 is 3 rows and 4 columns\u001b[0m\u001b[0;34m\u001b[0m\u001b[0;34m\u001b[0m\u001b[0m\n\u001b[0;32m----> 4\u001b[0;31m \u001b[0ma\u001b[0m\u001b[0;34m.\u001b[0m\u001b[0mreshape\u001b[0m\u001b[0;34m(\u001b[0m\u001b[0;36m3\u001b[0m\u001b[0;34m,\u001b[0m\u001b[0;36m4\u001b[0m\u001b[0;34m)\u001b[0m\u001b[0;34m\u001b[0m\u001b[0;34m\u001b[0m\u001b[0m\n\u001b[0m",
            "\u001b[0;31mValueError\u001b[0m: cannot reshape array of size 15 into shape (3,4)"
          ]
        }
      ],
      "source": [
        "# this will produce an error because you can't fit 15 items into 12 places.\n",
        "\n",
        "# shape 3x4 is 3 rows and 4 columns\n",
        "a.reshape(3,4)"
      ]
    },
    {
      "cell_type": "code",
      "source": [
        "# let's use floating point numbers\n",
        "\n",
        "# it means it has a decimal point\n",
        "\n",
        "b = np.array([1.2, 3.5, 5.1])\n"
      ],
      "metadata": {
        "id": "HfblQhxm1ZDX"
      },
      "id": "HfblQhxm1ZDX",
      "execution_count": 32,
      "outputs": []
    },
    {
      "cell_type": "code",
      "execution_count": 33,
      "id": "ea2953cc",
      "metadata": {
        "id": "ea2953cc"
      },
      "outputs": [],
      "source": [
        "# one issue with computers is you cannot represent real numbers\n",
        "\n",
        "# for example the real number 3.333333.....   goes on forever\n",
        "\n",
        "# but the computer cannot do that.  it has to stop at a certain number of digits\n",
        "\n",
        "# 3.3333333333333333333 - 3.333333333 > 0\n",
        "\n",
        "\n",
        "floatingNumber=3.333333"
      ]
    },
    {
      "cell_type": "code",
      "source": [
        "# this wrong because arrays have [] brackets.  functions have parantheses ()\n",
        "\n",
        "# a = np.array(1, 2, 3, 4)    # WRONG\n",
        "\n",
        "a = np.array([1, 2, 3, 4]) # correct\n"
      ],
      "metadata": {
        "id": "FflioIAx2Ez4"
      },
      "id": "FflioIAx2Ez4",
      "execution_count": 34,
      "outputs": []
    },
    {
      "cell_type": "code",
      "source": [
        "#  a tuple is a list of items .  the only difference between a tuple\n",
        "# and a list if you cannot change items in a tuple\n",
        "\n",
        "l = [1,2,3]\n",
        "l[1]=4\n",
        "\n",
        "t=(1.5, 2, 3)"
      ],
      "metadata": {
        "id": "mPZ8bgOn2oZm"
      },
      "id": "mPZ8bgOn2oZm",
      "execution_count": 36,
      "outputs": []
    },
    {
      "cell_type": "code",
      "source": [
        "# what the documentation is saying is that if you use a tuple it will convert it\n",
        "# to an array.  meaning tuples don't exist in numpy\n",
        "\n",
        "\n",
        "b = np.array([(1.5, 2, 3), (4, 5, 6)])\n",
        "\n"
      ],
      "metadata": {
        "id": "pY4efgHg2kT0"
      },
      "id": "pY4efgHg2kT0",
      "execution_count": 35,
      "outputs": []
    },
    {
      "cell_type": "code",
      "source": [
        "# take what is in memory now and make an array out of it.  so it\n",
        "# will just be junk.  not very useful\n",
        "\n",
        "\n",
        "np.empty((2, 3))\n"
      ],
      "metadata": {
        "id": "zKqzGS7Q28n0",
        "outputId": "0b42e73f-729e-4b36-9a42-2084458c500f",
        "colab": {
          "base_uri": "https://localhost:8080/"
        }
      },
      "id": "zKqzGS7Q28n0",
      "execution_count": 38,
      "outputs": [
        {
          "output_type": "execute_result",
          "data": {
            "text/plain": [
              "array([[4.31133145e-316, 0.00000000e+000, 0.00000000e+000],\n",
              "       [0.00000000e+000, 0.00000000e+000, 0.00000000e+000]])"
            ]
          },
          "metadata": {},
          "execution_count": 38
        }
      ]
    },
    {
      "cell_type": "code",
      "source": [
        "np.linspace(1, 9, 3)\n"
      ],
      "metadata": {
        "id": "QFt1w9zF3yVL",
        "outputId": "0f4318a7-a200-42fd-a270-e24525f8c847",
        "colab": {
          "base_uri": "https://localhost:8080/"
        }
      },
      "id": "QFt1w9zF3yVL",
      "execution_count": 42,
      "outputs": [
        {
          "output_type": "execute_result",
          "data": {
            "text/plain": [
              "array([1., 5., 9.])"
            ]
          },
          "metadata": {},
          "execution_count": 42
        }
      ]
    },
    {
      "cell_type": "code",
      "source": [
        "# Tamara thing about this.  This creates number evenly distributed over some range\n",
        "\n",
        "\n",
        "np.linspace(3,15,5)\n",
        "\n",
        "# we want 3, 6, 9, 12, 15\n"
      ],
      "metadata": {
        "id": "SXMb2MMi5AeH",
        "outputId": "8ff55191-69f3-496c-c13b-308e89086830",
        "colab": {
          "base_uri": "https://localhost:8080/"
        }
      },
      "id": "SXMb2MMi5AeH",
      "execution_count": 44,
      "outputs": [
        {
          "output_type": "execute_result",
          "data": {
            "text/plain": [
              "array([ 3.,  6.,  9., 12., 15.])"
            ]
          },
          "metadata": {},
          "execution_count": 44
        }
      ]
    },
    {
      "cell_type": "code",
      "source": [
        "# here we tell it to make an array.  we say start at 2 and then evenly space\n",
        "# out 4 elements ending at 8\n",
        "\n",
        "\n",
        "np.linspace(2, 8, 4)"
      ],
      "metadata": {
        "id": "3plkASLt4pIm",
        "outputId": "64d8c89d-085a-4318-e07c-f86b7799fe7d",
        "colab": {
          "base_uri": "https://localhost:8080/"
        }
      },
      "id": "3plkASLt4pIm",
      "execution_count": 43,
      "outputs": [
        {
          "output_type": "execute_result",
          "data": {
            "text/plain": [
              "array([2., 4., 6., 8.])"
            ]
          },
          "metadata": {},
          "execution_count": 43
        }
      ]
    },
    {
      "cell_type": "code",
      "source": [
        "# the arguments for line space and start, stop, and how many.  the default for how many is 50\n",
        "np.linspace(1, 50)"
      ],
      "metadata": {
        "id": "PqpfZdCs4Vtd",
        "outputId": "a61b24a3-d610-40b5-af7b-a7ab0f840338",
        "colab": {
          "base_uri": "https://localhost:8080/"
        }
      },
      "id": "PqpfZdCs4Vtd",
      "execution_count": 41,
      "outputs": [
        {
          "output_type": "execute_result",
          "data": {
            "text/plain": [
              "array([ 1.,  2.,  3.,  4.,  5.,  6.,  7.,  8.,  9., 10., 11., 12., 13.,\n",
              "       14., 15., 16., 17., 18., 19., 20., 21., 22., 23., 24., 25., 26.,\n",
              "       27., 28., 29., 30., 31., 32., 33., 34., 35., 36., 37., 38., 39.,\n",
              "       40., 41., 42., 43., 44., 45., 46., 47., 48., 49., 50.])"
            ]
          },
          "metadata": {},
          "execution_count": 41
        }
      ]
    },
    {
      "cell_type": "code",
      "source": [
        "# regular python\n",
        "\n",
        "import random\n",
        "\n",
        "random.random()\n"
      ],
      "metadata": {
        "id": "m59F_JHo5mwR",
        "outputId": "050d39be-3cd6-4249-cd42-17e58d72c188",
        "colab": {
          "base_uri": "https://localhost:8080/"
        }
      },
      "id": "m59F_JHo5mwR",
      "execution_count": 45,
      "outputs": [
        {
          "output_type": "execute_result",
          "data": {
            "text/plain": [
              "0.35133271918870523"
            ]
          },
          "metadata": {},
          "execution_count": 45
        }
      ]
    },
    {
      "cell_type": "code",
      "source": [
        "# if you don't give it size it creates a float\n",
        "\n",
        "# a float just means a decimal number\n",
        "\n",
        "\n",
        "np.random.random()\n"
      ],
      "metadata": {
        "id": "KvGf2g245rkm",
        "outputId": "83933564-87a4-42b0-df82-71e09faa6d04",
        "colab": {
          "base_uri": "https://localhost:8080/"
        }
      },
      "id": "KvGf2g245rkm",
      "execution_count": 46,
      "outputs": [
        {
          "output_type": "execute_result",
          "data": {
            "text/plain": [
              "0.05840291115082186"
            ]
          },
          "metadata": {},
          "execution_count": 46
        }
      ]
    },
    {
      "cell_type": "code",
      "source": [
        "# create a 3x2 array\n",
        "\n",
        "np.random.random([3,2])"
      ],
      "metadata": {
        "id": "NvxUT60y6HAp",
        "outputId": "c41b194a-5972-4554-e2b4-1701882575c3",
        "colab": {
          "base_uri": "https://localhost:8080/"
        }
      },
      "id": "NvxUT60y6HAp",
      "execution_count": 50,
      "outputs": [
        {
          "output_type": "execute_result",
          "data": {
            "text/plain": [
              "array([[0.05598569, 0.28640392],\n",
              "       [0.28812199, 0.94024105],\n",
              "       [0.64684101, 0.83610496]])"
            ]
          },
          "metadata": {},
          "execution_count": 50
        }
      ]
    }
  ],
  "metadata": {
    "kernelspec": {
      "display_name": "Python 3 (ipykernel)",
      "language": "python",
      "name": "python3"
    },
    "language_info": {
      "codemirror_mode": {
        "name": "ipython",
        "version": 3
      },
      "file_extension": ".py",
      "mimetype": "text/x-python",
      "name": "python",
      "nbconvert_exporter": "python",
      "pygments_lexer": "ipython3",
      "version": "3.10.9"
    },
    "colab": {
      "provenance": [],
      "include_colab_link": true
    }
  },
  "nbformat": 4,
  "nbformat_minor": 5
}