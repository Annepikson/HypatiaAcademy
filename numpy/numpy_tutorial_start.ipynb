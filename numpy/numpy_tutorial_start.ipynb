{
  "cells": [
    {
      "cell_type": "markdown",
      "metadata": {
        "id": "view-in-github",
        "colab_type": "text"
      },
      "source": [
        "<a href=\"https://colab.research.google.com/github/werowe/HypatiaAcademy/blob/master/numpy/numpy_tutorial_start.ipynb\" target=\"_parent\"><img src=\"https://colab.research.google.com/assets/colab-badge.svg\" alt=\"Open In Colab\"/></a>"
      ]
    },
    {
      "cell_type": "markdown",
      "id": "22813ac4",
      "metadata": {
        "id": "22813ac4"
      },
      "source": [
        "https://numpy.org/devdocs/user/quickstart.html\n"
      ]
    },
    {
      "cell_type": "code",
      "execution_count": null,
      "id": "8f176d30",
      "metadata": {
        "id": "8f176d30"
      },
      "outputs": [],
      "source": [
        "\n",
        "\n",
        "import numpy as np\n",
        "\n",
        "A = np.array([[6,3], [2,4]])\n",
        "\n",
        "B =np.array([[7,5], [8,9]])"
      ]
    },
    {
      "cell_type": "code",
      "execution_count": null,
      "id": "b97bf0a8",
      "metadata": {
        "id": "b97bf0a8"
      },
      "outputs": [],
      "source": [
        "C = np.dot( A, B)"
      ]
    },
    {
      "cell_type": "code",
      "execution_count": null,
      "id": "369eb9f0",
      "metadata": {
        "id": "369eb9f0",
        "outputId": "5c12c865-e8f5-4011-cd60-968f882904dc"
      },
      "outputs": [
        {
          "data": {
            "text/plain": [
              "array([[66, 57],\n",
              "       [46, 46]])"
            ]
          },
          "execution_count": 7,
          "metadata": {},
          "output_type": "execute_result"
        }
      ],
      "source": [
        "C"
      ]
    },
    {
      "cell_type": "code",
      "execution_count": null,
      "id": "db27858d",
      "metadata": {
        "id": "db27858d",
        "outputId": "f2e5a882-e919-4ee0-eede-4d3b220b8943"
      },
      "outputs": [
        {
          "data": {
            "text/plain": [
              "array([[6, 2],\n",
              "       [3, 4]])"
            ]
          },
          "execution_count": 3,
          "metadata": {},
          "output_type": "execute_result"
        }
      ],
      "source": [
        "np.transpose(A)"
      ]
    },
    {
      "cell_type": "code",
      "execution_count": null,
      "id": "0c4c604b",
      "metadata": {
        "id": "0c4c604b"
      },
      "outputs": [],
      "source": [
        "d=[1,2,3]\n",
        "e=[4,5,6]\n",
        "f=np.matmul(D,E)"
      ]
    },
    {
      "cell_type": "code",
      "execution_count": null,
      "id": "075222a4",
      "metadata": {
        "id": "075222a4",
        "outputId": "791febc7-dbbf-4128-b27f-5795b5da2a51"
      },
      "outputs": [
        {
          "data": {
            "text/plain": [
              "32"
            ]
          },
          "execution_count": 6,
          "metadata": {},
          "output_type": "execute_result"
        }
      ],
      "source": [
        "f"
      ]
    },
    {
      "cell_type": "code",
      "execution_count": null,
      "id": "ea2953cc",
      "metadata": {
        "id": "ea2953cc"
      },
      "outputs": [],
      "source": []
    }
  ],
  "metadata": {
    "kernelspec": {
      "display_name": "Python 3 (ipykernel)",
      "language": "python",
      "name": "python3"
    },
    "language_info": {
      "codemirror_mode": {
        "name": "ipython",
        "version": 3
      },
      "file_extension": ".py",
      "mimetype": "text/x-python",
      "name": "python",
      "nbconvert_exporter": "python",
      "pygments_lexer": "ipython3",
      "version": "3.10.9"
    },
    "colab": {
      "provenance": [],
      "include_colab_link": true
    }
  },
  "nbformat": 4,
  "nbformat_minor": 5
}