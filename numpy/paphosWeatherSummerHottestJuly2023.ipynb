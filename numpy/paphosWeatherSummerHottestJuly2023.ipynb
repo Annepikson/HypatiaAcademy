{
 "cells": [
  {
   "cell_type": "code",
   "execution_count": 57,
   "metadata": {},
   "outputs": [],
   "source": [
    "\n",
    "from datetime import date\n",
    "from datetime import datetime\n",
    "import time\n",
    "import pandas as pd\n",
    "import numpy as np\n",
    "\n",
    "def toDate(epoch_time):\n",
    "    return datetime.fromtimestamp(epoch_time)\n",
    "\n",
    "def calculate_heat_index(temperature, relative_humidity):\n",
    "    heat_index = int((-8.784695 +\n",
    "                  1.61139411 * temperature +\n",
    "                  (2.338549 * relative_humidity) +\n",
    "                  (-0.14611605 * temperature * relative_humidity) +\n",
    "                  (-0.01230809 * (temperature ** 2)) +\n",
    "                  (-0.01642482 * (relative_humidity ** 2)) +\n",
    "                  (0.00221173 * (temperature ** 2) * relative_humidity) +\n",
    "                  (0.00072546 * temperature * (relative_humidity ** 2)) +\n",
    "                  (-0.000003582 * (temperature ** 2) * (relative_humidity ** 2))))\n",
    "    return heat_index"
   ]
  },
  {
   "cell_type": "code",
   "execution_count": 58,
   "metadata": {},
   "outputs": [
    {
     "data": {
      "text/plain": [
       "0       2013-07-31 03:00:00\n",
       "1       2013-07-31 04:00:00\n",
       "2       2013-07-31 05:00:00\n",
       "3       2013-07-31 06:00:00\n",
       "4       2013-07-31 07:00:00\n",
       "                ...        \n",
       "87667   2023-07-31 22:00:00\n",
       "87668   2023-07-31 23:00:00\n",
       "87669   2023-08-01 00:00:00\n",
       "87670   2023-08-01 01:00:00\n",
       "87671   2023-08-01 02:00:00\n",
       "Name: dt, Length: 87672, dtype: datetime64[ns]"
      ]
     },
     "execution_count": 58,
     "metadata": {},
     "output_type": "execute_result"
    }
   ],
   "source": [
    "import pandas as pd\n",
    "\n",
    "df=pd.read_json('/Users/walkerrowe/Documents/hypatia/paphosWeatherFiveYearsThroughJuly.json')\n",
    "\n",
    "df['dt'].map(toDate)"
   ]
  },
  {
   "cell_type": "code",
   "execution_count": 59,
   "metadata": {},
   "outputs": [
    {
     "name": "stderr",
     "output_type": "stream",
     "text": [
      "/var/folders/bk/np4nlklx4vs5wr6lym8k3w8w0000gn/T/ipykernel_92662/1587566322.py:16: SettingWithCopyWarning: \n",
      "A value is trying to be set on a copy of a slice from a DataFrame.\n",
      "Try using .loc[row_indexer,col_indexer] = value instead\n",
      "\n",
      "See the caveats in the documentation: https://pandas.pydata.org/pandas-docs/stable/user_guide/indexing.html#returning-a-view-versus-a-copy\n",
      "  target['days over 31']=target['temp_max'].map(lambda l : 1 if l > 31 else 0)\n"
     ]
    }
   ],
   "source": [
    "df['month']=df['dt'].map(lambda l: toDate(l).strftime(\"%m\"))\n",
    "df['day']=df['dt'].map(lambda l: toDate(l).strftime(\"%d\"))\n",
    "df['year']=df['dt'].map(lambda l: toDate(l).strftime(\"%y\"))\n",
    "df['hour']=df['dt'].map(lambda l: toDate(l).strftime(\"%H\"))\n",
    " \n",
    "df['temp']=df[\"main\"].map(lambda x: int(x[\"temp\"]))\n",
    "df['temp_min']=df[\"main\"].map(lambda x: int(x[\"temp_min\"]) )\n",
    "df['temp_max']=df[\"main\"].map(lambda x: int(x[\"temp_max\"]) )\n",
    "df['humidity']=df[\"main\"].map(lambda x: int(x[\"humidity\"]))\n",
    "\n",
    "df['heatIndex'] = df.apply(lambda row: calculate_heat_index(row['temp'], row['humidity']), axis=1)\n",
    "#df.set_index(\"dt_iso\",inplace=True)\n",
    "\n",
    "target=df[['year','month','day', 'hour' ,'temp','temp_min','temp_max', 'humidity', 'heatIndex']]\n",
    "\n",
    "target['days over 31']=target['temp_max'].map(lambda l : 1 if l > 31 else 0)\n",
    " "
   ]
  },
  {
   "cell_type": "code",
   "execution_count": 60,
   "metadata": {},
   "outputs": [],
   "source": [
    "july=target.loc[(target['month'] == '07') & (target['year'] != '13') & (target['hour']=='15')]\n"
   ]
  },
  {
   "cell_type": "code",
   "execution_count": 61,
   "metadata": {},
   "outputs": [],
   "source": [
    "july.set_index(['year','day'],inplace=True)\n",
    " "
   ]
  },
  {
   "cell_type": "code",
   "execution_count": 62,
   "metadata": {},
   "outputs": [],
   "source": [
    "hot=july.loc[july['temp_max']>31]"
   ]
  },
  {
   "cell_type": "code",
   "execution_count": 63,
   "metadata": {},
   "outputs": [
    {
     "name": "stderr",
     "output_type": "stream",
     "text": [
      "/var/folders/bk/np4nlklx4vs5wr6lym8k3w8w0000gn/T/ipykernel_92662/2834321788.py:1: FutureWarning: The default value of numeric_only in DataFrameGroupBy.sum is deprecated. In a future version, numeric_only will default to False. Either specify numeric_only or select only columns which should be valid for the function.\n",
      "  hottest=hot.groupby('year').sum()\n"
     ]
    }
   ],
   "source": [
    "hottest=hot.groupby('year').sum()"
   ]
  },
  {
   "cell_type": "code",
   "execution_count": 64,
   "metadata": {},
   "outputs": [
    {
     "data": {
      "text/html": [
       "<div>\n",
       "<style scoped>\n",
       "    .dataframe tbody tr th:only-of-type {\n",
       "        vertical-align: middle;\n",
       "    }\n",
       "\n",
       "    .dataframe tbody tr th {\n",
       "        vertical-align: top;\n",
       "    }\n",
       "\n",
       "    .dataframe thead th {\n",
       "        text-align: right;\n",
       "    }\n",
       "</style>\n",
       "<table border=\"1\" class=\"dataframe\">\n",
       "  <thead>\n",
       "    <tr style=\"text-align: right;\">\n",
       "      <th></th>\n",
       "      <th>days over 31</th>\n",
       "    </tr>\n",
       "    <tr>\n",
       "      <th>year</th>\n",
       "      <th></th>\n",
       "    </tr>\n",
       "  </thead>\n",
       "  <tbody>\n",
       "    <tr>\n",
       "      <th>14</th>\n",
       "      <td>1</td>\n",
       "    </tr>\n",
       "    <tr>\n",
       "      <th>15</th>\n",
       "      <td>1</td>\n",
       "    </tr>\n",
       "    <tr>\n",
       "      <th>19</th>\n",
       "      <td>3</td>\n",
       "    </tr>\n",
       "    <tr>\n",
       "      <th>16</th>\n",
       "      <td>6</td>\n",
       "    </tr>\n",
       "    <tr>\n",
       "      <th>18</th>\n",
       "      <td>9</td>\n",
       "    </tr>\n",
       "    <tr>\n",
       "      <th>17</th>\n",
       "      <td>15</td>\n",
       "    </tr>\n",
       "    <tr>\n",
       "      <th>20</th>\n",
       "      <td>21</td>\n",
       "    </tr>\n",
       "    <tr>\n",
       "      <th>21</th>\n",
       "      <td>21</td>\n",
       "    </tr>\n",
       "    <tr>\n",
       "      <th>22</th>\n",
       "      <td>28</td>\n",
       "    </tr>\n",
       "    <tr>\n",
       "      <th>23</th>\n",
       "      <td>28</td>\n",
       "    </tr>\n",
       "  </tbody>\n",
       "</table>\n",
       "</div>"
      ],
      "text/plain": [
       "      days over 31\n",
       "year              \n",
       "14               1\n",
       "15               1\n",
       "19               3\n",
       "16               6\n",
       "18               9\n",
       "17              15\n",
       "20              21\n",
       "21              21\n",
       "22              28\n",
       "23              28"
      ]
     },
     "execution_count": 64,
     "metadata": {},
     "output_type": "execute_result"
    }
   ],
   "source": [
    "over31=pd.DataFrame(hottest['days over 31'].sort_values())\n",
    "over31"
   ]
  },
  {
   "cell_type": "code",
   "execution_count": 65,
   "metadata": {},
   "outputs": [
    {
     "data": {
      "text/plain": [
       "Text(0.5, 1.0, 'Days over 31 Degrees in July')"
      ]
     },
     "execution_count": 65,
     "metadata": {},
     "output_type": "execute_result"
    },
    {
     "data": {
      "image/png": "[encoded data removed]",
      "text/plain": [
       "<Figure size 640x480 with 1 Axes>"
      ]
     },
     "metadata": {},
     "output_type": "display_data"
    }
   ],
   "source": [
    "import matplotlib.pyplot as plt\n",
    "\n",
    "plt.bar(hottest['days over 31'].index, hottest['days over 31'].values)\n",
    "\n",
    "# Set labels and title\n",
    "plt.xlabel('Year')\n",
    "plt.ylabel('Days over 31 Degrees')\n",
    "plt.title('Days over 31 Degrees in July')"
   ]
  },
  {
   "cell_type": "code",
   "execution_count": 66,
   "metadata": {},
   "outputs": [],
   "source": [
    " july=target.loc[(target['month'] == '07') & (target['year'] != '13') & (target['hour']=='15')]\n"
   ]
  },
  {
   "cell_type": "code",
   "execution_count": 67,
   "metadata": {},
   "outputs": [],
   "source": [
    "july.set_index(['year','day'],inplace=True)"
   ]
  },
  {
   "cell_type": "code",
   "execution_count": 74,
   "metadata": {},
   "outputs": [
    {
     "name": "stderr",
     "output_type": "stream",
     "text": [
      "/var/folders/bk/np4nlklx4vs5wr6lym8k3w8w0000gn/T/ipykernel_92662/1903866960.py:1: SettingWithCopyWarning: \n",
      "A value is trying to be set on a copy of a slice from a DataFrame\n",
      "\n",
      "See the caveats in the documentation: https://pandas.pydata.org/pandas-docs/stable/user_guide/indexing.html#returning-a-view-versus-a-copy\n",
      "  july.drop('days over 31',axis=1,inplace=True)\n"
     ]
    }
   ],
   "source": [
    "july.drop('days over 31',axis=1,inplace=True)"
   ]
  },
  {
   "cell_type": "code",
   "execution_count": 75,
   "metadata": {},
   "outputs": [
    {
     "name": "stderr",
     "output_type": "stream",
     "text": [
      "/var/folders/bk/np4nlklx4vs5wr6lym8k3w8w0000gn/T/ipykernel_92662/807721493.py:1: FutureWarning: The default value of numeric_only in DataFrameGroupBy.mean is deprecated. In a future version, numeric_only will default to False. Either specify numeric_only or select only columns which should be valid for the function.\n",
      "  july.groupby(['year']).mean().astype(int).sort_values(by='temp')\n"
     ]
    },
    {
     "data": {
      "text/html": [
       "<div>\n",
       "<style scoped>\n",
       "    .dataframe tbody tr th:only-of-type {\n",
       "        vertical-align: middle;\n",
       "    }\n",
       "\n",
       "    .dataframe tbody tr th {\n",
       "        vertical-align: top;\n",
       "    }\n",
       "\n",
       "    .dataframe thead th {\n",
       "        text-align: right;\n",
       "    }\n",
       "</style>\n",
       "<table border=\"1\" class=\"dataframe\">\n",
       "  <thead>\n",
       "    <tr style=\"text-align: right;\">\n",
       "      <th></th>\n",
       "      <th>temp</th>\n",
       "      <th>temp_min</th>\n",
       "      <th>temp_max</th>\n",
       "      <th>humidity</th>\n",
       "      <th>heatIndex</th>\n",
       "    </tr>\n",
       "    <tr>\n",
       "      <th>year</th>\n",
       "      <th></th>\n",
       "      <th></th>\n",
       "      <th></th>\n",
       "      <th></th>\n",
       "      <th></th>\n",
       "    </tr>\n",
       "  </thead>\n",
       "  <tbody>\n",
       "    <tr>\n",
       "      <th>14</th>\n",
       "      <td>27</td>\n",
       "      <td>24</td>\n",
       "      <td>29</td>\n",
       "      <td>71</td>\n",
       "      <td>28</td>\n",
       "    </tr>\n",
       "    <tr>\n",
       "      <th>15</th>\n",
       "      <td>27</td>\n",
       "      <td>25</td>\n",
       "      <td>29</td>\n",
       "      <td>71</td>\n",
       "      <td>28</td>\n",
       "    </tr>\n",
       "    <tr>\n",
       "      <th>18</th>\n",
       "      <td>27</td>\n",
       "      <td>25</td>\n",
       "      <td>30</td>\n",
       "      <td>67</td>\n",
       "      <td>29</td>\n",
       "    </tr>\n",
       "    <tr>\n",
       "      <th>16</th>\n",
       "      <td>28</td>\n",
       "      <td>25</td>\n",
       "      <td>30</td>\n",
       "      <td>70</td>\n",
       "      <td>31</td>\n",
       "    </tr>\n",
       "    <tr>\n",
       "      <th>17</th>\n",
       "      <td>28</td>\n",
       "      <td>26</td>\n",
       "      <td>31</td>\n",
       "      <td>68</td>\n",
       "      <td>31</td>\n",
       "    </tr>\n",
       "    <tr>\n",
       "      <th>19</th>\n",
       "      <td>28</td>\n",
       "      <td>26</td>\n",
       "      <td>30</td>\n",
       "      <td>66</td>\n",
       "      <td>30</td>\n",
       "    </tr>\n",
       "    <tr>\n",
       "      <th>21</th>\n",
       "      <td>28</td>\n",
       "      <td>26</td>\n",
       "      <td>33</td>\n",
       "      <td>59</td>\n",
       "      <td>29</td>\n",
       "    </tr>\n",
       "    <tr>\n",
       "      <th>22</th>\n",
       "      <td>28</td>\n",
       "      <td>26</td>\n",
       "      <td>32</td>\n",
       "      <td>59</td>\n",
       "      <td>29</td>\n",
       "    </tr>\n",
       "    <tr>\n",
       "      <th>20</th>\n",
       "      <td>29</td>\n",
       "      <td>29</td>\n",
       "      <td>32</td>\n",
       "      <td>65</td>\n",
       "      <td>32</td>\n",
       "    </tr>\n",
       "    <tr>\n",
       "      <th>23</th>\n",
       "      <td>29</td>\n",
       "      <td>26</td>\n",
       "      <td>34</td>\n",
       "      <td>57</td>\n",
       "      <td>30</td>\n",
       "    </tr>\n",
       "  </tbody>\n",
       "</table>\n",
       "</div>"
      ],
      "text/plain": [
       "      temp  temp_min  temp_max  humidity  heatIndex\n",
       "year                                               \n",
       "14      27        24        29        71         28\n",
       "15      27        25        29        71         28\n",
       "18      27        25        30        67         29\n",
       "16      28        25        30        70         31\n",
       "17      28        26        31        68         31\n",
       "19      28        26        30        66         30\n",
       "21      28        26        33        59         29\n",
       "22      28        26        32        59         29\n",
       "20      29        29        32        65         32\n",
       "23      29        26        34        57         30"
      ]
     },
     "execution_count": 75,
     "metadata": {},
     "output_type": "execute_result"
    }
   ],
   "source": [
    "july.groupby(['year']).mean().astype(int).sort_values(by='temp')"
   ]
  },
  {
   "cell_type": "code",
   "execution_count": null,
   "metadata": {},
   "outputs": [],
   "source": []
  }
 ],
 "metadata": {
  "kernelspec": {
   "display_name": "Python 3 (ipykernel)",
   "language": "python",
   "name": "python3"
  },
  "language_info": {
   "codemirror_mode": {
    "name": "ipython",
    "version": 3
   },
   "file_extension": ".py",
   "mimetype": "text/x-python",
   "name": "python",
   "nbconvert_exporter": "python",
   "pygments_lexer": "ipython3",
   "version": "3.10.9"
  }
 },
 "nbformat": 4,
 "nbformat_minor": 2
}
