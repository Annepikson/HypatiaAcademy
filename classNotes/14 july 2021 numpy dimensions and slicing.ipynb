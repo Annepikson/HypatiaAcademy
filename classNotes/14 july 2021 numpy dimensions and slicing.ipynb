{
 "cells": [
  {
   "cell_type": "code",
   "execution_count": 2,
   "metadata": {},
   "outputs": [
    {
     "name": "stdout",
     "output_type": "stream",
     "text": [
      "[[[1 2 3]]]\n",
      "(1, 1, 3)\n"
     ]
    }
   ],
   "source": [
    "\n",
    "import numpy as np\n",
    "\n",
    "arr=np.array([[[1,2,3]]])\n",
    "print(arr)\n",
    "print(arr.shape)"
   ]
  },
  {
   "cell_type": "code",
   "execution_count": 6,
   "metadata": {},
   "outputs": [
    {
     "name": "stdout",
     "output_type": "stream",
     "text": [
      "[[[1 2 3]\n",
      "  [4 5 6]\n",
      "  [7 8 9]]\n",
      "\n",
      " [[1 2 3]\n",
      "  [4 5 6]\n",
      "  [7 8 9]]\n",
      "\n",
      " [[1 2 3]\n",
      "  [4 5 6]\n",
      "  [7 8 9]]]\n"
     ]
    }
   ],
   "source": [
    "arr=np.array([[[1,2,3],[4,5,6],[7,8,9]],\n",
    "             [[1,2,3],[4,5,6],[7,8,9]],\n",
    "              [[1,2,3],[4,5,6],[7,8,9]]])\n",
    "print(arr)"
   ]
  },
  {
   "cell_type": "code",
   "execution_count": 7,
   "metadata": {},
   "outputs": [
    {
     "data": {
      "text/plain": [
       "(3, 3, 3)"
      ]
     },
     "execution_count": 7,
     "metadata": {},
     "output_type": "execute_result"
    }
   ],
   "source": [
    "arr.shape"
   ]
  },
  {
   "cell_type": "code",
   "execution_count": 10,
   "metadata": {},
   "outputs": [
    {
     "name": "stdout",
     "output_type": "stream",
     "text": [
      "[1.]\n",
      "[ 0  1  2  3  4  5  6  7  8  9 10]\n"
     ]
    }
   ],
   "source": [
    "print(np.linspace(1,10,1))\n",
    "print(np.arange(11))"
   ]
  },
  {
   "cell_type": "markdown",
   "metadata": {},
   "source": [
    "this matrix of size 10*10*10 would have 1,0000 entries\n",
    "\n",
    "1,1,1.......10,10,10"
   ]
  },
  {
   "cell_type": "code",
   "execution_count": 18,
   "metadata": {},
   "outputs": [
    {
     "name": "stdout",
     "output_type": "stream",
     "text": [
      "[[[[1 1 1 1 1 1 1 1 1 1]\n",
      "   [1 1 1 1 1 1 1 1 1 1]\n",
      "   [1 1 1 1 1 1 1 1 1 1]]]]\n"
     ]
    }
   ],
   "source": [
    "arr=np.array([[[np.ones(10),np.ones(10),np.ones(10)]]],dtype=np.int8)\n",
    "print(arr)"
   ]
  },
  {
   "cell_type": "markdown",
   "metadata": {},
   "source": [
    "fill a cube that is a 3 dimensional array of length 10\n",
    "\n",
    "\n",
    "[1,0,0]\n",
    "[2,0,0]\n",
    "[3,0,0]\n",
    "...\n",
    "[10,0,0]\n",
    "\n",
    "[1,1,0]\n",
    "[1,1,1]\n",
    "[1,1,2]\n",
    "...\n",
    "[1,1,10]\n",
    "\n",
    "[1,1,1]\n",
    "[1,2,1]\n",
    "[1,3,1]\n",
    "...\n",
    "\n",
    "\n",
    "\n",
    "so this would a matrix of np.shape=(10,10,10)\n",
    "\n",
    "we would have 1000 entries\n",
    "\n",
    "walker says: you calculate the dot-product (cartesian product).  or there should be a function that for an vector of size 10 it creates 10 entries (we have np.arange(10)\n",
    "\n",
    "mike say: do a for 3 nested for.  look up some kind of append function\n",
    "\n",
    "\n",
    "for i in range(19):\n",
    "    for j in range(10):\n",
    "        for k in range(10):\n",
    "            add too array [i,j,k]\n",
    "\n",
    "\n",
    "\n",
    "and then find the line z = 1/2(x+y)\n",
    "\n",
    "x=1\n",
    "y=1\n",
    "\n",
    "z=1\n",
    "\n",
    "\n",
    "(1,1,1)\n",
    "(2,2,2)\n"
   ]
  },
  {
   "cell_type": "code",
   "execution_count": 21,
   "metadata": {},
   "outputs": [
    {
     "name": "stdout",
     "output_type": "stream",
     "text": [
      "[[[[1 1 1 1 1 1 1 1 1 1]\n",
      "   [0 0 0 0 0 0 0 0 0 0]\n",
      "   [0 0 0 0 0 0 0 0 0 0]]]]\n"
     ]
    }
   ],
   "source": [
    "arr=np.array([[[np.ones(10),np.zeros(10),np.zeros(10)]]],dtype=np.int8)\n",
    "\n",
    "print(arr)\n"
   ]
  },
  {
   "cell_type": "code",
   "execution_count": null,
   "metadata": {},
   "outputs": [],
   "source": [
    "[1,2,3,4,5,6,7,8,9,10]"
   ]
  }
 ],
 "metadata": {
  "kernelspec": {
   "display_name": "Python 3",
   "language": "python",
   "name": "python3"
  },
  "language_info": {
   "codemirror_mode": {
    "name": "ipython",
    "version": 3
   },
   "file_extension": ".py",
   "mimetype": "text/x-python",
   "name": "python",
   "nbconvert_exporter": "python",
   "pygments_lexer": "ipython3",
   "version": "3.4.4"
  }
 },
 "nbformat": 4,
 "nbformat_minor": 2
}
