{
 "cells": [
  {
   "cell_type": "code",
   "execution_count": 6,
   "id": "336ed5d0",
   "metadata": {},
   "outputs": [
    {
     "ename": "error",
     "evalue": "video system not initialized",
     "output_type": "error",
     "traceback": [
      "\u001b[0;31m---------------------------------------------------------------------------\u001b[0m",
      "\u001b[0;31merror\u001b[0m                                     Traceback (most recent call last)",
      "Cell \u001b[0;32mIn[6], line 64\u001b[0m\n\u001b[1;32m     60\u001b[0m         pygame\u001b[38;5;241m.\u001b[39mdisplay\u001b[38;5;241m.\u001b[39mflip()\n\u001b[1;32m     61\u001b[0m         pygame\u001b[38;5;241m.\u001b[39mtime\u001b[38;5;241m.\u001b[39mwait(\u001b[38;5;241m10\u001b[39m)\n\u001b[0;32m---> 64\u001b[0m \u001b[43mmain\u001b[49m\u001b[43m(\u001b[49m\u001b[43m)\u001b[49m\n",
      "Cell \u001b[0;32mIn[6], line 60\u001b[0m, in \u001b[0;36mmain\u001b[0;34m()\u001b[0m\n\u001b[1;32m     58\u001b[0m glClear(GL_COLOR_BUFFER_BIT\u001b[38;5;241m|\u001b[39mGL_DEPTH_BUFFER_BIT)\n\u001b[1;32m     59\u001b[0m Cube()\n\u001b[0;32m---> 60\u001b[0m \u001b[43mpygame\u001b[49m\u001b[38;5;241;43m.\u001b[39;49m\u001b[43mdisplay\u001b[49m\u001b[38;5;241;43m.\u001b[39;49m\u001b[43mflip\u001b[49m\u001b[43m(\u001b[49m\u001b[43m)\u001b[49m\n\u001b[1;32m     61\u001b[0m pygame\u001b[38;5;241m.\u001b[39mtime\u001b[38;5;241m.\u001b[39mwait(\u001b[38;5;241m10\u001b[39m)\n",
      "\u001b[0;31merror\u001b[0m: video system not initialized"
     ]
    }
   ],
   "source": [
    "import pygame\n",
    "from pygame.locals import *\n",
    "\n",
    "from OpenGL.GL import *\n",
    "from OpenGL.GLU import *\n",
    "\n",
    "verticies = (\n",
    "    (1, -1, -1),\n",
    "    (1, 1, -1),\n",
    "    (-1, 1, -1),\n",
    "    (-1, -1, -1),\n",
    "    (1, -1, 1),\n",
    "    (1, 1, 1),\n",
    "    (-1, -1, 1),\n",
    "    (-1, 1, 1)\n",
    "    )\n",
    "\n",
    "edges = (\n",
    "    (0,1),\n",
    "    (0,3),\n",
    "    (0,4),\n",
    "    (2,1),\n",
    "    (2,3),\n",
    "    (2,7),\n",
    "    (6,3),\n",
    "    (6,4),\n",
    "    (6,7),\n",
    "    (5,1),\n",
    "    (5,4),\n",
    "    (5,7)\n",
    "    )\n",
    "\n",
    "\n",
    "def Cube():\n",
    "    glBegin(GL_LINES)\n",
    "    for edge in edges:\n",
    "        for vertex in edge:\n",
    "            glVertex3fv(verticies[vertex])\n",
    "    glEnd()\n",
    "\n",
    "\n",
    "def main():\n",
    "    pygame.init()\n",
    "    display = (800,600)\n",
    "    pygame.display.set_mode(display, DOUBLEBUF|OPENGL)\n",
    "\n",
    "    gluPerspective(45, (display[0]/display[1]), 0.1, 50.0)\n",
    "\n",
    "    glTranslatef(0.0,0.0, -5)\n",
    "\n",
    "    while True:\n",
    "        for event in pygame.event.get():\n",
    "            if event.type == pygame.QUIT:\n",
    "                pygame.quit()\n",
    "                quit()\n",
    "\n",
    "        glRotatef(1, 3, 1, 1)\n",
    "        glClear(GL_COLOR_BUFFER_BIT|GL_DEPTH_BUFFER_BIT)\n",
    "        Cube()\n",
    "        pygame.display.flip()\n",
    "        pygame.time.wait(10)\n",
    "\n",
    "\n",
    "main()\n"
   ]
  },
  {
   "cell_type": "code",
   "execution_count": 4,
   "id": "dbda703f",
   "metadata": {},
   "outputs": [
    {
     "name": "stdout",
     "output_type": "stream",
     "text": [
      "Collecting pyopengl\n",
      "  Downloading PyOpenGL-3.1.6-py3-none-any.whl (2.4 MB)\n",
      "\u001b[2K     \u001b[90m━━━━━━━━━━━━━━━━━━━━━━━━━━━━━━━━━━━━━━━━\u001b[0m \u001b[32m2.4/2.4 MB\u001b[0m \u001b[31m10.1 MB/s\u001b[0m eta \u001b[36m0:00:00\u001b[0m00:01\u001b[0m0:01\u001b[0m\n",
      "\u001b[?25hInstalling collected packages: pyopengl\n",
      "Successfully installed pyopengl-3.1.6\n"
     ]
    }
   ],
   "source": [
    "!pip install pyopengl"
   ]
  },
  {
   "cell_type": "code",
   "execution_count": null,
   "id": "04d11f26",
   "metadata": {},
   "outputs": [],
   "source": []
  }
 ],
 "metadata": {
  "kernelspec": {
   "display_name": "Python 3 (ipykernel)",
   "language": "python",
   "name": "python3"
  },
  "language_info": {
   "codemirror_mode": {
    "name": "ipython",
    "version": 3
   },
   "file_extension": ".py",
   "mimetype": "text/x-python",
   "name": "python",
   "nbconvert_exporter": "python",
   "pygments_lexer": "ipython3",
   "version": "3.10.9"
  }
 },
 "nbformat": 4,
 "nbformat_minor": 5
}
