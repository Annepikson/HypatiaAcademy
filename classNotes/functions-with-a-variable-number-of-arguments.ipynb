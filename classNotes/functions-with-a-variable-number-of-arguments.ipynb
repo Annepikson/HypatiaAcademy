{
 "cells": [
  {
   "cell_type": "code",
   "execution_count": null,
   "id": "825213ec",
   "metadata": {},
   "outputs": [],
   "source": [
    "# this * means a variable number of arguments\n",
    "\n",
    "\n",
    "def concat(*args):\n",
    "    \n",
    "    s = \"\"\n",
    "    \n",
    "    for c in args:\n",
    "        s = s + c\n",
    "        \n",
    "    return s\n",
    "\n",
    "\n",
    "concat(\"walker\", \"rowe\")"
   ]
  },
  {
   "cell_type": "code",
   "execution_count": null,
   "id": "82f030f3",
   "metadata": {},
   "outputs": [],
   "source": [
    "def add(*numbers):\n",
    "    \n",
    "    sum=0\n",
    "    \n",
    "    for number in numbers:\n",
    "        sum = sum + number\n",
    "        \n",
    "    return sum\n",
    "\n",
    "\n",
    "add(1,2,3,4,5,6,7)"
   ]
  },
  {
   "cell_type": "code",
   "execution_count": null,
   "id": "813fae7a",
   "metadata": {},
   "outputs": [],
   "source": []
  }
 ],
 "metadata": {
  "kernelspec": {
   "display_name": "Python 3 (ipykernel)",
   "language": "python",
   "name": "python3"
  },
  "language_info": {
   "codemirror_mode": {
    "name": "ipython",
    "version": 3
   },
   "file_extension": ".py",
   "mimetype": "text/x-python",
   "name": "python",
   "nbconvert_exporter": "python",
   "pygments_lexer": "ipython3",
   "version": "3.10.9"
  }
 },
 "nbformat": 4,
 "nbformat_minor": 5
}
