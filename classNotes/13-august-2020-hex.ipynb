{
 "cells": [
  {
   "cell_type": "code",
   "execution_count": 1,
   "id": "f83394da",
   "metadata": {},
   "outputs": [
    {
     "data": {
      "text/plain": [
       "350"
      ]
     },
     "execution_count": 1,
     "metadata": {},
     "output_type": "execute_result"
    }
   ],
   "source": [
    "(4*70)+70"
   ]
  },
  {
   "cell_type": "code",
   "execution_count": 8,
   "id": "30b684ca",
   "metadata": {},
   "outputs": [
    {
     "data": {
      "text/plain": [
       "256"
      ]
     },
     "execution_count": 8,
     "metadata": {},
     "output_type": "execute_result"
    }
   ],
   "source": [
    "16**2"
   ]
  },
  {
   "cell_type": "code",
   "execution_count": 9,
   "id": "039f6fae",
   "metadata": {},
   "outputs": [
    {
     "data": {
      "text/plain": [
       "256"
      ]
     },
     "execution_count": 9,
     "metadata": {},
     "output_type": "execute_result"
    }
   ],
   "source": [
    "16*16"
   ]
  },
  {
   "cell_type": "code",
   "execution_count": 11,
   "id": "4dba31c1",
   "metadata": {},
   "outputs": [
    {
     "data": {
      "text/plain": [
       "4096"
      ]
     },
     "execution_count": 11,
     "metadata": {},
     "output_type": "execute_result"
    }
   ],
   "source": [
    "16*16*16"
   ]
  },
  {
   "cell_type": "code",
   "execution_count": null,
   "id": "3fab13d4",
   "metadata": {},
   "outputs": [],
   "source": []
  },
  {
   "cell_type": "markdown",
   "id": "ae0eb170",
   "metadata": {},
   "source": [
    "350 dans le hex c'et quoi?\n",
    "\n",
    "a*(16**1)+b*(16**0) "
   ]
  },
  {
   "cell_type": "code",
   "execution_count": 12,
   "id": "13c97d5e",
   "metadata": {},
   "outputs": [
    {
     "data": {
      "text/plain": [
       "21.875"
      ]
     },
     "execution_count": 12,
     "metadata": {},
     "output_type": "execute_result"
    }
   ],
   "source": [
    "350/16"
   ]
  },
  {
   "cell_type": "code",
   "execution_count": 15,
   "id": "4fb66ef0",
   "metadata": {},
   "outputs": [
    {
     "data": {
      "text/plain": [
       "256"
      ]
     },
     "execution_count": 15,
     "metadata": {},
     "output_type": "execute_result"
    }
   ],
   "source": [
    "16**2"
   ]
  },
  {
   "cell_type": "code",
   "execution_count": 20,
   "id": "ebd1dedf",
   "metadata": {},
   "outputs": [
    {
     "data": {
      "text/plain": [
       "350"
      ]
     },
     "execution_count": 20,
     "metadata": {},
     "output_type": "execute_result"
    }
   ],
   "source": [
    "## donc a = 21\n",
    "## b = ?\n",
    "\n",
    "1*(16**2)+5*(16**1)+14"
   ]
  },
  {
   "cell_type": "markdown",
   "id": "4a6bb00d",
   "metadata": {},
   "source": [
    "0\n",
    "1\n",
    "2\n",
    "3\n",
    "4\n",
    "5\n",
    "6\n",
    "7\n",
    "8\n",
    "9\n",
    "10   a\n",
    "11   b\n",
    "12   c\n",
    "13   d\n",
    "14   e\n",
    "15   f"
   ]
  },
  {
   "cell_type": "code",
   "execution_count": null,
   "id": "7bcfab78",
   "metadata": {},
   "outputs": [],
   "source": [
    "350 dans le decimal cest \n",
    "\n",
    "1*(16**2)+5*(16**1)+14*(16**0)=350\n",
    "\n",
    "hex(15e)=350"
   ]
  },
  {
   "cell_type": "code",
   "execution_count": 22,
   "id": "c9155133",
   "metadata": {},
   "outputs": [
    {
     "data": {
      "text/plain": [
       "11"
      ]
     },
     "execution_count": 22,
     "metadata": {},
     "output_type": "execute_result"
    }
   ],
   "source": [
    "(1*(16**1) + 11\n",
    "\n",
    "1a\n",
    "\n"
   ]
  },
  {
   "cell_type": "code",
   "execution_count": 23,
   "id": "7201c5ae",
   "metadata": {},
   "outputs": [
    {
     "data": {
      "text/plain": [
       "26"
      ]
     },
     "execution_count": 23,
     "metadata": {},
     "output_type": "execute_result"
    }
   ],
   "source": [
    "int('0x1a', base=16)\n",
    " "
   ]
  },
  {
   "cell_type": "code",
   "execution_count": 24,
   "id": "164f4799",
   "metadata": {},
   "outputs": [
    {
     "data": {
      "text/plain": [
       "1"
      ]
     },
     "execution_count": 24,
     "metadata": {},
     "output_type": "execute_result"
    }
   ],
   "source": [
    "int('0x1', base=16)"
   ]
  },
  {
   "cell_type": "code",
   "execution_count": 25,
   "id": "7b3c0b24",
   "metadata": {},
   "outputs": [
    {
     "data": {
      "text/plain": [
       "True"
      ]
     },
     "execution_count": 25,
     "metadata": {},
     "output_type": "execute_result"
    }
   ],
   "source": [
    "int('0x1', base=16) == 1 * (16**0)"
   ]
  },
  {
   "cell_type": "code",
   "execution_count": 26,
   "id": "c21fd2e7",
   "metadata": {},
   "outputs": [
    {
     "name": "stdout",
     "output_type": "stream",
     "text": [
      "16\n",
      "16\n"
     ]
    }
   ],
   "source": [
    "print(int('0x10', base=16))\n",
    "\n",
    "print(1*(16**1) + 0 * (16**0))"
   ]
  },
  {
   "cell_type": "code",
   "execution_count": 27,
   "id": "20b83986",
   "metadata": {},
   "outputs": [
    {
     "data": {
      "text/plain": [
       "350"
      ]
     },
     "execution_count": 27,
     "metadata": {},
     "output_type": "execute_result"
    }
   ],
   "source": [
    "1*(16**2)+5*(16**1)+14*(16**0)\n",
    "\n",
    "#hex(15e)=350"
   ]
  },
  {
   "cell_type": "code",
   "execution_count": 28,
   "id": "003bd8dc",
   "metadata": {},
   "outputs": [
    {
     "data": {
      "text/plain": [
       "350"
      ]
     },
     "execution_count": 28,
     "metadata": {},
     "output_type": "execute_result"
    }
   ],
   "source": [
    "a=1\n",
    "b=5\n",
    "c=14\n",
    "\n",
    "a*(16**2)+b*(16**1)+c*(16**0)"
   ]
  },
  {
   "cell_type": "code",
   "execution_count": 30,
   "id": "eee08d3b",
   "metadata": {},
   "outputs": [
    {
     "data": {
      "text/plain": [
       "350"
      ]
     },
     "execution_count": 30,
     "metadata": {},
     "output_type": "execute_result"
    }
   ],
   "source": [
    "int('0x15e', base=16)"
   ]
  },
  {
   "cell_type": "code",
   "execution_count": 31,
   "id": "73e7d918",
   "metadata": {},
   "outputs": [
    {
     "data": {
      "text/plain": [
       "547"
      ]
     },
     "execution_count": 31,
     "metadata": {},
     "output_type": "execute_result"
    }
   ],
   "source": [
    "(2*16**2+2*16**1+3*16**0)"
   ]
  },
  {
   "cell_type": "code",
   "execution_count": 32,
   "id": "8e716dac",
   "metadata": {},
   "outputs": [
    {
     "data": {
      "text/plain": [
       "547"
      ]
     },
     "execution_count": 32,
     "metadata": {},
     "output_type": "execute_result"
    }
   ],
   "source": [
    "int('0x223', base=16)"
   ]
  },
  {
   "cell_type": "code",
   "execution_count": null,
   "id": "0e47bc74",
   "metadata": {},
   "outputs": [],
   "source": []
  }
 ],
 "metadata": {
  "kernelspec": {
   "display_name": "Python 3 (ipykernel)",
   "language": "python",
   "name": "python3"
  },
  "language_info": {
   "codemirror_mode": {
    "name": "ipython",
    "version": 3
   },
   "file_extension": ".py",
   "mimetype": "text/x-python",
   "name": "python",
   "nbconvert_exporter": "python",
   "pygments_lexer": "ipython3",
   "version": "3.8.9"
  }
 },
 "nbformat": 4,
 "nbformat_minor": 5
}
