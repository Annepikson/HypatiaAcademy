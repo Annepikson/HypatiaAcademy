{
 "cells": [
  {
   "cell_type": "markdown",
   "metadata": {},
   "source": [
    "f(x)=2x<-------------this algebra.  Python same concept of **function**\n",
    "\n",
    "def f(x)<------------------ x is called a parameter\n",
    "    return 2*x  <------------this a returned value\n",
    "    \n",
    "    \n",
    "to call the function you write:\n",
    "\n",
    "\n",
    "f(4)--------->returns 8\n",
    "\n",
    "or you can assign the value to some variable\n",
    "\n",
    "\n",
    "y=f(4)\n",
    "print(y)\n",
    "8\n",
    "    \n",
    "    \n",
    "  \n",
    "\n"
   ]
  },
  {
   "cell_type": "markdown",
   "metadata": {},
   "source": [
    "dict={\"key\": \"value\"}\n",
    "\n",
    "dict={\"name\": \"Walker\"}\n",
    "dict['email']=\"walker@mail.com\"<----this adds a key\n",
    "print(\"dict=\", dict)<------print whole dictionary\n",
    "print(\"keys\", dict.keys())<------just print the keys\n",
    "print(\"values\", dict.values())<-----print the values\n",
    "\n",
    "for key, value in dict.items:<---------looping over the dictionary\n",
    "    print(key,value)\n",
    "\n"
   ]
  },
  {
   "cell_type": "markdown",
   "metadata": {},
   "source": [
    "primitive data types\n",
    "\n",
    "integer\n",
    "float\n",
    "boolean\n",
    "string"
   ]
  },
  {
   "cell_type": "markdown",
   "metadata": {},
   "source": [
    "a,b=b,a\n",
    "\n",
    "is the same as saying\n",
    "\n",
    "a=b\n",
    "b=a\n",
    "\n",
    "except it does it all at the same time\n",
    "\n"
   ]
  },
  {
   "cell_type": "markdown",
   "metadata": {},
   "source": [
    "x=3\n",
    "\n",
    "if x==2:\n",
    "    print(\"x is 2\")\n",
    "elif x==5:<-------------------same as if-else\n",
    "    print(\"x is 5\")\n",
    "else:\n",
    "    print(\"x is neither 2 nor 5\")"
   ]
  },
  {
   "cell_type": "markdown",
   "metadata": {},
   "source": [
    "arr=[1,2,3]\n",
    "arr.append(4)"
   ]
  },
  {
   "cell_type": "markdown",
   "metadata": {},
   "source": [
    "x=a <----means assign a to x\n",
    "\n",
    "x==a <----means test whether x is equal to a\n"
   ]
  },
  {
   "cell_type": "markdown",
   "metadata": {},
   "source": [
    "review how to work with files.  understand how to read and write a file:"
   ]
  },
  {
   "cell_type": "markdown",
   "metadata": {},
   "source": [
    "def writeData(parameter1, parameter2, parameter3):<---this creates\n",
    "                                        the variables parametere1,                                             paramter2, parameter 3\n",
    "                                        \n",
    "    print(parameter1, ...)\n",
    "    \n",
    "    do something to parameter1\n",
    "    \n",
    "    x = parameter1 + parameter2 + parameter3\n",
    "    \n",
    "    return x\n",
    "    \n",
    "\n",
    "y=writeData(1,2,3)\n",
    "\n",
    "print(y)\n",
    "6\n",
    "\n",
    "                                        \n",
    "\n",
    "     "
   ]
  },
  {
   "cell_type": "markdown",
   "metadata": {},
   "source": [
    "import simplejson as json\n",
    "\n",
    "d = {\"student\": \"Akay\", \"age\": 16, \"isMale\": True}\n",
    "\n",
    "f = open('/Users/walkerrowe/Downloads/akay.json', 'w+')\n",
    "\n",
    "f.write(json.dumps(d))<------you can't write a dictionary to a file, so \n",
    "                             convert it to a string first\n",
    "\n",
    "f.close()\n"
   ]
  }
 ],
 "metadata": {
  "kernelspec": {
   "display_name": "Python 3",
   "language": "python",
   "name": "python3"
  },
  "language_info": {
   "codemirror_mode": {
    "name": "ipython",
    "version": 3
   },
   "file_extension": ".py",
   "mimetype": "text/x-python",
   "name": "python",
   "nbconvert_exporter": "python",
   "pygments_lexer": "ipython3",
   "version": "3.4.4"
  }
 },
 "nbformat": 4,
 "nbformat_minor": 2
}
