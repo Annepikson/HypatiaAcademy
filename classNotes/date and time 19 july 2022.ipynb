{
 "cells": [
  {
   "cell_type": "markdown",
   "id": "8d523e04",
   "metadata": {},
   "source": [
    "une date régulière n'est pas un nombre. vous ne faites que des maths avec des nombres. donc si vous voulez calculer, par exemple, maintenant + 22 heures, vous devez utiliser un nombre\n",
    "\n",
    "Exemples :\n",
    "\n",
    "\n",
    "19 juillet 2022 9:21 <-----\n",
    "\n",
    "\n",
    "isodate \n",
    "\n",
    "1977-04-22T01:00:00-05:00 correspond au 22 avril 1977, à 1 h du matin heure normale de l'est de l'Amérique du Nord (soit 5 heures de décalage).\n",
    "1977-04-22T06:00:00Z correspond au même instant.\n",
    "\n",
    "\n",
    "\n",
    "epoch time = unix time = c'est le nombre de secondes depuis le 1er janvier 1970\n",
    "1658211609\n",
    "\n",
    "\n",
    "\n",
    "utc date\n",
    "\n",
    "eastern european time\n"
   ]
  },
  {
   "cell_type": "code",
   "execution_count": null,
   "id": "55919916",
   "metadata": {},
   "outputs": [],
   "source": [
    "from datetime import date\n",
    "\n",
    "# ordinaire joure c'est pas ISO date o epoch \n",
    " \n",
    "print(date.today())"
   ]
  },
  {
   "cell_type": "markdown",
   "id": "f92b26de",
   "metadata": {},
   "source": [
    "on dois apprendre comment\n",
    "\n",
    "* imprimer des dates\n",
    "* ajouter une heure à une date\n",
    "* imprimer dans différents formats\n",
    "* changer de jour\n",
    "* changer d'heure\n",
    "* changer de seconde\n",
    "\n"
   ]
  },
  {
   "cell_type": "code",
   "execution_count": 4,
   "id": "b30bfd7e",
   "metadata": {},
   "outputs": [
    {
     "name": "stdout",
     "output_type": "stream",
     "text": [
      "2022-07-19\n"
     ]
    }
   ],
   "source": [
    "d=date.today()\n",
    "print(d.isoformat())"
   ]
  },
  {
   "cell_type": "code",
   "execution_count": 5,
   "id": "f4d30a95",
   "metadata": {},
   "outputs": [
    {
     "data": {
      "text/plain": [
       "'Tue Tuesday 2 19 Jul July 07 22 2022 00 12 AM 00 00 000000   200 29 29 Tue Jul 19 00:00:00 2022 00:00:00 07/19/22'"
      ]
     },
     "execution_count": 5,
     "metadata": {},
     "output_type": "execute_result"
    }
   ],
   "source": [
    "d.strftime('%a %A %w %d %b %B %m %y %Y %H %I %p %M %S %f %Z %z %j %U %W %c %X %x')"
   ]
  },
  {
   "cell_type": "code",
   "execution_count": 7,
   "id": "4686e23a",
   "metadata": {},
   "outputs": [
    {
     "data": {
      "text/plain": [
       "'Tuesday'"
      ]
     },
     "execution_count": 7,
     "metadata": {},
     "output_type": "execute_result"
    }
   ],
   "source": [
    "# jour\n",
    "\n",
    "d.strftime('%A')"
   ]
  },
  {
   "cell_type": "code",
   "execution_count": 8,
   "id": "5c28f5cf",
   "metadata": {},
   "outputs": [
    {
     "data": {
      "text/plain": [
       "'Tue'"
      ]
     },
     "execution_count": 8,
     "metadata": {},
     "output_type": "execute_result"
    }
   ],
   "source": [
    "# jour\n",
    "\n",
    "d.strftime('%a')"
   ]
  },
  {
   "cell_type": "code",
   "execution_count": 11,
   "id": "9d4513a3",
   "metadata": {},
   "outputs": [
    {
     "data": {
      "text/plain": [
       "datetime.date"
      ]
     },
     "execution_count": 11,
     "metadata": {},
     "output_type": "execute_result"
    }
   ],
   "source": [
    "# c'est un object datetime.time\n",
    "\n",
    "type(date.today())"
   ]
  },
  {
   "cell_type": "code",
   "execution_count": 12,
   "id": "2b3b5e9d",
   "metadata": {},
   "outputs": [
    {
     "data": {
      "text/plain": [
       "datetime.date(2022, 7, 19)"
      ]
     },
     "execution_count": 12,
     "metadata": {},
     "output_type": "execute_result"
    }
   ],
   "source": [
    "date.today()"
   ]
  },
  {
   "cell_type": "code",
   "execution_count": 10,
   "id": "7d28e51d",
   "metadata": {},
   "outputs": [
    {
     "data": {
      "text/plain": [
       "'2022'"
      ]
     },
     "execution_count": 10,
     "metadata": {},
     "output_type": "execute_result"
    }
   ],
   "source": [
    "\n",
    "# an\n",
    "\n",
    "date.today().strftime(\"%Y\")"
   ]
  },
  {
   "cell_type": "code",
   "execution_count": 13,
   "id": "462105ed",
   "metadata": {},
   "outputs": [
    {
     "name": "stdout",
     "output_type": "stream",
     "text": [
      "<class 'int'>\n"
     ]
    }
   ],
   "source": [
    "# integer\n",
    "# nombre\n",
    "\n",
    "i=2\n",
    "print(type(i))"
   ]
  },
  {
   "cell_type": "code",
   "execution_count": 14,
   "id": "a143772b",
   "metadata": {},
   "outputs": [
    {
     "data": {
      "text/plain": [
       "datetime.date"
      ]
     },
     "execution_count": 14,
     "metadata": {},
     "output_type": "execute_result"
    }
   ],
   "source": [
    "# c'est un object datetime.time\n",
    "\n",
    "type(date.today())"
   ]
  },
  {
   "cell_type": "markdown",
   "id": "ff400ea0",
   "metadata": {},
   "source": [
    " un objet est quelque chose de plus compliqué qu'un nombre ou une chaîne. par exemple i=2 est un entier. date.now() est un objet date\n",
    " \n",
    " pourquoi il est nécessaire d'avoir un objet. Parce que pouvez-vous écrire ceci en python\n",
    " \n",
    " \n",
    " \"23 july 2020 07:30\" + \"2 weeks and 3 hours\""
   ]
  },
  {
   "cell_type": "code",
   "execution_count": 15,
   "id": "e7c2931f",
   "metadata": {},
   "outputs": [
    {
     "data": {
      "text/plain": [
       "'23 july 2020 07:302 weeks and 3 hours'"
      ]
     },
     "execution_count": 15,
     "metadata": {},
     "output_type": "execute_result"
    }
   ],
   "source": [
    "\n",
    " \n",
    "\"23 july 2020 07:30\" + \"2 weeks and 3 hours\n"
   ]
  },
  {
   "cell_type": "code",
   "execution_count": null,
   "id": "abf4b9e6",
   "metadata": {},
   "outputs": [],
   "source": [
    "\n",
    "\n",
    "1658212628\n",
    "\n",
    "ajouter \n",
    "\n",
    "2 jours = 2 * 24 * 60 * 60 secondes\n",
    "\n",
    "1658212628 + 15 heure?\n",
    "\n",
    "1658212628 + (15 * 60 * 60)"
   ]
  },
  {
   "cell_type": "markdown",
   "id": "a75b5c79",
   "metadata": {},
   "source": [
    "il est trop difficile de tout convertir en secondes, puis d'ajouter des secondes. donc python a des objets datetime et timedelta. ça facilite"
   ]
  },
  {
   "cell_type": "markdown",
   "id": "942f50e6",
   "metadata": {},
   "source": [
    "devoir:\n",
    "    \n",
    "* imprimer la date du jour au format UTC. (utiliser today()\n",
    "\n",
    "* imprimer la date du jour au format ISO. (utiliser isoformat()\n",
    "\n",
    "* Imprimez uniquement le jour (utilizer strfime)\n",
    "\n",
    "* N'imprimez que le mois. (utilizer strfime)"
   ]
  },
  {
   "cell_type": "code",
   "execution_count": null,
   "id": "e39fefad",
   "metadata": {},
   "outputs": [],
   "source": []
  }
 ],
 "metadata": {
  "kernelspec": {
   "display_name": "Python 3 (ipykernel)",
   "language": "python",
   "name": "python3"
  },
  "language_info": {
   "codemirror_mode": {
    "name": "ipython",
    "version": 3
   },
   "file_extension": ".py",
   "mimetype": "text/x-python",
   "name": "python",
   "nbconvert_exporter": "python",
   "pygments_lexer": "ipython3",
   "version": "3.8.9"
  }
 },
 "nbformat": 4,
 "nbformat_minor": 5
}
