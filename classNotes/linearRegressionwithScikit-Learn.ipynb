{
 "cells": [
  {
   "cell_type": "code",
   "execution_count": 5,
   "metadata": {},
   "outputs": [],
   "source": [
    "import numpy as np\n",
    "x=np.arange(0,20,1)\n",
    "\n",
    "y = np.array([\n",
    "1.1, 1.9, 3.6, 3.8, 5.2, 6.7, 8, 7.5, 9.3, 10, 14, 19, 11, 14.2, 15.3, 16,18, 16, 19.2, 19.75])\n",
    " \n"
   ]
  },
  {
   "cell_type": "code",
   "execution_count": 9,
   "metadata": {},
   "outputs": [
    {
     "data": {
      "text/plain": [
       "<function matplotlib.pyplot.show(*args, **kw)>"
      ]
     },
     "execution_count": 9,
     "metadata": {},
     "output_type": "execute_result"
    },
    {
     "data": {
      "image/png": "[encoded data removed]",
      "text/plain": [
       "<Figure size 432x288 with 1 Axes>"
      ]
     },
     "metadata": {
      "needs_background": "light"
     },
     "output_type": "display_data"
    }
   ],
   "source": [
    "import matplotlib.pyplot as plt\n",
    "\n",
    "plt.scatter(x,y)\n",
    "plt.show"
   ]
  },
  {
   "cell_type": "code",
   "execution_count": 10,
   "metadata": {},
   "outputs": [
    {
     "name": "stdout",
     "output_type": "stream",
     "text": [
      "[-0.63  0.32  1.27  2.22  3.17  4.12  5.07  6.02  6.97  7.92  8.87  9.82\n",
      " 10.77 11.72 12.67 13.62 14.57 15.52 16.47 17.42]\n"
     ]
    }
   ],
   "source": [
    "z=0.95*x-0.63\n",
    "print(z)"
   ]
  },
  {
   "cell_type": "code",
   "execution_count": 11,
   "metadata": {},
   "outputs": [
    {
     "data": {
      "text/plain": [
       "<function matplotlib.pyplot.show(*args, **kw)>"
      ]
     },
     "execution_count": 11,
     "metadata": {},
     "output_type": "execute_result"
    },
    {
     "data": {
      "image/png": "[encoded data removed]",
      "text/plain": [
       "<Figure size 432x288 with 1 Axes>"
      ]
     },
     "metadata": {
      "needs_background": "light"
     },
     "output_type": "display_data"
    }
   ],
   "source": [
    "plt.scatter(x,z)\n",
    "plt.show"
   ]
  },
  {
   "cell_type": "code",
   "execution_count": 16,
   "metadata": {},
   "outputs": [
    {
     "name": "stdout",
     "output_type": "stream",
     "text": [
      "19.75\n"
     ]
    }
   ],
   "source": [
    "observed=y[-1]\n",
    "print(observed)"
   ]
  },
  {
   "cell_type": "code",
   "execution_count": 17,
   "metadata": {},
   "outputs": [
    {
     "name": "stdout",
     "output_type": "stream",
     "text": [
      "17.42\n"
     ]
    }
   ],
   "source": [
    "predicted=z[-1]\n",
    "print(predicted)"
   ]
  },
  {
   "cell_type": "code",
   "execution_count": 18,
   "metadata": {},
   "outputs": [
    {
     "data": {
      "text/plain": [
       "array([ 0,  1,  2,  3,  4,  5,  6,  7,  8,  9, 10, 11, 12, 13, 14, 15, 16,\n",
       "       17, 18, 19])"
      ]
     },
     "execution_count": 18,
     "metadata": {},
     "output_type": "execute_result"
    }
   ],
   "source": [
    "x"
   ]
  },
  {
   "cell_type": "code",
   "execution_count": 20,
   "metadata": {},
   "outputs": [
    {
     "name": "stdout",
     "output_type": "stream",
     "text": [
      "2.3299999999999983\n"
     ]
    }
   ],
   "source": [
    "error=abs(predicted-observed)\n",
    "print(error)"
   ]
  },
  {
   "cell_type": "code",
   "execution_count": 40,
   "metadata": {},
   "outputs": [
    {
     "data": {
      "text/plain": [
       "LinearRegression(copy_X=True, fit_intercept=True, n_jobs=None,\n",
       "         normalize=False)"
      ]
     },
     "execution_count": 40,
     "metadata": {},
     "output_type": "execute_result"
    }
   ],
   "source": [
    "import matplotlib.pyplot as plt\n",
    "from sklearn import linear_model\n",
    "import numpy as np\n",
    "from sklearn.metrics import mean_squared_error, r2_score\n",
    "\n",
    "# fille the independent variable x with 0 to 19\n",
    "\n",
    "x=np.arange(0,20,1)\n",
    "\n",
    "# fill the dependent variable with these actual observed student\n",
    "# scores\n",
    "y = np.array([\n",
    "1.1, 1.9, 3.6, 3.8, 5.2, 6.7, 8, 7.5, 9.3, 10, 14, 19, 11, 14.2, 15.3, 16,18, 16, 19.2, 19.75])\n",
    "\n",
    "'''\n",
    "documentation https://scikit-learn.org/stable/modules/generated/sklearn.linear_model.LinearRegression.html\n",
    "''' \n",
    "\n",
    "# create the scikit-leearn linear regressions mode\n",
    "\n",
    "\n",
    "reg = linear_model.LinearRegression(fit_intercept=True)\n",
    "\n",
    "# scikit-leearn linear regressions mode requires thast x be of shape (20,1)\n",
    "# and not (20,)\n",
    "\n",
    "x1=x.reshape(20,1)\n",
    "\n",
    "# fit means calculate the coeffiecient and y-intercept\n",
    "\n",
    "reg.fit(x1,y)"
   ]
  },
  {
   "cell_type": "code",
   "execution_count": 28,
   "metadata": {},
   "outputs": [
    {
     "name": "stdout",
     "output_type": "stream",
     "text": [
      "(20, 1)\n",
      "(20,)\n"
     ]
    }
   ],
   "source": [
    "x1 = x[:].reshape(20,1)\n",
    "print(x1.shape)\n",
    "print(x.shape)"
   ]
  },
  {
   "cell_type": "code",
   "execution_count": 42,
   "metadata": {},
   "outputs": [
    {
     "data": {
      "text/plain": [
       "<function matplotlib.pyplot.show(*args, **kw)>"
      ]
     },
     "execution_count": 42,
     "metadata": {},
     "output_type": "execute_result"
    },
    {
     "data": {
      "image/png": "[encoded data removed]",
      "text/plain": [
       "<Figure size 432x288 with 1 Axes>"
      ]
     },
     "metadata": {
      "needs_background": "light"
     },
     "output_type": "display_data"
    }
   ],
   "source": [
    "plt.scatter(x,y)\n",
    "plt.show"
   ]
  },
  {
   "cell_type": "code",
   "execution_count": 35,
   "metadata": {},
   "outputs": [
    {
     "name": "stdout",
     "output_type": "stream",
     "text": [
      "Coefficients: \n",
      " [0.9843985]\n",
      "Intercept: \n",
      " 1.6257142857142863\n",
      "Mean squared error: 5.43\n",
      "Coefficient of determination: 0.84\n"
     ]
    }
   ],
   "source": [
    " \n",
    "\n",
    "\n",
    "print('Coefficients: \\n', reg.coef_)\n",
    "print('Intercept: \\n', reg.intercept_)\n",
    "print('Mean squared error: %.2f' % mean_squared_error(x, y))\n",
    "print('Coefficient of determination: %.2f' % r2_score(x, y))"
   ]
  },
  {
   "cell_type": "code",
   "execution_count": 43,
   "metadata": {},
   "outputs": [
    {
     "name": "stdout",
     "output_type": "stream",
     "text": [
      "[ 1.62571429  2.61011278  3.59451128  4.57890977  5.56330827  6.54770677\n",
      "  7.53210526  8.51650376  9.50090226 10.48530075 11.46969925 12.45409774\n",
      " 13.43849624 14.42289474 15.40729323 16.39169173 17.37609023 18.36048872\n",
      " 19.34488722 20.32928571]\n"
     ]
    }
   ],
   "source": [
    "predictedValues=reg.coef_*x+reg.intercept_\n",
    "print(predictedValues)"
   ]
  },
  {
   "cell_type": "code",
   "execution_count": 44,
   "metadata": {},
   "outputs": [
    {
     "data": {
      "text/plain": [
       "<function matplotlib.pyplot.show(*args, **kw)>"
      ]
     },
     "execution_count": 44,
     "metadata": {},
     "output_type": "execute_result"
    },
    {
     "data": {
      "image/png": "[encoded data removed]",
      "text/plain": [
       "<Figure size 432x288 with 1 Axes>"
      ]
     },
     "metadata": {
      "needs_background": "light"
     },
     "output_type": "display_data"
    }
   ],
   "source": [
    "plt.scatter(x,predictedValues)\n",
    "plt.show"
   ]
  },
  {
   "cell_type": "markdown",
   "metadata": {},
   "source": [
    "Here is an assignment to work on for the next two weeks.  Find the coefficient of the relationship between IQ (intelligence) and vaccination rates in the 50 united states.  First calculate it using Google sheets.  Then we will use scikit-learn to do this.  Here is the data:\n",
    "https://www.inc.com/bill-murphy-jr/we-compared-average-iq-score-in-all-50-states-results-are-eye-opening.html\n",
    "https://www.mayoclinic.org/coronavirus-covid-19/vaccine-tracker (edited) "
   ]
  },
  {
   "cell_type": "code",
   "execution_count": null,
   "metadata": {},
   "outputs": [],
   "source": []
  }
 ],
 "metadata": {
  "kernelspec": {
   "display_name": "Python 3",
   "language": "python",
   "name": "python3"
  },
  "language_info": {
   "codemirror_mode": {
    "name": "ipython",
    "version": 3
   },
   "file_extension": ".py",
   "mimetype": "text/x-python",
   "name": "python",
   "nbconvert_exporter": "python",
   "pygments_lexer": "ipython3",
   "version": "3.4.4"
  }
 },
 "nbformat": 4,
 "nbformat_minor": 2
}
