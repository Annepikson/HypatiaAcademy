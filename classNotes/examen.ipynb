{
 "cells": [
  {
   "cell_type": "code",
   "execution_count": 1,
   "id": "31f8a5cc",
   "metadata": {},
   "outputs": [
    {
     "name": "stdout",
     "output_type": "stream",
     "text": [
      "('lundi', 'mardi', 'mercredi', 12, 12.2, 'jeudi', 'vendredi', 'samedi', 'daimanche')\n",
      "('lundi', 'mardi', 'mercredi', 12, 12.2, 'jeudi', 'vendredi', 'samedi', 'daimanche')\n",
      "12\n",
      "\n",
      "bonjour tout lemonde\n",
      "['laptop', 'tablette', 'iphone']\n",
      "['laptop', 'tablette', 'iphone', 'samsung']\n",
      "['laptop', 'tablette', 'iphone', 'samsung', 'Tecno']\n",
      "\n",
      "{'name': 'peter', 'age': 15, 'poid': 60}\n",
      "dict_keys(['name', 'age', 'poid'])\n",
      "dict_values(['peter', 15, 60])\n",
      "12\n",
      "\n",
      "bonjour tout lemonde\n",
      "['laptop', 'tablette', 'iphone']\n",
      "['laptop', 'tablette', 'iphone', 'samsung']\n",
      "['laptop', 'tablette', 'iphone', 'samsung', 'Tecno']\n",
      "\n",
      "{'name': 'peter', 'age': 15, 'poid': 60}\n",
      "dict_keys(['name', 'age', 'poid'])\n",
      "dict_values(['peter', 15, 60])\n"
     ]
    }
   ],
   "source": [
    "# fonction & liste\n",
    "\n",
    "# https://github.com/werowe/HypatiaAcademy/blob/master/classNotes/functions%20en%20francais%2014%20juillet%202022.ipynb\n",
    "\n",
    "\n",
    "def functiona():\n",
    "    return x\n",
    "\n",
    "from datetime import datetime\n",
    "\n",
    "semaine = (\"lundi\", \"mardi\", \"mercredi\", 12, 12.2, \"jeudi\", \"vendredi\", \"samedi\", \"daimanche\")\n",
    "\n",
    "print(semaine)# liste\n",
    "\n",
    "from datetime import datetime\n",
    "\n",
    "semaine = (\"lundi\", \"mardi\", \"mercredi\", 12, 12.2, \"jeudi\", \"vendredi\", \"samedi\", \"daimanche\")\n",
    "\n",
    "print(semaine)\n",
    "print(semaine[3])\n",
    "\n",
    "print()\n",
    "\n",
    "salutations = (\"bonjour\"+\"\"+\" \"+\"tout\"+\" \"+\"le\"+\"monde\")\n",
    "print(salutations)\n",
    "\n",
    "# c'este bonne\n",
    "\n",
    "z = [\"laptop\", \"tablette\"]\n",
    "# print(z)\n",
    "z.append(\"iphone\")\n",
    "print(z)\n",
    "z.append(\"samsung\")\n",
    "print(z)\n",
    "z.append(\"Tecno\")\n",
    "print(z)\n",
    "\n",
    "print()\n",
    "\n",
    "# 2 dictionnaire\n",
    "\n",
    "eleves = {\"name\": \"peter\", \"age\":15, \"poid\":60}\n",
    "print(eleves)\n",
    "print(eleves.keys())\n",
    "print(eleves.values())\n",
    "\n",
    "\n",
    "print(semaine[3])\n",
    "\n",
    "print()\n",
    "\n",
    "salutations = (\"bonjour\"+\"\"+\" \"+\"tout\"+\" \"+\"le\"+\"monde\")\n",
    "print(salutations)\n",
    "\n",
    "z = [\"laptop\", \"tablette\"]\n",
    "# print(z)\n",
    "z.append(\"iphone\")\n",
    "print(z)\n",
    "z.append(\"samsung\")\n",
    "print(z)\n",
    "z.append(\"Tecno\")\n",
    "print(z)\n",
    "\n",
    "print()\n",
    "\n",
    "# 2 dictionnaire\n",
    "\n",
    "eleves = {\"name\": \"peter\", \"age\":15, \"poid\":60}\n",
    "print(eleves)\n",
    "print(eleves.keys())\n",
    "print(eleves.values())\n",
    "\n",
    "# 3 convertir un entier en chaine\n",
    "\n",
    "mum = (\"1987\")"
   ]
  },
  {
   "cell_type": "code",
   "execution_count": 2,
   "id": "9c94a72e",
   "metadata": {},
   "outputs": [
    {
     "name": "stdout",
     "output_type": "stream",
     "text": [
      "<class 'tuple'>\n"
     ]
    }
   ],
   "source": [
    "semaine = (\"lundi\", \"mardi\", \"mercredi\", 12, 12.2, \"jeudi\", \"vendredi\", \"samedi\", \"daimanche\")\n",
    "print(type(semaine))"
   ]
  },
  {
   "cell_type": "code",
   "execution_count": 3,
   "id": "412f5e00",
   "metadata": {},
   "outputs": [
    {
     "name": "stdout",
     "output_type": "stream",
     "text": [
      "<class 'list'>\n"
     ]
    }
   ],
   "source": [
    "semaine = [\"lundi\", \"mardi\", \"mercredi\", 12, 12.2, \"jeudi\", \"vendredi\", \"samedi\", \"daimanche\"]\n",
    "print(type(semaine))"
   ]
  },
  {
   "cell_type": "code",
   "execution_count": 4,
   "id": "6d5f1409",
   "metadata": {},
   "outputs": [
    {
     "name": "stdout",
     "output_type": "stream",
     "text": [
      "1987\n"
     ]
    }
   ],
   "source": [
    "# 3 convertir un entier en chaine\n",
    "\n",
    "mum = 1987\n",
    "print(str(mum))"
   ]
  },
  {
   "cell_type": "code",
   "execution_count": null,
   "id": "d5d3a5b4",
   "metadata": {},
   "outputs": [],
   "source": []
  }
 ],
 "metadata": {
  "kernelspec": {
   "display_name": "Python 3 (ipykernel)",
   "language": "python",
   "name": "python3"
  },
  "language_info": {
   "codemirror_mode": {
    "name": "ipython",
    "version": 3
   },
   "file_extension": ".py",
   "mimetype": "text/x-python",
   "name": "python",
   "nbconvert_exporter": "python",
   "pygments_lexer": "ipython3",
   "version": "3.8.9"
  }
 },
 "nbformat": 4,
 "nbformat_minor": 5
}
