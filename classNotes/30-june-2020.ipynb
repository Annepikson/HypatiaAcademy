{
 "cells": [
  {
   "cell_type": "code",
   "execution_count": 6,
   "id": "b5a00c5c",
   "metadata": {},
   "outputs": [
    {
     "name": "stdout",
     "output_type": "stream",
     "text": [
      "tenis\n",
      "===============\n",
      "50.35\n",
      "['tenis', 'rubi', 'basket', 'football', 100, 50.35, 'vole']\n",
      "['tenis', 'rubi', 'basket', 'football', 'danse', 50.35, 'vole']\n",
      "\n",
      " before delete  ['tenis', 'rubi', 'basket', 'football', 'danse', 50.35, 'vole']\n",
      "\n",
      " after delete  ['tenis', 'rubi', 'basket', 'football', 50.35, 'vole']\n",
      "\n",
      " \n",
      " \\ n ['tenis', 'rubi', 'basket', 'football', 50.35, 'vole', 'samedi']\n"
     ]
    },
    {
     "data": {
      "text/plain": [
       "\"\\npeter1.apend('\\n            32', '5', '12', '8', '3', '75', '2', '15')\\nprint(peter1)'\\n\""
      ]
     },
     "execution_count": 6,
     "metadata": {},
     "output_type": "execute_result"
    }
   ],
   "source": [
    "sport = ['tenis', 'rubi', 'basket', 'football' ,100, 50.35, 'vole'] \n",
    "print(sport[0])\n",
    "\n",
    "print(\"===============\")\n",
    "\n",
    "print(sport[5])\n",
    "\n",
    "print(sport)\n",
    "\n",
    "sport[4] = 'danse'\n",
    "print(sport)\n",
    "\n",
    "print(\"\\n before delete \", sport)\n",
    "del(sport[4])\n",
    "print(\"\\n after delete \",sport)\n",
    "\n",
    "\n",
    "sport.append('samedi')\n",
    "print(\"\\n \\n \\ n\" ,  sport)\n",
    "\n",
    "\n",
    "\n",
    "peter1 = [31,28,31,30,31,30,31,31,30,31,30,31]\n",
    "peter2 = ['janvier', 'fevrier', 'mars', 'avril', 'mai', 'juin', 'juiellet', 'aout', 'septembre','octobre', 'novembre','decembre']\n",
    "\n"
   ]
  },
  {
   "cell_type": "code",
   "execution_count": 4,
   "id": "6d2011cf",
   "metadata": {},
   "outputs": [
    {
     "name": "stdout",
     "output_type": "stream",
     "text": [
      "this is a string Pete ['a', 'b', 'c']\n"
     ]
    }
   ],
   "source": [
    "print(\"this is a string Pete\" , [\"a\", \"b\", \"c\"])"
   ]
  },
  {
   "cell_type": "code",
   "execution_count": 5,
   "id": "0e5af33d",
   "metadata": {},
   "outputs": [
    {
     "data": {
      "text/plain": [
       "list"
      ]
     },
     "execution_count": 5,
     "metadata": {},
     "output_type": "execute_result"
    }
   ],
   "source": [
    "type([\"a\", \"b\", \"c\"])"
   ]
  },
  {
   "cell_type": "code",
   "execution_count": 7,
   "id": "dc46c67f",
   "metadata": {},
   "outputs": [
    {
     "data": {
      "text/plain": [
       "False"
      ]
     },
     "execution_count": 7,
     "metadata": {},
     "output_type": "execute_result"
    }
   ],
   "source": [
    "\"\\n\" == \"\\ n\""
   ]
  },
  {
   "cell_type": "code",
   "execution_count": 14,
   "id": "4ac1ae5e",
   "metadata": {},
   "outputs": [
    {
     "name": "stdout",
     "output_type": "stream",
     "text": [
      "[31, 28, 31, 30, 31, 30, 31, 31, 30, 31, 30, 31, '32', '5', '32']\n"
     ]
    }
   ],
   "source": [
    " \n",
    "peter1.append('32')\n",
    "#peter1.append('5', '12', '8', '3', '75', '2', '15')\n",
    "print(peter1)\n",
    " "
   ]
  },
  {
   "cell_type": "code",
   "execution_count": 15,
   "id": "9ca7cf22",
   "metadata": {},
   "outputs": [
    {
     "data": {
      "text/plain": [
       "15"
      ]
     },
     "execution_count": 15,
     "metadata": {},
     "output_type": "execute_result"
    }
   ],
   "source": [
    "len(peter1)"
   ]
  },
  {
   "cell_type": "code",
   "execution_count": 23,
   "id": "c5b40a48",
   "metadata": {},
   "outputs": [
    {
     "name": "stdout",
     "output_type": "stream",
     "text": [
      "i= 0  value= 31\n",
      "i= 1  value= 28\n",
      "i= 2  value= 31\n",
      "i= 3  value= 30\n",
      "i= 4  value= 31\n",
      "i= 5  value= 30\n",
      "i= 6  value= 31\n"
     ]
    }
   ],
   "source": [
    "for i in range(len(sport)):\n",
    "    print(\"i=\", i, \" value=\", peter1[i])"
   ]
  },
  {
   "cell_type": "code",
   "execution_count": 18,
   "id": "bb8027a2",
   "metadata": {},
   "outputs": [
    {
     "name": "stdout",
     "output_type": "stream",
     "text": [
      "0\n",
      "1\n",
      "2\n",
      "3\n",
      "4\n",
      "5\n",
      "6\n",
      "7\n",
      "8\n",
      "9\n"
     ]
    }
   ],
   "source": [
    "for i in range(10):\n",
    "    print(i)"
   ]
  },
  {
   "cell_type": "code",
   "execution_count": 22,
   "id": "7efe426a",
   "metadata": {},
   "outputs": [
    {
     "name": "stdout",
     "output_type": "stream",
     "text": [
      "tenis\n",
      "rubi\n",
      "basket\n",
      "football\n",
      "50.35\n",
      "vole\n",
      "samedi\n"
     ]
    }
   ],
   "source": [
    "for x in sport:\n",
    "    print(x)"
   ]
  },
  {
   "cell_type": "code",
   "execution_count": 21,
   "id": "6dba31d2",
   "metadata": {},
   "outputs": [
    {
     "data": {
      "text/plain": [
       "[31, 28, 31, 30, 31, 30, 31, 31, 30, 31, 30, 31, '32', '5', '32']"
      ]
     },
     "execution_count": 21,
     "metadata": {},
     "output_type": "execute_result"
    }
   ],
   "source": [
    "peter1"
   ]
  },
  {
   "cell_type": "code",
   "execution_count": 40,
   "id": "fb710c2a",
   "metadata": {},
   "outputs": [
    {
     "name": "stdout",
     "output_type": "stream",
     "text": [
      "0\n",
      "3\n",
      "6\n",
      "9\n"
     ]
    }
   ],
   "source": [
    "\n",
    "for i in range(0,10,3):\n",
    "    print(i)"
   ]
  },
  {
   "cell_type": "code",
   "execution_count": 38,
   "id": "995317ab",
   "metadata": {},
   "outputs": [
    {
     "name": "stdout",
     "output_type": "stream",
     "text": [
      "9\n",
      "8\n",
      "7\n",
      "6\n",
      "5\n",
      "4\n",
      "3\n",
      "2\n",
      "1\n",
      "0\n"
     ]
    }
   ],
   "source": [
    "for i in range(9,-1,-1):\n",
    "    print(i)\n"
   ]
  },
  {
   "cell_type": "code",
   "execution_count": null,
   "id": "e329bcdf",
   "metadata": {},
   "outputs": [],
   "source": [
    "'''\n",
    "range(start,end,step)\n",
    "\n",
    "start=commence\n",
    "end=le fin\n",
    "step=combiens de choses a la fois\n",
    "'''\n",
    "\n"
   ]
  },
  {
   "cell_type": "code",
   "execution_count": 41,
   "id": "0155b9e2",
   "metadata": {},
   "outputs": [
    {
     "name": "stdout",
     "output_type": "stream",
     "text": [
      "[[1, 2], [3, 4], [5, 6]]\n"
     ]
    }
   ],
   "source": [
    "a=[1,2]\n",
    "b=[3,4]\n",
    "c=[5,6]\n",
    "\n",
    "d=[a,b,c]\n",
    "print(d)"
   ]
  },
  {
   "cell_type": "code",
   "execution_count": 45,
   "id": "ec172136",
   "metadata": {},
   "outputs": [
    {
     "name": "stdout",
     "output_type": "stream",
     "text": [
      "2e element dans le list d= [3, 4]\n",
      "2e element dans le 2e list b= 4\n"
     ]
    }
   ],
   "source": [
    "'''si tu veux voire le 2e chose dedans la 2e list comment faire'''\n",
    "\n",
    "print(\"2e element dans le list d=\", d[1])\n",
    "print(\"2e element dans le 2e list b=\", d[1][1])"
   ]
  },
  {
   "cell_type": "code",
   "execution_count": 49,
   "id": "d45b694e",
   "metadata": {},
   "outputs": [
    {
     "name": "stdout",
     "output_type": "stream",
     "text": [
      "{'student': 'peter', 'ville': 'Peyia', 'age': 15}\n"
     ]
    }
   ],
   "source": [
    "'''dictionaries\n",
    "\n",
    "c'est comment un liste sauf chaque element avoir un nombe\n",
    "\n",
    "'''\n",
    "\n",
    "d={\n",
    "    \"student\": \"peter\",\n",
    "    \"ville\": \"Peyia\",\n",
    "    \"age\": 15\n",
    "    \n",
    "}\n",
    "\n",
    "print(d)"
   ]
  },
  {
   "cell_type": "code",
   "execution_count": 51,
   "id": "d82be599",
   "metadata": {},
   "outputs": [
    {
     "data": {
      "text/plain": [
       "'Peyia'"
      ]
     },
     "execution_count": 51,
     "metadata": {},
     "output_type": "execute_result"
    }
   ],
   "source": [
    "d['ville']"
   ]
  },
  {
   "cell_type": "code",
   "execution_count": 54,
   "id": "5cba6f1c",
   "metadata": {},
   "outputs": [],
   "source": [
    "peter={\n",
    "    \"student\": \"peter\",\n",
    "    \"ville\": \"Peyia\",\n",
    "    \"age\": 15\n",
    "    \n",
    "}\n",
    "\n",
    "walker={\n",
    "    \"student\": \"walker\",\n",
    "    \"ville\": \"Peyia\",\n",
    "    \"age\": 61\n",
    "    \n",
    "}\n",
    "\n",
    "cp=[peter,walker]\n"
   ]
  },
  {
   "cell_type": "code",
   "execution_count": 56,
   "id": "e5de2420",
   "metadata": {},
   "outputs": [
    {
     "name": "stdout",
     "output_type": "stream",
     "text": [
      "{'student': 'walker', 'ville': 'Peyia', 'age': 61}\n"
     ]
    }
   ],
   "source": [
    "print(cp[1])"
   ]
  },
  {
   "cell_type": "code",
   "execution_count": 57,
   "id": "1b1af24a",
   "metadata": {},
   "outputs": [
    {
     "name": "stdout",
     "output_type": "stream",
     "text": [
      "walker\n"
     ]
    }
   ],
   "source": [
    "print(cp[1]['student'])"
   ]
  },
  {
   "cell_type": "code",
   "execution_count": 59,
   "id": "bb34a21b",
   "metadata": {},
   "outputs": [
    {
     "data": {
      "text/plain": [
       "dict_keys(['student', 'ville', 'age'])"
      ]
     },
     "execution_count": 59,
     "metadata": {},
     "output_type": "execute_result"
    }
   ],
   "source": [
    "walker.keys()"
   ]
  },
  {
   "cell_type": "code",
   "execution_count": 60,
   "id": "bb577cdb",
   "metadata": {},
   "outputs": [
    {
     "data": {
      "text/plain": [
       "61"
      ]
     },
     "execution_count": 60,
     "metadata": {},
     "output_type": "execute_result"
    }
   ],
   "source": [
    "walker['age']"
   ]
  },
  {
   "cell_type": "code",
   "execution_count": 61,
   "id": "a664c0fc",
   "metadata": {},
   "outputs": [
    {
     "data": {
      "text/plain": [
       "dict_values(['walker', 'Peyia', 61])"
      ]
     },
     "execution_count": 61,
     "metadata": {},
     "output_type": "execute_result"
    }
   ],
   "source": [
    "walker.values()"
   ]
  },
  {
   "cell_type": "code",
   "execution_count": 62,
   "id": "19768862",
   "metadata": {},
   "outputs": [
    {
     "data": {
      "text/plain": [
       "dict_keys(['student', 'ville', 'age'])"
      ]
     },
     "execution_count": 62,
     "metadata": {},
     "output_type": "execute_result"
    }
   ],
   "source": [
    "peter.keys()"
   ]
  },
  {
   "cell_type": "code",
   "execution_count": null,
   "id": "34e2068f",
   "metadata": {},
   "outputs": [],
   "source": []
  }
 ],
 "metadata": {
  "kernelspec": {
   "display_name": "Python 3 (ipykernel)",
   "language": "python",
   "name": "python3"
  },
  "language_info": {
   "codemirror_mode": {
    "name": "ipython",
    "version": 3
   },
   "file_extension": ".py",
   "mimetype": "text/x-python",
   "name": "python",
   "nbconvert_exporter": "python",
   "pygments_lexer": "ipython3",
   "version": "3.8.9"
  }
 },
 "nbformat": 4,
 "nbformat_minor": 5
}
