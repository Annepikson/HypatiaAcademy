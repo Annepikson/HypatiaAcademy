{
 "cells": [
  {
   "cell_type": "code",
   "execution_count": 1,
   "id": "1d1306b8",
   "metadata": {},
   "outputs": [
    {
     "name": "stdout",
     "output_type": "stream",
     "text": [
      "nombre,dateNaissance,salaire,pays,ipAddress\n",
      "\n",
      "Juilen,3/12/1986,4000,Chipre,160.208.219.22\n",
      "\n",
      "Marc,12/08/1998,2843,Pays Bas,246.103.196.17\n",
      "\n",
      "Darmien,09/11/2001,3834,Allemagne,194.196.201.119\n",
      "\n",
      "Paul,03/09/1999,2523,Espagne,64.72.118.150\n",
      "\n",
      "Eric,06/30/2002,4691,Chili,118.121.190.49\n",
      "\n",
      "Ivan,11/06/2001,4197,Etats Unis,172.109.31.147\n",
      "\n",
      "Romeo,10/04/2009,2426,Turkie,93.128.250.10\n",
      "\n",
      "Marie,07/09/2003,2356,Grec,35.36.1.207\n",
      "\n",
      "Stella,09/22/2010,4426,Norwege,149.187.175.104\n",
      "\n",
      "Peter,05/12/2007,4796,Royaume Uni,177.246.30.154\n",
      "\n",
      "Franck,11/29/2009,4091,Tunisie,240.240.155.168\n"
     ]
    }
   ],
   "source": [
    "\n",
    "'''\n",
    "\n",
    "\n",
    "comment ouvrir un fiche dans un ordinatuer\n",
    "\n",
    "with open(\"/Users/walkerrowe/Downloads/gens.csv\") as file:\n",
    "    for line in file:\n",
    "        print(line)\n",
    "        \n",
    "        \n",
    "        \n",
    "'''"
   ]
  },
  {
   "cell_type": "markdown",
   "id": "d6d9aa91",
   "metadata": {},
   "source": [
    "comment ouvir un fiche dans le nube\n"
   ]
  },
  {
   "cell_type": "code",
   "execution_count": 8,
   "id": "84360867",
   "metadata": {},
   "outputs": [
    {
     "name": "stdout",
     "output_type": "stream",
     "text": [
      "<class 'bytes'> b'nombre,dateNaissance,salaire,pays,ipAddress\\r\\n'\n",
      "<class 'bytes'> b'Juilen,3/12/1986,4000,Chipre,160.208.219.22\\r\\n'\n",
      "<class 'bytes'> b'Marc,12/08/1998,2843,Pays Bas,246.103.196.17\\r\\n'\n",
      "<class 'bytes'> b'Darmien,09/11/2001,3834,Allemagne,194.196.201.119\\r\\n'\n",
      "<class 'bytes'> b'Paul,03/09/1999,2523,Espagne,64.72.118.150\\r\\n'\n",
      "<class 'bytes'> b'Eric,06/30/2002,4691,Chili,118.121.190.49\\r\\n'\n",
      "<class 'bytes'> b'Ivan,11/06/2001,4197,Etats Unis,172.109.31.147\\r\\n'\n",
      "<class 'bytes'> b'Romeo,10/04/2009,2426,Turkie,93.128.250.10\\r\\n'\n",
      "<class 'bytes'> b'Marie,07/09/2003,2356,Grec,35.36.1.207\\r\\n'\n",
      "<class 'bytes'> b'Stella,09/22/2010,4426,Norwege,149.187.175.104\\r\\n'\n",
      "<class 'bytes'> b'Peter,05/12/2007,4796,Royaume Uni,177.246.30.154\\r\\n'\n",
      "<class 'bytes'> b'Franck,11/29/2009,4091,Tunisie,240.240.155.168'\n"
     ]
    }
   ],
   "source": [
    "\n",
    "from urllib.request import urlopen\n",
    "\n",
    "fiche=\"https://www.dropbox.com/s/1pivdcmupdbjc40/gens.csv?dl=1\"\n",
    "file = urlopen(fiche)\n",
    "\n",
    "allLines = file.readlines()\n",
    "\n",
    "for lines in allLines:\n",
    "    print(type(lines), lines)"
   ]
  },
  {
   "cell_type": "markdown",
   "id": "2325e9b1",
   "metadata": {},
   "source": [
    "dans le prochaine class, nous all a faire ca:\n",
    "\n",
    "\n",
    "Stella,09/22/2010,4426,Norwege,149.187.175.104\n",
    "\n",
    "comme ca:\n",
    "\n",
    "]Stella,09/22/2010,4426,Norwege,149.187.175.104]\n",
    "\n",
    "est comme ca:\n",
    "\n",
    "\n",
    "{\n",
    "nombre: Stella,\n",
    "jn: 9/22/2010,\n",
    "salair: 4425,\n",
    "pays: Norwege\n",
    "ipAddr:  149.187.175.104\n",
    "}\n"
   ]
  }
 ],
 "metadata": {
  "kernelspec": {
   "display_name": "Python 3 (ipykernel)",
   "language": "python",
   "name": "python3"
  },
  "language_info": {
   "codemirror_mode": {
    "name": "ipython",
    "version": 3
   },
   "file_extension": ".py",
   "mimetype": "text/x-python",
   "name": "python",
   "nbconvert_exporter": "python",
   "pygments_lexer": "ipython3",
   "version": "3.8.9"
  }
 },
 "nbformat": 4,
 "nbformat_minor": 5
}
