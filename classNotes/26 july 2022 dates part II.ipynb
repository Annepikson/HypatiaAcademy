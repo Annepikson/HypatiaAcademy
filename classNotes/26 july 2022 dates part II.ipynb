{
 "cells": [
  {
   "cell_type": "code",
   "execution_count": null,
   "id": "c1d5037e",
   "metadata": {},
   "outputs": [],
   "source": [
    "'add 2 weeks and 12 hours to Friday'"
   ]
  },
  {
   "cell_type": "code",
   "execution_count": 20,
   "id": "5aa4dda5",
   "metadata": {},
   "outputs": [
    {
     "name": "stdout",
     "output_type": "stream",
     "text": [
      "2022-07-29\n"
     ]
    }
   ],
   "source": [
    "from datetime import timedelta\n",
    "from datetime import date\n",
    "import datetime\n",
    "\n",
    "an=2022\n",
    "mois=7\n",
    "jour=29\n",
    "\n",
    "friday = date(an,mois, jour)\n",
    "print(friday)\n"
   ]
  },
  {
   "cell_type": "code",
   "execution_count": 6,
   "id": "9f2a0239",
   "metadata": {},
   "outputs": [],
   "source": [
    "twoWeeks12Hours=timedelta(days=14,hours=12, minutes=0, seconds=0, microseconds=0)\n",
    " "
   ]
  },
  {
   "cell_type": "code",
   "execution_count": 11,
   "id": "8889f566",
   "metadata": {},
   "outputs": [
    {
     "name": "stdout",
     "output_type": "stream",
     "text": [
      "Wed Wednesday 3 10 Aug August 08 22 2022 00 12 AM 00 00 000000   222 32 32 Wed Aug 10 00:00:00 2022 00:00:00 08/10/22\n"
     ]
    }
   ],
   "source": [
    "twoWeeks = friday +  twoWeeks12Hours \n",
    "print(twoWeeks.strftime('%a %A %w %d %b %B %m %y %Y %H %I %p %M %S %f %Z %z %j %U %W %c %X %x'))"
   ]
  },
  {
   "cell_type": "markdown",
   "id": "8fbe3e46",
   "metadata": {},
   "source": [
    "1.  need date object date ----> date(year, month, day)\n",
    "2.  need time object -----> time delta\n",
    "3.  add date + time\n",
    "\n",
    "\n",
    "%a == aug\n",
    "%A == August\n",
    "% X = ??? hh:mm:ss. 00:00:00\n"
   ]
  },
  {
   "cell_type": "code",
   "execution_count": 15,
   "id": "e3157e95",
   "metadata": {},
   "outputs": [
    {
     "name": "stdout",
     "output_type": "stream",
     "text": [
      "12\n"
     ]
    }
   ],
   "source": [
    "print(twoWeeks.strftime('%I'))"
   ]
  },
  {
   "cell_type": "code",
   "execution_count": 19,
   "id": "2415aded",
   "metadata": {},
   "outputs": [
    {
     "name": "stdout",
     "output_type": "stream",
     "text": [
      "12 07/26/22\n"
     ]
    }
   ],
   "source": [
    "now=date.today()\n",
    "print(now.strftime('%I %x'))"
   ]
  },
  {
   "cell_type": "markdown",
   "id": "9bd34aba",
   "metadata": {},
   "source": [
    "07/26/2022 12:00:00\n",
    "07/26/2022 00:00:01"
   ]
  },
  {
   "cell_type": "code",
   "execution_count": 22,
   "id": "bfd478c7",
   "metadata": {},
   "outputs": [
    {
     "data": {
      "text/plain": [
       "datetime.date(2022, 7, 29)"
      ]
     },
     "execution_count": 22,
     "metadata": {},
     "output_type": "execute_result"
    }
   ],
   "source": [
    "import datetime\n",
    "\n",
    "datetime.date(an,mois,jour)"
   ]
  },
  {
   "cell_type": "code",
   "execution_count": 23,
   "id": "c654d19a",
   "metadata": {},
   "outputs": [
    {
     "name": "stdout",
     "output_type": "stream",
     "text": [
      "2022-07-29\n"
     ]
    }
   ],
   "source": [
    "from datetime import date\n",
    "print(date(an,mois,jour))\n"
   ]
  },
  {
   "cell_type": "markdown",
   "id": "6f54e216",
   "metadata": {},
   "source": [
    "comment obtenir l'heure actuelle ? nous savons maintenant obtenir la date actuelle. nous mettons la date (année, mois, jour). Alors, comment avons-nous l'heure actuelle ?\n",
    "\n",
    "class datetime.datetime(year, month, day, hour=0, minute=0, second=0, microsecond=0, tzinfo=None, *, fold=0)\n"
   ]
  },
  {
   "cell_type": "code",
   "execution_count": 26,
   "id": "9fef0ac9",
   "metadata": {},
   "outputs": [],
   "source": [
    "someTimeAndDate=datetime.datetime(year=2022,month=6,day=12,hour=13,minute=2)"
   ]
  },
  {
   "cell_type": "code",
   "execution_count": 27,
   "id": "1339b1f1",
   "metadata": {},
   "outputs": [
    {
     "name": "stdout",
     "output_type": "stream",
     "text": [
      "2022-06-12 13:02:00\n"
     ]
    }
   ],
   "source": [
    "print(someTimeAndDate)"
   ]
  },
  {
   "cell_type": "markdown",
   "id": "9fed7f86",
   "metadata": {},
   "source": [
    "devoir:\n",
    "\n",
    "put the date and time\n",
    "\n",
    "\n",
    "25 December 2024 10:02:03  (use strftime %?)\n",
    "\n",
    "print \"Dec\"\n",
    "print \"December\"\n",
    "\n",
    "print 12/25/2024\n",
    "\n",
    "print 12/25/2025 10:02:03"
   ]
  },
  {
   "cell_type": "code",
   "execution_count": null,
   "id": "c1b678be",
   "metadata": {},
   "outputs": [],
   "source": []
  }
 ],
 "metadata": {
  "kernelspec": {
   "display_name": "Python 3 (ipykernel)",
   "language": "python",
   "name": "python3"
  },
  "language_info": {
   "codemirror_mode": {
    "name": "ipython",
    "version": 3
   },
   "file_extension": ".py",
   "mimetype": "text/x-python",
   "name": "python",
   "nbconvert_exporter": "python",
   "pygments_lexer": "ipython3",
   "version": "3.8.9"
  }
 },
 "nbformat": 4,
 "nbformat_minor": 5
}
