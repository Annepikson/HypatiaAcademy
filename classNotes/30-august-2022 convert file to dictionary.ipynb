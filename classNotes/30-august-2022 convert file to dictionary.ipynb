{
 "cells": [
  {
   "cell_type": "code",
   "execution_count": 3,
   "id": "a761799a",
   "metadata": {},
   "outputs": [
    {
     "name": "stdout",
     "output_type": "stream",
     "text": [
      "b'Marc,12/08/1998,2843,Pays Bas,246.103.196.17\\r\\n'\n",
      "b'Ivan,11/06/2001,4197,Etats Unis,172.109.31.147\\r\\n'\n"
     ]
    }
   ],
   "source": [
    "from urllib.request import urlopen\n",
    "\n",
    "fiche=\"https://www.dropbox.com/s/1pivdcmupdbjc40/gens.csv?dl=1\"\n",
    "file = urlopen(fiche)\n",
    "lines = file.readlines()\n",
    "# devoir\n",
    "print(lines[2])\n",
    "print(lines[6])\n",
    "# devoir 1 imprimer une liste\n"
   ]
  },
  {
   "cell_type": "code",
   "execution_count": null,
   "id": "446a263b",
   "metadata": {},
   "outputs": [],
   "source": []
  },
  {
   "cell_type": "code",
   "execution_count": 4,
   "id": "d4992e15",
   "metadata": {},
   "outputs": [
    {
     "ename": "NameError",
     "evalue": "name 'etudiantes' is not defined",
     "output_type": "error",
     "traceback": [
      "\u001b[0;31m---------------------------------------------------------------------------\u001b[0m",
      "\u001b[0;31mNameError\u001b[0m                                 Traceback (most recent call last)",
      "Input \u001b[0;32mIn [4]\u001b[0m, in \u001b[0;36m<module>\u001b[0;34m\u001b[0m\n\u001b[0;32m----> 1\u001b[0m \u001b[43metudiantes\u001b[49m\u001b[38;5;241m.\u001b[39mkeys()\n",
      "\u001b[0;31mNameError\u001b[0m: name 'etudiantes' is not defined"
     ]
    }
   ],
   "source": [
    "etudiantes.keys()"
   ]
  },
  {
   "cell_type": "code",
   "execution_count": null,
   "id": "bd7b2814",
   "metadata": {},
   "outputs": [],
   "source": [
    "etudiantes.values()"
   ]
  },
  {
   "cell_type": "markdown",
   "id": "cd67f2cd",
   "metadata": {},
   "source": [
    "convertir cette string:\n",
    "\n",
    "b'Marc,12/08/1998,2843,Pays Bas,246.103.196.17\\r\\n'\n",
    "\n",
    "a une dictionaire:\n",
    "\n",
    "{'nombre': 'Marc',\n",
    " 'jn': '12/08/1998',\n",
    " 'salaire': 2843,\n",
    " 'pays': 'Pays Bas',\n",
    " 'ipAddr': '246.103.196.17'}\n",
    " \n"
   ]
  },
  {
   "cell_type": "markdown",
   "id": "cea6845f",
   "metadata": {},
   "source": [
    "nous devons utiliser une fonction de chaîne. convertir x en y"
   ]
  },
  {
   "cell_type": "markdown",
   "id": "517fa6c3",
   "metadata": {},
   "source": [
    "le délimiteur est la chose qui sépare un élément du suivant.\n",
    "\n",
    "par exemple, dans (1,2,3) le premier élément est 1, le deuxième est 2 et le troisième est 3"
   ]
  },
  {
   "cell_type": "code",
   "execution_count": null,
   "id": "24fb5196",
   "metadata": {},
   "outputs": [],
   "source": [
    "type(b'Marc,12/08/1998,2843,Pays Bas,246.103.196.17\\r\\n')"
   ]
  },
  {
   "cell_type": "code",
   "execution_count": null,
   "id": "cc7115f0",
   "metadata": {},
   "outputs": [],
   "source": [
    "premierLigne=b'Marc,12/08/1998,2843,Pays Bas,246.103.196.17\\r\\n'\n",
    "\n",
    "stringOfPremiereLigne=premierLign.decode()"
   ]
  },
  {
   "cell_type": "code",
   "execution_count": null,
   "id": "b5e74a8d",
   "metadata": {},
   "outputs": [],
   "source": [
    "print(stringOfPremiereLign)"
   ]
  },
  {
   "cell_type": "code",
   "execution_count": null,
   "id": "765d1fbe",
   "metadata": {},
   "outputs": [],
   "source": [
    "type(stringOfPremiereLign)"
   ]
  },
  {
   "cell_type": "code",
   "execution_count": null,
   "id": "ae4fa32a",
   "metadata": {},
   "outputs": [],
   "source": [
    "elements=stringOfPremiereLign.split(\",\")"
   ]
  },
  {
   "cell_type": "code",
   "execution_count": null,
   "id": "242a96b4",
   "metadata": {},
   "outputs": [],
   "source": [
    "elements"
   ]
  },
  {
   "cell_type": "code",
   "execution_count": null,
   "id": "d48484ca",
   "metadata": {},
   "outputs": [],
   "source": [
    "edudianteDictionare = {'nombre':  elements[0],\n",
    " 'jn': elements[1],\n",
    " 'salaire': elements[2],\n",
    " 'pays': elements[3],\n",
    " 'ipAddr': elements[4]}"
   ]
  },
  {
   "cell_type": "code",
   "execution_count": null,
   "id": "e6735e85",
   "metadata": {},
   "outputs": [],
   "source": [
    "print(edudianteDictionare)"
   ]
  },
  {
   "cell_type": "markdown",
   "id": "fc8157b3",
   "metadata": {},
   "source": [
    "maintent\n",
    "\n",
    "faire le meme choise pour the:\n",
    "\n",
    " lines[2] \n",
    " lines[6] "
   ]
  },
  {
   "cell_type": "code",
   "execution_count": null,
   "id": "716f1cfe",
   "metadata": {},
   "outputs": [],
   "source": [
    "dieuxiemLine=lines[2]"
   ]
  },
  {
   "cell_type": "code",
   "execution_count": null,
   "id": "a67a485b",
   "metadata": {},
   "outputs": [],
   "source": [
    "dieuxiemLine"
   ]
  },
  {
   "cell_type": "code",
   "execution_count": null,
   "id": "a985adb6",
   "metadata": {},
   "outputs": [],
   "source": [
    "dieuxiemLine=lines[2]\n",
    "\n",
    "print(\"dieuxiemLine bits from file \", dieuxiemLine)\n",
    "\n",
    "stringOfdieuxiemLine=dieuxiemLine.decode()\n",
    "print(\"stringOfdieuxiemLine convertir a string \", stringOfdieuxiemLine)\n",
    "\n",
    "elements=stringOfdieuxiemLine.split(\",\")\n",
    "print(\"diviser la chaîne par le délimiteur virgule elements\", elements)\n",
    "\n",
    "edudianteDictionare = {'nombre':  elements[0],\n",
    " 'jn': elements[1],\n",
    " 'salaire': elements[2],\n",
    " 'pays': elements[3],\n",
    " 'ipAddr': elements[4]}\n",
    "\n",
    "print(\"edudianteDictionare copier chaque element a le dictionar \", edudianteDictionare)\n",
    "\n"
   ]
  },
  {
   "cell_type": "markdown",
   "id": "c0f76b59",
   "metadata": {},
   "source": [
    "imprimers les cles et les valuers"
   ]
  },
  {
   "cell_type": "code",
   "execution_count": null,
   "id": "a9dcedd4",
   "metadata": {},
   "outputs": [],
   "source": [
    "\n",
    "\n",
    "for (k,v) in edudianteDictionare.items():\n",
    "    print(\"edudianteDictionare key \", k, \" value\", v)\n",
    "    "
   ]
  },
  {
   "cell_type": "code",
   "execution_count": null,
   "id": "6499ff10",
   "metadata": {},
   "outputs": [],
   "source": []
  }
 ],
 "metadata": {
  "kernelspec": {
   "display_name": "Python 3 (ipykernel)",
   "language": "python",
   "name": "python3"
  },
  "language_info": {
   "codemirror_mode": {
    "name": "ipython",
    "version": 3
   },
   "file_extension": ".py",
   "mimetype": "text/x-python",
   "name": "python",
   "nbconvert_exporter": "python",
   "pygments_lexer": "ipython3",
   "version": "3.8.9"
  }
 },
 "nbformat": 4,
 "nbformat_minor": 5
}
