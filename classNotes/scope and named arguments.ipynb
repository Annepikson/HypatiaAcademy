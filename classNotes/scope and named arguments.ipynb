{
 "cells": [
  {
   "cell_type": "markdown",
   "metadata": {},
   "source": [
    "pass by value and pass by reference\n",
    "\n",
    "Python makes a copy of a variable.  It updates the copy.  So it cannot update the calling value:\n"
   ]
  },
  {
   "cell_type": "code",
   "execution_count": null,
   "metadata": {},
   "outputs": [],
   "source": [
    "a=2\n",
    "\n",
    "f(&a)<-----------& means address in C++.\n",
    "  {return a*2}<--------Python cannot update variables outside of it's scope\n",
    "\n",
    "print(a)\n",
    "\n",
    "\"4\""
   ]
  },
  {
   "cell_type": "markdown",
   "metadata": {},
   "source": [
    "scope:\n",
    "\n",
    "global scope--there are variables put at the top of bottom of the program outside anyfunction\n",
    "\n",
    "function scope---declared inside the function\n",
    "\n",
    "loop and if statement scope--inside loop or if statement"
   ]
  },
  {
   "cell_type": "code",
   "execution_count": null,
   "metadata": {},
   "outputs": [],
   "source": [
    "'''put comments in triple quotes'''\n",
    "\n",
    "'''here a has global scope'''\n",
    "\n",
    "\n",
    "a=2\n",
    "\n",
    "\n",
    "def globalScope(x):\n",
    "    print(a)\n",
    "    \n",
    "    \n",
    "globalScope(5)    "
   ]
  },
  {
   "cell_type": "code",
   "execution_count": null,
   "metadata": {},
   "outputs": [],
   "source": [
    "1==1"
   ]
  },
  {
   "cell_type": "code",
   "execution_count": null,
   "metadata": {},
   "outputs": [],
   "source": [
    "\n",
    "\n",
    "def functionScope():\n",
    "    z=4\n",
    "    \n",
    "    \n",
    "functionScope() \n",
    "\n",
    "'''can we do this?'''\n",
    "'''because function scope'''\n",
    "z=z+2\n",
    "\n"
   ]
  },
  {
   "cell_type": "code",
   "execution_count": 2,
   "metadata": {},
   "outputs": [
    {
     "ename": "NameError",
     "evalue": "name 's' is not defined",
     "output_type": "error",
     "traceback": [
      "\u001b[0;31m---------------------------------------------------------------------------\u001b[0m",
      "\u001b[0;31mNameError\u001b[0m                                 Traceback (most recent call last)",
      "\u001b[0;32m<ipython-input-2-2ee1eb7c5003>\u001b[0m in \u001b[0;36m<module>\u001b[0;34m()\u001b[0m\n\u001b[1;32m      3\u001b[0m \u001b[0;32mif\u001b[0m \u001b[0;32mTrue\u001b[0m\u001b[0;34m:\u001b[0m\u001b[0;34m\u001b[0m\u001b[0m\n\u001b[1;32m      4\u001b[0m     \u001b[0;34m'''here s has not been declared'''\u001b[0m\u001b[0;34m\u001b[0m\u001b[0m\n\u001b[0;32m----> 5\u001b[0;31m     \u001b[0ms\u001b[0m\u001b[0;34m=\u001b[0m\u001b[0ms\u001b[0m\u001b[0;34m+\u001b[0m\u001b[0;36m1\u001b[0m\u001b[0;34m\u001b[0m\u001b[0m\n\u001b[0m\u001b[1;32m      6\u001b[0m     \u001b[0;32mif\u001b[0m \u001b[0;32mTrue\u001b[0m\u001b[0;34m:\u001b[0m\u001b[0;34m\u001b[0m\u001b[0m\n\u001b[1;32m      7\u001b[0m         \u001b[0;34m'''s has scope only here'''\u001b[0m\u001b[0;34m\u001b[0m\u001b[0m\n",
      "\u001b[0;31mNameError\u001b[0m: name 's' is not defined"
     ]
    }
   ],
   "source": [
    "\n",
    "\n",
    "if True:\n",
    "    '''here s has not been declared'''\n",
    "    s=s+1\n",
    "    if True:\n",
    "        '''s has scope only here'''\n",
    "        s=2\n",
    "    \n",
    "    \n",
    "\n"
   ]
  },
  {
   "cell_type": "code",
   "execution_count": 4,
   "metadata": {},
   "outputs": [
    {
     "name": "stdout",
     "output_type": "stream",
     "text": [
      "1\n"
     ]
    }
   ],
   "source": [
    "\n",
    "if True:\n",
    "    '''here s has not been declared'''\n",
    "    s=1\n",
    "    if True:\n",
    "        '''s has scope only here'''\n",
    "        print(s) "
   ]
  },
  {
   "cell_type": "code",
   "execution_count": 8,
   "metadata": {},
   "outputs": [],
   "source": [
    "def namedArguments(x,y=3):\n",
    "        print(x,y)"
   ]
  },
  {
   "cell_type": "code",
   "execution_count": 7,
   "metadata": {},
   "outputs": [
    {
     "name": "stdout",
     "output_type": "stream",
     "text": [
      "2 4\n"
     ]
    }
   ],
   "source": [
    "namedArguments(y=4,x=2)"
   ]
  },
  {
   "cell_type": "code",
   "execution_count": 9,
   "metadata": {},
   "outputs": [
    {
     "name": "stdout",
     "output_type": "stream",
     "text": [
      "2 3\n"
     ]
    }
   ],
   "source": [
    "namedArguments(x=2)"
   ]
  },
  {
   "cell_type": "code",
   "execution_count": 17,
   "metadata": {},
   "outputs": [],
   "source": [
    "'''this is how you have a variable number of arguments'''\n",
    "'''positional'''\n",
    "\n",
    "\n",
    "def varArgs(*args):\n",
    " \n",
    "   for i in args:\n",
    "       print(i)"
   ]
  },
  {
   "cell_type": "code",
   "execution_count": 19,
   "metadata": {},
   "outputs": [
    {
     "name": "stdout",
     "output_type": "stream",
     "text": [
      "3\n",
      "2\n",
      "1\n"
     ]
    }
   ],
   "source": [
    "varArgs(3,2,1)"
   ]
  },
  {
   "cell_type": "code",
   "execution_count": 16,
   "metadata": {},
   "outputs": [
    {
     "name": "stdout",
     "output_type": "stream",
     "text": [
      "7\n"
     ]
    }
   ],
   "source": [
    "i=2\n",
    "i += 5\n",
    "print(i)\n",
    "\n",
    "\n",
    "'''addition operator'''\n",
    "\n",
    "i=2\n",
    "i = i + 5\n",
    "print(i)"
   ]
  },
  {
   "cell_type": "code",
   "execution_count": 22,
   "metadata": {},
   "outputs": [
    {
     "name": "stdout",
     "output_type": "stream",
     "text": [
      "3 2\n",
      "True\n",
      "{'somethingNotUsedOften': True, 'additionalInforma': 2}\n"
     ]
    }
   ],
   "source": [
    "def keyWordargs(a, b, option=True, **kwargs):\n",
    "   print(a, b)\n",
    "   print(option)\n",
    "   print(kwargs)\n",
    "\n",
    "\n",
    "'''here we can pass additional arguments not defined in the arg signature \n",
    "this is useful for very large functions that would have \n",
    "too many things on the screen to list\n",
    "'''\n",
    "\n",
    "keyWordargs(3,2,additionalInforma=2, somethingNotUsedOften=True)"
   ]
  },
  {
   "cell_type": "markdown",
   "metadata": {},
   "source": [
    "command line python"
   ]
  },
  {
   "cell_type": "code",
   "execution_count": null,
   "metadata": {},
   "outputs": [],
   "source": [
    "fix this:"
   ]
  },
  {
   "cell_type": "code",
   "execution_count": null,
   "metadata": {},
   "outputs": [],
   "source": [
    "\n",
    "import sys\n",
    "\n",
    "\n",
    "def main():\n",
    "\n",
    "\n",
    "    print(\"the length is {0}\".format(len(sys.argv)))\n",
    "# fix what is wrong here\n",
    "# we are getting a list of size 2\n",
    "# when we write runner.py  12,3,3,44\n",
    "\n",
    "#this is a slice operator \n",
    "#it means take from this list items 1 to the end\n",
    "#we want to want to skip the first itemwhich is 0\n",
    "#because it always have the program name\n",
    "\n",
    "    args = sys.argv[1:]\n",
    "    for i in args:\n",
    "    \tprint(i)\n",
    "\n",
    "\n",
    "    args = sys.argv[:]\n",
    "    for i in args:\n",
    "    \tprint(i)\n",
    "main()"
   ]
  }
 ],
 "metadata": {
  "kernelspec": {
   "display_name": "Python 3",
   "language": "python",
   "name": "python3"
  },
  "language_info": {
   "codemirror_mode": {
    "name": "ipython",
    "version": 3
   },
   "file_extension": ".py",
   "mimetype": "text/x-python",
   "name": "python",
   "nbconvert_exporter": "python",
   "pygments_lexer": "ipython3",
   "version": "3.4.4"
  }
 },
 "nbformat": 4,
 "nbformat_minor": 2
}
