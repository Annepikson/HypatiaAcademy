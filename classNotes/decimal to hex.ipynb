{
 "cells": [
  {
   "cell_type": "code",
   "execution_count": 124,
   "id": "4e64581b",
   "metadata": {},
   "outputs": [
    {
     "name": "stdout",
     "output_type": "stream",
     "text": [
      "decimal= 165333\n",
      "==============\n",
      "exponent= 4\n",
      "coefficient= 2\n",
      "remainder= 34261\n",
      "==============\n",
      "exponent= 3\n",
      "coefficient= 8\n",
      "remainder= 1493\n",
      "==============\n",
      "exponent= 2\n",
      "coefficient= 5\n",
      "remainder= 213\n",
      "==============\n",
      "exponent= 1\n",
      "coefficient= 13\n",
      "remainder= 5\n",
      "==============\n",
      "exponent= 0\n",
      "coefficient= 5\n",
      "remainder= 0\n",
      "==============\n",
      "coefficients ['2', '8', '5', 'D', '5']\n",
      "decimal written in hex= 285D5\n",
      "check: decimal from hex= 165333\n"
     ]
    }
   ],
   "source": [
    "import math\n",
    "\n",
    "# enter decimal to convert here:\n",
    "\n",
    "decimal=165333\n",
    "\n",
    "# loop log base 16 times\n",
    "\n",
    "exponent=int(math.log(cipher,16))\n",
    "\n",
    "remainder=cipher\n",
    "coeffs=[]\n",
    "\n",
    "print(\"decimal=\",decimal)\n",
    "print(\"==============\")\n",
    "hexchars=[\"0\",\"1\",\"2\",\"3\",\"4\",\"5\",\"6\",\"7\",\"8\",\"9\", \"A\", \"B\", \"C\", \"D\", \"E\", \"F\"]\n",
    "    \n",
    "while (exponent >= 0):\n",
    "    print(\"exponent=\", exponent)\n",
    "    if remainder < 16**exponent:\n",
    "        coefficient=0\n",
    "    else:\n",
    "        coefficient=int(remainder/16**exponent) \n",
    "        remainder=remainder-coefficient*16**exponent \n",
    "    print(\"coefficient=\",  coefficient)\n",
    "    print(\"remainder=\", remainder)\n",
    "    coeffs.append(hexchars[coefficient])\n",
    "    exponent=exponent-1\n",
    "    print(\"==============\")\n",
    "    \n",
    "print(\"coefficients\", coeffs)\n",
    "\n",
    "letters=\"\"\n",
    "\n",
    "for c in coeffs:\n",
    "    letters = letters+str(c)\n",
    "    \n",
    "print(\"decimal written in hex=\", letters)\n",
    "print(\"check: decimal from hex=\", int(\"0x\"+letters, base=16))"
   ]
  },
  {
   "cell_type": "code",
   "execution_count": null,
   "id": "fa54baa5",
   "metadata": {},
   "outputs": [],
   "source": []
  }
 ],
 "metadata": {
  "kernelspec": {
   "display_name": "Python 3 (ipykernel)",
   "language": "python",
   "name": "python3"
  },
  "language_info": {
   "codemirror_mode": {
    "name": "ipython",
    "version": 3
   },
   "file_extension": ".py",
   "mimetype": "text/x-python",
   "name": "python",
   "nbconvert_exporter": "python",
   "pygments_lexer": "ipython3",
   "version": "3.8.9"
  }
 },
 "nbformat": 4,
 "nbformat_minor": 5
}
