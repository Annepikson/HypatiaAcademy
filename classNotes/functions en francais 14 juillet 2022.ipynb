{
 "cells": [
  {
   "cell_type": "markdown",
   "id": "47015ef4",
   "metadata": {},
   "source": [
    "a function takes some information and returns other information.  "
   ]
  },
  {
   "cell_type": "code",
   "execution_count": 1,
   "id": "f4e88515",
   "metadata": {},
   "outputs": [],
   "source": [
    "'''\n",
    "def --- define function\n",
    "'''\n",
    "\n",
    "def fairQuelqueChose():\n",
    "    print(\"voila\")\n",
    "    \n"
   ]
  },
  {
   "cell_type": "code",
   "execution_count": 3,
   "id": "887f2fca",
   "metadata": {},
   "outputs": [
    {
     "name": "stdout",
     "output_type": "stream",
     "text": [
      "voila\n"
     ]
    }
   ],
   "source": [
    "fairQuelqueChose()"
   ]
  },
  {
   "cell_type": "code",
   "execution_count": 12,
   "id": "09837fbf",
   "metadata": {},
   "outputs": [
    {
     "name": "stdout",
     "output_type": "stream",
     "text": [
      "4.0\n"
     ]
    }
   ],
   "source": [
    "'''\n",
    "envoyer la fonction un numéro. le multiplier par un autre nombre. imprimer les résultats\n",
    "\n",
    "def functionNombre(arguments):\n",
    "    return some value\n",
    "    \n",
    "    \n",
    " \n",
    "\n",
    " que es le nombre de notre function? noel\n",
    " que es le nombre de argument? x\n",
    "\n",
    " y=2*x\n",
    " return y\n",
    " \n",
    " c'est la meme chose que\n",
    " \n",
    "  return 2*x\n",
    "\n",
    "\n",
    "'''\n",
    "\n",
    "def noel(a,b):\n",
    "    \n",
    "    y=a/b  # <--c'est mutiplier.  comment este divisor?\n",
    "    return y\n",
    "\n",
    "\n",
    "'''\n",
    "quand vous écrivez double = mutiplier(c) cela\n",
    "signifie affecter la valeur de la fonction mutiplier dont l'argument est c à la variable double\n",
    "\n",
    "'''\n",
    " \n",
    "peter=noel(8,2)\n",
    "\n",
    "print(peter)\n",
    "    "
   ]
  },
  {
   "cell_type": "code",
   "execution_count": 8,
   "id": "e6cf9258",
   "metadata": {},
   "outputs": [],
   "source": [
    "'''\n",
    "devoir\n",
    "\n",
    "ecrire un function multipler a x b x c\n",
    "\n",
    "ecrire un function ajouter a + b + c\n",
    "\n",
    "\n",
    "ecrire un fucntion calculer a%b \n",
    "\n",
    "\n",
    "'''\n"
   ]
  },
  {
   "cell_type": "code",
   "execution_count": 9,
   "id": "7533787e",
   "metadata": {},
   "outputs": [
    {
     "name": "stdout",
     "output_type": "stream",
     "text": [
      "16\n"
     ]
    }
   ],
   "source": []
  },
  {
   "cell_type": "code",
   "execution_count": null,
   "id": "5f247b8c",
   "metadata": {},
   "outputs": [],
   "source": []
  }
 ],
 "metadata": {
  "kernelspec": {
   "display_name": "Python 3 (ipykernel)",
   "language": "python",
   "name": "python3"
  },
  "language_info": {
   "codemirror_mode": {
    "name": "ipython",
    "version": 3
   },
   "file_extension": ".py",
   "mimetype": "text/x-python",
   "name": "python",
   "nbconvert_exporter": "python",
   "pygments_lexer": "ipython3",
   "version": "3.8.9"
  }
 },
 "nbformat": 4,
 "nbformat_minor": 5
}
