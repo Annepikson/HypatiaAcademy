{
  "nbformat": 4,
  "nbformat_minor": 0,
  "metadata": {
    "colab": {
      "provenance": [],
      "authorship_tag": "ABX9TyMcx9drtgtQMsBgF/UoyxpE",
      "include_colab_link": true
    },
    "kernelspec": {
      "name": "python3",
      "display_name": "Python 3"
    },
    "language_info": {
      "name": "python"
    }
  },
  "cells": [
    {
      "cell_type": "markdown",
      "metadata": {
        "id": "view-in-github",
        "colab_type": "text"
      },
      "source": [
        "<a href=\"https://colab.research.google.com/github/Annepikson/HypatiaAcademy/blob/master/30_4_2024.ipynb\" target=\"_parent\"><img src=\"https://colab.research.google.com/assets/colab-badge.svg\" alt=\"Open In Colab\"/></a>"
      ]
    },
    {
      "cell_type": "code",
      "execution_count": 10,
      "metadata": {
        "colab": {
          "base_uri": "https://localhost:8080/"
        },
        "id": "KdQuvy9ePvp5",
        "outputId": "1618173f-a9bb-450f-b3df-5e7d5313a1d8"
      },
      "outputs": [
        {
          "output_type": "stream",
          "name": "stdout",
          "text": [
            "    Name  Age     Hobby\n",
            "0  Emily   40    Tennis\n",
            "1    Eva   38  Swimming\n",
            "2    Bob   46  Football\n",
            "3  Steve   48    Hockey\n"
          ]
        }
      ],
      "source": [
        "import pandas as pd\n",
        "\n",
        "data = {\n",
        "    'Name':['Emily','Eva','Bob','Steve'],\n",
        "    'Age':[20,19,23,24],\n",
        "    'Hobby':['Tennis','Swimming','Football','Hockey']\n",
        "}\n",
        "\n",
        "df = pd.DataFrame(data)\n",
        "df['Age'] = df['Age'].apply(lambda x : x * 2)\n",
        "print(df)"
      ]
    }
  ]
}