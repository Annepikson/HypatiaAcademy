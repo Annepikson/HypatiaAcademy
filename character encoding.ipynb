{
 "cells": [
  {
   "cell_type": "code",
   "execution_count": 42,
   "metadata": {},
   "outputs": [
    {
     "name": "stdout",
     "output_type": "stream",
     "text": [
      " ,!,\",#,$,%,&,',(,),*,+,,,-,.,/,0,1,2,3,4,5,6,7,8,9,:,;,<,=,>,?,@,A,B,C,D,E,F,G,H,I,J,K,L,M,N,O,P,Q,R,S,T,U,V,W,X,Y,Z,[,\\,],^,_,`,a,b,c,d,e,f,g,h,i,j,k,l,m,n,o,p,q,r,s,t,u,v,w,x,y,z,{,|,},"
     ]
    }
   ],
   "source": [
    "# these are the displayable ASCII characters\n",
    "\n",
    "for i in range(32,126,1):\n",
    "    print(chr(i),end=\",\")"
   ]
  },
  {
   "cell_type": "code",
   "execution_count": 43,
   "metadata": {},
   "outputs": [
    {
     "name": "stdout",
     "output_type": "stream",
     "text": [
      "chr(65)= A\n",
      "ord('A') 65\n"
     ]
    }
   ],
   "source": [
    "\n",
    "print('chr(65)=', chr(65))\n",
    "print(\"ord('A')\",ord('A'))\n"
   ]
  },
  {
   "cell_type": "code",
   "execution_count": 44,
   "metadata": {},
   "outputs": [
    {
     "name": "stdout",
     "output_type": "stream",
     "text": [
      "\t indent me\n",
      "\n",
      " here put a blank line before me and after me\n",
      "\n",
      "The tab \\t has ASCII code= 9\n"
     ]
    }
   ],
   "source": [
    "# Some numbers have special functions, like tab or new line.  On old computers there was a \n",
    "# bell sound.  And today we have emojis.\n",
    "\n",
    "# this is a, a new line feed and windows new line\n",
    "    \n",
    "print('\\t indent me') \n",
    "\n",
    "print('\\n here put a blank line before me and after me\\n')\n",
    "\n",
    "# Put an extr backslash to escape the \\t, meaning print it\n",
    "# as text and not translate it to a tab\n",
    "\n",
    "print('The tab \\\\t has ASCII code=',ord('\\t'))\n"
   ]
  },
  {
   "cell_type": "code",
   "execution_count": 45,
   "metadata": {},
   "outputs": [
    {
     "name": "stdout",
     "output_type": "stream",
     "text": [
      "λ\n"
     ]
    }
   ],
   "source": [
    "# this is unicode, not UTF-8\n",
    "print('\\u03BB')\n"
   ]
  },
  {
   "cell_type": "code",
   "execution_count": 46,
   "metadata": {},
   "outputs": [
    {
     "data": {
      "text/plain": [
       "b'\\xce\\xbb'"
      ]
     },
     "execution_count": 46,
     "metadata": {},
     "output_type": "execute_result"
    }
   ],
   "source": [
    "'λ'.encode('utf-8')"
   ]
  },
  {
   "cell_type": "code",
   "execution_count": 47,
   "metadata": {},
   "outputs": [
    {
     "data": {
      "text/plain": [
       "'λ'"
      ]
     },
     "execution_count": 47,
     "metadata": {},
     "output_type": "execute_result"
    }
   ],
   "source": [
    "# convert the hex value to the displayed value\n",
    "# \\x means this is a hexadecimal nymber\n",
    "\n",
    "b'\\xce\\xbb'.decode('utf-8')\n",
    " "
   ]
  },
  {
   "cell_type": "code",
   "execution_count": 50,
   "metadata": {},
   "outputs": [
    {
     "data": {
      "text/plain": [
       "b'\\xf0\\x9f\\x98\\xa9'"
      ]
     },
     "execution_count": 50,
     "metadata": {},
     "output_type": "execute_result"
    }
   ],
   "source": [
    "'😩'.encode('utf-8')"
   ]
  },
  {
   "cell_type": "code",
   "execution_count": 49,
   "metadata": {},
   "outputs": [
    {
     "data": {
      "text/plain": [
       "'😩'"
      ]
     },
     "execution_count": 49,
     "metadata": {},
     "output_type": "execute_result"
    }
   ],
   "source": [
    "# Notice that this is 4 bites\n",
    "\n",
    "b'\\xf0\\x9f\\x98\\xa9'.decode('utf-8')"
   ]
  },
  {
   "cell_type": "code",
   "execution_count": null,
   "metadata": {},
   "outputs": [],
   "source": []
  }
 ],
 "metadata": {
  "kernelspec": {
   "display_name": "Python 3",
   "language": "python",
   "name": "python3"
  },
  "language_info": {
   "codemirror_mode": {
    "name": "ipython",
    "version": 3
   },
   "file_extension": ".py",
   "mimetype": "text/x-python",
   "name": "python",
   "nbconvert_exporter": "python",
   "pygments_lexer": "ipython3",
   "version": "3.4.4"
  }
 },
 "nbformat": 4,
 "nbformat_minor": 2
}
