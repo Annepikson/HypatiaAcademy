{
 "cells": [
  {
   "cell_type": "markdown",
   "metadata": {},
   "source": [
    "# Character Encoding\n",
    "\n",
    "Although it can be complicated, it's necessary to understand hexadecimal, binary, ascii, and unicode character encoding.\n",
    "\n",
    "Computers and smartphones today use UTF-8 for the most part.  That's so they can display Chinese, Arabic, Greek, and all languages.  Before that we just had ASCII.\n",
    "\n",
    "ASCII falls into two categories:  displayable and non-displayable, like line feeds.\n",
    "\n",
    "These are the displayable ASCII characters.  They are digits the the letters a-Z plus the question mark, etc."
   ]
  },
  {
   "cell_type": "code",
   "execution_count": 42,
   "metadata": {},
   "outputs": [
    {
     "name": "stdout",
     "output_type": "stream",
     "text": [
      " ,!,\",#,$,%,&,',(,),*,+,,,-,.,/,0,1,2,3,4,5,6,7,8,9,:,;,<,=,>,?,@,A,B,C,D,E,F,G,H,I,J,K,L,M,N,O,P,Q,R,S,T,U,V,W,X,Y,Z,[,\\,],^,_,`,a,b,c,d,e,f,g,h,i,j,k,l,m,n,o,p,q,r,s,t,u,v,w,x,y,z,{,|,},"
     ]
    }
   ],
   "source": [
    "\n",
    "\n",
    "for i in range(32,126,1):\n",
    "    print(chr(i),end=\",\")"
   ]
  },
  {
   "cell_type": "markdown",
   "metadata": {},
   "source": [
    "A, for example has an ASCII code 65.  You can print that using the chr function."
   ]
  },
  {
   "cell_type": "code",
   "execution_count": 43,
   "metadata": {},
   "outputs": [
    {
     "name": "stdout",
     "output_type": "stream",
     "text": [
      "chr(65)= A\n",
      "ord('A') 65\n"
     ]
    }
   ],
   "source": [
    "\n",
    "print('chr(65)=', chr(65))\n",
    "\n"
   ]
  },
  {
   "cell_type": "markdown",
   "metadata": {},
   "source": [
    "Here we print the ASCII code assigned to the letter A."
   ]
  },
  {
   "cell_type": "code",
   "execution_count": null,
   "metadata": {},
   "outputs": [],
   "source": [
    "print(\"ord('A')\",ord('A'))"
   ]
  },
  {
   "cell_type": "markdown",
   "metadata": {},
   "source": [
    "# Special characters\n",
    "\n",
    "Some numbers have special functions, like tab or new line.  On old computers there was a \n",
    "bell sound.  And today we have emojis.\n",
    "\n",
    "The \\n is a line feed and \\r windows new line. That causes the text to wrap around to the next time.\n",
    "\n",
    "You put a backslash in front of the n to indicate that this is a special character.  That's called escaping the character.  So the \\ is the escape character."
   ]
  },
  {
   "cell_type": "code",
   "execution_count": 44,
   "metadata": {},
   "outputs": [
    {
     "name": "stdout",
     "output_type": "stream",
     "text": [
      "\t indent me\n",
      "\n",
      " here put a blank line before me and after me\n",
      "\n",
      "The tab \\t has ASCII code= 9\n"
     ]
    }
   ],
   "source": [
    "\n",
    "    \n",
    "print('\\t indent me') \n",
    "\n",
    "print('\\n here put a blank line before me and after me\\n')\n",
    "\n",
    " \n",
    "\n",
    "print('The tab \\\\t has ASCII code=',ord('\\t'))\n"
   ]
  },
  {
   "cell_type": "markdown",
   "metadata": {},
   "source": [
    "#Unicode and UTF-8\n",
    "Unicode is one standard.  UTF-8 is a subset of that.  Basically they cover all alphabets adn emojis\n",
    "\n",
    "You put a **\\u** in front of unicode characters.  We write this number in hexadecimal format.  We explain the hexacedimal numbering system [here](https://github.com/werowe/HypatiaAcademy/blob/master/bitsAndBytes.ipynb).\n",
    "\n",
    "Here we print the Greek letter lambda using its unicode val:\n",
    " "
   ]
  },
  {
   "cell_type": "code",
   "execution_count": 45,
   "metadata": {},
   "outputs": [
    {
     "name": "stdout",
     "output_type": "stream",
     "text": [
      "λ\n"
     ]
    }
   ],
   "source": [
    "\n",
    "print('\\u03BB')\n"
   ]
  },
  {
   "cell_type": "markdown",
   "metadata": {},
   "source": [
    "Here we use encode it to show it in Hexadecimal format.  The \\b means binary format.  Since there are two \\xs that means there are two bytes. "
   ]
  },
  {
   "cell_type": "code",
   "execution_count": 46,
   "metadata": {},
   "outputs": [
    {
     "data": {
      "text/plain": [
       "b'\\xce\\xbb'"
      ]
     },
     "execution_count": 46,
     "metadata": {},
     "output_type": "execute_result"
    }
   ],
   "source": [
    "'λ'.encode('utf-8')"
   ]
  },
  {
   "cell_type": "markdown",
   "metadata": {},
   "source": [
    "Below we convert the hex value of Lambda to the displayed value\n",
    "\n",
    "\\x means this is a hexadecimal nymber"
   ]
  },
  {
   "cell_type": "code",
   "execution_count": 47,
   "metadata": {},
   "outputs": [
    {
     "data": {
      "text/plain": [
       "'λ'"
      ]
     },
     "execution_count": 47,
     "metadata": {},
     "output_type": "execute_result"
    }
   ],
   "source": [
    "\n",
    "\n",
    "b'\\xce\\xbb'.decode('utf-8')\n",
    " "
   ]
  },
  {
   "cell_type": "markdown",
   "metadata": {},
   "source": [
    "Here is an emoji."
   ]
  },
  {
   "cell_type": "code",
   "execution_count": 50,
   "metadata": {},
   "outputs": [
    {
     "data": {
      "text/plain": [
       "b'\\xf0\\x9f\\x98\\xa9'"
      ]
     },
     "execution_count": 50,
     "metadata": {},
     "output_type": "execute_result"
    }
   ],
   "source": [
    "'😩'.encode('utf-8')"
   ]
  },
  {
   "cell_type": "markdown",
   "metadata": {},
   "source": [
    "Notice that this is 4 bites."
   ]
  },
  {
   "cell_type": "code",
   "execution_count": 1,
   "metadata": {},
   "outputs": [
    {
     "data": {
      "text/plain": [
       "'😩'"
      ]
     },
     "execution_count": 1,
     "metadata": {},
     "output_type": "execute_result"
    }
   ],
   "source": [
    "b'\\xf0\\x9f\\x98\\xa9'.decode('utf-8')"
   ]
  },
  {
   "cell_type": "markdown",
   "metadata": {},
   "source": [
    "Here we print the Greek alphabet"
   ]
  },
  {
   "cell_type": "code",
   "execution_count": 85,
   "metadata": {},
   "outputs": [
    {
     "name": "stdout",
     "output_type": "stream",
     "text": [
      "52881 b'\\xce\\x91' Α\n",
      "52882 b'\\xce\\x92' Β\n",
      "52883 b'\\xce\\x93' Γ\n",
      "52884 b'\\xce\\x94' Δ\n",
      "52885 b'\\xce\\x95' Ε\n",
      "52886 b'\\xce\\x96' Ζ\n",
      "52887 b'\\xce\\x97' Η\n",
      "52888 b'\\xce\\x98' Θ\n",
      "52889 b'\\xce\\x99' Ι\n",
      "52890 b'\\xce\\x9a' Κ\n",
      "52891 b'\\xce\\x9b' Λ\n",
      "52892 b'\\xce\\x9c' Μ\n",
      "52893 b'\\xce\\x9d' Ν\n",
      "52894 b'\\xce\\x9e' Ξ\n",
      "52895 b'\\xce\\x9f' Ο\n",
      "52896 b'\\xce\\xa0' Π\n",
      "52897 b'\\xce\\xa1' Ρ\n",
      "52898 b'\\xce\\xa2' ΢\n",
      "52899 b'\\xce\\xa3' Σ\n",
      "52900 b'\\xce\\xa4' Τ\n",
      "52901 b'\\xce\\xa5' Υ\n",
      "52902 b'\\xce\\xa6' Φ\n",
      "52903 b'\\xce\\xa7' Χ\n",
      "52904 b'\\xce\\xa8' Ψ\n",
      "52905 b'\\xce\\xa9' Ω\n",
      "52906 b'\\xce\\xaa' Ϊ\n",
      "52907 b'\\xce\\xab' Ϋ\n",
      "52908 b'\\xce\\xac' ά\n",
      "52909 b'\\xce\\xad' έ\n",
      "52910 b'\\xce\\xae' ή\n",
      "52911 b'\\xce\\xaf' ί\n",
      "52912 b'\\xce\\xb0' ΰ\n",
      "52913 b'\\xce\\xb1' α\n",
      "52914 b'\\xce\\xb2' β\n",
      "52915 b'\\xce\\xb3' γ\n",
      "52916 b'\\xce\\xb4' δ\n",
      "52917 b'\\xce\\xb5' ε\n",
      "52918 b'\\xce\\xb6' ζ\n",
      "52919 b'\\xce\\xb7' η\n",
      "52920 b'\\xce\\xb8' θ\n",
      "52921 b'\\xce\\xb9' ι\n",
      "52922 b'\\xce\\xba' κ\n",
      "52923 b'\\xce\\xbb' λ\n",
      "52924 b'\\xce\\xbc' μ\n",
      "52925 b'\\xce\\xbd' ν\n",
      "52926 b'\\xce\\xbe' ξ\n",
      "52927 b'\\xce\\xbf' ο\n",
      "53120 b'\\xcf\\x80' π\n",
      "53121 b'\\xcf\\x81' ρ\n",
      "53122 b'\\xcf\\x82' ς\n",
      "53123 b'\\xcf\\x83' σ\n",
      "53124 b'\\xcf\\x84' τ\n",
      "53125 b'\\xcf\\x85' υ\n",
      "53126 b'\\xcf\\x86' φ\n",
      "53127 b'\\xcf\\x87' χ\n",
      "53128 b'\\xcf\\x88' ψ\n",
      "53129 b'\\xcf\\x89' ω\n",
      "53130 b'\\xcf\\x8a' ϊ\n",
      "53131 b'\\xcf\\x8b' ϋ\n",
      "53132 b'\\xcf\\x8c' ό\n",
      "53133 b'\\xcf\\x8d' ύ\n"
     ]
    }
   ],
   "source": [
    "fr=int(\"0xce91\", 16)\n",
    "to=int(\"0xcf8e\",16)\n",
    "\n",
    "for i in range(fr,to,1):\n",
    "    try:\n",
    "        print(i,i.to_bytes(2,'big'),i.to_bytes(2,'big').decode('utf-8'))\n",
    "    except UnicodeDecodeError:\n",
    "       1==1"
   ]
  },
  {
   "cell_type": "code",
   "execution_count": null,
   "metadata": {},
   "outputs": [],
   "source": []
  }
 ],
 "metadata": {
  "kernelspec": {
   "display_name": "Python 3",
   "language": "python",
   "name": "python3"
  },
  "language_info": {
   "codemirror_mode": {
    "name": "ipython",
    "version": 3
   },
   "file_extension": ".py",
   "mimetype": "text/x-python",
   "name": "python",
   "nbconvert_exporter": "python",
   "pygments_lexer": "ipython3",
   "version": "3.4.4"
  }
 },
 "nbformat": 4,
 "nbformat_minor": 2
}
