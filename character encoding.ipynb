{
 "cells": [
  {
   "cell_type": "markdown",
   "metadata": {},
   "source": [
    "# Character Encoding\n",
    "\n",
    "Although is can be complicated, it's necessary to understand hexadecimal, binary, ascii, and unicode character encoding.\n",
    "\n",
    "Computers and smartphones today use UTF-8 for the most part.  That's so they can display Chinese, Arabic, Greek, and all languages.  Before that we just had ASCII.\n",
    "\n",
    "ASCII falls into two categories:  displayable and non-displayable, like line feeds.\n",
    "\n",
    "These are the displayable ASCII characters.  They are digits the the letters a-Z plus the question mark, etc."
   ]
  },
  {
   "cell_type": "code",
   "execution_count": 42,
   "metadata": {},
   "outputs": [
    {
     "name": "stdout",
     "output_type": "stream",
     "text": [
      " ,!,\",#,$,%,&,',(,),*,+,,,-,.,/,0,1,2,3,4,5,6,7,8,9,:,;,<,=,>,?,@,A,B,C,D,E,F,G,H,I,J,K,L,M,N,O,P,Q,R,S,T,U,V,W,X,Y,Z,[,\\,],^,_,`,a,b,c,d,e,f,g,h,i,j,k,l,m,n,o,p,q,r,s,t,u,v,w,x,y,z,{,|,},"
     ]
    }
   ],
   "source": [
    "\n",
    "\n",
    "for i in range(32,126,1):\n",
    "    print(chr(i),end=\",\")"
   ]
  },
  {
   "cell_type": "code",
   "execution_count": null,
   "metadata": {},
   "outputs": [],
   "source": [
    "A, for example has an ASCII code 65.  You can print that using the chart function."
   ]
  },
  {
   "cell_type": "code",
   "execution_count": 43,
   "metadata": {},
   "outputs": [
    {
     "name": "stdout",
     "output_type": "stream",
     "text": [
      "chr(65)= A\n",
      "ord('A') 65\n"
     ]
    }
   ],
   "source": [
    "\n",
    "print('chr(65)=', chr(65))\n",
    "\n"
   ]
  },
  {
   "cell_type": "markdown",
   "metadata": {},
   "source": [
    "Here we print the ASCII code assigned to the letter A."
   ]
  },
  {
   "cell_type": "code",
   "execution_count": null,
   "metadata": {},
   "outputs": [],
   "source": [
    "print(\"ord('A')\",ord('A'))"
   ]
  },
  {
   "cell_type": "markdown",
   "metadata": {},
   "source": [
    "# Special characters\n",
    "\n",
    "Some numbers have special functions, like tab or new line.  On old computers there was a \n",
    "bell sound.  And today we have emojis.\n",
    "\n",
    "The \\n is a line feed and windows new line. That causes the text to wrap around to the next time.\n",
    "\n",
    "You but a backslash in front of the n to indicate that this is a special character.  That's called escaping the character."
   ]
  },
  {
   "cell_type": "code",
   "execution_count": 44,
   "metadata": {},
   "outputs": [
    {
     "name": "stdout",
     "output_type": "stream",
     "text": [
      "\t indent me\n",
      "\n",
      " here put a blank line before me and after me\n",
      "\n",
      "The tab \\t has ASCII code= 9\n"
     ]
    }
   ],
   "source": [
    "\n",
    "    \n",
    "print('\\t indent me') \n",
    "\n",
    "print('\\n here put a blank line before me and after me\\n')\n",
    "\n",
    " \n",
    "\n",
    "print('The tab \\\\t has ASCII code=',ord('\\t'))\n"
   ]
  },
  {
   "cell_type": "markdown",
   "metadata": {},
   "source": [
    "#Unicode and UTF-8\n",
    "Unicode is one standard.  UTF-8 is a subset of that.  Basically they cover all alphabets adn emojis\n",
    "\n",
    "You put a **\\u** in front of unicode characters.  We write this number in hexadecimal format.  We explain the hexacedimal numbering system [here](https://github.com/werowe/HypatiaAcademy/blob/master/bitsAndBytes.ipynb).\n",
    "\n",
    "Here we print the Greek letter lambda using its unicode val:\n",
    " "
   ]
  },
  {
   "cell_type": "code",
   "execution_count": 45,
   "metadata": {},
   "outputs": [
    {
     "name": "stdout",
     "output_type": "stream",
     "text": [
      "λ\n"
     ]
    }
   ],
   "source": [
    "\n",
    "print('\\u03BB')\n"
   ]
  },
  {
   "cell_type": "markdown",
   "metadata": {},
   "source": [
    "Here we use encode it to show it in Hexadecimal format.  The \\b means binary format.  Since there are two \\xs that means there are two bytes. "
   ]
  },
  {
   "cell_type": "code",
   "execution_count": 46,
   "metadata": {},
   "outputs": [
    {
     "data": {
      "text/plain": [
       "b'\\xce\\xbb'"
      ]
     },
     "execution_count": 46,
     "metadata": {},
     "output_type": "execute_result"
    }
   ],
   "source": [
    "'λ'.encode('utf-8')"
   ]
  },
  {
   "cell_type": "markdown",
   "metadata": {},
   "source": [
    "Below we convert the hex value of Lambda to the displayed value\n",
    "\n",
    "\\x means this is a hexadecimal nymber"
   ]
  },
  {
   "cell_type": "code",
   "execution_count": 47,
   "metadata": {},
   "outputs": [
    {
     "data": {
      "text/plain": [
       "'λ'"
      ]
     },
     "execution_count": 47,
     "metadata": {},
     "output_type": "execute_result"
    }
   ],
   "source": [
    "\n",
    "\n",
    "b'\\xce\\xbb'.decode('utf-8')\n",
    " "
   ]
  },
  {
   "cell_type": "markdown",
   "metadata": {},
   "source": [
    "Here is an emoji."
   ]
  },
  {
   "cell_type": "code",
   "execution_count": 50,
   "metadata": {},
   "outputs": [
    {
     "data": {
      "text/plain": [
       "b'\\xf0\\x9f\\x98\\xa9'"
      ]
     },
     "execution_count": 50,
     "metadata": {},
     "output_type": "execute_result"
    }
   ],
   "source": [
    "'😩'.encode('utf-8')"
   ]
  },
  {
   "cell_type": "markdown",
   "metadata": {},
   "source": [
    "Notice that this is 4 bites."
   ]
  },
  {
   "cell_type": "code",
   "execution_count": 1,
   "metadata": {},
   "outputs": [
    {
     "data": {
      "text/plain": [
       "'😩'"
      ]
     },
     "execution_count": 1,
     "metadata": {},
     "output_type": "execute_result"
    }
   ],
   "source": [
    "b'\\xf0\\x9f\\x98\\xa9'.decode('utf-8')"
   ]
  },
  {
   "cell_type": "code",
   "execution_count": null,
   "metadata": {},
   "outputs": [],
   "source": []
  }
 ],
 "metadata": {
  "kernelspec": {
   "display_name": "Python 3",
   "language": "python",
   "name": "python3"
  },
  "language_info": {
   "codemirror_mode": {
    "name": "ipython",
    "version": 3
   },
   "file_extension": ".py",
   "mimetype": "text/x-python",
   "name": "python",
   "nbconvert_exporter": "python",
   "pygments_lexer": "ipython3",
   "version": "3.4.4"
  }
 },
 "nbformat": 4,
 "nbformat_minor": 2
}
