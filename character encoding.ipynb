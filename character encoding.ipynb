{
 "cells": [
  {
   "cell_type": "markdown",
   "metadata": {},
   "source": [
    "# Character Encoding\n",
    "\n",
    "Although it can be complicated, it's necessary to understand hexadecimal, binary, ascii, and unicode character encoding.\n",
    "\n",
    "Computers and smartphones today use UTF-8 for the most part.  That's so they can display Chinese, Arabic, Greek, and all languages.  Before that we just had ASCII.\n",
    "\n",
    "ASCII falls into two categories:  displayable and non-displayable, like line feeds.\n",
    "\n",
    "These are the displayable ASCII characters.  They are digits the the letters a-Z plus the question mark, etc."
   ]
  },
  {
   "cell_type": "code",
   "execution_count": 42,
   "metadata": {},
   "outputs": [
    {
     "name": "stdout",
     "output_type": "stream",
     "text": [
      " ,!,\",#,$,%,&,',(,),*,+,,,-,.,/,0,1,2,3,4,5,6,7,8,9,:,;,<,=,>,?,@,A,B,C,D,E,F,G,H,I,J,K,L,M,N,O,P,Q,R,S,T,U,V,W,X,Y,Z,[,\\,],^,_,`,a,b,c,d,e,f,g,h,i,j,k,l,m,n,o,p,q,r,s,t,u,v,w,x,y,z,{,|,},"
     ]
    }
   ],
   "source": [
    "\n",
    "\n",
    "for i in range(32,126,1):\n",
    "    print(chr(i),end=\",\")"
   ]
  },
  {
   "cell_type": "markdown",
   "metadata": {},
   "source": [
    "A, for example has an ASCII code 65.  You can print that using the chr function."
   ]
  },
  {
   "cell_type": "code",
   "execution_count": 43,
   "metadata": {},
   "outputs": [
    {
     "name": "stdout",
     "output_type": "stream",
     "text": [
      "chr(65)= A\n",
      "ord('A') 65\n"
     ]
    }
   ],
   "source": [
    "\n",
    "print('chr(65)=', chr(65))\n",
    "\n"
   ]
  },
  {
   "cell_type": "markdown",
   "metadata": {},
   "source": [
    "Here we print the ASCII code assigned to the letter A."
   ]
  },
  {
   "cell_type": "code",
   "execution_count": null,
   "metadata": {},
   "outputs": [],
   "source": [
    "print(\"ord('A')\",ord('A'))"
   ]
  },
  {
   "cell_type": "markdown",
   "metadata": {},
   "source": [
    "# Special characters\n",
    "\n",
    "Some numbers have special functions, like tab or new line.  On old computers there was a \n",
    "bell sound.  And today we have emojis.\n",
    "\n",
    "The \\n is a line feed and \\r windows new line. That causes the text to wrap around to the next time.\n",
    "\n",
    "You put a backslash in front of the n to indicate that this is a special character.  That's called escaping the character.  So the \\ is the escape character."
   ]
  },
  {
   "cell_type": "code",
   "execution_count": 44,
   "metadata": {},
   "outputs": [
    {
     "name": "stdout",
     "output_type": "stream",
     "text": [
      "\t indent me\n",
      "\n",
      " here put a blank line before me and after me\n",
      "\n",
      "The tab \\t has ASCII code= 9\n"
     ]
    }
   ],
   "source": [
    "\n",
    "    \n",
    "print('\\t indent me') \n",
    "\n",
    "print('\\n here put a blank line before me and after me\\n')\n",
    "\n",
    " \n",
    "\n",
    "print('The tab \\\\t has ASCII code=',ord('\\t'))\n"
   ]
  },
  {
   "cell_type": "markdown",
   "metadata": {},
   "source": [
    "#Unicode and UTF-8\n",
    "Unicode is one standard.  UTF-8 is a subset of that.  Basically they cover all alphabets adn emojis\n",
    "\n",
    "You put a **\\u** in front of unicode characters.  We write this number in hexadecimal format.  We explain the hexacedimal numbering system [here](https://github.com/werowe/HypatiaAcademy/blob/master/bitsAndBytes.ipynb).\n",
    "\n",
    "Here we print the Greek letter lambda using its unicode val:\n",
    " "
   ]
  },
  {
   "cell_type": "code",
   "execution_count": 45,
   "metadata": {},
   "outputs": [
    {
     "name": "stdout",
     "output_type": "stream",
     "text": [
      "λ\n"
     ]
    }
   ],
   "source": [
    "\n",
    "print('\\u03BB')\n"
   ]
  },
  {
   "cell_type": "markdown",
   "metadata": {},
   "source": [
    "Here we use encode it to show it in Hexadecimal format.  The \\b means binary format.  Since there are two \\xs that means there are two bytes. "
   ]
  },
  {
   "cell_type": "code",
   "execution_count": 46,
   "metadata": {},
   "outputs": [
    {
     "data": {
      "text/plain": [
       "b'\\xce\\xbb'"
      ]
     },
     "execution_count": 46,
     "metadata": {},
     "output_type": "execute_result"
    }
   ],
   "source": [
    "'λ'.encode('utf-8')"
   ]
  },
  {
   "cell_type": "markdown",
   "metadata": {},
   "source": [
    "Below we convert the hex value of Lambda to the displayed value\n",
    "\n",
    "\\x means this is a hexadecimal nymber"
   ]
  },
  {
   "cell_type": "code",
   "execution_count": 47,
   "metadata": {},
   "outputs": [
    {
     "data": {
      "text/plain": [
       "'λ'"
      ]
     },
     "execution_count": 47,
     "metadata": {},
     "output_type": "execute_result"
    }
   ],
   "source": [
    "\n",
    "\n",
    "b'\\xce\\xbb'.decode('utf-8')\n",
    " "
   ]
  },
  {
   "cell_type": "markdown",
   "metadata": {},
   "source": [
    "Here is an emoji."
   ]
  },
  {
   "cell_type": "code",
   "execution_count": 50,
   "metadata": {},
   "outputs": [
    {
     "data": {
      "text/plain": [
       "b'\\xf0\\x9f\\x98\\xa9'"
      ]
     },
     "execution_count": 50,
     "metadata": {},
     "output_type": "execute_result"
    }
   ],
   "source": [
    "'😩'.encode('utf-8')"
   ]
  },
  {
   "cell_type": "markdown",
   "metadata": {},
   "source": [
    "Notice that this is 4 bites."
   ]
  },
  {
   "cell_type": "code",
   "execution_count": 1,
   "metadata": {},
   "outputs": [
    {
     "data": {
      "text/plain": [
       "'😩'"
      ]
     },
     "execution_count": 1,
     "metadata": {},
     "output_type": "execute_result"
    }
   ],
   "source": [
    "b'\\xf0\\x9f\\x98\\xa9'.decode('utf-8')"
   ]
  },
  {
   "cell_type": "code",
   "execution_count": 76,
   "metadata": {},
   "outputs": [
    {
     "name": "stdout",
     "output_type": "stream",
     "text": [
      "52864 b'\\xce\\x80' ΀\n",
      "52865 b'\\xce\\x81' ΁\n",
      "52866 b'\\xce\\x82' ΂\n",
      "52867 b'\\xce\\x83' ΃\n",
      "52868 b'\\xce\\x84' ΄\n",
      "52869 b'\\xce\\x85' ΅\n",
      "52870 b'\\xce\\x86' Ά\n",
      "52871 b'\\xce\\x87' ·\n",
      "52872 b'\\xce\\x88' Έ\n",
      "52873 b'\\xce\\x89' Ή\n",
      "52874 b'\\xce\\x8a' Ί\n",
      "52875 b'\\xce\\x8b' ΋\n",
      "52876 b'\\xce\\x8c' Ό\n",
      "52877 b'\\xce\\x8d' ΍\n",
      "52878 b'\\xce\\x8e' Ύ\n",
      "52879 b'\\xce\\x8f' Ώ\n",
      "52880 b'\\xce\\x90' ΐ\n",
      "52881 b'\\xce\\x91' Α\n",
      "52882 b'\\xce\\x92' Β\n",
      "52883 b'\\xce\\x93' Γ\n",
      "52884 b'\\xce\\x94' Δ\n",
      "52885 b'\\xce\\x95' Ε\n",
      "52886 b'\\xce\\x96' Ζ\n",
      "52887 b'\\xce\\x97' Η\n",
      "52888 b'\\xce\\x98' Θ\n",
      "52889 b'\\xce\\x99' Ι\n",
      "52890 b'\\xce\\x9a' Κ\n",
      "52891 b'\\xce\\x9b' Λ\n",
      "52892 b'\\xce\\x9c' Μ\n",
      "52893 b'\\xce\\x9d' Ν\n",
      "52894 b'\\xce\\x9e' Ξ\n",
      "52895 b'\\xce\\x9f' Ο\n",
      "52896 b'\\xce\\xa0' Π\n",
      "52897 b'\\xce\\xa1' Ρ\n",
      "52898 b'\\xce\\xa2' ΢\n",
      "52899 b'\\xce\\xa3' Σ\n",
      "52900 b'\\xce\\xa4' Τ\n",
      "52901 b'\\xce\\xa5' Υ\n",
      "52902 b'\\xce\\xa6' Φ\n",
      "52903 b'\\xce\\xa7' Χ\n",
      "52904 b'\\xce\\xa8' Ψ\n",
      "52905 b'\\xce\\xa9' Ω\n",
      "52906 b'\\xce\\xaa' Ϊ\n",
      "52907 b'\\xce\\xab' Ϋ\n",
      "52908 b'\\xce\\xac' ά\n",
      "52909 b'\\xce\\xad' έ\n",
      "52910 b'\\xce\\xae' ή\n",
      "52911 b'\\xce\\xaf' ί\n",
      "52912 b'\\xce\\xb0' ΰ\n",
      "52913 b'\\xce\\xb1' α\n",
      "52914 b'\\xce\\xb2' β\n",
      "52915 b'\\xce\\xb3' γ\n",
      "52916 b'\\xce\\xb4' δ\n",
      "52917 b'\\xce\\xb5' ε\n",
      "52918 b'\\xce\\xb6' ζ\n",
      "52919 b'\\xce\\xb7' η\n",
      "52920 b'\\xce\\xb8' θ\n",
      "52921 b'\\xce\\xb9' ι\n",
      "52922 b'\\xce\\xba' κ\n",
      "52923 b'\\xce\\xbb' λ\n",
      "52924 b'\\xce\\xbc' μ\n",
      "52925 b'\\xce\\xbd' ν\n",
      "52926 b'\\xce\\xbe' ξ\n",
      "52927 b'\\xce\\xbf' ο\n",
      "cannot decode b'\\xce\\xc0'\n",
      "cannot decode b'\\xce\\xc1'\n",
      "cannot decode b'\\xce\\xc2'\n",
      "cannot decode b'\\xce\\xc3'\n",
      "cannot decode b'\\xce\\xc4'\n",
      "cannot decode b'\\xce\\xc5'\n",
      "cannot decode b'\\xce\\xc6'\n",
      "cannot decode b'\\xce\\xc7'\n",
      "cannot decode b'\\xce\\xc8'\n",
      "cannot decode b'\\xce\\xc9'\n",
      "cannot decode b'\\xce\\xca'\n",
      "cannot decode b'\\xce\\xcb'\n",
      "cannot decode b'\\xce\\xcc'\n",
      "cannot decode b'\\xce\\xcd'\n",
      "cannot decode b'\\xce\\xce'\n",
      "cannot decode b'\\xce\\xcf'\n",
      "cannot decode b'\\xce\\xd0'\n",
      "cannot decode b'\\xce\\xd1'\n",
      "cannot decode b'\\xce\\xd2'\n",
      "cannot decode b'\\xce\\xd3'\n",
      "cannot decode b'\\xce\\xd4'\n",
      "cannot decode b'\\xce\\xd5'\n",
      "cannot decode b'\\xce\\xd6'\n",
      "cannot decode b'\\xce\\xd7'\n",
      "cannot decode b'\\xce\\xd8'\n",
      "cannot decode b'\\xce\\xd9'\n",
      "cannot decode b'\\xce\\xda'\n",
      "cannot decode b'\\xce\\xdb'\n",
      "cannot decode b'\\xce\\xdc'\n",
      "cannot decode b'\\xce\\xdd'\n",
      "cannot decode b'\\xce\\xde'\n",
      "cannot decode b'\\xce\\xdf'\n",
      "cannot decode b'\\xce\\xe0'\n",
      "cannot decode b'\\xce\\xe1'\n",
      "cannot decode b'\\xce\\xe2'\n",
      "cannot decode b'\\xce\\xe3'\n",
      "cannot decode b'\\xce\\xe4'\n",
      "cannot decode b'\\xce\\xe5'\n",
      "cannot decode b'\\xce\\xe6'\n",
      "cannot decode b'\\xce\\xe7'\n",
      "cannot decode b'\\xce\\xe8'\n",
      "cannot decode b'\\xce\\xe9'\n",
      "cannot decode b'\\xce\\xea'\n",
      "cannot decode b'\\xce\\xeb'\n",
      "cannot decode b'\\xce\\xec'\n",
      "cannot decode b'\\xce\\xed'\n",
      "cannot decode b'\\xce\\xee'\n",
      "cannot decode b'\\xce\\xef'\n",
      "cannot decode b'\\xce\\xf0'\n",
      "cannot decode b'\\xce\\xf1'\n",
      "cannot decode b'\\xce\\xf2'\n",
      "cannot decode b'\\xce\\xf3'\n",
      "cannot decode b'\\xce\\xf4'\n",
      "cannot decode b'\\xce\\xf5'\n",
      "cannot decode b'\\xce\\xf6'\n",
      "cannot decode b'\\xce\\xf7'\n",
      "cannot decode b'\\xce\\xf8'\n",
      "cannot decode b'\\xce\\xf9'\n",
      "cannot decode b'\\xce\\xfa'\n",
      "cannot decode b'\\xce\\xfb'\n",
      "cannot decode b'\\xce\\xfc'\n",
      "cannot decode b'\\xce\\xfd'\n",
      "cannot decode b'\\xce\\xfe'\n",
      "cannot decode b'\\xce\\xff'\n",
      "cannot decode b'\\xcf\\x00'\n",
      "cannot decode b'\\xcf\\x01'\n",
      "cannot decode b'\\xcf\\x02'\n",
      "cannot decode b'\\xcf\\x03'\n",
      "cannot decode b'\\xcf\\x04'\n",
      "cannot decode b'\\xcf\\x05'\n",
      "cannot decode b'\\xcf\\x06'\n",
      "cannot decode b'\\xcf\\x07'\n",
      "cannot decode b'\\xcf\\x08'\n",
      "cannot decode b'\\xcf\\t'\n",
      "cannot decode b'\\xcf\\n'\n",
      "cannot decode b'\\xcf\\x0b'\n",
      "cannot decode b'\\xcf\\x0c'\n",
      "cannot decode b'\\xcf\\r'\n",
      "cannot decode b'\\xcf\\x0e'\n",
      "cannot decode b'\\xcf\\x0f'\n",
      "cannot decode b'\\xcf\\x10'\n",
      "cannot decode b'\\xcf\\x11'\n",
      "cannot decode b'\\xcf\\x12'\n",
      "cannot decode b'\\xcf\\x13'\n",
      "cannot decode b'\\xcf\\x14'\n",
      "cannot decode b'\\xcf\\x15'\n",
      "cannot decode b'\\xcf\\x16'\n",
      "cannot decode b'\\xcf\\x17'\n",
      "cannot decode b'\\xcf\\x18'\n",
      "cannot decode b'\\xcf\\x19'\n",
      "cannot decode b'\\xcf\\x1a'\n",
      "cannot decode b'\\xcf\\x1b'\n",
      "cannot decode b'\\xcf\\x1c'\n",
      "cannot decode b'\\xcf\\x1d'\n",
      "cannot decode b'\\xcf\\x1e'\n",
      "cannot decode b'\\xcf\\x1f'\n",
      "cannot decode b'\\xcf '\n",
      "cannot decode b'\\xcf!'\n",
      "cannot decode b'\\xcf\"'\n",
      "cannot decode b'\\xcf#'\n",
      "cannot decode b'\\xcf$'\n",
      "cannot decode b'\\xcf%'\n",
      "cannot decode b'\\xcf&'\n",
      "cannot decode b\"\\xcf'\"\n",
      "cannot decode b'\\xcf('\n",
      "cannot decode b'\\xcf)'\n",
      "cannot decode b'\\xcf*'\n",
      "cannot decode b'\\xcf+'\n",
      "cannot decode b'\\xcf,'\n",
      "cannot decode b'\\xcf-'\n",
      "cannot decode b'\\xcf.'\n",
      "cannot decode b'\\xcf/'\n",
      "cannot decode b'\\xcf0'\n",
      "cannot decode b'\\xcf1'\n",
      "cannot decode b'\\xcf2'\n",
      "cannot decode b'\\xcf3'\n",
      "cannot decode b'\\xcf4'\n",
      "cannot decode b'\\xcf5'\n",
      "cannot decode b'\\xcf6'\n",
      "cannot decode b'\\xcf7'\n",
      "cannot decode b'\\xcf8'\n",
      "cannot decode b'\\xcf9'\n",
      "cannot decode b'\\xcf:'\n",
      "cannot decode b'\\xcf;'\n",
      "cannot decode b'\\xcf<'\n",
      "cannot decode b'\\xcf='\n",
      "cannot decode b'\\xcf>'\n",
      "cannot decode b'\\xcf?'\n",
      "cannot decode b'\\xcf@'\n",
      "cannot decode b'\\xcfA'\n",
      "cannot decode b'\\xcfB'\n",
      "cannot decode b'\\xcfC'\n",
      "cannot decode b'\\xcfD'\n",
      "cannot decode b'\\xcfE'\n",
      "cannot decode b'\\xcfF'\n",
      "cannot decode b'\\xcfG'\n",
      "cannot decode b'\\xcfH'\n",
      "cannot decode b'\\xcfI'\n",
      "cannot decode b'\\xcfJ'\n",
      "cannot decode b'\\xcfK'\n",
      "cannot decode b'\\xcfL'\n",
      "cannot decode b'\\xcfM'\n",
      "cannot decode b'\\xcfN'\n",
      "cannot decode b'\\xcfO'\n",
      "cannot decode b'\\xcfP'\n",
      "cannot decode b'\\xcfQ'\n",
      "cannot decode b'\\xcfR'\n",
      "cannot decode b'\\xcfS'\n",
      "cannot decode b'\\xcfT'\n",
      "cannot decode b'\\xcfU'\n",
      "cannot decode b'\\xcfV'\n",
      "cannot decode b'\\xcfW'\n",
      "cannot decode b'\\xcfX'\n",
      "cannot decode b'\\xcfY'\n",
      "cannot decode b'\\xcfZ'\n",
      "cannot decode b'\\xcf['\n",
      "cannot decode b'\\xcf\\\\'\n",
      "cannot decode b'\\xcf]'\n",
      "cannot decode b'\\xcf^'\n",
      "cannot decode b'\\xcf_'\n",
      "cannot decode b'\\xcf`'\n",
      "cannot decode b'\\xcfa'\n",
      "cannot decode b'\\xcfb'\n",
      "cannot decode b'\\xcfc'\n",
      "cannot decode b'\\xcfd'\n",
      "cannot decode b'\\xcfe'\n",
      "cannot decode b'\\xcff'\n",
      "cannot decode b'\\xcfg'\n",
      "cannot decode b'\\xcfh'\n",
      "cannot decode b'\\xcfi'\n",
      "cannot decode b'\\xcfj'\n",
      "cannot decode b'\\xcfk'\n",
      "cannot decode b'\\xcfl'\n",
      "cannot decode b'\\xcfm'\n",
      "cannot decode b'\\xcfn'\n",
      "cannot decode b'\\xcfo'\n",
      "cannot decode b'\\xcfp'\n",
      "cannot decode b'\\xcfq'\n",
      "cannot decode b'\\xcfr'\n",
      "cannot decode b'\\xcfs'\n",
      "cannot decode b'\\xcft'\n",
      "cannot decode b'\\xcfu'\n",
      "cannot decode b'\\xcfv'\n",
      "cannot decode b'\\xcfw'\n",
      "cannot decode b'\\xcfx'\n",
      "cannot decode b'\\xcfy'\n",
      "cannot decode b'\\xcfz'\n",
      "cannot decode b'\\xcf{'\n",
      "cannot decode b'\\xcf|'\n",
      "cannot decode b'\\xcf}'\n",
      "cannot decode b'\\xcf~'\n",
      "cannot decode b'\\xcf\\x7f'\n",
      "53120 b'\\xcf\\x80' π\n",
      "53121 b'\\xcf\\x81' ρ\n",
      "53122 b'\\xcf\\x82' ς\n",
      "53123 b'\\xcf\\x83' σ\n",
      "53124 b'\\xcf\\x84' τ\n",
      "53125 b'\\xcf\\x85' υ\n",
      "53126 b'\\xcf\\x86' φ\n",
      "53127 b'\\xcf\\x87' χ\n",
      "53128 b'\\xcf\\x88' ψ\n",
      "53129 b'\\xcf\\x89' ω\n",
      "53130 b'\\xcf\\x8a' ϊ\n",
      "53131 b'\\xcf\\x8b' ϋ\n",
      "53132 b'\\xcf\\x8c' ό\n",
      "53133 b'\\xcf\\x8d' ύ\n",
      "53134 b'\\xcf\\x8e' ώ\n",
      "53135 b'\\xcf\\x8f' Ϗ\n",
      "53136 b'\\xcf\\x90' ϐ\n",
      "53137 b'\\xcf\\x91' ϑ\n",
      "53138 b'\\xcf\\x92' ϒ\n",
      "53139 b'\\xcf\\x93' ϓ\n",
      "53140 b'\\xcf\\x94' ϔ\n",
      "53141 b'\\xcf\\x95' ϕ\n",
      "53142 b'\\xcf\\x96' ϖ\n",
      "53143 b'\\xcf\\x97' ϗ\n",
      "53144 b'\\xcf\\x98' Ϙ\n",
      "53145 b'\\xcf\\x99' ϙ\n",
      "53146 b'\\xcf\\x9a' Ϛ\n",
      "53147 b'\\xcf\\x9b' ϛ\n",
      "53148 b'\\xcf\\x9c' Ϝ\n",
      "53149 b'\\xcf\\x9d' ϝ\n",
      "53150 b'\\xcf\\x9e' Ϟ\n",
      "53151 b'\\xcf\\x9f' ϟ\n",
      "53152 b'\\xcf\\xa0' Ϡ\n",
      "53153 b'\\xcf\\xa1' ϡ\n",
      "53154 b'\\xcf\\xa2' Ϣ\n",
      "53155 b'\\xcf\\xa3' ϣ\n",
      "53156 b'\\xcf\\xa4' Ϥ\n",
      "53157 b'\\xcf\\xa5' ϥ\n",
      "53158 b'\\xcf\\xa6' Ϧ\n",
      "53159 b'\\xcf\\xa7' ϧ\n",
      "53160 b'\\xcf\\xa8' Ϩ\n",
      "53161 b'\\xcf\\xa9' ϩ\n",
      "53162 b'\\xcf\\xaa' Ϫ\n",
      "53163 b'\\xcf\\xab' ϫ\n",
      "53164 b'\\xcf\\xac' Ϭ\n",
      "53165 b'\\xcf\\xad' ϭ\n",
      "53166 b'\\xcf\\xae' Ϯ\n",
      "53167 b'\\xcf\\xaf' ϯ\n",
      "53168 b'\\xcf\\xb0' ϰ\n",
      "53169 b'\\xcf\\xb1' ϱ\n",
      "53170 b'\\xcf\\xb2' ϲ\n",
      "53171 b'\\xcf\\xb3' ϳ\n",
      "53172 b'\\xcf\\xb4' ϴ\n",
      "53173 b'\\xcf\\xb5' ϵ\n",
      "53174 b'\\xcf\\xb6' ϶\n",
      "53175 b'\\xcf\\xb7' Ϸ\n",
      "53176 b'\\xcf\\xb8' ϸ\n",
      "53177 b'\\xcf\\xb9' Ϲ\n",
      "53178 b'\\xcf\\xba' Ϻ\n",
      "53179 b'\\xcf\\xbb' ϻ\n",
      "53180 b'\\xcf\\xbc' ϼ\n",
      "53181 b'\\xcf\\xbd' Ͻ\n",
      "53182 b'\\xcf\\xbe' Ͼ\n"
     ]
    }
   ],
   "source": [
    "fr=int(\"0xce80\", 16)\n",
    "to=int(\"0xcfbf\",16)\n",
    "\n",
    "for i in range(fr,to,1):\n",
    "    try:\n",
    "        print(i,i.to_bytes(2,'big'),i.to_bytes(2,'big').decode('utf-8'))\n",
    "    except UnicodeDecodeError:\n",
    "        print(\"cannot decode\",i.to_bytes(2,'big'))"
   ]
  },
  {
   "cell_type": "code",
   "execution_count": null,
   "metadata": {},
   "outputs": [],
   "source": []
  }
 ],
 "metadata": {
  "kernelspec": {
   "display_name": "Python 3",
   "language": "python",
   "name": "python3"
  },
  "language_info": {
   "codemirror_mode": {
    "name": "ipython",
    "version": 3
   },
   "file_extension": ".py",
   "mimetype": "text/x-python",
   "name": "python",
   "nbconvert_exporter": "python",
   "pygments_lexer": "ipython3",
   "version": "3.4.4"
  }
 },
 "nbformat": 4,
 "nbformat_minor": 2
}
