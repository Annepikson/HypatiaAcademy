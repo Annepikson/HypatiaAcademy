{
 "cells": [
  {
   "cell_type": "code",
   "execution_count": 44,
   "metadata": {},
   "outputs": [
    {
     "name": "stdout",
     "output_type": "stream",
     "text": [
      "1.5 1.3333333333333333 0.16666666666666674\n",
      "1.4166666666666665 1.411764705882353 0.004901960784313486\n",
      "1.4142156862745097 1.41421143847487 4.2477996395895445e-06\n",
      "1.4142135623746899 1.4142135623715002 3.1896707497480747e-12\n",
      "1.414213562373095 1.4142135623730951 -2.220446049250313e-16\n"
     ]
    }
   ],
   "source": [
    "a=2\n",
    "\n",
    "a1 = (a/2)+1\n",
    "b1 = a/a1\n",
    "aminus1 = a1\n",
    "bminus1 = b1\n",
    "\n",
    "\n",
    "while (aminus1-bminus1 > 0):\n",
    "    an = 0.5 * (aminus1 + bminus1)\n",
    "    bn = a / an\n",
    "    aminus1 = an\n",
    "    bminus1 = bn\n",
    "    print(an,bn,an-bn)\n"
   ]
  },
  {
   "cell_type": "code",
   "execution_count": 45,
   "metadata": {},
   "outputs": [
    {
     "name": "stdout",
     "output_type": "stream",
     "text": [
      "1.0\n"
     ]
    }
   ],
   "source": [
    "a=2\n",
    "a1=(a/2)+1\n",
    "b1=a/a1\n",
    "print(b1)"
   ]
  },
  {
   "cell_type": "code",
   "execution_count": 46,
   "metadata": {},
   "outputs": [
    {
     "name": "stdout",
     "output_type": "stream",
     "text": [
      "1.5 1.3333333333333333\n"
     ]
    }
   ],
   "source": [
    "a2=(1/2)*(a1+b1)\n",
    "b2=a/a2\n",
    "print(a2,b2)\n",
    " "
   ]
  },
  {
   "cell_type": "code",
   "execution_count": 47,
   "metadata": {},
   "outputs": [
    {
     "name": "stdout",
     "output_type": "stream",
     "text": [
      "1.4166666666666665 1.411764705882353\n"
     ]
    }
   ],
   "source": [
    "a3=(1/2)*(a2+b2)\n",
    "b3=a/a3\n",
    "print(a3,b3)"
   ]
  },
  {
   "cell_type": "code",
   "execution_count": 48,
   "metadata": {},
   "outputs": [
    {
     "name": "stdout",
     "output_type": "stream",
     "text": [
      "1.4142156862745097 1.41421143847487\n"
     ]
    }
   ],
   "source": [
    "a4=(1/2)*(a3+b3)\n",
    "b4=a/a4\n",
    "print(a4,b4)"
   ]
  },
  {
   "cell_type": "code",
   "execution_count": 49,
   "metadata": {},
   "outputs": [
    {
     "name": "stdout",
     "output_type": "stream",
     "text": [
      "1.4142135623746899 1.4142135623715002\n"
     ]
    }
   ],
   "source": [
    "a5=(1/2)*(a4+b4)\n",
    "b5=a/a5\n",
    "print(a5,b5)"
   ]
  },
  {
   "cell_type": "code",
   "execution_count": null,
   "metadata": {},
   "outputs": [],
   "source": [
    " "
   ]
  },
  {
   "cell_type": "code",
   "execution_count": null,
   "metadata": {},
   "outputs": [],
   "source": [
    " \n"
   ]
  },
  {
   "cell_type": "code",
   "execution_count": null,
   "metadata": {},
   "outputs": [],
   "source": [
    " "
   ]
  },
  {
   "cell_type": "code",
   "execution_count": null,
   "metadata": {},
   "outputs": [],
   "source": [
    " \n",
    " "
   ]
  }
 ],
 "metadata": {
  "kernelspec": {
   "display_name": "Python 3",
   "language": "python",
   "name": "python3"
  },
  "language_info": {
   "codemirror_mode": {
    "name": "ipython",
    "version": 3
   },
   "file_extension": ".py",
   "mimetype": "text/x-python",
   "name": "python",
   "nbconvert_exporter": "python",
   "pygments_lexer": "ipython3",
   "version": "3.4.4"
  }
 },
 "nbformat": 4,
 "nbformat_minor": 2
}
