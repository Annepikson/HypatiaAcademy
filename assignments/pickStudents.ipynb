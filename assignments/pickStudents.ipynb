{
  "nbformat": 4,
  "nbformat_minor": 0,
  "metadata": {
    "colab": {
      "provenance": [],
      "authorship_tag": "ABX9TyNuWUzdpcpT3Q3+6qqtcMeC",
      "include_colab_link": true
    },
    "kernelspec": {
      "name": "python3",
      "display_name": "Python 3"
    },
    "language_info": {
      "name": "python"
    }
  },
  "cells": [
    {
      "cell_type": "markdown",
      "metadata": {
        "id": "view-in-github",
        "colab_type": "text"
      },
      "source": [
        "<a href=\"https://colab.research.google.com/github/werowe/HypatiaAcademy/blob/master/assignments/pickStudents.ipynb\" target=\"_parent\"><img src=\"https://colab.research.google.com/assets/colab-badge.svg\" alt=\"Open In Colab\"/></a>"
      ]
    },
    {
      "cell_type": "code",
      "execution_count": 1,
      "metadata": {
        "colab": {
          "base_uri": "https://localhost:8080/"
        },
        "id": "iyCLRl9R_g1a",
        "outputId": "b2a399f8-bb1f-4143-deed-a8545c19187f"
      },
      "outputs": [
        {
          "output_type": "stream",
          "name": "stdout",
          "text": [
            "{32, 33, 2, 5, 7, 12, 18, 21, 22, 23, 26, 30}\n"
          ]
        }
      ],
      "source": [
        "import random\n",
        "\n",
        "students=set()\n",
        "\n",
        "while len(students) < 12:\n",
        "\n",
        "    students.add(random.randint(1, 35))\n",
        "\n",
        "print(students)\n"
      ]
    }
  ]
}