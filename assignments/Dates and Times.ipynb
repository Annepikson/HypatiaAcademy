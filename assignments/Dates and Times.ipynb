{
 "cells": [
  {
   "cell_type": "markdown",
   "metadata": {},
   "source": [
    "# Dates and Times\n",
    "\n",
    "In computers, dates are times are numbers.  This is necessary so that you can do date math.  In other words if you want to add a certain number of days to a date you have to use the **timedelta** object.\n",
    "\n",
    "\n",
    "\n",
    "\n"
   ]
  },
  {
   "cell_type": "markdown",
   "metadata": {},
   "source": [
    "There are different storage techniques.  But in most cases a date is the number of seconds since this date, which is called **epoch time**.\n",
    "\n",
    "January 1, 1970, 00:00:00  "
   ]
  },
  {
   "cell_type": "markdown",
   "metadata": {},
   "source": [
    "This gives the time bash epoch time:"
   ]
  },
  {
   "cell_type": "code",
   "execution_count": null,
   "metadata": {},
   "outputs": [],
   "source": [
    "import time\n",
    "time.gmtime(0)"
   ]
  },
  {
   "cell_type": "code",
   "execution_count": 2,
   "metadata": {},
   "outputs": [
    {
     "name": "stdout",
     "output_type": "stream",
     "text": [
      "2023-05-30\n"
     ]
    }
   ],
   "source": [
    "\n",
    "'''\n",
    "there are 3 different python packages for dates and time:\n",
    "\n",
    "date\n",
    "time\n",
    "datetime\n",
    "\n",
    "'''\n",
    "\n",
    "\n",
    "from datetime import date\n",
    " \n",
    " \n",
    "print(date.today())\n"
   ]
  },
  {
   "cell_type": "markdown",
   "metadata": {},
   "source": [
    "Here is how you create a date object.  You can put the year, month, date or you can put the names of the parameters which makes it easier than remembering what order they are required."
   ]
  },
  {
   "cell_type": "code",
   "execution_count": null,
   "metadata": {},
   "outputs": [],
   "source": [
    "'''\n",
    "\n",
    "if we write datetime.date(year,month,day)\n",
    "\n",
    "that makes a datetime\n",
    "\n",
    "can we write hour ?  datetime.date(year,month,day,hour=4\n",
    "\n",
    "do we put AM or PM?\n",
    "\n",
    "do we put 16:00?\n",
    "\n",
    "what about the time zone?\n",
    "\n",
    "what time zone are we in?\n",
    "\n",
    "Eastern European\n",
    "\n",
    "UTC+2\n",
    "\n",
    "\n",
    "\n",
    "'''\n",
    "\n",
    "\n",
    "print(datetime.date(year=2020, month=12, day=5))\n",
    "print(datetime.date(2020, 12, 5))"
   ]
  },
  {
   "cell_type": "markdown",
   "metadata": {},
   "source": [
    "Here is the current date:"
   ]
  },
  {
   "cell_type": "code",
   "execution_count": 3,
   "metadata": {},
   "outputs": [
    {
     "name": "stdout",
     "output_type": "stream",
     "text": [
      "2023-05-30\n"
     ]
    }
   ],
   "source": [
    "'''\n",
    "when you work with computers you write the date like this:\n",
    "\n",
    "year first, month, day\n",
    "\n",
    "20230530 + 1 \n",
    "\n",
    "\n",
    "in the USA and UK we put:\n",
    "\n",
    "month/day/year\n",
    "\n",
    "in europe we put, like greek language or french\n",
    "\n",
    "day/month/year\n",
    "\n",
    "that makes no sense for math in computers we use:\n",
    "\n",
    "year-month-date\n",
    "\n",
    "then you can add\n",
    "\n",
    "iso - international standard organization\n",
    "\n",
    "e.g fr-france, eu-eu, gr-greek\n",
    "\n",
    "'''\n",
    "\n",
    "d=date.today()\n",
    "print(d.isoformat())"
   ]
  },
  {
   "cell_type": "markdown",
   "metadata": {},
   "source": [
    "Print date in year-month-day format."
   ]
  },
  {
   "cell_type": "code",
   "execution_count": 4,
   "metadata": {},
   "outputs": [
    {
     "data": {
      "text/plain": [
       "'2023-May-30'"
      ]
     },
     "execution_count": 4,
     "metadata": {},
     "output_type": "execute_result"
    }
   ],
   "source": [
    "d.strftime('%Y-%h-%d')"
   ]
  },
  {
   "cell_type": "code",
   "execution_count": 6,
   "metadata": {},
   "outputs": [
    {
     "data": {
      "text/plain": [
       "datetime.date(2023, 5, 30)"
      ]
     },
     "execution_count": 6,
     "metadata": {},
     "output_type": "execute_result"
    }
   ],
   "source": [
    "d"
   ]
  },
  {
   "cell_type": "markdown",
   "metadata": {},
   "source": [
    "### Formating Dates\n",
    "\n",
    "Here is the complete list of and time formatting codes.  For example, you can see that %A means write the complete name of the day and not the abbreviated name. %x means print it according to the [locale](https://github.com/werowe/HypatiaAcademy/blob/master/basics/Localization.ipynb)."
   ]
  },
  {
   "cell_type": "code",
   "execution_count": 5,
   "metadata": {},
   "outputs": [
    {
     "data": {
      "text/plain": [
       "'Tue Tuesday 2 30 May May 05 23 2023 00 12 AM 00 00 000000   150 22 22 Tue May 30 00:00:00 2023 00:00:00 05/30/23'"
      ]
     },
     "execution_count": 5,
     "metadata": {},
     "output_type": "execute_result"
    }
   ],
   "source": [
    "d.strftime('%a %A %w %d %b %B %m %y %Y %H %I %p %M %S %f %Z %z %j %U %W %c %X %x')"
   ]
  },
  {
   "cell_type": "code",
   "execution_count": 15,
   "metadata": {},
   "outputs": [
    {
     "data": {
      "text/plain": [
       "'05/30/23'"
      ]
     },
     "execution_count": 15,
     "metadata": {},
     "output_type": "execute_result"
    }
   ],
   "source": [
    "# this is greek, ukraine, france format\n",
    "\n",
    "d.strftime('%d/%m/%y')\n",
    "\n",
    "\n",
    "d.strftime('%m/%d/%y') "
   ]
  },
  {
   "cell_type": "markdown",
   "metadata": {},
   "source": [
    "Go forward in time one week.\n"
   ]
  },
  {
   "cell_type": "code",
   "execution_count": null,
   "metadata": {},
   "outputs": [],
   "source": [
    "\n",
    "'''\n",
    "\n",
    "adding dates and times is complicated\n",
    "\n",
    "what is 30 may 2023 15:59 + 2 days 2 hours 20 miunutes 10 seconds?\n",
    "\n",
    "\n",
    "\n",
    "\n",
    "\n",
    "'''\n",
    "\n",
    "\n",
    "\n",
    "\n",
    "\n",
    "from datetime import timedelta\n",
    "oneWeek=timedelta(days=7,hours=0, minutes=0, seconds=0, microseconds=0)\n",
    "d=date.today()+oneWeek\n",
    "print(d.isoformat())"
   ]
  },
  {
   "cell_type": "markdown",
   "metadata": {},
   "source": [
    "Go back in time one week."
   ]
  },
  {
   "cell_type": "code",
   "execution_count": 17,
   "metadata": {},
   "outputs": [
    {
     "name": "stdout",
     "output_type": "stream",
     "text": [
      "86400\n"
     ]
    }
   ],
   "source": [
    "'''\n",
    "if we did not have datetime pyhton package we define everything in seconds or microseconds\n",
    "\n",
    "'''\n",
    "\n",
    "#day = 24 hours = 24 * 60 minutes * 60  seconds\n",
    "\n",
    "day = 24 * 60 * 60\n",
    "print(day)\n",
    "\n",
    "hour = 60 * 60\n",
    "\n",
    "minute = 60\n",
    "\n",
    "microsecond 1 / 1000 second\n",
    "\n",
    "nanosecond?  python cannot do nano seconds. they are too small\n",
    "\n"
   ]
  },
  {
   "cell_type": "code",
   "execution_count": 18,
   "metadata": {},
   "outputs": [
    {
     "name": "stdout",
     "output_type": "stream",
     "text": [
      "2023-05-23\n"
     ]
    }
   ],
   "source": [
    "# in Python we use APIs or packages\n",
    "\n",
    "\n",
    "# timedelta in math a delta means the difference\n",
    "\n",
    "\n",
    "from datetime import timedelta\n",
    "\n",
    "oneWeekinthePast=timedelta(days=-7,hours=0, minutes=0, seconds=0, microseconds=0)\n",
    "\n",
    "\n",
    "\n",
    "d=date.today()+oneWeek\n",
    "print(d.isoformat())"
   ]
  },
  {
   "cell_type": "code",
   "execution_count": 19,
   "metadata": {},
   "outputs": [
    {
     "name": "stdout",
     "output_type": "stream",
     "text": [
      "2023-06-06\n"
     ]
    }
   ],
   "source": [
    "oneWeekintheFuture=timedelta(days=7,hours=0, minutes=0, seconds=0, microseconds=0)\n",
    "d=date.today()+oneWeekintheFuture\n",
    "print(d.isoformat())\n"
   ]
  },
  {
   "cell_type": "code",
   "execution_count": 45,
   "metadata": {},
   "outputs": [
    {
     "name": "stdout",
     "output_type": "stream",
     "text": [
      "hour 16 minute 21 second 28\n"
     ]
    },
    {
     "data": {
      "text/plain": [
       "'hour 18 minute 46 second 28'"
      ]
     },
     "execution_count": 45,
     "metadata": {},
     "output_type": "execute_result"
    }
   ],
   "source": [
    "import datetime\n",
    "\n",
    "now=datetime.datetime.now()\n",
    "\n",
    "print(now.strftime(\"hour %H minute %M second %S\"))\n",
    "\n",
    "#instructions\n",
    "\n",
    "#print(\" now + oneWeek \" , now + oneWeek)\n",
    "\n",
    "#timedelta((days=7,hours=0, minutes=0, seconds=0, microseconds=0)\n",
    "\n",
    "# how can we add 2 hours 25 minutes?\n",
    "\n",
    "someTime=timedelta(hours=2,minutes=25)\n",
    "\n",
    "newTime=now + someTime\n",
    "                   \n",
    "newTime.strftime(\"hour %H minute %M second %S\")                   \n",
    "                   \n"
   ]
  },
  {
   "cell_type": "markdown",
   "metadata": {},
   "source": [
    "\n",
    "Review/Homework:\n",
    "\n",
    "we saw home to get get the current date\n",
    "\n",
    "we saw how to get the current time\n",
    "\n",
    "we saw how to add time to any date of time\n",
    "\n",
    "we say how to format time into US, Ukraine, ISO, formats, plus print just the hour\n",
    "minutes, second, microsecond, etc.\n",
    "\n",
    "\n",
    "\n",
    "\n",
    "\n"
   ]
  },
  {
   "cell_type": "code",
   "execution_count": 47,
   "metadata": {},
   "outputs": [
    {
     "data": {
      "text/plain": [
       "'walkerrowe'"
      ]
     },
     "execution_count": 47,
     "metadata": {},
     "output_type": "execute_result"
    }
   ],
   "source": [
    "# this * means a variable number of \n",
    "\n",
    "\n",
    "def concat(*args):\n",
    "    \n",
    "    s = \"\"\n",
    "    \n",
    "    for c in args:\n",
    "        s = s + c\n",
    "        \n",
    "    return s\n",
    "\n",
    "\n",
    "concat(\"walker\", \"rowe\")\n",
    "\n",
    "\n",
    "# concatenate means to stick two or more works together\n",
    "\n",
    "# like \"walker\" + \"rowe\"  = \"walkerrowe\"\n",
    "\n",
    "\n",
    "# python does not have a concatentate function\n",
    " "
   ]
  },
  {
   "cell_type": "code",
   "execution_count": null,
   "metadata": {},
   "outputs": [],
   "source": [
    "'''\n",
    "if you want to concatenate two words then:\n",
    "\n",
    "def concat(first, second)\n",
    "\n",
    "but what if you have 3?\n",
    "\n",
    "so we need a function that takes a variable number of arguments\n",
    "\n",
    "'''"
   ]
  },
  {
   "cell_type": "code",
   "execution_count": 51,
   "metadata": {},
   "outputs": [
    {
     "data": {
      "text/plain": [
       "28"
      ]
     },
     "execution_count": 51,
     "metadata": {},
     "output_type": "execute_result"
    }
   ],
   "source": [
    "# make a function to add a variable of number\n",
    "\n",
    "\n",
    "def add(*numbers):\n",
    "    \n",
    "    sum=0\n",
    "    \n",
    "    for number in numbers:\n",
    "        sum = sum + number\n",
    "        \n",
    "    return sum\n",
    "\n",
    "\n",
    "add(1,2,3,4,5,6,7)"
   ]
  },
  {
   "cell_type": "code",
   "execution_count": 54,
   "metadata": {},
   "outputs": [
    {
     "data": {
      "text/plain": [
       "'25'"
      ]
     },
     "execution_count": 54,
     "metadata": {},
     "output_type": "execute_result"
    }
   ],
   "source": [
    "'''\n",
    "revenue,costs,labor,fees\n",
    "10,25,12,20\n",
    "30,5,5,\n",
    "\n",
    "'''\n",
    "\n",
    "theCSVfile=\"10,25,12,20\"\n",
    "theCSVfile.split(\",\")[0]\n",
    "theCSVfile.split(\",\")[1]"
   ]
  },
  {
   "cell_type": "code",
   "execution_count": 55,
   "metadata": {},
   "outputs": [],
   "source": [
    "'''\n",
    "the split() function turns a string into an array\n",
    "\n",
    "one reason that is import is you can get individual values\n",
    "\n",
    "\n",
    "30/05/2023\n",
    "\n",
    "\n",
    "'''\n",
    "\n",
    "today=\"30/05/2023\"\n"
   ]
  },
  {
   "cell_type": "code",
   "execution_count": 56,
   "metadata": {},
   "outputs": [
    {
     "data": {
      "text/plain": [
       "'30/05/2023'"
      ]
     },
     "execution_count": 56,
     "metadata": {},
     "output_type": "execute_result"
    }
   ],
   "source": [
    "today"
   ]
  },
  {
   "cell_type": "code",
   "execution_count": 58,
   "metadata": {},
   "outputs": [
    {
     "data": {
      "text/plain": [
       "['30', '05', '2023']"
      ]
     },
     "execution_count": 58,
     "metadata": {},
     "output_type": "execute_result"
    }
   ],
   "source": [
    "today.split(\"/\")"
   ]
  },
  {
   "cell_type": "code",
   "execution_count": null,
   "metadata": {},
   "outputs": [],
   "source": []
  }
 ],
 "metadata": {
  "kernelspec": {
   "display_name": "Python 3 (ipykernel)",
   "language": "python",
   "name": "python3"
  },
  "language_info": {
   "codemirror_mode": {
    "name": "ipython",
    "version": 3
   },
   "file_extension": ".py",
   "mimetype": "text/x-python",
   "name": "python",
   "nbconvert_exporter": "python",
   "pygments_lexer": "ipython3",
   "version": "3.10.9"
  }
 },
 "nbformat": 4,
 "nbformat_minor": 2
}
