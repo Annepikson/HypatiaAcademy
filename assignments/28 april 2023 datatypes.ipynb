{
 "cells": [
  {
   "cell_type": "code",
   "execution_count": 1,
   "id": "51589386",
   "metadata": {},
   "outputs": [],
   "source": [
    "x=1"
   ]
  },
  {
   "cell_type": "code",
   "execution_count": 2,
   "id": "faf8142b",
   "metadata": {},
   "outputs": [
    {
     "data": {
      "text/plain": [
       "1"
      ]
     },
     "execution_count": 2,
     "metadata": {},
     "output_type": "execute_result"
    }
   ],
   "source": [
    "x"
   ]
  },
  {
   "cell_type": "code",
   "execution_count": 3,
   "id": "ebdcc8a5",
   "metadata": {},
   "outputs": [
    {
     "data": {
      "text/plain": [
       "int"
      ]
     },
     "execution_count": 3,
     "metadata": {},
     "output_type": "execute_result"
    }
   ],
   "source": [
    "type(x)"
   ]
  },
  {
   "cell_type": "code",
   "execution_count": null,
   "id": "20e96030",
   "metadata": {},
   "outputs": [],
   "source": [
    "# decimal, floating point number, float\n",
    "\n",
    "1.23\n",
    "\n",
    "# integer\n",
    "\n",
    "-3, 2, 254\n",
    "\n"
   ]
  },
  {
   "cell_type": "code",
   "execution_count": 4,
   "id": "468e5ad9",
   "metadata": {},
   "outputs": [
    {
     "name": "stdout",
     "output_type": "stream",
     "text": [
      "the value of y is  1.23  and the type of y is  <class 'float'>\n"
     ]
    }
   ],
   "source": [
    "y=1.23\n",
    "print(\"the value of y is \", y, \" and the type of y is \", type(y))"
   ]
  },
  {
   "cell_type": "code",
   "execution_count": null,
   "id": "0ed39eee",
   "metadata": {},
   "outputs": [],
   "source": [
    "1.2323\n",
    "3.222228282828\n",
    "1243.2222"
   ]
  },
  {
   "cell_type": "code",
   "execution_count": 7,
   "id": "ad65c7c7",
   "metadata": {},
   "outputs": [],
   "source": [
    "#  boolean  is logic.  It comes from George Boole who invented it.  \n",
    "# false or true\n",
    "\n",
    "b=True"
   ]
  },
  {
   "cell_type": "code",
   "execution_count": 8,
   "id": "275ed17a",
   "metadata": {},
   "outputs": [
    {
     "name": "stdout",
     "output_type": "stream",
     "text": [
      "is b true? True\n"
     ]
    }
   ],
   "source": [
    "print(\"is b true?\", b)"
   ]
  },
  {
   "cell_type": "code",
   "execution_count": 9,
   "id": "ddce35e6",
   "metadata": {},
   "outputs": [
    {
     "data": {
      "text/plain": [
       "True"
      ]
     },
     "execution_count": 9,
     "metadata": {},
     "output_type": "execute_result"
    }
   ],
   "source": [
    "# assign the value 1 to the variable 3\n",
    "x=1\n",
    "\n",
    "# test whether x is equal to 1.  so this a boolean\n",
    "\n",
    "x==1\n"
   ]
  },
  {
   "cell_type": "code",
   "execution_count": 11,
   "id": "d724a28c",
   "metadata": {},
   "outputs": [
    {
     "data": {
      "text/plain": [
       "True"
      ]
     },
     "execution_count": 11,
     "metadata": {},
     "output_type": "execute_result"
    }
   ],
   "source": [
    "x==1"
   ]
  },
  {
   "cell_type": "code",
   "execution_count": 12,
   "id": "a97e2612",
   "metadata": {},
   "outputs": [
    {
     "data": {
      "text/plain": [
       "2"
      ]
     },
     "execution_count": 12,
     "metadata": {},
     "output_type": "execute_result"
    }
   ],
   "source": [
    "c=2\n",
    "c"
   ]
  },
  {
   "cell_type": "code",
   "execution_count": 13,
   "id": "ff3775be",
   "metadata": {},
   "outputs": [
    {
     "data": {
      "text/plain": [
       "False"
      ]
     },
     "execution_count": 13,
     "metadata": {},
     "output_type": "execute_result"
    }
   ],
   "source": [
    "x==c"
   ]
  },
  {
   "cell_type": "code",
   "execution_count": 14,
   "id": "cd1ce500",
   "metadata": {},
   "outputs": [
    {
     "data": {
      "text/plain": [
       "bool"
      ]
     },
     "execution_count": 14,
     "metadata": {},
     "output_type": "execute_result"
    }
   ],
   "source": [
    "type(x==c)"
   ]
  },
  {
   "cell_type": "code",
   "execution_count": 15,
   "id": "bd375c98",
   "metadata": {},
   "outputs": [
    {
     "data": {
      "text/plain": [
       "bool"
      ]
     },
     "execution_count": 15,
     "metadata": {},
     "output_type": "execute_result"
    }
   ],
   "source": [
    "type(True)"
   ]
  },
  {
   "cell_type": "code",
   "execution_count": 16,
   "id": "63ac560d",
   "metadata": {},
   "outputs": [
    {
     "data": {
      "text/plain": [
       "bool"
      ]
     },
     "execution_count": 16,
     "metadata": {},
     "output_type": "execute_result"
    }
   ],
   "source": [
    "type(False)"
   ]
  },
  {
   "cell_type": "code",
   "execution_count": 17,
   "id": "e5a20f6d",
   "metadata": {},
   "outputs": [
    {
     "data": {
      "text/plain": [
       "float"
      ]
     },
     "execution_count": 17,
     "metadata": {},
     "output_type": "execute_result"
    }
   ],
   "source": [
    "type(1.23)"
   ]
  },
  {
   "cell_type": "code",
   "execution_count": 18,
   "id": "e28d5a31",
   "metadata": {},
   "outputs": [],
   "source": [
    "if (x==c):\n",
    "    print(\"x is equal to c\")\n",
    "    \n"
   ]
  },
  {
   "cell_type": "code",
   "execution_count": 19,
   "id": "875df6d2",
   "metadata": {},
   "outputs": [
    {
     "data": {
      "text/plain": [
       "int"
      ]
     },
     "execution_count": 19,
     "metadata": {},
     "output_type": "execute_result"
    }
   ],
   "source": [
    "type(2+3)"
   ]
  },
  {
   "cell_type": "code",
   "execution_count": 20,
   "id": "1d9034ab",
   "metadata": {},
   "outputs": [
    {
     "name": "stdout",
     "output_type": "stream",
     "text": [
      "['lika', 'ilia', 'kiril']\n"
     ]
    }
   ],
   "source": [
    "# array or list\n",
    "\n",
    "l = [\"lika\", \"ilia\", \"kiril\"]\n",
    "print(l)"
   ]
  },
  {
   "cell_type": "code",
   "execution_count": 21,
   "id": "454d3bb5",
   "metadata": {},
   "outputs": [
    {
     "data": {
      "text/plain": [
       "3"
      ]
     },
     "execution_count": 21,
     "metadata": {},
     "output_type": "execute_result"
    }
   ],
   "source": [
    "len(l)"
   ]
  },
  {
   "cell_type": "code",
   "execution_count": 22,
   "id": "59d9b0ac",
   "metadata": {},
   "outputs": [
    {
     "name": "stdout",
     "output_type": "stream",
     "text": [
      "lika\n",
      "ilia\n",
      "kiril\n"
     ]
    }
   ],
   "source": [
    "# this loops through the array and prints each item\n",
    "# we give a name to the the item that is printing\n",
    "# here is called it student\n",
    "\n",
    "\n",
    "for student in l:\n",
    "    print(student)"
   ]
  },
  {
   "cell_type": "code",
   "execution_count": 23,
   "id": "3d5e6636",
   "metadata": {},
   "outputs": [
    {
     "name": "stdout",
     "output_type": "stream",
     "text": [
      "lika\n",
      "ilia\n",
      "kiril\n"
     ]
    }
   ],
   "source": [
    "for person in l:\n",
    "    print(person)"
   ]
  },
  {
   "cell_type": "code",
   "execution_count": 24,
   "id": "b9f159eb",
   "metadata": {},
   "outputs": [
    {
     "data": {
      "text/plain": [
       "'kiril'"
      ]
     },
     "execution_count": 24,
     "metadata": {},
     "output_type": "execute_result"
    }
   ],
   "source": [
    "person"
   ]
  },
  {
   "cell_type": "code",
   "execution_count": null,
   "id": "25833b8c",
   "metadata": {},
   "outputs": [],
   "source": [
    "# scoping rules "
   ]
  },
  {
   "cell_type": "code",
   "execution_count": 25,
   "id": "59404bb5",
   "metadata": {},
   "outputs": [
    {
     "data": {
      "text/plain": [
       "'lika'"
      ]
     },
     "execution_count": 25,
     "metadata": {},
     "output_type": "execute_result"
    }
   ],
   "source": [
    "# a dictionary is different than an array.  the difference it each item has a name\n",
    "\n",
    "# in the array the name is the just the position\n",
    "\n",
    "l[0]"
   ]
  },
  {
   "cell_type": "code",
   "execution_count": 26,
   "id": "1a3617ba",
   "metadata": {},
   "outputs": [
    {
     "data": {
      "text/plain": [
       "'lika'"
      ]
     },
     "execution_count": 26,
     "metadata": {},
     "output_type": "execute_result"
    }
   ],
   "source": [
    "s={\"name\": \"lika\", \"age\": 14}\n",
    "s['name']"
   ]
  },
  {
   "cell_type": "code",
   "execution_count": 28,
   "id": "8d103c80",
   "metadata": {},
   "outputs": [
    {
     "data": {
      "text/plain": [
       "dict"
      ]
     },
     "execution_count": 28,
     "metadata": {},
     "output_type": "execute_result"
    }
   ],
   "source": [
    "type(s)"
   ]
  },
  {
   "cell_type": "code",
   "execution_count": 29,
   "id": "d601d1fd",
   "metadata": {},
   "outputs": [
    {
     "name": "stdout",
     "output_type": "stream",
     "text": [
      "dict_keys(['name', 'age'])\n",
      "dict_values(['lika', 14])\n"
     ]
    }
   ],
   "source": [
    "# a dictionary has keys\n",
    "\n",
    "print(s.keys())\n",
    "\n",
    "# a dicionary has values\n",
    "\n",
    "print(s.values())"
   ]
  },
  {
   "cell_type": "code",
   "execution_count": null,
   "id": "9830c7f4",
   "metadata": {},
   "outputs": [],
   "source": [
    "\n",
    "'''\n",
    "homework:\n",
    "\n",
    "1. make sure you can create a program in google colab and then save in github\n",
    "\n",
    "2.  make a list of 4 items.  those can be integers, floats, bools, or strings\n",
    "\n",
    "a string is name=\"some value\"\n",
    "\n",
    "3.  print the 3 item in the list\n",
    "\n",
    "4.  print all the items in the array\n",
    "\n",
    "\n",
    "'''\n",
    "\n",
    "\n",
    "\n"
   ]
  }
 ],
 "metadata": {
  "kernelspec": {
   "display_name": "Python 3 (ipykernel)",
   "language": "python",
   "name": "python3"
  },
  "language_info": {
   "codemirror_mode": {
    "name": "ipython",
    "version": 3
   },
   "file_extension": ".py",
   "mimetype": "text/x-python",
   "name": "python",
   "nbconvert_exporter": "python",
   "pygments_lexer": "ipython3",
   "version": "3.10.9"
  }
 },
 "nbformat": 4,
 "nbformat_minor": 5
}
