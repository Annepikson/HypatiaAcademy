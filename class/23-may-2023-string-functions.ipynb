{
  "nbformat": 4,
  "nbformat_minor": 0,
  "metadata": {
    "colab": {
      "provenance": [],
      "include_colab_link": true
    },
    "kernelspec": {
      "name": "python3",
      "display_name": "Python 3"
    },
    "language_info": {
      "name": "python"
    }
  },
  "cells": [
    {
      "cell_type": "markdown",
      "metadata": {
        "id": "view-in-github",
        "colab_type": "text"
      },
      "source": [
        "<a href=\"https://colab.research.google.com/github/werowe/HypatiaAcademy/blob/master/class/23-may-2023-string-functions.ipynb\" target=\"_parent\"><img src=\"https://colab.research.google.com/assets/colab-badge.svg\" alt=\"Open In Colab\"/></a>"
      ]
    },
    {
      "cell_type": "code",
      "execution_count": null,
      "metadata": {
        "colab": {
          "base_uri": "https://localhost:8080/"
        },
        "id": "z_-ZRVu9MC9g",
        "outputId": "021401ae-cd8b-4335-e3df-0bee78baa7e9"
      },
      "outputs": [
        {
          "output_type": "stream",
          "name": "stdout",
          "text": [
            "13 doctor\n"
          ]
        }
      ],
      "source": [
        "txt = \"where is the doctor I saw\"\n",
        "word = \"doctor\"\n",
        "\n",
        "x = txt.find(word)\n",
        "\n",
        "print(x, word)\n",
        "\n"
      ]
    },
    {
      "cell_type": "code",
      "source": [
        "txt = \"where is the doctor I saw\"\n",
        "       \n",
        "word = \"doctor\"\n",
        "\n",
        "x = txt.find(word)\n",
        "\n",
        "print((\"the word '%s' is at position %i in the text '%s'\") % (word, x, txt))"
      ],
      "metadata": {
        "colab": {
          "base_uri": "https://localhost:8080/"
        },
        "id": "X07gNNZM18xi",
        "outputId": "ca69fbf1-2696-415f-b326-7071515fbdb0"
      },
      "execution_count": 3,
      "outputs": [
        {
          "output_type": "stream",
          "name": "stdout",
          "text": [
            "the word 'doctor' is at position 13 in the text 'where is the doctor I saw'\n"
          ]
        }
      ]
    },
    {
      "cell_type": "code",
      "source": [
        "# how can I print the word 'doctor' at position 13\n",
        "\n",
        "# we text slice function\n",
        "\n",
        "\n",
        "# this is called hard coding\n",
        "\n",
        "txt[13:19]\n",
        "\n",
        "# we use variables and functions\n",
        "\n",
        "txt[x:x+len(word)]\n"
      ],
      "metadata": {
        "id": "gGOTQ1dxpX97",
        "outputId": "26b9d1bc-d0e3-4ee0-a5dd-021b6bfbe9d6",
        "colab": {
          "base_uri": "https://localhost:8080/",
          "height": 37
        }
      },
      "execution_count": 5,
      "outputs": [
        {
          "output_type": "execute_result",
          "data": {
            "text/plain": [
              "'doctor'"
            ],
            "application/vnd.google.colaboratory.intrinsic+json": {
              "type": "string"
            }
          },
          "metadata": {},
          "execution_count": 5
        }
      ]
    },
    {
      "cell_type": "code",
      "source": [
        "len(word)"
      ],
      "metadata": {
        "id": "LW9Sohd8qCLz",
        "outputId": "8a8a00be-d1a5-4f18-d0a1-355f8f85c5e8",
        "colab": {
          "base_uri": "https://localhost:8080/"
        }
      },
      "execution_count": 6,
      "outputs": [
        {
          "output_type": "execute_result",
          "data": {
            "text/plain": [
              "6"
            ]
          },
          "metadata": {},
          "execution_count": 6
        }
      ]
    }
  ]
}