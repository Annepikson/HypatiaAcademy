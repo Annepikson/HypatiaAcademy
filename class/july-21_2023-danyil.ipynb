{
  "nbformat": 4,
  "nbformat_minor": 0,
  "metadata": {
    "colab": {
      "provenance": [],
      "include_colab_link": true
    },
    "kernelspec": {
      "name": "python3",
      "display_name": "Python 3"
    },
    "language_info": {
      "name": "python"
    }
  },
  "cells": [
    {
      "cell_type": "markdown",
      "metadata": {
        "id": "view-in-github",
        "colab_type": "text"
      },
      "source": [
        "<a href=\"https://colab.research.google.com/github/werowe/HypatiaAcademy/blob/master/class/july-21_2023-danyil.ipynb\" target=\"_parent\"><img src=\"https://colab.research.google.com/assets/colab-badge.svg\" alt=\"Open In Colab\"/></a>"
      ]
    },
    {
      "cell_type": "code",
      "source": [
        "import math\n",
        "\n",
        "def find_gcd(a, b):\n",
        "    if a < b:\n",
        "        a, b = b, a  # Ensure a is the largest number\n",
        "\n",
        "    count = 0\n",
        "\n",
        "    while True and count < 30:\n",
        "        if a == b:\n",
        "           return gcd\n",
        "        gcd = a - b\n",
        "\n",
        "        print(\"a-b=gcd\", a,\"-\" ,b,\"=\",gcd)\n",
        "        print(\"a,b=max(a, b) - min(a, b), min(a, b)\", (max(a, b) - min(a, b), min(a, b)))\n",
        "        print(\"\\n\")\n",
        "        if gcd < b:\n",
        "           a, b = b, gcd\n",
        "        else:\n",
        "           a = gcd\n",
        "\n",
        "        count = count + 1\n",
        "\n",
        "\n",
        "a = 84\n",
        "b = 18\n",
        "result = find_gcd(a, b)\n",
        "print(\"GCD:\", result)\n",
        "\n",
        "print(\"check cgd:\", math.gcd(a,b))\n",
        "\n",
        "\n"
      ],
      "metadata": {
        "id": "3PXKfUigEN5p",
        "colab": {
          "base_uri": "https://localhost:8080/"
        },
        "outputId": "fe4cd40f-5cb0-4b2c-ac69-daed8421553d"
      },
      "execution_count": 104,
      "outputs": [
        {
          "output_type": "stream",
          "name": "stdout",
          "text": [
            "a-b=gcd 84 - 18 = 66\n",
            "a,b=max(a, b) - min(a, b), min(a, b) (66, 18)\n",
            "\n",
            "\n",
            "a-b=gcd 66 - 18 = 48\n",
            "a,b=max(a, b) - min(a, b), min(a, b) (48, 18)\n",
            "\n",
            "\n",
            "a-b=gcd 48 - 18 = 30\n",
            "a,b=max(a, b) - min(a, b), min(a, b) (30, 18)\n",
            "\n",
            "\n",
            "a-b=gcd 30 - 18 = 12\n",
            "a,b=max(a, b) - min(a, b), min(a, b) (12, 18)\n",
            "\n",
            "\n",
            "a-b=gcd 18 - 12 = 6\n",
            "a,b=max(a, b) - min(a, b), min(a, b) (6, 12)\n",
            "\n",
            "\n",
            "a-b=gcd 12 - 6 = 6\n",
            "a,b=max(a, b) - min(a, b), min(a, b) (6, 6)\n",
            "\n",
            "\n",
            "GCD: 6\n",
            "check cgd: 6\n"
          ]
        }
      ]
    },
    {
      "cell_type": "code",
      "source": [
        "'''\n",
        "\n",
        "\n",
        "\n",
        "84 - 18 = 66\n",
        "66 - 18 = 48\n",
        "48 - 18 = 30\n",
        "30 - 18 = 12\n",
        "18 - 12 = 6. # swap\n",
        "\n",
        "'''"
      ],
      "metadata": {
        "colab": {
          "base_uri": "https://localhost:8080/",
          "height": 37
        },
        "id": "w_vTJFwa6dwt",
        "outputId": "a756d971-6977-4ee5-c8d2-0930e2256ed3"
      },
      "execution_count": 102,
      "outputs": [
        {
          "output_type": "execute_result",
          "data": {
            "text/plain": [
              "'\\n\\n \\n\\n84 - 18 = 66\\n66 - 18 = 48\\n48 - 18 = 30\\n30 - 18 = 12\\n18 - 12 = 6. # swap  \\n\\n'"
            ],
            "application/vnd.google.colaboratory.intrinsic+json": {
              "type": "string"
            }
          },
          "metadata": {},
          "execution_count": 102
        }
      ]
    },
    {
      "cell_type": "code",
      "source": [
        "'''\n",
        "biggest minus smallest\n",
        "\n",
        "\n",
        "\n",
        "35-15=20      gcd=a-b=35-15=20\n",
        "\n",
        "20-15=5\n",
        "\n",
        "15-5=10\n",
        "\n",
        "# swap because 10 > 5\n",
        "\n",
        "10-5= 5\n",
        "\n",
        "5-5 = 0 # stop\n",
        "\n",
        "\n",
        "\n",
        "'''"
      ],
      "metadata": {
        "colab": {
          "base_uri": "https://localhost:8080/",
          "height": 55
        },
        "id": "oHlc4hvK6sj7",
        "outputId": "7f4f5d49-36f5-4972-b479-5e30873e52b7"
      },
      "execution_count": 103,
      "outputs": [
        {
          "output_type": "execute_result",
          "data": {
            "text/plain": [
              "'\\nbiggest minus smallest\\n \\n\\n\\n35-15=20      gcd=a-b=35-15=20\\n\\n20-15=5\\n\\n15-5=10\\n\\n# swap because 10 > 5\\n\\n10-5= 5\\n\\n5-5 = 0 # stop\\n\\n\\n\\n'"
            ],
            "application/vnd.google.colaboratory.intrinsic+json": {
              "type": "string"
            }
          },
          "metadata": {},
          "execution_count": 103
        }
      ]
    },
    {
      "cell_type": "code",
      "source": [],
      "metadata": {
        "id": "mvRwnVHz7PI7"
      },
      "execution_count": 103,
      "outputs": []
    }
  ]
}