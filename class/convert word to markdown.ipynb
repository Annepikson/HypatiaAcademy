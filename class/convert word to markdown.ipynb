{
 "cells": [
  {
   "cell_type": "markdown",
   "id": "b2e666a1",
   "metadata": {},
   "source": [
    "https://python-docx.readthedocs.io/en/latest/api/table.html#docx.table.Table"
   ]
  },
  {
   "cell_type": "code",
   "execution_count": 74,
   "id": "db2860df",
   "metadata": {},
   "outputs": [
    {
     "data": {
      "text/plain": [
       "<function TextIOWrapper.close()>"
      ]
     },
     "execution_count": 74,
     "metadata": {},
     "output_type": "execute_result"
    }
   ],
   "source": [
    "import docx\n",
    "import re\n",
    "\n",
    "\n",
    " \n",
    "\n",
    "def convert_table_to_markdown(file_path):\n",
    "    # Load the Word document\n",
    "    doc = docx.Document(file_path)\n",
    "\n",
    "    # Initialize the Markdown content\n",
    "   \n",
    "\n",
    "    # Process each table in the document\n",
    "    count = 0\n",
    "    \n",
    "    # Initialize the HTML content\n",
    "    \n",
    "    count = 0\n",
    "    \n",
    "    # Process each table in the document\n",
    "    for table in doc.tables:\n",
    "        html_content = \"\"\n",
    "        f = \"/Users/walkerrowe/Downloads/\" + str(count) + \".md\"\n",
    "        print(f)\n",
    "        file=open(f, \"w\")\n",
    "        \n",
    "        # Start HTML table\n",
    "        html_content += \"<table>\\n\"\n",
    "\n",
    "        # Process each row in the table\n",
    "        for row in table.rows:\n",
    "            # Start HTML row\n",
    "            html_content += \"<tr>\\n\"\n",
    "\n",
    "            # Process each cell in the row\n",
    "            for cell in row.cells:\n",
    "                # Extract cell text and formatting\n",
    "                cell_text = cell.text\n",
    "                cell_formatting = cell.paragraphs[0].runs[0].font\n",
    "\n",
    "                # Generate HTML cell with formatting\n",
    "                html_cell = f\"<td style='vertical-align: top;font-weight:{'bold' if cell_formatting.bold else 'normal'};\" \\\n",
    "                            f\"font-style:{'italic' if cell_formatting.italic else 'normal'};\" \\\n",
    "                            f\"text-decoration:{'underline' if cell_formatting.underline else 'none'};'>\"\n",
    "\n",
    "                html_cell += cell_text + \"</td>\\n\"\n",
    "\n",
    "                # Append HTML cell to row\n",
    "                html_content += html_cell\n",
    "\n",
    "            # End HTML row\n",
    "            html_content += \"</tr>\\n\"\n",
    "\n",
    "        # End HTML table\n",
    "        html_content += \"</table>\\n\"\n",
    "\n",
    "        file.write(html_content)\n",
    "        file.close\n",
    "        count += 1\n",
    "   \n",
    "    \n",
    "\n",
    "\n",
    "def convert_word_to_markdown(file_path):\n",
    "    # Load the Word document\n",
    "    doc = docx.Document(file_path)\n",
    "    \n",
    "    markdown_content = \"\"\n",
    "    \n",
    "    # Process each paragraph in the document\n",
    "    for para in doc.paragraphs:\n",
    "        # Extract the text and formatting\n",
    "        text = para.text\n",
    "        style = para.style.name\n",
    "      \n",
    "       # for run in para.runs:\n",
    "       #     #if run.font.name == \"Ubuntu Mono\":\n",
    "       #     print( para.style.name,run.font.name, run.text)\n",
    "         \n",
    "         \n",
    "        # Convert Word formatting to Markdown equivalents\n",
    "        if style == \"Heading 1\":\n",
    "            # Convert title style to Markdown title\n",
    "            markdown_content += \"# \" + text + \"\\n\\n\"\n",
    "        elif style == \"Heading 2\":\n",
    "            # Convert subtitle style to Markdown subtitle\n",
    "            markdown_content += \"## \" + text + \"\\n\\n\"\n",
    "        elif style == \"Heading 3\":\n",
    "            # Convert subtitle style to Markdown subtitle\n",
    "            markdown_content += \"### \" + text + \"\\n\\n\"    \n",
    "        elif style == \"Heading 4\":\n",
    "            # Convert quote style to Markdown blockquote\n",
    "            markdown_content += \"\\n```\\n\" + text + \"\\n```\\n\\n\"\n",
    "        else:\n",
    "            # Treat other styles as normal paragraphs\n",
    "            markdown_content += text + \"\\n\\n\"\n",
    "            \n",
    "\n",
    "    return markdown_content\n",
    "\n",
    "# Usage example\n",
    "\n",
    "\n",
    "#word_file = \"/Users/walkerrowe/Downloads/doc.docx\"\n",
    "#convert_table_to_markdown(word_file)\n",
    "\n",
    " \n",
    "\n",
    "# paragraphs\n",
    "\n",
    " \n",
    "\n",
    "word_file = \"/Users/walkerrowe/Downloads/doc.docx\"\n",
    "markdown_content = convert_word_to_markdown(word_file)\n",
    "\n",
    "f = \"/Users/walkerrowe/Downloads/convert.md\"\n",
    "file=open(f, \"w\")\n",
    "file.write(markdown_content)        \n",
    "file.close"
   ]
  },
  {
   "cell_type": "code",
   "execution_count": 63,
   "id": "7c6a235c",
   "metadata": {},
   "outputs": [
    {
     "data": {
      "text/plain": [
       "{'Heading 1',\n",
       " 'Heading 2',\n",
       " 'Heading 3',\n",
       " 'Heading 4',\n",
       " 'Heading 5',\n",
       " 'Title',\n",
       " 'normal'}"
      ]
     },
     "execution_count": 63,
     "metadata": {},
     "output_type": "execute_result"
    }
   ],
   "source": [
    "styles"
   ]
  },
  {
   "cell_type": "code",
   "execution_count": null,
   "id": "0cafb7aa",
   "metadata": {},
   "outputs": [],
   "source": []
  }
 ],
 "metadata": {
  "kernelspec": {
   "display_name": "Python 3 (ipykernel)",
   "language": "python",
   "name": "python3"
  },
  "language_info": {
   "codemirror_mode": {
    "name": "ipython",
    "version": 3
   },
   "file_extension": ".py",
   "mimetype": "text/x-python",
   "name": "python",
   "nbconvert_exporter": "python",
   "pygments_lexer": "ipython3",
   "version": "3.10.9"
  }
 },
 "nbformat": 4,
 "nbformat_minor": 5
}
