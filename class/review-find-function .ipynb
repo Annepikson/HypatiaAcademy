{
 "cells": [
  {
   "cell_type": "code",
   "execution_count": 1,
   "id": "551094f3",
   "metadata": {},
   "outputs": [],
   "source": [
    "someText = \"Hello my names and Artur and Lika\"\n",
    "\n",
    "\n",
    "findMe = \"Arthur\"\n",
    "\n",
    "# string functions\n",
    "\n"
   ]
  },
  {
   "cell_type": "code",
   "execution_count": 3,
   "id": "c8547c83",
   "metadata": {},
   "outputs": [
    {
     "data": {
      "text/plain": [
       "-1"
      ]
     },
     "execution_count": 3,
     "metadata": {},
     "output_type": "execute_result"
    }
   ],
   "source": [
    "someText.find(findMe)"
   ]
  },
  {
   "cell_type": "code",
   "execution_count": 10,
   "id": "2b3b362e",
   "metadata": {},
   "outputs": [
    {
     "name": "stdout",
     "output_type": "stream",
     "text": [
      "The word 'Artur' is at position 19 in the sentence 'Hello my names and Artur and Lika' \n"
     ]
    }
   ],
   "source": [
    "findMe = \"Artur\"\n",
    "\n",
    "position=someText.find(findMe)\n",
    "print(\"The word '%s' is at position %i in the sentence '%s' \" % (findMe, position, someText))\n",
    "      "
   ]
  },
  {
   "cell_type": "code",
   "execution_count": 13,
   "id": "64dcebab",
   "metadata": {},
   "outputs": [
    {
     "data": {
      "text/plain": [
       "'Artur'"
      ]
     },
     "execution_count": 13,
     "metadata": {},
     "output_type": "execute_result"
    }
   ],
   "source": [
    "someText[19:19+5]\n",
    "\n",
    "'''\n",
    "\n",
    "this is called a slice\n",
    "\n",
    "when we put someText[start:end] it means print out from start to end\n",
    "\n",
    "'''"
   ]
  },
  {
   "cell_type": "code",
   "execution_count": 15,
   "id": "1c536a8c",
   "metadata": {},
   "outputs": [
    {
     "data": {
      "text/plain": [
       "'r'"
      ]
     },
     "execution_count": 15,
     "metadata": {},
     "output_type": "execute_result"
    }
   ],
   "source": [
    "someText[23]"
   ]
  },
  {
   "cell_type": "code",
   "execution_count": 8,
   "id": "2c92419e",
   "metadata": {},
   "outputs": [
    {
     "data": {
      "text/plain": [
       "'Artur'"
      ]
     },
     "execution_count": 8,
     "metadata": {},
     "output_type": "execute_result"
    }
   ],
   "source": [
    "findMe"
   ]
  },
  {
   "cell_type": "code",
   "execution_count": null,
   "id": "03492d8e",
   "metadata": {},
   "outputs": [],
   "source": [
    "'''\n",
    "data types:\n",
    "\n",
    "string (str) letters\n",
    "\n",
    "numbers we have integer (int) and float\n",
    "\n",
    "we have Booleans which is True or False\n",
    "\n",
    "A string has different functions, like find\n",
    "\n",
    "'''"
   ]
  },
  {
   "cell_type": "code",
   "execution_count": null,
   "id": "19daa84c",
   "metadata": {},
   "outputs": [],
   "source": [
    "'''\n",
    "\n",
    "function (takes some input)\n",
    "\n",
    "   returns something\n",
    "\n",
    "\n",
    "find(\"some string\")\n",
    "   returns the position of the string\n",
    "\n",
    "'''"
   ]
  }
 ],
 "metadata": {
  "kernelspec": {
   "display_name": "Python 3 (ipykernel)",
   "language": "python",
   "name": "python3"
  },
  "language_info": {
   "codemirror_mode": {
    "name": "ipython",
    "version": 3
   },
   "file_extension": ".py",
   "mimetype": "text/x-python",
   "name": "python",
   "nbconvert_exporter": "python",
   "pygments_lexer": "ipython3",
   "version": "3.10.9"
  }
 },
 "nbformat": 4,
 "nbformat_minor": 5
}
