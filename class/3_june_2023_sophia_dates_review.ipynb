{
  "nbformat": 4,
  "nbformat_minor": 0,
  "metadata": {
    "colab": {
      "provenance": [],
      "authorship_tag": "ABX9TyNsecFVl/CcLXKDvwPtHAtq",
      "include_colab_link": true
    },
    "kernelspec": {
      "name": "python3",
      "display_name": "Python 3"
    },
    "language_info": {
      "name": "python"
    }
  },
  "cells": [
    {
      "cell_type": "markdown",
      "metadata": {
        "id": "view-in-github",
        "colab_type": "text"
      },
      "source": [
        "<a href=\"https://colab.research.google.com/github/werowe/HypatiaAcademy/blob/master/class/3_june_2023_sophia_dates_review.ipynb\" target=\"_parent\"><img src=\"https://colab.research.google.com/assets/colab-badge.svg\" alt=\"Open In Colab\"/></a>"
      ]
    },
    {
      "cell_type": "code",
      "execution_count": 6,
      "metadata": {
        "colab": {
          "base_uri": "https://localhost:8080/"
        },
        "id": "Q2VHJ6z-VGpS",
        "outputId": "3d12f242-f4ae-4270-b1d5-ae183481b41c"
      },
      "outputs": [
        {
          "output_type": "stream",
          "name": "stdout",
          "text": [
            "ISO format  2023-06-02T13:41:38.170045\n",
            "day 02 month 06 year 23 hour 13 minute 41 second 38\n"
          ]
        }
      ],
      "source": [
        "'''\n",
        "Homework\n",
        "get the current date and time\n",
        "use strftime to print the day, month, hour, minute second.  look here for what %s %S etc. to use\n",
        "use timedelta to add 14 days 14 hours 14 minutes and 14 seconds to the current date and time\n",
        "\n",
        "'''\n",
        "\n",
        "import datetime\n",
        "\n",
        "now=datetime.datetime.now()\n",
        "print(\"ISO format \", now.isoformat())\n",
        "\n",
        "print(now.strftime(\"day %d month %m year %y hour %H minute %M second %S\"))\n",
        "\n"
      ]
    },
    {
      "cell_type": "code",
      "source": [
        "days=14\n",
        "hours=14\n",
        "minutes=14 \n",
        "seconds=14\n",
        "\n",
        "from datetime import timedelta\n",
        "fourteenDays=timedelta(days=14,hours=14, minutes=14, seconds=14)\n",
        "\n",
        "future=now + fourteenDays\n",
        "\n",
        "# strftime is string format time\n",
        "\n",
        "\n",
        "print(now.strftime(\"NOW IS day %d month %m year %y hour %H minute %M second %S\"))\n",
        "\n",
        "print(future.strftime(\"FUTURE IS day %d month %m year %y hour %H minute %M second %S\"))\n"
      ],
      "metadata": {
        "colab": {
          "base_uri": "https://localhost:8080/"
        },
        "id": "aupP61deV9Lf",
        "outputId": "eea9d443-cdcf-4e6b-f417-99f359f13043"
      },
      "execution_count": 8,
      "outputs": [
        {
          "output_type": "stream",
          "name": "stdout",
          "text": [
            "NOW IS day 02 month 06 year 23 hour 13 minute 41 second 38\n",
            "FUTURE IS day 17 month 06 year 23 hour 03 minute 55 second 52\n"
          ]
        }
      ]
    }
  ]
}