{
  "nbformat": 4,
  "nbformat_minor": 0,
  "metadata": {
    "colab": {
      "provenance": [],
      "include_colab_link": true
    },
    "kernelspec": {
      "name": "python3",
      "display_name": "Python 3"
    },
    "language_info": {
      "name": "python"
    }
  },
  "cells": [
    {
      "cell_type": "markdown",
      "metadata": {
        "id": "view-in-github",
        "colab_type": "text"
      },
      "source": [
        "<a href=\"https://colab.research.google.com/github/werowe/HypatiaAcademy/blob/master/class/20-june-2023-homework-create-transations-from-csv-file-add-to-bank-account.ipynb\" target=\"_parent\"><img src=\"https://colab.research.google.com/assets/colab-badge.svg\" alt=\"Open In Colab\"/></a>"
      ]
    },
    {
      "cell_type": "code",
      "execution_count": 16,
      "metadata": {
        "id": "VNAgFI1c1lYJ"
      },
      "outputs": [],
      "source": [
        "class Transaction:\n",
        "\n",
        "  def __init__(self, date, amount):\n",
        "    self.date = date\n",
        "    self.amount = amount\n",
        "\n",
        "class BankAccount:\n",
        "\n",
        "  transactions = []\n",
        "  balance = 0\n",
        "\n",
        "#constructor creates the object\n",
        "  def __init__(self, accountNumber, Balance, ownersName):\n",
        "   self.accountNumber = accountNumber\n",
        "   self.ownersName = ownersName\n",
        "\n",
        "\n",
        "  def addTrans(self,date, amount):\n",
        "    transaction=Transaction(date,amount)\n",
        "    self.transactions.append(transaction)\n",
        "\n",
        "\n",
        "  def getTransactions(self):\n",
        "    return self.transactions\n",
        "\n",
        "  def getBalance():\n",
        "\n",
        "\n",
        "\n"
      ]
    },
    {
      "cell_type": "code",
      "source": [
        "import datetime\n",
        "\n",
        "friday = datetime.date(month=7, day=16, year=2023)\n",
        "\n",
        "bankaccount = BankAccount(\"123\",0,\"Danylo\")\n",
        "\n",
        "bankaccount.addTrans(friday, 300)\n"
      ],
      "metadata": {
        "id": "pzXOzSYPZk8o"
      },
      "execution_count": 10,
      "outputs": []
    },
    {
      "cell_type": "code",
      "source": [
        "bankaccount.transactions[0].amount"
      ],
      "metadata": {
        "colab": {
          "base_uri": "https://localhost:8080/"
        },
        "id": "wpZf3s1EuP_i",
        "outputId": "8dd67064-2fd6-4404-e215-86b3a7513e5f"
      },
      "execution_count": 15,
      "outputs": [
        {
          "output_type": "execute_result",
          "data": {
            "text/plain": [
              "300"
            ]
          },
          "metadata": {},
          "execution_count": 15
        }
      ]
    },
    {
      "cell_type": "code",
      "source": [
        "bankaccount.AccountNumber"
      ],
      "metadata": {
        "id": "oi01ksUIbjSt",
        "outputId": "25c31da9-1a2c-44dc-9f9b-28da37988f18",
        "colab": {
          "base_uri": "https://localhost:8080/",
          "height": 37
        }
      },
      "execution_count": 19,
      "outputs": [
        {
          "output_type": "execute_result",
          "data": {
            "text/plain": [
              "'123'"
            ],
            "application/vnd.google.colaboratory.intrinsic+json": {
              "type": "string"
            }
          },
          "metadata": {},
          "execution_count": 19
        }
      ]
    },
    {
      "cell_type": "code",
      "source": [
        "bankaccount.getTransactions()"
      ],
      "metadata": {
        "id": "BVskHNWsbj1L",
        "outputId": "14415b56-d11d-4bcb-9ce7-c87a0a39ecaa",
        "colab": {
          "base_uri": "https://localhost:8080/",
          "height": 168
        }
      },
      "execution_count": 18,
      "outputs": [
        {
          "output_type": "error",
          "ename": "AttributeError",
          "evalue": "ignored",
          "traceback": [
            "\u001b[0;31m---------------------------------------------------------------------------\u001b[0m",
            "\u001b[0;31mAttributeError\u001b[0m                            Traceback (most recent call last)",
            "\u001b[0;32m<ipython-input-18-e05e8d8469ef>\u001b[0m in \u001b[0;36m<cell line: 1>\u001b[0;34m()\u001b[0m\n\u001b[0;32m----> 1\u001b[0;31m \u001b[0mbankaccount\u001b[0m\u001b[0;34m.\u001b[0m\u001b[0mgetTransactions\u001b[0m\u001b[0;34m(\u001b[0m\u001b[0;34m)\u001b[0m\u001b[0;34m\u001b[0m\u001b[0;34m\u001b[0m\u001b[0m\n\u001b[0m",
            "\u001b[0;31mAttributeError\u001b[0m: 'BankAccount' object has no attribute 'getTransactions'"
          ]
        }
      ]
    },
    {
      "cell_type": "code",
      "source": [
        "'''\n",
        "\n",
        "\n",
        "1. write the function getBalance() it should total all the transactions\n",
        "\n",
        "\n",
        "2. write a program to read the transactions from the transactions.csv file\n",
        "and add those to the account\n",
        "\n",
        "get this file from the internet https://raw.githubusercontent.com/werowe/HypatiaAcademy/master/assignment/transactions.csv\n",
        "\n",
        "and create transactions from it and add those to your bank account\n",
        "\n",
        "\n",
        "\n",
        "'''"
      ],
      "metadata": {
        "id": "WdaWExwCcqw4"
      },
      "execution_count": null,
      "outputs": []
    }
  ]
}