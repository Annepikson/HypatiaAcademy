{
  "nbformat": 4,
  "nbformat_minor": 0,
  "metadata": {
    "colab": {
      "provenance": [],
      "include_colab_link": true
    },
    "kernelspec": {
      "name": "python3",
      "display_name": "Python 3"
    },
    "language_info": {
      "name": "python"
    }
  },
  "cells": [
    {
      "cell_type": "markdown",
      "metadata": {
        "id": "view-in-github",
        "colab_type": "text"
      },
      "source": [
        "<a href=\"https://colab.research.google.com/github/Annepikson/HypatiaAcademy/blob/master/class/2024_09_06_tic_tac_toe_finish_me.ipynb\" target=\"_parent\"><img src=\"https://colab.research.google.com/assets/colab-badge.svg\" alt=\"Open In Colab\"/></a>"
      ]
    },
    {
      "cell_type": "markdown",
      "source": [
        "# **First part**"
      ],
      "metadata": {
        "id": "G_QTRtntQTOZ"
      }
    },
    {
      "cell_type": "code",
      "source": [
        "l = [1, 2]\n",
        "\n",
        "# swap means change order.  so how can I make [ 2, 1]\n",
        "\n",
        "print(l[0])\n",
        "print(l[1])\n",
        "\n",
        "\n",
        "\n",
        "# in three steps.  normal.  python lets you do two assignment in one step.\n",
        "# that looks strange, because other programming language don't allow that\n",
        "\n",
        "temporary=l[0]  # the 1 is here.  temporary spot\n",
        "l[0]=l[1]\n",
        "\n",
        "l[1]=temporary\n",
        "\n",
        "l\n",
        "\n"
      ],
      "metadata": {
        "id": "Yu5jTyPnP2f-",
        "colab": {
          "base_uri": "https://localhost:8080/"
        },
        "outputId": "b525f884-da89-4990-dcf9-8cd169bd01ff"
      },
      "execution_count": 2,
      "outputs": [
        {
          "output_type": "stream",
          "name": "stdout",
          "text": [
            "1\n",
            "2\n"
          ]
        },
        {
          "output_type": "execute_result",
          "data": {
            "text/plain": [
              "[2, 1]"
            ]
          },
          "metadata": {},
          "execution_count": 2
        }
      ]
    },
    {
      "cell_type": "code",
      "source": [
        "l = [1, 2]\n",
        "\n",
        "l[0] , l[1] = l[1], l[0]\n",
        "\n",
        "l\n"
      ],
      "metadata": {
        "colab": {
          "base_uri": "https://localhost:8080/"
        },
        "id": "evH-WB43ufRz",
        "outputId": "e67dce82-5fc7-4924-ee1f-b0a7235651ca"
      },
      "execution_count": 3,
      "outputs": [
        {
          "output_type": "execute_result",
          "data": {
            "text/plain": [
              "[2, 1]"
            ]
          },
          "metadata": {},
          "execution_count": 3
        }
      ]
    },
    {
      "cell_type": "code",
      "source": [
        "3*2"
      ],
      "metadata": {
        "colab": {
          "base_uri": "https://localhost:8080/"
        },
        "id": "OUZok_aAuRp9",
        "outputId": "88b30da8-ecf8-49df-f14f-7446afb2bdf7"
      },
      "execution_count": 4,
      "outputs": [
        {
          "output_type": "execute_result",
          "data": {
            "text/plain": [
              "6"
            ]
          },
          "metadata": {},
          "execution_count": 4
        }
      ]
    },
    {
      "cell_type": "code",
      "source": [
        "for i in range(10):\n",
        "  swap = [[i[1],i[0]] for i in x]\n",
        "swap"
      ],
      "metadata": {
        "id": "yFO4UJrRSmZ1",
        "outputId": "2365cf9e-1a2e-4e1d-9a55-c2fd3917d96c",
        "colab": {
          "base_uri": "https://localhost:8080/",
          "height": 180
        }
      },
      "execution_count": 5,
      "outputs": [
        {
          "output_type": "error",
          "ename": "NameError",
          "evalue": "name 'x' is not defined",
          "traceback": [
            "\u001b[0;31m---------------------------------------------------------------------------\u001b[0m",
            "\u001b[0;31mNameError\u001b[0m                                 Traceback (most recent call last)",
            "\u001b[0;32m<ipython-input-5-b98ef879ccb3>\u001b[0m in \u001b[0;36m<cell line: 1>\u001b[0;34m()\u001b[0m\n\u001b[1;32m      1\u001b[0m \u001b[0;32mfor\u001b[0m \u001b[0mi\u001b[0m \u001b[0;32min\u001b[0m \u001b[0mrange\u001b[0m\u001b[0;34m(\u001b[0m\u001b[0;36m10\u001b[0m\u001b[0;34m)\u001b[0m\u001b[0;34m:\u001b[0m\u001b[0;34m\u001b[0m\u001b[0;34m\u001b[0m\u001b[0m\n\u001b[0;32m----> 2\u001b[0;31m   \u001b[0mswap\u001b[0m \u001b[0;34m=\u001b[0m \u001b[0;34m[\u001b[0m\u001b[0;34m[\u001b[0m\u001b[0mi\u001b[0m\u001b[0;34m[\u001b[0m\u001b[0;36m1\u001b[0m\u001b[0;34m]\u001b[0m\u001b[0;34m,\u001b[0m\u001b[0mi\u001b[0m\u001b[0;34m[\u001b[0m\u001b[0;36m0\u001b[0m\u001b[0;34m]\u001b[0m\u001b[0;34m]\u001b[0m \u001b[0;32mfor\u001b[0m \u001b[0mi\u001b[0m \u001b[0;32min\u001b[0m \u001b[0mx\u001b[0m\u001b[0;34m]\u001b[0m\u001b[0;34m\u001b[0m\u001b[0;34m\u001b[0m\u001b[0m\n\u001b[0m\u001b[1;32m      3\u001b[0m \u001b[0mswap\u001b[0m\u001b[0;34m\u001b[0m\u001b[0;34m\u001b[0m\u001b[0m\n",
            "\u001b[0;31mNameError\u001b[0m: name 'x' is not defined"
          ]
        }
      ]
    },
    {
      "cell_type": "markdown",
      "source": [
        "# **Third part**"
      ],
      "metadata": {
        "id": "ee9hP4OYUBcE"
      }
    },
    {
      "cell_type": "code",
      "source": [
        "stack=[0,1,2,3,4,5,6,7,8,9]\n",
        "i = 0\n",
        "while len(stack) > 0:\n",
        "  out = stack[i]\n",
        "  del stack[i]\n",
        "  print(out,stack)\n",
        "  i ++ 1"
      ],
      "metadata": {
        "id": "RtRiyuLzUm0n",
        "outputId": "bff1ca08-0dad-43e7-e3ec-f4852d632984",
        "colab": {
          "base_uri": "https://localhost:8080/"
        }
      },
      "execution_count": 6,
      "outputs": [
        {
          "output_type": "stream",
          "name": "stdout",
          "text": [
            "0 [1, 2, 3, 4, 5, 6, 7, 8, 9]\n",
            "1 [2, 3, 4, 5, 6, 7, 8, 9]\n",
            "2 [3, 4, 5, 6, 7, 8, 9]\n",
            "3 [4, 5, 6, 7, 8, 9]\n",
            "4 [5, 6, 7, 8, 9]\n",
            "5 [6, 7, 8, 9]\n",
            "6 [7, 8, 9]\n",
            "7 [8, 9]\n",
            "8 [9]\n",
            "9 []\n"
          ]
        }
      ]
    },
    {
      "cell_type": "code",
      "source": [],
      "metadata": {
        "id": "VjuVUsPhVUcd"
      },
      "execution_count": 6,
      "outputs": []
    },
    {
      "cell_type": "code",
      "source": [
        "# write a list comprehension to multiple every item in a list by 2\n",
        "\n",
        "\n",
        "l = [1,2,3,4]\n",
        "\n",
        "# [expression for item in iterable if condition]\n",
        "\n",
        "\n",
        "# expression, means do something\n",
        "# for item:  fred, i\n",
        "# iterable: basically means something you can count, a list is an iterable\n",
        "\n",
        "\n",
        "n = []\n",
        "\n",
        "n.append(1)\n",
        "\n",
        "n.append(1*2)\n",
        "\n",
        "n.append(1*3)\n",
        "\n",
        "print(n)\n",
        "\n",
        "# a more compact one is to do one line of code\n",
        "\n",
        "[i ** 2 for i in l]\n",
        "\n"
      ],
      "metadata": {
        "colab": {
          "base_uri": "https://localhost:8080/"
        },
        "id": "OmqS3200vCyY",
        "outputId": "a0695476-4ab8-418b-a2ef-46a99ccccdbf"
      },
      "execution_count": 7,
      "outputs": [
        {
          "output_type": "stream",
          "name": "stdout",
          "text": [
            "[1, 2, 3]\n"
          ]
        },
        {
          "output_type": "execute_result",
          "data": {
            "text/plain": [
              "[1, 4, 9, 16]"
            ]
          },
          "metadata": {},
          "execution_count": 7
        }
      ]
    },
    {
      "cell_type": "code",
      "source": [
        "t = [\n",
        "      [None, None, None],\n",
        "      [None, None, None],\n",
        "      [None, None, None]\n",
        "]\n",
        "\n",
        "t[0][0]='x'\n",
        "\n",
        "t"
      ],
      "metadata": {
        "colab": {
          "base_uri": "https://localhost:8080/"
        },
        "id": "JJqveneQyWg7",
        "outputId": "82c64c37-49e8-4bb7-834c-72f5bba18170"
      },
      "execution_count": 8,
      "outputs": [
        {
          "output_type": "execute_result",
          "data": {
            "text/plain": [
              "[['x', None, None], [None, None, None], [None, None, None]]"
            ]
          },
          "metadata": {},
          "execution_count": 8
        }
      ]
    },
    {
      "cell_type": "code",
      "source": [
        "t = [\n",
        "      ['o','x', 'o'],\n",
        "      ['o','x', 'o'],\n",
        "      ['o','x', 'o']\n",
        "]\n",
        "\n",
        "t"
      ],
      "metadata": {
        "colab": {
          "base_uri": "https://localhost:8080/"
        },
        "id": "0P8GueXHw5Hd",
        "outputId": "325da5c6-5c18-4183-e24a-751d40fca9b5"
      },
      "execution_count": 9,
      "outputs": [
        {
          "output_type": "execute_result",
          "data": {
            "text/plain": [
              "[['o', 'x', 'o'], ['o', 'x', 'o'], ['o', 'x', 'o']]"
            ]
          },
          "metadata": {},
          "execution_count": 9
        }
      ]
    },
    {
      "cell_type": "code",
      "source": [
        "t[0]"
      ],
      "metadata": {
        "colab": {
          "base_uri": "https://localhost:8080/"
        },
        "id": "tjKqPjOPy-Qi",
        "outputId": "da76e99e-20e5-4850-ffe3-8fbaabebfea0"
      },
      "execution_count": 10,
      "outputs": [
        {
          "output_type": "execute_result",
          "data": {
            "text/plain": [
              "['o', 'x', 'o']"
            ]
          },
          "metadata": {},
          "execution_count": 10
        }
      ]
    },
    {
      "cell_type": "code",
      "source": [
        "t[0][0]"
      ],
      "metadata": {
        "colab": {
          "base_uri": "https://localhost:8080/",
          "height": 35
        },
        "id": "pRVlUgfbzDQq",
        "outputId": "65ba2ea6-3586-430e-c5c1-a92192d5c0f6"
      },
      "execution_count": 11,
      "outputs": [
        {
          "output_type": "execute_result",
          "data": {
            "text/plain": [
              "'o'"
            ],
            "application/vnd.google.colaboratory.intrinsic+json": {
              "type": "string"
            }
          },
          "metadata": {},
          "execution_count": 11
        }
      ]
    },
    {
      "cell_type": "code",
      "source": [
        "# tests for equality\n",
        "==\n",
        "\n",
        "# assignment operator\n",
        "="
      ],
      "metadata": {
        "id": "ZIsQ4gKgzRaj",
        "outputId": "84169193-ae5e-4293-92d1-9638f726a424",
        "colab": {
          "base_uri": "https://localhost:8080/",
          "height": 108
        }
      },
      "execution_count": 12,
      "outputs": [
        {
          "output_type": "error",
          "ename": "SyntaxError",
          "evalue": "invalid syntax (<ipython-input-12-90fdade6d0b9>, line 2)",
          "traceback": [
            "\u001b[0;36m  File \u001b[0;32m\"<ipython-input-12-90fdade6d0b9>\"\u001b[0;36m, line \u001b[0;32m2\u001b[0m\n\u001b[0;31m    ==\u001b[0m\n\u001b[0m    ^\u001b[0m\n\u001b[0;31mSyntaxError\u001b[0m\u001b[0;31m:\u001b[0m invalid syntax\n"
          ]
        }
      ]
    },
    {
      "cell_type": "code",
      "source": [
        "t = [\n",
        "      ['o','x', 'o'],\n",
        "      ['o','x', 'o'],\n",
        "      ['o','x', 'o']\n",
        "]\n"
      ],
      "metadata": {
        "id": "UZ6O4e_xzgxs"
      },
      "execution_count": null,
      "outputs": []
    },
    {
      "cell_type": "code",
      "source": [
        "t = [\n",
        "      ['a','x', 'o'],\n",
        "      ['o','a', 'o'],\n",
        "      ['o','x', 'a']\n",
        "]\n"
      ],
      "metadata": {
        "id": "6_lTFyLq73rh"
      },
      "execution_count": null,
      "outputs": []
    },
    {
      "cell_type": "code",
      "source": [
        "# is t a winner\n",
        "\n",
        "\n",
        "# diagonal\n",
        "\n",
        "\n",
        "t[0][0] == t[1][1] == t[2][2]\n"
      ],
      "metadata": {
        "id": "vuYR_Xdr7dQt"
      },
      "execution_count": null,
      "outputs": []
    },
    {
      "cell_type": "code",
      "source": [
        "# how can I check the first column\n",
        "\n",
        "row=0\n",
        "column=0\n",
        "\n",
        "t[row][column] == t[row + 1 ][column]  == t[row + 2 ][column]"
      ],
      "metadata": {
        "id": "J7XO9Psw8D2s"
      },
      "execution_count": null,
      "outputs": []
    },
    {
      "cell_type": "code",
      "source": [
        "t[0][0] == t[1][1] == t[2][2]"
      ],
      "metadata": {
        "id": "hZsmXgih9K-N"
      },
      "execution_count": null,
      "outputs": []
    },
    {
      "cell_type": "code",
      "source": [
        "for i in t:\n",
        "  print(i)"
      ],
      "metadata": {
        "id": "0L5XaQVg8xk1"
      },
      "execution_count": null,
      "outputs": []
    },
    {
      "cell_type": "code",
      "source": [
        "# index means position\n",
        "\n",
        "t[0][0]\n",
        "\n",
        "t[[0]]\n"
      ],
      "metadata": {
        "id": "SjGX1cbM7dcC"
      },
      "execution_count": null,
      "outputs": []
    },
    {
      "cell_type": "code",
      "source": [
        "t[0][0]='o'"
      ],
      "metadata": {
        "id": "CKLe6wr484RB"
      },
      "execution_count": null,
      "outputs": []
    },
    {
      "cell_type": "code",
      "source": [],
      "metadata": {
        "id": "NszP0bc67dqE"
      },
      "execution_count": null,
      "outputs": []
    },
    {
      "cell_type": "code",
      "source": [],
      "metadata": {
        "id": "-c40zk9s7duf"
      },
      "execution_count": 12,
      "outputs": []
    },
    {
      "cell_type": "code",
      "source": [],
      "metadata": {
        "id": "cGg05Vd_7dyN"
      },
      "execution_count": 12,
      "outputs": []
    },
    {
      "cell_type": "code",
      "source": [
        "# first column\n",
        "\n",
        "t[0][0] == t[1][0] == t[2][0]\n"
      ],
      "metadata": {
        "colab": {
          "base_uri": "https://localhost:8080/"
        },
        "id": "7ivZOGmtysfv",
        "outputId": "d68a86de-cc08-4617-ddc8-9d997e8e848e"
      },
      "execution_count": 13,
      "outputs": [
        {
          "output_type": "execute_result",
          "data": {
            "text/plain": [
              "True"
            ]
          },
          "metadata": {},
          "execution_count": 13
        }
      ]
    },
    {
      "cell_type": "code",
      "source": [
        "n = [\n",
        "      [1,2, 3],\n",
        "      [4,5, 6],\n",
        "      [7,8, 9]\n",
        "]"
      ],
      "metadata": {
        "id": "1iWMshMc0QQ0"
      },
      "execution_count": 14,
      "outputs": []
    },
    {
      "cell_type": "code",
      "source": [
        "n[0][0]"
      ],
      "metadata": {
        "colab": {
          "base_uri": "https://localhost:8080/"
        },
        "id": "Urh3BCPF0Y_D",
        "outputId": "297d8d88-ba92-4f8f-ed8e-46ad345dd96c"
      },
      "execution_count": 15,
      "outputs": [
        {
          "output_type": "execute_result",
          "data": {
            "text/plain": [
              "1"
            ]
          },
          "metadata": {},
          "execution_count": 15
        }
      ]
    },
    {
      "cell_type": "code",
      "source": [
        "# column means up and down, vertical\n",
        "\n",
        "# row means across, horizontal\n",
        "\n",
        "n[column][row]\n",
        "\n",
        "\n",
        "n[0][1]"
      ],
      "metadata": {
        "colab": {
          "base_uri": "https://localhost:8080/"
        },
        "id": "oyT-sC9o0fFh",
        "outputId": "5480d46f-89ea-4c3d-9805-337e6cb4b447"
      },
      "execution_count": 16,
      "outputs": [
        {
          "output_type": "execute_result",
          "data": {
            "text/plain": [
              "2"
            ]
          },
          "metadata": {},
          "execution_count": 16
        }
      ]
    },
    {
      "cell_type": "code",
      "source": [
        "n"
      ],
      "metadata": {
        "colab": {
          "base_uri": "https://localhost:8080/"
        },
        "id": "qtcWJqyG14Ds",
        "outputId": "c426b7b9-d17d-498c-a03c-1db3b12e95dd"
      },
      "execution_count": 17,
      "outputs": [
        {
          "output_type": "execute_result",
          "data": {
            "text/plain": [
              "[[1, 2, 3], [4, 5, 6], [7, 8, 9]]"
            ]
          },
          "metadata": {},
          "execution_count": 17
        }
      ]
    },
    {
      "cell_type": "code",
      "source": [
        "# how do I check all values in the second column\n",
        "\n",
        "import random\n",
        "\n",
        "row = 0\n",
        "column = 0    # < ----- spelling mistake\n",
        "\n",
        "for r in range(3):  #\"rows\". this create a row object called r\n",
        "  for c in range(3):  #\"columns\"\n",
        "   print(\"debug me row=\", row, \"column=\", column)\n",
        "   n[row][column] = random.randint(0,1)\n",
        "   column = column + 1    #<-------assign value\n",
        "  print(\"\\n\")\n",
        "\n",
        "  row = row + 1\n",
        "  column = 0\n",
        "\n",
        "n\n",
        "\n"
      ],
      "metadata": {
        "colab": {
          "base_uri": "https://localhost:8080/"
        },
        "id": "c1SOWtsfzkhf",
        "outputId": "ec8d6b46-98fb-4bcb-8296-57611fe1acc6"
      },
      "execution_count": 18,
      "outputs": [
        {
          "output_type": "stream",
          "name": "stdout",
          "text": [
            "debug me row= 0 column= 0\n",
            "debug me row= 0 column= 1\n",
            "debug me row= 0 column= 2\n",
            "\n",
            "\n",
            "debug me row= 1 column= 0\n",
            "debug me row= 1 column= 1\n",
            "debug me row= 1 column= 2\n",
            "\n",
            "\n",
            "debug me row= 2 column= 0\n",
            "debug me row= 2 column= 1\n",
            "debug me row= 2 column= 2\n",
            "\n",
            "\n"
          ]
        },
        {
          "output_type": "execute_result",
          "data": {
            "text/plain": [
              "[[1, 1, 1], [1, 0, 0], [0, 1, 0]]"
            ]
          },
          "metadata": {},
          "execution_count": 18
        }
      ]
    },
    {
      "cell_type": "code",
      "source": [
        "for i in n:\n",
        "  print(i)"
      ],
      "metadata": {
        "colab": {
          "base_uri": "https://localhost:8080/"
        },
        "id": "jgjoVcQp47FS",
        "outputId": "78a99008-7adb-4e66-8244-f81e8b8055c5"
      },
      "execution_count": 19,
      "outputs": [
        {
          "output_type": "stream",
          "name": "stdout",
          "text": [
            "[1, 1, 1]\n",
            "[1, 0, 0]\n",
            "[0, 1, 0]\n"
          ]
        }
      ]
    },
    {
      "cell_type": "code",
      "source": [
        "row=1\n",
        "column=0\n",
        "\n",
        "n[row][column]=\"y\"\n",
        "\n",
        "for r in n:\n",
        "  print(r)\n"
      ],
      "metadata": {
        "colab": {
          "base_uri": "https://localhost:8080/"
        },
        "id": "8WFshbzf5OJo",
        "outputId": "b95ce5d9-b9b4-44fb-f00d-f8a001c7d260"
      },
      "execution_count": 20,
      "outputs": [
        {
          "output_type": "stream",
          "name": "stdout",
          "text": [
            "[1, 1, 1]\n",
            "['y', 0, 0]\n",
            "[0, 1, 0]\n"
          ]
        }
      ]
    },
    {
      "cell_type": "code",
      "source": [
        "\n",
        "\n",
        "z =  [\n",
        "\n",
        "     [\"r0c0\", \"r0c1\", \"r0c2\"],\n",
        "     [\"r1c0\", \"r1c1\", \"r1c2\"]  ,\n",
        "     [\"r2c0\", \"r2c1\", \"r2c2\"]\n",
        "\n",
        "]\n",
        "\n",
        "\n",
        "row=1\n",
        "column=2\n",
        "\n",
        "z[row][column]\n",
        "\n",
        "\n",
        "\n"
      ],
      "metadata": {
        "colab": {
          "base_uri": "https://localhost:8080/",
          "height": 35
        },
        "id": "5IImdfrN3SNq",
        "outputId": "68604666-a0d3-4451-a179-331a9a164e35"
      },
      "execution_count": 21,
      "outputs": [
        {
          "output_type": "execute_result",
          "data": {
            "text/plain": [
              "'r1c2'"
            ],
            "application/vnd.google.colaboratory.intrinsic+json": {
              "type": "string"
            }
          },
          "metadata": {},
          "execution_count": 21
        }
      ]
    },
    {
      "cell_type": "code",
      "source": [
        "l=[1,2,3]\n",
        "\n",
        "l[2]"
      ],
      "metadata": {
        "colab": {
          "base_uri": "https://localhost:8080/"
        },
        "id": "PnCVl--05wKF",
        "outputId": "4cdf1120-b817-49fb-a5f7-157a1bd2e80c"
      },
      "execution_count": 22,
      "outputs": [
        {
          "output_type": "execute_result",
          "data": {
            "text/plain": [
              "3"
            ]
          },
          "metadata": {},
          "execution_count": 22
        }
      ]
    },
    {
      "cell_type": "markdown",
      "source": [
        "#Homework\n",
        "\n",
        "Fix this.\n"
      ],
      "metadata": {
        "id": "em1e6uVF9oiR"
      }
    },
    {
      "cell_type": "code",
      "source": [
        "    # fill board with random values of x or o\n",
        "    for column in range(3):\n",
        "        for row in range(3):\n",
        "            t[row][column] = random.randint(0,1) == 0"
      ],
      "metadata": {
        "id": "upQ9OuZe3QBc"
      },
      "execution_count": 23,
      "outputs": []
    },
    {
      "cell_type": "code",
      "source": [
        "import random\n",
        "\n",
        "# Initialize a 3x3 board\n",
        "t = [['' for _ in range(3)] for _ in range(3)]\n",
        "\n",
        "# Fill the board with random 'x' or 'o'\n",
        "for column in range(3):\n",
        "    for row in range(3):\n",
        "        t[row][column] = 'x' if random.randint(0, 1) == 0 else 'o'\n",
        "\n",
        "# Print the board to check the result\n",
        "for row in t:\n",
        "    print(row)\n"
      ],
      "metadata": {
        "id": "ULaNCHdkL-T1",
        "outputId": "283c0bd9-235c-4401-a8dc-89fe5f502594",
        "colab": {
          "base_uri": "https://localhost:8080/"
        }
      },
      "execution_count": 28,
      "outputs": [
        {
          "output_type": "stream",
          "name": "stdout",
          "text": [
            "['o', 'o', 'x']\n",
            "['o', 'o', 'o']\n",
            "['x', 'x', 'x']\n"
          ]
        }
      ]
    },
    {
      "cell_type": "markdown",
      "source": [],
      "metadata": {
        "id": "jaktbGJ7-NUz"
      }
    },
    {
      "cell_type": "code",
      "source": [],
      "metadata": {
        "id": "05hK6TBL9iM1"
      },
      "execution_count": 23,
      "outputs": []
    },
    {
      "cell_type": "markdown",
      "source": [
        "# Game\n",
        "\n",
        "GO until you have a winner"
      ],
      "metadata": {
        "id": "KTkU7jvA-Pjx"
      }
    },
    {
      "cell_type": "code",
      "source": [
        "\n",
        "\n",
        "\n",
        "isWinner = False # start game, no one is winner\n",
        "\n",
        "while not isWinner:\n",
        "\n",
        "    print(\"user picked\")\n",
        "    if random.randint(0,1) == 1:   # put an x or an o\n",
        "      isWinner = True\n",
        "\n",
        "\n",
        "print(\"done, game over\")\n",
        "\n"
      ],
      "metadata": {
        "colab": {
          "base_uri": "https://localhost:8080/"
        },
        "id": "SsbW7cO09sF0",
        "outputId": "2212625d-e523-47ff-d160-fe93e32071ed"
      },
      "execution_count": 24,
      "outputs": [
        {
          "output_type": "stream",
          "name": "stdout",
          "text": [
            "user picked\n",
            "done, game over\n"
          ]
        }
      ]
    },
    {
      "cell_type": "code",
      "source": [
        "while not isWinner:\n",
        "\n",
        "    print(\"user picked\")\n",
        "    if random.randint(0,1) == some function that takes 0 or 1 and changes it to o or x:   # put an x or an o\n",
        "      isWinner = True\n",
        "\n",
        "\n",
        "print(\"done, game over\")\n",
        "\n",
        "\n",
        "\n"
      ],
      "metadata": {
        "id": "Qz9VC9f4-T5i",
        "outputId": "e202263b-1d17-4538-8646-17c1ae7f21ff",
        "colab": {
          "base_uri": "https://localhost:8080/",
          "height": 108
        }
      },
      "execution_count": 25,
      "outputs": [
        {
          "output_type": "error",
          "ename": "SyntaxError",
          "evalue": "invalid syntax (<ipython-input-25-ec96b0895080>, line 4)",
          "traceback": [
            "\u001b[0;36m  File \u001b[0;32m\"<ipython-input-25-ec96b0895080>\"\u001b[0;36m, line \u001b[0;32m4\u001b[0m\n\u001b[0;31m    if random.randint(0,1) == some function that takes 0 or 1 and changes it to o or x:   # put an x or an o\u001b[0m\n\u001b[0m                                   ^\u001b[0m\n\u001b[0;31mSyntaxError\u001b[0m\u001b[0;31m:\u001b[0m invalid syntax\n"
          ]
        }
      ]
    },
    {
      "cell_type": "code",
      "source": [
        "cell=\"\"\n",
        "\n",
        "if random.randint(0,1) == 0:\n",
        "  cell = \"o\"\n",
        "else:\n",
        "  cell = \"x\"\n",
        "\n",
        "cell\n"
      ],
      "metadata": {
        "id": "7BzsuVrT2MEe"
      },
      "execution_count": null,
      "outputs": []
    },
    {
      "cell_type": "code",
      "source": [
        "n"
      ],
      "metadata": {
        "id": "OHUUVQ7z1xi5"
      },
      "execution_count": null,
      "outputs": []
    },
    {
      "cell_type": "code",
      "source": [
        "n[0]"
      ],
      "metadata": {
        "id": "34jprgkb1E6C"
      },
      "execution_count": null,
      "outputs": []
    },
    {
      "cell_type": "code",
      "source": [
        "for row in"
      ],
      "metadata": {
        "id": "NIylfYOi0M-k"
      },
      "execution_count": null,
      "outputs": []
    },
    {
      "cell_type": "code",
      "source": [
        "for a in t:\n",
        "  print(a)\n"
      ],
      "metadata": {
        "id": "13u1WWAexhDP"
      },
      "execution_count": null,
      "outputs": []
    },
    {
      "cell_type": "code",
      "source": [
        "t[0][0]"
      ],
      "metadata": {
        "id": "4Huk_3QpyEbY"
      },
      "execution_count": null,
      "outputs": []
    },
    {
      "cell_type": "code",
      "source": [
        "t[0][0] = 'x'\n",
        "\n",
        "t"
      ],
      "metadata": {
        "id": "cSllDmWByLmg"
      },
      "execution_count": null,
      "outputs": []
    },
    {
      "cell_type": "markdown",
      "source": [
        "# **Fourth part**"
      ],
      "metadata": {
        "id": "T5uIv98dZVz4"
      }
    }
  ]
}