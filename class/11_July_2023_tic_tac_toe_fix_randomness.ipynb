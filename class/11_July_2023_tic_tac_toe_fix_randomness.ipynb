{
  "nbformat": 4,
  "nbformat_minor": 0,
  "metadata": {
    "colab": {
      "provenance": [],
      "include_colab_link": true
    },
    "kernelspec": {
      "name": "python3",
      "display_name": "Python 3"
    },
    "language_info": {
      "name": "python"
    }
  },
  "cells": [
    {
      "cell_type": "markdown",
      "metadata": {
        "id": "view-in-github",
        "colab_type": "text"
      },
      "source": [
        "<a href=\"https://colab.research.google.com/github/werowe/HypatiaAcademy/blob/master/class/11_July_2023_tic_tac_toe_fix_randomness.ipynb\" target=\"_parent\"><img src=\"https://colab.research.google.com/assets/colab-badge.svg\" alt=\"Open In Colab\"/></a>"
      ]
    },
    {
      "cell_type": "markdown",
      "source": [
        "To see if the tic tac toe board is a winner we need to see if there any straight with 3 symbols all the same.  we know there are 7 lines.  3 rows.  3 columns, 1 diagonal\n",
        "4:42\n",
        "for each of these 7 lines we have a winner if all three values are same\n",
        "4:42\n",
        "for example t[0][1]==t[1][1]==t[2][2]\n",
        "\n",
        "\n",
        "\n",
        "\n",
        "\n"
      ],
      "metadata": {
        "id": "B2FL1kIuz1js"
      }
    },
    {
      "cell_type": "code",
      "source": [
        "\n",
        "import numpy as np\n",
        "\n",
        "import random\n",
        "\n",
        "def fillBoard():\n",
        "\n",
        "  t =np.array([[None,None,None],\n",
        "  [None,None,None],\n",
        "  [None,None,None]])\n",
        "\n",
        "  #first='x'\n",
        "  for column in range(3):\n",
        "    for row in range(3):\n",
        "      number=random.randint(0,1)\n",
        "      if number == 0:\n",
        "        square = \"x\"\n",
        "      else:\n",
        "        square = \"o\"\n",
        "\n",
        "      t[row][column]=square\n",
        "\n",
        "\n",
        "\n",
        "\n",
        "  return t\n",
        "\n",
        "\n"
      ],
      "metadata": {
        "id": "mEpSMnqP0RT7"
      },
      "execution_count": 43,
      "outputs": []
    },
    {
      "cell_type": "code",
      "source": [
        "def isWinner(t):\n",
        "\n",
        "\n",
        "\n",
        "  if t[0,0] == t[0,1] == t[0,2]:\n",
        "    return t[0,1] , \"row\", True\n",
        "\n",
        "\n",
        "  elif t[1,0] == t[1,1] == t[1,2]:\n",
        "    return t[1,0] , \"row\", True\n",
        "\n",
        "\n",
        "  elif t[2,0] == t[2,1] == t[2,2]:\n",
        "   return t[2,0] , \"row\", True\n",
        "\n",
        "\n",
        "  #first column\n",
        "  elif t[0,0] == t[1,0] == t[2,0]:\n",
        "    return t[0,0] , \"columns\", True\n",
        "\n",
        "  elif t[0,1] == t[1,1] == t[2,1]:\n",
        "    return t[0,1] , \"column\", True\n",
        "\n",
        "  elif t[0,2] == t[1,2] == t[2,2]:\n",
        "    return t[0,2] , \"column\", True\n",
        "\n",
        "#diagonal\n",
        "\n",
        "  elif t[0,0] == t[1,1] == t[2,2]:\n",
        "    return t[0,0] , \"diagonal\", True\n",
        "\n",
        "\n",
        "  elif t[2,0] == t[1,1] == t[0,2]:\n",
        "    return t[2,0] , \"diagonal\", True\n",
        "\n",
        "  else:\n",
        "    return False"
      ],
      "metadata": {
        "id": "KVVyE2TG-i3v"
      },
      "execution_count": 44,
      "outputs": []
    },
    {
      "cell_type": "code",
      "source": [
        "\n",
        "board=fillBoard()\n",
        "winner=isWinner(board)\n",
        "print(board, \"\\n\")\n",
        "\n",
        "if winner[2]==True:\n",
        "  print(winner, \"Winner\")\n",
        "\n",
        "\n"
      ],
      "metadata": {
        "colab": {
          "base_uri": "https://localhost:8080/"
        },
        "id": "pbDWOxT1_XRK",
        "outputId": "bccd3e56-3c59-4b63-cb8f-344afcc24908"
      },
      "execution_count": 54,
      "outputs": [
        {
          "output_type": "stream",
          "name": "stdout",
          "text": [
            "[['x' 'x' 'x']\n",
            " ['o' 'o' 'o']\n",
            " ['x' 'x' 'x']] \n",
            "\n",
            "('x', 'row', True) Winner\n"
          ]
        }
      ]
    },
    {
      "cell_type": "code",
      "source": [
        "\n",
        "\n"
      ],
      "metadata": {
        "id": "Uawj69StCBLX"
      },
      "execution_count": 55,
      "outputs": []
    },
    {
      "cell_type": "code",
      "source": [
        "t =np.array([[None,None,None],\n",
        "  [None,None,None],\n",
        "  [None,None,None]])\n",
        "\n",
        "tamara='x'\n",
        "walker='o'\n",
        "\n",
        "#first tamara goes.  so pick random row-column location\n",
        "\n",
        "#first tamara\n",
        "\n",
        "\n",
        "\n",
        "square=[random.randint(0,2),random.randint(0,2)]\n",
        "\n",
        "t[square[0],square[1]]=tamara\n",
        "\n",
        "\n",
        "\n",
        "#see if no one already use it\n",
        "\n",
        "#if tamara then put x.\n",
        "#if walker then put o\n",
        "\n",
        "t\n",
        "\n"
      ],
      "metadata": {
        "colab": {
          "base_uri": "https://localhost:8080/"
        },
        "id": "sICTC7NtD4KR",
        "outputId": "d7322e98-1ad6-4887-e818-994215c4142b"
      },
      "execution_count": 65,
      "outputs": [
        {
          "output_type": "execute_result",
          "data": {
            "text/plain": [
              "array([[None, 'x', None],\n",
              "       [None, None, None],\n",
              "       [None, None, None]], dtype=object)"
            ]
          },
          "metadata": {},
          "execution_count": 65
        }
      ]
    },
    {
      "cell_type": "code",
      "source": [
        "# here is how to go tamara-walker-tamara-walker\n",
        "\n",
        "t =np.array([[None,None,None],\n",
        "  [None,None,None],\n",
        "  [None,None,None]])\n",
        "\n",
        "tamara='x'\n",
        "walker='o'\n",
        "\n",
        "start=0\n",
        "\n",
        "for i in range(10):   # wrong, it will make more than 9 times to fill the whole board\n",
        "  if start==0:\n",
        "    player=tamara\n",
        "    start=1\n",
        "  else:\n",
        "    start=0\n",
        "    player=walker\n",
        "\n",
        "\n",
        "\n",
        "\n",
        "  square=[random.randint(0,2),random.randint(0,2)]\n",
        "\n",
        "  t[square[0],square[1]]=player\n",
        "\n",
        "\n",
        "print(t)\n",
        "\n",
        "\n",
        "# so the loop needs to be run until the board is filled\n",
        "\n",
        "while(board does not have an empty space):\n",
        "   #then fill the board\n"
      ],
      "metadata": {
        "colab": {
          "base_uri": "https://localhost:8080/"
        },
        "id": "pqppgRb7EBFH",
        "outputId": "84cb9748-9e64-4ce4-a67a-08de47916be7"
      },
      "execution_count": 69,
      "outputs": [
        {
          "output_type": "stream",
          "name": "stdout",
          "text": [
            "[['x' None None]\n",
            " ['x' None 'x']\n",
            " [None 'o' None]]\n"
          ]
        }
      ]
    },
    {
      "cell_type": "code",
      "source": [
        "np.any(t)"
      ],
      "metadata": {
        "colab": {
          "base_uri": "https://localhost:8080/",
          "height": 37
        },
        "id": "iG93aUOWDK6O",
        "outputId": "46cc4ae5-cd71-4808-f264-8dc877af9c64"
      },
      "execution_count": 70,
      "outputs": [
        {
          "output_type": "execute_result",
          "data": {
            "text/plain": [
              "'x'"
            ],
            "application/vnd.google.colaboratory.intrinsic+json": {
              "type": "string"
            }
          },
          "metadata": {},
          "execution_count": 70
        }
      ]
    },
    {
      "cell_type": "code",
      "source": [
        "if t[0,0] == t[0,1] == t[0,2]:\n",
        "  print(\"win\")\n",
        "elif t[1,0] == t[1,1] == t[1,2]:\n",
        "  print(\"win\")\n",
        "elif t[2,0] == t[2,1] == t[2,2]:\n",
        "  print(\"win\")\n",
        "elif t[0,0] == t[1,0] == t[2,0]:\n",
        "  print(\"win\")\n",
        "elif t[0,1] == t[1,1] == t[2,1]:\n",
        "  print(\"win\")\n",
        "elif t[0,2] == t[1,2] == t[2,2]:\n",
        "  print(\"win\")\n",
        "elif t[0,0] == t[1,1] == t[2,2]:\n",
        "  print(\"win\")\n",
        "elif t[2,0] == t[1,1] == t[0,2]:\n",
        "  print(\"win\")\n",
        "else:\n",
        "  print(\"lose\")"
      ],
      "metadata": {
        "id": "cbj3WBqH-zR0",
        "colab": {
          "base_uri": "https://localhost:8080/",
          "height": 240
        },
        "outputId": "898b59a8-6855-4002-9a39-7b1a68490881"
      },
      "execution_count": 50,
      "outputs": [
        {
          "output_type": "error",
          "ename": "TypeError",
          "evalue": "ignored",
          "traceback": [
            "\u001b[0;31m---------------------------------------------------------------------------\u001b[0m",
            "\u001b[0;31mTypeError\u001b[0m                                 Traceback (most recent call last)",
            "\u001b[0;32m<ipython-input-50-ea44b0eac942>\u001b[0m in \u001b[0;36m<cell line: 1>\u001b[0;34m()\u001b[0m\n\u001b[0;32m----> 1\u001b[0;31m \u001b[0;32mif\u001b[0m \u001b[0mt\u001b[0m\u001b[0;34m[\u001b[0m\u001b[0;36m0\u001b[0m\u001b[0;34m,\u001b[0m\u001b[0;36m0\u001b[0m\u001b[0;34m]\u001b[0m \u001b[0;34m==\u001b[0m \u001b[0mt\u001b[0m\u001b[0;34m[\u001b[0m\u001b[0;36m0\u001b[0m\u001b[0;34m,\u001b[0m\u001b[0;36m1\u001b[0m\u001b[0;34m]\u001b[0m \u001b[0;34m==\u001b[0m \u001b[0mt\u001b[0m\u001b[0;34m[\u001b[0m\u001b[0;36m0\u001b[0m\u001b[0;34m,\u001b[0m\u001b[0;36m2\u001b[0m\u001b[0;34m]\u001b[0m\u001b[0;34m:\u001b[0m\u001b[0;34m\u001b[0m\u001b[0;34m\u001b[0m\u001b[0m\n\u001b[0m\u001b[1;32m      2\u001b[0m   \u001b[0mprint\u001b[0m\u001b[0;34m(\u001b[0m\u001b[0;34m\"win\"\u001b[0m\u001b[0;34m)\u001b[0m\u001b[0;34m\u001b[0m\u001b[0;34m\u001b[0m\u001b[0m\n\u001b[1;32m      3\u001b[0m \u001b[0;32melif\u001b[0m \u001b[0mt\u001b[0m\u001b[0;34m[\u001b[0m\u001b[0;36m1\u001b[0m\u001b[0;34m,\u001b[0m\u001b[0;36m0\u001b[0m\u001b[0;34m]\u001b[0m \u001b[0;34m==\u001b[0m \u001b[0mt\u001b[0m\u001b[0;34m[\u001b[0m\u001b[0;36m1\u001b[0m\u001b[0;34m,\u001b[0m\u001b[0;36m1\u001b[0m\u001b[0;34m]\u001b[0m \u001b[0;34m==\u001b[0m \u001b[0mt\u001b[0m\u001b[0;34m[\u001b[0m\u001b[0;36m1\u001b[0m\u001b[0;34m,\u001b[0m\u001b[0;36m2\u001b[0m\u001b[0;34m]\u001b[0m\u001b[0;34m:\u001b[0m\u001b[0;34m\u001b[0m\u001b[0;34m\u001b[0m\u001b[0m\n\u001b[1;32m      4\u001b[0m   \u001b[0mprint\u001b[0m\u001b[0;34m(\u001b[0m\u001b[0;34m\"win\"\u001b[0m\u001b[0;34m)\u001b[0m\u001b[0;34m\u001b[0m\u001b[0;34m\u001b[0m\u001b[0m\n\u001b[1;32m      5\u001b[0m \u001b[0;32melif\u001b[0m \u001b[0mt\u001b[0m\u001b[0;34m[\u001b[0m\u001b[0;36m2\u001b[0m\u001b[0;34m,\u001b[0m\u001b[0;36m0\u001b[0m\u001b[0;34m]\u001b[0m \u001b[0;34m==\u001b[0m \u001b[0mt\u001b[0m\u001b[0;34m[\u001b[0m\u001b[0;36m2\u001b[0m\u001b[0;34m,\u001b[0m\u001b[0;36m1\u001b[0m\u001b[0;34m]\u001b[0m \u001b[0;34m==\u001b[0m \u001b[0mt\u001b[0m\u001b[0;34m[\u001b[0m\u001b[0;36m2\u001b[0m\u001b[0;34m,\u001b[0m\u001b[0;36m2\u001b[0m\u001b[0;34m]\u001b[0m\u001b[0;34m:\u001b[0m\u001b[0;34m\u001b[0m\u001b[0;34m\u001b[0m\u001b[0m\n",
            "\u001b[0;31mTypeError\u001b[0m: list indices must be integers or slices, not tuple"
          ]
        }
      ]
    }
  ]
}