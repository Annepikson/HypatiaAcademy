{
  "nbformat": 4,
  "nbformat_minor": 0,
  "metadata": {
    "colab": {
      "provenance": [],
      "authorship_tag": "ABX9TyMRKsCeGTGy9VBwFHs++a+z",
      "include_colab_link": true
    },
    "kernelspec": {
      "name": "python3",
      "display_name": "Python 3"
    },
    "language_info": {
      "name": "python"
    }
  },
  "cells": [
    {
      "cell_type": "markdown",
      "metadata": {
        "id": "view-in-github",
        "colab_type": "text"
      },
      "source": [
        "<a href=\"https://colab.research.google.com/github/werowe/HypatiaAcademy/blob/master/class/9_may_2020_dictionaries.ipynb\" target=\"_parent\"><img src=\"https://colab.research.google.com/assets/colab-badge.svg\" alt=\"Open In Colab\"/></a>"
      ]
    },
    {
      "cell_type": "code",
      "execution_count": 3,
      "metadata": {
        "colab": {
          "base_uri": "https://localhost:8080/"
        },
        "id": "ZrI2qesDfbWB",
        "outputId": "cfcf6999-8bf5-4566-f417-4b9a36d248e4"
      },
      "outputs": [
        {
          "output_type": "stream",
          "name": "stdout",
          "text": [
            "[]\n"
          ]
        },
        {
          "output_type": "execute_result",
          "data": {
            "text/plain": [
              "list"
            ]
          },
          "metadata": {},
          "execution_count": 3
        }
      ],
      "source": [
        "'''\n",
        "initialize means to create something empty\n",
        "\n",
        "'''\n",
        "\n",
        "students= []\n",
        "print(students)\n",
        "type(students)\n",
        "\n"
      ]
    },
    {
      "cell_type": "code",
      "source": [
        "from os.path import samestat\n",
        "'''\n",
        "a dictionary key-values or attributes\n",
        "'''\n",
        "\n",
        "same = {}\n",
        "\n",
        "fred = {\n",
        "      \"name\": \"fred\",\n",
        "    \"age\": 16,\n",
        "    \"isMale\": True,\n",
        "    \"isFemale\": False,\n",
        "    \"city\": \"Nicosia\"\n",
        "\n",
        "}\n",
        "\n",
        "lika = {\n",
        "      \"name\": \"lika\",\n",
        "    \"age\": 16,\n",
        "    \"isMale\": False,\n",
        "    \"isFemale\": True,\n",
        "    \"city\": \"Tbilisi\"\n",
        "\n",
        "}\n",
        "\n",
        "walker = {\n",
        "      \"name\": \"Walker\",\n",
        "    \"age\": 62,\n",
        "    \"isMale\": True,\n",
        "    \"isFemale\": False,\n",
        "    \"city\": \"Peyia\"\n",
        "\n",
        "}\n",
        "\n",
        "print(fred)"
      ],
      "metadata": {
        "colab": {
          "base_uri": "https://localhost:8080/"
        },
        "id": "zlvbZ4hXgj-w",
        "outputId": "5fff2153-731a-48d4-e767-2e535bec04fe"
      },
      "execution_count": 21,
      "outputs": [
        {
          "output_type": "stream",
          "name": "stdout",
          "text": [
            "{'name': 'fred', 'age': 16, 'isMale': True, 'isFemale': False, 'city': 'Nicosia'}\n"
          ]
        }
      ]
    },
    {
      "cell_type": "code",
      "source": [
        "fred.keys()\n"
      ],
      "metadata": {
        "colab": {
          "base_uri": "https://localhost:8080/"
        },
        "id": "d46jBs61g26c",
        "outputId": "f6007cce-9098-4592-8a8d-59f7fd3f38ef"
      },
      "execution_count": 10,
      "outputs": [
        {
          "output_type": "execute_result",
          "data": {
            "text/plain": [
              "dict_keys(['name', 'age', 'isMale', 'isFemale', 'city'])"
            ]
          },
          "metadata": {},
          "execution_count": 10
        }
      ]
    },
    {
      "cell_type": "code",
      "source": [
        "\n",
        "students=[] #. make it empty\n",
        "students.append(fred)\n",
        "students.append(lika)\n",
        "students.append(walker)\n",
        "print(students)"
      ],
      "metadata": {
        "colab": {
          "base_uri": "https://localhost:8080/"
        },
        "id": "QKkyJyT4kIis",
        "outputId": "658e9067-6226-497d-9c5d-b9c43baf8cb9"
      },
      "execution_count": 29,
      "outputs": [
        {
          "output_type": "stream",
          "name": "stdout",
          "text": [
            "[{'name': 'fred', 'age': 16, 'isMale': True, 'isFemale': False, 'city': 'Nicosia'}, {'name': 'lika', 'age': 16, 'isMale': False, 'isFemale': True, 'city': 'Tbilisi'}, {'name': 'Walker', 'age': 62, 'isMale': True, 'isFemale': False, 'city': 'Peyia'}]\n"
          ]
        }
      ]
    },
    {
      "cell_type": "code",
      "source": [
        " \n",
        "len(students)"
      ],
      "metadata": {
        "colab": {
          "base_uri": "https://localhost:8080/"
        },
        "id": "fFtDlI2ahdRw",
        "outputId": "abb54efe-10cb-4ccf-b5dc-7e42fa656571"
      },
      "execution_count": 30,
      "outputs": [
        {
          "output_type": "execute_result",
          "data": {
            "text/plain": [
              "3"
            ]
          },
          "metadata": {},
          "execution_count": 30
        }
      ]
    },
    {
      "cell_type": "code",
      "source": [
        "# loop through list\n",
        "\n",
        "for s in students:\n",
        "  print(s)\n",
        "\n",
        "\n",
        "for silly in students:   # <---create a variable silly for the loop\n",
        "  print(silly)\n",
        "\n",
        "\n",
        "\n",
        "'''\n",
        "for s in range(len(students) -1):\n",
        "  print(s)  \n",
        "\n",
        "'''  "
      ],
      "metadata": {
        "colab": {
          "base_uri": "https://localhost:8080/",
          "height": 162
        },
        "id": "Gh8HeSE6kkH-",
        "outputId": "cccdba4e-19dc-46e6-d78c-b886d1d23d6a"
      },
      "execution_count": 25,
      "outputs": [
        {
          "output_type": "stream",
          "name": "stdout",
          "text": [
            "{'name': 'fred', 'age': 16, 'isMale': True, 'isFemale': False, 'city': 'Nicosia'}\n",
            "{'name': 'lika', 'age': 16, 'isMale': False, 'isFemale': True, 'city': 'Tbilisi'}\n",
            "{'name': 'fred', 'age': 16, 'isMale': True, 'isFemale': False, 'city': 'Nicosia'}\n",
            "{'name': 'lika', 'age': 16, 'isMale': False, 'isFemale': True, 'city': 'Tbilisi'}\n",
            "{'name': 'fred', 'age': 16, 'isMale': True, 'isFemale': False, 'city': 'Nicosia'}\n",
            "{'name': 'lika', 'age': 16, 'isMale': False, 'isFemale': True, 'city': 'Tbilisi'}\n",
            "{'name': 'Walker', 'age': 62, 'isMale': True, 'isFemale': False, 'city': 'Peyia'}\n"
          ]
        },
        {
          "output_type": "execute_result",
          "data": {
            "text/plain": [
              "'\\nfor s in range(len(students) -1):\\n  print(s)  \\n\\n'"
            ],
            "application/vnd.google.colaboratory.intrinsic+json": {
              "type": "string"
            }
          },
          "metadata": {},
          "execution_count": 25
        }
      ]
    },
    {
      "cell_type": "code",
      "source": [
        "for key, value in fred.items():\n",
        "  print(\"the key is \", key, \" the value is \", value)"
      ],
      "metadata": {
        "colab": {
          "base_uri": "https://localhost:8080/"
        },
        "id": "59Gc0yfehxoW",
        "outputId": "ff865aba-d29e-4e36-cef9-ed325e3d925a"
      },
      "execution_count": 15,
      "outputs": [
        {
          "output_type": "stream",
          "name": "stdout",
          "text": [
            "the key is  name  the value is  fred\n",
            "the key is  age  the value is  16\n",
            "the key is  isMale  the value is  True\n",
            "the key is  isFemale  the value is  False\n",
            "the key is  city  the value is  Nicosia\n"
          ]
        }
      ]
    },
    {
      "cell_type": "code",
      "source": [
        "print(students[0])\n",
        "\n",
        "\n",
        "# this prints all keys, don't hard-code any of them\n",
        "\n",
        "for key, value in students[0].items():  \n",
        "\n",
        "  print(\"the key is \", key, \" the value is \", value)\n",
        "\n",
        "print(students[0].keys())\n",
        "print(students[0]['age'])  # <---hard codes the key age\n",
        "\n",
        "print(students[0])\n",
        "\n",
        "\n"
      ],
      "metadata": {
        "colab": {
          "base_uri": "https://localhost:8080/"
        },
        "id": "HgGJTI00lpmf",
        "outputId": "be3e5551-5310-4312-d059-03bfef625e31"
      },
      "execution_count": 42,
      "outputs": [
        {
          "output_type": "stream",
          "name": "stdout",
          "text": [
            "{'name': 'fred', 'age': 16, 'isMale': True, 'isFemale': False, 'city': 'Nicosia'}\n",
            "the key is  name  the value is  fred\n",
            "the key is  age  the value is  16\n",
            "the key is  isMale  the value is  True\n",
            "the key is  isFemale  the value is  False\n",
            "the key is  city  the value is  Nicosia\n",
            "dict_keys(['name', 'age', 'isMale', 'isFemale', 'city'])\n",
            "16\n",
            "{'name': 'fred', 'age': 16, 'isMale': True, 'isFemale': False, 'city': 'Nicosia'}\n"
          ]
        }
      ]
    },
    {
      "cell_type": "code",
      "source": [
        "'''\n",
        "\n",
        "this is a loop inside a loop\n",
        "\n",
        "the outside loop says prints students\n",
        "\n",
        "each subject is a dictionary object\n",
        "\n",
        "then we say print the keys and values from the dictionary\n",
        "\n",
        "'''\n",
        "\n",
        "for ilias in students:\n",
        "  print(\"-----------here is the student---------------\")\n",
        "  for key, value in ilias.items():  \n",
        "     print(key, value)"
      ],
      "metadata": {
        "colab": {
          "base_uri": "https://localhost:8080/"
        },
        "id": "UIYKf8fliQyi",
        "outputId": "6c13cbc5-09c9-4687-c206-13fb5d7a8a5b"
      },
      "execution_count": 47,
      "outputs": [
        {
          "output_type": "stream",
          "name": "stdout",
          "text": [
            "-----------here is the student---------------\n",
            "name fred\n",
            "age 16\n",
            "isMale True\n",
            "isFemale False\n",
            "city Nicosia\n",
            "-----------here is the student---------------\n",
            "name lika\n",
            "age 16\n",
            "isMale False\n",
            "isFemale True\n",
            "city Tbilisi\n",
            "-----------here is the student---------------\n",
            "name Walker\n",
            "age 62\n",
            "isMale True\n",
            "isFemale False\n",
            "city Peyia\n"
          ]
        }
      ]
    },
    {
      "cell_type": "code",
      "source": [],
      "metadata": {
        "id": "fx8Xi7ecoDeB"
      },
      "execution_count": null,
      "outputs": []
    },
    {
      "cell_type": "markdown",
      "source": [
        "\n",
        "\n",
        "Homework:\n",
        "\n",
        "make a list with 4 things in it\n",
        "\n",
        "each thing can be for example, car\n",
        "\n",
        "\n",
        "print it \n",
        "\n"
      ],
      "metadata": {
        "id": "cNAHwcMXoE1a"
      }
    }
  ]
}