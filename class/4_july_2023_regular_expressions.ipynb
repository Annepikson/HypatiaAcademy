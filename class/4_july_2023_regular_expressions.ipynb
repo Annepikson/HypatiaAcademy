{
  "nbformat": 4,
  "nbformat_minor": 0,
  "metadata": {
    "colab": {
      "provenance": [],
      "authorship_tag": "ABX9TyPnxmOfK8eh9Xw7z7jKLOku",
      "include_colab_link": true
    },
    "kernelspec": {
      "name": "python3",
      "display_name": "Python 3"
    },
    "language_info": {
      "name": "python"
    }
  },
  "cells": [
    {
      "cell_type": "markdown",
      "metadata": {
        "id": "view-in-github",
        "colab_type": "text"
      },
      "source": [
        "<a href=\"https://colab.research.google.com/github/werowe/HypatiaAcademy/blob/master/class/4_july_2023_regular_expressions.ipynb\" target=\"_parent\"><img src=\"https://colab.research.google.com/assets/colab-badge.svg\" alt=\"Open In Colab\"/></a>"
      ]
    },
    {
      "cell_type": "markdown",
      "source": [
        "Regular Expressions do much more than just find text.\n",
        "\n",
        "For example, the regular find() method can only find a specific string of text, like \"abc\".\n",
        "\n",
        "With regular expression you can find:\n",
        "\n",
        "specific text\n",
        "\n",
        "1. Any text repeated any number of times\n",
        "\n",
        "2. uppercase or lowecase letters\n",
        "\n",
        "3. Any number of any digits.  For example, it does not need to be \"123\". It could match \"1\" or \"2\" or \"789\".\n",
        "\n",
        "3. Tabs and line feeds.\n",
        "\n",
        "4. One or more blank spaces.\n",
        "\n",
        "And even:\n",
        "\n",
        "1. Find IP addresses\n",
        "2. Check bank account numbers.\n",
        "3. Verify that phone numbers are valid.\n",
        "\n",
        "\n",
        "Regular expressions are so powerful you could spend weeks trying to learn all of them.  Below we show you the most comming ones.\n",
        "\n",
        "You need two items to help you work with regular expression:\n",
        "\n",
        "1.  A cheat sheet, meaning a list of regular expressions so you can see what are the code letters to use https://www.datacamp.com/cheat-sheet/regular-expresso\n",
        "\n",
        "2.  An on-line tool so you can type the text and the regular expression into a web page.  This is easier to debug than writing it is Python  https://regex101.com/\n",
        "\n",
        "\n",
        "\n"
      ],
      "metadata": {
        "id": "zeYbqBeyuf75"
      }
    },
    {
      "cell_type": "code",
      "execution_count": null,
      "metadata": {
        "colab": {
          "base_uri": "https://localhost:8080/"
        },
        "id": "ZEQeroziXDPH",
        "outputId": "61942bad-cd91-4664-8baa-d6eb57e6b8b3"
      },
      "outputs": [
        {
          "output_type": "stream",
          "name": "stdout",
          "text": [
            "<re.Match object; span=(0, 7), match='Tamara1'>\n"
          ]
        }
      ],
      "source": [
        "import re\n",
        "\n",
        "txt = \"Tamara123\"\n",
        "\n",
        "# the star * (called a wildcard) means any character , the dot . means any number of times\n",
        "x = re.search(\"^Tamara*.\", txt)\n",
        "\n",
        "#Match Tamara or Camara\n",
        "\n",
        "# [] is called a character class, it means match any characters inside []\n",
        "\n",
        "x = re.search(\"[TC]amara*.\", txt)\n",
        "\n",
        "print(x)\n"
      ]
    },
    {
      "cell_type": "code",
      "source": [
        "import re\n",
        "\n",
        "\n",
        "# this is a little bit different than an exact match\n",
        "\n",
        "# re.search(), re.match(), re.findall() looks to see if any part of the string matches\n",
        "\n",
        "# when we use this web page https://regex101.com/ it shows what part matches and what part does not\n",
        "\n",
        "# re.search() anywhere\n",
        "\n",
        "# re.match() means start at the beginning\n",
        "\n",
        "\n",
        "txt = \"2012Lika\"\n",
        "x=re.match(\"Lika\",txt)\n",
        "\n",
        "if x:\n",
        "  print(\"It matched\")\n",
        "else:\n",
        "  print(\"did not match\")"
      ],
      "metadata": {
        "id": "eZJjgvZL6n0O",
        "outputId": "00e1611f-8d85-4b82-e025-abebb48af454",
        "colab": {
          "base_uri": "https://localhost:8080/"
        }
      },
      "execution_count": 6,
      "outputs": [
        {
          "output_type": "stream",
          "name": "stdout",
          "text": [
            "did not match\n"
          ]
        }
      ]
    },
    {
      "cell_type": "code",
      "source": [
        "# if we did not have regular expressions we would have to do something like this:\n",
        "\n",
        "\"Ilya\" == \"Ilya\""
      ],
      "metadata": {
        "id": "QmDl1KOr89R0",
        "outputId": "b1624e41-1ed7-4151-b563-10f3be9ef102",
        "colab": {
          "base_uri": "https://localhost:8080/"
        }
      },
      "execution_count": 8,
      "outputs": [
        {
          "output_type": "execute_result",
          "data": {
            "text/plain": [
              "True"
            ]
          },
          "metadata": {},
          "execution_count": 8
        }
      ]
    },
    {
      "cell_type": "code",
      "source": [
        "\"Ilya\"[0:2] == \"Il\""
      ],
      "metadata": {
        "id": "MUzW0iMi9gh5",
        "outputId": "20419ea0-f61d-4b60-9838-90a7f766f9a4",
        "colab": {
          "base_uri": "https://localhost:8080/"
        }
      },
      "execution_count": 10,
      "outputs": [
        {
          "output_type": "execute_result",
          "data": {
            "text/plain": [
              "True"
            ]
          },
          "metadata": {},
          "execution_count": 10
        }
      ]
    },
    {
      "cell_type": "code",
      "source": [
        "# we could not say does Ilya have any numbers in it using ==\n",
        "\n",
        "# so that is why we have regular expressions\n"
      ],
      "metadata": {
        "id": "yDqgbwYK9ndG"
      },
      "execution_count": null,
      "outputs": []
    },
    {
      "cell_type": "code",
      "source": [
        "\n",
        "# here is now to match any number\n",
        "\n",
        "# we can do it two ways\n",
        "\n",
        "# strict equality\n",
        "\n",
        "[\"1234\"=='1234']\n",
        "\n",
        "\n",
        "txt = \"1234\"\n",
        "\n",
        "# the star * means any character , the dot . means any number of times\n",
        "\n",
        "# this shows how to match numbers three ways:\n",
        "\n",
        "# 1. anything from 0 to 9\n",
        "\n",
        "# 2. any of the listed digits\n",
        "\n",
        "# 3.  the \\d means digit and the dot many any number of times\n",
        "\n",
        "\n",
        "# [0-9] is called a character class\n",
        "\n",
        "x = re.search(\"[0-9]\", txt)\n",
        "\n",
        "x = re.match(\"[0134256789]\", txt)\n",
        "\n",
        "x = re.search(\"\\d.\", txt)\n",
        "\n",
        "\n",
        "\n",
        "print(x)"
      ],
      "metadata": {
        "colab": {
          "base_uri": "https://localhost:8080/"
        },
        "id": "IzSYT-e_YXyB",
        "outputId": "20b1bff5-88eb-42fb-d4c7-ae5ff98fc1ff"
      },
      "execution_count": null,
      "outputs": [
        {
          "output_type": "stream",
          "name": "stdout",
          "text": [
            "<re.Match object; span=(0, 2), match='12'>\n"
          ]
        }
      ]
    },
    {
      "cell_type": "markdown",
      "source": [
        "Regular expression cheat sheet https://www.datacamp.com/cheat-sheet/regular-expresso\n"
      ],
      "metadata": {
        "id": "3fVIz3iWZkK2"
      }
    },
    {
      "cell_type": "code",
      "source": [
        "txt=\"Lika Danylo\"\n",
        "\n",
        "# match on a single space\n",
        "\n",
        "# this matched 'Lika' (space). 'Danyko'\n",
        "x = re.match(\"Lika\\sDanylo\", txt)\n",
        "\n",
        "x = re.match(\"\\S.\", txt)\n",
        "\n",
        "print(x)"
      ],
      "metadata": {
        "colab": {
          "base_uri": "https://localhost:8080/"
        },
        "id": "3xdg7CH3ZnCA",
        "outputId": "8ead16b7-1b52-4d5c-e65f-af206da273ed"
      },
      "execution_count": null,
      "outputs": [
        {
          "output_type": "stream",
          "name": "stdout",
          "text": [
            "<re.Match object; span=(0, 2), match='Li'>\n"
          ]
        }
      ]
    },
    {
      "cell_type": "code",
      "source": [
        "'''\n",
        "\n",
        "() is a capture group.  it creates groups, like for example here we have two\n",
        "\n",
        "text = \"abc\"\n",
        "\n",
        "regular expression = \"(a)(bc)\"\n",
        "\n",
        "creates two groups:\n",
        "\n",
        "1.  \"a\"\n",
        "2.   \"bc\"\n",
        "\n",
        "\n",
        "$ means end of the line\n",
        "\n",
        "snowing$\n",
        "\n",
        "\n",
        "^ means the front of the line\n",
        "\n",
        "\n",
        "some others:\n",
        "\n",
        "\\D means not a digit\n",
        "\n",
        "\\S means not a space\n",
        "\n",
        "'''"
      ],
      "metadata": {
        "id": "DTUuYPn1-zV5"
      },
      "execution_count": null,
      "outputs": []
    },
    {
      "cell_type": "markdown",
      "source": [
        "Regular expression tester https://regex101.com/\n",
        "\n"
      ],
      "metadata": {
        "id": "KHetttMGXfNF"
      }
    },
    {
      "cell_type": "code",
      "source": [
        "'''\n",
        "\n",
        "Homework.\n",
        "\n",
        "Write a regular expression to match:\n",
        "\n",
        "1.  Paphos, Cyprus\n",
        "2.  PaphosCyprus\n",
        "3.  Kiev\n",
        "4.  Kiev123\n",
        "\n",
        "\n",
        "Give an example of regular expressions to match:\n",
        "\n",
        "5. end of line $\n",
        "\n",
        "6. begingging of line ^\n",
        "\n",
        "7. not space \\S\n",
        "\n",
        "\n",
        "\n",
        "'''\n",
        "\n",
        "\n",
        "\n",
        "\n",
        "'''"
      ],
      "metadata": {
        "id": "ppcsKE2mb_zL"
      },
      "execution_count": null,
      "outputs": []
    }
  ]
}