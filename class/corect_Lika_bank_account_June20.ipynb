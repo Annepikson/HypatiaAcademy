{
  "cells": [
    {
      "cell_type": "markdown",
      "metadata": {
        "id": "view-in-github",
        "colab_type": "text"
      },
      "source": [
        "<a href=\"https://colab.research.google.com/github/werowe/HypatiaAcademy/blob/master/class/corect_Lika_bank_account_June20.ipynb\" target=\"_parent\"><img src=\"https://colab.research.google.com/assets/colab-badge.svg\" alt=\"Open In Colab\"/></a>"
      ]
    },
    {
      "cell_type": "code",
      "source": [
        "import csv\n",
        "import requests\n",
        "\n",
        "class BankAccount:\n",
        "    def __init__(self):\n",
        "        self.balance = 0\n",
        "\n",
        "    def deposit(self, amount):\n",
        "        self.balance += amount\n",
        "\n",
        "    def withdraw(self, amount):\n",
        "        if self.balance >= amount:\n",
        "            self.balance -= amount\n",
        "        else:\n",
        "            print(\"Insufficient funds.\")\n",
        "\n",
        "    def getBalance(self):\n",
        "        return self.balance\n",
        "\n",
        "def read_transactions():\n",
        "    account = BankAccount()\n",
        "\n",
        "# I removed all these indents. There were inside the function read_transactions\n",
        "\n",
        "url = \"https://raw.githubusercontent.com/werowe/HypatiaAcademy/master/assignment/transactions.csv\"\n",
        "response = requests.get(url)\n",
        "content = response.content.decode('utf-8')\n",
        "\n",
        "account = BankAccount()\n",
        "\n",
        "csv_reader = csv.reader(content.splitlines(), delimiter=',')\n",
        "\n",
        "# don't skip header row.  there are no column headers in this csv document\n",
        "#next(csv_reader)  # Skip the header row\n",
        "for row in csv_reader:\n",
        "\n",
        "    # threre is no transaction type.\n",
        "    # there is only date and amount\n",
        "\n",
        "    #transaction_type = row[0]\n",
        "    date = float(row[1])\n",
        "    amount = float(row[1])\n",
        "\n",
        "\n",
        "   # if transaction_type.lower() == 'deposit':\n",
        "\n",
        "\n",
        "    if amount > 0:\n",
        "        account.deposit(amount)\n",
        "    else:\n",
        "        account.withdraw(-amount)\n",
        "\n",
        "#return account\n",
        "\n",
        "# no.  you don't create an instance of a class like this.  See above where I\n",
        "# added account = BankAccount()\n",
        "#\n",
        "#account = read_transactions()\n",
        "\n",
        "print(\"Current balance:\", account.getBalance())"
      ],
      "metadata": {
        "colab": {
          "base_uri": "https://localhost:8080/"
        },
        "id": "Tvvrl8asF2Ox",
        "outputId": "73b81505-05d4-4dc2-c2f7-f6cb0ca30c39"
      },
      "execution_count": 9,
      "outputs": [
        {
          "output_type": "stream",
          "name": "stdout",
          "text": [
            "Current balance: 25.0\n"
          ]
        }
      ]
    },
    {
      "cell_type": "code",
      "source": [],
      "metadata": {
        "id": "-JBCpiFGcOsM"
      },
      "execution_count": null,
      "outputs": []
    }
  ],
  "metadata": {
    "colab": {
      "name": "Welcome To Colaboratory",
      "provenance": [],
      "include_colab_link": true
    },
    "kernelspec": {
      "display_name": "Python 3",
      "name": "python3"
    }
  },
  "nbformat": 4,
  "nbformat_minor": 0
}