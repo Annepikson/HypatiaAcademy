{
 "cells": [
  {
   "cell_type": "code",
   "execution_count": 65,
   "metadata": {
    "id": "zcciI8yHOQ-P"
   },
   "outputs": [],
   "source": [
    "import math\n",
    "\n",
    "# illogical part is possibleDivisors is used for the loop\n",
    "# but it's changes inside the loop\n",
    "\n",
    "# could call function iteratively\n",
    "\n",
    "def factor(toFactor,possibleDivisors):\n",
    "    quotient=toFactor\n",
    "    for divisor in possibleDivisors:\n",
    "        print(\"divisor=\", divisor, \" quotient=\", quotient )  \n",
    "        print(\"possibleDivisors\", possibleDivisors)\n",
    "        if quotient % divisor == 0:\n",
    "            quotient=int(quotient / divisor)\n",
    "            possibleDivisors=[*range(2,quotient,1)]\n",
    "            yield(str(divisor)+ \"*\")\n",
    "            factor(quotient,possibleDivisors)\n",
    "        print(\"==========================\")\n",
    "         \n"
   ]
  },
  {
   "cell_type": "code",
   "execution_count": 68,
   "metadata": {
    "colab": {
     "base_uri": "https://localhost:8080/"
    },
    "id": "znsdlLs0UjMK",
    "outputId": "3967f1f9-c089-4a91-f372-dc27ce0c40de"
   },
   "outputs": [
    {
     "name": "stdout",
     "output_type": "stream",
     "text": [
      "divisor= 2  quotient= 16\n",
      "possibleDivisors [2, 3, 4, 5, 6, 7, 8, 9, 10, 11, 12, 13, 14, 15]\n",
      "==========================\n",
      "divisor= 3  quotient= 8\n",
      "possibleDivisors [2, 3, 4, 5, 6, 7]\n",
      "==========================\n",
      "divisor= 4  quotient= 8\n",
      "possibleDivisors [2, 3, 4, 5, 6, 7]\n",
      "==========================\n",
      "divisor= 5  quotient= 2\n",
      "possibleDivisors []\n",
      "==========================\n",
      "divisor= 6  quotient= 2\n",
      "possibleDivisors []\n",
      "==========================\n",
      "divisor= 7  quotient= 2\n",
      "possibleDivisors []\n",
      "==========================\n",
      "divisor= 8  quotient= 2\n",
      "possibleDivisors []\n",
      "==========================\n",
      "divisor= 9  quotient= 2\n",
      "possibleDivisors []\n",
      "==========================\n",
      "divisor= 10  quotient= 2\n",
      "possibleDivisors []\n",
      "==========================\n",
      "divisor= 11  quotient= 2\n",
      "possibleDivisors []\n",
      "==========================\n",
      "divisor= 12  quotient= 2\n",
      "possibleDivisors []\n",
      "==========================\n",
      "divisor= 13  quotient= 2\n",
      "possibleDivisors []\n",
      "==========================\n",
      "divisor= 14  quotient= 2\n",
      "possibleDivisors []\n",
      "==========================\n",
      "divisor= 15  quotient= 2\n",
      "possibleDivisors []\n",
      "==========================\n",
      "2*4*\n"
     ]
    }
   ],
   "source": [
    "#toFactor=18\n",
    "\n",
    "toFactor=16\n",
    "\n",
    "possibleDivisors=[*range(2,toFactor,1)]\n",
    "\n",
    "divisors = \"\"\n",
    "for j in factor(toFactor,possibleDivisors):\n",
    "    divisors = divisors +  j   \n",
    "\n",
    "print(divisors)"
   ]
  },
  {
   "cell_type": "code",
   "execution_count": null,
   "metadata": {},
   "outputs": [],
   "source": []
  }
 ],
 "metadata": {
  "colab": {
   "provenance": []
  },
  "kernelspec": {
   "display_name": "Python 3 (ipykernel)",
   "language": "python",
   "name": "python3"
  },
  "language_info": {
   "codemirror_mode": {
    "name": "ipython",
    "version": 3
   },
   "file_extension": ".py",
   "mimetype": "text/x-python",
   "name": "python",
   "nbconvert_exporter": "python",
   "pygments_lexer": "ipython3",
   "version": "3.10.9"
  }
 },
 "nbformat": 4,
 "nbformat_minor": 1
}
