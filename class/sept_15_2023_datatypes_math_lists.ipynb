{
  "nbformat": 4,
  "nbformat_minor": 0,
  "metadata": {
    "colab": {
      "provenance": [],
      "authorship_tag": "ABX9TyOaTNtTrdekSLHJNVCoa0vQ",
      "include_colab_link": true
    },
    "kernelspec": {
      "name": "python3",
      "display_name": "Python 3"
    },
    "language_info": {
      "name": "python"
    }
  },
  "cells": [
    {
      "cell_type": "markdown",
      "metadata": {
        "id": "view-in-github",
        "colab_type": "text"
      },
      "source": [
        "<a href=\"https://colab.research.google.com/github/werowe/HypatiaAcademy/blob/master/class/sept_15_2023_datatypes_math_lists.ipynb\" target=\"_parent\"><img src=\"https://colab.research.google.com/assets/colab-badge.svg\" alt=\"Open In Colab\"/></a>"
      ]
    },
    {
      "cell_type": "code",
      "execution_count": 12,
      "metadata": {
        "colab": {
          "base_uri": "https://localhost:8080/"
        },
        "id": "FhjWVmD5KMSJ",
        "outputId": "3579b22e-7a19-4d9c-b66d-bab88b953163"
      },
      "outputs": [
        {
          "output_type": "stream",
          "name": "stdout",
          "text": [
            "x= -1\n",
            "what kind of data type is x  <class 'int'>\n",
            "========================\n",
            "2.5\n",
            "what kind of data type is x  <class 'float'>\n",
            "5.0\n",
            "the sum of 2.5 and 2.5 = 5.0\n"
          ]
        }
      ],
      "source": [
        "# in some languages\n",
        "# you have to tell the computer what kind of data type a variable is\n",
        "# in python you do not\n",
        "\n",
        "\n",
        "# integer, whole numbers, natural numbers when > 0\n",
        "\n",
        "x=-1\n",
        "print(\"x=\",x)\n",
        "print(\"what kind of data type is x \", type(x))\n",
        "\n",
        "print(\"========================\")\n",
        "\n",
        "# real number.  or decimal number.  in a computer it is called a floating point number\n",
        "\n",
        "\n",
        "# that means create a variable called f and put the value 2.5 in it\n",
        "\n",
        "f=2.5\n",
        "print(f)\n",
        "print(\"what kind of data type is x \", type(f))\n",
        "\n",
        "\n",
        "print(f+2.5)\n",
        "\n",
        "print(\"the sum of 2.5 and 2.5 =\", f + 2.5)"
      ]
    },
    {
      "cell_type": "code",
      "source": [
        "x=2\n",
        "y=3\n",
        "\n",
        "print(y/x)\n",
        "\n"
      ],
      "metadata": {
        "colab": {
          "base_uri": "https://localhost:8080/"
        },
        "id": "A_LL4uNdN6t0",
        "outputId": "6dbae484-dd04-440e-cb83-73ed9fc1d835"
      },
      "execution_count": 13,
      "outputs": [
        {
          "output_type": "stream",
          "name": "stdout",
          "text": [
            "1.5\n"
          ]
        }
      ]
    },
    {
      "cell_type": "code",
      "source": [
        "# boolean because invented George Boole\n",
        "\n",
        "\n",
        "t=True\n",
        "f=False\n",
        "\n",
        "print(t,f)\n",
        "\n",
        "\n"
      ],
      "metadata": {
        "colab": {
          "base_uri": "https://localhost:8080/"
        },
        "id": "UWEKqVBuLWz2",
        "outputId": "b0265464-42a1-4dff-a68a-3d364daf54b5"
      },
      "execution_count": 15,
      "outputs": [
        {
          "output_type": "stream",
          "name": "stdout",
          "text": [
            "True False\n"
          ]
        }
      ]
    },
    {
      "cell_type": "code",
      "source": [],
      "metadata": {
        "id": "pGozt1QvN5Y9"
      },
      "execution_count": null,
      "outputs": []
    },
    {
      "cell_type": "code",
      "source": [
        "# logical statement\n",
        "\n",
        "if t == True:\n",
        "  print(\"t is true\")\n",
        "\n",
        "\n",
        "# a logical statement is:\n",
        "\n",
        "# is something is true\n",
        "\n",
        "# then do something else\n",
        "\n",
        "if t:\n",
        "   print(\"t is true\")\n"
      ],
      "metadata": {
        "colab": {
          "base_uri": "https://localhost:8080/"
        },
        "id": "ZoWVqVYGLmAb",
        "outputId": "4f691fed-75ca-417a-a6b0-9dc20e7419df"
      },
      "execution_count": 16,
      "outputs": [
        {
          "output_type": "stream",
          "name": "stdout",
          "text": [
            "t is true\n"
          ]
        }
      ]
    },
    {
      "cell_type": "code",
      "source": [
        "# this means put a 2 in x\n",
        "\n",
        "x=2\n",
        "\n",
        "\n",
        "#. ==. double equal signs tests whether something is true\n",
        "\n",
        "x==2\n",
        "\n",
        "\n"
      ],
      "metadata": {
        "colab": {
          "base_uri": "https://localhost:8080/"
        },
        "id": "TWrFUbekOmbq",
        "outputId": "0fadfc38-996a-46bf-e0b6-c275d56cb3d4"
      },
      "execution_count": 18,
      "outputs": [
        {
          "output_type": "execute_result",
          "data": {
            "text/plain": [
              "True"
            ]
          },
          "metadata": {},
          "execution_count": 18
        }
      ]
    },
    {
      "cell_type": "code",
      "source": [
        "# this asks the question is 2 equal to 3.  of course it's not\n",
        "\n",
        "2==3"
      ],
      "metadata": {
        "colab": {
          "base_uri": "https://localhost:8080/"
        },
        "id": "iUvYXrLrPHn1",
        "outputId": "08dccba6-4e5e-426c-d49a-efb48ce6b161"
      },
      "execution_count": 20,
      "outputs": [
        {
          "output_type": "execute_result",
          "data": {
            "text/plain": [
              "False"
            ]
          },
          "metadata": {},
          "execution_count": 20
        }
      ]
    },
    {
      "cell_type": "code",
      "source": [
        "\n",
        "\n",
        "print(3/2)\n",
        "\n",
        "print(type(3/2))\n",
        "\n",
        "\n",
        "# not possible to put actual real numbers in the computer.  why?  because the go on for ever\n",
        "# so we approximate them\n",
        "\n",
        "#. 3.3333333333333333333333333333333333333333333333333333333333333333333333333333333\n",
        "\n",
        "\n"
      ],
      "metadata": {
        "colab": {
          "base_uri": "https://localhost:8080/"
        },
        "id": "JEOrHACnL-8Y",
        "outputId": "4ccd2ee4-44ac-4b12-ab2c-bebf2521ae0c"
      },
      "execution_count": 7,
      "outputs": [
        {
          "output_type": "stream",
          "name": "stdout",
          "text": [
            "1.5\n",
            "<class 'float'>\n"
          ]
        }
      ]
    },
    {
      "cell_type": "code",
      "source": [
        "import math\n",
        "\n",
        "2*3\n",
        "math.prod([2,3])\n",
        "\n",
        "# the computer has functions.  those are designed to do something useful\n",
        "\n",
        "# when we say \"import math\" that means we want to use the Python math package\n",
        "\n",
        "# a function takes an argument and returns a value\n",
        "\n",
        "# f(x)=2*x\n",
        "\n",
        "#. that means take x and multiply by 2\n"
      ],
      "metadata": {
        "colab": {
          "base_uri": "https://localhost:8080/"
        },
        "id": "F0rIaNWONIKC",
        "outputId": "5bbd21ae-fad7-403a-ad37-98a7b2a249c1"
      },
      "execution_count": 21,
      "outputs": [
        {
          "output_type": "execute_result",
          "data": {
            "text/plain": [
              "6"
            ]
          },
          "metadata": {},
          "execution_count": 21
        }
      ]
    },
    {
      "cell_type": "code",
      "source": [
        "# how do you do division\n",
        "\n",
        "3 / 2\n",
        "\n"
      ],
      "metadata": {
        "colab": {
          "base_uri": "https://localhost:8080/"
        },
        "id": "HlNSyQ6HQcIT",
        "outputId": "f22df64c-39e7-4154-e844-bb1529a2ebc0"
      },
      "execution_count": 23,
      "outputs": [
        {
          "output_type": "execute_result",
          "data": {
            "text/plain": [
              "1.5"
            ]
          },
          "metadata": {},
          "execution_count": 23
        }
      ]
    },
    {
      "cell_type": "code",
      "source": [
        "# this is an exponent.  it says calculate 2 squared\n",
        "\n",
        "\n",
        "2**2\n",
        "\n",
        "2*2\n",
        "\n"
      ],
      "metadata": {
        "colab": {
          "base_uri": "https://localhost:8080/"
        },
        "id": "flzYzBPlQwlV",
        "outputId": "fcfbc1e5-7076-4197-9780-f77809dc01b8"
      },
      "execution_count": 25,
      "outputs": [
        {
          "output_type": "execute_result",
          "data": {
            "text/plain": [
              "4"
            ]
          },
          "metadata": {},
          "execution_count": 25
        }
      ]
    },
    {
      "cell_type": "code",
      "source": [
        "# this is 2 cubed\n",
        "\n",
        "print(2**3)\n",
        "\n",
        "print(2*2*2)\n",
        "\n",
        "# are these things equal?\n",
        "\n",
        "\n",
        "# is 8 equal to 8\n",
        "\n",
        "(2**3)==(2*2*2)\n",
        "\n",
        "# is 8 equal to 8\n",
        "8==8\n",
        "\n"
      ],
      "metadata": {
        "colab": {
          "base_uri": "https://localhost:8080/"
        },
        "id": "x9x4f0LGQ-i6",
        "outputId": "303379df-5000-45b0-d359-7ccdd09d0a9b"
      },
      "execution_count": 28,
      "outputs": [
        {
          "output_type": "stream",
          "name": "stdout",
          "text": [
            "8\n",
            "8\n"
          ]
        },
        {
          "output_type": "execute_result",
          "data": {
            "text/plain": [
              "False"
            ]
          },
          "metadata": {},
          "execution_count": 28
        }
      ]
    },
    {
      "cell_type": "code",
      "source": [
        "type(8==8)\n",
        "\n",
        "\n",
        "f=False\n",
        "t=True\n"
      ],
      "metadata": {
        "colab": {
          "base_uri": "https://localhost:8080/"
        },
        "id": "UkoPbiMTRppj",
        "outputId": "edbd28b4-b0f8-4744-cb02-d4978d9b7489"
      },
      "execution_count": 29,
      "outputs": [
        {
          "output_type": "execute_result",
          "data": {
            "text/plain": [
              "bool"
            ]
          },
          "metadata": {},
          "execution_count": 29
        }
      ]
    },
    {
      "cell_type": "code",
      "source": [
        "print(3+2)\n",
        "\n",
        "print(4-3)\n",
        "\n",
        "# if you do not tell Python to print something.  It will print only the results of the last statement\n",
        "\n"
      ],
      "metadata": {
        "colab": {
          "base_uri": "https://localhost:8080/"
        },
        "id": "lKBImAVoR10c",
        "outputId": "d5e85cf2-fa73-4e54-8218-32231548f604"
      },
      "execution_count": 31,
      "outputs": [
        {
          "output_type": "stream",
          "name": "stdout",
          "text": [
            "5\n",
            "1\n"
          ]
        }
      ]
    },
    {
      "cell_type": "code",
      "source": [
        "'''\n",
        "\n",
        "homework\n",
        "\n",
        "do this in Python\n",
        "\n",
        "create variables x, y , and z\n",
        "\n",
        "make x equal 3\n",
        "\n",
        "make y equal 3\n",
        "\n",
        "make z equal 1\n",
        "\n",
        "print x times y times z\n",
        "\n",
        "print x plus y plus z\n",
        "\n",
        "'''\n",
        "\n",
        "\n",
        "\n",
        "\n"
      ],
      "metadata": {
        "colab": {
          "base_uri": "https://localhost:8080/"
        },
        "id": "uhkob_dlTFcb",
        "outputId": "fbbd2d27-18bd-40e6-d699-e2693102f2e3"
      },
      "execution_count": 32,
      "outputs": [
        {
          "output_type": "execute_result",
          "data": {
            "text/plain": [
              "6"
            ]
          },
          "metadata": {},
          "execution_count": 32
        }
      ]
    }
  ]
}