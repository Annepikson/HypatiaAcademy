{
  "nbformat": 4,
  "nbformat_minor": 0,
  "metadata": {
    "colab": {
      "provenance": [],
      "include_colab_link": true
    },
    "kernelspec": {
      "name": "python3",
      "display_name": "Python 3"
    },
    "language_info": {
      "name": "python"
    }
  },
  "cells": [
    {
      "cell_type": "markdown",
      "metadata": {
        "id": "view-in-github",
        "colab_type": "text"
      },
      "source": [
        "<a href=\"https://colab.research.google.com/github/werowe/HypatiaAcademy/blob/master/class/9_june_2023_homework_algorithm_binary_to_decimal.ipynb\" target=\"_parent\"><img src=\"https://colab.research.google.com/assets/colab-badge.svg\" alt=\"Open In Colab\"/></a>"
      ]
    },
    {
      "cell_type": "code",
      "execution_count": null,
      "metadata": {
        "id": "tFQ3qWQeuo1T",
        "colab": {
          "base_uri": "https://localhost:8080/"
        },
        "outputId": "ff7afcaa-1bac-4a45-80cf-55e9b7d74491"
      },
      "outputs": [
        {
          "output_type": "execute_result",
          "data": {
            "text/plain": [
              "255"
            ]
          },
          "metadata": {},
          "execution_count": 17
        }
      ],
      "source": [
        "\n",
        "\n",
        "\n",
        "\n",
        "binary[0]*2**7 + binary[1]*2**6 +binary[2]*2**5 + binary[3]*2**4 + binary[4]*2**3 + binary[5]*2**2 + binary[6]*2**1 + binary[7]*2**0\n",
        " "
      ]
    },
    {
      "cell_type": "code",
      "source": [
        "binary=[1,1,1,1,1,1,1,1]\n",
        "\n",
        "exponent=len(binary)-1 # bad idea, it's hard-coded\n",
        "\n",
        "# here we need an accumulator, initial value, running sum\n",
        "decimal=0\n",
        "\n",
        "\n",
        "#  digit*2**exponent)\n",
        "\n",
        "for bit in binary:\n",
        "  print(\"bit=\", digit, \"exponent= \", exponent, \" the decimal value is=\",  digit * 2 ** exponent)\n",
        "  decimal = decimal +  digit * 2 ** exponent\n",
        "  exponent = exponent -1 \n",
        "\n",
        "\n",
        "print(\"\\n\\nthe sum is \", decimal)"
      ],
      "metadata": {
        "colab": {
          "base_uri": "https://localhost:8080/"
        },
        "id": "10E559IjRr0W",
        "outputId": "20c96ad6-4a12-44b9-acd4-bc34ad7be45e"
      },
      "execution_count": null,
      "outputs": [
        {
          "output_type": "stream",
          "name": "stdout",
          "text": [
            "bit= 1 exponent=  7  the decimal value is= 128\n",
            "bit= 1 exponent=  6  the decimal value is= 64\n",
            "bit= 1 exponent=  5  the decimal value is= 32\n",
            "bit= 1 exponent=  4  the decimal value is= 16\n",
            "bit= 1 exponent=  3  the decimal value is= 8\n",
            "bit= 1 exponent=  2  the decimal value is= 4\n",
            "bit= 1 exponent=  1  the decimal value is= 2\n",
            "bit= 1 exponent=  0  the decimal value is= 1\n",
            "\n",
            "\n",
            "the sum is  255\n"
          ]
        }
      ]
    },
    {
      "cell_type": "code",
      "source": [
        "\n",
        "# when we make a loop we need a way to keep a running sum\n",
        "# keep the total, do the addition\n",
        "\n",
        "\n",
        "start=0\n",
        "\n",
        "for i in range(4):\n",
        "  print(i)\n",
        "  start = start + 1\n",
        "\n",
        "print(start)\n",
        "\n"
      ],
      "metadata": {
        "colab": {
          "base_uri": "https://localhost:8080/"
        },
        "id": "s9pl6EqFW62J",
        "outputId": "d60d5f33-ce1f-486b-eeda-332de8804257"
      },
      "execution_count": null,
      "outputs": [
        {
          "output_type": "stream",
          "name": "stdout",
          "text": [
            "0\n",
            "1\n",
            "2\n",
            "3\n",
            "4\n"
          ]
        }
      ]
    },
    {
      "cell_type": "code",
      "source": [
        "'''\n",
        "binary is base 2.   digits 0, 1\n",
        "\n",
        "decimal is base 10.  digits 0, 1, 2, 3, 4, 5, 6, 7, 8, 9\n",
        "\n",
        "hexadecimal is base 16.  \n",
        "\n",
        "0, 1, 2, 3, 4, 5, 6 , 7, 8, 9, A,   B,  C,  D,  E, F\n",
        "0, 1, 2, 3, 4, 5, 6,  7, 8, 9, 10, 11, 12, 13, 14, 15 \n",
        "\n",
        "\n",
        "convert this number FAB to decimal\n",
        "\n",
        "what is B = B * 16^0.  11\n",
        "\n",
        "what is F = 15 * 16^0\n",
        "\n",
        "what is FF = 15*16^1 + 15*16^0\n",
        "\n",
        "what is EFF?  \n",
        "\n",
        "what is E00?   14*16**2\n",
        "\n",
        "what D? what is 00000000D?  \n",
        "\n",
        "\n",
        "\n",
        "homework.  convert these hex numbers to decimal\n",
        "\n",
        "\n",
        "\n",
        "1. FF\n",
        "2. F0\n",
        "3. FFF\n",
        "\n",
        "'''\n",
        "\n",
        "\n"
      ],
      "metadata": {
        "colab": {
          "base_uri": "https://localhost:8080/"
        },
        "id": "wujYJxjYVl77",
        "outputId": "1a0acadf-214c-47c8-b61f-e2da32201a09"
      },
      "execution_count": null,
      "outputs": [
        {
          "output_type": "execute_result",
          "data": {
            "text/plain": [
              "7"
            ]
          },
          "metadata": {},
          "execution_count": 27
        }
      ]
    },
    {
      "cell_type": "code",
      "source": [
        "https://www.ascii-code.com/\n",
        "\n",
        "cat junk.txt \n",
        "This is Walker.\n",
        "This is Ilya.\n",
        "This is Joaquim.\n",
        "This is Tamara.\n",
        "\n",
        "xxd junk.txt \n",
        "00000000: 5468 6973 2069 7320 5761 6c6b 6572 2e0a  This is Walker..\n",
        "00000010: 5468 6973 2069 7320 496c 7961 2e0a 5468  This is Ilya..Th\n",
        "00000020: 6973 2069 7320 4a6f 6171 7569 6d2e 0a54  is is Joaquim..T\n",
        "00000030: 6869 7320 6973 2054 616d 6172 612e 0a    his is Tamara..\n",
        "\n",
        "https://www.ascii-code.com/"
      ],
      "metadata": {
        "id": "tjRY7sW47TYG"
      },
      "execution_count": null,
      "outputs": []
    }
  ]
}