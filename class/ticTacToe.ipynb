{
  "cells": [
    {
      "cell_type": "markdown",
      "metadata": {
        "id": "view-in-github",
        "colab_type": "text"
      },
      "source": [
        "<a href=\"https://colab.research.google.com/github/werowe/HypatiaAcademy/blob/master/class/ticTacToe.ipynb\" target=\"_parent\"><img src=\"https://colab.research.google.com/assets/colab-badge.svg\" alt=\"Open In Colab\"/></a>"
      ]
    },
    {
      "cell_type": "code",
      "execution_count": 42,
      "metadata": {
        "id": "xH2L1rm6aU0z"
      },
      "outputs": [],
      "source": [
        "\n",
        "\n",
        "ttt=[[\"x\",\"o\",\"o\"],\n",
        "     [\"o\", \"x\",\"o\"],\n",
        "     [\"o\",\"o\",\"x\"]]\n",
        "\n",
        "\n",
        ""
      ]
    },
    {
      "cell_type": "code",
      "execution_count": 3,
      "metadata": {
        "colab": {
          "base_uri": "https://localhost:8080/",
          "height": 37
        },
        "id": "mec4sVfZaU00",
        "outputId": "392bd233-6ae4-4c17-f521-49a8c4815977"
      },
      "outputs": [
        {
          "output_type": "execute_result",
          "data": {
            "text/plain": [
              "'o'"
            ],
            "application/vnd.google.colaboratory.intrinsic+json": {
              "type": "string"
            }
          },
          "metadata": {},
          "execution_count": 3
        }
      ],
      "source": [
        "ttt[0][0]\n",
        "ttt[0][1]"
      ]
    },
    {
      "cell_type": "code",
      "execution_count": 9,
      "metadata": {
        "id": "5HgL7A2KaU00"
      },
      "outputs": [],
      "source": [
        "t=[[\"x\",\"o\",\"o\"],\n",
        "  [\"o\", \"x\",\"o\"],\n",
        "  [\"o\",\"o\",\"x\"]]\n",
        "\n",
        "\n",
        "# finish listing all the winners there are 7 of them\n",
        "win = [[t[0][0], t[0][1], t[0][2]],\n",
        "       t[0][0], t[1][1], t[2][2],\n",
        "       [t[1][0], t[1][1], t[1][2]],\n",
        "       [t[2][0], t[2][1], t[2][2]]]"
      ]
    },
    {
      "cell_type": "code",
      "source": [
        "t[0][0], t[1][1], t[2][2]\n",
        "win"
      ],
      "metadata": {
        "colab": {
          "base_uri": "https://localhost:8080/"
        },
        "id": "1Fg5fXTPbhAK",
        "outputId": "db4905b0-6340-4d61-d629-8ac71c14173e"
      },
      "execution_count": 10,
      "outputs": [
        {
          "output_type": "execute_result",
          "data": {
            "text/plain": [
              "[['x', 'o', 'o'], 'x', 'x', 'x', ['o', 'x', 'o'], ['o', 'o', 'x']]"
            ]
          },
          "metadata": {},
          "execution_count": 10
        }
      ]
    },
    {
      "cell_type": "code",
      "source": [
        "# write a program to using random numbers to generate a tic tac toe board\n",
        "# check the board and see if there is a winner\n",
        "# stop\n",
        "\n",
        "# fill the whole board with xs and os\n",
        "\n",
        "# first pick an x.  put it on the board.  next pick a y and put it on the board\n",
        "# continue until the board is filled\n",
        "\n",
        "# first make an empty 2 dimensional ray\n",
        "\n",
        "t = [[None,None,None],\n",
        "  [None,None,None],\n",
        "  [None,None,None]]\n",
        "\n",
        "first='x'\n",
        "for column in range(3):\n",
        "  for row in range(3):\n",
        "    # here put an if statement\n",
        "    # if if this is an x then next time use an o\n",
        "    t[row][column]='1'\n",
        "\n",
        "print(t)"
      ],
      "metadata": {
        "colab": {
          "base_uri": "https://localhost:8080/"
        },
        "id": "c0hbY_iIcYv1",
        "outputId": "8a805759-3f24-496d-9136-787a2e122bbc"
      },
      "execution_count": 17,
      "outputs": [
        {
          "output_type": "stream",
          "name": "stdout",
          "text": [
            "[['1', '1', '1'], ['1', '1', '1'], ['1', '1', '1']]\n"
          ]
        }
      ]
    },
    {
      "cell_type": "code",
      "source": [
        "import random\n",
        "\n",
        "\n",
        "# move this code up top to for row, column loop\n",
        "\n",
        "number=random.randint(0,1)\n",
        "\n",
        "if number == 0:\n",
        "  square = \"x\"\n",
        "else:\n",
        "  square = \"o\"\n",
        "\n",
        "\n",
        "print(number,square)\n"
      ],
      "metadata": {
        "colab": {
          "base_uri": "https://localhost:8080/"
        },
        "id": "uSy-MbrJd8IX",
        "outputId": "f8aabcca-33e4-4550-afd0-e41f22a48a52"
      },
      "execution_count": 30,
      "outputs": [
        {
          "output_type": "stream",
          "name": "stdout",
          "text": [
            "0 x\n"
          ]
        }
      ]
    },
    {
      "cell_type": "code",
      "source": [
        "# check and see if you have a winner\n",
        "\n",
        "t=[[\"x\",\"o\",\"o\"],\n",
        "  [\"o\", \"x\",\"o\"],\n",
        "  [\"o\",\"o\",\"x\"]]\n",
        "\n",
        "win = [[t[0][0], t[0][1], t[0][2]],\n",
        "       t[0][0], t[1][1], t[2][2],\n",
        "       [t[1][0], t[1][1], t[1][2]],\n",
        "       [t[2][0], t[2][1], t[2][2]]]\n"
      ],
      "metadata": {
        "id": "5XJ8GxPVfxeC"
      },
      "execution_count": 40,
      "outputs": []
    },
    {
      "cell_type": "code",
      "source": [
        "# this part is broken. fix it\n",
        "\n",
        "\n",
        "t[0],t[1],t[2] in win"
      ],
      "metadata": {
        "colab": {
          "base_uri": "https://localhost:8080/"
        },
        "id": "ChRnz42_gW9A",
        "outputId": "677be7de-b052-44ea-d9d3-d8a866f1bafa"
      },
      "execution_count": 41,
      "outputs": [
        {
          "output_type": "execute_result",
          "data": {
            "text/plain": [
              "(['x', 'o', 'o'], ['o', 'x', 'o'], True)"
            ]
          },
          "metadata": {},
          "execution_count": 41
        }
      ]
    },
    {
      "cell_type": "code",
      "source": [
        "# wait next week to do this part\n",
        "\n",
        "\n",
        "# keep looping until we have a winner\n",
        "\n",
        "\n",
        "\n",
        "isFinished=False\n",
        "while not isFinished:\n",
        "  # create board\n",
        "  # see if winner\n",
        "  # if winner set isFinished=False\n",
        "\n",
        "# print the board"
      ],
      "metadata": {
        "id": "yvae6mrOf3pR"
      },
      "execution_count": null,
      "outputs": []
    }
  ],
  "metadata": {
    "kernelspec": {
      "display_name": "Python 3",
      "language": "python",
      "name": "python3"
    },
    "language_info": {
      "codemirror_mode": {
        "name": "ipython",
        "version": 3
      },
      "file_extension": ".py",
      "mimetype": "text/x-python",
      "name": "python",
      "nbconvert_exporter": "python",
      "pygments_lexer": "ipython3",
      "version": "3.4.4"
    },
    "colab": {
      "provenance": [],
      "include_colab_link": true
    }
  },
  "nbformat": 4,
  "nbformat_minor": 0
}