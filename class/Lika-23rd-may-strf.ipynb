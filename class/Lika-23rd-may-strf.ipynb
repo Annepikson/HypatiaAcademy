{
  "cells": [
    {
      "cell_type": "markdown",
      "metadata": {
        "id": "view-in-github",
        "colab_type": "text"
      },
      "source": [
        "<a href=\"https://colab.research.google.com/github/werowe/HypatiaAcademy/blob/master/class/Lika-23rd-may-strf.ipynb\" target=\"_parent\"><img src=\"https://colab.research.google.com/assets/colab-badge.svg\" alt=\"Open In Colab\"/></a>"
      ]
    },
    {
      "cell_type": "code",
      "source": [
        "def greet():\n",
        "   print(\"Hello\")\n",
        "   print(\"How do you do?\")\n",
        "\n",
        "   # if you put space it thinks it is part of the function so it won't\n",
        "\n",
        "\n",
        "greet()\n",
        "  "
      ],
      "metadata": {
        "id": "h-ChQXB7ENDE",
        "outputId": "bf30f80d-73f1-42c6-f191-bd3a728d1b6e",
        "colab": {
          "base_uri": "https://localhost:8080/"
        }
      },
      "execution_count": 3,
      "outputs": [
        {
          "output_type": "stream",
          "name": "stdout",
          "text": [
            "Hello\n",
            "How do you do?\n"
          ]
        }
      ]
    },
    {
      "cell_type": "code",
      "source": [
        "def mid(text, start, length):\n",
        "    return text[start:start+length]\n",
        "\n",
        "print(mid(\"this is Lika\", 6, 10))   "
      ],
      "metadata": {
        "id": "xD0CQWNoF4LF",
        "outputId": "a7c76de4-69ce-4b09-b45b-e826d685a41f",
        "colab": {
          "base_uri": "https://localhost:8080/"
        }
      },
      "execution_count": 5,
      "outputs": [
        {
          "output_type": "stream",
          "name": "stdout",
          "text": [
            "s Lika\n"
          ]
        }
      ]
    },
    {
      "cell_type": "code",
      "source": [
        "text = \"Greetings, World!\"\n",
        "index = text.find(\"World\")\n",
        "print(index)  # Output: 7"
      ],
      "metadata": {
        "id": "N9VlVOM2JEG3",
        "outputId": "b9dbbdd1-df66-49e9-cdbf-8ee9d626dcc0",
        "colab": {
          "base_uri": "https://localhost:8080/"
        }
      },
      "execution_count": 6,
      "outputs": [
        {
          "output_type": "stream",
          "name": "stdout",
          "text": [
            "11\n"
          ]
        }
      ]
    },
    {
      "cell_type": "code",
      "source": [
        "def left(text, n):\n",
        "    return text[:n]\n",
        "\n",
        "print(left(\"This is Like\", 4))    "
      ],
      "metadata": {
        "id": "XtXCsBoLJa3H",
        "outputId": "4c92646e-3377-4932-d1a5-7b8503b09189",
        "colab": {
          "base_uri": "https://localhost:8080/"
        }
      },
      "execution_count": 7,
      "outputs": [
        {
          "output_type": "stream",
          "name": "stdout",
          "text": [
            "This\n"
          ]
        }
      ]
    },
    {
      "cell_type": "code",
      "source": [
        "def mid(text, start, length):\n",
        "    return text[start:start+length]\n",
        "\n",
        "    # return means quit so it won't do anything below return\n",
        "    \n",
        "    like\n",
        "    text = \"Hello, World!\"\n",
        "\n",
        "\n",
        "substring = mid(text, 7, 5)\n",
        "print(substring)  # Output: World"
      ],
      "metadata": {
        "id": "3qz5ZuvKJoG5",
        "outputId": "42a600a8-e6bb-4dd9-b67b-ee7d511739f8",
        "colab": {
          "base_uri": "https://localhost:8080/"
        }
      },
      "execution_count": 8,
      "outputs": [
        {
          "output_type": "stream",
          "name": "stdout",
          "text": [
            "gs, W\n"
          ]
        }
      ]
    },
    {
      "cell_type": "code",
      "source": [
        "text = \"Hello, World!\"\n",
        "substring = mid(text, 7, 5)\n",
        "print(substring)  # Output: World"
      ],
      "metadata": {
        "id": "u5ojWJRNJyyX",
        "outputId": "489fa473-5f97-4189-c82e-0a57578b5683",
        "colab": {
          "base_uri": "https://localhost:8080/"
        }
      },
      "execution_count": null,
      "outputs": [
        {
          "output_type": "stream",
          "name": "stdout",
          "text": [
            "World\n"
          ]
        }
      ]
    },
    {
      "cell_type": "code",
      "source": [
        "text = \"Sup, People!\"\n",
        "substring = left(text, 3)\n",
        "print(substring)  # Output: Sup"
      ],
      "metadata": {
        "id": "hNb2UdO1J463",
        "outputId": "302f66fc-17b1-4076-a41f-d30beec129bd",
        "colab": {
          "base_uri": "https://localhost:8080/"
        }
      },
      "execution_count": null,
      "outputs": [
        {
          "output_type": "stream",
          "name": "stdout",
          "text": [
            "Sup\n"
          ]
        }
      ]
    },
    {
      "cell_type": "code",
      "source": [],
      "metadata": {
        "id": "N6BKy3H8JHZG"
      },
      "execution_count": null,
      "outputs": []
    },
    {
      "cell_type": "code",
      "source": [],
      "metadata": {
        "id": "8AZ1p-M5FJv9"
      },
      "execution_count": null,
      "outputs": []
    }
  ],
  "metadata": {
    "colab": {
      "name": "Welcome To Colaboratory",
      "provenance": [],
      "include_colab_link": true
    },
    "kernelspec": {
      "display_name": "Python 3",
      "name": "python3"
    }
  },
  "nbformat": 4,
  "nbformat_minor": 0
}