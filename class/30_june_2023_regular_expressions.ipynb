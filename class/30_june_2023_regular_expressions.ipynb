{
  "nbformat": 4,
  "nbformat_minor": 0,
  "metadata": {
    "colab": {
      "provenance": [],
      "authorship_tag": "ABX9TyNGyTJvpKvpV3ucuZ3KP5bH",
      "include_colab_link": true
    },
    "kernelspec": {
      "name": "python3",
      "display_name": "Python 3"
    },
    "language_info": {
      "name": "python"
    }
  },
  "cells": [
    {
      "cell_type": "markdown",
      "metadata": {
        "id": "view-in-github",
        "colab_type": "text"
      },
      "source": [
        "<a href=\"https://colab.research.google.com/github/werowe/HypatiaAcademy/blob/master/class/30_june_2023_regular_expressions.ipynb\" target=\"_parent\"><img src=\"https://colab.research.google.com/assets/colab-badge.svg\" alt=\"Open In Colab\"/></a>"
      ]
    },
    {
      "cell_type": "code",
      "execution_count": 4,
      "metadata": {
        "colab": {
          "base_uri": "https://localhost:8080/"
        },
        "id": "ZEQeroziXDPH",
        "outputId": "61942bad-cd91-4664-8baa-d6eb57e6b8b3"
      },
      "outputs": [
        {
          "output_type": "stream",
          "name": "stdout",
          "text": [
            "<re.Match object; span=(0, 7), match='Tamara1'>\n"
          ]
        }
      ],
      "source": [
        "import re\n",
        "\n",
        "txt = \"Tamara123\"\n",
        "\n",
        "# the star * (called a wildcard) means any character , the dot . means any number of times\n",
        "x = re.search(\"^Tamara*.\", txt)\n",
        "\n",
        "#Match Tamara or Camara\n",
        "\n",
        "# [] is called a character class, it means match any characters inside []\n",
        "\n",
        "x = re.search(\"[TC]amara*.\", txt)\n",
        "\n",
        "\n",
        "\n",
        "\n",
        "print(x)\n"
      ]
    },
    {
      "cell_type": "code",
      "source": [
        "# here is now to match any number\n",
        "\n",
        "# we can do it two ways\n",
        "\n",
        "# strict equality\n",
        "\n",
        "[\"1234\"=='1234']\n",
        "\n",
        "\n",
        "txt = \"1234\"\n",
        "\n",
        "# the star * means any character , the dot . means any number of times\n",
        "\n",
        "# this shows how to match numbers three ways:\n",
        "\n",
        "# 1. anything from 0 to 9\n",
        "\n",
        "# 2. any of the listed digits\n",
        "\n",
        "# 3.  the \\d means digit and the dot many any number of times\n",
        "\n",
        "\n",
        "x = re.search(\"[0-9]\", txt)\n",
        "\n",
        "x = re.match(\"[0134256789]\", txt)\n",
        "\n",
        "x = re.search(\"\\d.\", txt)\n",
        "\n",
        "\n",
        "\n",
        "print(x)"
      ],
      "metadata": {
        "colab": {
          "base_uri": "https://localhost:8080/"
        },
        "id": "IzSYT-e_YXyB",
        "outputId": "20b1bff5-88eb-42fb-d4c7-ae5ff98fc1ff"
      },
      "execution_count": 9,
      "outputs": [
        {
          "output_type": "stream",
          "name": "stdout",
          "text": [
            "<re.Match object; span=(0, 2), match='12'>\n"
          ]
        }
      ]
    },
    {
      "cell_type": "markdown",
      "source": [
        "Regular expression cheat sheet https://www.datacamp.com/cheat-sheet/regular-expresso\n"
      ],
      "metadata": {
        "id": "3fVIz3iWZkK2"
      }
    },
    {
      "cell_type": "code",
      "source": [
        "txt=\"Lika Danylo\"\n",
        "\n",
        "# match on a single space\n",
        "\n",
        "# this matched 'Lika' (space). 'Danyko'\n",
        "x = re.match(\"Lika\\sDanylo\", txt)\n",
        "\n",
        "x = re.match(\"\\S.\", txt)\n",
        "\n",
        "print(x)"
      ],
      "metadata": {
        "colab": {
          "base_uri": "https://localhost:8080/"
        },
        "id": "3xdg7CH3ZnCA",
        "outputId": "8ead16b7-1b52-4d5c-e65f-af206da273ed"
      },
      "execution_count": 11,
      "outputs": [
        {
          "output_type": "stream",
          "name": "stdout",
          "text": [
            "<re.Match object; span=(0, 2), match='Li'>\n"
          ]
        }
      ]
    },
    {
      "cell_type": "markdown",
      "source": [
        "Regular expression tester https://regex101.com/\n",
        "\n"
      ],
      "metadata": {
        "id": "KHetttMGXfNF"
      }
    },
    {
      "cell_type": "code",
      "source": [
        "'''\n",
        "\n",
        "Homework.\n",
        "\n",
        "Write a regular expression to match:\n",
        "\n",
        "1.  Paphos, Cyprus\n",
        "2.  PaphosCyprus\n",
        "3.  Kiev\n",
        "4.  Kiev123\n",
        "\n",
        "'''\n",
        "\n",
        "\n",
        "\n",
        "\n",
        "'''"
      ],
      "metadata": {
        "id": "ppcsKE2mb_zL"
      },
      "execution_count": null,
      "outputs": []
    }
  ]
}