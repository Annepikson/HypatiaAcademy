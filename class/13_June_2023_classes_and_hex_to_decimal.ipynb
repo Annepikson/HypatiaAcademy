{
  "nbformat": 4,
  "nbformat_minor": 0,
  "metadata": {
    "colab": {
      "provenance": [],
      "include_colab_link": true
    },
    "kernelspec": {
      "name": "python3",
      "display_name": "Python 3"
    },
    "language_info": {
      "name": "python"
    }
  },
  "cells": [
    {
      "cell_type": "markdown",
      "metadata": {
        "id": "view-in-github",
        "colab_type": "text"
      },
      "source": [
        "<a href=\"https://colab.research.google.com/github/werowe/HypatiaAcademy/blob/master/class/13_June_2023_classes_and_hex_to_decimal.ipynb\" target=\"_parent\"><img src=\"https://colab.research.google.com/assets/colab-badge.svg\" alt=\"Open In Colab\"/></a>"
      ]
    },
    {
      "cell_type": "code",
      "source": [
        "# 1) FF\n",
        "# 2) F0\n",
        "# 3) FFF\n",
        "\n",
        "hexToDecMap = {\n",
        "    \"0\": 0,\n",
        "    \"1\": 1,\n",
        "    \"2\": 2,\n",
        "    \"3\": 3,\n",
        "    \"A\": 10,\n",
        "    \"B\": 11,\n",
        "    \"F\": 15\n",
        "}\n",
        "\n",
        "inputHex = \"XXX\"\n",
        "#inputHex = \"F0\"\n",
        "#inputHex = \"FFF\"\n",
        "reversedinputHex = inputHex[::-1]\n",
        "\n",
        "exp=0\n",
        "dec=0\n",
        "\n",
        "try:\n",
        "\n",
        "  for hex in reversedinputHex :\n",
        "    dec += hexToDecMap[hex] * 16 ** exp # running sum\n",
        "    print(\"hex=\", hex , \" exponent=\", exp)\n",
        "    exp += 1\n",
        "\n",
        "except Exception as error:\n",
        "    print(\"there was an error\")\n",
        "\n",
        "print(dec)"
      ],
      "metadata": {
        "id": "94D6Ab1pA7Mo",
        "colab": {
          "base_uri": "https://localhost:8080/"
        },
        "outputId": "7a5a3261-38fb-46e2-ac6f-44f2f941fbef"
      },
      "execution_count": 67,
      "outputs": [
        {
          "output_type": "stream",
          "name": "stdout",
          "text": [
            "there was an error\n",
            "0\n"
          ]
        }
      ]
    },
    {
      "cell_type": "code",
      "source": [
        "\n",
        "# classes are objects.  all programming today is object orient programming\n",
        "\n",
        "# convention means like a standard\n",
        "\n",
        "\n",
        "# a class always has a constructor, that means create an instance of it\n",
        "\n",
        "class Country:\n",
        "\n",
        "  longitude=0\n",
        "  latitude=0\n",
        "\n",
        "  def __init__(self, name, capital, weather ):\n",
        "    self.name=name\n",
        "    self.capital=capital\n",
        "    self.weather=weather\n",
        "\n",
        "\n",
        "\n",
        "\n",
        "ukraine=Country(\"Ukraine\", \"Kiev\", weather=\"cold\")\n",
        "\n"
      ],
      "metadata": {
        "id": "gtNk4Xbc0xYv"
      },
      "execution_count": 68,
      "outputs": []
    },
    {
      "cell_type": "code",
      "source": [
        "# the Ukraine class has attributes\n",
        "\n",
        "print(\"the name of the country is\", ukraine.name)"
      ],
      "metadata": {
        "colab": {
          "base_uri": "https://localhost:8080/"
        },
        "id": "PDsGWwFo0GgN",
        "outputId": "c610da1d-5ebc-4d2a-f5f5-9edd6e787b5f"
      },
      "execution_count": 69,
      "outputs": [
        {
          "output_type": "stream",
          "name": "stdout",
          "text": [
            "the name of the country is Ukraine\n"
          ]
        }
      ]
    },
    {
      "cell_type": "code",
      "source": [
        "# python has objects\n",
        "\n",
        "# but we can make our own too\n",
        "\n",
        "\n",
        "from decimal import *\n",
        "\n",
        "ten = Decimal(10)\n",
        "\n",
        "print(ten)"
      ],
      "metadata": {
        "colab": {
          "base_uri": "https://localhost:8080/"
        },
        "id": "1DGeir_A2bUY",
        "outputId": "73f5dcde-f8e3-4138-8a6c-5d77564a7390"
      },
      "execution_count": 70,
      "outputs": [
        {
          "output_type": "stream",
          "name": "stdout",
          "text": [
            "10\n"
          ]
        }
      ]
    },
    {
      "cell_type": "code",
      "source": [
        "class Hex():\n",
        "\n",
        "  digits = {\n",
        "    \"0\": 0,\n",
        "    \"1\": 1,\n",
        "    \"2\": 2,\n",
        "    \"3\": 3,\n",
        "    \"A\": 10,\n",
        "    \"B\": 11,\n",
        "    \"C\": 12,\n",
        "    \"D\": 14,\n",
        "    \"F\": 15\n",
        "}\n",
        "\n",
        "  base = 16\n",
        "\n",
        "  def __init__(self, number):\n",
        "    self.number=number\n",
        "\n",
        "  def toDecimal(self):\n",
        "\n",
        "    reversedinputHex = self.number[::-1]\n",
        "    exp=0\n",
        "    dec=0\n",
        "\n",
        "    try:\n",
        "\n",
        "      for hex in reversedinputHex :\n",
        "        dec += hexToDecMap[hex] * 16 ** exp\n",
        "        exp += 1\n",
        "    except Exception as error:\n",
        "      print(\"there was an error\")\n",
        "\n",
        "    return dec\n",
        "\n",
        "# self means itself\n",
        "\n",
        "  def toString(self):\n",
        "      # an object can be complicated so a common practive is always to have a toString() method\n",
        "      # this just prints out the object in some way you can understand it\n",
        "\n",
        "      return self.number\n",
        "\n",
        "\n"
      ],
      "metadata": {
        "id": "uSTsguokypRw"
      },
      "execution_count": 71,
      "outputs": []
    },
    {
      "cell_type": "code",
      "source": [
        "anyNumber = Hex(\"FFFF\")"
      ],
      "metadata": {
        "id": "pQQSXiiQyhU-"
      },
      "execution_count": 72,
      "outputs": []
    },
    {
      "cell_type": "code",
      "source": [
        "anyNumber.toDecimal()"
      ],
      "metadata": {
        "colab": {
          "base_uri": "https://localhost:8080/"
        },
        "id": "HX-QYgmz6eLs",
        "outputId": "3cffd715-a8ce-4fcf-b5b7-b29645a84fe6"
      },
      "execution_count": 73,
      "outputs": [
        {
          "output_type": "execute_result",
          "data": {
            "text/plain": [
              "65535"
            ]
          },
          "metadata": {},
          "execution_count": 73
        }
      ]
    },
    {
      "cell_type": "code",
      "source": [
        " '''\n",
        "\n",
        "What did we do?\n",
        "\n",
        "We made a class called Hex()\n",
        "\n",
        "it has these attributes:\n",
        "\n",
        "    base = 16\n",
        "    digits = 0, 1, , A, B, D, F\n",
        "\n",
        "it has these two methods:\n",
        "\n",
        "    toDecimal()<------converts the Hex object to decimal format\n",
        "\n",
        "    toString()<----used to print something complicated where it's easy to understand\n",
        "\n",
        "\n",
        "\n",
        "\n",
        "\n",
        "\n",
        " '''\n",
        "\n",
        "\n"
      ],
      "metadata": {
        "colab": {
          "base_uri": "https://localhost:8080/",
          "height": 90
        },
        "id": "jp4wrHxF7XG-",
        "outputId": "ddbaf93c-3959-408a-f1a9-50d89850fb7d"
      },
      "execution_count": 74,
      "outputs": [
        {
          "output_type": "execute_result",
          "data": {
            "text/plain": [
              "\"\\n\\nWhat did we do?\\n\\nWe made a class called Hex()\\n\\nit has these attributes:\\n\\n   base = 16\\n   digits = 0, 1, , A, B, D, F\\n\\nit has these two methods:\\n\\n   toDecimal()<------converts the Hex object to decimal format\\n\\n   toString()<----used to print something complicated where it's easy to understand\\n   \\n\\n\\n\\n\\n\\n\""
            ],
            "application/vnd.google.colaboratory.intrinsic+json": {
              "type": "string"
            }
          },
          "metadata": {},
          "execution_count": 74
        }
      ]
    },
    {
      "cell_type": "code",
      "source": [
        "class Binary:\n",
        "\n",
        "  digits = [0,1]\n",
        "\n",
        "  base = 2\n",
        "\n",
        "  def __init__(self, number):\n",
        "    self.number=number\n",
        "\n",
        "  def toDecimal(self):\n",
        "    return(int(self.number,self.base))\n",
        "\n",
        "\n",
        "\n"
      ],
      "metadata": {
        "id": "feRnkx2f806W"
      },
      "execution_count": 75,
      "outputs": []
    },
    {
      "cell_type": "code",
      "source": [
        "three = Binary('11')\n"
      ],
      "metadata": {
        "id": "iARZEhvY9QAP"
      },
      "execution_count": 76,
      "outputs": []
    },
    {
      "cell_type": "code",
      "source": [
        "three.toDecimal()"
      ],
      "metadata": {
        "colab": {
          "base_uri": "https://localhost:8080/"
        },
        "id": "a5BVd6Tu9rg_",
        "outputId": "27264d28-e0b6-4d51-cfb6-7bb6e1d6f822"
      },
      "execution_count": 77,
      "outputs": [
        {
          "output_type": "execute_result",
          "data": {
            "text/plain": [
              "3"
            ]
          },
          "metadata": {},
          "execution_count": 77
        }
      ]
    },
    {
      "cell_type": "code",
      "source": [
        "'''\n",
        "\n",
        "homework\n",
        "\n",
        "make a class called BankAccount\n",
        "\n",
        "it should have attributes:\n",
        "\n",
        "account number\n",
        "balance\n",
        "owner's name\n",
        "\n",
        "\n",
        "\n",
        "\n",
        "\n",
        "'''"
      ],
      "metadata": {
        "colab": {
          "base_uri": "https://localhost:8080/",
          "height": 55
        },
        "id": "b_lj5jzo-GIq",
        "outputId": "74a6ca19-3131-417c-aae8-d3a382a483f6"
      },
      "execution_count": 78,
      "outputs": [
        {
          "output_type": "execute_result",
          "data": {
            "text/plain": [
              "\"\\n\\nhomework\\n\\nmake a class called BankAccount\\n\\nit should have attributes:\\n\\naccount number\\nbalance\\nowner's name\\n\\n\\n\\n\\n\\n\""
            ],
            "application/vnd.google.colaboratory.intrinsic+json": {
              "type": "string"
            }
          },
          "metadata": {},
          "execution_count": 78
        }
      ]
    }
  ]
}