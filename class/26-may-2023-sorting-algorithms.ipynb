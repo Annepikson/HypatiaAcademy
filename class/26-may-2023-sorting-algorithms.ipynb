{
 "cells": [
  {
   "cell_type": "markdown",
   "id": "99b4fba4",
   "metadata": {},
   "source": [
    "'''\n",
    "algorithm\n",
    "\n",
    "\n",
    "examples:\n",
    "\n",
    "rotate graphics on a screen\n",
    "\n",
    "convert 3 dimensional 3D coordinates (like a animal) to 2D coordinate (like a screen)\n",
    "\n",
    "\n",
    "sorting\n",
    "\n",
    "\n",
    "'''"
   ]
  },
  {
   "cell_type": "code",
   "execution_count": null,
   "id": "d418f660",
   "metadata": {},
   "outputs": [],
   "source": []
  },
  {
   "cell_type": "code",
   "execution_count": null,
   "id": "6ca73591",
   "metadata": {},
   "outputs": [],
   "source": []
  },
  {
   "cell_type": "code",
   "execution_count": null,
   "id": "424ffc14",
   "metadata": {},
   "outputs": [],
   "source": [
    "import random\n",
    "\n",
    "# a set\n",
    "numbers=set()\n",
    "\n",
    "# difference between a list and a set() is a set does not allow duplicate numbers\n",
    "\n",
    "for i in range(10):\n",
    "  numbers.add(random.randint(1,10))\n",
    "\n",
    "print(numbers)\n",
    "\n",
    "print(len(numbers))"
   ]
  },
  {
   "cell_type": "code",
   "execution_count": null,
   "id": "16f9030f",
   "metadata": {},
   "outputs": [],
   "source": [
    "'''\n",
    "Is 1 < 3   \n",
    "if yes then do nothing\n",
    "\n",
    "but if false then switch them\n",
    "\n",
    "'''\n",
    "numbers[0]\n"
   ]
  },
  {
   "cell_type": "code",
   "execution_count": null,
   "id": "49c3618c",
   "metadata": {},
   "outputs": [],
   "source": []
  },
  {
   "cell_type": "code",
   "execution_count": null,
   "id": "9a9298cc",
   "metadata": {},
   "outputs": [],
   "source": [
    "import random\n",
    "\n",
    "# a list\n",
    "numbers=[]\n",
    "\n",
    "# difference between a list and a set() is a set does not allow duplicate numbers\n",
    "\n",
    "for i in range(10):\n",
    "  numbers.append(random.randint(1,10))\n",
    "\n",
    "print(numbers)\n",
    "\n",
    "print(len(numbers))\n",
    "\n"
   ]
  },
  {
   "cell_type": "code",
   "execution_count": null,
   "id": "04b177bd",
   "metadata": {},
   "outputs": [],
   "source": [
    "# is 8 less than 4\n",
    "\n",
    "\n",
    "# is backwards.  it is not sorted.  to sort is means to do what?\n",
    "\n",
    "(8,4)\n",
    "\n",
    "print(numbers[0])\n",
    "print(numbers[1])\n",
    "\n",
    "print(numbers[0] < numbers[1])\n",
    "\n",
    "print(8<4)\n",
    "\n",
    "print(\"the unsorted numbers list is \", numbers)\n",
    "\n",
    "(1,2,3,4,5,6,7)\n",
    "\n",
    "print(\"is this sorted?\", 2 < 1 < 3 <4 < 5< 6 < 7 )\n",
    "\n",
    "(8,4)\n",
    "\n",
    "(4,8)\n",
    "\n",
    "print(\" is this less than the other \", \"sofia\" < \"sophia\")\n",
    "\n",
    "# alphabetic orders\n",
    "\n",
    "\n",
    "'''\n",
    "\" sorted in alphabetical order\"\n",
    "a,b,c,d,e,f,g,h,i\n",
    "\n",
    "\" this not \"\n",
    "\"b\",\"a\",\"d\",\"g\",\"f\"\n",
    "\n",
    "\n",
    "\"so\"  == \"so\"\n",
    "\n",
    "'''\n",
    "\n",
    "print(\"whose name is first \", (\"sof\"  <  \"sop\"))\n",
    "\n",
    "\n",
    "\n"
   ]
  },
  {
   "cell_type": "code",
   "execution_count": null,
   "id": "9ad8039d",
   "metadata": {},
   "outputs": [],
   "source": [
    "(\"joaquim\"  >  \"ilias\")"
   ]
  },
  {
   "cell_type": "code",
   "execution_count": null,
   "id": "433e3db1",
   "metadata": {},
   "outputs": [],
   "source": [
    "unsorted=[4,1,5]\n",
    "\n",
    "if unsorted[0]<unsorted[1]:\n",
    "  unsorted[1], unsorted[0] =  unsorted[0], unsorted[1]    \n",
    "\n",
    "print(unsorted)\n",
    "    "
   ]
  },
  {
   "cell_type": "code",
   "execution_count": null,
   "id": "a6124b60",
   "metadata": {},
   "outputs": [],
   "source": [
    "print(unsorted[0])\n",
    "print(unsorted[1])"
   ]
  },
  {
   "cell_type": "code",
   "execution_count": null,
   "id": "db367a04",
   "metadata": {},
   "outputs": [],
   "source": [
    "unsorted[0]=1\n",
    "unsorted[1]=4\n",
    "print(unsorted)"
   ]
  },
  {
   "cell_type": "code",
   "execution_count": null,
   "id": "03b9e4f4",
   "metadata": {},
   "outputs": [],
   "source": [
    "unsorted=[\"joaquim\", \"ilias\", \"sophia\", \"sofia\"]"
   ]
  },
  {
   "cell_type": "code",
   "execution_count": null,
   "id": "4e993bb1",
   "metadata": {},
   "outputs": [],
   "source": [
    "print(\"the first name is \", unsorted[0])\n",
    "print(\"the second thing is \", unsorted[1])\n",
    "\n",
    "print(\"is the first one less than the second one \", unsorted[0]<unsorted[1])"
   ]
  },
  {
   "cell_type": "code",
   "execution_count": null,
   "id": "6eb309d5",
   "metadata": {},
   "outputs": [],
   "source": [
    "unsorted[0],  unsorted[1] = unsorted[1],  unsorted[0]"
   ]
  },
  {
   "cell_type": "code",
   "execution_count": null,
   "id": "e0325122",
   "metadata": {},
   "outputs": [],
   "source": [
    "print(unsorted)"
   ]
  },
  {
   "cell_type": "code",
   "execution_count": null,
   "id": "ee82b81e",
   "metadata": {},
   "outputs": [],
   "source": [
    "unsorted[2],  unsorted[3] = unsorted[3],  unsorted[2]"
   ]
  },
  {
   "cell_type": "code",
   "execution_count": null,
   "id": "8fe8d099",
   "metadata": {},
   "outputs": [],
   "source": [
    "print(unsorted)"
   ]
  },
  {
   "cell_type": "code",
   "execution_count": null,
   "id": "7b7bedab",
   "metadata": {},
   "outputs": [],
   "source": [
    "# that was hard-coded.  hard-coded means I typed the numbers\n",
    "\n",
    "\n",
    "\n",
    "numbers=['joaquim', 'ilias', 'sophia', 'sofia','kiril', 'gleb', 'artur']"
   ]
  },
  {
   "cell_type": "code",
   "execution_count": null,
   "id": "564d0634",
   "metadata": {},
   "outputs": [],
   "source": [
    "# is this sorted?  which is the same as saying is this in alphabetical order\n",
    "\n",
    "'sofia' < 'artur' < 'c'\n"
   ]
  },
  {
   "cell_type": "code",
   "execution_count": null,
   "id": "cfe45d2c",
   "metadata": {},
   "outputs": [],
   "source": [
    "'joaquim' < 'ilias' < 'sophia' < 'sofia' < 'kiril' <  'gleb' <'artur'"
   ]
  },
  {
   "cell_type": "code",
   "execution_count": null,
   "id": "c3837c41",
   "metadata": {},
   "outputs": [],
   "source": [
    "for i in range(len(numbers)-1):\n",
    "    if(numbers[i]>numbers[i+1]):\n",
    "        numbers[i],numbers[i+1] = numbers[i+1],numbers[i]"
   ]
  },
  {
   "cell_type": "code",
   "execution_count": null,
   "id": "23669d42",
   "metadata": {},
   "outputs": [],
   "source": [
    "print(numbers)"
   ]
  },
  {
   "cell_type": "code",
   "execution_count": null,
   "id": "1dd91a3a",
   "metadata": {},
   "outputs": [],
   "source": [
    "for i in range(len(numbers)-1):\n",
    "    if(numbers[i]>numbers[i+1]):\n",
    "        numbers[i],numbers[i+1] = numbers[i+1],numbers[i]"
   ]
  },
  {
   "cell_type": "code",
   "execution_count": null,
   "id": "b554c2de",
   "metadata": {},
   "outputs": [],
   "source": [
    "print(numbers)"
   ]
  },
  {
   "cell_type": "code",
   "execution_count": null,
   "id": "27ccf669",
   "metadata": {},
   "outputs": [],
   "source": [
    "for i in range(len(numbers)-1):\n",
    "    if(numbers[i]>numbers[i+1]):\n",
    "        numbers[i],numbers[i+1] = numbers[i+1],numbers[i]"
   ]
  },
  {
   "cell_type": "code",
   "execution_count": null,
   "id": "a50ffd68",
   "metadata": {},
   "outputs": [],
   "source": [
    "print(numbers)"
   ]
  },
  {
   "cell_type": "code",
   "execution_count": null,
   "id": "6c3bce07",
   "metadata": {},
   "outputs": [],
   "source": [
    "len(numbers)"
   ]
  },
  {
   "cell_type": "code",
   "execution_count": null,
   "id": "ee60e78b",
   "metadata": {},
   "outputs": [],
   "source": [
    "for i in range(len(numbers)-1):\n",
    "    if(numbers[i]>numbers[i+1]):\n",
    "        numbers[i],numbers[i+1] = numbers[i+1],numbers[i]"
   ]
  },
  {
   "cell_type": "code",
   "execution_count": null,
   "id": "9223c2e6",
   "metadata": {},
   "outputs": [],
   "source": [
    "print(numbers)"
   ]
  },
  {
   "cell_type": "code",
   "execution_count": null,
   "id": "ce70ed68",
   "metadata": {},
   "outputs": [],
   "source": [
    "for i in range(len(numbers)-1):\n",
    "    if(numbers[i]>numbers[i+1]):\n",
    "        numbers[i],numbers[i+1] = numbers[i+1],numbers[i]"
   ]
  },
  {
   "cell_type": "code",
   "execution_count": null,
   "id": "d3ccd68b",
   "metadata": {},
   "outputs": [],
   "source": [
    "print(numbers)"
   ]
  },
  {
   "cell_type": "code",
   "execution_count": null,
   "id": "10dbfb43",
   "metadata": {},
   "outputs": [],
   "source": [
    "for i in range(len(numbers)-1):\n",
    "    if(numbers[i]>numbers[i+1]):\n",
    "        numbers[i],numbers[i+1] = numbers[i+1],numbers[i]"
   ]
  },
  {
   "cell_type": "code",
   "execution_count": null,
   "id": "76724fe9",
   "metadata": {},
   "outputs": [],
   "source": [
    "print(numbers)"
   ]
  },
  {
   "cell_type": "code",
   "execution_count": null,
   "id": "903c4752",
   "metadata": {},
   "outputs": [],
   "source": [
    "['artur' < 'gleb' < 'ilias' < 'joaquim' < 'kiril' < 'sofia' < 'sophia']"
   ]
  },
  {
   "cell_type": "code",
   "execution_count": null,
   "id": "5b8ae863",
   "metadata": {},
   "outputs": [],
   "source": [
    "numbers=['joaquim', 'ilias', 'sophia', 'sofia','kiril', 'gleb', 'artur']\n",
    "\n",
    "for j in range(len(numbers)):\n",
    "    for i in range(len(numbers)-1):\n",
    "        if(numbers[i]>numbers[i+1]):\n",
    "            numbers[i],numbers[i+1] = numbers[i+1],numbers[i]\n",
    "            \n",
    "print(numbers)            "
   ]
  },
  {
   "cell_type": "code",
   "execution_count": null,
   "id": "c01d05a2",
   "metadata": {},
   "outputs": [],
   "source": [
    "'''\n",
    "to sort a list you have to compare every item in the list with every other other item\n",
    "\n",
    "is we have numbers = (4,3,1)\n",
    "\n",
    "and compare 4 to 3\n",
    "\n",
    "and then we switch 4 and 3\n",
    "\n",
    "(3,4,1)\n",
    "\n",
    "the 1 is not sorted\n",
    "\n",
    "\n",
    "3*3 = 9 comparisons\n",
    "\n",
    "\n",
    "\n",
    "\n",
    "'''\n",
    "\n",
    "\n",
    "# this is called a nested loop\n",
    "\n",
    "# we run the outside loop j 5 times\n",
    "\n",
    "# every time we run j we run the inside loop also times\n",
    "\n",
    "# so the logic at the bottom runs 5 x 5 = 25 times\n",
    "\n",
    "\n",
    "\n",
    "for j in range(len(numbers)):\n",
    "    for i in range(len(numbers)-1):\n",
    "        print((\"comparing i=%s and j=%s\") % (i,j))\n",
    "\n",
    "\n"
   ]
  },
  {
   "cell_type": "code",
   "execution_count": null,
   "id": "61f4f1cd",
   "metadata": {},
   "outputs": [],
   "source": []
  },
  {
   "cell_type": "code",
   "execution_count": null,
   "id": "9f6047e5",
   "metadata": {},
   "outputs": [],
   "source": []
  },
  {
   "cell_type": "code",
   "execution_count": null,
   "id": "d36bd664",
   "metadata": {},
   "outputs": [],
   "source": [
    "'''\n",
    "[4,1,3,2]\n",
    "\n",
    "4<1\n",
    "\n",
    "no\n",
    "\n",
    "so swap them\n",
    "\n",
    "is 1<3 no\n",
    "\n",
    "so swap them\n",
    "\n",
    "get a pencil and paper and write it down or type it to understand\n",
    "\n",
    "this\n",
    "\n",
    "'''\n",
    " "
   ]
  },
  {
   "cell_type": "code",
   "execution_count": 106,
   "id": "a208b2c4",
   "metadata": {},
   "outputs": [
    {
     "name": "stdout",
     "output_type": "stream",
     "text": [
      "unsorted\n",
      "[65, 92, 27, 91, 51, 4, 78, 40, 3, 89, 63, 97, 1, 83, 33, 42, 47, 38, 60, 84, 9, 6, 77, 42, 32, 8, 76, 99, 95, 35, 13, 28, 68, 96, 14, 48, 62, 51, 7, 67, 99, 99, 2, 78, 74, 56, 35, 22, 37, 95, 84, 33, 98, 29, 6, 31, 65, 22, 32, 11, 78, 48, 10, 80, 4, 16, 21, 60, 66, 98, 90, 86, 53, 83, 43, 27, 91, 79, 97, 92, 36, 14, 58, 7, 99, 29, 32, 84, 5, 24, 99, 6, 96, 47, 18, 27, 37, 92, 12, 86]\n",
      "sorted\n",
      "[1, 2, 3, 4, 4, 5, 6, 6, 6, 7, 7, 8, 9, 10, 11, 12, 13, 14, 14, 16, 18, 21, 22, 22, 24, 27, 27, 27, 28, 29, 29, 31, 32, 32, 32, 33, 33, 35, 35, 36, 37, 37, 38, 40, 42, 42, 43, 47, 47, 48, 48, 51, 51, 53, 56, 58, 60, 60, 62, 63, 65, 65, 66, 67, 68, 74, 76, 77, 78, 78, 78, 79, 80, 83, 83, 84, 84, 84, 86, 86, 89, 90, 91, 91, 92, 92, 92, 95, 95, 96, 96, 97, 97, 98, 98, 99, 99, 99, 99, 99]\n"
     ]
    }
   ],
   "source": [
    "# a list\n",
    "numbers=[]\n",
    "\n",
    "# difference between a list and a set() is a set does not allow duplicate numbers\n",
    "\n",
    "for i in range(100):\n",
    "  numbers.append(random.randint(1,100))\n",
    "\n",
    "print(\"unsorted\")\n",
    "print(numbers)\n",
    "\n",
    "\n",
    "print(\"sorted\")\n",
    "for j in range(len(numbers)):\n",
    "    for i in range(len(numbers)-1):\n",
    "        if(numbers[i]>numbers[i+1]):\n",
    "            numbers[i],numbers[i+1] = numbers[i+1],numbers[i]\n",
    "            \n",
    "print(numbers)      "
   ]
  },
  {
   "cell_type": "code",
   "execution_count": null,
   "id": "7f20e397",
   "metadata": {},
   "outputs": [],
   "source": []
  }
 ],
 "metadata": {
  "kernelspec": {
   "display_name": "Python 3 (ipykernel)",
   "language": "python",
   "name": "python3"
  },
  "language_info": {
   "codemirror_mode": {
    "name": "ipython",
    "version": 3
   },
   "file_extension": ".py",
   "mimetype": "text/x-python",
   "name": "python",
   "nbconvert_exporter": "python",
   "pygments_lexer": "ipython3",
   "version": "3.10.9"
  }
 },
 "nbformat": 4,
 "nbformat_minor": 5
}
