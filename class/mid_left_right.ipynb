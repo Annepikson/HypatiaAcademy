{
  "nbformat": 4,
  "nbformat_minor": 0,
  "metadata": {
    "colab": {
      "provenance": [],
      "authorship_tag": "ABX9TyNAhdtZO+wLBmNBfosw1aY+",
      "include_colab_link": true
    },
    "kernelspec": {
      "name": "python3",
      "display_name": "Python 3"
    },
    "language_info": {
      "name": "python"
    }
  },
  "cells": [
    {
      "cell_type": "markdown",
      "metadata": {
        "id": "view-in-github",
        "colab_type": "text"
      },
      "source": [
        "<a href=\"https://colab.research.google.com/github/werowe/HypatiaAcademy/blob/master/class/mid_left_right.ipynb\" target=\"_parent\"><img src=\"https://colab.research.google.com/assets/colab-badge.svg\" alt=\"Open In Colab\"/></a>"
      ]
    },
    {
      "cell_type": "code",
      "execution_count": 2,
      "metadata": {
        "colab": {
          "base_uri": "https://localhost:8080/",
          "height": 37
        },
        "id": "EySr3asGoPRa",
        "outputId": "edc5864c-aae9-4b21-a682-52671dced6ee"
      },
      "outputs": [
        {
          "output_type": "execute_result",
          "data": {
            "text/plain": [
              "'sof'"
            ],
            "application/vnd.google.colaboratory.intrinsic+json": {
              "type": "string"
            }
          },
          "metadata": {},
          "execution_count": 2
        }
      ],
      "source": [
        "sofia=\"sofia\"\n",
        "\n",
        "sofia[0:3]"
      ]
    },
    {
      "cell_type": "code",
      "source": [
        "def left(word,letters):\n",
        "\n",
        "    return word[0:letters]\n",
        "\n",
        "left(sofia,3)    "
      ],
      "metadata": {
        "colab": {
          "base_uri": "https://localhost:8080/",
          "height": 37
        },
        "id": "JEahgIouo2iG",
        "outputId": "8e342133-3f0e-4be7-8a99-5b0a9e734335"
      },
      "execution_count": 6,
      "outputs": [
        {
          "output_type": "execute_result",
          "data": {
            "text/plain": [
              "'sof'"
            ],
            "application/vnd.google.colaboratory.intrinsic+json": {
              "type": "string"
            }
          },
          "metadata": {},
          "execution_count": 6
        }
      ]
    },
    {
      "cell_type": "code",
      "source": [
        "def right(word,letters)\n",
        "\n",
        "   right(\"sofia\",2)=\"ia\"\n",
        "\n",
        "\n",
        "def mid(word,start,end)\n",
        "\n",
        "    mid(\"sofia\",2,4)\n",
        "\n",
        "    = \"fi\""
      ],
      "metadata": {
        "id": "EDEu1Tj8pZS2"
      },
      "execution_count": null,
      "outputs": []
    }
  ]
}