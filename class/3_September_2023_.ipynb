{
  "nbformat": 4,
  "nbformat_minor": 0,
  "metadata": {
    "colab": {
      "provenance": [],
      "authorship_tag": "ABX9TyMAie1vqUV37p2o4kZL3n40",
      "include_colab_link": true
    },
    "kernelspec": {
      "name": "python3",
      "display_name": "Python 3"
    },
    "language_info": {
      "name": "python"
    }
  },
  "cells": [
    {
      "cell_type": "markdown",
      "metadata": {
        "id": "view-in-github",
        "colab_type": "text"
      },
      "source": [
        "<a href=\"https://colab.research.google.com/github/Annepikson/HypatiaAcademy/blob/master/class/3_September_2023_.ipynb\" target=\"_parent\"><img src=\"https://colab.research.google.com/assets/colab-badge.svg\" alt=\"Open In Colab\"/></a>"
      ]
    },
    {
      "cell_type": "code",
      "source": [
        "lika_lan = ['en','ru','ge']\n",
        "for i in lika_lan:\n",
        "  print(i)"
      ],
      "metadata": {
        "colab": {
          "base_uri": "https://localhost:8080/"
        },
        "id": "s14r_GFHeilw",
        "outputId": "3d3a8873-6a30-46f5-d677-b62080778eba"
      },
      "execution_count": 12,
      "outputs": [
        {
          "output_type": "stream",
          "name": "stdout",
          "text": [
            "en\n",
            "ru\n",
            "ge\n"
          ]
        }
      ]
    },
    {
      "cell_type": "code",
      "source": [
        "anna_lan = ['en','gr','uk','ru']\n",
        "for e in anna_lan:\n",
        "  print(e)"
      ],
      "metadata": {
        "colab": {
          "base_uri": "https://localhost:8080/"
        },
        "id": "Ptm-B-ZtgIKb",
        "outputId": "479d07ca-3701-483d-eec0-09fd4280fbf0"
      },
      "execution_count": 13,
      "outputs": [
        {
          "output_type": "stream",
          "name": "stdout",
          "text": [
            "en\n",
            "gr\n",
            "uk\n",
            "ru\n"
          ]
        }
      ]
    }
  ]
}