{
  "nbformat": 4,
  "nbformat_minor": 0,
  "metadata": {
    "colab": {
      "provenance": [],
      "authorship_tag": "ABX9TyOaM4IMmEJgwTBiN7wX0AQ8",
      "include_colab_link": true
    },
    "kernelspec": {
      "name": "python3",
      "display_name": "Python 3"
    },
    "language_info": {
      "name": "python"
    }
  },
  "cells": [
    {
      "cell_type": "markdown",
      "metadata": {
        "id": "view-in-github",
        "colab_type": "text"
      },
      "source": [
        "<a href=\"https://colab.research.google.com/github/werowe/HypatiaAcademy/blob/master/class/sept_15_numpy_linear_regression-guess-algorithm.ipynb\" target=\"_parent\"><img src=\"https://colab.research.google.com/assets/colab-badge.svg\" alt=\"Open In Colab\"/></a>"
      ]
    },
    {
      "cell_type": "code",
      "execution_count": 3,
      "metadata": {
        "colab": {
          "base_uri": "https://localhost:8080/"
        },
        "id": "IXF8d1OI6gIr",
        "outputId": "8b2f30a9-359e-420f-cf2c-96ae07190064"
      },
      "outputs": [
        {
          "output_type": "execute_result",
          "data": {
            "text/plain": [
              "array([ 72. ,  87.4,  95.1,  79.7, 102.8])"
            ]
          },
          "metadata": {},
          "execution_count": 3
        }
      ],
      "source": [
        "import numpy as np\n",
        "\n",
        "\n",
        "study=np.array([3, 5, 6, 4,7])\n",
        "\n",
        "results=np.array([70, 90, 97, 80, 100])\n",
        "\n",
        "\n",
        "# weights\n",
        "coefficient=7.7\n",
        "\n",
        "# y-intercept\n",
        "yintercept=48.9\n",
        "\n",
        "prediction=coefficient*study+yintercept\n",
        "prediction\n",
        "\n",
        "\n"
      ]
    },
    {
      "cell_type": "code",
      "source": [
        "'''\n",
        "\n",
        "using the quession approach change the coefficient and calculate the least squared error\n",
        "\n",
        "don't change the y-intercept\n",
        "\n",
        "\n",
        "algorithm:\n",
        "\n",
        "quess (meaning use a random number)\n",
        "\n",
        "or you could start at some number n add 0.1 to it, and try then add 0.1 again\n",
        "\n",
        "\n",
        "'''"
      ],
      "metadata": {
        "id": "phdGArQf8Mh9"
      },
      "execution_count": null,
      "outputs": []
    },
    {
      "cell_type": "code",
      "source": [
        "# how do we calculate the least square error\n",
        "\n"
      ],
      "metadata": {
        "id": "zyy8ejO88l-I"
      },
      "execution_count": null,
      "outputs": []
    }
  ]
}