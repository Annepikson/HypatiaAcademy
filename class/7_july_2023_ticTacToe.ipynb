{
  "cells": [
    {
      "cell_type": "markdown",
      "metadata": {
        "id": "view-in-github",
        "colab_type": "text"
      },
      "source": [
        "<a href=\"https://colab.research.google.com/github/werowe/HypatiaAcademy/blob/master/class/7_july_2023_ticTacToe.ipynb\" target=\"_parent\"><img src=\"https://colab.research.google.com/assets/colab-badge.svg\" alt=\"Open In Colab\"/></a>"
      ]
    },
    {
      "cell_type": "code",
      "source": [
        "import random\n",
        "\n",
        "# move this code up top to for row, column loop\n",
        "\n",
        "def square():\n",
        "  number=random.randint(0,1)\n",
        "\n",
        "  if number == 0:\n",
        "    square = \"x\"\n",
        "  else:\n",
        "    square = \"o\"\n",
        "\n",
        "  return square\n",
        "\n",
        "# check and see if you have a winner\n",
        "\n",
        "\n",
        "def isWinner(t):\n",
        "\n",
        "  winner=False\n",
        "  msg=\"no winner\"\n",
        "\n",
        "  # check all columns are the same\n",
        "\n",
        "  for i in range(3):\n",
        "    if t[0][i]==t[1][i]==t[2][i]:\n",
        "      msg=(\"column winner \", (t[0][i],t[1][i],t[2][i]), \" column=\", i+1)\n",
        "      winner = True\n",
        "\n",
        "  # check all rows are the same\n",
        "\n",
        "  for i in range(3):\n",
        "    if t[i][0]==t[i][1]==t[i][2]:\n",
        "       msg=(\"row winner \", t[i], \" row=\", i+1)\n",
        "       winner = True\n",
        "\n",
        "  # check diagonal all are the same\n",
        "\n",
        "  if t[0][0]==t[1][1]==t[2][2]:\n",
        "     msg=(\"diagonal winner \", t[0][0],t[1][1],t[2][2])\n",
        "     winner = True\n",
        "\n",
        "  return msg,winner\n"
      ],
      "metadata": {
        "id": "1Fg5fXTPbhAK"
      },
      "execution_count": 157,
      "outputs": []
    },
    {
      "cell_type": "code",
      "source": [
        "# write a program to using random numbers to generate a tic tac toe board\n",
        "# check the board and see if there is a winner\n",
        "# stop\n",
        "\n",
        "# fill the whole board with xs and os\n",
        "\n",
        "# first pick an x.  put it on the board.  next pick a y and put it on the board\n",
        "# continue until the board is filled\n",
        "\n",
        "# first make an empty 2 dimensional ray\n",
        "\n",
        "t = [[None,None,None],\n",
        "  [None,None,None],\n",
        "  [None,None,None]]\n",
        "\n",
        "\n",
        "for column in range(3):\n",
        "  for row in range(3):\n",
        "    # here put an if statement\n",
        "    # if if this is an x then next time use an o\n",
        "    t[row][column]=square()\n",
        "\n",
        "print(t[0])\n",
        "print(t[1])\n",
        "print(t[2])\n",
        "\n",
        "\n",
        "print(\"\\n\",isWinner(t))"
      ],
      "metadata": {
        "colab": {
          "base_uri": "https://localhost:8080/"
        },
        "id": "c0hbY_iIcYv1",
        "outputId": "5d20c99c-b551-420a-e9a0-291717cac9f0"
      },
      "execution_count": 161,
      "outputs": [
        {
          "output_type": "stream",
          "name": "stdout",
          "text": [
            "['o', 'o', 'x']\n",
            "['o', 'x', 'x']\n",
            "['x', 'x', 'o']\n",
            "\n",
            " ('no winner', False)\n"
          ]
        }
      ]
    },
    {
      "cell_type": "code",
      "source": [
        "# wait next week to do this part\n",
        "\n",
        "\n",
        "# keep looping until we have a winner\n",
        "\n",
        "\n",
        "\n",
        "isFinished=False\n",
        "while not isFinished:\n",
        "  # create board\n",
        "  # see if winner\n",
        "  # if winner set isFinished=False\n",
        "\n",
        "# print the board"
      ],
      "metadata": {
        "id": "yvae6mrOf3pR"
      },
      "execution_count": null,
      "outputs": []
    }
  ],
  "metadata": {
    "kernelspec": {
      "display_name": "Python 3",
      "language": "python",
      "name": "python3"
    },
    "language_info": {
      "codemirror_mode": {
        "name": "ipython",
        "version": 3
      },
      "file_extension": ".py",
      "mimetype": "text/x-python",
      "name": "python",
      "nbconvert_exporter": "python",
      "pygments_lexer": "ipython3",
      "version": "3.4.4"
    },
    "colab": {
      "provenance": [],
      "include_colab_link": true
    }
  },
  "nbformat": 4,
  "nbformat_minor": 0
}