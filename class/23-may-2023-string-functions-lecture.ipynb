{
 "cells": [
  {
   "cell_type": "markdown",
   "metadata": {},
   "source": [
    "948 is a number so it does not need quote marks around it"
   ]
  },
  {
   "cell_type": "markdown",
   "metadata": {},
   "source": [
    "# how to format this to 2 decimal points\n",
    "    \n",
    "    0.9999833006657076\n",
    "    \n",
    "     "
   ]
  },
  {
   "cell_type": "code",
   "execution_count": 1,
   "metadata": {},
   "outputs": [],
   "source": [
    "#here we have a string.\n",
    "\n",
    "# suppose this was money it would look strange to put $121.302030203\n",
    "\n",
    "str='121.302030203'\n",
    "\n",
    "arr=str.split(\".\")\n",
    "\n",
    "\n"
   ]
  },
  {
   "cell_type": "code",
   "execution_count": 2,
   "metadata": {},
   "outputs": [
    {
     "data": {
      "text/plain": [
       "['121', '302030203']"
      ]
     },
     "execution_count": 2,
     "metadata": {},
     "output_type": "execute_result"
    }
   ],
   "source": [
    "arr"
   ]
  },
  {
   "cell_type": "code",
   "execution_count": 4,
   "metadata": {},
   "outputs": [
    {
     "name": "stdout",
     "output_type": "stream",
     "text": [
      "['walker', 'Ilya', 'Joaquim', 'Sofia']\n"
     ]
    }
   ],
   "source": [
    "students=\"walker,Ilya,Joaquim,Sofia\"\n",
    "\n",
    "studentsArray=students.split(\",\")\n",
    "print(studentsArray)"
   ]
  },
  {
   "cell_type": "code",
   "execution_count": 6,
   "metadata": {},
   "outputs": [
    {
     "name": "stdout",
     "output_type": "stream",
     "text": [
      "walker\n",
      "Ilya\n",
      "Joaquim\n",
      "Sofia\n"
     ]
    }
   ],
   "source": [
    "# since studentsArray is an array, we can loop over it\n",
    "\n",
    "# so here we loop over every element using the for loop\n",
    "\n",
    "for student in studentsArray:\n",
    "    print(student)"
   ]
  },
  {
   "cell_type": "code",
   "execution_count": 11,
   "metadata": {},
   "outputs": [
    {
     "data": {
      "text/plain": [
       "'ya'"
      ]
     },
     "execution_count": 11,
     "metadata": {},
     "output_type": "execute_result"
    }
   ],
   "source": [
    "studentsArray[1][2:4]\n"
   ]
  },
  {
   "cell_type": "markdown",
   "metadata": {},
   "source": [
    "the join function joins all the items in an iterable to a string\n",
    "\n",
    "a list is iterable\n",
    "because you can do this operation:\n",
    "\n",
    "for i in the list\n",
    "\n",
    "\n",
    "\"the string\".join(the list) then we get:\n",
    "\n",
    " list element 1 +  \"the string\" + list element 2\n"
   ]
  },
  {
   "cell_type": "code",
   "execution_count": 15,
   "metadata": {},
   "outputs": [
    {
     "data": {
      "text/plain": [
       "'walker🧑\\u200dIlya🧑\\u200dJoaquim🧑\\u200dSofia'"
      ]
     },
     "execution_count": 15,
     "metadata": {},
     "output_type": "execute_result"
    }
   ],
   "source": [
    "# this means take every element in the array studentArray and join it using the emoji 🧑‍🎓\n",
    "\n",
    "# joins concatenate\n",
    "\n",
    "\"🧑‍\".join(studentsArray)\n",
    "\n"
   ]
  },
  {
   "cell_type": "code",
   "execution_count": 19,
   "metadata": {},
   "outputs": [
    {
     "name": "stdout",
     "output_type": "stream",
     "text": [
      "‍\n",
      "λ\n"
     ]
    }
   ],
   "source": [
    "print(\"\\u200d\")\n",
    "print('\\u03BB')"
   ]
  },
  {
   "cell_type": "code",
   "execution_count": null,
   "metadata": {},
   "outputs": [],
   "source": []
  },
  {
   "cell_type": "markdown",
   "metadata": {},
   "source": [
    "what is the difference between the find() and the index() string functions?\n",
    "\n",
    "answer: It's complicated.  It's almost the same.\n",
    "\n",
    "ChatGPT is a neural network, a large-language model\n",
    "\n"
   ]
  },
  {
   "cell_type": "code",
   "execution_count": 26,
   "metadata": {},
   "outputs": [
    {
     "data": {
      "text/plain": [
       "'ny'"
      ]
     },
     "execution_count": 26,
     "metadata": {},
     "output_type": "execute_result"
    }
   ],
   "source": [
    "\"Today it is sunny\"[2:4]\n",
    "\n",
    "\n",
    "start=-2 # means go backwards\n",
    "howMany=4\n",
    "\n",
    "\"Today it is sunny\"[start:]"
   ]
  },
  {
   "cell_type": "code",
   "execution_count": 27,
   "metadata": {},
   "outputs": [
    {
     "data": {
      "text/plain": [
       "'da'"
      ]
     },
     "execution_count": 27,
     "metadata": {},
     "output_type": "execute_result"
    }
   ],
   "source": [
    "\"Today it is sunny\"[2:4]"
   ]
  },
  {
   "cell_type": "code",
   "execution_count": 28,
   "metadata": {},
   "outputs": [
    {
     "data": {
      "text/plain": [
       "'d'"
      ]
     },
     "execution_count": 28,
     "metadata": {},
     "output_type": "execute_result"
    }
   ],
   "source": [
    "\"Today it is sunny\"[2]"
   ]
  },
  {
   "cell_type": "code",
   "execution_count": 29,
   "metadata": {},
   "outputs": [
    {
     "data": {
      "text/plain": [
       "'y'"
      ]
     },
     "execution_count": 29,
     "metadata": {},
     "output_type": "execute_result"
    }
   ],
   "source": [
    "\"Today it is sunny\"[4]"
   ]
  },
  {
   "cell_type": "code",
   "execution_count": 30,
   "metadata": {},
   "outputs": [
    {
     "data": {
      "text/plain": [
       "'T'"
      ]
     },
     "execution_count": 30,
     "metadata": {},
     "output_type": "execute_result"
    }
   ],
   "source": [
    "\"Today it is sunny\"[0]"
   ]
  },
  {
   "cell_type": "code",
   "execution_count": 31,
   "metadata": {},
   "outputs": [
    {
     "data": {
      "text/plain": [
       "'o'"
      ]
     },
     "execution_count": 31,
     "metadata": {},
     "output_type": "execute_result"
    }
   ],
   "source": [
    "\"Today it is sunny\"[1]"
   ]
  },
  {
   "cell_type": "code",
   "execution_count": 34,
   "metadata": {},
   "outputs": [
    {
     "data": {
      "text/plain": [
       "'n'"
      ]
     },
     "execution_count": 34,
     "metadata": {},
     "output_type": "execute_result"
    }
   ],
   "source": [
    "\"Today it is sunny\"[-2]\n"
   ]
  },
  {
   "cell_type": "code",
   "execution_count": 35,
   "metadata": {},
   "outputs": [
    {
     "data": {
      "text/plain": [
       "'y'"
      ]
     },
     "execution_count": 35,
     "metadata": {},
     "output_type": "execute_result"
    }
   ],
   "source": [
    "\"Today it is sunny\"[-1]"
   ]
  },
  {
   "cell_type": "markdown",
   "metadata": {},
   "source": [
    "'''\n",
    "Homework.  Explain this.  Why it it not printing \"ny\"\n",
    "\n",
    "\"Today it is sunny\"[-2:1]\n",
    "\n",
    "ChatGPT says:\n",
    "\n",
    "The Python code \"Today it is sunny\"[-2:-1] is not printing \"ny\" because the slicing range specified, [-2:-1], includes the second-to-last character ([-2]) but excludes the last character ([-1]).\n",
    "\n",
    "In Python slicing, the start index is inclusive, but the end index is exclusive. When you use [-2:-1] as the slicing range, it selects the character at index -2 (second-to-last character) but excludes the character at index -1 (last character).\n",
    "\n",
    "So, the code will return the second-to-last character only, which is \"n\", but not the last character \"y\". Thus, it would print \"n\" instead of \"ny\".\n",
    "\n",
    "To print both the last two characters, you can modify the code as follows:\n",
    "\n",
    "'''\n",
    "\n",
    "\n"
   ]
  },
  {
   "cell_type": "markdown",
   "metadata": {},
   "source": [
    "'''\n",
    "\n",
    "1. write a concanenate function \n",
    "\n",
    "2. show how to use the count() function\n",
    "\n",
    "3. rfind() make example\n",
    "\n",
    "4.  split() make example\n",
    "\n",
    "\n",
    "\n",
    "'''"
   ]
  },
  {
   "cell_type": "code",
   "execution_count": null,
   "metadata": {},
   "outputs": [],
   "source": []
  }
 ],
 "metadata": {
  "kernelspec": {
   "display_name": "Python 3 (ipykernel)",
   "language": "python",
   "name": "python3"
  },
  "language_info": {
   "codemirror_mode": {
    "name": "ipython",
    "version": 3
   },
   "file_extension": ".py",
   "mimetype": "text/x-python",
   "name": "python",
   "nbconvert_exporter": "python",
   "pygments_lexer": "ipython3",
   "version": "3.10.9"
  }
 },
 "nbformat": 4,
 "nbformat_minor": 2
}
