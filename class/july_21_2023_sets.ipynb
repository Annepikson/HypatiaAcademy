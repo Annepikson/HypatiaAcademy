{
  "nbformat": 4,
  "nbformat_minor": 0,
  "metadata": {
    "colab": {
      "provenance": [],
      "authorship_tag": "ABX9TyORPcnIu4qYba4TGXZhqFjG",
      "include_colab_link": true
    },
    "kernelspec": {
      "name": "python3",
      "display_name": "Python 3"
    },
    "language_info": {
      "name": "python"
    }
  },
  "cells": [
    {
      "cell_type": "markdown",
      "metadata": {
        "id": "view-in-github",
        "colab_type": "text"
      },
      "source": [
        "<a href=\"https://colab.research.google.com/github/werowe/HypatiaAcademy/blob/master/class/july_21_2023_sets.ipynb\" target=\"_parent\"><img src=\"https://colab.research.google.com/assets/colab-badge.svg\" alt=\"Open In Colab\"/></a>"
      ]
    },
    {
      "cell_type": "code",
      "execution_count": 14,
      "metadata": {
        "colab": {
          "base_uri": "https://localhost:8080/"
        },
        "id": "6Pqm9YRtclk0",
        "outputId": "e09d5718-03c1-448c-f25b-1ab396b3b06d"
      },
      "outputs": [
        {
          "output_type": "stream",
          "name": "stdout",
          "text": [
            "{3, 4, 5, 6}\n",
            "{'Daniylo', 'Kiril', 'Lika'}\n"
          ]
        }
      ],
      "source": [
        "# a set is a list on object.  it is unique.  you cannot have the same element in a set twice\n",
        "# this is quite useful as we can rid up duplicates\n",
        "\n",
        "s={3,4,5}\n",
        "s.add(6)\n",
        "print(s)\n",
        "\n",
        "\n",
        "students={\"Lika\", \"Kiril\", \"Daniylo\", \"Lika\"}\n",
        "print(students)\n"
      ]
    },
    {
      "cell_type": "code",
      "source": [
        "# pop means remove the first element on the left\n",
        "\n",
        "s.pop()\n",
        "print(s)\n"
      ],
      "metadata": {
        "colab": {
          "base_uri": "https://localhost:8080/"
        },
        "id": "lLLkA4gNjwPl",
        "outputId": "a5b2e33b-264b-43c7-c5e9-de4425b28cd4"
      },
      "execution_count": 15,
      "outputs": [
        {
          "output_type": "stream",
          "name": "stdout",
          "text": [
            "{4, 5, 6}\n"
          ]
        }
      ]
    },
    {
      "cell_type": "code",
      "source": [
        "# you cannot address a particular element of a set [I am not sure about this]\n",
        "\n",
        "# but a set is iterable just like a list is iterable\n",
        "\n",
        "# so you can iterate over it\n",
        "\n",
        "s = {1, 2, 3, 4, 5}\n",
        "\n",
        "\n",
        "for element in s:\n",
        "    print(element)\n",
        "\n",
        "\n"
      ],
      "metadata": {
        "colab": {
          "base_uri": "https://localhost:8080/"
        },
        "id": "eeSPNwMfkB4z",
        "outputId": "f3c6dc46-2301-4691-a9cf-c3d1d0034e40"
      },
      "execution_count": 16,
      "outputs": [
        {
          "output_type": "stream",
          "name": "stdout",
          "text": [
            "1\n",
            "2\n",
            "3\n",
            "4\n",
            "5\n"
          ]
        }
      ]
    },
    {
      "cell_type": "code",
      "source": [
        "s1 = { 1, 2, 3, 4, 5}\n",
        "\n",
        "s2 = {3, 4}\n",
        "\n",
        "# intersection\n",
        "# means elements that are common to both sets\n",
        "\n",
        "print(s1.intersection(s2))\n",
        "\n"
      ],
      "metadata": {
        "colab": {
          "base_uri": "https://localhost:8080/"
        },
        "id": "JTSrPwajlFAc",
        "outputId": "c3b555f1-9363-4de3-aa49-ab954ea62fc4"
      },
      "execution_count": 17,
      "outputs": [
        {
          "output_type": "stream",
          "name": "stdout",
          "text": [
            "{3, 4}\n"
          ]
        }
      ]
    },
    {
      "cell_type": "code",
      "source": [
        "girls = {\"Lika\", \"Tamara\"}\n",
        "boys = {\"Danyilo\", \"Kiril\"}\n",
        "\n",
        "# union means take two sets and put them together\n",
        "\n",
        "students=girls.union(boys)\n",
        "\n",
        "print(students)\n"
      ],
      "metadata": {
        "colab": {
          "base_uri": "https://localhost:8080/"
        },
        "id": "IB_5_mxDoD6I",
        "outputId": "c1c1c9a4-ec51-4881-8d0e-56e09ab123e3"
      },
      "execution_count": 18,
      "outputs": [
        {
          "output_type": "stream",
          "name": "stdout",
          "text": [
            "{'Kiril', 'Danyilo', 'Lika', 'Tamara'}\n"
          ]
        }
      ]
    },
    {
      "cell_type": "code",
      "source": [
        "# add an element to a set\n",
        "\n",
        "s.add(8)\n",
        "s"
      ],
      "metadata": {
        "colab": {
          "base_uri": "https://localhost:8080/"
        },
        "id": "mKo1N5NfljWl",
        "outputId": "68cf8b6d-04d3-45b1-f79f-9e5f75263ced"
      },
      "execution_count": 11,
      "outputs": [
        {
          "output_type": "execute_result",
          "data": {
            "text/plain": [
              "{2, 3, 4, 5, 8}"
            ]
          },
          "metadata": {},
          "execution_count": 11
        }
      ]
    },
    {
      "cell_type": "code",
      "source": [
        "'''\n",
        "1. do sample test question 12\n",
        "\n",
        "hint:  characters are sorted in alphabetical order, meaning first letter, second letter etc.\n",
        "\n",
        "numbers are sorted by 10 < 12 naturally\n",
        "\n",
        "\n",
        "2.  Look at this page https://realpython.com/python-sets/#available-operators-and-methods\n",
        "\n",
        "3.  using that page write code to show that \"walker\" is not in the set students.  hint use \"in'\n",
        "\n",
        "4.  explain and give of an example of subtracting one set from another\n",
        "\n",
        "\n",
        "\n",
        "\n",
        "'''"
      ],
      "metadata": {
        "id": "D1tE9eppmDUV"
      },
      "execution_count": null,
      "outputs": []
    }
  ]
}