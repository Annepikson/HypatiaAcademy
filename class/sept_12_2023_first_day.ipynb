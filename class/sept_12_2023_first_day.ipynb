{
  "nbformat": 4,
  "nbformat_minor": 0,
  "metadata": {
    "colab": {
      "provenance": [],
      "authorship_tag": "ABX9TyMolTqsXQvk3ZTuIEGgpYgV",
      "include_colab_link": true
    },
    "kernelspec": {
      "name": "python3",
      "display_name": "Python 3"
    },
    "language_info": {
      "name": "python"
    }
  },
  "cells": [
    {
      "cell_type": "markdown",
      "metadata": {
        "id": "view-in-github",
        "colab_type": "text"
      },
      "source": [
        "<a href=\"https://colab.research.google.com/github/werowe/HypatiaAcademy/blob/master/class/sept_12_2023_first_day.ipynb\" target=\"_parent\"><img src=\"https://colab.research.google.com/assets/colab-badge.svg\" alt=\"Open In Colab\"/></a>"
      ]
    },
    {
      "cell_type": "code",
      "execution_count": null,
      "metadata": {
        "colab": {
          "base_uri": "https://localhost:8080/"
        },
        "id": "-T32SdL0wsp2",
        "outputId": "cf5cd3ea-f5fa-4cf0-be58-c30aceec9042"
      },
      "outputs": [
        {
          "output_type": "stream",
          "name": "stdout",
          "text": [
            "1\n"
          ]
        }
      ],
      "source": [
        "'''\n",
        "\n",
        "virtual machine is a computer in the cloud\n",
        "\n",
        "need:\n",
        "\n",
        "google colab is a jupyter notebook that google gives you access to for free\n",
        "\n",
        "github--we will put our code here.  The Hypatia one is here\n",
        "\n",
        "slack--messenger.  send direct message.  post messages in the #general\n",
        "\n",
        "chatgpt--the real human AI system.  sign up for this.  this is not google.   so you could use any email.\n",
        "\n",
        "what did we cover today:\n",
        "\n",
        "* what is Python?\n",
        "\n",
        "https://github.com/werowe/HypatiaAcademy/blob/master/class/what%20is%20python.md\n",
        "\n",
        "who would use it?  is it good for writing games?  not really.  is good for writing cell phone apps?  no really\n",
        "what is it good for?  machine learning and databases\n",
        "\n",
        "\n",
        "* what is a jupyter notebook (google colab are free ones in the cloud)\n",
        "\n",
        "data structures\n",
        "* lists (arrays)\n",
        "* dictionaries\n",
        "\n",
        "functions:\n",
        "\n",
        "* convert letters to uppercase, example\n",
        "\n",
        "operators:\n",
        "\n",
        "multiplication, addition, ...\n",
        "\n",
        "\n",
        "loops:\n",
        "\n",
        "for loops\n",
        "\n",
        "\n",
        "\n",
        "\n",
        "\n",
        "\n",
        "\n",
        "\n",
        "\n",
        "\n",
        "\n",
        "\n",
        "\n",
        "\n",
        "\n",
        "\n",
        "\n",
        "\n",
        "'''"
      ]
    },
    {
      "cell_type": "code",
      "source": [
        "x=2\n",
        "y=3\n",
        "x*y"
      ],
      "metadata": {
        "colab": {
          "base_uri": "https://localhost:8080/"
        },
        "id": "rlnfOCwHyD5n",
        "outputId": "2d9c32ca-d9d2-4b15-f10b-3f145461829a"
      },
      "execution_count": null,
      "outputs": [
        {
          "output_type": "execute_result",
          "data": {
            "text/plain": [
              "6"
            ]
          },
          "metadata": {},
          "execution_count": 3
        }
      ]
    },
    {
      "cell_type": "code",
      "source": [
        "import random\n",
        "\n",
        "# List of student names\n",
        "student_names = [\"Joaquim\", \"Jevhn\", \"Arseni\"]\n",
        "\n",
        "# Initialize empty lists to store information\n",
        "locations = []\n",
        "ages = []\n",
        "incomes = []\n",
        "\n",
        "# Generate random values for each student\n",
        "for name in student_names:\n",
        "    location = random.choice([\"New York\", \"Los Angeles\", \"Chicago\", \"San Francisco\"])\n",
        "    age = random.randint(13, 17)\n",
        "    income = random.randint(20000, 80000)\n",
        "\n",
        "    # Append the generated values to the respective lists\n",
        "    locations.append(location)\n",
        "    ages.append(age)\n",
        "    incomes.append(income)\n",
        "\n",
        "# Calculate the average income\n",
        "average_income = sum(incomes) / len(student_names)\n",
        "\n",
        "# Print the information and the average income\n",
        "for i in range(len(student_names)):\n",
        "    print(f\"Name: {student_names[i]}, Location: {locations[i]}, Age: {ages[i]}, Income: ${incomes[i]}\")\n",
        "\n",
        "print(f\"Average Income: ${average_income:.2f}\")\n"
      ],
      "metadata": {
        "colab": {
          "base_uri": "https://localhost:8080/"
        },
        "id": "QVk69AX6z_XP",
        "outputId": "6669faec-50e1-4379-d897-ba483f9e56c1"
      },
      "execution_count": null,
      "outputs": [
        {
          "output_type": "stream",
          "name": "stdout",
          "text": [
            "Name: Joaquim, Location: San Francisco, Age: 14, Income: $77645\n",
            "Name: Jevhn, Location: Chicago, Age: 14, Income: $35693\n",
            "Name: Arseni, Location: Chicago, Age: 14, Income: $32105\n",
            "Average Income: $48481.00\n"
          ]
        }
      ]
    }
  ]
}