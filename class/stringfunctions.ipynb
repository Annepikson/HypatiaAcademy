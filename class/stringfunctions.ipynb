{
  "nbformat": 4,
  "nbformat_minor": 0,
  "metadata": {
    "colab": {
      "provenance": [],
      "authorship_tag": "ABX9TyMaelgdC9cp0Nt+WpxNOx1N",
      "include_colab_link": true
    },
    "kernelspec": {
      "name": "python3",
      "display_name": "Python 3"
    },
    "language_info": {
      "name": "python"
    }
  },
  "cells": [
    {
      "cell_type": "markdown",
      "metadata": {
        "id": "view-in-github",
        "colab_type": "text"
      },
      "source": [
        "<a href=\"https://colab.research.google.com/github/werowe/HypatiaAcademy/blob/master/class/stringfunctions.ipynb\" target=\"_parent\"><img src=\"https://colab.research.google.com/assets/colab-badge.svg\" alt=\"Open In Colab\"/></a>"
      ]
    },
    {
      "cell_type": "code",
      "execution_count": 7,
      "metadata": {
        "colab": {
          "base_uri": "https://localhost:8080/"
        },
        "id": "_wF8Zdtrr590",
        "outputId": "5846cf2b-995c-43c7-e71f-ab435e1b7a40"
      },
      "outputs": [
        {
          "output_type": "stream",
          "name": "stdout",
          "text": [
            "abc\n"
          ]
        }
      ],
      "source": [
        "#concatenate a variable number letters or words\n",
        "\n",
        "def cat(*letters):\n",
        "  str=\"\"\n",
        "  for i in letters:\n",
        "    str = str+i\n",
        "  return str\n",
        "\n"
      ]
    },
    {
      "cell_type": "code",
      "source": [
        "print(cat(\"a\", \"b\", \"c\"))"
      ],
      "metadata": {
        "id": "7urKogZlsvnR"
      },
      "execution_count": null,
      "outputs": []
    },
    {
      "cell_type": "code",
      "source": [
        "# print the left <length> most characters in the string <string>\n",
        "\n",
        "def left(string,length):\n",
        "  return(string[0:length])\n"
      ],
      "metadata": {
        "id": "_wUMqe8jsxcT"
      },
      "execution_count": 12,
      "outputs": []
    },
    {
      "cell_type": "code",
      "source": [
        "print(left(\"walker\",3))"
      ],
      "metadata": {
        "colab": {
          "base_uri": "https://localhost:8080/"
        },
        "id": "afYn8PbbtA8B",
        "outputId": "97636d81-292e-4290-99dc-24cb106b4888"
      },
      "execution_count": 13,
      "outputs": [
        {
          "output_type": "stream",
          "name": "stdout",
          "text": [
            "wal\n"
          ]
        }
      ]
    },
    {
      "cell_type": "code",
      "source": [
        "# print the middle section of <word> starting at position <start> and ending \n",
        "# at position <end>\n",
        "\n",
        "def mid(word,start,end):\n",
        "\n",
        "    return word[start:end+1]"
      ],
      "metadata": {
        "id": "DeeoRej5tYir"
      },
      "execution_count": 20,
      "outputs": []
    },
    {
      "cell_type": "code",
      "source": [
        "print(mid(\"walker\",2,5))"
      ],
      "metadata": {
        "colab": {
          "base_uri": "https://localhost:8080/"
        },
        "id": "ICJaUiIttoPM",
        "outputId": "58213dc3-8498-493c-db3a-a4c1abf385f0"
      },
      "execution_count": 22,
      "outputs": [
        {
          "output_type": "stream",
          "name": "stdout",
          "text": [
            "lker\n"
          ]
        }
      ]
    },
    {
      "cell_type": "code",
      "source": [
        "'''\n",
        "\n",
        "write the function right(word,length) to print the right most characters in a string\n",
        "\n",
        "\n",
        "for example:\n",
        "\n",
        "  right(\"walker\", 3) would print \"ker\"\n",
        "  \n",
        "\n",
        "'''\n"
      ],
      "metadata": {
        "id": "JsOvlYZAud_a"
      },
      "execution_count": null,
      "outputs": []
    }
  ]
}