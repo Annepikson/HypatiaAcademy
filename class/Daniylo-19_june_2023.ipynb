{
  "nbformat": 4,
  "nbformat_minor": 0,
  "metadata": {
    "colab": {
      "provenance": [],
      "include_colab_link": true
    },
    "kernelspec": {
      "name": "python3",
      "display_name": "Python 3"
    },
    "language_info": {
      "name": "python"
    }
  },
  "cells": [
    {
      "cell_type": "markdown",
      "metadata": {
        "id": "view-in-github",
        "colab_type": "text"
      },
      "source": [
        "<a href=\"https://colab.research.google.com/github/werowe/HypatiaAcademy/blob/master/class/Daniylo-19_june_2023.ipynb\" target=\"_parent\"><img src=\"https://colab.research.google.com/assets/colab-badge.svg\" alt=\"Open In Colab\"/></a>"
      ]
    },
    {
      "cell_type": "code",
      "source": [
        "import urllib.request\n",
        "\n",
        "\n",
        "\n",
        "class Transaction:\n",
        "    def __init__(self, date, amount):\n",
        "        self.date = date\n",
        "        self.amount = amount\n",
        "\n",
        "class BankAccount:\n",
        "    def __init__(self):\n",
        "        self.transactions = []\n",
        "\n",
        "    def addTrans(self, transaction):\n",
        "        self.transactions.append(transaction)\n",
        "\n",
        "# Create an instance of BankAccount\n",
        "bankaccount = BankAccount()\n",
        "\n",
        "currURL=\"https://raw.githubusercontent.com/werowe/HypatiaAcademy/master/assignment/transactions.csv\"\n",
        "\n",
        "# Assuming `currURL` contains the URL of the \"transactions.csv\" file\n",
        "\n",
        "response = urllib.request.urlopen(currURL)\n",
        "#OLD OUT OF DATE response = urllib.urlopen(currURL)\n",
        "lines = response.readlines()\n",
        "\n",
        "# Read each line and create transaction objects\n",
        "for line in lines:\n",
        "    # Split the line into date and amount using split()\n",
        "    date, amount = line.decode('utf-8').strip().split(',')\n",
        "\n",
        "    # Create a transaction object\n",
        "    transaction = Transaction(date, amount)\n",
        "\n",
        "    # Add the transaction to the account\n",
        "    bankaccount.addTrans(transaction)\n",
        "\n",
        "# Print each transaction\n",
        "for i in range(len(bankaccount.transactions)):\n",
        "    transaction = bankaccount.transactions[i]\n",
        "    print(f\"Transaction {i+1}: Amount: {transaction.amount}, Date: {transaction.date}\")\n"
      ],
      "metadata": {
        "colab": {
          "base_uri": "https://localhost:8080/"
        },
        "id": "g6oyEcp0Ekhx",
        "outputId": "ccbf408d-ea2f-4970-f719-24bfed719591"
      },
      "execution_count": 2,
      "outputs": [
        {
          "output_type": "stream",
          "name": "stdout",
          "text": [
            "Transaction 1: Amount: 400, Date: 7/21\n",
            "Transaction 2: Amount: -350, Date: 6/23\n",
            "Transaction 3: Amount: -25, Date: 4/16\n"
          ]
        }
      ]
    },
    {
      "cell_type": "code",
      "source": [
        "import urllib.request\n",
        "\n",
        "response = urllib.request.urlopen(currURL)\n",
        "currURL=\"https://raw.githubusercontent.com/werowe/HypatiaAcademy/master/assignment/transactions.csv\"\n",
        "\n",
        "lines = response.readlines()\n"
      ],
      "metadata": {
        "id": "YfvPNpTf73li"
      },
      "execution_count": 22,
      "outputs": []
    },
    {
      "cell_type": "code",
      "source": [
        "l"
      ],
      "metadata": {
        "id": "cA2psQDg8KPA",
        "outputId": "83315194-7150-4110-d778-ddb829f3d7cd",
        "colab": {
          "base_uri": "https://localhost:8080/"
        }
      },
      "execution_count": 25,
      "outputs": [
        {
          "output_type": "execute_result",
          "data": {
            "text/plain": [
              "[b'7/21,400\\r\\n', b'6/23,-350\\r\\n', b'4/16,-25']"
            ]
          },
          "metadata": {},
          "execution_count": 25
        }
      ]
    },
    {
      "cell_type": "code",
      "source": [
        "print(\"walker\\r\\nilia\\r\\njoaquim\")"
      ],
      "metadata": {
        "id": "4EzfrHJw8vzu",
        "outputId": "a0ae3e05-3209-4da7-8b65-c54734fdd39b",
        "colab": {
          "base_uri": "https://localhost:8080/"
        }
      },
      "execution_count": 27,
      "outputs": [
        {
          "output_type": "stream",
          "name": "stdout",
          "text": [
            "walker\r\n",
            "ilia\r\n",
            "joaquim\n"
          ]
        }
      ]
    },
    {
      "cell_type": "code",
      "source": [
        "class Student:\n",
        "\n",
        "  country = \"Cyprus\"\n",
        "\n",
        "  #constructor\n",
        "  def __init__(self, name):\n",
        "    self.name = name\n",
        "\n",
        "  def addAddress(self, city, district):\n",
        "    self.city = city\n",
        "    self.district = district\n",
        "\n",
        "\n",
        "student=Student(name=\"joaquim\")\n"
      ],
      "metadata": {
        "id": "r6t5VziM2RLa"
      },
      "execution_count": 7,
      "outputs": []
    },
    {
      "cell_type": "code",
      "source": [
        "student.name\n",
        "\n",
        "student.addAddress(\"Paphos\", \"Paphos\")\n"
      ],
      "metadata": {
        "id": "pR2kcvGq2_e4"
      },
      "execution_count": 10,
      "outputs": []
    },
    {
      "cell_type": "code",
      "source": [
        "student.city\n",
        "student.country"
      ],
      "metadata": {
        "id": "mzx2VtLH26Sv",
        "outputId": "6d298837-5baf-41e2-b171-8a9a5774ac49",
        "colab": {
          "base_uri": "https://localhost:8080/",
          "height": 37
        }
      },
      "execution_count": 12,
      "outputs": [
        {
          "output_type": "execute_result",
          "data": {
            "text/plain": [
              "'Cyprus'"
            ],
            "application/vnd.google.colaboratory.intrinsic+json": {
              "type": "string"
            }
          },
          "metadata": {},
          "execution_count": 12
        }
      ]
    },
    {
      "cell_type": "code",
      "source": [
        "\n",
        "\n",
        "class BankAccount:\n",
        "\n",
        "    transactions = []\n",
        "\n",
        "    def __init__(self, accountNumber):\n",
        "      self.accountNumber = accountNumber\n",
        "\n",
        "    def addTransaction(self,date, amount):\n",
        "      self.date = date\n",
        "      self.amount = amount\n",
        "      self.transactions.append([date, amount])\n",
        ""
      ],
      "metadata": {
        "id": "MLWda2jh4dmN"
      },
      "execution_count": 19,
      "outputs": []
    },
    {
      "cell_type": "code",
      "source": [
        "# it is an instance of the class BankAccount\n",
        "\n",
        "bankAccount = BankAccount(\"123\")\n",
        "\n",
        "bankAccount.addTransaction(\"7/21\", 400)\n",
        "\n",
        "\n",
        "# [b'7/21,400\\r\\n', b'6/23,-350\\r\\n', b'4/16,-25']\n"
      ],
      "metadata": {
        "id": "keeoxgSj5Owj"
      },
      "execution_count": 20,
      "outputs": []
    },
    {
      "cell_type": "code",
      "source": [
        "bankAccount.addTransaction(\"7/21\", 400)"
      ],
      "metadata": {
        "id": "LQRJxW7s9VEw"
      },
      "execution_count": 28,
      "outputs": []
    },
    {
      "cell_type": "code",
      "source": [
        "bankAccount.transactions"
      ],
      "metadata": {
        "id": "ecAllmap6fHx",
        "outputId": "7e364d4e-ecd8-499f-c972-069b4986a65f",
        "colab": {
          "base_uri": "https://localhost:8080/"
        }
      },
      "execution_count": 29,
      "outputs": [
        {
          "output_type": "execute_result",
          "data": {
            "text/plain": [
              "[['7/20/2023', 100], ['7/21', 400]]"
            ]
          },
          "metadata": {},
          "execution_count": 29
        }
      ]
    },
    {
      "cell_type": "code",
      "source": [
        "# Print each transaction\n",
        "for i in bankAccount.transactions:\n",
        "    print(i)"
      ],
      "metadata": {
        "id": "1C7LbCMc9ohY",
        "outputId": "c3b11d38-52d6-404c-d54c-111884088f31",
        "colab": {
          "base_uri": "https://localhost:8080/"
        }
      },
      "execution_count": 30,
      "outputs": [
        {
          "output_type": "stream",
          "name": "stdout",
          "text": [
            "['7/20/2023', 100]\n",
            "['7/21', 400]\n"
          ]
        }
      ]
    },
    {
      "cell_type": "code",
      "source": [
        "lines"
      ],
      "metadata": {
        "id": "bGuyoWMy-H5-",
        "outputId": "e95d1299-887b-489f-f66d-d2591d8c4504",
        "colab": {
          "base_uri": "https://localhost:8080/"
        }
      },
      "execution_count": 31,
      "outputs": [
        {
          "output_type": "execute_result",
          "data": {
            "text/plain": [
              "[b'7/21,400\\r\\n', b'6/23,-350\\r\\n', b'4/16,-25']"
            ]
          },
          "metadata": {},
          "execution_count": 31
        }
      ]
    },
    {
      "cell_type": "code",
      "source": [
        "date, amount=line.decode('utf-8').split(\",\")"
      ],
      "metadata": {
        "id": "VnJoSsez-OBu"
      },
      "execution_count": 34,
      "outputs": []
    },
    {
      "cell_type": "code",
      "source": [
        "junk=['7/21,400\\r\\n', '6/23,-350\\r\\n', '4/16,-25']\n",
        "junk[0].strip()"
      ],
      "metadata": {
        "id": "u-TwTxyM_npV",
        "outputId": "8095d4ff-ed0b-4dfc-bdaa-88c8e28f2c3d",
        "colab": {
          "base_uri": "https://localhost:8080/",
          "height": 37
        }
      },
      "execution_count": 43,
      "outputs": [
        {
          "output_type": "execute_result",
          "data": {
            "text/plain": [
              "'7/21,400'"
            ],
            "application/vnd.google.colaboratory.intrinsic+json": {
              "type": "string"
            }
          },
          "metadata": {},
          "execution_count": 43
        }
      ]
    }
  ]
}