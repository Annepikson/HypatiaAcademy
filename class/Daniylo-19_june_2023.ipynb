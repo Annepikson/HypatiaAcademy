{
  "nbformat": 4,
  "nbformat_minor": 0,
  "metadata": {
    "colab": {
      "provenance": [],
      "include_colab_link": true
    },
    "kernelspec": {
      "name": "python3",
      "display_name": "Python 3"
    },
    "language_info": {
      "name": "python"
    }
  },
  "cells": [
    {
      "cell_type": "markdown",
      "metadata": {
        "id": "view-in-github",
        "colab_type": "text"
      },
      "source": [
        "<a href=\"https://colab.research.google.com/github/werowe/HypatiaAcademy/blob/master/class/Daniylo-19_june_2023.ipynb\" target=\"_parent\"><img src=\"https://colab.research.google.com/assets/colab-badge.svg\" alt=\"Open In Colab\"/></a>"
      ]
    },
    {
      "cell_type": "code",
      "source": [
        "import urllib.request\n",
        "\n",
        "\n",
        "\n",
        "class Transaction:\n",
        "    def __init__(self, date, amount):\n",
        "        self.date = date\n",
        "        self.amount = amount\n",
        "\n",
        "class BankAccount:\n",
        "    def __init__(self):\n",
        "        self.transactions = []\n",
        "\n",
        "    def addTrans(self, transaction):\n",
        "        self.transactions.append(transaction)\n",
        "\n",
        "# Create an instance of BankAccount\n",
        "bankaccount = BankAccount()\n",
        "\n",
        "currURL=\"https://raw.githubusercontent.com/werowe/HypatiaAcademy/master/assignment/transactions.csv\"\n",
        "\n",
        "# Assuming `currURL` contains the URL of the \"transactions.csv\" file\n",
        "\n",
        "response = urllib.request.urlopen(currURL)\n",
        "#OLD OUT OF DATE response = urllib.urlopen(currURL)\n",
        "lines = response.readlines()\n",
        "\n",
        "# Read each line and create transaction objects\n",
        "for line in lines:\n",
        "    # Split the line into date and amount using split()\n",
        "    date, amount = line.decode('utf-8').strip().split(',')\n",
        "\n",
        "    # Create a transaction object\n",
        "    transaction = Transaction(date, amount)\n",
        "\n",
        "    # Add the transaction to the account\n",
        "    bankaccount.addTrans(transaction)\n",
        "\n",
        "# Print each transaction\n",
        "for i in range(len(bankaccount.transactions)):\n",
        "    transaction = bankaccount.transactions[i]\n",
        "    print(f\"Transaction {i+1}: Amount: {transaction.amount}, Date: {transaction.date}\")\n"
      ],
      "metadata": {
        "colab": {
          "base_uri": "https://localhost:8080/"
        },
        "id": "g6oyEcp0Ekhx",
        "outputId": "bdb26d25-b6d2-4c71-84fb-1dc1731f1e79"
      },
      "execution_count": 6,
      "outputs": [
        {
          "output_type": "stream",
          "name": "stdout",
          "text": [
            "Transaction 1: Amount: 400, Date: 7/21\n",
            "Transaction 2: Amount: -350, Date: 6/23\n",
            "Transaction 3: Amount: -25, Date: 4/16\n"
          ]
        }
      ]
    }
  ]
}