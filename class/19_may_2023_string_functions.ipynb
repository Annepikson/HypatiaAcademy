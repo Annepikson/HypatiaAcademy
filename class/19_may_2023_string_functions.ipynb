{
  "nbformat": 4,
  "nbformat_minor": 0,
  "metadata": {
    "colab": {
      "provenance": [],
      "authorship_tag": "ABX9TyPGbS6y4mOvitxkk0Bv7uKW",
      "include_colab_link": true
    },
    "kernelspec": {
      "name": "python3",
      "display_name": "Python 3"
    },
    "language_info": {
      "name": "python"
    }
  },
  "cells": [
    {
      "cell_type": "markdown",
      "metadata": {
        "id": "view-in-github",
        "colab_type": "text"
      },
      "source": [
        "<a href=\"https://colab.research.google.com/github/werowe/HypatiaAcademy/blob/master/class/19_may_2023_string_functions.ipynb\" target=\"_parent\"><img src=\"https://colab.research.google.com/assets/colab-badge.svg\" alt=\"Open In Colab\"/></a>"
      ]
    },
    {
      "cell_type": "code",
      "execution_count": 2,
      "metadata": {
        "colab": {
          "base_uri": "https://localhost:8080/"
        },
        "id": "eltn4KuxAtRv",
        "outputId": "fd9db52e-8ede-47dd-c9b9-5f73b2cacd47"
      },
      "outputs": [
        {
          "output_type": "stream",
          "name": "stdout",
          "text": [
            "2\n",
            "11\n",
            "ab\n"
          ]
        }
      ],
      "source": [
        "\n",
        "print(1+1)\n",
        "\n",
        "\n",
        "# this is called concantenation\n",
        "\n",
        "print(\"1\" + \"1\")\n",
        "\n",
        "\n",
        "print(\"a\" + \"b\")\n",
        "\n",
        "\n",
        "\n"
      ]
    },
    {
      "cell_type": "code",
      "source": [
        "# complicated https://docs.python.org/3/library/string.html\n",
        "\n",
        "# eaier https://www.w3schools.com/python/python_ref_string.asp\n",
        "\n",
        "print(\"walker\".capitalize())\n",
        "\n",
        "print(\"walker\".upper())"
      ],
      "metadata": {
        "colab": {
          "base_uri": "https://localhost:8080/"
        },
        "id": "NrqTpCacBK0Y",
        "outputId": "3492c88b-cd4a-45d5-ed47-cbee07827d2a"
      },
      "execution_count": 4,
      "outputs": [
        {
          "output_type": "stream",
          "name": "stdout",
          "text": [
            "Walker\n",
            "WALKER\n"
          ]
        }
      ]
    },
    {
      "cell_type": "code",
      "source": [
        "txt = \"Hello, welcome to my world.\"\n",
        "#      012345678901234\n",
        "#              1234567.       <-----how long it is\n",
        "      \n",
        "\n",
        "word=\"welcome\"\n",
        "\n",
        "x = txt.find(word)\n",
        "\n",
        "print(\"this number %i is where %s is found in the string %s\" % (x, word, txt))"
      ],
      "metadata": {
        "colab": {
          "base_uri": "https://localhost:8080/"
        },
        "id": "TejMVcN8CBXR",
        "outputId": "e1755206-994a-40ca-bb62-fba834eba4ea"
      },
      "execution_count": 11,
      "outputs": [
        {
          "output_type": "stream",
          "name": "stdout",
          "text": [
            "this number 7 is where welcome is found in the string Hello, welcome to my world.\n"
          ]
        }
      ]
    },
    {
      "cell_type": "code",
      "source": [
        "# how can we use the find() and len() functions to print what we found?\n",
        "\n",
        "print(\"the length of %s is %i\" % (word,len(word)))\n",
        "\n",
        "print(txt[7:7+7])\n",
        "print(txt[x:x+len(word)])\n"
      ],
      "metadata": {
        "colab": {
          "base_uri": "https://localhost:8080/"
        },
        "id": "xVekqUB9DUmx",
        "outputId": "bfac0685-5a09-4774-dedd-27b49f20c839"
      },
      "execution_count": 22,
      "outputs": [
        {
          "output_type": "stream",
          "name": "stdout",
          "text": [
            "the length of welcome is 7\n",
            "welcome\n",
            "welcome\n"
          ]
        }
      ]
    },
    {
      "cell_type": "code",
      "source": [
        "#start at 7 and then print 7 more letters\n",
        "print(txt[7:7+7])\n",
        "\n",
        "print(txt[x:x+len(word)])"
      ],
      "metadata": {
        "colab": {
          "base_uri": "https://localhost:8080/"
        },
        "id": "zxdo5HhID_sB",
        "outputId": "da0c8fc8-b76e-4c3d-c28f-829ab565e7f4"
      },
      "execution_count": 24,
      "outputs": [
        {
          "output_type": "stream",
          "name": "stdout",
          "text": [
            "welcome\n",
            "welcome\n"
          ]
        }
      ]
    },
    {
      "cell_type": "code",
      "source": [
        "print(x)\n",
        "print(len(word))\n",
        "print(x+len(word))"
      ],
      "metadata": {
        "colab": {
          "base_uri": "https://localhost:8080/"
        },
        "id": "pDrnGXe4E-U3",
        "outputId": "6b934dad-abc0-4d6a-b2de-4838bc6de645"
      },
      "execution_count": 25,
      "outputs": [
        {
          "output_type": "stream",
          "name": "stdout",
          "text": [
            "7\n",
            "7\n",
            "14\n"
          ]
        }
      ]
    },
    {
      "cell_type": "code",
      "source": [
        "len(\"Joaquim\")\n"
      ],
      "metadata": {
        "colab": {
          "base_uri": "https://localhost:8080/"
        },
        "id": "jemQtOvvFUzZ",
        "outputId": "3e7b6a3d-7f53-41de-f6b9-f0fdb6bc1b81"
      },
      "execution_count": 26,
      "outputs": [
        {
          "output_type": "execute_result",
          "data": {
            "text/plain": [
              "7"
            ]
          },
          "metadata": {},
          "execution_count": 26
        }
      ]
    },
    {
      "cell_type": "code",
      "source": [
        "\"Joaquim\".find(\"qu\")"
      ],
      "metadata": {
        "colab": {
          "base_uri": "https://localhost:8080/"
        },
        "id": "qsHUz5_XFbXf",
        "outputId": "7e21d0e2-a711-40b7-d93d-c26f1963e1b6"
      },
      "execution_count": 29,
      "outputs": [
        {
          "output_type": "execute_result",
          "data": {
            "text/plain": [
              "3"
            ]
          },
          "metadata": {},
          "execution_count": 29
        }
      ]
    },
    {
      "cell_type": "code",
      "source": [
        "\"Joaquim\"[3:5]"
      ],
      "metadata": {
        "colab": {
          "base_uri": "https://localhost:8080/",
          "height": 37
        },
        "id": "_XoVMG-NFprT",
        "outputId": "00caf3de-08ea-4471-d9de-0313a125c40c"
      },
      "execution_count": 30,
      "outputs": [
        {
          "output_type": "execute_result",
          "data": {
            "text/plain": [
              "'qu'"
            ],
            "application/vnd.google.colaboratory.intrinsic+json": {
              "type": "string"
            }
          },
          "metadata": {},
          "execution_count": 30
        }
      ]
    },
    {
      "cell_type": "code",
      "source": [
        "'''\n",
        "Other programming languages have easier functions to print parts of a string\n",
        "\n",
        "mid\n",
        "substring\n",
        "left\n",
        "right\n",
        "\n",
        "like this is Google sheets:\n",
        "\n",
        "Joaquim\t     Jo\t=LEFT(A1,\"2\")\n",
        "\t            qu\t=mid(A1,4,2)\n",
        "\n",
        "\n",
        "'''\n"
      ],
      "metadata": {
        "id": "KkJkWJEYFzp8"
      },
      "execution_count": null,
      "outputs": []
    },
    {
      "cell_type": "code",
      "source": [
        "txt"
      ],
      "metadata": {
        "colab": {
          "base_uri": "https://localhost:8080/",
          "height": 37
        },
        "id": "FZp9IDJ9G9WK",
        "outputId": "b0d05586-3c4d-4bd0-8336-0df6a651023a"
      },
      "execution_count": 31,
      "outputs": [
        {
          "output_type": "execute_result",
          "data": {
            "text/plain": [
              "'Hello, welcome to my world.'"
            ],
            "application/vnd.google.colaboratory.intrinsic+json": {
              "type": "string"
            }
          },
          "metadata": {},
          "execution_count": 31
        }
      ]
    },
    {
      "cell_type": "code",
      "source": [
        "\"ilias\"[4]"
      ],
      "metadata": {
        "colab": {
          "base_uri": "https://localhost:8080/",
          "height": 37
        },
        "id": "ncduV4DgMqaH",
        "outputId": "4f11fa30-be01-4b03-d12b-d62de52b2fe7"
      },
      "execution_count": 75,
      "outputs": [
        {
          "output_type": "execute_result",
          "data": {
            "text/plain": [
              "'s'"
            ],
            "application/vnd.google.colaboratory.intrinsic+json": {
              "type": "string"
            }
          },
          "metadata": {},
          "execution_count": 75
        }
      ]
    },
    {
      "cell_type": "code",
      "source": [
        "'''\n",
        "last = it's the position of the last letter\n",
        "\n",
        "txt[a:b]<-------means print from position a b number of letters\n",
        "\n",
        "\n",
        "txt[a]-----print the letter at position a\n",
        "\n",
        "txt[last:last-1]<------this just avoids hard coding.  we ue last-1\n",
        "\n",
        "\n",
        "'''\n",
        "\n",
        "last=len(txt)-1\n",
        "print(last)\n",
        "print(txt[last:last+1])\n",
        "\n",
        "#Hello, welcome to my world.\n",
        "#012345678901234567890123456\n"
      ],
      "metadata": {
        "colab": {
          "base_uri": "https://localhost:8080/"
        },
        "id": "md6U4ULoG_pd",
        "outputId": "904aae2d-9444-409c-f677-5e9fbdcb1eb4"
      },
      "execution_count": 77,
      "outputs": [
        {
          "output_type": "stream",
          "name": "stdout",
          "text": [
            "8\n",
            "\n",
            "\n"
          ]
        }
      ]
    },
    {
      "cell_type": "code",
      "source": [
        "print(txt)\n",
        "\n",
        "for i in range(len(txt)-1):\n",
        "  print(i, txt[i], end=\" || \")"
      ],
      "metadata": {
        "colab": {
          "base_uri": "https://localhost:8080/"
        },
        "id": "M8qkaykSHtpy",
        "outputId": "6a59e5d3-9acb-4921-f7cd-09ecee60f052"
      },
      "execution_count": 49,
      "outputs": [
        {
          "output_type": "stream",
          "name": "stdout",
          "text": [
            "Hello, welcome to my world.\n",
            "0 H || 1 e || 2 l || 3 l || 4 o || 5 , || 6   || 7 w || 8 e || 9 l || 10 c || 11 o || 12 m || 13 e || 14   || 15 t || 16 o || 17   || 18 m || 19 y || 20   || 21 w || 22 o || 23 r || 24 l || 25 d || "
          ]
        }
      ]
    },
    {
      "cell_type": "code",
      "source": [
        "for i in range(3):\n",
        "  print(i)"
      ],
      "metadata": {
        "colab": {
          "base_uri": "https://localhost:8080/"
        },
        "id": "8Xs0rILXJj9f",
        "outputId": "19273ca2-8e1f-4d31-8c6d-21a312ec8f57"
      },
      "execution_count": 50,
      "outputs": [
        {
          "output_type": "stream",
          "name": "stdout",
          "text": [
            "0\n",
            "1\n",
            "2\n"
          ]
        }
      ]
    },
    {
      "cell_type": "code",
      "source": [
        "len(txt)"
      ],
      "metadata": {
        "colab": {
          "base_uri": "https://localhost:8080/"
        },
        "id": "RB-nlH5ZIePg",
        "outputId": "18fa0e12-9129-44a9-b27c-b19e3b6a439c"
      },
      "execution_count": 44,
      "outputs": [
        {
          "output_type": "execute_result",
          "data": {
            "text/plain": [
              "27"
            ]
          },
          "metadata": {},
          "execution_count": 44
        }
      ]
    },
    {
      "cell_type": "code",
      "source": [
        "print(\"the last letters is \" + txt[len(txt)-1])\n",
        "\n",
        "print(\"the length is \", len(txt))\n",
        "\n",
        "print(\"the last letter is 1 minus that since we start counting at zero\", txt[len(txt)-1] )\n"
      ],
      "metadata": {
        "colab": {
          "base_uri": "https://localhost:8080/"
        },
        "id": "mliBO-wLIGHR",
        "outputId": "fe9be600-79ab-48e8-d2a8-9825b8b2f488"
      },
      "execution_count": 46,
      "outputs": [
        {
          "output_type": "stream",
          "name": "stdout",
          "text": [
            "the last letters is .\n",
            "the length is  27\n",
            "the last letter is 1 minus that since we start counting at zero .\n"
          ]
        }
      ]
    },
    {
      "cell_type": "code",
      "source": [],
      "metadata": {
        "colab": {
          "base_uri": "https://localhost:8080/",
          "height": 37
        },
        "id": "gDWYLzEOG1C8",
        "outputId": "89fc8e55-b3b9-45b2-d827-77e768b46f72"
      },
      "execution_count": 69,
      "outputs": [
        {
          "output_type": "execute_result",
          "data": {
            "text/plain": [
              "'\\n\\nwrite functions to do: \\n\\nleft\\nright\\nmid\\n\\n\\n'"
            ],
            "application/vnd.google.colaboratory.intrinsic+json": {
              "type": "string"
            }
          },
          "metadata": {},
          "execution_count": 69
        }
      ]
    },
    {
      "cell_type": "code",
      "source": [
        "txt = \"565543\"\n",
        "\n",
        "x = txt.isnumeric()\n",
        "\n",
        "print(x)"
      ],
      "metadata": {
        "colab": {
          "base_uri": "https://localhost:8080/"
        },
        "id": "yhdGvV7hG8i0",
        "outputId": "4254f0e4-16d9-49c3-c7f5-7dc127c391d2"
      },
      "execution_count": 51,
      "outputs": [
        {
          "output_type": "stream",
          "name": "stdout",
          "text": [
            "True\n"
          ]
        }
      ]
    },
    {
      "cell_type": "code",
      "source": [
        "txt = \"565xxxx543\"\n",
        "\n",
        "x = txt.isnumeric()\n",
        "\n",
        "print(x)"
      ],
      "metadata": {
        "colab": {
          "base_uri": "https://localhost:8080/"
        },
        "id": "80h7mq__J3KJ",
        "outputId": "bae02c89-c087-47d7-8cd1-56823fe9c69a"
      },
      "execution_count": 52,
      "outputs": [
        {
          "output_type": "stream",
          "name": "stdout",
          "text": [
            "False\n"
          ]
        }
      ]
    },
    {
      "cell_type": "code",
      "source": [
        "txt = \"abc&\"\n",
        "\n",
        "x = txt.isalpha()\n",
        "\n",
        "print(x)"
      ],
      "metadata": {
        "colab": {
          "base_uri": "https://localhost:8080/"
        },
        "id": "pC0thMRmJ-Ng",
        "outputId": "a3dd84cc-af41-4901-a231-3a5de35822d9"
      },
      "execution_count": 56,
      "outputs": [
        {
          "output_type": "stream",
          "name": "stdout",
          "text": [
            "False\n"
          ]
        }
      ]
    },
    {
      "cell_type": "code",
      "source": [
        "txt = \"Hello! Are you #1?\\t\\t\\t\\tLika\"\n",
        "\n",
        "x = txt.isprintable()\n",
        "print(txt)\n",
        "print(x)\n",
        "\n",
        " \n",
        " "
      ],
      "metadata": {
        "colab": {
          "base_uri": "https://localhost:8080/"
        },
        "id": "MkNsonzDKN7f",
        "outputId": "c684249a-89be-49e0-890f-d8651c39c47b"
      },
      "execution_count": 61,
      "outputs": [
        {
          "output_type": "stream",
          "name": "stdout",
          "text": [
            "Hello! Are you #1?\t\t\t\tLika\n",
            "False\n"
          ]
        }
      ]
    },
    {
      "cell_type": "code",
      "source": [
        "txt = \"The History of Ukraine\"\n",
        "\n",
        "x = txt.istitle()\n",
        "\n",
        "print(x)\n",
        "\n"
      ],
      "metadata": {
        "colab": {
          "base_uri": "https://localhost:8080/"
        },
        "id": "_zhoisSxLFrG",
        "outputId": "ed2892a0-efa2-40fb-a506-b31604ae9496"
      },
      "execution_count": 64,
      "outputs": [
        {
          "output_type": "stream",
          "name": "stdout",
          "text": [
            "False\n"
          ]
        }
      ]
    },
    {
      "cell_type": "code",
      "source": [
        "txt = \"banana\\n\\n\\n\"\n",
        "\n",
        "x = txt.rstrip()\n",
        "print(\"take out the blank lines\", x)\n",
        "print(\"leave in the blank lines\", txt)\n",
        "print(\"next line\")"
      ],
      "metadata": {
        "colab": {
          "base_uri": "https://localhost:8080/"
        },
        "id": "-OFMA3Y_LYb_",
        "outputId": "2383c93f-d0f7-46cb-e506-ae8bad07faee"
      },
      "execution_count": 68,
      "outputs": [
        {
          "output_type": "stream",
          "name": "stdout",
          "text": [
            "take out the blank lines banana\n",
            "leave in the blank lines banana\n",
            "\n",
            "\n",
            "\n",
            "next line\n"
          ]
        }
      ]
    },
    {
      "cell_type": "code",
      "source": [
        "'''\n",
        "homework for Lika or anyone else who wants something difficult:\n",
        "\n",
        "write functions to do: \n",
        "\n",
        "left\n",
        "right\n",
        "mid\n",
        "\n",
        "Homework for everyone else:\n",
        "\n",
        "1.  use the find() and len() functions to print the word 'doctor' in 'where is the doctor I saw'.\n",
        "\n",
        "\n",
        "these are the most important concepts you need to understand in order to do the homework:\n",
        "\n",
        " \n",
        "last = it's the position of the last letter\n",
        "\n",
        "txt[a:b]<-------means print from position a b number of letters\n",
        "\n",
        "\n",
        "txt[a]-----print the letter at position a\n",
        "\n",
        "txt[last:last-1]<------this just avoids hard coding.  we ue last-1\n",
        "\n",
        "\n",
        "\n",
        "'''"
      ],
      "metadata": {
        "colab": {
          "base_uri": "https://localhost:8080/",
          "height": 126
        },
        "id": "SxeYdReOL-ld",
        "outputId": "40005758-7e6d-4dcb-9932-9bc62bda494f"
      },
      "execution_count": 78,
      "outputs": [
        {
          "output_type": "execute_result",
          "data": {
            "text/plain": [
              "\"\\nhomework for Lika or anyone else who wants something difficult:\\n\\nwrite functions to do: \\n\\nleft\\nright\\nmid\\n\\nHomework for everyone else:\\n\\n1.  use the find() and len() functions to print the word 'doctor' in 'where is the doctor I saw'.\\n\\n\\nthese are the most important concepts you need to understand in order to do the homework:\\n\\n \\nlast = it's the position of the last letter\\n\\ntxt[a:b]<-------means print from position a b number of letters\\n\\n\\ntxt[a]-----print the letter at position a\\n\\ntxt[last:last-1]<------this just avoids hard coding.  we ue last-1\\n\\n\\n\\n\""
            ],
            "application/vnd.google.colaboratory.intrinsic+json": {
              "type": "string"
            }
          },
          "metadata": {},
          "execution_count": 78
        }
      ]
    }
  ]
}