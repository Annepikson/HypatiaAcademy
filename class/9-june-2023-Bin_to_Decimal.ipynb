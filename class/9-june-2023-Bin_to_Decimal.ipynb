{
  "nbformat": 4,
  "nbformat_minor": 0,
  "metadata": {
    "colab": {
      "provenance": [],
      "authorship_tag": "ABX9TyPjIbGCZBJXKwrFsyZ3CsQb",
      "include_colab_link": true
    },
    "kernelspec": {
      "name": "python3",
      "display_name": "Python 3"
    },
    "language_info": {
      "name": "python"
    }
  },
  "cells": [
    {
      "cell_type": "markdown",
      "metadata": {
        "id": "view-in-github",
        "colab_type": "text"
      },
      "source": [
        "<a href=\"https://colab.research.google.com/github/werowe/HypatiaAcademy/blob/master/class/9-june-2023-Bin_to_Decimal.ipynb\" target=\"_parent\"><img src=\"https://colab.research.google.com/assets/colab-badge.svg\" alt=\"Open In Colab\"/></a>"
      ]
    },
    {
      "cell_type": "code",
      "execution_count": 59,
      "metadata": {
        "colab": {
          "base_uri": "https://localhost:8080/"
        },
        "id": "R-ZYA_AD7SBK",
        "outputId": "da8da3a1-c5ad-4b24-8bb6-c65a399a2d1c"
      },
      "outputs": [
        {
          "output_type": "stream",
          "name": "stdout",
          "text": [
            "(2 * int(binary[i])) = 2 working= 128  digit= 1  i= 0  exponent= 7\n",
            "(2 * int(binary[i])) = 2 working= 192  digit= 1  i= 1  exponent= 6\n",
            "(2 * int(binary[i])) = 2 working= 224  digit= 1  i= 2  exponent= 5\n",
            "(2 * int(binary[i])) = 2 working= 240  digit= 1  i= 3  exponent= 4\n",
            "(2 * int(binary[i])) = 2 working= 248  digit= 1  i= 4  exponent= 3\n",
            "(2 * int(binary[i])) = 2 working= 252  digit= 1  i= 5  exponent= 2\n",
            "(2 * int(binary[i])) = 2 working= 254  digit= 1  i= 6  exponent= 1\n",
            "(2 * int(binary[i])) = 0 working= 254  digit= 0  i= 7  exponent= 0\n",
            "my calculation  254\n",
            "checking 254\n"
          ]
        }
      ],
      "source": [
        "def binToDec(binary):\n",
        "\n",
        "    if not isinstance(binary,str):\n",
        "      return \"must be string\"\n",
        "\n",
        "    if len(binary) != 8:\n",
        "      return \"binary number must be 8 bits\"\n",
        "\n",
        "    \n",
        "    working = 0\n",
        "    exponent = 0\n",
        "\n",
        "    for i in range(8):\n",
        "      \n",
        "      try:\n",
        "       if binary[i] not in ['0','1']:\n",
        "          raise ValueError(\"only 1 or 0 allowed\")\n",
        "      except ValueError as err:\n",
        "        print(err)\n",
        "\n",
        "      exponent = 7 - i \n",
        "\n",
        "      if i == 7 and binary[i]=='0':\n",
        "        1 == 1\n",
        "      else:\n",
        "        working = working + (2 * int(binary[i]))**exponent\n",
        "  \n",
        "      \n",
        "      print(\"(2 * int(binary[i])) =\",  (2 * int(binary[i])), end = \" \")\n",
        "     \n",
        "      print(\"working=\", working, \" digit=\" , binary[i], \" i=\", i, \" exponent=\", exponent)\n",
        "\n",
        "\n",
        "    return working\n",
        "\n",
        "      \n",
        "binary=(\"11111110\")\n",
        "\n",
        "\n",
        "print(\"my calculation \", binToDec(binary))\n",
        "\n",
        "print(\"checking\", int(binary,2))\n",
        "  "
      ]
    },
    {
      "cell_type": "code",
      "source": [
        "binary[7]"
      ],
      "metadata": {
        "id": "bpN4GIdtAefl",
        "outputId": "efbfb742-8e29-4781-c996-f0c4d5c99b3c",
        "colab": {
          "base_uri": "https://localhost:8080/",
          "height": 37
        }
      },
      "execution_count": 50,
      "outputs": [
        {
          "output_type": "execute_result",
          "data": {
            "text/plain": [
              "'0'"
            ],
            "application/vnd.google.colaboratory.intrinsic+json": {
              "type": "string"
            }
          },
          "metadata": {},
          "execution_count": 50
        }
      ]
    },
    {
      "cell_type": "code",
      "source": [
        "toConvert=7\n",
        "answer=toConvert\n",
        "remainder=answer\n",
        "\n",
        "bin=['0','0','0','0','0','0','0','0']\n",
        "\n",
        "\n",
        "def toDecimal(answer):\n",
        "\n",
        "    exponent=int(math.log(answer,2))\n",
        "    print(\"answer %i log 2 = %i\" % (answer,exponent), end=\" \")\n",
        "    position=7-exponent\n",
        "    bin[position]=str(1)\n",
        "    remainder=answer-2**exponent\n",
        "    print(\"remainder=\", remainder, end=\" \")\n",
        "    print(\" array position=\", position, end=\" \")\n",
        "    print(\"update bit \", bin, \"\\n\")\n",
        "    return remainder\n",
        "  \n",
        "  \n",
        "if toConvert > 255:\n",
        "  print(\"max number is 255\")\n",
        "else:\n",
        "  while (answer > 0):\n",
        "    answer = toDecimal(answer)\n",
        "\n",
        "print(\"\\n\\ncalculated: \\t%s binary converted to decimal is %s\" % ( str(toConvert),  \"\".join(bin)))\n",
        "print(\"check: \\t\\t%i binary converted to decimal is %s \" % ( toConvert, \"{0:#b}\".format(toConvert)))"
      ],
      "metadata": {
        "colab": {
          "base_uri": "https://localhost:8080/"
        },
        "id": "EWvVXUdRfjvc",
        "outputId": "3022a500-56ff-42db-fe4e-694492763820"
      },
      "execution_count": null,
      "outputs": [
        {
          "output_type": "stream",
          "name": "stdout",
          "text": [
            "answer 7 log 2 = 2 remainder= 3  array position= 5 update bit  ['0', '0', '0', '0', '0', '1', '0', '0'] \n",
            "\n",
            "answer 3 log 2 = 1 remainder= 1  array position= 6 update bit  ['0', '0', '0', '0', '0', '1', '1', '0'] \n",
            "\n",
            "answer 1 log 2 = 0 remainder= 0  array position= 7 update bit  ['0', '0', '0', '0', '0', '1', '1', '1'] \n",
            "\n",
            "\n",
            "\n",
            "calculated: \t7 binary converted to decimal is 00000111\n",
            "check: \t\t7 binary converted to decimal is 0b111 \n"
          ]
        }
      ]
    }
  ]
}