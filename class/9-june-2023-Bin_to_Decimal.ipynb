{
  "nbformat": 4,
  "nbformat_minor": 0,
  "metadata": {
    "colab": {
      "provenance": [],
      "authorship_tag": "ABX9TyOrt2oFOkQEWfHcDb1OZvrN",
      "include_colab_link": true
    },
    "kernelspec": {
      "name": "python3",
      "display_name": "Python 3"
    },
    "language_info": {
      "name": "python"
    }
  },
  "cells": [
    {
      "cell_type": "markdown",
      "metadata": {
        "id": "view-in-github",
        "colab_type": "text"
      },
      "source": [
        "<a href=\"https://colab.research.google.com/github/werowe/HypatiaAcademy/blob/master/class/9-june-2023-Bin_to_Decimal.ipynb\" target=\"_parent\"><img src=\"https://colab.research.google.com/assets/colab-badge.svg\" alt=\"Open In Colab\"/></a>"
      ]
    },
    {
      "cell_type": "code",
      "execution_count": 48,
      "metadata": {
        "colab": {
          "base_uri": "https://localhost:8080/"
        },
        "id": "R-ZYA_AD7SBK",
        "outputId": "6498861b-cf2b-46e3-d804-aeec0abede91"
      },
      "outputs": [
        {
          "output_type": "stream",
          "name": "stdout",
          "text": [
            "sum  128  digit  1  i 0  exponent  7\n",
            "sum  192  digit  1  i 1  exponent  6\n",
            "sum  224  digit  1  i 2  exponent  5\n",
            "sum  240  digit  1  i 3  exponent  4\n",
            "sum  248  digit  1  i 4  exponent  3\n",
            "sum  252  digit  1  i 5  exponent  2\n",
            "sum  254  digit  1  i 6  exponent  1\n",
            "sum  255  digit  1  i 7  exponent  0\n",
            "my calculation  255\n",
            "checking 255\n"
          ]
        }
      ],
      "source": [
        "def binToDec(bin):\n",
        "\n",
        "    if not isinstance(bin,str):\n",
        "      return \"must be string\"\n",
        "\n",
        "    if len(bin) != 8:\n",
        "      return \"binary number must be 8 bits\"\n",
        "\n",
        "    \n",
        "    sum = 0\n",
        "    exponent = 0\n",
        "\n",
        "    for i in range(8):\n",
        "      \n",
        "      try:\n",
        "       if bin[i] not in ['0','1']:\n",
        "          raise ValueError(\"only 1 or 0 allowed\")\n",
        "      except ValueError as err:\n",
        "        print(err)\n",
        "\n",
        "      exponent = 7 - i \n",
        "\n",
        "      sum = sum + (2 * int(bin[i]))**exponent\n",
        "      print(\"sum \", sum, \" digit \" , bin[i], \" i\", i, \" exponent \", exponent)\n",
        "\n",
        "\n",
        "    return sum\n",
        "\n",
        "      \n",
        "binary=(\"11111111\")\n",
        "\n",
        "\n",
        "print(\"my calculation \", binToDec(binary))\n",
        "\n",
        "print(\"checking\", int(binary,2))\n",
        "  "
      ]
    },
    {
      "cell_type": "code",
      "source": [],
      "metadata": {
        "colab": {
          "base_uri": "https://localhost:8080/"
        },
        "id": "Ri8a_5irBqiZ",
        "outputId": "6219d48a-b795-4b71-f705-4c3785894590"
      },
      "execution_count": 19,
      "outputs": [
        {
          "output_type": "execute_result",
          "data": {
            "text/plain": [
              "True"
            ]
          },
          "metadata": {},
          "execution_count": 19
        }
      ]
    }
  ]
}