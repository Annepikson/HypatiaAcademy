{
  "nbformat": 4,
  "nbformat_minor": 0,
  "metadata": {
    "colab": {
      "provenance": [],
      "authorship_tag": "ABX9TyP5/eTNVhKbHdEhBggCs/pj",
      "include_colab_link": true
    },
    "kernelspec": {
      "name": "python3",
      "display_name": "Python 3"
    },
    "language_info": {
      "name": "python"
    }
  },
  "cells": [
    {
      "cell_type": "markdown",
      "metadata": {
        "id": "view-in-github",
        "colab_type": "text"
      },
      "source": [
        "<a href=\"https://colab.research.google.com/github/Annepikson/HypatiaAcademy/blob/master/class/28_September_2023.ipynb\" target=\"_parent\"><img src=\"https://colab.research.google.com/assets/colab-badge.svg\" alt=\"Open In Colab\"/></a>"
      ]
    },
    {
      "cell_type": "code",
      "execution_count": 11,
      "metadata": {
        "colab": {
          "base_uri": "https://localhost:8080/"
        },
        "id": "hNLH7z9ELokG",
        "outputId": "9976a13b-3147-4b09-e5ec-996472976c8a"
      },
      "outputs": [
        {
          "output_type": "stream",
          "name": "stdout",
          "text": [
            "mango\n",
            "apple\n",
            "banana\n",
            "kiwi\n",
            "strawberry\n"
          ]
        }
      ],
      "source": [
        "# homework 1\n",
        "# first way\n",
        "\n",
        "fruits = ['mango','apple','banana','kiwi','strawberry']\n",
        "for i in fruits:\n",
        "  print(i)"
      ]
    },
    {
      "cell_type": "code",
      "source": [
        "# second way\n",
        "\n",
        "for i in range(len(fruits)):\n",
        "  print(fruits[i])"
      ],
      "metadata": {
        "colab": {
          "base_uri": "https://localhost:8080/"
        },
        "id": "PUY6r7p7RnVv",
        "outputId": "5ec7f70a-f679-4a7d-dcd9-0247b1051785"
      },
      "execution_count": 12,
      "outputs": [
        {
          "output_type": "stream",
          "name": "stdout",
          "text": [
            "mango\n",
            "apple\n",
            "banana\n",
            "kiwi\n",
            "strawberry\n"
          ]
        }
      ]
    },
    {
      "cell_type": "code",
      "source": [
        "# homework 2\n",
        "\n",
        "counter = 0\n",
        "while counter < 11:\n",
        "  print(counter)\n",
        "  counter=counter + 1"
      ],
      "metadata": {
        "colab": {
          "base_uri": "https://localhost:8080/"
        },
        "id": "Ru-BRZGHQtkl",
        "outputId": "9ced7b35-1bd0-4842-f16e-f9b619533a4f"
      },
      "execution_count": 14,
      "outputs": [
        {
          "output_type": "stream",
          "name": "stdout",
          "text": [
            "0\n",
            "1\n",
            "2\n",
            "3\n",
            "4\n",
            "5\n",
            "6\n",
            "7\n",
            "8\n",
            "9\n",
            "10\n"
          ]
        }
      ]
    },
    {
      "cell_type": "markdown",
      "source": [],
      "metadata": {
        "id": "afxM0Y63Luli"
      }
    }
  ]
}