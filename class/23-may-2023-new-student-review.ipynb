{
 "cells": [
  {
   "cell_type": "code",
   "execution_count": 2,
   "id": "0fd04c42",
   "metadata": {},
   "outputs": [
    {
     "name": "stdout",
     "output_type": "stream",
     "text": [
      "3\n"
     ]
    }
   ],
   "source": [
    "x=1\n",
    "y = 2\n",
    "print(x + y)\n",
    "\n"
   ]
  },
  {
   "cell_type": "code",
   "execution_count": 3,
   "id": "1fabff82",
   "metadata": {},
   "outputs": [
    {
     "name": "stdout",
     "output_type": "stream",
     "text": [
      "ab\n"
     ]
    }
   ],
   "source": [
    "a=\"a\"\n",
    "b=\"b\"\n",
    "\n",
    "print(a+b)\n"
   ]
  },
  {
   "cell_type": "code",
   "execution_count": 5,
   "id": "64eb7725",
   "metadata": {},
   "outputs": [],
   "source": [
    "#here is a dictionary\n",
    "\n",
    "student = { \"name\": \"Gleb Loginov\",\n",
    "            \"age\": 11,\n",
    "            \"isBoy\": True\n",
    "          }"
   ]
  },
  {
   "cell_type": "code",
   "execution_count": 6,
   "id": "d9057370",
   "metadata": {},
   "outputs": [
    {
     "name": "stdout",
     "output_type": "stream",
     "text": [
      "{'name': 'Gleb Loginov', 'age': 11, 'isBoy': True}\n"
     ]
    }
   ],
   "source": [
    "print(student)\n"
   ]
  },
  {
   "cell_type": "code",
   "execution_count": 7,
   "id": "a4008a81",
   "metadata": {},
   "outputs": [
    {
     "name": "stdout",
     "output_type": "stream",
     "text": [
      "Gleb Loginov\n"
     ]
    }
   ],
   "source": [
    "print(student['name'])"
   ]
  },
  {
   "cell_type": "code",
   "execution_count": 8,
   "id": "60847d86",
   "metadata": {},
   "outputs": [
    {
     "name": "stdout",
     "output_type": "stream",
     "text": [
      "['Walker', 'Gleb', 'Sofia']\n"
     ]
    }
   ],
   "source": [
    "# this is a list\n",
    "\n",
    "students = [\"Walker\", \"Gleb\", \"Sofia\"]\n",
    "\n",
    "print(students)\n",
    "\n"
   ]
  },
  {
   "cell_type": "code",
   "execution_count": 11,
   "id": "059e9c24",
   "metadata": {},
   "outputs": [
    {
     "name": "stdout",
     "output_type": "stream",
     "text": [
      "Sofia\n"
     ]
    }
   ],
   "source": [
    "print(students[2])"
   ]
  },
  {
   "cell_type": "code",
   "execution_count": 12,
   "id": "16d95108",
   "metadata": {},
   "outputs": [
    {
     "name": "stdout",
     "output_type": "stream",
     "text": [
      "Walker\n",
      "Gleb\n",
      "Sofia\n"
     ]
    }
   ],
   "source": [
    "# how can we loop through and print all students:\n",
    "\n",
    "for student in students:\n",
    "    print(student)"
   ]
  },
  {
   "cell_type": "code",
   "execution_count": 13,
   "id": "0f022530",
   "metadata": {},
   "outputs": [
    {
     "name": "stdout",
     "output_type": "stream",
     "text": [
      "the first student is  Walker\n"
     ]
    }
   ],
   "source": [
    "# logic.  if statement\n",
    "\n",
    "if students[0] == \"Walker\":\n",
    "    print(\"the first student is \", students[0])"
   ]
  },
  {
   "cell_type": "code",
   "execution_count": null,
   "id": "8a100948",
   "metadata": {},
   "outputs": [],
   "source": []
  }
 ],
 "metadata": {
  "kernelspec": {
   "display_name": "Python 3 (ipykernel)",
   "language": "python",
   "name": "python3"
  },
  "language_info": {
   "codemirror_mode": {
    "name": "ipython",
    "version": 3
   },
   "file_extension": ".py",
   "mimetype": "text/x-python",
   "name": "python",
   "nbconvert_exporter": "python",
   "pygments_lexer": "ipython3",
   "version": "3.10.9"
  }
 },
 "nbformat": 4,
 "nbformat_minor": 5
}
