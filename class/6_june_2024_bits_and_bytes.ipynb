{
  "nbformat": 4,
  "nbformat_minor": 0,
  "metadata": {
    "colab": {
      "provenance": [],
      "authorship_tag": "ABX9TyNtgEQrEPJI0uaD8zWE4zAa",
      "include_colab_link": true
    },
    "kernelspec": {
      "name": "python3",
      "display_name": "Python 3"
    },
    "language_info": {
      "name": "python"
    }
  },
  "cells": [
    {
      "cell_type": "markdown",
      "metadata": {
        "id": "view-in-github",
        "colab_type": "text"
      },
      "source": [
        "<a href=\"https://colab.research.google.com/github/werowe/HypatiaAcademy/blob/master/class/6_june_2024_bits_and_bytes.ipynb\" target=\"_parent\"><img src=\"https://colab.research.google.com/assets/colab-badge.svg\" alt=\"Open In Colab\"/></a>"
      ]
    },
    {
      "cell_type": "code",
      "execution_count": 14,
      "metadata": {
        "colab": {
          "base_uri": "https://localhost:8080/"
        },
        "id": "ejJWDlVZxnXV",
        "outputId": "09f6742b-e530-4e28-b31a-15e3928e207c"
      },
      "outputs": [
        {
          "output_type": "execute_result",
          "data": {
            "text/plain": [
              "b'11111'"
            ]
          },
          "metadata": {},
          "execution_count": 14
        }
      ],
      "source": [
        "'''\n",
        "\n",
        "The computer stores data in bits and bytes.\n",
        "\n",
        "A bit is a single unit of data.  Bits are either 0 or 1.\n",
        "\n",
        "A byte is 8 bits.  \n",
        "\n",
        "All of this are the letter \"D\"\n",
        "\n",
        "68 - decima\n",
        "104- octal\n",
        "44. -  hexadecimal\n",
        "01000100. - binary\n",
        "D - ASCII letter a, b, c, A, B, C, &, $ \n",
        "\n",
        "\n",
        "binary numbers are base 2\n",
        "\n",
        "b'000' = 0\n",
        "b'001' = 1\n",
        "b'010' = 2 \n",
        "b'010' = 3 \n",
        "\n",
        "decimal numbers are base 10\n",
        "\n",
        "hexademical numbers are base 16\n",
        "\n",
        "\n",
        "'''\n"
      ]
    },
    {
      "cell_type": "code",
      "source": [
        "#321 = 300 + 20 + 1\n",
        "\n",
        "3 * (10**2) + 2 * (10**1) + 1 * (10**0)\n",
        "\n",
        "\n",
        "\n"
      ],
      "metadata": {
        "colab": {
          "base_uri": "https://localhost:8080/"
        },
        "id": "CabxhFxi057-",
        "outputId": "ae4723de-8f72-4dab-a215-e404b23ea038"
      },
      "execution_count": 16,
      "outputs": [
        {
          "output_type": "execute_result",
          "data": {
            "text/plain": [
              "321"
            ]
          },
          "metadata": {},
          "execution_count": 16
        }
      ]
    },
    {
      "cell_type": "code",
      "source": [
        "# 110\n",
        "\n",
        "1*(2**2)+1*(2**1)+0*(2**0)"
      ],
      "metadata": {
        "colab": {
          "base_uri": "https://localhost:8080/"
        },
        "id": "27RiWzul119r",
        "outputId": "d8482ef1-9f7d-4e43-f20e-7c33206b9bd0"
      },
      "execution_count": 19,
      "outputs": [
        {
          "output_type": "execute_result",
          "data": {
            "text/plain": [
              "6"
            ]
          },
          "metadata": {},
          "execution_count": 19
        }
      ]
    },
    {
      "cell_type": "code",
      "source": [
        "print(\"hex(65) \" , hex(65))\n",
        "print(\"bin(65) \" , bin(65))"
      ],
      "metadata": {
        "colab": {
          "base_uri": "https://localhost:8080/"
        },
        "id": "vRO-J5072fpq",
        "outputId": "4ab5ce88-13b4-4473-d179-115c0b6e6682"
      },
      "execution_count": 23,
      "outputs": [
        {
          "output_type": "stream",
          "name": "stdout",
          "text": [
            "hex(65)  0x41\n",
            "bin(65)  0b1000001\n"
          ]
        }
      ]
    },
    {
      "cell_type": "code",
      "source": [
        "b'1000001'.decode('ascii')"
      ],
      "metadata": {
        "colab": {
          "base_uri": "https://localhost:8080/",
          "height": 37
        },
        "id": "PtCcZEgv3Da5",
        "outputId": "a4f4c68c-ed9a-4ac6-d017-2c5df66f2e78"
      },
      "execution_count": 27,
      "outputs": [
        {
          "output_type": "execute_result",
          "data": {
            "text/plain": [
              "'1000001'"
            ],
            "application/vnd.google.colaboratory.intrinsic+json": {
              "type": "string"
            }
          },
          "metadata": {},
          "execution_count": 27
        }
      ]
    },
    {
      "cell_type": "code",
      "source": [
        "\n",
        "chr(65)"
      ],
      "metadata": {
        "colab": {
          "base_uri": "https://localhost:8080/",
          "height": 37
        },
        "id": "IRmtdNyB37ZU",
        "outputId": "74f64a96-f243-4df2-b936-07d16c60e7f0"
      },
      "execution_count": 30,
      "outputs": [
        {
          "output_type": "execute_result",
          "data": {
            "text/plain": [
              "'A'"
            ],
            "application/vnd.google.colaboratory.intrinsic+json": {
              "type": "string"
            }
          },
          "metadata": {},
          "execution_count": 30
        }
      ]
    },
    {
      "cell_type": "code",
      "source": [
        "'''\n",
        "how do we convert from binary 1000001 to the letter A\n",
        "\n",
        "int('1000001',2) says convert int('1000001' to a base 2 number\n",
        "\n",
        "'''\n",
        "\n",
        "\n",
        "chr(int('1000001',2))\n",
        "\n",
        "\n",
        "\n"
      ],
      "metadata": {
        "colab": {
          "base_uri": "https://localhost:8080/",
          "height": 37
        },
        "id": "WusEbW8W4axM",
        "outputId": "bcf3ff45-9d2c-4e45-e470-87bbf6ebdc09"
      },
      "execution_count": 34,
      "outputs": [
        {
          "output_type": "execute_result",
          "data": {
            "text/plain": [
              "'A'"
            ],
            "application/vnd.google.colaboratory.intrinsic+json": {
              "type": "string"
            }
          },
          "metadata": {},
          "execution_count": 34
        }
      ]
    },
    {
      "cell_type": "code",
      "source": [
        "# chr converts from decimal to ASCII\n",
        "\n",
        "\n",
        "# ASC is the letters A to Z 0 to 9 a to z\n",
        "\n",
        "chr(65)"
      ],
      "metadata": {
        "colab": {
          "base_uri": "https://localhost:8080/",
          "height": 37
        },
        "id": "1WjRddf45CvE",
        "outputId": "db48dd6a-783a-4ce4-9c81-ee658ba45d3e"
      },
      "execution_count": 37,
      "outputs": [
        {
          "output_type": "execute_result",
          "data": {
            "text/plain": [
              "'A'"
            ],
            "application/vnd.google.colaboratory.intrinsic+json": {
              "type": "string"
            }
          },
          "metadata": {},
          "execution_count": 37
        }
      ]
    },
    {
      "cell_type": "code",
      "source": [
        "# this is a bell, ringing\n",
        "\n",
        "\n",
        "\n",
        "chr(7)\n"
      ],
      "metadata": {
        "colab": {
          "base_uri": "https://localhost:8080/",
          "height": 37
        },
        "id": "Mdnp-85U5ZmE",
        "outputId": "bb26b321-3e20-484e-a8c5-07765960e888"
      },
      "execution_count": 42,
      "outputs": [
        {
          "output_type": "execute_result",
          "data": {
            "text/plain": [
              "'\\x07'"
            ],
            "application/vnd.google.colaboratory.intrinsic+json": {
              "type": "string"
            }
          },
          "metadata": {},
          "execution_count": 42
        }
      ]
    },
    {
      "cell_type": "code",
      "source": [
        "# these are called new-line characters\n",
        "\n",
        "print(\"tamara\\nwalker\\nlika\")"
      ],
      "metadata": {
        "colab": {
          "base_uri": "https://localhost:8080/"
        },
        "id": "pJi7Xxa153hb",
        "outputId": "6acb8cf4-01ed-4b03-9658-69ff5901552d"
      },
      "execution_count": 43,
      "outputs": [
        {
          "output_type": "stream",
          "name": "stdout",
          "text": [
            "tamara\n",
            "walker\n",
            "lika\n"
          ]
        }
      ]
    },
    {
      "cell_type": "code",
      "source": [
        "# this is a tab\n",
        "\n",
        "\n",
        "print(\"tamara\\twalker\\tlika\")\n"
      ],
      "metadata": {
        "colab": {
          "base_uri": "https://localhost:8080/"
        },
        "id": "W5LjgYRN6BaF",
        "outputId": "f2fbf0db-ac5b-4cdf-d010-d9de0f1c0d04"
      },
      "execution_count": 47,
      "outputs": [
        {
          "output_type": "stream",
          "name": "stdout",
          "text": [
            "tamara\twalker\tlika\n"
          ]
        }
      ]
    },
    {
      "cell_type": "code",
      "source": [
        "# ascii character set\n",
        "\n",
        "\n",
        "print(\"tamara\" + chr(11) + chr(11) + chr(10) + chr(11) + \"walker\" + chr(11) + \"lika\")\n",
        "\n"
      ],
      "metadata": {
        "colab": {
          "base_uri": "https://localhost:8080/"
        },
        "id": "P6BX6a6q6kq1",
        "outputId": "068c4676-aec6-443d-fc7d-ab9ab1335c09"
      },
      "execution_count": 50,
      "outputs": [
        {
          "output_type": "stream",
          "name": "stdout",
          "text": [
            "tamara\u000b\u000b\n",
            "\u000bwalker\u000blika\n"
          ]
        }
      ]
    },
    {
      "cell_type": "code",
      "source": [
        "# for next time.  I will show you how to to hexadecimal numbers\n",
        "\n",
        "\n",
        "#.  a byte is 8 bits. so the number 3 is written like\n",
        "\n",
        "# 00000011"
      ],
      "metadata": {
        "colab": {
          "base_uri": "https://localhost:8080/",
          "height": 150
        },
        "id": "PjUmwEr87CEs",
        "outputId": "7f21b335-479d-4159-f9f4-c81b853a07ee"
      },
      "execution_count": 51,
      "outputs": [
        {
          "output_type": "error",
          "ename": "SyntaxError",
          "evalue": "ignored",
          "traceback": [
            "\u001b[0;36m  File \u001b[0;32m\"<ipython-input-51-4ab3d57ebcfc>\"\u001b[0;36m, line \u001b[0;32m6\u001b[0m\n\u001b[0;31m    00000011\u001b[0m\n\u001b[0m    ^\u001b[0m\n\u001b[0;31mSyntaxError\u001b[0m\u001b[0;31m:\u001b[0m leading zeros in decimal integer literals are not permitted; use an 0o prefix for octal integers\n"
          ]
        }
      ]
    },
    {
      "cell_type": "code",
      "source": [
        "\n"
      ],
      "metadata": {
        "id": "N8UHLwjz7SCw"
      },
      "execution_count": null,
      "outputs": []
    }
  ]
}