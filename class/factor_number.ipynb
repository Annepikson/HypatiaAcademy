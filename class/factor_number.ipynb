{
 "cells": [
  {
   "cell_type": "code",
   "execution_count": 25,
   "metadata": {
    "id": "zcciI8yHOQ-P"
   },
   "outputs": [
    {
     "name": "stdout",
     "output_type": "stream",
     "text": [
      "factor= 99999912\n",
      "[2, 2, 2, 3, 67, 62189]\n",
      "check using loop = 99999912\n",
      "check using numpy prod = 99999912\n"
     ]
    }
   ],
   "source": [
    "import math\n",
    "\n",
    "import numpy as np\n",
    "\n",
    "'''\n",
    "here:\n",
    "\n",
    "p is product\n",
    "q is quotient\n",
    "d is divisor\n",
    "toFactor is the number to divide\n",
    "\n",
    "We start at 2 since all numbers are divisible by 1\n",
    "\n",
    "Then we divide the number to factor by 2.  If the remainder (using %) is 0\n",
    "then we know that 2 is a divisor of 2.  Then we multiply the product by 1.\n",
    "\n",
    "If the remainder is not 2 we try the next number. \n",
    "\n",
    "Eventually the p will equal toFactor\n",
    "'''\n",
    "\n",
    "def factor(toFactor):\n",
    " \n",
    "    remainder=1\n",
    "       \n",
    "    factors=[]\n",
    "    \n",
    "    p=1\n",
    "    \n",
    "    print(\"factor=\", toFactor)\n",
    "    \n",
    "    d=2\n",
    "    q=toFactor\n",
    "    \n",
    "    while p != toFactor:\n",
    "        if q%d==0:\n",
    "            p=p*d\n",
    "            q=int(q/d)\n",
    "            factors.append(d)\n",
    "        else:\n",
    "            d=d+1\n",
    "     \n",
    "    return factors\n",
    "         \n",
    "\n",
    "# enter number to factor    \n",
    "    \n",
    "numberToFactor=99999912\n",
    "\n",
    "factors=factor(numberToFactor)\n",
    "\n",
    "if factors[0]==numberToFactor:\n",
    "    print(numberToFactor ,\" is prime \")\n",
    "else:\n",
    "    print(factors)\n",
    "\n",
    "# here we check the answer by multiplying all the factors.  first we use a loop.\n",
    "# then we do it using the numpy.prod() function which multiplies all numbers in \n",
    "# an array\n",
    "\n",
    "    x=1\n",
    "\n",
    "    for i in factors:\n",
    "        x=x*i\n",
    "    \n",
    "    print(\"check using loop =\", x)\n",
    "\n",
    "\n",
    "\n",
    "    check=np.prod(factors)\n",
    "    print(\"check using numpy prod =\", x)"
   ]
  },
  {
   "cell_type": "code",
   "execution_count": 27,
   "metadata": {
    "colab": {
     "base_uri": "https://localhost:8080/"
    },
    "id": "znsdlLs0UjMK",
    "outputId": "3967f1f9-c089-4a91-f372-dc27ce0c40de"
   },
   "outputs": [
    {
     "name": "stdout",
     "output_type": "stream",
     "text": [
      "99999912 factors are  2 2 2 3 67 62189 \n"
     ]
    }
   ],
   "source": [
    "'''\n",
    "Here we use the yield function to return factors as we find them.  That is \n",
    "a different way than making the array functions[] as we do in the first algorithm\n",
    "\n",
    "'''\n",
    "\n",
    "\n",
    "def factorWithYield(toFactor):\n",
    " \n",
    "    remainder=1\n",
    "\n",
    "    \n",
    "    p=1\n",
    "        \n",
    "    d=2\n",
    "    q=toFactor\n",
    "    \n",
    "    while p != toFactor:\n",
    "        if q%d==0:\n",
    "            p=p*d\n",
    "            q=int(q/d)\n",
    "            yield(d)\n",
    "        else:\n",
    "            d=d+1\n",
    "     \n",
    "    return factors\n",
    "\n",
    " \n",
    " \n",
    "factors = \"\"\n",
    "for j in factorWithYield(numberToFactor):\n",
    "    factors = factors +  str(j)  + \" \" \n",
    "\n",
    "if  int(factors.split(\" \")[0])==numberToFactor:\n",
    "    print(numberToFactor, \" is prime\")\n",
    "else:\n",
    "    print(numberToFactor, \"factors are \" , factors)\n",
    "\n",
    " "
   ]
  },
  {
   "cell_type": "code",
   "execution_count": null,
   "metadata": {},
   "outputs": [],
   "source": []
  },
  {
   "cell_type": "code",
   "execution_count": null,
   "metadata": {},
   "outputs": [],
   "source": []
  }
 ],
 "metadata": {
  "colab": {
   "provenance": []
  },
  "kernelspec": {
   "display_name": "Python 3 (ipykernel)",
   "language": "python",
   "name": "python3"
  },
  "language_info": {
   "codemirror_mode": {
    "name": "ipython",
    "version": 3
   },
   "file_extension": ".py",
   "mimetype": "text/x-python",
   "name": "python",
   "nbconvert_exporter": "python",
   "pygments_lexer": "ipython3",
   "version": "3.10.9"
  }
 },
 "nbformat": 4,
 "nbformat_minor": 1
}
