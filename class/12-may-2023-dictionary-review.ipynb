{
  "nbformat": 4,
  "nbformat_minor": 0,
  "metadata": {
    "colab": {
      "provenance": [],
      "include_colab_link": true
    },
    "kernelspec": {
      "name": "python3",
      "display_name": "Python 3"
    },
    "language_info": {
      "name": "python"
    }
  },
  "cells": [
    {
      "cell_type": "markdown",
      "metadata": {
        "id": "view-in-github",
        "colab_type": "text"
      },
      "source": [
        "<a href=\"https://colab.research.google.com/github/werowe/HypatiaAcademy/blob/master/class/12-may-2023-dictionary-review.ipynb\" target=\"_parent\"><img src=\"https://colab.research.google.com/assets/colab-badge.svg\" alt=\"Open In Colab\"/></a>"
      ]
    },
    {
      "cell_type": "code",
      "execution_count": 3,
      "metadata": {
        "colab": {
          "base_uri": "https://localhost:8080/"
        },
        "id": "-GyL5YpR9OKG",
        "outputId": "d37ea263-fb5d-4f01-9147-1fbce7f8e3dc"
      },
      "outputs": [
        {
          "output_type": "stream",
          "name": "stdout",
          "text": [
            "[{'car brand': 'Mazda', 'year': 2017, 'color': 'red'}, {'car brand': 'BMW', 'year': 2018, 'color': 'grey'}, {'car brand': 'Mercedes', 'year': 2013, 'color': 'black'}]\n"
          ]
        }
      ],
      "source": [
        "\n",
        "# first we create an empty list cars\n",
        "\n",
        "cars = []\n",
        "\n",
        "car1 = {\n",
        "      \"car brand\": \"Mazda\",\n",
        "    \"year\": 2017,\n",
        "    \"color\": \"red\"\n",
        "\n",
        "}\n",
        "\n",
        "car2 = {\n",
        "      \"car brand\": \"BMW\",\n",
        "    \"year\": 2018,\n",
        "    \"color\": \"grey\"\n",
        "\n",
        "}\n",
        "\n",
        "\n",
        "car3 = {\n",
        "      \"car brand\": \"Mercedes\",\n",
        "    \"year\": 2013,\n",
        "    \"color\": \"black\"\n",
        "\n",
        "}\n",
        "\n",
        "cars.append(car1)\n",
        "cars.append(car2)\n",
        "cars.append(car3)\n",
        "\n",
        "print(cars)\n",
        " "
      ]
    },
    {
      "cell_type": "code",
      "source": [
        "print(cars[0])\n",
        "\n",
        "\n",
        "print(cars[0].keys())\n",
        "print(cars[0].items())\n",
        "\n",
        "\n",
        "for key, value in cars[0].items():\n",
        "  print(key,value)\n"
      ],
      "metadata": {
        "id": "Cs5q2ChN_N56",
        "outputId": "6482c839-e5d7-4824-be31-68b5ada1e5a1",
        "colab": {
          "base_uri": "https://localhost:8080/"
        }
      },
      "execution_count": 9,
      "outputs": [
        {
          "output_type": "stream",
          "name": "stdout",
          "text": [
            "{'car brand': 'Mazda', 'year': 2017, 'color': 'red'}\n",
            "dict_keys(['car brand', 'year', 'color'])\n",
            "dict_items([('car brand', 'Mazda'), ('year', 2017), ('color', 'red')])\n",
            "car brand Mazda\n",
            "year 2017\n",
            "color red\n"
          ]
        }
      ]
    },
    {
      "cell_type": "code",
      "source": [],
      "metadata": {
        "id": "7FlAgVwo-33q"
      },
      "execution_count": null,
      "outputs": []
    }
  ]
}