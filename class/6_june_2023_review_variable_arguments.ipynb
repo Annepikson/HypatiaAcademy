{
  "nbformat": 4,
  "nbformat_minor": 0,
  "metadata": {
    "colab": {
      "provenance": [],
      "authorship_tag": "ABX9TyPCQNixy1yZZ2NSvF+QzRMq",
      "include_colab_link": true
    },
    "kernelspec": {
      "name": "python3",
      "display_name": "Python 3"
    },
    "language_info": {
      "name": "python"
    }
  },
  "cells": [
    {
      "cell_type": "markdown",
      "metadata": {
        "id": "view-in-github",
        "colab_type": "text"
      },
      "source": [
        "<a href=\"https://colab.research.google.com/github/werowe/HypatiaAcademy/blob/master/class/6_june_2023_review_variable_arguments.ipynb\" target=\"_parent\"><img src=\"https://colab.research.google.com/assets/colab-badge.svg\" alt=\"Open In Colab\"/></a>"
      ]
    },
    {
      "cell_type": "code",
      "execution_count": null,
      "metadata": {
        "colab": {
          "base_uri": "https://localhost:8080/"
        },
        "id": "au8-1Nx7SQOi",
        "outputId": "ec7d085a-4047-492a-f63c-1d0e307a8dfd"
      },
      "outputs": [
        {
          "output_type": "execute_result",
          "data": {
            "text/plain": [
              "5"
            ]
          },
          "metadata": {},
          "execution_count": 3
        }
      ],
      "source": [
        "def add(x,y):\n",
        "   \n",
        "   return x+y\n",
        "\n",
        "\n",
        "add(2,3)   \n"
      ]
    },
    {
      "cell_type": "code",
      "source": [
        "def multiply(x,y):\n",
        "\n",
        "    return x*y\n",
        "\n",
        "multiply(2,3)    "
      ],
      "metadata": {
        "id": "wH68ZW178KMh",
        "outputId": "9b5b5437-0021-460f-a555-55676c76a8eb",
        "colab": {
          "base_uri": "https://localhost:8080/"
        }
      },
      "execution_count": 2,
      "outputs": [
        {
          "output_type": "execute_result",
          "data": {
            "text/plain": [
              "6"
            ]
          },
          "metadata": {},
          "execution_count": 2
        }
      ]
    },
    {
      "cell_type": "code",
      "source": [
        "def multiply(*numbers):\n",
        "\n",
        "# pick 1 because all numbers multiplied by 1 don't change\n",
        "# when you do loops you often start with 0.\n",
        "# but we don't want zero as you will see below\n",
        "\n",
        "  product = 1\n",
        "\n",
        "  for number in numbers:\n",
        "    product = product * number\n",
        "\n",
        "  return product\n",
        "\n",
        "\n",
        "multiply(2,3,4)\n",
        "\n",
        "\n",
        "'''\n",
        "\n",
        "product = 1\n",
        "\n",
        "product = 1 * 2 = 2\n",
        "\n",
        "product = 2* 3 = 6\n",
        "\n",
        "product = 6 * 4\n",
        "\n",
        "\n",
        "\n",
        "'''\n",
        "\n",
        "\n",
        "\n",
        "\n",
        "\n"
      ],
      "metadata": {
        "id": "df754Sn28YTn",
        "outputId": "8532cf9b-233d-4103-e77f-d07d44a11bac",
        "colab": {
          "base_uri": "https://localhost:8080/"
        }
      },
      "execution_count": 4,
      "outputs": [
        {
          "output_type": "execute_result",
          "data": {
            "text/plain": [
              "24"
            ]
          },
          "metadata": {},
          "execution_count": 4
        }
      ]
    },
    {
      "cell_type": "code",
      "source": [
        "def add(*numbers):\n",
        "\n",
        "  sum = 0 # initialize the starting sum to 0\n",
        "  \n",
        "  for number in numbers:\n",
        "    sum = sum + number\n",
        "\n",
        "  return sum\n",
        "\n",
        "\n",
        "\n",
        "add(1,2,3,4,5,6,7,8,9,10)"
      ],
      "metadata": {
        "colab": {
          "base_uri": "https://localhost:8080/"
        },
        "id": "3Ue_aFzPS5mm",
        "outputId": "24d908f2-373c-4377-b734-ef729adb6f51"
      },
      "execution_count": null,
      "outputs": [
        {
          "output_type": "execute_result",
          "data": {
            "text/plain": [
              "55"
            ]
          },
          "metadata": {},
          "execution_count": 6
        }
      ]
    },
    {
      "cell_type": "code",
      "source": [
        "\n",
        "# homework\n",
        "\n",
        "\n",
        "\n",
        "def studentAdder(*students):\n",
        "\n",
        "#      make a an empty list using [].   l=[]\n",
        "\n",
        "#      then loop through the students.  (for i in xxxx)\n",
        "\n",
        "#      add each to the list using append().  l.append(xxxx)\n",
        "\n",
        "#      return the list\n",
        "\n",
        "\n",
        "\n",
        "\n",
        "print(studentAdder(\"sofia\", \"walker\", \"ilya\", \"artur\"))\n"
      ],
      "metadata": {
        "id": "Aj7MS0_uTmst"
      },
      "execution_count": null,
      "outputs": []
    },
    {
      "cell_type": "markdown",
      "source": [
        "Read how to define a function that has a variable number of algorithms. https://github.com/werowe/HypatiaAcademy/blob/master/classNotes/functions-with-a-variable-number-of-arguments.ipynb \n",
        "\n",
        "Homework:\n",
        "\n",
        "1. write a function to make a list of people. So if you give the function Walker, Joaquim, Ilias it should return the list [Walker, Joaquim, Ilias]. It should also working with 5 people or 6 people or any number of people. \n",
        "\n",
        "\n",
        "Hint: use [] to create an array and append() to add students to the array. Loop through the parameters using for I in *students where *students is the parameter name in your function ."
      ],
      "metadata": {
        "id": "1A38vGrRSSgn"
      }
    }
  ]
}