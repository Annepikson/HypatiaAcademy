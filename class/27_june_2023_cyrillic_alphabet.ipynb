{
  "nbformat": 4,
  "nbformat_minor": 0,
  "metadata": {
    "colab": {
      "provenance": [],
      "authorship_tag": "ABX9TyPur+oBkdUoxhPc7MIhtpOd",
      "include_colab_link": true
    },
    "kernelspec": {
      "name": "python3",
      "display_name": "Python 3"
    },
    "language_info": {
      "name": "python"
    }
  },
  "cells": [
    {
      "cell_type": "markdown",
      "metadata": {
        "id": "view-in-github",
        "colab_type": "text"
      },
      "source": [
        "<a href=\"https://colab.research.google.com/github/werowe/HypatiaAcademy/blob/master/class/27_june_2023_cyrillic_alphabet.ipynb\" target=\"_parent\"><img src=\"https://colab.research.google.com/assets/colab-badge.svg\" alt=\"Open In Colab\"/></a>"
      ]
    },
    {
      "cell_type": "code",
      "execution_count": 2,
      "metadata": {
        "colab": {
          "base_uri": "https://localhost:8080/"
        },
        "id": "JbuZuWi_Apt4",
        "outputId": "26abc4b8-10a9-4f2a-9658-2867ecef9166"
      },
      "outputs": [
        {
          "output_type": "stream",
          "name": "stdout",
          "text": [
            "53423\n",
            "b'\\xd0\\xaf'\n",
            "Я\n"
          ]
        }
      ],
      "source": [
        "'''\n",
        "\n",
        "Unicode cyrillic.  UTF-8.  description\n",
        "U+042F\tЯ\t         d0 af\tCYRILLIC CAPITAL LETTER YA\n",
        "\n",
        "\n",
        "use this chart https://www.utf8-chartable.de/unicode-utf8-table.pl?start=1024\n",
        "\n",
        "'''\n",
        "\n",
        "\n",
        "\n",
        "# this should be this cyrcilliuc letter Я in twio hexadecimal bytes\n",
        "\n",
        "\n",
        "# first decode the decimal number d0af to decimal\n",
        "ya=int(\"0xd0af\", 16)\n",
        "print(ya)\n",
        "\n",
        "# convert this to 2 bytes\n",
        "\n",
        "twoBytes=ya.to_bytes(2,'big')\n",
        "print(twoBytes)\n",
        "\n",
        "# now decode this UTF-8 encoded string to something we can read (cyrillic)\n",
        "\n",
        "decodedTwoBytes=twoBytes.decode('utf-8')\n",
        "print(decodedTwoBytes)\n",
        "\n"
      ]
    }
  ]
}