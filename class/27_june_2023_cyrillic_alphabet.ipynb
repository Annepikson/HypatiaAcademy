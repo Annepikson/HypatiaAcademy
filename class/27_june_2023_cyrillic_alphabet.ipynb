{
  "nbformat": 4,
  "nbformat_minor": 0,
  "metadata": {
    "colab": {
      "provenance": [],
      "authorship_tag": "ABX9TyPuDl+HzlFiqgkTyF8smyfU",
      "include_colab_link": true
    },
    "kernelspec": {
      "name": "python3",
      "display_name": "Python 3"
    },
    "language_info": {
      "name": "python"
    }
  },
  "cells": [
    {
      "cell_type": "markdown",
      "metadata": {
        "id": "view-in-github",
        "colab_type": "text"
      },
      "source": [
        "<a href=\"https://colab.research.google.com/github/werowe/HypatiaAcademy/blob/master/class/27_june_2023_cyrillic_alphabet.ipynb\" target=\"_parent\"><img src=\"https://colab.research.google.com/assets/colab-badge.svg\" alt=\"Open In Colab\"/></a>"
      ]
    },
    {
      "cell_type": "code",
      "source": [
        "'''\n",
        "An emoji is 4 bytes in UTF-8\n",
        "\n",
        "Each of the numbers below, e.g., \\x80 is one byte.  Remember that a byte is  8 bits.  A hex\n",
        "number is 4 bits.  So a byte is two hex numbers\n",
        "\n",
        "'''\n",
        "\n",
        "\n",
        "\"😀\".encode('utf-8')"
      ],
      "metadata": {
        "colab": {
          "base_uri": "https://localhost:8080/"
        },
        "id": "CnlRo1X1E3XN",
        "outputId": "0c79e544-a161-4b5c-ada7-7099f2c0237e"
      },
      "execution_count": 9,
      "outputs": [
        {
          "output_type": "execute_result",
          "data": {
            "text/plain": [
              "b'\\xf0\\x9f\\x98\\x80'"
            ]
          },
          "metadata": {},
          "execution_count": 9
        }
      ]
    },
    {
      "cell_type": "code",
      "execution_count": 12,
      "metadata": {
        "colab": {
          "base_uri": "https://localhost:8080/"
        },
        "id": "JbuZuWi_Apt4",
        "outputId": "5e3838ae-33fe-4c64-9981-d6c907ccd939"
      },
      "outputs": [
        {
          "output_type": "stream",
          "name": "stdout",
          "text": [
            "53423\n",
            "b'\\xd0\\xaf'\n",
            "Я\n",
            "b'\\xd0\\xaf'\n"
          ]
        }
      ],
      "source": [
        "'''\n",
        "\n",
        "Unicode cyrillic.  UTF-8.  description\n",
        "U+042F\tЯ\t         d0 af\tCYRILLIC CAPITAL LETTER YA\n",
        "\n",
        "\n",
        "use this chart https://www.utf8-chartable.de/unicode-utf8-table.pl?start=1024\n",
        "\n",
        "'''\n",
        "\n",
        "\n",
        "\n",
        "#.  LAST LETTER OF CYRILLIC ALPHABET\n",
        "\n",
        "# this should be this cyrcilliuc letter Я in twio hexadecimal bytes\n",
        "\n",
        "\n",
        "# first decode the decimal number d0af to decimal\n",
        "ya=int(\"0xd0af\", 16)\n",
        "print(ya)\n",
        "\n",
        "# convert this to 2 bytes\n",
        "\n",
        "twoBytes=ya.to_bytes(2,'big')\n",
        "print(twoBytes)\n",
        "\n",
        "# now decode this UTF-8 encoded string to something we can read (cyrillic)\n",
        "\n",
        "decodedTwoBytes=twoBytes.decode('utf-8')\n",
        "print(decodedTwoBytes)\n",
        "\n",
        "# check your work\n",
        "\n",
        "print(\"Я\".encode('utf-8'))"
      ]
    },
    {
      "cell_type": "code",
      "source": [
        "#.  FIRST LETTER OF CYRILLIC ALPHABET\n",
        "\n",
        "a=int(\"0xd090\", 16)\n",
        "print(a)\n",
        "\n",
        "twoBytes=a.to_bytes(2,'big')\n",
        "print(twoBytes)\n",
        "\n",
        "decodedTwoBytes=twoBytes.decode('utf-8')\n",
        "print(decodedTwoBytes)\n",
        "\n"
      ],
      "metadata": {
        "colab": {
          "base_uri": "https://localhost:8080/"
        },
        "id": "yntI4HqaDb4r",
        "outputId": "3f3b4268-ccc5-43c3-bc77-639758cd4fc7"
      },
      "execution_count": 11,
      "outputs": [
        {
          "output_type": "stream",
          "name": "stdout",
          "text": [
            "53392\n",
            "b'\\xd0\\x90'\n",
            "А\n"
          ]
        }
      ]
    },
    {
      "cell_type": "code",
      "source": [
        "\n",
        "\n"
      ],
      "metadata": {
        "id": "bMcDsScvD1IV"
      },
      "execution_count": 11,
      "outputs": []
    },
    {
      "cell_type": "markdown",
      "source": [
        "\n",
        "\n",
        "Use this chart to find the UTF-8 code for the first and last letters of the Greek alphabet\n",
        "\n",
        "then print them out just like above\n",
        "\n",
        "\n",
        "https://www.utf8-chartable.de/unicode-utf8-table.pl?start=896&number=128\n",
        "\n",
        "\n",
        ""
      ],
      "metadata": {
        "id": "8bLRHFxcFADI"
      }
    },
    {
      "cell_type": "code",
      "source": [],
      "metadata": {
        "id": "eLcldYMnEKxj"
      },
      "execution_count": 11,
      "outputs": []
    }
  ]
}