{
  "nbformat": 4,
  "nbformat_minor": 0,
  "metadata": {
    "colab": {
      "provenance": [],
      "authorship_tag": "ABX9TyOM613tvVt+QD5aOm21ssh0",
      "include_colab_link": true
    },
    "kernelspec": {
      "name": "python3",
      "display_name": "Python 3"
    },
    "language_info": {
      "name": "python"
    }
  },
  "cells": [
    {
      "cell_type": "markdown",
      "metadata": {
        "id": "view-in-github",
        "colab_type": "text"
      },
      "source": [
        "<a href=\"https://colab.research.google.com/github/werowe/HypatiaAcademy/blob/master/class/27_june_2023_cyrillic_alphabet.ipynb\" target=\"_parent\"><img src=\"https://colab.research.google.com/assets/colab-badge.svg\" alt=\"Open In Colab\"/></a>"
      ]
    },
    {
      "cell_type": "code",
      "execution_count": 2,
      "metadata": {
        "colab": {
          "base_uri": "https://localhost:8080/"
        },
        "id": "JbuZuWi_Apt4",
        "outputId": "26abc4b8-10a9-4f2a-9658-2867ecef9166"
      },
      "outputs": [
        {
          "output_type": "stream",
          "name": "stdout",
          "text": [
            "53423\n",
            "b'\\xd0\\xaf'\n",
            "Я\n"
          ]
        }
      ],
      "source": [
        "'''\n",
        "\n",
        "Unicode cyrillic.  UTF-8.  description\n",
        "U+042F\tЯ\t         d0 af\tCYRILLIC CAPITAL LETTER YA\n",
        "\n",
        "\n",
        "use this chart https://www.utf8-chartable.de/unicode-utf8-table.pl?start=1024\n",
        "\n",
        "'''\n",
        "\n",
        "\n",
        "\n",
        "#.  LAST LETTER OF CYRILLIC ALPHABET\n",
        "\n",
        "# this should be this cyrcilliuc letter Я in twio hexadecimal bytes\n",
        "\n",
        "\n",
        "# first decode the decimal number d0af to decimal\n",
        "ya=int(\"0xd0af\", 16)\n",
        "print(ya)\n",
        "\n",
        "# convert this to 2 bytes\n",
        "\n",
        "twoBytes=ya.to_bytes(2,'big')\n",
        "print(twoBytes)\n",
        "\n",
        "# now decode this UTF-8 encoded string to something we can read (cyrillic)\n",
        "\n",
        "decodedTwoBytes=twoBytes.decode('utf-8')\n",
        "print(decodedTwoBytes)\n",
        "\n"
      ]
    },
    {
      "cell_type": "code",
      "source": [
        "#.  FIRST LETTER OF CYRILLIC ALPHABET\n",
        "\n",
        "a=int(\"0xd090\", 16)\n",
        "print(a)\n",
        "\n",
        "twoBytes=a.to_bytes(2,'big')\n",
        "print(twoBytes)\n",
        "\n",
        "decodedTwoBytes=twoBytes.decode('utf-8')\n",
        "print(decodedTwoBytes)\n",
        "\n"
      ],
      "metadata": {
        "colab": {
          "base_uri": "https://localhost:8080/"
        },
        "id": "yntI4HqaDb4r",
        "outputId": "a294fa7c-6543-47c7-9459-d0f26df58285"
      },
      "execution_count": 3,
      "outputs": [
        {
          "output_type": "stream",
          "name": "stdout",
          "text": [
            "53392\n",
            "b'\\xd0\\x90'\n",
            "А\n"
          ]
        }
      ]
    },
    {
      "cell_type": "code",
      "source": [
        "'''\n",
        "\n",
        "Use this chart to find the UTF-8 code for the first and last letters of the Greek alphabet\n",
        "\n",
        "then print them out just like above\n",
        "\n",
        "\n",
        "https://www.utf8-chartable.de/unicode-utf8-table.pl?start=896&number=128\n",
        "\n",
        "\n",
        "\n",
        "'''"
      ],
      "metadata": {
        "colab": {
          "base_uri": "https://localhost:8080/",
          "height": 73
        },
        "id": "bMcDsScvD1IV",
        "outputId": "bdc65e09-611b-4dc5-f538-4dd92f10485b"
      },
      "execution_count": 4,
      "outputs": [
        {
          "output_type": "execute_result",
          "data": {
            "text/plain": [
              "'\\n\\nUse this chart to find the UTF-8 code for the first and last letters of the Greek alphabet\\n\\nthen print them out just like above\\n\\n\\nhttps://www.utf8-chartable.de/unicode-utf8-table.pl?start=896&number=128\\n\\n\\n\\n'"
            ],
            "application/vnd.google.colaboratory.intrinsic+json": {
              "type": "string"
            }
          },
          "metadata": {},
          "execution_count": 4
        }
      ]
    }
  ]
}