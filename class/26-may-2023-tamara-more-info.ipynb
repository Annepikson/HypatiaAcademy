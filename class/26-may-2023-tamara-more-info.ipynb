{
  "nbformat": 4,
  "nbformat_minor": 0,
  "metadata": {
    "colab": {
      "provenance": [],
      "include_colab_link": true
    },
    "kernelspec": {
      "name": "python3",
      "display_name": "Python 3"
    },
    "language_info": {
      "name": "python"
    }
  },
  "cells": [
    {
      "cell_type": "markdown",
      "metadata": {
        "id": "view-in-github",
        "colab_type": "text"
      },
      "source": [
        "<a href=\"https://colab.research.google.com/github/werowe/HypatiaAcademy/blob/master/class/26-may-2023-tamara-more-info.ipynb\" target=\"_parent\"><img src=\"https://colab.research.google.com/assets/colab-badge.svg\" alt=\"Open In Colab\"/></a>"
      ]
    },
    {
      "cell_type": "code",
      "execution_count": null,
      "metadata": {
        "colab": {
          "base_uri": "https://localhost:8080/"
        },
        "id": "1LwZ-7LQ-1Gv",
        "outputId": "8f0e81ed-f599-486d-934e-031858df4932"
      },
      "outputs": [
        {
          "output_type": "stream",
          "name": "stdout",
          "text": [
            "Toma\n"
          ]
        }
      ],
      "source": [
        "# this runs the capitalize() string function\n",
        "\n",
        "\n",
        "print(\"tOma\".capitalize())\n"
      ]
    },
    {
      "cell_type": "code",
      "source": [
        "txt=\"Hello world\"\n",
        "word=\"lo\"\n",
        "\n",
        "# x is the position of the word Hello in Hellow Word\n",
        "x=txt.find(word)\n",
        "\n",
        "\n",
        "print(x, word, txt[x:x+len(word)])"
      ],
      "metadata": {
        "colab": {
          "base_uri": "https://localhost:8080/"
        },
        "id": "58kvv50p_Noa",
        "outputId": "ecc9387e-f6b9-4f32-b9d5-8eba1ac43b39"
      },
      "execution_count": 3,
      "outputs": [
        {
          "output_type": "stream",
          "name": "stdout",
          "text": [
            "3 lo lo\n"
          ]
        }
      ]
    },
    {
      "cell_type": "code",
      "source": [
        "len(word)"
      ],
      "metadata": {
        "id": "U9pDMAySTNRO",
        "outputId": "b061fbf5-af6a-40dc-b772-dd96b5f74a50",
        "colab": {
          "base_uri": "https://localhost:8080/"
        }
      },
      "execution_count": 4,
      "outputs": [
        {
          "output_type": "execute_result",
          "data": {
            "text/plain": [
              "2"
            ]
          },
          "metadata": {},
          "execution_count": 4
        }
      ]
    },
    {
      "cell_type": "code",
      "source": [
        "print(txt[3:3+2])"
      ],
      "metadata": {
        "colab": {
          "base_uri": "https://localhost:8080/"
        },
        "id": "7sTqxSg-AK_r",
        "outputId": "bb9c527a-dd99-430c-cce3-aefc3ae6d630"
      },
      "execution_count": 5,
      "outputs": [
        {
          "output_type": "stream",
          "name": "stdout",
          "text": [
            "lo\n"
          ]
        }
      ]
    },
    {
      "cell_type": "code",
      "source": [
        "tt=\"78,799,09,08\"\n",
        "arr=tt.split(',')\n",
        "# what this does is make a list from a string delimited by some charactter\n",
        "\n",
        "print(arr)"
      ],
      "metadata": {
        "colab": {
          "base_uri": "https://localhost:8080/"
        },
        "id": "KFCvTgX7AyiY",
        "outputId": "42031f13-91d7-4195-cb27-36db80757e32"
      },
      "execution_count": null,
      "outputs": [
        {
          "output_type": "stream",
          "name": "stdout",
          "text": [
            "['78', '799', '09', '08']\n"
          ]
        }
      ]
    },
    {
      "cell_type": "code",
      "source": [
        "\"Today is our first time \"[2:5]"
      ],
      "metadata": {
        "colab": {
          "base_uri": "https://localhost:8080/",
          "height": 35
        },
        "id": "kgCg0pIaCmjP",
        "outputId": "0b95ba0d-afe7-4443-9d0b-a13a837999fc"
      },
      "execution_count": null,
      "outputs": [
        {
          "output_type": "execute_result",
          "data": {
            "text/plain": [
              "'day'"
            ],
            "application/vnd.google.colaboratory.intrinsic+json": {
              "type": "string"
            }
          },
          "metadata": {},
          "execution_count": 10
        }
      ]
    },
    {
      "cell_type": "code",
      "source": [
        "#teacher made mistake.  this is a tuple, not a string\n",
        "\n",
        "students=\"sofia\", \"artur\", \"tamara\", \"ilias\"\n",
        "\n",
        "# this is a string\n",
        "\n",
        "students=\"sofia , artur , tamara, ilias\"\n",
        "\n",
        "listOfStudents=students.split(\",\")\n",
        "\n",
        "print(listOfStudents)\n",
        "print(\"second student is \", listOfStudents[1])"
      ],
      "metadata": {
        "id": "U8F87zIoT0bp",
        "outputId": "81f8a68d-7fbb-4147-ad68-207ddf59cd93",
        "colab": {
          "base_uri": "https://localhost:8080/"
        }
      },
      "execution_count": 10,
      "outputs": [
        {
          "output_type": "stream",
          "name": "stdout",
          "text": [
            "['sofia ', ' artur ', ' tamara', ' ilias']\n",
            "second student is   artur \n"
          ]
        }
      ]
    }
  ]
}