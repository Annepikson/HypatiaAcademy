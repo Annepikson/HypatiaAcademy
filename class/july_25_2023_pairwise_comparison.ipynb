{
  "nbformat": 4,
  "nbformat_minor": 0,
  "metadata": {
    "colab": {
      "provenance": [],
      "authorship_tag": "ABX9TyOgLhb/O3l9gjgDPYn5lzd9",
      "include_colab_link": true
    },
    "kernelspec": {
      "name": "python3",
      "display_name": "Python 3"
    },
    "language_info": {
      "name": "python"
    }
  },
  "cells": [
    {
      "cell_type": "markdown",
      "metadata": {
        "id": "view-in-github",
        "colab_type": "text"
      },
      "source": [
        "<a href=\"https://colab.research.google.com/github/werowe/HypatiaAcademy/blob/master/class/july_25_2023_pairwise_comparison.ipynb\" target=\"_parent\"><img src=\"https://colab.research.google.com/assets/colab-badge.svg\" alt=\"Open In Colab\"/></a>"
      ]
    },
    {
      "cell_type": "code",
      "execution_count": 48,
      "metadata": {
        "colab": {
          "base_uri": "https://localhost:8080/"
        },
        "id": "k0n2hGqrC1RI",
        "outputId": "0756dc32-60bb-4c16-e415-1c16a4a9acbe"
      },
      "outputs": [
        {
          "output_type": "stream",
          "name": "stdout",
          "text": [
            "a [5 1 3 3 7] \n",
            "\n",
            "[5, 5],[5, 1],[5, 3],[5, 3],[5, 7]\n",
            "[1, 5],[1, 1],[1, 3],[1, 3],[1, 7]\n",
            "[3, 5],[3, 1],[3, 3],[3, 3],[3, 7]\n",
            "[3, 5],[3, 1],[3, 3],[3, 3],[3, 7]\n",
            "[7, 5],[7, 1],[7, 3],[7, 3],[7, 7]\n"
          ]
        }
      ],
      "source": [
        "import numpy as np\n",
        "\n",
        "a= np.random.randint(10,size=5)\n",
        "b= a\n",
        "print(\"a\", a, \"\\n\")\n",
        "\n",
        "\n",
        "for i in range(len(a)):\n",
        "  for j in range(len(b)):\n",
        "    if j == len(a)-1:\n",
        "      end=\"\\n\"\n",
        "    else:\n",
        "      end=\",\"\n",
        "    print([a[i],b[j]], end=end)\n",
        "\n",
        "\n",
        ""
      ]
    }
  ]
}