{
  "nbformat": 4,
  "nbformat_minor": 0,
  "metadata": {
    "colab": {
      "provenance": [],
      "authorship_tag": "ABX9TyP2+4iUaS2wloV6NWWI8Izo",
      "include_colab_link": true
    },
    "kernelspec": {
      "name": "python3",
      "display_name": "Python 3"
    },
    "language_info": {
      "name": "python"
    }
  },
  "cells": [
    {
      "cell_type": "markdown",
      "metadata": {
        "id": "view-in-github",
        "colab_type": "text"
      },
      "source": [
        "<a href=\"https://colab.research.google.com/github/Annepikson/HypatiaAcademy/blob/master/class/23_Octobre_2023.ipynb\" target=\"_parent\"><img src=\"https://colab.research.google.com/assets/colab-badge.svg\" alt=\"Open In Colab\"/></a>"
      ]
    },
    {
      "cell_type": "code",
      "source": [
        "\n",
        "a = 45\n",
        "b = 33\n",
        "c = a-b\n",
        "\n",
        "print(\"a=\",a,\"b=\",b,\"c=\",c)\n",
        "\n",
        "if b > c:\n",
        "  a = b\n",
        "  b = c\n",
        "\n",
        "c = a-b\n",
        "print(\"a=\",a,\"b=\",b,\"c=\",c)\n",
        "\n",
        "if b < c:\n",
        "  a = c\n",
        "\n",
        "c = a-b\n",
        "print(\"s=\",a,\"b=\",b,\"c=\",c)\n",
        "\n",
        "if a > b:\n",
        "  a = b\n",
        "  b = c\n",
        "\n",
        "c = a-b\n",
        "print(\"a=\",a,\"b=\",b,\"c=\",c)\n",
        "\n",
        "if a > b:\n",
        "  a = b\n",
        "  b = c\n",
        "\n",
        "c = a-b\n",
        "print(\"a=\",a,\"b=\",b,\"c=\",c)\n",
        "\n",
        "if b < c:\n",
        "  a = c\n",
        "\n",
        "c = a-b\n",
        "print(\"a=\",a,\"b=\",b,\"c=\",c)"
      ],
      "metadata": {
        "colab": {
          "base_uri": "https://localhost:8080/"
        },
        "id": "BmPoxkEW6KZt",
        "outputId": "4625e3a3-22cb-4cfb-8508-c893c7d0aa51"
      },
      "execution_count": 3,
      "outputs": [
        {
          "output_type": "stream",
          "name": "stdout",
          "text": [
            "a= 45 b= 33 c= 12\n",
            "a= 33 b= 12 c= 21\n",
            "s= 21 b= 12 c= 9\n",
            "a= 12 b= 9 c= 3\n",
            "a= 9 b= 3 c= 6\n",
            "a= 6 b= 3 c= 3\n"
          ]
        }
      ]
    },
    {
      "cell_type": "code",
      "execution_count": null,
      "metadata": {
        "id": "ztlDzc3H5-uQ"
      },
      "outputs": [],
      "source": []
    }
  ]
}