{
  "nbformat": 4,
  "nbformat_minor": 0,
  "metadata": {
    "colab": {
      "provenance": [],
      "authorship_tag": "ABX9TyP19AuQ3E3lcAsit6HvkH/K",
      "include_colab_link": true
    },
    "kernelspec": {
      "name": "python3",
      "display_name": "Python 3"
    },
    "language_info": {
      "name": "python"
    }
  },
  "cells": [
    {
      "cell_type": "markdown",
      "metadata": {
        "id": "view-in-github",
        "colab_type": "text"
      },
      "source": [
        "<a href=\"https://colab.research.google.com/github/werowe/HypatiaAcademy/blob/master/class/13_june_2023_gcd.ipynb\" target=\"_parent\"><img src=\"https://colab.research.google.com/assets/colab-badge.svg\" alt=\"Open In Colab\"/></a>"
      ]
    },
    {
      "cell_type": "code",
      "execution_count": 7,
      "metadata": {
        "colab": {
          "base_uri": "https://localhost:8080/"
        },
        "id": "XW6I0XOG3Ah9",
        "outputId": "f4e2d730-8530-4feb-9f11-74a109b917cc"
      },
      "outputs": [
        {
          "output_type": "stream",
          "name": "stdout",
          "text": [
            "GCD: 4\n",
            "check cgd: 4\n"
          ]
        }
      ],
      "source": [
        "\n",
        "import math\n",
        "\n",
        "def find_gcd(a, b):\n",
        "    if a < b:\n",
        "        a, b = b, a  # Ensure a is the largest number\n",
        "\n",
        "    count = 0\n",
        "\n",
        "    while True:\n",
        "        if a == b:\n",
        "           return gcd\n",
        "        gcd = a - b\n",
        "\n",
        "        if gcd < b:\n",
        "           a, b = b, gcd\n",
        "        else:\n",
        "           a = gcd\n",
        "\n",
        "        count = count + 1\n",
        "\n",
        "\n",
        "a = 84\n",
        "b = 16\n",
        "result = find_gcd(a, b)\n",
        "print(\"GCD:\", result)\n",
        "\n",
        "print(\"check cgd:\", math.gcd(a,b))\n"
      ]
    },
    {
      "cell_type": "code",
      "source": [
        "import numpy as np\n",
        "\n",
        "x = np.gcd(a, b)\n",
        "\n",
        "\n",
        "print(\"numpy calculation is\",x)"
      ],
      "metadata": {
        "colab": {
          "base_uri": "https://localhost:8080/"
        },
        "id": "wo-r7BXl3qJw",
        "outputId": "74b0b594-9b49-4c38-81b7-fa432fb4c4b7"
      },
      "execution_count": null,
      "outputs": [
        {
          "output_type": "stream",
          "name": "stdout",
          "text": [
            "numpy calculation is 99\n"
          ]
        }
      ]
    }
  ]
}