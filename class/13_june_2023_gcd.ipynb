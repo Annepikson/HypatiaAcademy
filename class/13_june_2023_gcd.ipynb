{
  "nbformat": 4,
  "nbformat_minor": 0,
  "metadata": {
    "colab": {
      "provenance": [],
      "authorship_tag": "ABX9TyNnfWWwbDiioNIj64fnhttr",
      "include_colab_link": true
    },
    "kernelspec": {
      "name": "python3",
      "display_name": "Python 3"
    },
    "language_info": {
      "name": "python"
    }
  },
  "cells": [
    {
      "cell_type": "markdown",
      "metadata": {
        "id": "view-in-github",
        "colab_type": "text"
      },
      "source": [
        "<a href=\"https://colab.research.google.com/github/werowe/HypatiaAcademy/blob/master/class/13_june_2023_gcd.ipynb\" target=\"_parent\"><img src=\"https://colab.research.google.com/assets/colab-badge.svg\" alt=\"Open In Colab\"/></a>"
      ]
    },
    {
      "cell_type": "code",
      "execution_count": 45,
      "metadata": {
        "colab": {
          "base_uri": "https://localhost:8080/"
        },
        "id": "XW6I0XOG3Ah9",
        "outputId": "37b9bb87-48bc-47e4-eea7-cc70aeec8818"
      },
      "outputs": [
        {
          "output_type": "stream",
          "name": "stdout",
          "text": [
            "gcd (299376 99)=99\n"
          ]
        }
      ],
      "source": [
        "\n",
        "def gcd(a,b):\n",
        " \n",
        "  x = 1\n",
        " \n",
        "  if a < b:\n",
        "    x = b\n",
        "    y = a\n",
        "  else:\n",
        "    x = a\n",
        "    y = b\n",
        "\n",
        "  try:\n",
        "    if x%y != 0:\n",
        "      raise Exception(\"not coprime\")\n",
        "  \n",
        "    if x < 0 or y < 0:\n",
        "      raise Exception(\"no negative numbers\")\n",
        "\n",
        "    while x != 0:\n",
        "       x = x - y\n",
        "\n",
        "    return y  \n",
        "  except Exception as error:\n",
        "    print(error) \n",
        "\n",
        "a=12*36*7*99\n",
        "b=99\n",
        "\n",
        "print(\"gcd (%i %i)=%i\" % (a, b, gcd(a,b)))\n",
        "\n",
        " \n"
      ]
    },
    {
      "cell_type": "code",
      "source": [
        "import numpy as np\n",
        "\n",
        "x = np.gcd(a, b)\n",
        "\n",
        " \n",
        "print(\"numpy calculation is\",x)"
      ],
      "metadata": {
        "colab": {
          "base_uri": "https://localhost:8080/"
        },
        "id": "wo-r7BXl3qJw",
        "outputId": "74b0b594-9b49-4c38-81b7-fa432fb4c4b7"
      },
      "execution_count": 46,
      "outputs": [
        {
          "output_type": "stream",
          "name": "stdout",
          "text": [
            "numpy calculation is 99\n"
          ]
        }
      ]
    }
  ]
}