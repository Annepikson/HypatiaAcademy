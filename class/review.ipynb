{
  "nbformat": 4,
  "nbformat_minor": 0,
  "metadata": {
    "colab": {
      "provenance": [],
      "include_colab_link": true
    },
    "kernelspec": {
      "name": "python3",
      "display_name": "Python 3"
    },
    "language_info": {
      "name": "python"
    }
  },
  "cells": [
    {
      "cell_type": "markdown",
      "metadata": {
        "id": "view-in-github",
        "colab_type": "text"
      },
      "source": [
        "<a href=\"https://colab.research.google.com/github/werowe/HypatiaAcademy/blob/master/class/review.ipynb\" target=\"_parent\"><img src=\"https://colab.research.google.com/assets/colab-badge.svg\" alt=\"Open In Colab\"/></a>"
      ]
    },
    {
      "cell_type": "code",
      "execution_count": 2,
      "metadata": {
        "colab": {
          "base_uri": "https://localhost:8080/"
        },
        "id": "j8cvna8CG56u",
        "outputId": "3011cb44-9d56-4afa-c531-a77f71e94151"
      },
      "outputs": [
        {
          "output_type": "execute_result",
          "data": {
            "text/plain": [
              "['Ben', 'Olivia', 'Sam']"
            ]
          },
          "metadata": {},
          "execution_count": 2
        }
      ],
      "source": [
        "family = [\"Ben\", \"Olivia\", \"Sam\"]\n",
        "family"
      ]
    },
    {
      "cell_type": "code",
      "source": [
        "family[0]\n",
        "len(family)"
      ],
      "metadata": {
        "colab": {
          "base_uri": "https://localhost:8080/"
        },
        "id": "LGbSL5aBHZDr",
        "outputId": "dc2b5dd9-bbef-4817-d997-b9f78b8bc221"
      },
      "execution_count": null,
      "outputs": [
        {
          "output_type": "execute_result",
          "data": {
            "text/plain": [
              "3"
            ]
          },
          "metadata": {},
          "execution_count": 6
        }
      ]
    },
    {
      "cell_type": "code",
      "source": [
        "# the items in a list you refer to by a number called the index\n",
        "# the index starts at 0\n",
        "\n",
        "# so in family family[0] is \"ben\".  family[2] is \"sam\"\n"
      ],
      "metadata": {
        "id": "TfulnGOzIp4S"
      },
      "execution_count": null,
      "outputs": []
    },
    {
      "cell_type": "code",
      "source": [
        "# we can loop through the items in a list and print the value and the index\n",
        "\n",
        "for index in family:\n",
        "  print(index)\n",
        "  #print(index, family[index])\n",
        "\n"
      ],
      "metadata": {
        "colab": {
          "base_uri": "https://localhost:8080/"
        },
        "id": "B5d5fGJ1I49D",
        "outputId": "421639dd-489d-4359-946b-9edeb02052c4"
      },
      "execution_count": 6,
      "outputs": [
        {
          "output_type": "stream",
          "name": "stdout",
          "text": [
            "Ben\n",
            "Olivia\n",
            "Sam\n"
          ]
        }
      ]
    },
    {
      "cell_type": "code",
      "source": [
        "for index in range(3):\n",
        "  print(index, family[index])"
      ],
      "metadata": {
        "id": "rg_VC04PJ2NG",
        "outputId": "a96fe3ef-ac20-44a2-9400-f5a8def8bf73",
        "colab": {
          "base_uri": "https://localhost:8080/"
        }
      },
      "execution_count": 8,
      "outputs": [
        {
          "output_type": "stream",
          "name": "stdout",
          "text": [
            "0 Ben\n",
            "1 Olivia\n",
            "2 Sam\n"
          ]
        }
      ]
    },
    {
      "cell_type": "code",
      "source": [
        "index=0\n",
        "\n",
        "family[index]\n"
      ],
      "metadata": {
        "id": "VbPbWw6nJeWi",
        "outputId": "a2f519b4-f772-46b2-dd02-2657957ae875",
        "colab": {
          "base_uri": "https://localhost:8080/",
          "height": 37
        }
      },
      "execution_count": 11,
      "outputs": [
        {
          "output_type": "execute_result",
          "data": {
            "text/plain": [
              "'Ben'"
            ],
            "application/vnd.google.colaboratory.intrinsic+json": {
              "type": "string"
            }
          },
          "metadata": {},
          "execution_count": 11
        }
      ]
    },
    {
      "cell_type": "code",
      "source": [
        "type(family)"
      ],
      "metadata": {
        "id": "CaOP7j5rKdzJ",
        "outputId": "e4a11065-cb17-4459-c773-38df7b1773a7",
        "colab": {
          "base_uri": "https://localhost:8080/"
        }
      },
      "execution_count": 12,
      "outputs": [
        {
          "output_type": "execute_result",
          "data": {
            "text/plain": [
              "list"
            ]
          },
          "metadata": {},
          "execution_count": 12
        }
      ]
    },
    {
      "cell_type": "markdown",
      "source": [
        "so what did we learn?\n",
        "\n",
        "1. how to make a list\n",
        "2.  how to print the first item in a list\n",
        "3.  how to print all the items in a list\n",
        "4.  how to use the range function to print all the items in a list\n"
      ],
      "metadata": {
        "id": "FLLp7w0KKxrt"
      }
    },
    {
      "cell_type": "code",
      "source": [],
      "metadata": {
        "id": "RQeDw-2VKzMN"
      },
      "execution_count": 12,
      "outputs": []
    }
  ]
}