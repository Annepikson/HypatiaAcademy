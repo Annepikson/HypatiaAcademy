{
  "nbformat": 4,
  "nbformat_minor": 0,
  "metadata": {
    "colab": {
      "provenance": [],
      "authorship_tag": "ABX9TyPB6LZ30CmTW0Rh71TH0WQm",
      "include_colab_link": true
    },
    "kernelspec": {
      "name": "python3",
      "display_name": "Python 3"
    },
    "language_info": {
      "name": "python"
    }
  },
  "cells": [
    {
      "cell_type": "markdown",
      "metadata": {
        "id": "view-in-github",
        "colab_type": "text"
      },
      "source": [
        "<a href=\"https://colab.research.google.com/github/werowe/HypatiaAcademy/blob/master/class/family.ipynb\" target=\"_parent\"><img src=\"https://colab.research.google.com/assets/colab-badge.svg\" alt=\"Open In Colab\"/></a>"
      ]
    },
    {
      "cell_type": "code",
      "execution_count": 2,
      "metadata": {
        "colab": {
          "base_uri": "https://localhost:8080/"
        },
        "id": "_hBNg9UUqQb8",
        "outputId": "53ce37e3-7220-4f75-d10f-2f3ec96bcb55"
      },
      "outputs": [
        {
          "output_type": "stream",
          "name": "stdout",
          "text": [
            "this prints each person in the list called family\n",
            "\n",
            "mari\n",
            "george\n",
            "walker\n",
            "nina\n",
            "this also prints each person in the list, but using the range() function\n",
            "\n",
            "0 mari\n",
            "1 george\n",
            "2 walker\n",
            "3 nina\n"
          ]
        }
      ],
      "source": [
        "family = [\"mari\", \"george\", \"walker\", \"nina\"]\n",
        "\n",
        "print(\"this prints each person in the list called family\\n\")\n",
        "\n",
        "for person in family:\n",
        "  print(person)\n",
        "\n",
        "print(\"this also prints each person in the list, but using the range() function\\n\")\n",
        "\n",
        "\n",
        "\n",
        "for i in range(len(family)):\n",
        "  print(i, family[i])\n"
      ]
    }
  ]
}