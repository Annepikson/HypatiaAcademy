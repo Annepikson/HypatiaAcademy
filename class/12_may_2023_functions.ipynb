{
  "nbformat": 4,
  "nbformat_minor": 0,
  "metadata": {
    "colab": {
      "provenance": [],
      "authorship_tag": "ABX9TyMfekvel1b/8UmGdzdWEoZa",
      "include_colab_link": true
    },
    "kernelspec": {
      "name": "python3",
      "display_name": "Python 3"
    },
    "language_info": {
      "name": "python"
    }
  },
  "cells": [
    {
      "cell_type": "markdown",
      "metadata": {
        "id": "view-in-github",
        "colab_type": "text"
      },
      "source": [
        "<a href=\"https://colab.research.google.com/github/werowe/HypatiaAcademy/blob/master/class/12_may_2023_functions.ipynb\" target=\"_parent\"><img src=\"https://colab.research.google.com/assets/colab-badge.svg\" alt=\"Open In Colab\"/></a>"
      ]
    },
    {
      "cell_type": "code",
      "execution_count": 3,
      "metadata": {
        "colab": {
          "base_uri": "https://localhost:8080/"
        },
        "id": "rlCHKGlOAOAP",
        "outputId": "e2647c2f-3a64-4cbe-94f6-501139f713e9"
      },
      "outputs": [
        {
          "output_type": "stream",
          "name": "stdout",
          "text": [
            "this is a  silly message\n"
          ]
        }
      ],
      "source": [
        "\n",
        "'''\n",
        "\n",
        "in math you write functions like this\n",
        "\n",
        "y=f(x)\n",
        "\n",
        "'''\n",
        "\n",
        "'''\n",
        "\n",
        "a function takes some input and returns an output\n",
        "\n",
        "below we just doing muliplication\n",
        "\n",
        "so let's a function to do multiplication\n",
        "\n",
        "'''\n",
        "\n",
        "\n",
        "'''\n",
        "\n",
        "so function has:\n",
        "\n",
        "1. a name , this is called multiply, we could call it Kiril\n",
        "2. arguments.  that means what goes in\n",
        "3. return values.  that means who comes back\n",
        "\n",
        "\n",
        "2,3--------->multiply------->6\n",
        "\n",
        "2, 3 are the arguments\n",
        "6 is the returned value\n",
        "\n",
        "\n",
        "def means definition, define\n",
        "\n",
        "so def functioName\n",
        "\n",
        "\n",
        "\n",
        "'''\n",
        "\n",
        "\n",
        "def multiply(x,y): \n",
        "  return x*y         \n",
        "                      \n",
        "                       \n",
        "multiply(2,3)   \n",
        "\n",
        "\n",
        "def joaquim(b):\n",
        "  return b + \" silly message\"\n",
        "\n",
        "\n",
        "print(joaquim(\"this is a \"))\n",
        "\n",
        "\n",
        "'''\n",
        "\n",
        "take this text \"this is a \"   ----------->. sent to function Joaquim\n",
        "\n",
        "now function joaquim does this it takes \"this is a \" and adds to it \" silly message\"\n",
        "\n",
        "then it retirns \"this is a silly message\"\n",
        "\n",
        "'''\n",
        "\n",
        "\n"
      ]
    },
    {
      "cell_type": "code",
      "source": [
        "\"this is a  \" + \"silly message\"\n",
        "\n",
        "joaquim(\"this is a \")\n"
      ],
      "metadata": {
        "colab": {
          "base_uri": "https://localhost:8080/",
          "height": 37
        },
        "id": "QevCV22JCX-W",
        "outputId": "91aa9a29-0849-4228-a1ef-b377fe8d7325"
      },
      "execution_count": 6,
      "outputs": [
        {
          "output_type": "execute_result",
          "data": {
            "text/plain": [
              "'this is a  silly message'"
            ],
            "application/vnd.google.colaboratory.intrinsic+json": {
              "type": "string"
            }
          },
          "metadata": {},
          "execution_count": 6
        }
      ]
    },
    {
      "cell_type": "code",
      "source": [
        "def double(input):\n",
        "    print(\"the input value, aka the argument is \", input)\n",
        "    return 2 * input\n",
        "\n",
        "double(input=3)    "
      ],
      "metadata": {
        "colab": {
          "base_uri": "https://localhost:8080/"
        },
        "id": "x2XLhy-6CqHx",
        "outputId": "24d13846-ec51-477f-fa5a-fe8c08be53af"
      },
      "execution_count": 9,
      "outputs": [
        {
          "output_type": "stream",
          "name": "stdout",
          "text": [
            "the input value, aka the argument is  3\n"
          ]
        },
        {
          "output_type": "execute_result",
          "data": {
            "text/plain": [
              "6"
            ]
          },
          "metadata": {},
          "execution_count": 9
        }
      ]
    },
    {
      "cell_type": "code",
      "source": [
        "def firstFunction(a,b):\n",
        "\n",
        "    \n",
        "    return secondFunction(a*2,b*2)\n",
        "\n",
        "\n",
        "\n",
        "def secondFunction(a,b):\n",
        "  return a-b\n",
        "\n",
        "\n",
        "firstFunction(10,2)\n"
      ],
      "metadata": {
        "colab": {
          "base_uri": "https://localhost:8080/"
        },
        "id": "C9ZmoZCADFkr",
        "outputId": "8bf2c928-f946-4851-b65f-08ecac3cf4f4"
      },
      "execution_count": 12,
      "outputs": [
        {
          "output_type": "execute_result",
          "data": {
            "text/plain": [
              "16"
            ]
          },
          "metadata": {},
          "execution_count": 12
        }
      ]
    },
    {
      "cell_type": "code",
      "source": [
        "'''\n",
        "\n",
        "firstFunction(10,2)------ multiply 10*2,2*2 and then send 20, 4 to secondFunction\n",
        "\n",
        "secondFunc tion then takes 20 subtracts 4 returns 16\n",
        "\n",
        "\n",
        "\n",
        "'''"
      ],
      "metadata": {
        "id": "kTv0xAc5DvSY"
      },
      "execution_count": null,
      "outputs": []
    },
    {
      "cell_type": "code",
      "source": [
        "\"kiril\".upper()\n",
        "\n",
        "\"WALKER\".lower()\n",
        "\n",
        "\n",
        "\n",
        "def toLower(inputWord):\n",
        "  print(inputWord)\n",
        "  return inputWord.lower()\n",
        "\n",
        "\n",
        "toLower(\"WALKER\")  \n",
        "\n"
      ],
      "metadata": {
        "colab": {
          "base_uri": "https://localhost:8080/",
          "height": 55
        },
        "id": "uncbDmSMEGv_",
        "outputId": "ee9b0200-a9d4-47c3-d100-8842a0fd60c1"
      },
      "execution_count": 18,
      "outputs": [
        {
          "output_type": "stream",
          "name": "stdout",
          "text": [
            "WALKER\n"
          ]
        },
        {
          "output_type": "execute_result",
          "data": {
            "text/plain": [
              "'walker'"
            ],
            "application/vnd.google.colaboratory.intrinsic+json": {
              "type": "string"
            }
          },
          "metadata": {},
          "execution_count": 18
        }
      ]
    },
    {
      "cell_type": "code",
      "source": [
        "\n",
        "\n",
        "\n",
        "\n"
      ],
      "metadata": {
        "id": "q2776hBtE6IH"
      },
      "execution_count": null,
      "outputs": []
    },
    {
      "cell_type": "code",
      "source": [
        "'''\n",
        "integers are numbers\n",
        "\n",
        "bool is True False\n",
        "\n",
        "strings are letters like \"a\" \"abc\".   \"kiril sofia freaky freddy\"\n",
        "\n",
        "\n",
        "easier to understand examples https://www.w3schools.com/python/python_ref_string.asp\n",
        "\n",
        "Official Python instructions (very complicated). https://docs.python.org/3/library/string.html\n",
        "\n",
        "Let's try to use the find function\n",
        "\n",
        "'''\n",
        "\n",
        "txt = \"I cannot find my book where is my book maybe it is at school\"\n",
        "\n",
        "x = txt.find(\"school\")\n",
        "\n",
        "print(x)\n",
        "\n",
        "\n",
        "txt[54] + txt[55] + txt[56] + txt[57] \n",
        "\n",
        "\n",
        "# what we need is a function that tells us how long the word school is\n",
        "\n",
        "len(\"school\")\n",
        "\n",
        "txt[54:54+len(\"school\")]\n",
        "\n",
        "\n",
        "\n",
        "'''\n",
        "when you put some string like \"freak fred\"\n",
        "\n",
        "\n",
        "\"freak fred\"[start here, end here]\n",
        "\n",
        "\n",
        "'''\n",
        "\n",
        "\n",
        "\"freak fred\"[3:9]"
      ],
      "metadata": {
        "colab": {
          "base_uri": "https://localhost:8080/",
          "height": 55
        },
        "id": "Xr3O7THPEsfh",
        "outputId": "53c64a24-cbe7-46bc-b6f8-888af1b47583"
      },
      "execution_count": 31,
      "outputs": [
        {
          "output_type": "stream",
          "name": "stdout",
          "text": [
            "54\n"
          ]
        },
        {
          "output_type": "execute_result",
          "data": {
            "text/plain": [
              "'ak fre'"
            ],
            "application/vnd.google.colaboratory.intrinsic+json": {
              "type": "string"
            }
          },
          "metadata": {},
          "execution_count": 31
        }
      ]
    },
    {
      "cell_type": "code",
      "source": [
        "txt = \"I cannot find my book where is my book maybe it is at school\"\n",
        "\n",
        "txt[2:7]"
      ],
      "metadata": {
        "colab": {
          "base_uri": "https://localhost:8080/",
          "height": 37
        },
        "id": "44UbsiElHarY",
        "outputId": "5937c232-9183-4824-8d88-4baf8253e430"
      },
      "execution_count": 33,
      "outputs": [
        {
          "output_type": "execute_result",
          "data": {
            "text/plain": [
              "'canno'"
            ],
            "application/vnd.google.colaboratory.intrinsic+json": {
              "type": "string"
            }
          },
          "metadata": {},
          "execution_count": 33
        }
      ]
    },
    {
      "cell_type": "code",
      "source": [
        "for ilias in txt:\n",
        "  print(ilias)"
      ],
      "metadata": {
        "colab": {
          "base_uri": "https://localhost:8080/"
        },
        "id": "VsFtQ5tBHshN",
        "outputId": "22de5e58-9720-401f-9615-3796ebb6b988"
      },
      "execution_count": 35,
      "outputs": [
        {
          "output_type": "stream",
          "name": "stdout",
          "text": [
            "I\n",
            " \n",
            "c\n",
            "a\n",
            "n\n",
            "n\n",
            "o\n",
            "t\n",
            " \n",
            "f\n",
            "i\n",
            "n\n",
            "d\n",
            " \n",
            "m\n",
            "y\n",
            " \n",
            "b\n",
            "o\n",
            "o\n",
            "k\n",
            " \n",
            "w\n",
            "h\n",
            "e\n",
            "r\n",
            "e\n",
            " \n",
            "i\n",
            "s\n",
            " \n",
            "m\n",
            "y\n",
            " \n",
            "b\n",
            "o\n",
            "o\n",
            "k\n",
            " \n",
            "m\n",
            "a\n",
            "y\n",
            "b\n",
            "e\n",
            " \n",
            "i\n",
            "t\n",
            " \n",
            "i\n",
            "s\n",
            " \n",
            "a\n",
            "t\n",
            " \n",
            "s\n",
            "c\n",
            "h\n",
            "o\n",
            "o\n",
            "l\n"
          ]
        }
      ]
    },
    {
      "cell_type": "code",
      "source": [
        "'''\n",
        "\n",
        "homework\n",
        "\n",
        "1. write a function to make a word uppercase \n",
        "\n",
        "we used the string method called lower() so here just use the string methold upper()\n",
        "\n",
        "remember to look at these insructions https://www.w3schools.com/python/python_ref_string.asp\n",
        "\n",
        "2.  make a string \"something very long\". and then print from the 10th to the 20th letters using the string[from:to]\n",
        "\n",
        "\n",
        "'''"
      ],
      "metadata": {
        "id": "5WzK9eF3H3sc"
      },
      "execution_count": null,
      "outputs": []
    }
  ]
}