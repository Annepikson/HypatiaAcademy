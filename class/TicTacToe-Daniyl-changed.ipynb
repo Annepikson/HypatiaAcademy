{
  "nbformat": 4,
  "nbformat_minor": 0,
  "metadata": {
    "colab": {
      "provenance": [],
      "include_colab_link": true
    },
    "kernelspec": {
      "name": "python3",
      "display_name": "Python 3"
    },
    "language_info": {
      "name": "python"
    }
  },
  "cells": [
    {
      "cell_type": "markdown",
      "metadata": {
        "id": "view-in-github",
        "colab_type": "text"
      },
      "source": [
        "<a href=\"https://colab.research.google.com/github/werowe/HypatiaAcademy/blob/master/class/TicTacToe-Daniyl-changed.ipynb\" target=\"_parent\"><img src=\"https://colab.research.google.com/assets/colab-badge.svg\" alt=\"Open In Colab\"/></a>"
      ]
    },
    {
      "cell_type": "code",
      "source": [
        "import random\n",
        "\n",
        "# Function to check if there is a winner\n",
        "def check_winner(board):\n",
        "\n",
        "    # Check rows\n",
        "    #for row in board:\n",
        "    #    if row[0] == row[1] == row[2] and row[0] is not None:\n",
        "    #        return row[0]\n",
        "    for row in range(3):\n",
        "        if board[row][0] == board[row][1] == board[row][2] and board[row][0] is not None:\n",
        "            return True\n",
        "\n",
        "    # Check columns\n",
        "    for col in range(3):\n",
        "        if board[0][col] == board[1][col] == board[2][col] and board[0][col] is not None:\n",
        "            return True\n",
        "            #return board[0][col]\n",
        "\n",
        "    # Check diagonals\n",
        "    if board[0][0] == board[1][1] == board[2][2] and board[0][0] is not None:\n",
        "        return True\n",
        "    if board[0][2] == board[1][1] == board[2][0] and board[0][2] is not None:\n",
        "        return True\n",
        "\n",
        "    # No winner\n",
        "    return False\n",
        "\n",
        "\n"
      ],
      "metadata": {
        "id": "ICKHsBg--lqz"
      },
      "execution_count": 25,
      "outputs": []
    },
    {
      "cell_type": "code",
      "source": [
        "check_winner(board)"
      ],
      "metadata": {
        "id": "Nz3XLLLFepQ6",
        "outputId": "08694e4e-0c2c-4eba-f4ab-e00700bfd405",
        "colab": {
          "base_uri": "https://localhost:8080/"
        }
      },
      "execution_count": 26,
      "outputs": [
        {
          "output_type": "execute_result",
          "data": {
            "text/plain": [
              "True"
            ]
          },
          "metadata": {},
          "execution_count": 26
        }
      ]
    },
    {
      "cell_type": "code",
      "source": [
        "# Create an empty 3x3 board\n",
        "board = [[None, None, None],\n",
        "         [None, None, None],\n",
        "         [None, None, None]]\n",
        "\n",
        "# Game loop\n",
        "isFinished = False\n",
        "current_player = 'x'\n",
        "\n",
        "while not isFinished:\n",
        "    # Print the board\n",
        "    print(\"Current Board:\")\n",
        "    for row in board:\n",
        "        print(row)\n",
        "\n",
        "    # Get random row and column\n",
        "    row = random.randint(0, 2)\n",
        "    col = random.randint(0, 2)\n",
        "\n",
        "    # Check if the selected cell is empty\n",
        "    if board[row][col] is None:\n",
        "        # Place the current player's symbol on the board\n",
        "        board[row][col] = current_player\n",
        "\n",
        "        # Check if there is a winner\n",
        "        # return a true (winner) or a false (no winner)\n",
        "        winner = check_winner(board)\n",
        "        if winner:\n",
        "            print(\"Player\", winner, \"wins!\")\n",
        "            isFinished = True\n",
        "\n",
        "        # Switch to the other player\n",
        "        current_player = 'o' if current_player == 'x' else 'x'\n",
        "\n",
        "        # Check if the board is full (tie)\n",
        "        if all(all(row) for row in board):\n",
        "            print(\"It's a tie!\")\n",
        "            isFinished = True"
      ],
      "metadata": {
        "id": "NdWeJ4mSehJI"
      },
      "execution_count": null,
      "outputs": []
    },
    {
      "cell_type": "code",
      "source": [
        "\n",
        "check_winner(board)"
      ],
      "metadata": {
        "id": "bIYekwr5avSG",
        "outputId": "bf187b9d-6f37-4485-bbed-d38c19aed37a",
        "colab": {
          "base_uri": "https://localhost:8080/",
          "height": 37
        }
      },
      "execution_count": 24,
      "outputs": [
        {
          "output_type": "execute_result",
          "data": {
            "text/plain": [
              "'x'"
            ],
            "application/vnd.google.colaboratory.intrinsic+json": {
              "type": "string"
            }
          },
          "metadata": {},
          "execution_count": 24
        }
      ]
    },
    {
      "cell_type": "code",
      "source": [
        "def check_winner(board):\n",
        "    # Check rows\n",
        "    for row in board:\n",
        "        if row[0] == row[1] == row[2] and row[0] is not None:\n",
        "            return row[0]\n",
        "\n",
        "    # Check columns\n",
        "    for col in range(3):\n",
        "        if board[0][col] == board[1][col] == board[2][col] and board[0][col] is not None:\n",
        "            return board[0][col]\n",
        "\n",
        "    # Check diagonals\n",
        "    if board[0][0] == board[1][1] == board[2][2] and board[0][0] is not None:\n",
        "        return board[0][0]\n",
        "    if board[0][2] == board[1][1] == board[2][0] and board[0][2] is not None:\n",
        "        return board[0][2]\n",
        "\n",
        "    # No winner\n",
        "    return None\n",
        "\n",
        ""
      ],
      "metadata": {
        "id": "fhgrMgSJbE2n",
        "outputId": "6e64ef1b-53e5-4a5d-a0db-f68fd3537ac7",
        "colab": {
          "base_uri": "https://localhost:8080/",
          "height": 37
        }
      },
      "execution_count": 8,
      "outputs": [
        {
          "output_type": "execute_result",
          "data": {
            "text/plain": [
              "'x'"
            ],
            "application/vnd.google.colaboratory.intrinsic+json": {
              "type": "string"
            }
          },
          "metadata": {},
          "execution_count": 8
        }
      ]
    },
    {
      "cell_type": "code",
      "source": [
        "print(board[0])\n",
        "print(board[1])\n",
        "print(board[2])\n"
      ],
      "metadata": {
        "id": "MXYb1mWwcWMP",
        "outputId": "104353fc-7d36-427c-8293-408d34b1164c",
        "colab": {
          "base_uri": "https://localhost:8080/"
        }
      },
      "execution_count": 15,
      "outputs": [
        {
          "output_type": "stream",
          "name": "stdout",
          "text": [
            "['x', 'x', 'x']\n",
            "['o', 'x', 'o']\n",
            "['o', 'x', 'o']\n"
          ]
        }
      ]
    },
    {
      "cell_type": "code",
      "source": [
        "for col in range(3):\n",
        "    print(col)\n",
        "    (board[0][col] == board[1][col] == board[2][col] and board[0][col] is not None)"
      ],
      "metadata": {
        "id": "1fB_pmIqb5vc",
        "outputId": "e370737e-579a-4911-9a17-a92a4f847ce5",
        "colab": {
          "base_uri": "https://localhost:8080/"
        }
      },
      "execution_count": 21,
      "outputs": [
        {
          "output_type": "stream",
          "name": "stdout",
          "text": [
            "0\n",
            "1\n",
            "2\n"
          ]
        }
      ]
    },
    {
      "cell_type": "code",
      "source": [
        "board[0][0] == board[1][1] == board[2][2]\n",
        "board[0][2] == board[1][1] == board[2][0] and board[0][2]"
      ],
      "metadata": {
        "id": "5CN_JpTkc0JU",
        "outputId": "932bf90f-f2be-490e-ab4d-293746ff388d",
        "colab": {
          "base_uri": "https://localhost:8080/"
        }
      },
      "execution_count": 23,
      "outputs": [
        {
          "output_type": "execute_result",
          "data": {
            "text/plain": [
              "False"
            ]
          },
          "metadata": {},
          "execution_count": 23
        }
      ]
    }
  ]
}