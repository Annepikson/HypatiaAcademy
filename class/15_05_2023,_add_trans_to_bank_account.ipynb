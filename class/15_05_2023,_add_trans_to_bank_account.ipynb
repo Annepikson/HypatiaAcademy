{
  "nbformat": 4,
  "nbformat_minor": 0,
  "metadata": {
    "colab": {
      "provenance": [],
      "include_colab_link": true
    },
    "kernelspec": {
      "name": "python3",
      "display_name": "Python 3"
    },
    "language_info": {
      "name": "python"
    }
  },
  "cells": [
    {
      "cell_type": "markdown",
      "metadata": {
        "id": "view-in-github",
        "colab_type": "text"
      },
      "source": [
        "<a href=\"https://colab.research.google.com/github/werowe/HypatiaAcademy/blob/master/class/15_05_2023%2C_add_trans_to_bank_account.ipynb\" target=\"_parent\"><img src=\"https://colab.research.google.com/assets/colab-badge.svg\" alt=\"Open In Colab\"/></a>"
      ]
    },
    {
      "cell_type": "code",
      "execution_count": 24,
      "metadata": {
        "colab": {
          "base_uri": "https://localhost:8080/"
        },
        "id": "-w4emnHn-sRG",
        "outputId": "a58708cd-874e-47e4-b182-4f0e10e7161b"
      },
      "outputs": [
        {
          "output_type": "stream",
          "name": "stdout",
          "text": [
            "Your bank account number is:  104738945\n",
            "Balance on your account is:  45000.34\n",
            "Hello, Jenny welcome to your Bank account page\n",
            "transaction date  2023-06-15 09:40:54.475358\n",
            "transaction amount  100\n"
          ]
        }
      ],
      "source": [
        "import datetime\n",
        "\n",
        "class Transaction:\n",
        "\n",
        "   def __init__ (self, date, amount):\n",
        "      self.date=date\n",
        "      self.amount=amount\n",
        "\n",
        "\n",
        "class BankAccount:\n",
        "\n",
        "  transactions = []\n",
        "  def __init__ (self, account_number, balance, owners_name):\n",
        "    self.account_number = account_number\n",
        "    self.balance = balance\n",
        "    self.owner_name = owners_name\n",
        "\n",
        "  def addTrans(self, date, amount):\n",
        "    transaction = Transaction(date, amount)\n",
        "    self.transactions.append(transaction)\n",
        "\n",
        "Jenny_s_account = BankAccount(104738945, 45000.34, \"Jenny\")\n",
        "\n",
        "print(\"Your bank account number is: \", Jenny_s_account.account_number)\n",
        "print(\"Balance on your account is: \", Jenny_s_account.balance)\n",
        "print(\"Hello,\", Jenny_s_account.owner_name, \"welcome to your Bank account page\")\n",
        "\n",
        "\n",
        "Jenny_s_account.addTrans(datetime.datetime.now(), 100)\n",
        "print(\"transaction date \", Jenny_s_account.transactions[0].date)\n",
        "print(\"transaction amount \",Jenny_s_account.transactions[0].amount)"
      ]
    },
    {
      "cell_type": "code",
      "source": [],
      "metadata": {
        "id": "siczXBwZX6kk"
      },
      "execution_count": 21,
      "outputs": []
    },
    {
      "cell_type": "code",
      "source": [],
      "metadata": {
        "colab": {
          "base_uri": "https://localhost:8080/"
        },
        "id": "fi265xZIZv1H",
        "outputId": "d49958db-78d3-4857-fd39-03c986c4741f"
      },
      "execution_count": 22,
      "outputs": [
        {
          "output_type": "execute_result",
          "data": {
            "text/plain": [
              "datetime.datetime(2023, 6, 15, 9, 38, 20, 577702)"
            ]
          },
          "metadata": {},
          "execution_count": 22
        }
      ]
    },
    {
      "cell_type": "code",
      "source": [],
      "metadata": {
        "colab": {
          "base_uri": "https://localhost:8080/"
        },
        "id": "3Fg0PYt0afDL",
        "outputId": "7e02c220-fcf4-47d5-ff3f-1cd2391d994d"
      },
      "execution_count": 23,
      "outputs": [
        {
          "output_type": "execute_result",
          "data": {
            "text/plain": [
              "100"
            ]
          },
          "metadata": {},
          "execution_count": 23
        }
      ]
    }
  ]
}