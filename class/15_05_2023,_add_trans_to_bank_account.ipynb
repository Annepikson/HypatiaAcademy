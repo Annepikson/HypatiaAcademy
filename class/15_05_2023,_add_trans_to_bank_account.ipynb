{
  "nbformat": 4,
  "nbformat_minor": 0,
  "metadata": {
    "colab": {
      "provenance": [],
      "include_colab_link": true
    },
    "kernelspec": {
      "name": "python3",
      "display_name": "Python 3"
    },
    "language_info": {
      "name": "python"
    }
  },
  "cells": [
    {
      "cell_type": "markdown",
      "metadata": {
        "id": "view-in-github",
        "colab_type": "text"
      },
      "source": [
        "<a href=\"https://colab.research.google.com/github/werowe/HypatiaAcademy/blob/master/class/15_05_2023%2C_add_trans_to_bank_account.ipynb\" target=\"_parent\"><img src=\"https://colab.research.google.com/assets/colab-badge.svg\" alt=\"Open In Colab\"/></a>"
      ]
    },
    {
      "cell_type": "code",
      "execution_count": 4,
      "metadata": {
        "colab": {
          "base_uri": "https://localhost:8080/"
        },
        "id": "-w4emnHn-sRG",
        "outputId": "2161da6a-edb8-4013-e4e4-72150d955173"
      },
      "outputs": [
        {
          "output_type": "stream",
          "name": "stdout",
          "text": [
            "Your bank account number is:  104738945\n",
            "Balance on your account is:  45000.34\n",
            "Hello, Jenny welcome to your Bank account page\n"
          ]
        }
      ],
      "source": [
        "import datetime\n",
        "\n",
        "class Transaction:\n",
        "\n",
        "   def __init__ (self, date, amount):\n",
        "      self.date=date\n",
        "      self.amount=amount\n",
        "\n",
        "\n",
        "class BankAccount:\n",
        "\n",
        "  transactions = []\n",
        "  def __init__ (self, account_number, balance, owners_name):\n",
        "    self.account_number = account_number\n",
        "    self.balance = balance\n",
        "    self.owner_name = owners_name\n",
        "\n",
        "  def addTrans(self, date, amount):\n",
        "    transaction = Transaction(date, amount)\n",
        "    self.transactions.append(transaction)\n",
        "\n",
        "Jenny_s_account = BankAccount(104738945, 45000.34, \"Jenny\")\n",
        "\n",
        "print(\"Your bank account number is: \", Jenny_s_account.account_number)\n",
        "print(\"Balance on your account is: \", Jenny_s_account.balance)\n",
        "print(\"Hello,\", Jenny_s_account.owner_name, \"welcome to your Bank account page\")"
      ]
    },
    {
      "cell_type": "code",
      "source": [
        "trans=Jenny_s_account.addTrans(datetime.datetime.now(), 100)"
      ],
      "metadata": {
        "id": "siczXBwZX6kk"
      },
      "execution_count": 14,
      "outputs": []
    },
    {
      "cell_type": "code",
      "source": [
        ""
      ],
      "metadata": {
        "id": "09gGGnkeZb5H",
        "outputId": "2c0e64c8-4a29-4e17-aa58-ee2012443a73",
        "colab": {
          "base_uri": "https://localhost:8080/",
          "height": 168
        }
      },
      "execution_count": 15,
      "outputs": [
        {
          "output_type": "error",
          "ename": "AttributeError",
          "evalue": "ignored",
          "traceback": [
            "\u001b[0;31m---------------------------------------------------------------------------\u001b[0m",
            "\u001b[0;31mAttributeError\u001b[0m                            Traceback (most recent call last)",
            "\u001b[0;32m<ipython-input-15-e3c14931937e>\u001b[0m in \u001b[0;36m<cell line: 1>\u001b[0;34m()\u001b[0m\n\u001b[0;32m----> 1\u001b[0;31m \u001b[0mtrans\u001b[0m\u001b[0;34m.\u001b[0m\u001b[0mamount\u001b[0m\u001b[0;34m\u001b[0m\u001b[0;34m\u001b[0m\u001b[0m\n\u001b[0m",
            "\u001b[0;31mAttributeError\u001b[0m: 'NoneType' object has no attribute 'amount'"
          ]
        }
      ]
    },
    {
      "cell_type": "code",
      "source": [
        "Jenny_s_account.transactions[0].date"
      ],
      "metadata": {
        "id": "fi265xZIZv1H",
        "outputId": "a82e8ca8-4204-4ad9-abdc-b057b62e22b0",
        "colab": {
          "base_uri": "https://localhost:8080/"
        }
      },
      "execution_count": 18,
      "outputs": [
        {
          "output_type": "execute_result",
          "data": {
            "text/plain": [
              "datetime.datetime(2023, 6, 15, 9, 34, 28, 915478)"
            ]
          },
          "metadata": {},
          "execution_count": 18
        }
      ]
    },
    {
      "cell_type": "code",
      "source": [
        "Jenny_s_account.transactions[0].amount"
      ],
      "metadata": {
        "id": "3Fg0PYt0afDL",
        "outputId": "7044570d-1bb7-4699-ad56-da0bbb79533e",
        "colab": {
          "base_uri": "https://localhost:8080/"
        }
      },
      "execution_count": 19,
      "outputs": [
        {
          "output_type": "execute_result",
          "data": {
            "text/plain": [
              "100"
            ]
          },
          "metadata": {},
          "execution_count": 19
        }
      ]
    }
  ]
}