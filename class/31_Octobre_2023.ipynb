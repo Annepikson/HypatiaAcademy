{
  "nbformat": 4,
  "nbformat_minor": 0,
  "metadata": {
    "colab": {
      "provenance": [],
      "authorship_tag": "ABX9TyNjzBnw3n4MnJ21axCdNfmA",
      "include_colab_link": true
    },
    "kernelspec": {
      "name": "python3",
      "display_name": "Python 3"
    },
    "language_info": {
      "name": "python"
    }
  },
  "cells": [
    {
      "cell_type": "markdown",
      "metadata": {
        "id": "view-in-github",
        "colab_type": "text"
      },
      "source": [
        "<a href=\"https://colab.research.google.com/github/Annepikson/HypatiaAcademy/blob/master/class/31_Octobre_2023.ipynb\" target=\"_parent\"><img src=\"https://colab.research.google.com/assets/colab-badge.svg\" alt=\"Open In Colab\"/></a>"
      ]
    },
    {
      "cell_type": "code",
      "execution_count": 5,
      "metadata": {
        "colab": {
          "base_uri": "https://localhost:8080/"
        },
        "id": "NmWynhp77nNA",
        "outputId": "a197691b-809b-4dda-c6ea-4a9cf0186666"
      },
      "outputs": [
        {
          "output_type": "stream",
          "name": "stdout",
          "text": [
            "{'studentNumber': 1969, 'name': 'Walker', 'city': 'Konia', 'gpa': 85.32, 'isUkrainian': False, 'birthday': '3/10/1983'}\n"
          ]
        }
      ],
      "source": [
        "d = {'studentNumber': 1969,\n",
        " 'name': 'Walker',\n",
        " 'city': 'Konia',\n",
        " 'gpa': 85.32,\n",
        " 'isUkrainian': False,\n",
        " 'birthday': '3/10/1983'}\n",
        "print(d)\n",
        "\n"
      ]
    }
  ]
}