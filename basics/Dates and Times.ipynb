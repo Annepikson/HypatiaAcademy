{
 "cells": [
  {
   "cell_type": "markdown",
   "metadata": {},
   "source": [
    "# Dates and Times\n",
    "\n",
    "In computers, dates are times are numbers.  This is necessary so that you can do date math.  In other words if you want to add a certain number of days to a date you have to use the **timedelta** object.\n",
    "\n",
    "\n",
    "\n",
    "\n"
   ]
  },
  {
   "cell_type": "markdown",
   "metadata": {},
   "source": [
    "There are different storage techniques.  But in most cases a date is the number of seconds since this date, which is called **epoch time**.\n",
    "\n",
    "January 1, 1970, 00:00:00  "
   ]
  },
  {
   "cell_type": "markdown",
   "metadata": {},
   "source": [
    "This gives the time bash epoch time:"
   ]
  },
  {
   "cell_type": "code",
   "execution_count": 109,
   "metadata": {},
   "outputs": [
    {
     "data": {
      "text/plain": [
       "time.struct_time(tm_year=1970, tm_mon=1, tm_mday=1, tm_hour=0, tm_min=0, tm_sec=0, tm_wday=3, tm_yday=1, tm_isdst=0)"
      ]
     },
     "execution_count": 109,
     "metadata": {},
     "output_type": "execute_result"
    }
   ],
   "source": [
    "import time\n",
    "time.gmtime(0)"
   ]
  },
  {
   "cell_type": "code",
   "execution_count": 110,
   "metadata": {},
   "outputs": [
    {
     "name": "stdout",
     "output_type": "stream",
     "text": [
      "2020-08-18\n"
     ]
    }
   ],
   "source": [
    "from datetime import date\n",
    " \n",
    " \n",
    "print(date.today())\n"
   ]
  },
  {
   "cell_type": "markdown",
   "metadata": {},
   "source": [
    "Here is how you create a date object.  You can put the year, month, date or you can put the names of the parameters which makes it easier than remembering what order they are required."
   ]
  },
  {
   "cell_type": "code",
   "execution_count": 111,
   "metadata": {},
   "outputs": [
    {
     "name": "stdout",
     "output_type": "stream",
     "text": [
      "2020-12-05\n",
      "2020-12-05\n"
     ]
    }
   ],
   "source": [
    "print(datetime.date(year=2020, month=12, day=5))\n",
    "print(datetime.date(2020, 12, 5))"
   ]
  },
  {
   "cell_type": "markdown",
   "metadata": {},
   "source": [
    "Here is the current date:"
   ]
  },
  {
   "cell_type": "code",
   "execution_count": 112,
   "metadata": {},
   "outputs": [
    {
     "name": "stdout",
     "output_type": "stream",
     "text": [
      "2020-08-18\n"
     ]
    }
   ],
   "source": [
    "d=date.today()\n",
    "print(d.isoformat())"
   ]
  },
  {
   "cell_type": "markdown",
   "metadata": {},
   "source": [
    "Print date in year-month-day format."
   ]
  },
  {
   "cell_type": "code",
   "execution_count": 113,
   "metadata": {},
   "outputs": [
    {
     "data": {
      "text/plain": [
       "'2020-Aug-18'"
      ]
     },
     "execution_count": 113,
     "metadata": {},
     "output_type": "execute_result"
    }
   ],
   "source": [
    "d.strftime('%Y-%h-%d')"
   ]
  },
  {
   "cell_type": "markdown",
   "metadata": {},
   "source": [
    "### Formating Dates\n",
    "\n",
    "Here is the complete list of and time formatting codes.  For example, you can see that %A means write the complete name of the day and not the abbreviated name. %x means print it according to the [locale](https://github.com/werowe/HypatiaAcademy/blob/master/basics/Localization.ipynb)."
   ]
  },
  {
   "cell_type": "code",
   "execution_count": 114,
   "metadata": {},
   "outputs": [
    {
     "data": {
      "text/plain": [
       "'Tue Tuesday 2 18 Aug August 08 20 2020 00 12 AM 00 00 000000   231 33 33 Tue Aug 18 00:00:00 2020 00:00:00 08/18/20'"
      ]
     },
     "execution_count": 114,
     "metadata": {},
     "output_type": "execute_result"
    }
   ],
   "source": [
    "d.strftime('%a %A %w %d %b %B %m %y %Y %H %I %p %M %S %f %Z %z %j %U %W %c %X %x')"
   ]
  },
  {
   "cell_type": "markdown",
   "metadata": {},
   "source": [
    "Go forward in time one week.\n"
   ]
  },
  {
   "cell_type": "code",
   "execution_count": 115,
   "metadata": {},
   "outputs": [
    {
     "name": "stdout",
     "output_type": "stream",
     "text": [
      "2020-08-25\n"
     ]
    }
   ],
   "source": [
    "\n",
    "from datetime import timedelta\n",
    "oneWeek=timedelta(days=7,hours=0, minutes=0, seconds=0, microseconds=0)\n",
    "d=date.today()+oneWeek\n",
    "print(d.isoformat())"
   ]
  },
  {
   "cell_type": "markdown",
   "metadata": {},
   "source": [
    "Go back in time one week."
   ]
  },
  {
   "cell_type": "code",
   "execution_count": 116,
   "metadata": {},
   "outputs": [
    {
     "name": "stdout",
     "output_type": "stream",
     "text": [
      "2020-08-11\n"
     ]
    }
   ],
   "source": [
    " \n",
    "from datetime import timedelta\n",
    "oneWeek=timedelta(days=-7,hours=0, minutes=0, seconds=0, microseconds=0)\n",
    "d=date.today()+oneWeek\n",
    "print(d.isoformat())"
   ]
  },
  {
   "cell_type": "markdown",
   "metadata": {},
   "source": [
    "# Calendar Object"
   ]
  }
 ],
 "metadata": {
  "kernelspec": {
   "display_name": "Python 3",
   "language": "python",
   "name": "python3"
  },
  "language_info": {
   "codemirror_mode": {
    "name": "ipython",
    "version": 3
   },
   "file_extension": ".py",
   "mimetype": "text/x-python",
   "name": "python",
   "nbconvert_exporter": "python",
   "pygments_lexer": "ipython3",
   "version": "3.4.4"
  }
 },
 "nbformat": 4,
 "nbformat_minor": 2
}
