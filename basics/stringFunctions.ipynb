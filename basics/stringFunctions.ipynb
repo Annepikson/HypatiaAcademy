{
 "cells": [
  {
   "cell_type": "markdown",
   "metadata": {},
   "source": [
    "```sql\n",
    "CREATE TABLE customers\n",
    "  ( \n",
    "     customernumber     varchar(100) PRIMARY KEY, \n",
    "    customername varchar(50),\n",
    "    phonenumber varchar(50),\n",
    "    postalcode varchar(50),\n",
    "    locale varchar(10),\n",
    "    datecreated date,\n",
    "    email varchar(50)\n",
    "  );\n",
    "``'\n"
   ]
  },
  {
   "cell_type": "markdown",
   "metadata": {},
   "source": [
    "```sql\n",
    "CREATE TABLE orders\n",
    "  ( \n",
    "     customernumber    varchar(100) ,  variable length character\n",
    "                                         maximum length is 100\n",
    "      \n",
    "    ordernumber varchar(100) PRIMARY KEY,   has to be unique means \n",
    "                                            no two order numbers can be the same\n",
    "    comments varchar(200),\n",
    "    orderdate date,          its a number, it can be converted into yy-mm-dd etc.\n",
    "    ordertype varchar(10),\n",
    "    shipdate date,\n",
    "discount float,      real number \n",
    "quantity int,          integer\n",
    "    productnumber varchar(50)\n",
    ");\n",
    "    ```"
   ]
  },
  {
   "cell_type": "markdown",
   "metadata": {},
   "source": [
    "insert into orders ('948','889','bbmwcaxgix','2020-10-08','sale','2020-10-22','0.9999833006657076','74','CC222');\n"
   ]
  },
  {
   "cell_type": "code",
   "execution_count": null,
   "metadata": {},
   "outputs": [],
   "source": [
    "sqlString = \"insert into orders (customernumber,ordernumber,comments,orderdate,ordertype,shipdate,discount,quantity,productnumber) values \""
   ]
  },
  {
   "cell_type": "markdown",
   "metadata": {},
   "source": [
    "948 is a number so it does not need quote marks around it"
   ]
  },
  {
   "cell_type": "markdown",
   "metadata": {},
   "source": [
    "# how to format this to 2 decimal points\n",
    "    \n",
    "    0.9999833006657076\n",
    "    \n",
    "     "
   ]
  },
  {
   "cell_type": "code",
   "execution_count": 26,
   "metadata": {},
   "outputs": [],
   "source": [
    "str='0.9999833006657076'\n",
    "\n",
    "arr=str.split(\".\")\n",
    "\n",
    "\n"
   ]
  },
  {
   "cell_type": "code",
   "execution_count": 15,
   "metadata": {},
   "outputs": [
    {
     "name": "stdout",
     "output_type": "stream",
     "text": [
      "0\n",
      "9999833006657076\n"
     ]
    }
   ],
   "source": [
    "print(arr[0])\n",
    "print(arr[1])"
   ]
  },
  {
   "cell_type": "markdown",
   "metadata": {},
   "source": [
    "how do I print the first element in arr?\n",
    "arr[array index]\n",
    "\n",
    "\n",
    "₺120,99"
   ]
  },
  {
   "cell_type": "markdown",
   "metadata": {},
   "source": [
    "so take a slice of a string using [start:end-1]"
   ]
  },
  {
   "cell_type": "code",
   "execution_count": null,
   "metadata": {},
   "outputs": [],
   "source": [
    "money = \"₺\" + arr[0] + ',' + arr[1][0:2]\n"
   ]
  },
  {
   "cell_type": "code",
   "execution_count": null,
   "metadata": {},
   "outputs": [],
   "source": [
    "money"
   ]
  },
  {
   "cell_type": "markdown",
   "metadata": {},
   "source": [
    "another way to do this is with the format function"
   ]
  },
  {
   "cell_type": "code",
   "execution_count": null,
   "metadata": {},
   "outputs": [],
   "source": [
    "money=\"₺{0},{1}\".format(arr[0],arr[1][0:2])\n",
    "print(money)"
   ]
  },
  {
   "cell_type": "markdown",
   "metadata": {},
   "source": [
    "**exercise**:  format this using the slice operator [start:end] into 22-10-2020\n",
    "\n",
    "\n",
    "dt='2020-10-22'"
   ]
  },
  {
   "cell_type": "code",
   "execution_count": 18,
   "metadata": {},
   "outputs": [
    {
     "name": "stdout",
     "output_type": "stream",
     "text": [
      "9999833006657076\n"
     ]
    },
    {
     "data": {
      "text/plain": [
       "True"
      ]
     },
     "execution_count": 18,
     "metadata": {},
     "output_type": "execute_result"
    }
   ],
   "source": [
    "print(arr[1])\n",
    "\n",
    "arr[1].isdecimal()"
   ]
  },
  {
   "cell_type": "code",
   "execution_count": 19,
   "metadata": {},
   "outputs": [
    {
     "data": {
      "text/plain": [
       "['0', '9999833006657076']"
      ]
     },
     "execution_count": 19,
     "metadata": {},
     "output_type": "execute_result"
    }
   ],
   "source": [
    "arr"
   ]
  },
  {
   "cell_type": "markdown",
   "metadata": {},
   "source": [
    "the join function joins all the items in an iterable to a string\n",
    "\n",
    "a list is iterable\n",
    "because you can do this operation:\n",
    "\n",
    "for i in the list\n",
    "\n",
    "\n",
    "\"the string\".join(the list) then we get:\n",
    "\n",
    " list element 1 +  \"the string\" + list element 2\n"
   ]
  },
  {
   "cell_type": "code",
   "execution_count": 23,
   "metadata": {},
   "outputs": [
    {
     "data": {
      "text/plain": [
       "'₺0,9999833006657076'"
      ]
     },
     "execution_count": 23,
     "metadata": {},
     "output_type": "execute_result"
    }
   ],
   "source": [
    "\"₺\" + \",\".join(arr)"
   ]
  },
  {
   "cell_type": "markdown",
   "metadata": {},
   "source": [
    "**exercise 1**: format this using the slice operator [start:end] into 22-10-2020\n",
    "using the + operator, like \"a\" + \"b\" = \"ab\"\n",
    "dt='2020-10-22'\n",
    "\n",
    "\n",
    "do this using the format statement.  here use the {} {}\".format(x,y)\n",
    "\n",
    "\n",
    "\n",
    "using the join operator (here you need to put the year, month, and date into an array)\n"
   ]
  },
  {
   "cell_type": "code",
   "execution_count": null,
   "metadata": {},
   "outputs": [],
   "source": []
  }
 ],
 "metadata": {
  "kernelspec": {
   "display_name": "Python 3",
   "language": "python",
   "name": "python3"
  },
  "language_info": {
   "codemirror_mode": {
    "name": "ipython",
    "version": 3
   },
   "file_extension": ".py",
   "mimetype": "text/x-python",
   "name": "python",
   "nbconvert_exporter": "python",
   "pygments_lexer": "ipython3",
   "version": "3.4.4"
  }
 },
 "nbformat": 4,
 "nbformat_minor": 2
}
