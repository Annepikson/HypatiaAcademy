{
 "cells": [
  {
   "cell_type": "markdown",
   "metadata": {},
   "source": [
    "# Working with Files\n",
    "\n",
    "* reading files\n",
    "* reading binary files\n",
    "* looping trough files\n",
    "* writing files\n",
    "* file pointers\n",
    "* opening files over the internet\n",
    "\n",
    "\n",
    "Download this sample CSV file from [here](https://raw.githubusercontent.com/werowe/HypatiaAcademy/master/assignment/customers.csv).\n"
   ]
  },
  {
   "cell_type": "markdown",
   "metadata": {},
   "source": [
    "## Reading a File\n",
    "\n",
    "Open a file for reading:"
   ]
  },
  {
   "cell_type": "code",
   "execution_count": 109,
   "metadata": {},
   "outputs": [],
   "source": [
    "fileStr='/Users/walkerrowe/Documents/customers.csv'\n",
    "f = open(fileStr, 'r')"
   ]
  },
  {
   "cell_type": "markdown",
   "metadata": {},
   "source": [
    "## Write a File\n",
    "Open a file for writing:"
   ]
  },
  {
   "cell_type": "code",
   "execution_count": 110,
   "metadata": {},
   "outputs": [],
   "source": [
    "o = open('/Users/walkerrowe/Documents/customers.json', 'w')"
   ]
  },
  {
   "cell_type": "markdown",
   "metadata": {},
   "source": [
    "# Read Whole File\n",
    "Read whole file at once."
   ]
  },
  {
   "cell_type": "code",
   "execution_count": 111,
   "metadata": {},
   "outputs": [
    {
     "name": "stdout",
     "output_type": "stream",
     "text": [
      "customerNumber,name,adress,state,country,phoneNumber,email,dateOpened\n",
      "\n",
      "1000,mumthea,main street 12,NY,USA,3925884,mumthea@gmail.com,30/3/2015\n",
      "\n",
      "2000,walker,main street 67,NY,USA,3695448,walker@gmail.com,15/5/2016\n",
      "\n",
      "3000,michael,main street 54,NY,USA,5338775,michael@gmail.com,23/9/2014\n",
      "\n"
     ]
    }
   ],
   "source": [
    "wholeFile=f.readlines()\n",
    "for l in wholeFile:\n",
    "    print(l)\n"
   ]
  },
  {
   "cell_type": "markdown",
   "metadata": {},
   "source": [
    "# Looping Through a File\n",
    "\n",
    "You have three options:\n",
    "    \n",
    "1. Read one line at a time.\n",
    "2. Read the whole file into a variable.\n",
    "3. Read a fixed number of bytes (not commonly used)"
   ]
  },
  {
   "cell_type": "markdown",
   "metadata": {},
   "source": [
    "You can loops through the entire file one character at a time using the read() method.  Their is caveat however.  The file we downloaed is of type:\n",
    "\n",
    "`file customers.csv \n",
    "customers.csv: ASCII text, with CRLF line terminators`\n",
    "\n",
    "This causes it to read one character at a time and not one line at a time because the file was created on Windows.\n",
    "\n",
    "To read a file one line at a time it would need to be of type ASCI, like this:\n",
    "\n",
    "`file linefeeds.txt \n",
    "linefeeds.txt: ASCII text`\n",
    "\n",
    "\n",
    "To see that we read customers.csv one line character at a time.  The end of the line if the CRLF character, so it still prints each line with an end of line line feed."
   ]
  },
  {
   "cell_type": "code",
   "execution_count": 112,
   "metadata": {},
   "outputs": [
    {
     "name": "stdout",
     "output_type": "stream",
     "text": [
      "customerNumber,name,adress,state,country,phoneNumber,email,dateOpened\n",
      "1000,mumthea,main street 12,NY,USA,3925884,mumthea@gmail.com,30/3/2015\n",
      "2000,walker,main street 67,NY,USA,3695448,walker@gmail.com,15/5/2016\n",
      "3000,michael,main street 54,NY,USA,5338775,michael@gmail.com,23/9/2014\n"
     ]
    }
   ],
   "source": [
    "fileStr='/Users/walkerrowe/Documents/customers.csv'\n",
    "f = open(fileStr, 'r')\n",
    "\n",
    "for l in f.read():\n",
    "    print(l,end=\"\")"
   ]
  },
  {
   "cell_type": "markdown",
   "metadata": {},
   "source": [
    "But a more normal situation is with this file:\n",
    "    \n",
    "`cat linefeeds.txt \n",
    "First line\n",
    "second line`\n",
    "\n",
    "Which you can download from [here](https://raw.githubusercontent.com/werowe/HypatiaAcademy/master/assignment/linefeeds.txt). And then read like this:\n",
    "   "
   ]
  },
  {
   "cell_type": "code",
   "execution_count": 113,
   "metadata": {},
   "outputs": [
    {
     "name": "stdout",
     "output_type": "stream",
     "text": [
      "F\n",
      "i\n",
      "r\n",
      "s\n",
      "t\n",
      " \n",
      "l\n",
      "i\n",
      "n\n",
      "e\n",
      "\n",
      "\n",
      "s\n",
      "e\n",
      "c\n",
      "o\n",
      "n\n",
      "d\n",
      " \n",
      "l\n",
      "i\n",
      "n\n",
      "e\n",
      "\n",
      "\n"
     ]
    }
   ],
   "source": [
    "fileStr='/Users/walkerrowe/Documents/linefeeds.txt'\n",
    "f = open(fileStr, 'r')\n",
    "\n",
    "for l in f.read():\n",
    "    print(l)"
   ]
  },
  {
   "cell_type": "markdown",
   "metadata": {},
   "source": [
    "Some people prefer this notation for looping through a file:"
   ]
  },
  {
   "cell_type": "code",
   "execution_count": 114,
   "metadata": {},
   "outputs": [
    {
     "name": "stdout",
     "output_type": "stream",
     "text": [
      "<_io.TextIOWrapper name='/Users/walkerrowe/Documents/customers.csv' mode='r' encoding='UTF-8'>\n",
      "<_io.TextIOWrapper name='/Users/walkerrowe/Documents/customers.csv' mode='r' encoding='UTF-8'>\n",
      "<_io.TextIOWrapper name='/Users/walkerrowe/Documents/customers.csv' mode='r' encoding='UTF-8'>\n",
      "<_io.TextIOWrapper name='/Users/walkerrowe/Documents/customers.csv' mode='r' encoding='UTF-8'>\n"
     ]
    }
   ],
   "source": [
    "with open(filename, 'r') as f:\n",
    "    for line in f:\n",
    "        print(f)"
   ]
  },
  {
   "cell_type": "markdown",
   "metadata": {},
   "source": [
    "## Read one line"
   ]
  },
  {
   "cell_type": "code",
   "execution_count": 115,
   "metadata": {},
   "outputs": [
    {
     "name": "stdout",
     "output_type": "stream",
     "text": [
      "customerNumber,name,adress,state,country,phoneNumber,email,dateOpened\n",
      "\n"
     ]
    }
   ],
   "source": [
    "filename='/Users/walkerrowe/Documents/customers.csv'\n",
    "f = open(filename, 'r')\n",
    "\n",
    "line = f.readline()\n",
    "print(line)"
   ]
  },
  {
   "cell_type": "markdown",
   "metadata": {},
   "source": [
    "# Write to a File"
   ]
  },
  {
   "cell_type": "code",
   "execution_count": 116,
   "metadata": {},
   "outputs": [],
   "source": [
    "o = open('/Users/walkerrowe/Documents/customers.json', 'w')\n",
    "o.write(\"Hello\")\n",
    "o.close()"
   ]
  },
  {
   "cell_type": "markdown",
   "metadata": {},
   "source": [
    "Write array to file. Put a line feed (\\n) if you want each line on a line by itself."
   ]
  },
  {
   "cell_type": "code",
   "execution_count": 117,
   "metadata": {},
   "outputs": [],
   "source": [
    "lines = [ \"first line\\n\", \n",
    "        \"second line\\n\",\n",
    "        \"third line\\n\"]\n",
    "\n",
    "o = open('/Users/walkerrowe/Documents/customers.json', 'w')\n",
    "o.writelines(lines)\n",
    "o.close()"
   ]
  },
  {
   "cell_type": "markdown",
   "metadata": {},
   "source": [
    "# Read a file from the Internet\n",
    "Here is how you read a text file from the internet.\n"
   ]
  },
  {
   "cell_type": "code",
   "execution_count": 118,
   "metadata": {},
   "outputs": [],
   "source": [
    "\n",
    "import urllib.request\n",
    "\n",
    "f = \"https://raw.githubusercontent.com/werowe/HypatiaAcademy/master/assignment/encoded.txt\"\n",
    "\n",
    "l = urllib.request.urlopen(f)\n",
    "\n"
   ]
  },
  {
   "cell_type": "markdown",
   "metadata": {},
   "source": [
    "# Writing JSON Data to a File\n",
    "You cannot just write a dictionary (JSON) to a file.  You have to convert it to a string first:"
   ]
  },
  {
   "cell_type": "code",
   "execution_count": 119,
   "metadata": {},
   "outputs": [],
   "source": [
    "import simplejson as json\n",
    "\n",
    "d = {\"student\": \"Akay\", \"age\": 16, \"isMale\": True}\n",
    "\n",
    "f = open('/Users/walkerrowe/Downloads/akay.json', 'w+')\n",
    "\n",
    "f.write(json.dumps(d))\n",
    "\n",
    "f.close()"
   ]
  }
 ],
 "metadata": {
  "kernelspec": {
   "display_name": "Python 3",
   "language": "python",
   "name": "python3"
  },
  "language_info": {
   "codemirror_mode": {
    "name": "ipython",
    "version": 3
   },
   "file_extension": ".py",
   "mimetype": "text/x-python",
   "name": "python",
   "nbconvert_exporter": "python",
   "pygments_lexer": "ipython3",
   "version": "3.4.4"
  }
 },
 "nbformat": 4,
 "nbformat_minor": 2
}
