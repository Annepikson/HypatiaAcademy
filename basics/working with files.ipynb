{
 "cells": [
  {
   "cell_type": "markdown",
   "metadata": {},
   "source": [
    "# Working with Files\n",
    "\n",
    "* reading files\n",
    "* reading binary files\n",
    "* looping trough files\n",
    "* writing files\n",
    "* file pointers\n",
    "* opening files over the internet\n",
    "\n",
    "\n",
    "Download this sample CSV file from [here](https://raw.githubusercontent.com/werowe/HypatiaAcademy/master/assignment/customers.csv).\n"
   ]
  },
  {
   "cell_type": "markdown",
   "metadata": {},
   "source": [
    "## Reading a File\n",
    "\n",
    "Open a file for reading:"
   ]
  },
  {
   "cell_type": "code",
   "execution_count": 145,
   "metadata": {},
   "outputs": [],
   "source": [
    "fileStr='/Users/walkerrowe/Documents/customers.csv'\n",
    "f = open(fileStr, 'r')"
   ]
  },
  {
   "cell_type": "markdown",
   "metadata": {},
   "source": [
    "## Write a File\n",
    "Open a file for writing:"
   ]
  },
  {
   "cell_type": "code",
   "execution_count": 146,
   "metadata": {},
   "outputs": [],
   "source": [
    "o = open('/Users/walkerrowe/Documents/customers.json', 'w')"
   ]
  },
  {
   "cell_type": "markdown",
   "metadata": {},
   "source": [
    "# Read File One Line at a Time\n",
    " "
   ]
  },
  {
   "cell_type": "code",
   "execution_count": 147,
   "metadata": {},
   "outputs": [
    {
     "name": "stdout",
     "output_type": "stream",
     "text": [
      "customerNumber,name,adress,state,country,phoneNumber,email,dateOpened\n",
      "\n",
      "1000,mumthea,main street 12,NY,USA,3925884,mumthea@gmail.com,30/3/2015\n",
      "\n",
      "2000,walker,main street 67,NY,USA,3695448,walker@gmail.com,15/5/2016\n",
      "\n",
      "3000,michael,main street 54,NY,USA,5338775,michael@gmail.com,23/9/2014\n",
      "\n"
     ]
    }
   ],
   "source": [
    "fileStr='/Users/walkerrowe/Documents/customers.csv'\n",
    "f = open(fileStr, 'r') \n",
    "\n",
    "l=f.readline()\n",
    "while (len(l) > 0):\n",
    "    print(l)\n",
    "    l=f.readline()\n",
    "            \n",
    "f.close()\n"
   ]
  },
  {
   "cell_type": "markdown",
   "metadata": {},
   "source": [
    "# Looping Through a File\n",
    "\n",
    "You have three options:\n",
    "    \n",
    "1. Read one line at a time.\n",
    "2. Read the whole file into a variable.\n",
    "3. Read a fixed number of bytes (not commonly used)"
   ]
  },
  {
   "cell_type": "markdown",
   "metadata": {},
   "source": [
    "# Read Entire File into Variable\n",
    "\n",
    "There are read the entire file into variable f.  Then we loop over each character in f.  We use `print(l,end=\"\")` so that it prints each character side by side.  When the character is the line feed character (\\n) it makes a new line."
   ]
  },
  {
   "cell_type": "code",
   "execution_count": 148,
   "metadata": {},
   "outputs": [
    {
     "name": "stdout",
     "output_type": "stream",
     "text": [
      "customerNumber,name,adress,state,country,phoneNumber,email,dateOpened\n",
      "1000,mumthea,main street 12,NY,USA,3925884,mumthea@gmail.com,30/3/2015\n",
      "2000,walker,main street 67,NY,USA,3695448,walker@gmail.com,15/5/2016\n",
      "3000,michael,main street 54,NY,USA,5338775,michael@gmail.com,23/9/2014\n"
     ]
    }
   ],
   "source": [
    "fileStr='/Users/walkerrowe/Documents/customers.csv'\n",
    "f = open(fileStr, 'r')\n",
    "\n",
    "for l in f.read():\n",
    "    print(l,end=\"\")"
   ]
  },
  {
   "cell_type": "markdown",
   "metadata": {},
   "source": [
    "Some people prefer this notation for looping through a file:"
   ]
  },
  {
   "cell_type": "code",
   "execution_count": 149,
   "metadata": {},
   "outputs": [
    {
     "name": "stdout",
     "output_type": "stream",
     "text": [
      "customerNumber,name,adress,state,country,phoneNumber,email,dateOpened\n",
      "\n",
      "1000,mumthea,main street 12,NY,USA,3925884,mumthea@gmail.com,30/3/2015\n",
      "\n",
      "2000,walker,main street 67,NY,USA,3695448,walker@gmail.com,15/5/2016\n",
      "\n",
      "3000,michael,main street 54,NY,USA,5338775,michael@gmail.com,23/9/2014\n",
      "\n"
     ]
    }
   ],
   "source": [
    "with open(filename, 'r') as f:\n",
    "    for line in f:\n",
    "        print(line)"
   ]
  },
  {
   "cell_type": "markdown",
   "metadata": {},
   "source": [
    "## Read one line"
   ]
  },
  {
   "cell_type": "code",
   "execution_count": 150,
   "metadata": {},
   "outputs": [
    {
     "name": "stdout",
     "output_type": "stream",
     "text": [
      "customerNumber,name,adress,state,country,phoneNumber,email,dateOpened\n",
      "\n"
     ]
    }
   ],
   "source": [
    "filename='/Users/walkerrowe/Documents/customers.csv'\n",
    "f = open(filename, 'r')\n",
    "\n",
    "line = f.readline()\n",
    "print(line)"
   ]
  },
  {
   "cell_type": "markdown",
   "metadata": {},
   "source": [
    "# Write to a File"
   ]
  },
  {
   "cell_type": "code",
   "execution_count": 151,
   "metadata": {},
   "outputs": [],
   "source": [
    "o = open('/Users/walkerrowe/Documents/customers.json', 'w')\n",
    "o.write(\"Hello\")\n",
    "o.close()"
   ]
  },
  {
   "cell_type": "markdown",
   "metadata": {},
   "source": [
    "Write array to file. Put a line feed (\\n) if you want each line on a line by itself."
   ]
  },
  {
   "cell_type": "code",
   "execution_count": 152,
   "metadata": {},
   "outputs": [],
   "source": [
    "lines = [ \"first line\\n\", \n",
    "        \"second line\\n\",\n",
    "        \"third line\\n\"]\n",
    "\n",
    "o = open('/Users/walkerrowe/Documents/customers.json', 'w')\n",
    "o.writelines(lines)\n",
    "o.close()"
   ]
  },
  {
   "cell_type": "markdown",
   "metadata": {},
   "source": [
    "# Read a file from the Internet\n",
    "Here is how you read a text file from the internet.\n"
   ]
  },
  {
   "cell_type": "code",
   "execution_count": 153,
   "metadata": {},
   "outputs": [],
   "source": [
    "\n",
    "import urllib.request\n",
    "\n",
    "f = \"https://raw.githubusercontent.com/werowe/HypatiaAcademy/master/assignment/encoded.txt\"\n",
    "\n",
    "l = urllib.request.urlopen(f)\n",
    "\n"
   ]
  },
  {
   "cell_type": "markdown",
   "metadata": {},
   "source": [
    "# Writing JSON Data to a File\n",
    "You cannot just write a dictionary (JSON) to a file.  You have to convert it to a string first:"
   ]
  },
  {
   "cell_type": "code",
   "execution_count": 154,
   "metadata": {},
   "outputs": [],
   "source": [
    "import simplejson as json\n",
    "\n",
    "d = {\"student\": \"Akay\", \"age\": 16, \"isMale\": True}\n",
    "\n",
    "f = open('/Users/walkerrowe/Downloads/akay.json', 'w+')\n",
    "\n",
    "f.write(json.dumps(d))\n",
    "\n",
    "f.close()"
   ]
  }
 ],
 "metadata": {
  "kernelspec": {
   "display_name": "Python 3",
   "language": "python",
   "name": "python3"
  },
  "language_info": {
   "codemirror_mode": {
    "name": "ipython",
    "version": 3
   },
   "file_extension": ".py",
   "mimetype": "text/x-python",
   "name": "python",
   "nbconvert_exporter": "python",
   "pygments_lexer": "ipython3",
   "version": "3.4.4"
  }
 },
 "nbformat": 4,
 "nbformat_minor": 2
}
