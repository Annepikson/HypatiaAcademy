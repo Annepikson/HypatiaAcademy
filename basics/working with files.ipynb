{
 "cells": [
  {
   "cell_type": "markdown",
   "metadata": {},
   "source": [
    "# Working with Files\n",
    "\n",
    "* reading files\n",
    "* reading binary files\n",
    "* looping trough files\n",
    "* writing files\n",
    "* file pointers\n",
    "* opening files over the internet\n",
    "\n",
    "\n",
    "Download this sample CSV file from [here](https://raw.githubusercontent.com/werowe/HypatiaAcademy/master/assignment/customers.csv).\n"
   ]
  },
  {
   "cell_type": "code",
   "execution_count": 1,
   "metadata": {},
   "outputs": [],
   "source": [
    "fileStr='/Users/walkerrowe/Documents/customers.csv'\n",
    "f = open(fileStr, 'r')\n",
    "o = open('/Users/walkerrowe/Documents/customers.json', 'w')"
   ]
  },
  {
   "cell_type": "code",
   "execution_count": 2,
   "metadata": {},
   "outputs": [],
   "source": [
    "\n",
    "import urllib.request\n",
    "\n",
    "f = \"https://raw.githubusercontent.com/werowe/HypatiaAcademy/master/assignment/encoded.txt\"\n",
    "\n",
    "l = urllib.request.urlopen(f)\n",
    "\n"
   ]
  }
 ],
 "metadata": {
  "kernelspec": {
   "display_name": "Python 3",
   "language": "python",
   "name": "python3"
  },
  "language_info": {
   "codemirror_mode": {
    "name": "ipython",
    "version": 3
   },
   "file_extension": ".py",
   "mimetype": "text/x-python",
   "name": "python",
   "nbconvert_exporter": "python",
   "pygments_lexer": "ipython3",
   "version": "3.4.4"
  }
 },
 "nbformat": 4,
 "nbformat_minor": 2
}
