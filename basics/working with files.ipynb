{
 "cells": [
  {
   "cell_type": "markdown",
   "metadata": {},
   "source": [
    "# Working with Files\n",
    "\n",
    "* reading files\n",
    "* reading binary files\n",
    "* looping trough files\n",
    "* writing files\n",
    "* file pointers\n",
    "* opening files over the internet\n",
    "\n",
    "\n",
    "Download this sample CSV file from [here](https://raw.githubusercontent.com/werowe/HypatiaAcademy/master/assignment/customers.csv).\n"
   ]
  },
  {
   "cell_type": "markdown",
   "metadata": {},
   "source": [
    "Open a file for writing:"
   ]
  },
  {
   "cell_type": "code",
   "execution_count": 49,
   "metadata": {},
   "outputs": [],
   "source": [
    "fileStr='/Users/walkerrowe/Documents/customers.csv'\n",
    "f = open(fileStr, 'r')"
   ]
  },
  {
   "cell_type": "markdown",
   "metadata": {},
   "source": [
    "Open a file for writing:"
   ]
  },
  {
   "cell_type": "code",
   "execution_count": 50,
   "metadata": {},
   "outputs": [],
   "source": [
    "o = open('/Users/walkerrowe/Documents/customers.json', 'w')"
   ]
  },
  {
   "cell_type": "markdown",
   "metadata": {},
   "source": [
    "# Looping Through a File\n",
    "\n",
    "You have three options:\n",
    "    \n",
    "1. Read one line at a time.\n",
    "2. Read the whole file into a variable.\n",
    "3. Read a fixed number of bytes."
   ]
  },
  {
   "cell_type": "code",
   "execution_count": 51,
   "metadata": {},
   "outputs": [],
   "source": [
    "filename='/Users/walkerrowe/Documents/customers.csv'\n",
    "f = open(filename, 'r')"
   ]
  },
  {
   "cell_type": "markdown",
   "metadata": {},
   "source": [
    "Read whole file at once."
   ]
  },
  {
   "cell_type": "code",
   "execution_count": 52,
   "metadata": {},
   "outputs": [
    {
     "name": "stdout",
     "output_type": "stream",
     "text": [
      "customerNumber,name,adress,state,country,phoneNumber,email,dateOpened\n",
      "\n",
      "1000,mumthea,main street 12,NY,USA,3925884,mumthea@gmail.com,30/3/2015\n",
      "\n",
      "2000,walker,main street 67,NY,USA,3695448,walker@gmail.com,15/5/2016\n",
      "\n",
      "3000,michael,main street 54,NY,USA,5338775,michael@gmail.com,23/9/2014\n",
      "\n"
     ]
    }
   ],
   "source": [
    "wholeFile=f.readlines()\n",
    "for l in wholeFile:\n",
    "    print(l)\n"
   ]
  },
  {
   "cell_type": "markdown",
   "metadata": {},
   "source": [
    "Some people prefer this notation for looping through a file:"
   ]
  },
  {
   "cell_type": "code",
   "execution_count": 53,
   "metadata": {},
   "outputs": [
    {
     "name": "stdout",
     "output_type": "stream",
     "text": [
      "<_io.TextIOWrapper name='/Users/walkerrowe/Documents/customers.csv' mode='r' encoding='UTF-8'>\n",
      "<_io.TextIOWrapper name='/Users/walkerrowe/Documents/customers.csv' mode='r' encoding='UTF-8'>\n",
      "<_io.TextIOWrapper name='/Users/walkerrowe/Documents/customers.csv' mode='r' encoding='UTF-8'>\n",
      "<_io.TextIOWrapper name='/Users/walkerrowe/Documents/customers.csv' mode='r' encoding='UTF-8'>\n"
     ]
    }
   ],
   "source": [
    "with open(filename, 'r') as f:\n",
    "    for line in f:\n",
    "        print(f)"
   ]
  },
  {
   "cell_type": "markdown",
   "metadata": {},
   "source": [
    "Read one line:"
   ]
  },
  {
   "cell_type": "code",
   "execution_count": 54,
   "metadata": {},
   "outputs": [
    {
     "name": "stdout",
     "output_type": "stream",
     "text": [
      "customerNumber,name,adress,state,country,phoneNumber,email,dateOpened\n",
      "\n"
     ]
    }
   ],
   "source": [
    "filename='/Users/walkerrowe/Documents/customers.csv'\n",
    "f = open(filename, 'r')\n",
    "\n",
    "line = f.readline()\n",
    "print(line)"
   ]
  },
  {
   "cell_type": "markdown",
   "metadata": {},
   "source": [
    "# Read a file from the Internet\n",
    "Here is how you read a text file from the internet.\n"
   ]
  },
  {
   "cell_type": "code",
   "execution_count": 55,
   "metadata": {},
   "outputs": [],
   "source": [
    "\n",
    "import urllib.request\n",
    "\n",
    "f = \"https://raw.githubusercontent.com/werowe/HypatiaAcademy/master/assignment/encoded.txt\"\n",
    "\n",
    "l = urllib.request.urlopen(f)\n",
    "\n"
   ]
  },
  {
   "cell_type": "code",
   "execution_count": 56,
   "metadata": {},
   "outputs": [],
   "source": [
    "# Reading Binary Files"
   ]
  },
  {
   "cell_type": "code",
   "execution_count": null,
   "metadata": {},
   "outputs": [],
   "source": []
  },
  {
   "cell_type": "code",
   "execution_count": null,
   "metadata": {},
   "outputs": [],
   "source": []
  }
 ],
 "metadata": {
  "kernelspec": {
   "display_name": "Python 3",
   "language": "python",
   "name": "python3"
  },
  "language_info": {
   "codemirror_mode": {
    "name": "ipython",
    "version": 3
   },
   "file_extension": ".py",
   "mimetype": "text/x-python",
   "name": "python",
   "nbconvert_exporter": "python",
   "pygments_lexer": "ipython3",
   "version": "3.4.4"
  }
 },
 "nbformat": 4,
 "nbformat_minor": 2
}
