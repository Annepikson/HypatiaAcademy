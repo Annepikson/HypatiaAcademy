{
 "cells": [
  {
   "cell_type": "markdown",
   "metadata": {},
   "source": [
    "# Bits and Bytes\n",
    "\n",
    "A byte is 8 bits, on most computer systems.  Bits are written as 1s and 0s.  Bytes are written using the hexadecimal number system, which uses digits 0 thrpugh 9 plus the letters A to F.\n",
    "\n",
    "Bites are written like as a series of 8 digits like 00000001.  Those 8 digits equal to one bytes, which you can thin of as a character, like \"A\" or \"$\".\n",
    "\n",
    "\n",
    "To understand that consider how we write number using the decimal system-"
   ]
  },
  {
   "cell_type": "markdown",
   "metadata": {},
   "source": [
    "# Dump Files in Hex and Binary Format\n",
    "\n",
    "\n",
    "\n",
    "```bash\n",
    "file 2233-1599130535185.txt \n",
    "2233-1599130535185.txt: ASCII text, with very long lines\n",
    "```\n",
    "\n",
    "```bash\n",
    "\n",
    "file hypatia.png \n",
    "hypatia.png: PNG image data, 810 x 810, 8-bit/color RGBA, non-interlaced\n",
    "    \n",
    "xxd hypatia.png | head\n",
    "00000000: 8950 4e47 0d0a 1a0a 0000 000d 4948 4452  .PNG........IHDR\n",
    "00000010: 0000 032a 0000 032a 0806 0000 006d c9b5  ...*...*.....m..\n",
    "00000020: c700 0020 0049 4441 5478 5eec bd07 9824  ... .IDATx^....$\n",
    "00000030: 6775 357c 2a75 9c9e 3cb3 6976 5779 1590  gu5|*u..<.ivWy..\n",
    "00000040: 3060 820d 3606 7ec0 b648 c632 2623 1048  0`..6.~..H.2&#.H\n",
    "00000050: 0884 1148 0483 3f63 9200 8308 9f09 16b2  ...H..?c........\n",
    "00000060: 4d32 18f8 c036 0890 4842 044b 2421 2bae  M2...6..HB.K$!+.\n",
    "00000070: b45a adb4 394e eedc 5d5d ff73 ee5b b7a7  .Z..9N..]].s.[..\n",
    "00000080: a677 7667 b5b3 ab9d d1be f53c fdf4 4e77  .wvg.......<..Nw\n",
    "00000090: d55b 6f9d aaea bda7 ee3d e73a b08b 45c0  .[o......=.:..E.\n",
    "```                                                     \n",
    "                                                     \n",
    "\n"
   ]
  },
  {
   "cell_type": "markdown",
   "metadata": {},
   "source": [
    "```bash\n",
    "xxd -b 2233-1599130535185.txt | more\n",
    "00000000: 01110101 01110011 01100101 01110010 01101001 01100100  userid\n",
    "00000006: 00101100 01110011 01101100 01101001 01100011 01100101  ,slice\n",
    "0000000c: 00101100 01110100 01100010 01101100 00101100 01110011  ,tbl,s\n",
    "00000012: 01110100 01100001 01110010 01110100 01110100 01101001  tartti\n",
    "00000018: 01101101 01100101 00101100 01110011 01100101 01110011  me,ses\n",
    "0000001e: 01110011 01101001 01101111 01101110 00101100 01110001  sion,q\n",
    "    \n",
    "```\n",
    "\n",
    "```bash\n",
    "\n",
    "xxd 2233-1599130535185.txt | more\n",
    "00000000: 7573 6572 6964 2c73 6c69 6365 2c74 626c  userid,slice,tbl\n",
    "00000010: 2c73 7461 7274 7469 6d65 2c73 6573 7369  ,starttime,sessi\n",
    "00000020: 6f6e 2c71 7565 7279 2c66 696c 656e 616d  on,query,filenam\n",
    "00000030: 652c 6c69 6e65 5f6e 756d 6265 722c 636f  e,line_number,co\n",
    "00000040: 6c6e 616d 652c 7479 7065 2c63 6f6c 5f6c  lname,type,col_l\n",
    "00000050: 656e 6774 682c 706f 7369 7469 6f6e 2c72  ength,position,r\n",
    "00000060: 6177 5f6c 696e 652c 7261 775f 6669 656c  aw_line,raw_fiel\n",
    "\n",
    "```bash\n"
   ]
  },
  {
   "cell_type": "markdown",
   "metadata": {},
   "source": [
    "# The decimal system.\n",
    "In the decimal system numbers are written as powers of 10.  We use the digits 0,1,2,3,4,5,6,7,8,9.\n",
    "\n",
    "353 is:\n",
    "\n",
    "\\begin{align}\n",
    "(3*10^2)+(5*10^1)+(3*10^0)=353\n",
    "\\end{align}\n",
    "\n",
    "\n",
    " \n",
    "\n",
    "\n",
    "\n",
    "\n"
   ]
  },
  {
   "cell_type": "markdown",
   "metadata": {},
   "source": [
    "###### Binary Numbers\n",
    "In the binary system numbers are written as power of 2.  We use the digits 0 and 1.\n",
    "\n",
    "110 binary is 6 decimal:\n",
    "\n",
    "\n"
   ]
  },
  {
   "cell_type": "markdown",
   "metadata": {},
   "source": [
    "\\begin{align}\n",
    "(1*2^2)+(1*2^1)+(0*2^0)\n",
    "\\end{align}\n",
    "\\begin{align}\n",
    "=(1*4)+(1*2)+(0*1)\n",
    "\\end{align}\n",
    "\\begin{align}\n",
    "=6\n",
    "\\end{align}\n",
    " "
   ]
  },
  {
   "cell_type": "markdown",
   "metadata": {},
   "source": [
    "# Hexadecidamel Numbers\n",
    "Hexadecimal numbers are written as powers of 16.\n",
    "\n",
    "| number | hex digit |\n",
    "| ----------- | ----------- |\n",
    "| 0 | 0 |\n",
    "| 1 | 1 |\n",
    "| 2 | 2 |\n",
    "| 3 | 3 |\n",
    "| 4 | 4 |\n",
    "| 5 | 5 |\n",
    "| 6 | 6 |\n",
    "| 7 | 7 |\n",
    "| 8 | 8 |\n",
    "| 9 | 9 |\n",
    "| 10 | A |\n",
    "| 11 | B |\n",
    "| 12 | C |\n",
    "| 13 | D |\n",
    "| 14 | E |\n",
    "| 15 | F |\n",
    " \n",
    "\n",
    " \n",
    "\n",
    "1AC hex is 428 decimal:"
   ]
  },
  {
   "cell_type": "markdown",
   "metadata": {},
   "source": []
  },
  {
   "cell_type": "markdown",
   "metadata": {},
   "source": [
    "\\begin{align}\n",
    "(1*16^2)+(A*16^1)+(C*16^0)  \n",
    "\\end{align}\n",
    "\\begin{align}\n",
    " =(1*16^2)+(10*16^1)+(12*16^0)=428 \n",
    "\\end{align}"
   ]
  },
  {
   "cell_type": "markdown",
   "metadata": {},
   "source": [
    "Here is the hexdecimal value of 16."
   ]
  },
  {
   "cell_type": "code",
   "execution_count": null,
   "metadata": {},
   "outputs": [],
   "source": [
    "hex(16)"
   ]
  },
  {
   "cell_type": "markdown",
   "metadata": {},
   "source": [
    "Here is the binary value of 2."
   ]
  },
  {
   "cell_type": "code",
   "execution_count": null,
   "metadata": {},
   "outputs": [],
   "source": [
    "bin(2)"
   ]
  },
  {
   "cell_type": "markdown",
   "metadata": {},
   "source": [
    "# Adding Binary Numbers\n",
    "\n",
    "```text\n",
    " 0110\n",
    "+ 101\n",
    "=1011\n",
    "```\n"
   ]
  },
  {
   "cell_type": "markdown",
   "metadata": {},
   "source": [
    "Convert hexadecimal number to integer"
   ]
  },
  {
   "cell_type": "code",
   "execution_count": null,
   "metadata": {},
   "outputs": [],
   "source": [
    "int(\"0xceb2\", 16)"
   ]
  }
 ],
 "metadata": {
  "kernelspec": {
   "display_name": "Python 3",
   "language": "python",
   "name": "python3"
  },
  "language_info": {
   "codemirror_mode": {
    "name": "ipython",
    "version": 3
   },
   "file_extension": ".py",
   "mimetype": "text/x-python",
   "name": "python",
   "nbconvert_exporter": "python",
   "pygments_lexer": "ipython3",
   "version": "3.4.4"
  }
 },
 "nbformat": 4,
 "nbformat_minor": 2
}
