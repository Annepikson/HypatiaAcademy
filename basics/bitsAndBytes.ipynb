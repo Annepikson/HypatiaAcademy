{
  "cells": [
    {
      "cell_type": "markdown",
      "metadata": {
        "id": "view-in-github",
        "colab_type": "text"
      },
      "source": [
        "<a href=\"https://colab.research.google.com/github/werowe/HypatiaAcademy/blob/master/basics/bitsAndBytes.ipynb\" target=\"_parent\"><img src=\"https://colab.research.google.com/assets/colab-badge.svg\" alt=\"Open In Colab\"/></a>"
      ]
    },
    {
      "cell_type": "markdown",
      "metadata": {
        "id": "oR1z0sGHxJWd"
      },
      "source": [
        "# Bits and Bytes\n",
        "\n",
        "A byte is 8 bits, on most computer systems.  Bits are written as 1s and 0s.  Bytes are written using the hexadecimal number system, which uses digits 0 thrpugh 9 plus the letters A to F.\n",
        "\n",
        "Bites are written like as a series of 8 digits like 00000001.  Those 8 digits equal to one bytes, which you can thin of as a character, like \"A\" or \"$\".\n",
        "\n"
      ]
    },
    {
      "cell_type": "code",
      "execution_count": 2,
      "metadata": {
        "colab": {
          "base_uri": "https://localhost:8080/"
        },
        "id": "Df07we2kxJWl",
        "outputId": "170843a3-8b32-4017-ff79-78578815cef9"
      },
      "outputs": [
        {
          "output_type": "execute_result",
          "data": {
            "text/plain": [
              "b'11111'"
            ]
          },
          "metadata": {},
          "execution_count": 2
        }
      ],
      "source": [
        "b'11111'"
      ]
    },
    {
      "cell_type": "markdown",
      "metadata": {
        "id": "ASet4CehxJWn"
      },
      "source": [
        "# The decimal system.\n",
        "In the decimal system numbers are written as powers of 10.  We use the digits 0,1,2,3,4,5,6,7,8,9.\n",
        "\n",
        "353 is:\n",
        "\n",
        "\\begin{align}\n",
        "(3*10^2)+(5*10^1)+(3*10^0)=353\n",
        "\\end{align}\n",
        "\n",
        "\n",
        "\n",
        "\n",
        "\n",
        "\n",
        "\n"
      ]
    },
    {
      "cell_type": "markdown",
      "metadata": {
        "id": "pyIkjLAuxJWn"
      },
      "source": [
        "###### Binary Numbers\n",
        "In the binary system numbers are written as power of 2.  We use the digits 0 and 1.\n",
        "\n",
        "110 binary is 6 decimal:\n",
        "\n",
        "\n"
      ]
    },
    {
      "cell_type": "markdown",
      "metadata": {
        "id": "L2y9zCHGxJWn"
      },
      "source": [
        "\\begin{align}\n",
        "(1*2^2)+(1*2^1)+(0*2^0)\n",
        "\\end{align}\n",
        "\\begin{align}\n",
        "=(1*4)+(1*2)+(0*1)\n",
        "\\end{align}\n",
        "\\begin{align}\n",
        "=6\n",
        "\\end{align}\n",
        ""
      ]
    },
    {
      "cell_type": "markdown",
      "metadata": {
        "id": "_StSsscLxJWn"
      },
      "source": [
        "# Hexadecidamel Numbers\n",
        "Hexadecimal numbers are written as powers of 16.\n",
        "\n",
        "| number | hex digit |\n",
        "| ----------- | ----------- |\n",
        "| 0 | 0 |\n",
        "| 1 | 1 |\n",
        "| 2 | 2 |\n",
        "| 3 | 3 |\n",
        "| 4 | 4 |\n",
        "| 5 | 5 |\n",
        "| 6 | 6 |\n",
        "| 7 | 7 |\n",
        "| 8 | 8 |\n",
        "| 9 | 9 |\n",
        "| 10 | A |\n",
        "| 11 | B |\n",
        "| 12 | C |\n",
        "| 13 | D |\n",
        "| 14 | E |\n",
        "| 15 | F |\n",
        "\n",
        "\n",
        "\n",
        "\n",
        "1AC hex is 428 decimal:"
      ]
    },
    {
      "cell_type": "markdown",
      "metadata": {
        "id": "gD5PYQVVxJWn"
      },
      "source": []
    },
    {
      "cell_type": "markdown",
      "metadata": {
        "id": "KloWCpdjxJWo"
      },
      "source": [
        "\\begin{align}\n",
        "(1*16^2)+(A*16^1)+(C*16^0)  \n",
        "\\end{align}\n",
        "\\begin{align}\n",
        " =(1*16^2)+(10*16^1)+(12*16^0)=428\n",
        "\\end{align}"
      ]
    },
    {
      "cell_type": "markdown",
      "metadata": {
        "id": "9DdwbkvtxJWo"
      },
      "source": [
        "Here is the hexdecimal value of 16."
      ]
    },
    {
      "cell_type": "markdown",
      "metadata": {
        "id": "TrYsIXQyxJWo"
      },
      "source": [
        "FF is:"
      ]
    },
    {
      "cell_type": "code",
      "execution_count": 3,
      "metadata": {
        "colab": {
          "base_uri": "https://localhost:8080/"
        },
        "id": "yXeaPgqNxJWo",
        "outputId": "7caf8d42-9576-4e2c-ace4-c2a70c893bc5"
      },
      "outputs": [
        {
          "output_type": "execute_result",
          "data": {
            "text/plain": [
              "240"
            ]
          },
          "metadata": {},
          "execution_count": 3
        }
      ],
      "source": [
        "\n",
        "\n",
        "15*(16*1)+15*(16*0)"
      ]
    },
    {
      "cell_type": "code",
      "execution_count": 4,
      "metadata": {
        "colab": {
          "base_uri": "https://localhost:8080/",
          "height": 37
        },
        "id": "XFUHf2cGxJWo",
        "outputId": "23475eb9-94aa-426c-9cd0-926ce8daee37"
      },
      "outputs": [
        {
          "output_type": "execute_result",
          "data": {
            "text/plain": [
              "'0x10'"
            ],
            "application/vnd.google.colaboratory.intrinsic+json": {
              "type": "string"
            }
          },
          "metadata": {},
          "execution_count": 4
        }
      ],
      "source": [
        "hex(16)"
      ]
    },
    {
      "cell_type": "markdown",
      "metadata": {
        "id": "MCmI2JprxJWo"
      },
      "source": [
        "Here is the binary value of 2."
      ]
    },
    {
      "cell_type": "code",
      "execution_count": 5,
      "metadata": {
        "colab": {
          "base_uri": "https://localhost:8080/",
          "height": 37
        },
        "id": "Qnu3XlwqxJWo",
        "outputId": "13ff1f4a-4ddd-4526-a4d9-d26521844469"
      },
      "outputs": [
        {
          "output_type": "execute_result",
          "data": {
            "text/plain": [
              "'0b10'"
            ],
            "application/vnd.google.colaboratory.intrinsic+json": {
              "type": "string"
            }
          },
          "metadata": {},
          "execution_count": 5
        }
      ],
      "source": [
        "bin(2)"
      ]
    },
    {
      "cell_type": "markdown",
      "metadata": {
        "id": "CpjzaAFixJWo"
      },
      "source": [
        "Convert hexadecimal number to integer"
      ]
    },
    {
      "cell_type": "code",
      "execution_count": 6,
      "metadata": {
        "colab": {
          "base_uri": "https://localhost:8080/"
        },
        "id": "-kWwBY-_xJWp",
        "outputId": "7bc24896-1982-4df7-fa22-4afc14509467"
      },
      "outputs": [
        {
          "output_type": "execute_result",
          "data": {
            "text/plain": [
              "52914"
            ]
          },
          "metadata": {},
          "execution_count": 6
        }
      ],
      "source": [
        "int(\"0xceb2\", 16)"
      ]
    },
    {
      "cell_type": "code",
      "execution_count": 6,
      "metadata": {
        "id": "7ha1p6WYxJWp"
      },
      "outputs": [],
      "source": []
    },
    {
      "cell_type": "markdown",
      "metadata": {
        "id": "aqJ4b78JxJWp"
      },
      "source": [
        "In the ASCII character set there are 256 letters?  Why?  Because 8 bits the largest number you can make is 11111111.\n",
        "\n",
        "mike:  prove"
      ]
    },
    {
      "cell_type": "code",
      "execution_count": 7,
      "metadata": {
        "colab": {
          "base_uri": "https://localhost:8080/"
        },
        "id": "SsUCMmFTxJWp",
        "outputId": "f711ac3f-0273-4741-caba-bad8200dacee"
      },
      "outputs": [
        {
          "output_type": "execute_result",
          "data": {
            "text/plain": [
              "256"
            ]
          },
          "metadata": {},
          "execution_count": 7
        }
      ],
      "source": [
        "2**8"
      ]
    },
    {
      "cell_type": "markdown",
      "metadata": {
        "id": "2p5s51-1xJWp"
      },
      "source": [
        "what is FFEF?\n",
        "\n",
        "This is:\n",
        "    \n",
        "    F----15*(16**3)\n",
        "    F----15*(16**2)\n",
        "    E----14*(16**1)\n",
        "    F----15*(16**0)"
      ]
    },
    {
      "cell_type": "code",
      "execution_count": 8,
      "metadata": {
        "colab": {
          "base_uri": "https://localhost:8080/"
        },
        "id": "bYwiFy18xJWp",
        "outputId": "710a4be2-847d-4f61-a429-873743de0705"
      },
      "outputs": [
        {
          "output_type": "execute_result",
          "data": {
            "text/plain": [
              "65519"
            ]
          },
          "metadata": {},
          "execution_count": 8
        }
      ],
      "source": [
        "15*(16**3)+15*(16**2)+14*(16**1)+15*(16**0)"
      ]
    },
    {
      "cell_type": "markdown",
      "source": [
        "The computer stores data in bits and bytes.\n",
        "\n",
        "A bit is a single unit of data.  Bits are either 0 or 1.\n",
        "\n",
        "A byte is 8 bits.  \n",
        "\n",
        "A hex letter is 4 bits.\n",
        "\n",
        "All of this are the letter \"D\":\n",
        "\n",
        "\n",
        "\n",
        "\n",
        "\n",
        "| value       | type           |  \n",
        "| ------------- |:-------------:|  \n",
        "| 68     | decimal |\n",
        "| 44 |         hexadecimal\n",
        "| 01000100 |   binary |\n",
        "| D |          ASCII |\n",
        "\n",
        "\n",
        "binary numbers are base 2\n",
        "\n",
        "* b'000' = 0\n",
        "* b'001' = 1\n",
        "* b'010' = 2\n",
        "* b'010' = 3\n",
        "\n",
        "\n",
        "\n",
        "\n",
        "\n",
        "decimal numbers are base 10:\n",
        "\n",
        "| number | decimal number|\n",
        "| ----------- | ----------- |\n",
        "| 0 | 0 |\n",
        "| 1 | 1 |\n",
        "| 2 | 2 |\n",
        "| 3 | 3 |\n",
        "| 4 | 4 |\n",
        "| 5 | 5 |\n",
        "| 6 | 6 |\n",
        "| 7 | 7 |\n",
        "| 8 | 8 |\n",
        "| 9 | 9 |\n",
        "\n",
        "\n",
        "\n",
        "hexademical numbers are base 16:\n",
        "\n",
        "| number | hex digit |\n",
        "| ----------- | ----------- |\n",
        "| 0 | 0 |\n",
        "| 1 | 1 |\n",
        "| 2 | 2 |\n",
        "| 3 | 3 |\n",
        "| 4 | 4 |\n",
        "| 5 | 5 |\n",
        "| 6 | 6 |\n",
        "| 7 | 7 |\n",
        "| 8 | 8 |\n",
        "| 9 | 9 |\n",
        "| 10 | A |\n",
        "| 11 | B |\n",
        "| 12 | C |\n",
        "| 13 | D |\n",
        "| 14 | E |\n",
        "| 15 | F |\n",
        "\n"
      ],
      "metadata": {
        "id": "IIkn3icJyEq2"
      }
    },
    {
      "cell_type": "code",
      "source": [
        "# decimal\n",
        "\n",
        "#321 = 300 + 20 + 1\n",
        "\n",
        "3 * (10**2) + 2 * (10**1) + 1 * (10**0)"
      ],
      "metadata": {
        "colab": {
          "base_uri": "https://localhost:8080/"
        },
        "id": "3L_EawNMyG6q",
        "outputId": "e438e07b-cfd3-4609-af01-d1962ccdbfb3"
      },
      "execution_count": 9,
      "outputs": [
        {
          "output_type": "execute_result",
          "data": {
            "text/plain": [
              "321"
            ]
          },
          "metadata": {},
          "execution_count": 9
        }
      ]
    },
    {
      "cell_type": "code",
      "source": [
        "# binary\n",
        "\n",
        "# 110\n",
        "\n",
        "1*(2**2)+1*(2**1)+0*(2**0)\n"
      ],
      "metadata": {
        "colab": {
          "base_uri": "https://localhost:8080/"
        },
        "id": "jIWtRjv-yMT9",
        "outputId": "acaddd99-c9d9-47eb-e508-bcd81a3a34cd"
      },
      "execution_count": 10,
      "outputs": [
        {
          "output_type": "execute_result",
          "data": {
            "text/plain": [
              "6"
            ]
          },
          "metadata": {},
          "execution_count": 10
        }
      ]
    },
    {
      "cell_type": "code",
      "source": [
        "print(\"hex(65) \" , hex(65))\n",
        "print(\"bin(65) \" , bin(65))"
      ],
      "metadata": {
        "colab": {
          "base_uri": "https://localhost:8080/"
        },
        "id": "ZMrkltADyRwg",
        "outputId": "0d0e56c3-4c4c-41ef-d23e-b1385f3b1076"
      },
      "execution_count": 11,
      "outputs": [
        {
          "output_type": "stream",
          "name": "stdout",
          "text": [
            "hex(65)  0x41\n",
            "bin(65)  0b1000001\n"
          ]
        }
      ]
    },
    {
      "cell_type": "code",
      "source": [
        "b'1000001'.decode('ascii')"
      ],
      "metadata": {
        "colab": {
          "base_uri": "https://localhost:8080/",
          "height": 37
        },
        "id": "4K-2uBKuyXw-",
        "outputId": "b98da530-00d7-4d27-9e3b-400c9da20512"
      },
      "execution_count": 12,
      "outputs": [
        {
          "output_type": "execute_result",
          "data": {
            "text/plain": [
              "'1000001'"
            ],
            "application/vnd.google.colaboratory.intrinsic+json": {
              "type": "string"
            }
          },
          "metadata": {},
          "execution_count": 12
        }
      ]
    },
    {
      "cell_type": "code",
      "source": [
        "'''\n",
        "how do we convert from binary 1000001 to the letter A\n",
        "\n",
        "int('1000001',2) says convert int('1000001' to a base 2 number\n",
        "\n",
        "'''\n",
        "\n",
        "\n",
        "chr(int('1000001',2))\n"
      ],
      "metadata": {
        "colab": {
          "base_uri": "https://localhost:8080/",
          "height": 37
        },
        "id": "u3xtDhhcyYrp",
        "outputId": "32257df9-ffdf-488a-d675-8159fa4fc8c4"
      },
      "execution_count": 13,
      "outputs": [
        {
          "output_type": "execute_result",
          "data": {
            "text/plain": [
              "'A'"
            ],
            "application/vnd.google.colaboratory.intrinsic+json": {
              "type": "string"
            }
          },
          "metadata": {},
          "execution_count": 13
        }
      ]
    }
  ],
  "metadata": {
    "kernelspec": {
      "display_name": "Python 3",
      "language": "python",
      "name": "python3"
    },
    "language_info": {
      "codemirror_mode": {
        "name": "ipython",
        "version": 3
      },
      "file_extension": ".py",
      "mimetype": "text/x-python",
      "name": "python",
      "nbconvert_exporter": "python",
      "pygments_lexer": "ipython3",
      "version": "3.4.4"
    },
    "colab": {
      "provenance": [],
      "include_colab_link": true
    }
  },
  "nbformat": 4,
  "nbformat_minor": 0
}