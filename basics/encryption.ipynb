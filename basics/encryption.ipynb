{
 "cells": [
  {
   "cell_type": "code",
   "execution_count": 4,
   "metadata": {},
   "outputs": [
    {
     "data": {
      "text/plain": [
       "b'6-N2JrbucQ-lTU9pcTZyYpATQw4='"
      ]
     },
     "execution_count": 4,
     "metadata": {},
     "output_type": "execute_result"
    }
   ],
   "source": [
    "import hmac\n",
    "import hashlib\n",
    "import base64\n",
    "\n",
    "def sha1Encrypt(message, key):\n",
    "   key = bytes(key, 'UTF-8')\n",
    "   message = bytes(message, 'UTF-8')\n",
    "\n",
    "   digester = hmac.new(key, message, hashlib.sha1)\n",
    "   signature1 = digester.digest()\n",
    "\n",
    "   signature2 = base64.urlsafe_b64encode(signature1)    \n",
    "   return signature2\n",
    "\n",
    "\n",
    "sha1Encrypt(\"hello\", \"aawdasa%%%12661\")"
   ]
  },
  {
   "cell_type": "code",
   "execution_count": null,
   "metadata": {},
   "outputs": [],
   "source": []
  }
 ],
 "metadata": {
  "kernelspec": {
   "display_name": "Python 3",
   "language": "python",
   "name": "python3"
  },
  "language_info": {
   "codemirror_mode": {
    "name": "ipython",
    "version": 3
   },
   "file_extension": ".py",
   "mimetype": "text/x-python",
   "name": "python",
   "nbconvert_exporter": "python",
   "pygments_lexer": "ipython3",
   "version": "3.4.4"
  }
 },
 "nbformat": 4,
 "nbformat_minor": 2
}
