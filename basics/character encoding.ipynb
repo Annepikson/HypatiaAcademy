{
 "cells": [
  {
   "cell_type": "markdown",
   "metadata": {},
   "source": [
    "# Character Encoding\n",
    "\n",
    "Although it can be complicated, it's necessary to understand hexadecimal, binary, ascii, and unicode character encoding.\n",
    "\n",
    "Computers and smartphones today use UTF-8 for the most part.  That's so they can display Chinese, Arabic, Greek, and all languages.  Before that we just had ASCII.\n",
    "\n",
    "ASCII falls into two categories:  displayable and non-displayable, like line feeds.\n",
    "\n",
    "These are the displayable ASCII characters.  They are digits the the letters a-Z plus the question mark, etc."
   ]
  },
  {
   "cell_type": "markdown",
   "metadata": {},
   "source": [
    "Here is ASCII table:  https://theasciicode.com.ar/"
   ]
  },
  {
   "cell_type": "code",
   "execution_count": 12,
   "metadata": {},
   "outputs": [
    {
     "name": "stdout",
     "output_type": "stream",
     "text": [
      " ,!,\",#,$,%,&,',(,),*,+,,,-,.,/,0,1,2,3,4,5,6,7,8,9,:,;,<,=,>,?,@,A,B,C,D,E,F,G,H,I,J,K,L,M,N,O,P,Q,R,S,T,U,V,W,X,Y,Z,[,\\,],^,_,`,a,b,c,d,e,f,g,h,i,j,k,l,m,n,o,p,q,r,s,t,u,v,w,x,y,z,{,|,},"
     ]
    }
   ],
   "source": [
    "\n",
    "\n",
    "for i in range(32,126,1):\n",
    "    print(chr(i),end=\",\")"
   ]
  },
  {
   "cell_type": "markdown",
   "metadata": {},
   "source": [
    "A, for example has an ASCII code 65.  You can print that using the chr function."
   ]
  },
  {
   "cell_type": "code",
   "execution_count": 13,
   "metadata": {},
   "outputs": [
    {
     "name": "stdout",
     "output_type": "stream",
     "text": [
      "chr(65)= A\n"
     ]
    }
   ],
   "source": [
    "\n",
    "print('chr(65)=', chr(65))\n",
    "\n"
   ]
  },
  {
   "cell_type": "markdown",
   "metadata": {},
   "source": [
    "Here we print the ASCII code assigned to the letter A."
   ]
  },
  {
   "cell_type": "code",
   "execution_count": 14,
   "metadata": {},
   "outputs": [
    {
     "name": "stdout",
     "output_type": "stream",
     "text": [
      "ord('A') 65\n"
     ]
    }
   ],
   "source": [
    "print(\"ord('A')\",ord('A'))"
   ]
  },
  {
   "cell_type": "markdown",
   "metadata": {},
   "source": [
    "# Special characters\n",
    "\n",
    "Some numbers have special functions, like tab or new line.  On old computers there was a \n",
    "bell sound.  And today we have emojis.\n",
    "\n",
    "The \\n is a line feed and \\r windows new line. That causes the text to wrap around to the next time.\n",
    "\n",
    "You put a backslash in front of the n to indicate that this is a special character.  That's called escaping the character.  So the \\ is the escape character."
   ]
  },
  {
   "cell_type": "code",
   "execution_count": 15,
   "metadata": {},
   "outputs": [
    {
     "name": "stdout",
     "output_type": "stream",
     "text": [
      "\t indent me\n",
      "\n",
      " here put a blank line before me and after me\n",
      "\n",
      "The tab \\t has ASCII code= 9\n"
     ]
    }
   ],
   "source": [
    "\n",
    "    \n",
    "print('\\t indent me') \n",
    "\n",
    "print('\\n here put a blank line before me and after me\\n')\n",
    "\n",
    " \n",
    "\n",
    "print('The tab \\\\t has ASCII code=',ord('\\t'))\n"
   ]
  },
  {
   "cell_type": "markdown",
   "metadata": {},
   "source": [
    "# Unicode and UTF-8\n",
    "\n",
    "Unicode is one standard.  UTF-8 is a subset of that.  Basically they cover all alphabets adn emojis\n",
    "\n",
    "You put a **\\u** in front of unicode characters.  We write this number in hexadecimal format.  We explain the hexacedimal numbering system [here](https://github.com/werowe/HypatiaAcademy/blob/master/bitsAndBytes.ipynb).\n",
    "\n",
    "Here we print the Greek letter lambda using its unicode val:\n",
    " "
   ]
  },
  {
   "cell_type": "code",
   "execution_count": 16,
   "metadata": {},
   "outputs": [
    {
     "name": "stdout",
     "output_type": "stream",
     "text": [
      "λ\n"
     ]
    }
   ],
   "source": [
    "\n",
    "print('\\u03BB')\n"
   ]
  },
  {
   "cell_type": "markdown",
   "metadata": {},
   "source": [
    "Here we use encode it to show it in Hexadecimal format.  The \\b means binary format.  Since there are two \\xs that means there are two bytes. "
   ]
  },
  {
   "cell_type": "code",
   "execution_count": 17,
   "metadata": {},
   "outputs": [
    {
     "data": {
      "text/plain": [
       "b'\\xc3\\xbc'"
      ]
     },
     "execution_count": 17,
     "metadata": {},
     "output_type": "execute_result"
    }
   ],
   "source": [
    "'ü'.encode('utf-8')"
   ]
  },
  {
   "cell_type": "markdown",
   "metadata": {},
   "source": [
    "Below we convert the hex value of Lambda to the displayed value\n",
    "\n",
    "\\x means this is a hexadecimal nymber"
   ]
  },
  {
   "cell_type": "code",
   "execution_count": 18,
   "metadata": {},
   "outputs": [
    {
     "data": {
      "text/plain": [
       "'ü'"
      ]
     },
     "execution_count": 18,
     "metadata": {},
     "output_type": "execute_result"
    }
   ],
   "source": [
    "\n",
    "\n",
    "b'\\xc3\\xbc'.decode('utf-8')\n",
    " "
   ]
  },
  {
   "cell_type": "code",
   "execution_count": 19,
   "metadata": {},
   "outputs": [
    {
     "data": {
      "text/plain": [
       "'Ç'"
      ]
     },
     "execution_count": 19,
     "metadata": {},
     "output_type": "execute_result"
    }
   ],
   "source": [
    "b'\\xc3\\x87'.decode('utf-8')"
   ]
  },
  {
   "cell_type": "markdown",
   "metadata": {},
   "source": [
    "Here is an emoji."
   ]
  },
  {
   "cell_type": "code",
   "execution_count": 20,
   "metadata": {},
   "outputs": [
    {
     "data": {
      "text/plain": [
       "b'\\xf0\\x9f\\x98\\xa9'"
      ]
     },
     "execution_count": 20,
     "metadata": {},
     "output_type": "execute_result"
    }
   ],
   "source": [
    "'😩'.encode('utf-8')"
   ]
  },
  {
   "cell_type": "markdown",
   "metadata": {},
   "source": [
    "Notice that this is 4 bites."
   ]
  },
  {
   "cell_type": "code",
   "execution_count": 21,
   "metadata": {},
   "outputs": [
    {
     "data": {
      "text/plain": [
       "'😩'"
      ]
     },
     "execution_count": 21,
     "metadata": {},
     "output_type": "execute_result"
    }
   ],
   "source": [
    "b'\\xf0\\x9f\\x98\\xa9'.decode('utf-8')"
   ]
  },
  {
   "cell_type": "markdown",
   "metadata": {},
   "source": [
    "# Print the Greek alphabet\n",
    "\n",
    "Here we write code to print the Greek alphabet.\n",
    "\n",
    "Greek Alphabet characters are double-byte characters.  So they take two bytes instead of Latin letters, which take 1.  \n",
    "\n",
    "You can see the UTF-8 code for each of the letters in the Greek alphabet [here](https://www.utf8-chartable.de/unicode-utf8-table.pl?start=896&number=128)\n",
    "\n",
    "The hexademical numbers for the Greek letters range from CE91 to CF8E.  However we skip CEBF to CF79 as there is a gap in the middle. In the code below we handle that by throwing an error when we the computer tries to convert those to displayable charcters.\n",
    " "
   ]
  },
  {
   "cell_type": "markdown",
   "metadata": {},
   "source": [
    "We print these by printing every character in the range CE91 to CF8E.\n",
    "We first convert these two numbers to integers:"
   ]
  },
  {
   "cell_type": "markdown",
   "metadata": {},
   "source": [
    "this means conver thi hex number 0xce91 to which is in the base 16 (hex) format to an integer:"
   ]
  },
  {
   "cell_type": "code",
   "execution_count": 22,
   "metadata": {},
   "outputs": [
    {
     "name": "stdout",
     "output_type": "stream",
     "text": [
      "52881 53134\n"
     ]
    }
   ],
   "source": [
    "fr=int(\"0xce91\", 16)\n",
    "to=int(\"0xcf8e\",16)\n",
    "print(fr,to)"
   ]
  },
  {
   "cell_type": "markdown",
   "metadata": {},
   "source": [
    "We loop from the beginning of the range to the end.  \n",
    "\n",
    "```python for i in range(fr,to,1):```"
   ]
  },
  {
   "cell_type": "markdown",
   "metadata": {},
   "source": [
    "Here we tell Python to convert the loop value i to two bytes.  Larger characters in the UTF-8 character set require 2 bytes.  Greek letters require 2 bytes.   "
   ]
  },
  {
   "cell_type": "code",
   "execution_count": 23,
   "metadata": {},
   "outputs": [
    {
     "name": "stdout",
     "output_type": "stream",
     "text": [
      "b'\\xce\\x91'\n"
     ]
    }
   ],
   "source": [
    "twoBytes=fr.to_bytes(2,'big')\n",
    "print(twoBytes)"
   ]
  },
  {
   "cell_type": "markdown",
   "metadata": {},
   "source": [
    "Then we turn that into Greek:"
   ]
  },
  {
   "cell_type": "code",
   "execution_count": 24,
   "metadata": {},
   "outputs": [
    {
     "name": "stdout",
     "output_type": "stream",
     "text": [
      "Α\n"
     ]
    }
   ],
   "source": [
    "decodedTwoBytes=twoBytes.decode('utf-8')\n",
    "print(decodedTwoBytes)"
   ]
  },
  {
   "cell_type": "markdown",
   "metadata": {},
   "source": [
    "As we said the range fr=int(\"0xce91\", 16) to to=int(\"0xcf8e\",16) has a gap in the middle that are not any character at all.  So rather than hard code that range we put **try** and **except** around the code which will throw and then handle an error when Python tries to decode a number which is not a valid UTF-8 letter.\n",
    "\n",
    "\n",
    "\n",
    "```Python\n",
    "try:\n",
    "except UnicodeDecodeError:\n",
    "       True==True \n",
    "```"
   ]
  },
  {
   "cell_type": "markdown",
   "metadata": {},
   "source": [
    "Here is the complete code."
   ]
  },
  {
   "cell_type": "code",
   "execution_count": 25,
   "metadata": {},
   "outputs": [
    {
     "name": "stdout",
     "output_type": "stream",
     "text": [
      "52881 Α\n",
      "52882 Β\n",
      "52883 Γ\n",
      "52884 Δ\n",
      "52885 Ε\n",
      "52886 Ζ\n",
      "52887 Η\n",
      "52888 Θ\n",
      "52889 Ι\n",
      "52890 Κ\n",
      "52891 Λ\n",
      "52892 Μ\n",
      "52893 Ν\n",
      "52894 Ξ\n",
      "52895 Ο\n",
      "52896 Π\n",
      "52897 Ρ\n",
      "52898 ΢\n",
      "52899 Σ\n",
      "52900 Τ\n",
      "52901 Υ\n",
      "52902 Φ\n",
      "52903 Χ\n",
      "52904 Ψ\n",
      "52905 Ω\n",
      "52906 Ϊ\n",
      "52907 Ϋ\n",
      "52908 ά\n",
      "52909 έ\n",
      "52910 ή\n",
      "52911 ί\n",
      "52912 ΰ\n",
      "52913 α\n",
      "52914 β\n",
      "52915 γ\n",
      "52916 δ\n",
      "52917 ε\n",
      "52918 ζ\n",
      "52919 η\n",
      "52920 θ\n",
      "52921 ι\n",
      "52922 κ\n",
      "52923 λ\n",
      "52924 μ\n",
      "52925 ν\n",
      "52926 ξ\n",
      "52927 ο\n",
      "53120 π\n",
      "53121 ρ\n",
      "53122 ς\n",
      "53123 σ\n",
      "53124 τ\n",
      "53125 υ\n",
      "53126 φ\n",
      "53127 χ\n",
      "53128 ψ\n",
      "53129 ω\n",
      "53130 ϊ\n",
      "53131 ϋ\n",
      "53132 ό\n",
      "53133 ύ\n"
     ]
    }
   ],
   "source": [
    "for i in range(fr,to,1):\n",
    "    try:\n",
    "        twoBytes=i.to_bytes(2,'big')\n",
    "        decodedTwoBytes=twoBytes.decode('utf-8')\n",
    "        print(i,decodedTwoBytes)\n",
    "    except UnicodeDecodeError:\n",
    "       True==True"
   ]
  },
  {
   "cell_type": "markdown",
   "metadata": {},
   "source": [
    "**Exercise** Write a program to read and print out [this UTF-16 encoded file]().  (For historical reasons some Windows files are UTF-16 encoded.)  Open the file directory from the internet like this:"
   ]
  },
  {
   "cell_type": "code",
   "execution_count": 26,
   "metadata": {},
   "outputs": [],
   "source": [
    "import urllib.request\n",
    "\n",
    "f = \"https://raw.githubusercontent.com/werowe/HypatiaAcademy/master/assignment/encoded.txt\"\n",
    "\n",
    "l = urllib.request.urlopen(f)  "
   ]
  }
 ],
 "metadata": {
  "kernelspec": {
   "display_name": "Python 3",
   "language": "python",
   "name": "python3"
  },
  "language_info": {
   "codemirror_mode": {
    "name": "ipython",
    "version": 3
   },
   "file_extension": ".py",
   "mimetype": "text/x-python",
   "name": "python",
   "nbconvert_exporter": "python",
   "pygments_lexer": "ipython3",
   "version": "3.4.4"
  }
 },
 "nbformat": 4,
 "nbformat_minor": 2
}
