{
 "cells": [
  {
   "cell_type": "markdown",
   "metadata": {},
   "source": [
    "# Localization\n",
    "\n",
    "\n",
    "Note on windows.\n",
    "\n",
    "* Locale el-CY.UTF-8\n",
    "* Locale tr-CY.UTF-8\n",
    "* Decimal and 1000s Seperator\n",
    "* Currency Symbol\n",
    "* Date\n",
    "* Babel\n",
    "\n",
    "* LC_ALL\n",
    "  - locale.setlocale(locale.LC_TIME, \n",
    "  - locale.setlocale(locale.LC_MESSAGES, \n",
    "  - locale.setlocale(locale.LC_NUMERIC,  \n",
    "  - locale.setlocale(locale.LC_MONETARY, \n",
    "  - LANGUAGE\n",
    "  - LC_CTYPE = \"UTF-8\"\n",
    "            \n",
    "* Display localization settings\n",
    "\n",
    " \n"
   ]
  },
  {
   "cell_type": "markdown",
   "metadata": {},
   "source": [
    "Babel locale settings are different."
   ]
  },
  {
   "cell_type": "code",
   "execution_count": 3,
   "metadata": {},
   "outputs": [
    {
     "name": "stdout",
     "output_type": "stream",
     "text": [
      "1 Ağu 2020\n",
      "1 Αυγ 2020\n"
     ]
    }
   ],
   "source": [
    "from datetime import date, datetime, time\n",
    "from babel.dates import format_date, format_datetime, format_time\n",
    "\n",
    "d = date(2020, 8, 1)\n",
    "\n",
    "print(format_date(d, locale='tr_CY')) \n",
    "print(format_date(d, locale='el_CY'))\n",
    " "
   ]
  },
  {
   "cell_type": "code",
   "execution_count": null,
   "metadata": {},
   "outputs": [],
   "source": [
    "el_CY.UTF-8 does not work here"
   ]
  },
  {
   "cell_type": "code",
   "execution_count": 22,
   "metadata": {},
   "outputs": [
    {
     "name": "stdout",
     "output_type": "stream",
     "text": [
      "Sun, 08/16/2020 08:38:38\n"
     ]
    }
   ],
   "source": [
    "import locale\n",
    "from datetime import date, datetime, time\n",
    "\n",
    " \n",
    "locale.setlocale(locale.LC_ALL, \"en_US.UTF-8\")\n",
    " \n",
    "print(datetime.today().strftime('%a, %x %X'))\n",
    " "
   ]
  },
  {
   "cell_type": "code",
   "execution_count": null,
   "metadata": {},
   "outputs": [],
   "source": []
  }
 ],
 "metadata": {
  "kernelspec": {
   "display_name": "Python 3",
   "language": "python",
   "name": "python3"
  },
  "language_info": {
   "codemirror_mode": {
    "name": "ipython",
    "version": 3
   },
   "file_extension": ".py",
   "mimetype": "text/x-python",
   "name": "python",
   "nbconvert_exporter": "python",
   "pygments_lexer": "ipython3",
   "version": "3.4.4"
  }
 },
 "nbformat": 4,
 "nbformat_minor": 2
}
