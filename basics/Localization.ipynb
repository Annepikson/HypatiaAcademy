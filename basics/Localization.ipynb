{
 "cells": [
  {
   "cell_type": "markdown",
   "metadata": {},
   "source": [
    "# Localization\n",
    "\n",
    "\n",
    "Localization is an international standard to make sure that dates, numbers, times, currencies, etc. are displayed correctly in each country.  It also handles language dialects, like Belgian French versus France French or Cyprus Greek versus Greece Greek.  \n",
    "\n",
    "For example, even though Cyprus people speak Greek they use the French and Spanish way of writing numbers.\n",
    "\n",
    "Like this:\n",
    "\n",
    "1.000.000,00\n",
    "\n",
    "Instead of the British and American:\n",
    "\n",
    "1,000,000.00\n",
    "\n",
    "And they write dates like this:\n",
    "\n",
    "day-month-year\n",
    "\n",
    "Instead of:\n",
    "\n",
    "month-day-year\n",
    "\n",
    "# Locale Defined\n",
    "\n",
    "A locale is a (language)-(Dialect or Country).(encoding scheme).\n",
    "\n",
    "Cyprus Greek:\n",
    "\n",
    "* Locale el-CY.UTF-8\n",
    "\n",
    "Cyprus Turkish\n",
    "\n",
    "\n",
    "* Locale tr-CY.UTF-8\n",
    "\n",
    "\n",
    "The Babel Python language API recognizes the Greek dialect of Cyprus.  But localization built into Python only allows for Greece Greek:\n",
    "\n",
    "* Locale el-GR.UTF-8\n",
    "\n",
    "\n",
    "\n",
    "## Windows  and Unix Locales\n",
    "Of course Microsoft has do be different than everyone else.  Their locales are [listed here](https://www.science.co.il/language/Locale-codes.php)\n",
    "\n",
    "For Unix systems (Mac, Ubuntu, Redhat, etc.) you can use [this list](https://www.science.co.il/language/Locale-codes.php).\n",
    "\n",
    " \n",
    "            \n",
    "\n",
    "\n",
    "\n",
    " \n"
   ]
  },
  {
   "cell_type": "markdown",
   "metadata": {},
   "source": [
    "## Display localization settings\n",
    "\n",
    "Type `locale` in Mac or Ubuntu:"
   ]
  },
  {
   "cell_type": "markdown",
   "metadata": {},
   "source": [
    "```bash\n",
    "locale\n",
    "LANG=\"en_US.UTF-8\"\n",
    "LC_COLLATE=\"en_US.UTF-8\"\n",
    "LC_CTYPE=\"en_US.UTF-8\"\n",
    "LC_MESSAGES=\"en_US.UTF-8\"\n",
    "LC_MONETARY=\"en_US.UTF-8\"\n",
    "LC_NUMERIC=\"en_US.UTF-8\"\n",
    "LC_TIME=\"en_US.UTF-8\"\n",
    "LC_ALL=\n",
    "```"
   ]
  },
  {
   "cell_type": "markdown",
   "metadata": {},
   "source": [
    "Or run this Python code:"
   ]
  },
  {
   "cell_type": "code",
   "execution_count": 47,
   "metadata": {},
   "outputs": [
    {
     "data": {
      "text/plain": [
       "{'currency_symbol': '$',\n",
       " 'decimal_point': '.',\n",
       " 'frac_digits': 2,\n",
       " 'grouping': [3, 3, 0],\n",
       " 'int_curr_symbol': 'USD ',\n",
       " 'int_frac_digits': 2,\n",
       " 'mon_decimal_point': '.',\n",
       " 'mon_grouping': [3, 3, 0],\n",
       " 'mon_thousands_sep': ',',\n",
       " 'n_cs_precedes': 1,\n",
       " 'n_sep_by_space': 0,\n",
       " 'n_sign_posn': 1,\n",
       " 'negative_sign': '-',\n",
       " 'p_cs_precedes': 1,\n",
       " 'p_sep_by_space': 0,\n",
       " 'p_sign_posn': 1,\n",
       " 'positive_sign': '',\n",
       " 'thousands_sep': ','}"
      ]
     },
     "execution_count": 47,
     "metadata": {},
     "output_type": "execute_result"
    }
   ],
   "source": [
    "locale.localeconv()"
   ]
  },
  {
   "cell_type": "markdown",
   "metadata": {},
   "source": [
    "# Babel Language Module\n",
    "\n",
    "Babel locale settings are different."
   ]
  },
  {
   "cell_type": "code",
   "execution_count": 48,
   "metadata": {},
   "outputs": [
    {
     "name": "stdout",
     "output_type": "stream",
     "text": [
      "1 Ağu 2020\n",
      "1 Αυγ 2020\n"
     ]
    }
   ],
   "source": [
    "from datetime import date, datetime, time\n",
    "from babel.dates import format_date, format_datetime, format_time\n",
    "\n",
    "d = date(2020, 8, 1)\n",
    "\n",
    "print(format_date(d, locale='tr_CY')) \n",
    "print(format_date(d, locale='el_CY'))\n",
    " "
   ]
  },
  {
   "cell_type": "markdown",
   "metadata": {},
   "source": [
    "# Printing Dates using Local Format\n",
    "\n",
    "As we said el_CY.UTF-8 does not work here.  You have to use el_GR.UTF-8 in Cyprus.  "
   ]
  },
  {
   "cell_type": "code",
   "execution_count": 49,
   "metadata": {},
   "outputs": [
    {
     "name": "stdout",
     "output_type": "stream",
     "text": [
      "Τρι, 18/08/2020 07:30:22\n"
     ]
    }
   ],
   "source": [
    "import locale\n",
    "from datetime import date, datetime, time\n",
    "\n",
    " \n",
    "locale.setlocale(locale.LC_ALL, \"el_GR.UTF-8\")\n",
    " \n",
    "print(datetime.today().strftime('%a, %x %X'))\n",
    " "
   ]
  },
  {
   "cell_type": "code",
   "execution_count": 50,
   "metadata": {},
   "outputs": [
    {
     "data": {
      "text/plain": [
       "('el_GR', 'UTF-8')"
      ]
     },
     "execution_count": 50,
     "metadata": {},
     "output_type": "execute_result"
    }
   ],
   "source": [
    "import locale\n",
    "locale.getlocale()"
   ]
  },
  {
   "cell_type": "code",
   "execution_count": 51,
   "metadata": {},
   "outputs": [
    {
     "name": "stdout",
     "output_type": "stream",
     "text": [
      "18 07H \n"
     ]
    }
   ],
   "source": [
    "print(datetime.today().strftime('%d %HH '))"
   ]
  },
  {
   "cell_type": "code",
   "execution_count": 52,
   "metadata": {},
   "outputs": [
    {
     "data": {
      "text/plain": [
       "'el_GR.UTF-8'"
      ]
     },
     "execution_count": 52,
     "metadata": {},
     "output_type": "execute_result"
    }
   ],
   "source": [
    "locale.setlocale(locale.LC_ALL, \"el_GR.UTF-8\")"
   ]
  },
  {
   "cell_type": "code",
   "execution_count": 53,
   "metadata": {},
   "outputs": [
    {
     "name": "stdout",
     "output_type": "stream",
     "text": [
      "188.518.982,18 Eu\n",
      "-188.518.982,18 Eu\n"
     ]
    }
   ],
   "source": [
    "locale.setlocale(locale.LC_ALL, \"el_GR.UTF-8\")\n",
    "print(locale.currency( 188518982.18, grouping=True ))\n",
    "print(locale.currency( -188518982.18, grouping=True ))"
   ]
  },
  {
   "cell_type": "code",
   "execution_count": null,
   "metadata": {},
   "outputs": [],
   "source": []
  },
  {
   "cell_type": "code",
   "execution_count": 54,
   "metadata": {},
   "outputs": [
    {
     "data": {
      "text/plain": [
       "5"
      ]
     },
     "execution_count": 54,
     "metadata": {},
     "output_type": "execute_result"
    }
   ],
   "source": [
    "locale.LC_TIME"
   ]
  },
  {
   "cell_type": "code",
   "execution_count": 55,
   "metadata": {},
   "outputs": [],
   "source": [
    "## Currency"
   ]
  },
  {
   "cell_type": "code",
   "execution_count": 56,
   "metadata": {},
   "outputs": [
    {
     "name": "stdout",
     "output_type": "stream",
     "text": [
      "$188,518,982.18\n",
      "-$188,518,982.18\n"
     ]
    }
   ],
   "source": [
    "locale.setlocale(locale.LC_ALL, \"en_US.UTF-8\")\n",
    "print(locale.currency( 188518982.18, grouping=True ))\n",
    "print(locale.currency( -188518982.18, grouping=True ))"
   ]
  },
  {
   "cell_type": "markdown",
   "metadata": {},
   "source": [
    "# Decimals and 1000s Seperator\n",
    " \n",
    " "
   ]
  }
 ],
 "metadata": {
  "kernelspec": {
   "display_name": "Python 3",
   "language": "python",
   "name": "python3"
  },
  "language_info": {
   "codemirror_mode": {
    "name": "ipython",
    "version": 3
   },
   "file_extension": ".py",
   "mimetype": "text/x-python",
   "name": "python",
   "nbconvert_exporter": "python",
   "pygments_lexer": "ipython3",
   "version": "3.4.4"
  }
 },
 "nbformat": 4,
 "nbformat_minor": 2
}
