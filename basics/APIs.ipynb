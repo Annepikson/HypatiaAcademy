{
 "cells": [
  {
   "cell_type": "markdown",
   "metadata": {},
   "source": [
    "# API\n",
    "\n",
    "API is application programming interface.\n",
    "\n",
    "![](https://raw.githubusercontent.com/werowe/HypatiaAcademy/master/images/restAPI.jpg)\n",
    "\n",
    "\n",
    "You sent it a **GET** or **PUT/POST** operation and parameters or aquery string arguments plus a **content type**.  It works just like a browser.  Except you are writing a program.\n",
    "\n",
    "You can see this in facebook:\n",
    "\n",
    "```text\n",
    "https://www.facebook.com/hypatiaacademycyprus/?modal=suggested_action&notif_id=1598770811488458&notif_t=page_user_activity\n",
    "```\n",
    "\n",
    "Here we have query string parameters.  They come after the question mark(?).\n",
    "\n",
    "* model\n",
    "* notif_id\n",
    "\n",
    "\n",
    "## Open Weather Map API Example\n",
    "\n",
    "[API documentation](https://openweathermap.org/current)\n",
    "\n",
    "\n",
    "`api.openweathermap.org/data/2.5/weather?q={city name}&appid={your api key}`"
   ]
  },
  {
   "cell_type": "markdown",
   "metadata": {},
   "source": [
    "**simplejson** makes json simple\n",
    "\n",
    "**requests** is called **Requests for Humans**\n",
    "\n",
    "requests are of several type.  We only need these\n",
    "\n",
    "* get\n",
    "* post/post\n",
    "* delete\n",
    "\n",
    "Here we call the open weather map weather API and give it the longitude, latitude, and API key.  It gives us the weather at that location\n"
   ]
  },
  {
   "cell_type": "code",
   "execution_count": 4,
   "metadata": {},
   "outputs": [
    {
     "name": "stdout",
     "output_type": "stream",
     "text": [
      "{\n",
      "    \"base\": \"stations\",\n",
      "    \"clouds\": {\n",
      "        \"all\": 20\n",
      "    },\n",
      "    \"cod\": 200,\n",
      "    \"coord\": {\n",
      "        \"lat\": 35.17,\n",
      "        \"lon\": 33.37\n",
      "    },\n",
      "    \"dt\": 1600348042,\n",
      "    \"id\": 146268,\n",
      "    \"main\": {\n",
      "        \"feels_like\": 305.08,\n",
      "        \"humidity\": 32,\n",
      "        \"pressure\": 1010,\n",
      "        \"temp\": 307.66,\n",
      "        \"temp_max\": 310.15,\n",
      "        \"temp_min\": 304.82\n",
      "    },\n",
      "    \"name\": \"Nicosia\",\n",
      "    \"sys\": {\n",
      "        \"country\": \"CY\",\n",
      "        \"id\": 6370,\n",
      "        \"sunrise\": 1600313460,\n",
      "        \"sunset\": 1600357864,\n",
      "        \"type\": 1\n",
      "    },\n",
      "    \"timezone\": 10800,\n",
      "    \"visibility\": 10000,\n",
      "    \"weather\": [\n",
      "        {\n",
      "            \"description\": \"few clouds\",\n",
      "            \"icon\": \"02d\",\n",
      "            \"id\": 801,\n",
      "            \"main\": \"Clouds\"\n",
      "        }\n",
      "    ],\n",
      "    \"wind\": {\n",
      "        \"deg\": 160,\n",
      "        \"speed\": 6.2\n",
      "    }\n",
      "}\n",
      "In Nicosia it's hot!!! 30.766000000000002\n"
     ]
    }
   ],
   "source": [
    "import simplejson as json\n",
    "\n",
    "import requests\n",
    "\n",
    "url = \"http://api.openweathermap.org/data/2.5/weather?\"\n",
    "\n",
    "querystring = {'lat': 35.17,\n",
    "               'lon': 33.37,\n",
    "               'appid' : '91d1fc2871fedb0a0d70b09b77963b9b'}\n",
    "\n",
    "\n",
    "response = requests.get(url, params=querystring)\n",
    "\n",
    "print(json.dumps(response.json(), indent=4, sort_keys=True))\n",
    "\n",
    "print(\"In Nicosia it's hot!!!\", response.json()['main']['temp']/10 )\n",
    "\n"
   ]
  },
  {
   "cell_type": "markdown",
   "metadata": {},
   "source": [
    "This is a JSON object (Not a JSON string.)  So we can get individual fields using keys and values."
   ]
  },
  {
   "cell_type": "code",
   "execution_count": 13,
   "metadata": {},
   "outputs": [
    {
     "name": "stdout",
     "output_type": "stream",
     "text": [
      "dict_keys(['coord', 'weather', 'name', 'base', 'id', 'wind', 'clouds', 'main', 'dt', 'cod', 'visibility', 'sys', 'timezone'])\n"
     ]
    }
   ],
   "source": [
    "dict = response.json()\n",
    "print(dict.keys()) "
   ]
  },
  {
   "cell_type": "markdown",
   "metadata": {},
   "source": [
    "So we can get any value by it's key. Like main, as it has only temperature and related info: "
   ]
  },
  {
   "cell_type": "code",
   "execution_count": 14,
   "metadata": {},
   "outputs": [
    {
     "name": "stdout",
     "output_type": "stream",
     "text": [
      "{'temp': 302.89, 'pressure': 1010, 'temp_min': 301.48, 'temp_max': 304.15, 'humidity': 52, 'feels_like': 302.47}\n"
     ]
    }
   ],
   "source": [
    "print(dict['main'])"
   ]
  },
  {
   "cell_type": "code",
   "execution_count": 15,
   "metadata": {},
   "outputs": [
    {
     "name": "stdout",
     "output_type": "stream",
     "text": [
      "30.288999999999998\n"
     ]
    }
   ],
   "source": [
    "print(dict['main']['temp']/10)"
   ]
  },
  {
   "cell_type": "markdown",
   "metadata": {},
   "source": [
    "\n",
    "We can also use `curl`:\n",
    "\n",
    "```bash\n",
    "curl \"http://api.openweathermap.org/data/2.5/weather?appid=91d1fc2871fedb0a0d70b09b77963b9b&q=Nicosia\"\n",
    "```\n",
    "\n",
    "\n",
    "produces this result:\n",
    "\n",
    "```json\n",
    "{\"coord\":{\"lon\":33.37,\"lat\":35.17},\"weather\":[{\"id\":800,\"main\":\"Clear\",\"description\":\"clear sky\",\"icon\":\"01d\"}],\"base\":\"stations\",\"main\":{\"temp\":312.15,\"feels_like\":307.92,\"temp_min\":312.15,\"temp_max\":312.15,\"pressure\":1004,\"humidity\":13},\"visibility\":10000,\"wind\":{\"speed\":4.6,\"deg\":20},\"clouds\":{\"all\":0},\"dt\":1599746440,\"sys\":{\"type\":1,\"id\":6370,\"country\":\"CY\",\"sunrise\":1599708356,\"sunset\":1599753675},\"timezone\":10800,\"id\":146268,\"name\":\"Nicosia\",\"cod\":200}\n",
    "```"
   ]
  },
  {
   "cell_type": "markdown",
   "metadata": {},
   "source": [
    "X-FunTranslations-Api-Secret'\n",
    "\n",
    "curl -i -X POST  -H 'X-Funtranslations-Api-Secret: <api_key>' -d \"text=Master Obiwan has lost a planet.\" https://api.funtranslations.com/translate/yoda.json"
   ]
  },
  {
   "cell_type": "code",
   "execution_count": 6,
   "metadata": {},
   "outputs": [
    {
     "name": "stdout",
     "output_type": "stream",
     "text": [
      "{\n",
      "    \"contents\": {\n",
      "        \"text\": \"Master Obiwan has lost a planet\",\n",
      "        \"translated\": \"Lost a planet,  master obiwan has\",\n",
      "        \"translation\": \"yoda\"\n",
      "    },\n",
      "    \"success\": {\n",
      "        \"total\": 1\n",
      "    }\n",
      "}\n"
     ]
    }
   ],
   "source": [
    "import simplejson as json\n",
    "\n",
    "import requests\n",
    "\n",
    "url = \"https://api.funtranslations.com/translate/yoda.json?\"\n",
    "\n",
    "headers = {\"X-Funtranslations-Api-Secret\": \"nothing\"}\n",
    "\n",
    "querystring = {'text': \"Master Obiwan has lost a planet\" }\n",
    "\n",
    "\n",
    "response = requests.get(url, params=querystring, headers=headers)\n",
    "\n",
    "print(json.dumps(response.json(), indent=4, sort_keys=True))\n",
    "\n",
    "print()"
   ]
  },
  {
   "cell_type": "code",
   "execution_count": 12,
   "metadata": {},
   "outputs": [
    {
     "data": {
      "text/plain": [
       "'Lost a planet,  master obiwan has'"
      ]
     },
     "execution_count": 12,
     "metadata": {},
     "output_type": "execute_result"
    }
   ],
   "source": [
    "response.json()['contents']['translated']"
   ]
  },
  {
   "cell_type": "markdown",
   "metadata": {},
   "source": [
    "## ElasticSearch\n",
    "\n",
    "ElasticSearch is a JSON database with a REST API.\n",
    "\n",
    "I wrote [these commands](https://www.bmc.com/blogs/elasticsearch-commands/).\n",
    "\n",
    "List indexes:\n",
    "\n",
    " curl -X GET 'http://parisx:9200/_cat/indices?v\n",
    " \n",
    "```text\n",
    "health status index                            uuid                   pri rep docs.count docs.deleted store.size pri.store.size\n",
    "yellow open   filebeat-7.7.1-2020.08.14-000001 UqBVT0WlTYOBa2OqJWq9cw   1   1      35900            0     15.9mb         15.9mb\n",
    "green  open   .kibana_task_manager_1           20wX-YnySTu9t89KoL1-IA   1   0          2  \n",
    "```\n",
    " \n",
    " Add data:\n",
    " \n",
    " curl -XPUT --header 'Content-Type: application/json' http://localhost:9200/samples/_doc/1 -d '{\n",
    "   \"school\" : \"Harvard\"\t\t\t\n",
    "}'\n",
    "\n",
    "```json\n",
    "{\"_index\":\"samples\",\"_type\":\"_doc\",\"_id\":\"1\",\"_version\":1,\"result\":\"created\",\"_shards\":{\"total\":2,\"successful\":1,\"failed\":0}\n",
    "```\n",
    "\n"
   ]
  },
  {
   "cell_type": "markdown",
   "metadata": {},
   "source": [
    "Notice the content type.  Notice that we convert the dictionary to a string using `json.dumps()`:\n",
    "\n",
    "\n",
    "```python\n",
    "import simplejson as json\n",
    "\n",
    "import requests\n",
    "\n",
    "dict={\"student\": \"Walker\"}\n",
    "\n",
    "headers = {\n",
    "    \"Content-Type\": \"application/json\"\n",
    "}\n",
    "\n",
    "url = \"http://parisx:9200/samples/_doc/2\"\n",
    "\n",
    "response = requests.put(url, data=json.dumps(dict), headers=headers)\n",
    "\n",
    "response.text\n",
    "\n",
    "```\n",
    "\n",
    "here is response:\n",
    "\n",
    "```text\n",
    "\n",
    "'{\"_index\":\"samples\",\"_type\":\"_doc\",\"_id\":\"2\",\"_version\":1,\"result\":\"created\",\"_shards\":{\"total\":2,\"successful\":1,\"failed\":0},\"_seq_no\":2,\"_primary_term\":1}'\n",
    "```\n"
   ]
  },
  {
   "cell_type": "code",
   "execution_count": null,
   "metadata": {},
   "outputs": [],
   "source": [
    " "
   ]
  }
 ],
 "metadata": {
  "kernelspec": {
   "display_name": "Python 3",
   "language": "python",
   "name": "python3"
  },
  "language_info": {
   "codemirror_mode": {
    "name": "ipython",
    "version": 3
   },
   "file_extension": ".py",
   "mimetype": "text/x-python",
   "name": "python",
   "nbconvert_exporter": "python",
   "pygments_lexer": "ipython3",
   "version": "3.4.4"
  }
 },
 "nbformat": 4,
 "nbformat_minor": 2
}
