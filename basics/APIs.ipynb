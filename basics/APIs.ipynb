{
 "cells": [
  {
   "cell_type": "markdown",
   "metadata": {},
   "source": [
    "\n",
    "\n",
    "https://openweathermap.org/guide#plans\n",
    "\n",
    "91d1fc2871fedb0a0d70b09b77963b9b\n",
    "\n",
    "[API documentation](https://openweathermap.org/current)\n",
    "\n",
    "\n",
    "api.openweathermap.org/data/2.5/weather?q={city name}&appid={your api key}"
   ]
  },
  {
   "cell_type": "code",
   "execution_count": 9,
   "metadata": {},
   "outputs": [
    {
     "name": "stdout",
     "output_type": "stream",
     "text": [
      "{\n",
      "    \"base\": \"stations\",\n",
      "    \"clouds\": {\n",
      "        \"all\": 20\n",
      "    },\n",
      "    \"cod\": 200,\n",
      "    \"coord\": {\n",
      "        \"lat\": 34.77,\n",
      "        \"lon\": 32.42\n",
      "    },\n",
      "    \"dt\": 1599568542,\n",
      "    \"id\": 146214,\n",
      "    \"main\": {\n",
      "        \"feels_like\": 307.27,\n",
      "        \"humidity\": 70,\n",
      "        \"pressure\": 1010,\n",
      "        \"temp\": 305.5,\n",
      "        \"temp_max\": 305.93,\n",
      "        \"temp_min\": 305.15\n",
      "    },\n",
      "    \"name\": \"Paphos\",\n",
      "    \"sys\": {\n",
      "        \"country\": \"CY\",\n",
      "        \"id\": 6374,\n",
      "        \"sunrise\": 1599535713,\n",
      "        \"sunset\": 1599581260,\n",
      "        \"type\": 1\n",
      "    },\n",
      "    \"timezone\": 10800,\n",
      "    \"visibility\": 10000,\n",
      "    \"weather\": [\n",
      "        {\n",
      "            \"description\": \"few clouds\",\n",
      "            \"icon\": \"02d\",\n",
      "            \"id\": 801,\n",
      "            \"main\": \"Clouds\"\n",
      "        }\n",
      "    ],\n",
      "    \"wind\": {\n",
      "        \"deg\": 270,\n",
      "        \"speed\": 7.7\n",
      "    }\n",
      "}\n"
     ]
    }
   ],
   "source": [
    "import simplejson as json\n",
    "\n",
    "import requests\n",
    "\n",
    "url = \"http://api.openweathermap.org/data/2.5/weather?\"\n",
    "\n",
    "querystring = {'q': 'Paphos', \n",
    "               'appid' : '91d1fc2871fedb0a0d70b09b77963b9b'}\n",
    " \n",
    "\n",
    "response = requests.get(url, params=querystring)\n",
    "\n",
    " \n",
    "\n",
    "print(json.dumps(response.json(), indent=4, sort_keys=True))"
   ]
  },
  {
   "cell_type": "code",
   "execution_count": null,
   "metadata": {},
   "outputs": [],
   "source": []
  },
  {
   "cell_type": "code",
   "execution_count": null,
   "metadata": {},
   "outputs": [],
   "source": []
  }
 ],
 "metadata": {
  "kernelspec": {
   "display_name": "Python 3",
   "language": "python",
   "name": "python3"
  },
  "language_info": {
   "codemirror_mode": {
    "name": "ipython",
    "version": 3
   },
   "file_extension": ".py",
   "mimetype": "text/x-python",
   "name": "python",
   "nbconvert_exporter": "python",
   "pygments_lexer": "ipython3",
   "version": "3.4.4"
  }
 },
 "nbformat": 4,
 "nbformat_minor": 2
}
