{
 "cells": [
  {
   "cell_type": "markdown",
   "metadata": {},
   "source": [
    "\n",
    "# Classes and Objects\n",
    "\n",
    "Classes and objects is usually an advanced topic.  But we present it early because in the student project we have we need to create customer and sales order data.  As you will see if is far easier to do this using objects that using dictionaries.\n",
    "\n",
    "\n",
    "Here is a diagram from our student project to create an inventory system.  As you can see a customer object has a variable number of sales orders.  Think of when you (the customer) go to the store and buy something (the orders).  In a SQL database you would create those as separate object.  But in a JSON database you would put them together.\n",
    "\n",
    "We will do both.  First we will store the data in a MongoDB (JSON) database.  Then we will store them in a PostgreSQL SQL database.  But that is the last step.  First we have to learn how to create the objects and write them to a file.\n",
    "\n",
    "![inventory system](https://github.com/werowe/HypatiaAcademy/blob/master/images/Python%20Student%20Project%20(1).jpg)"
   ]
  },
  {
   "cell_type": "markdown",
   "metadata": {},
   "source": [
    "If you were to use a dictionary you might represent a customer like this:"
   ]
  },
  {
   "cell_type": "code",
   "execution_count": 84,
   "metadata": {},
   "outputs": [],
   "source": [
    "customer = { \"customerNumber\": 123,\n",
    "            \"name\": \"Walker\", \n",
    "            \"postalcode\": 8035 }"
   ]
  },
  {
   "cell_type": "markdown",
   "metadata": {},
   "source": [
    "And then you might present an order like this:"
   ]
  },
  {
   "cell_type": "code",
   "execution_count": 85,
   "metadata": {},
   "outputs": [],
   "source": [
    "from datetime import date\n",
    "order1 = { \"customerNumber\": 123,\n",
    "          \"orderNumber\" : 456, \n",
    "         \"orderdate\": date.today().strftime('%Y-%h-%d'), \n",
    "         \"productNumber\": \"EA123\", \n",
    "         \"quantity\": 150 }\n",
    "\n",
    "order2 = { \"customerNumber\": 123,\n",
    "           \"orderNumber\" : 789, \n",
    "         \"orderdate\": date.today().strftime('%Y-%h-%d'), \n",
    "         \"productNumber\": \"EA456\", \n",
    "         \"quantity\": 300 }\n"
   ]
  },
  {
   "cell_type": "markdown",
   "metadata": {},
   "source": [
    "You would then assign order to the customer dictionary object by making a new key called **orders** then adding the two dictioaries order1 and order 2 as values."
   ]
  },
  {
   "cell_type": "code",
   "execution_count": 86,
   "metadata": {},
   "outputs": [],
   "source": [
    "customer[\"orders\"] = [order1,order2]"
   ]
  },
  {
   "cell_type": "markdown",
   "metadata": {},
   "source": [
    "Then when you print it out, using the pretty printer (pprint) method it looks like this."
   ]
  },
  {
   "cell_type": "code",
   "execution_count": 87,
   "metadata": {},
   "outputs": [
    {
     "name": "stdout",
     "output_type": "stream",
     "text": [
      "{   'customerNumber': 123,\n",
      "    'name': 'Walker',\n",
      "    'orders': [   {   'customerNumber': 123,\n",
      "                      'orderNumber': 456,\n",
      "                      'orderdate': '2020-Aug-29',\n",
      "                      'productNumber': 'EA123',\n",
      "                      'quantity': 150},\n",
      "                  {   'customerNumber': 123,\n",
      "                      'orderNumber': 789,\n",
      "                      'orderdate': '2020-Aug-29',\n",
      "                      'productNumber': 'EA456',\n",
      "                      'quantity': 300}],\n",
      "    'postalcode': 8035}\n"
     ]
    }
   ],
   "source": [
    "import pprint\n",
    "\n",
    "pp = pprint.PrettyPrinter(indent=4)\n",
    "\n",
    "pp.pprint(customer)"
   ]
  },
  {
   "cell_type": "markdown",
   "metadata": {},
   "source": [
    "That's ok, but to refer to the order you would have to use the key **orders** and then the array index to print an order.  "
   ]
  },
  {
   "cell_type": "code",
   "execution_count": 88,
   "metadata": {},
   "outputs": [
    {
     "data": {
      "text/plain": [
       "{'customerNumber': 123,\n",
       " 'orderNumber': 456,\n",
       " 'orderdate': '2020-Aug-29',\n",
       " 'productNumber': 'EA123',\n",
       " 'quantity': 150}"
      ]
     },
     "execution_count": 88,
     "metadata": {},
     "output_type": "execute_result"
    }
   ],
   "source": [
    "customer[\"orders\"][0]"
   ]
  },
  {
   "cell_type": "markdown",
   "metadata": {},
   "source": [
    "A more natural way to do that is to use objects.\n",
    "\n",
    "We use the word **class**.  Each class must have a **constructor**, which is the funcion that gives the object it's initial values.  The bare minimum we need to give a customer is the customerNumber who we use that.\n",
    "\n",
    "We use the word **self** to refer to the class.  So this line\n",
    "\n",
    "`self.customerNumber=customerNumber`\n",
    "\n",
    "mesnt to assign to the Customer member element **customer** the parameter **customerNumber**, which is a parameter in the constructor function."
   ]
  },
  {
   "cell_type": "code",
   "execution_count": 89,
   "metadata": {},
   "outputs": [],
   "source": [
    "class Customer:\n",
    "    \n",
    "    orders = []\n",
    "    \n",
    "    def __init__(self,customerNumber):\n",
    "        self.customerNumber=customerNumber\n",
    "    \n",
    "    def addOrder(self, order):\n",
    "        self.orders.append(order)\n",
    "        \n",
    "    def getOrders(self):\n",
    "        return self.orders\n",
    "        \n",
    "        "
   ]
  },
  {
   "cell_type": "markdown",
   "metadata": {},
   "source": [
    "We then create a **customer** object by putting the class name **Customer** in paranthese.  In the paranthese we pass it the customerNumber."
   ]
  },
  {
   "cell_type": "code",
   "execution_count": 90,
   "metadata": {},
   "outputs": [],
   "source": [
    "cust=Customer(123)"
   ]
  },
  {
   "cell_type": "code",
   "execution_count": 91,
   "metadata": {},
   "outputs": [
    {
     "name": "stdout",
     "output_type": "stream",
     "text": [
      "123\n",
      "Walker\n"
     ]
    }
   ],
   "source": [
    "print(cust.customerNumber)\n",
    "cust.customerName=\"Walker\"\n",
    "print(cust.customerName)"
   ]
  },
  {
   "cell_type": "code",
   "execution_count": 92,
   "metadata": {},
   "outputs": [],
   "source": [
    "class Order:\n",
    "    \n",
    "    def __init__(self,customerNumber, orderNumber, orderDate,productNumber,quantity):\n",
    "        self.customerNumber=customerNumber\n",
    "        self.orderNumber = orderNumber\n",
    "        self.orderDate = orderDate\n",
    "        self.productNumber = productNumber\n",
    "        self.quantity = quantity\n",
    "\n"
   ]
  },
  {
   "cell_type": "code",
   "execution_count": null,
   "metadata": {},
   "outputs": [],
   "source": []
  },
  {
   "cell_type": "code",
   "execution_count": 93,
   "metadata": {},
   "outputs": [],
   "source": [
    "ord1 = Order(123, 456, '2020-Aug-29', 'EA123', 150)\n",
    "ord2 = Order(123, 789, '2020-Aug-29', 'EA456', 300)"
   ]
  },
  {
   "cell_type": "code",
   "execution_count": 94,
   "metadata": {},
   "outputs": [],
   "source": [
    "cust.addOrder(ord1)\n",
    "cust.addOrder(ord2)"
   ]
  },
  {
   "cell_type": "code",
   "execution_count": 95,
   "metadata": {},
   "outputs": [
    {
     "name": "stdout",
     "output_type": "stream",
     "text": [
      "Customer Number 123 Order Number= 456\n",
      "Customer Number 123 Order Number= 789\n"
     ]
    }
   ],
   "source": [
    "for ord in cust.getOrders():\n",
    "    print(\"Customer Number\",ord.customerNumber, \"Order Number=\",ord.orderNumber)"
   ]
  },
  {
   "cell_type": "code",
   "execution_count": null,
   "metadata": {},
   "outputs": [],
   "source": []
  }
 ],
 "metadata": {
  "kernelspec": {
   "display_name": "Python 3",
   "language": "python",
   "name": "python3"
  },
  "language_info": {
   "codemirror_mode": {
    "name": "ipython",
    "version": 3
   },
   "file_extension": ".py",
   "mimetype": "text/x-python",
   "name": "python",
   "nbconvert_exporter": "python",
   "pygments_lexer": "ipython3",
   "version": "3.7.9"
  }
 },
 "nbformat": 4,
 "nbformat_minor": 4
}
