{
 "cells": [
  {
   "cell_type": "markdown",
   "metadata": {},
   "source": [
    "\n",
    "# Classes and Objects\n",
    "\n",
    "Classes and objects is usually an advanced topic.  But we present it early because in the student product inventory project we need to create customer and sales order data.  As you will see, it is far easier to do this using objects that using dictionaries, which is how you would do it if classes did not exist.\n",
    "\n",
    "Here is a diagram from our student project to create an inventory system.  As you can see a customer has a variable number of sales orders.  Think of when you (the customer) go to the store and buy something (the orders).  Every time you go back to buy something else you create another sales order.  But you only have one customer record since you are just you.   \n",
    "\n",
    "![inventory system](https://github.com/werowe/HypatiaAcademy/blob/master/images/Python%20Student%20Project%20(1).jpg?raw=true)"
   ]
  },
  {
   "cell_type": "markdown",
   "metadata": {},
   "source": [
    "If you were to use a dictionary you might represent a customer like this:"
   ]
  },
  {
   "cell_type": "code",
   "execution_count": 196,
   "metadata": {},
   "outputs": [],
   "source": [
    "customer = { \"customerNumber\": 123,\n",
    "            \"name\": \"Walker\", \n",
    "            \"postalcode\": 8035 }"
   ]
  },
  {
   "cell_type": "markdown",
   "metadata": {},
   "source": [
    "And then you might present an order like this:"
   ]
  },
  {
   "cell_type": "code",
   "execution_count": 197,
   "metadata": {},
   "outputs": [],
   "source": [
    "from datetime import date\n",
    "\n",
    "order1 = { \"customerNumber\": 123,\n",
    "          \"orderNumber\" : 456, \n",
    "         \"orderdate\": date.today().strftime('%Y-%h-%d'), \n",
    "         \"productNumber\": \"EA123\", \n",
    "         \"quantity\": 150 }\n",
    "\n",
    "order2 = { \"customerNumber\": 123,\n",
    "           \"orderNumber\" : 789, \n",
    "         \"orderdate\": date.today().strftime('%Y-%h-%d'), \n",
    "         \"productNumber\": \"EA456\", \n",
    "         \"quantity\": 300 }\n"
   ]
  },
  {
   "cell_type": "markdown",
   "metadata": {},
   "source": [
    "You would then assign orders to the customer dictionary by making a new key called **orders** then adding the two dictioaries order1 and order 2 as values."
   ]
  },
  {
   "cell_type": "code",
   "execution_count": 198,
   "metadata": {},
   "outputs": [],
   "source": [
    "customer[\"orders\"] = [order1,order2]"
   ]
  },
  {
   "cell_type": "markdown",
   "metadata": {},
   "source": [
    "Then when you print it out, using the pretty printer (pprint) method it looks like this."
   ]
  },
  {
   "cell_type": "code",
   "execution_count": 199,
   "metadata": {},
   "outputs": [
    {
     "name": "stdout",
     "output_type": "stream",
     "text": [
      "{   'customerNumber': 123,\n",
      "    'name': 'Walker',\n",
      "    'orders': [   {   'customerNumber': 123,\n",
      "                      'orderNumber': 456,\n",
      "                      'orderdate': '2020-Aug-29',\n",
      "                      'productNumber': 'EA123',\n",
      "                      'quantity': 150},\n",
      "                  {   'customerNumber': 123,\n",
      "                      'orderNumber': 789,\n",
      "                      'orderdate': '2020-Aug-29',\n",
      "                      'productNumber': 'EA456',\n",
      "                      'quantity': 300}],\n",
      "    'postalcode': 8035}\n"
     ]
    }
   ],
   "source": [
    "import pprint\n",
    "\n",
    "pp = pprint.PrettyPrinter(indent=4)\n",
    "\n",
    "pp.pprint(customer)"
   ]
  },
  {
   "cell_type": "markdown",
   "metadata": {},
   "source": [
    "That's ok, but to refer to the order you would have to use the key **orders** and then the array index to print an order.  "
   ]
  },
  {
   "cell_type": "code",
   "execution_count": 200,
   "metadata": {},
   "outputs": [
    {
     "data": {
      "text/plain": [
       "{'customerNumber': 123,\n",
       " 'orderNumber': 456,\n",
       " 'orderdate': '2020-Aug-29',\n",
       " 'productNumber': 'EA123',\n",
       " 'quantity': 150}"
      ]
     },
     "execution_count": 200,
     "metadata": {},
     "output_type": "execute_result"
    }
   ],
   "source": [
    "customer[\"orders\"][0]"
   ]
  },
  {
   "cell_type": "markdown",
   "metadata": {},
   "source": [
    "That looks really odd when you want to get the order quanity for the first order:"
   ]
  },
  {
   "cell_type": "code",
   "execution_count": 201,
   "metadata": {},
   "outputs": [
    {
     "data": {
      "text/plain": [
       "150"
      ]
     },
     "execution_count": 201,
     "metadata": {},
     "output_type": "execute_result"
    }
   ],
   "source": [
    "customer[\"orders\"][0][\"quantity\"]"
   ]
  },
  {
   "cell_type": "markdown",
   "metadata": {},
   "source": [
    "A more natural way to do that is to use objects.\n",
    "\n",
    "We use the word **class**.  Each class must have a **constructor**, which is the funcion that gives the object it's initial values.  The bare minimum we need to give a customer is the customerNumber. So we will put that in the constructor.\n",
    "\n",
    "We use the word **self** to refer to the class.  So this line\n",
    "\n",
    "`self.customerNumber=customerNumber`\n",
    "\n",
    "means to assign to the Customer member element **customerNumber** the parameter **customerNumber** vaue, which is a parameter in the constructor function.\n",
    "\n",
    "You should initialize all your variables in the constructor. So here we make an orders array to hold all our orders.  We set its inital value to []."
   ]
  },
  {
   "cell_type": "code",
   "execution_count": 202,
   "metadata": {},
   "outputs": [],
   "source": [
    "class Customer:\n",
    "    \n",
    "     \n",
    "    def __init__(self,customerNumber):\n",
    "        self.customerNumber=customerNumber\n",
    "        self.orders = []\n",
    "    \n",
    "    def addOrder(self, order):\n",
    "        self.orders.append(order)\n",
    "        \n",
    "    def getOrders(self):\n",
    "        return self.orders\n",
    "        \n",
    "        "
   ]
  },
  {
   "cell_type": "markdown",
   "metadata": {},
   "source": [
    "We then create a **customer** object by putting the class name **Customer** in parantheses.  In the paranthese we pass it the customerNumber."
   ]
  },
  {
   "cell_type": "code",
   "execution_count": 203,
   "metadata": {},
   "outputs": [],
   "source": [
    "cust=Customer(123)"
   ]
  },
  {
   "cell_type": "markdown",
   "metadata": {},
   "source": [
    "Now we can see that we have created (The correct word is **instantiated**) a Customer class creating a Customer object.\n",
    "\n",
    "The constructor `init()` ran giving the cust.customerNumber the value 123.  We can see that here.\n",
    "\n"
   ]
  },
  {
   "cell_type": "code",
   "execution_count": 204,
   "metadata": {},
   "outputs": [
    {
     "name": "stdout",
     "output_type": "stream",
     "text": [
      "123\n"
     ]
    }
   ],
   "source": [
    "print(cust.customerNumber)"
   ]
  },
  {
   "cell_type": "markdown",
   "metadata": {},
   "source": [
    "We can create a new variable in the Customer object just by adding a name and value.  Like `cust.newField = someValue`.\n",
    "\n",
    "(**Note**: You should note that writing a value to an object's attributes is **not** allowed in most other programming languages, like Java. Java requires you to write a function to do that.)"
   ]
  },
  {
   "cell_type": "code",
   "execution_count": 205,
   "metadata": {},
   "outputs": [
    {
     "name": "stdout",
     "output_type": "stream",
     "text": [
      "Walker\n"
     ]
    }
   ],
   "source": [
    "cust.customerName=\"Walker\"\n",
    "print(cust.customerName)"
   ]
  },
  {
   "cell_type": "markdown",
   "metadata": {},
   "source": [
    "Now let's make a sales order class.  The constructor here will have lots of fields as we need more that customer a customer number.  We need order number, date product number, etc."
   ]
  },
  {
   "cell_type": "code",
   "execution_count": 206,
   "metadata": {},
   "outputs": [],
   "source": [
    "class Order:\n",
    "    \n",
    "    def __init__(self,customerNumber, orderNumber, orderDate,productNumber,quantity):\n",
    "        self.customerNumber=customerNumber\n",
    "        self.orderNumber = orderNumber\n",
    "        self.orderDate = orderDate\n",
    "        self.productNumber = productNumber\n",
    "        self.quantity = quantity\n",
    "\n"
   ]
  },
  {
   "cell_type": "markdown",
   "metadata": {},
   "source": [
    "Here is how you create orders."
   ]
  },
  {
   "cell_type": "code",
   "execution_count": 207,
   "metadata": {},
   "outputs": [],
   "source": [
    "ord1 = Order(123, 456, '2020-Aug-29', 'EA123', 150)\n",
    "ord2 = Order(123, 789, '2020-Aug-29', 'EA456', 300)"
   ]
  },
  {
   "cell_type": "markdown",
   "metadata": {},
   "source": [
    "Then you call the function `Customer.addOrder()` to add orders to the Customer.orders[] array.  We call that a **member** function since it is a member of the Customer class. In other words you cannot use this function outside the class.  It has become part of the Customer class. Its sole purpose is to add orders to Customer objects.\n",
    "\n",
    "Here is that function:\n",
    "\n",
    "```python\n",
    "def addOrder(self, order):\n",
    "        self.orders.append(order)\n",
    "```\n",
    "        "
   ]
  },
  {
   "cell_type": "code",
   "execution_count": 208,
   "metadata": {},
   "outputs": [],
   "source": [
    "cust.addOrder(ord1)\n",
    "cust.addOrder(ord2)"
   ]
  },
  {
   "cell_type": "markdown",
   "metadata": {},
   "source": [
    "Since orders in an array, getOrders() is an array, so let's print them out by looping through the array.  Here is the getOrders function:\n",
    "\n",
    "```python\n",
    " def getOrders(self):\n",
    "        return self.orders\n",
    "```        "
   ]
  },
  {
   "cell_type": "code",
   "execution_count": 209,
   "metadata": {},
   "outputs": [
    {
     "name": "stdout",
     "output_type": "stream",
     "text": [
      "Customer Number 123 Order Number= 456\n",
      "Customer Number 123 Order Number= 789\n"
     ]
    }
   ],
   "source": [
    "for ord in cust.getOrders():\n",
    "    print(\"Customer Number\",ord.customerNumber, \"Order Number=\",ord.orderNumber)"
   ]
  },
  {
   "cell_type": "markdown",
   "metadata": {},
   "source": [
    "# Inheritance\n",
    "\n",
    "We won't need this for the inventory system but its important to understand the concept of **inheritance**.\n",
    "\n",
    "Suppose we have the object **ball**.  Then we have another obect which is also a ball, but is a special type of ball.  Call it **basket ball**.\n",
    "\n",
    "In Python if we create a BasketBall class it would not be necessary to add all the attributes that make a ball, like size, weight, material, etc.  We would just add what is unique to a basketball compared to other types of balls.\n",
    "\n",
    "We say that a basketball **inherits** the problems of a regular ball.\n",
    "\n",
    "Let's illustrate that with an example, suppose in our inventory system we have regular customers and we have VIP customers.  Those would be the same as regular customers except they have a customerStatus of **VIP**.\n",
    "\n",
    "We would create the VipCustomer like this.  The only difference it the format:\n",
    "\n",
    "```python\n",
    "class NewClass (BaseClass):\n",
    "```\n"
   ]
  },
  {
   "cell_type": "code",
   "execution_count": 210,
   "metadata": {},
   "outputs": [],
   "source": [
    "class VipCustomer (Customer):\n",
    "    \n",
    "    customerStatus = \"VIP\""
   ]
  },
  {
   "cell_type": "markdown",
   "metadata": {},
   "source": [
    "So create a VIP Customer.  We give it the customerNumber **789** which is passed to the constructor of the Customer object.  Then we hard-code the status as `customerStatus=\"VIP\"`.  We also could have written our own constructor to give the customer other attributes, like a special discount or perks."
   ]
  },
  {
   "cell_type": "code",
   "execution_count": 211,
   "metadata": {},
   "outputs": [],
   "source": [
    "vipCustomer = VipCustomer(\"789\")"
   ]
  },
  {
   "cell_type": "markdown",
   "metadata": {},
   "source": [
    "Now notice that the vipCustomer has both a customerStatus and customerNumber."
   ]
  },
  {
   "cell_type": "code",
   "execution_count": 212,
   "metadata": {},
   "outputs": [
    {
     "name": "stdout",
     "output_type": "stream",
     "text": [
      "VIP\n",
      "789\n"
     ]
    }
   ],
   "source": [
    "print(vipCustomer.customerStatus)\n",
    "print(vipCustomer.customerNumber)"
   ]
  },
  {
   "cell_type": "code",
   "execution_count": null,
   "metadata": {},
   "outputs": [],
   "source": []
  }
 ],
 "metadata": {
  "kernelspec": {
   "display_name": "Python 3",
   "language": "python",
   "name": "python3"
  },
  "language_info": {
   "codemirror_mode": {
    "name": "ipython",
    "version": 3
   },
   "file_extension": ".py",
   "mimetype": "text/x-python",
   "name": "python",
   "nbconvert_exporter": "python",
   "pygments_lexer": "ipython3",
   "version": "3.7.9"
  }
 },
 "nbformat": 4,
 "nbformat_minor": 4
}
