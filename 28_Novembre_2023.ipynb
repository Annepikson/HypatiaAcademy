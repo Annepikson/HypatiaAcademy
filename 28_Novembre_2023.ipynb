{
  "nbformat": 4,
  "nbformat_minor": 0,
  "metadata": {
    "colab": {
      "provenance": [],
      "authorship_tag": "ABX9TyMyOAXdN8jv95WVFkN797ux",
      "include_colab_link": true
    },
    "kernelspec": {
      "name": "python3",
      "display_name": "Python 3"
    },
    "language_info": {
      "name": "python"
    }
  },
  "cells": [
    {
      "cell_type": "markdown",
      "metadata": {
        "id": "view-in-github",
        "colab_type": "text"
      },
      "source": [
        "<a href=\"https://colab.research.google.com/github/Annepikson/HypatiaAcademy/blob/master/28_Novembre_2023.ipynb\" target=\"_parent\"><img src=\"https://colab.research.google.com/assets/colab-badge.svg\" alt=\"Open In Colab\"/></a>"
      ]
    },
    {
      "cell_type": "code",
      "execution_count": 7,
      "metadata": {
        "id": "KLtwCecQJgqf"
      },
      "outputs": [],
      "source": [
        "class cellphone():\n",
        "\n",
        "  def __init__(self,brend,color,memory):\n",
        "    self.brend = brend\n",
        "    self.color = color\n",
        "    self.memory = memory\n",
        "\n",
        "  def isEqual(self,cellphone):\n",
        "    return self.brend ==  cellphone.brend and  self.color == cellphone.color and self.memory == cellphone.memory\n",
        "\n",
        "  def toString(self):\n",
        "    return \"the cellphone's brend is %s, color %s  and memory %s\" % (self.brend, self.color,self.memory)\n",
        "\n",
        "\n"
      ]
    },
    {
      "cell_type": "code",
      "source": [
        "phone = cellphone(\"iphone\",\"grey\",\"128GB\")\n",
        "print(phone.toString())"
      ],
      "metadata": {
        "colab": {
          "base_uri": "https://localhost:8080/"
        },
        "id": "bFZOk6l9Nmhe",
        "outputId": "27b46811-d862-4e98-b641-cc71946cba1e"
      },
      "execution_count": 8,
      "outputs": [
        {
          "output_type": "stream",
          "name": "stdout",
          "text": [
            "the cellphone's brend is iphone, color grey  and memory 128GB\n"
          ]
        }
      ]
    }
  ]
}