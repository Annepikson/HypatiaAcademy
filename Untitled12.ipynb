{
  "nbformat": 4,
  "nbformat_minor": 0,
  "metadata": {
    "colab": {
      "provenance": [],
      "authorship_tag": "ABX9TyM5Wxzs1U4qjKgRaYCIj9rT",
      "include_colab_link": true
    },
    "kernelspec": {
      "name": "python3",
      "display_name": "Python 3"
    },
    "language_info": {
      "name": "python"
    }
  },
  "cells": [
    {
      "cell_type": "markdown",
      "metadata": {
        "id": "view-in-github",
        "colab_type": "text"
      },
      "source": [
        "<a href=\"https://colab.research.google.com/github/Annepikson/HypatiaAcademy/blob/master/Untitled12.ipynb\" target=\"_parent\"><img src=\"https://colab.research.google.com/assets/colab-badge.svg\" alt=\"Open In Colab\"/></a>"
      ]
    },
    {
      "cell_type": "code",
      "source": [],
      "metadata": {
        "id": "W86pZo4FiGU4"
      },
      "execution_count": null,
      "outputs": []
    },
    {
      "cell_type": "markdown",
      "source": [],
      "metadata": {
        "id": "OdH4L2vviD5c"
      }
    },
    {
      "cell_type": "markdown",
      "source": [
        "Precision is a statistical metric that evaluates the accuracy of a classification model, particularly in tasks where the goal is to correctly identify positive instances from all predicted positive instances. It measures the proportion of true positive predictions (correctly identified positives) relative to all positive predictions made by the model, including both true positives and false positives.\n",
        "\n",
        "Precision is a way to measure how many of the predicted positive instances are actually correct.In summary, precision focuses on the accuracy of positive predictions made by a model, helping us understand how trustworthy those predictions are in practical applications.\n",
        "\n"
      ],
      "metadata": {
        "id": "p3-vxIPHiG8c"
      }
    }
  ]
}