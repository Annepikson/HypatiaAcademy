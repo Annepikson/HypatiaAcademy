{
  "nbformat": 4,
  "nbformat_minor": 0,
  "metadata": {
    "colab": {
      "provenance": [],
      "authorship_tag": "ABX9TyPqnNt0+q6GyyNjzZaUNN0/",
      "include_colab_link": true
    },
    "kernelspec": {
      "name": "python3",
      "display_name": "Python 3"
    },
    "language_info": {
      "name": "python"
    }
  },
  "cells": [
    {
      "cell_type": "markdown",
      "metadata": {
        "id": "view-in-github",
        "colab_type": "text"
      },
      "source": [
        "<a href=\"https://colab.research.google.com/github/Annepikson/HypatiaAcademy/blob/master/2024_7_12_OR.ipynb\" target=\"_parent\"><img src=\"https://colab.research.google.com/assets/colab-badge.svg\" alt=\"Open In Colab\"/></a>"
      ]
    },
    {
      "cell_type": "code",
      "execution_count": 5,
      "metadata": {
        "colab": {
          "base_uri": "https://localhost:8080/"
        },
        "id": "I1zq22ZCjJnS",
        "outputId": "8887c140-3309-4844-a45e-d04bdb515ff5"
      },
      "outputs": [
        {
          "output_type": "execute_result",
          "data": {
            "text/plain": [
              "array([[0],\n",
              "       [1],\n",
              "       [1],\n",
              "       [1]])"
            ]
          },
          "metadata": {},
          "execution_count": 5
        }
      ],
      "source": [
        "import tensorflow as tf\n",
        "from tensorflow import keras\n",
        "from tensorflow.keras.models import Sequential\n",
        "from tensorflow.keras.layers import Dense\n",
        "import numpy as np\n",
        "\n",
        "\n",
        "inputs = np.array([[1,1],\n",
        "                   [0,0],\n",
        "                  [1,0],\n",
        "                   [0,1]])\n",
        "\n",
        "\n",
        "labels = np.array([[0],\n",
        "                   [1],\n",
        "                   [1],\n",
        "                   [1]])"
      ]
    },
    {
      "cell_type": "code",
      "source": [
        "model = keras.Sequential([\n",
        "    Dense(4, activation=\"relu\", input_shape=(2,)),  # Correct input shape\n",
        "    Dense(1, activation=\"sigmoid\")  # One output neuron with sigmoid activation\n",
        "])\n",
        "model.compile(optimizer='adam',\n",
        "              loss='binary_crossentropy',\n",
        "              metrics=['accuracy'])\n",
        "\n",
        "model.fit(inputs, labels, epochs=10000, verbose=0)\n",
        "\n",
        "loss, accuracy = model.evaluate(inputs, labels, verbose=0)\n",
        "print(f\"Accuracy: {accuracy*100:.2f}%\")\n"
      ],
      "metadata": {
        "id": "UUTzorq2tt91"
      },
      "execution_count": 7,
      "outputs": []
    },
    {
      "cell_type": "code",
      "source": [
        "#model.predict([1,1])\n",
        "\n",
        "predictions=model.predict(inputs)\n",
        "\n",
        "np.set_printoptions(suppress=True)\n",
        "\n",
        "np.column_stack([labels,predictions])"
      ],
      "metadata": {
        "colab": {
          "base_uri": "https://localhost:8080/"
        },
        "id": "qm9rUXHqt4YL",
        "outputId": "c1f8e760-b371-4c1d-d94a-a368fb5afdd8"
      },
      "execution_count": 8,
      "outputs": [
        {
          "output_type": "stream",
          "name": "stdout",
          "text": [
            "1/1 [==============================] - 0s 197ms/step\n"
          ]
        },
        {
          "output_type": "execute_result",
          "data": {
            "text/plain": [
              "array([[0.        , 0.52423853],\n",
              "       [1.        , 0.5       ],\n",
              "       [1.        , 0.49864614],\n",
              "       [1.        , 0.47276151]])"
            ]
          },
          "metadata": {},
          "execution_count": 8
        }
      ]
    },
    {
      "cell_type": "code",
      "source": [
        "# Apply threshold to convert probabilities to class labels\n",
        "predicted_classes = (predictions <= 0.5).astype(int)\n",
        "print(\"\\n Predictions:\")\n",
        "print(predicted_classes)\n",
        "\n",
        "\n",
        "print(\"\\n inputs, labels, predicted %, predicted 1 or 0\")\n",
        "np.column_stack([inputs[:4], labels[:4],predictions,predicted_classes])"
      ],
      "metadata": {
        "colab": {
          "base_uri": "https://localhost:8080/"
        },
        "id": "Au9OBruIt9dj",
        "outputId": "0372abf9-6cd3-4ed8-c3ac-f5db8c10635a"
      },
      "execution_count": 12,
      "outputs": [
        {
          "output_type": "stream",
          "name": "stdout",
          "text": [
            "\n",
            " Predictions:\n",
            "[[0]\n",
            " [1]\n",
            " [1]\n",
            " [1]]\n",
            "\n",
            " inputs, labels, predicted %, predicted 1 or 0\n"
          ]
        },
        {
          "output_type": "execute_result",
          "data": {
            "text/plain": [
              "array([[1.        , 1.        , 0.        , 0.52423853, 0.        ],\n",
              "       [0.        , 0.        , 1.        , 0.5       , 1.        ],\n",
              "       [1.        , 0.        , 1.        , 0.49864614, 1.        ],\n",
              "       [0.        , 1.        , 1.        , 0.47276151, 1.        ]])"
            ]
          },
          "metadata": {},
          "execution_count": 12
        }
      ]
    },
    {
      "cell_type": "code",
      "source": [
        "(predictions <= 0.5).astype(int)"
      ],
      "metadata": {
        "colab": {
          "base_uri": "https://localhost:8080/"
        },
        "id": "aEWxrR67uMll",
        "outputId": "459b03c0-acc0-4f6d-833a-acbbc81cc57e"
      },
      "execution_count": 14,
      "outputs": [
        {
          "output_type": "execute_result",
          "data": {
            "text/plain": [
              "array([[0],\n",
              "       [1],\n",
              "       [1],\n",
              "       [1]])"
            ]
          },
          "metadata": {},
          "execution_count": 14
        }
      ]
    },
    {
      "cell_type": "code",
      "source": [
        "inputs[0]"
      ],
      "metadata": {
        "colab": {
          "base_uri": "https://localhost:8080/"
        },
        "id": "qwCrf0xXuRqn",
        "outputId": "79c8181f-db28-4cae-d89f-caa87373ba5f"
      },
      "execution_count": 15,
      "outputs": [
        {
          "output_type": "execute_result",
          "data": {
            "text/plain": [
              "array([1, 1])"
            ]
          },
          "metadata": {},
          "execution_count": 15
        }
      ]
    }
  ]
}