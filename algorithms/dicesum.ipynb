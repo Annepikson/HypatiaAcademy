{
 "cells": [
  {
   "cell_type": "code",
   "execution_count": 228,
   "metadata": {},
   "outputs": [
    {
     "name": "stdout",
     "output_type": "stream",
     "text": [
      "1 6\n",
      "2 5\n",
      "3 4\n",
      "4 3\n",
      "5 2\n",
      "6 1\n"
     ]
    }
   ],
   "source": [
    "def roll(face):\n",
    "    for i in range(1,face+1):\n",
    "        return i\n",
    "\n",
    "dice=3\n",
    "faces=6\n",
    "targetSum=7\n",
    "\n",
    "rolls=[1,2,3,4,5,6]\n",
    "\n",
    "for i in range(len(rolls)):\n",
    "    for j in range(len(rolls)):\n",
    "        if rolls[i]+rolls[j]==targetSum: \n",
    "            print(rolls[i],rolls[j])"
   ]
  },
  {
   "cell_type": "code",
   "execution_count": null,
   "metadata": {},
   "outputs": [],
   "source": [
    "\n"
   ]
  },
  {
   "cell_type": "code",
   "execution_count": 229,
   "metadata": {},
   "outputs": [
    {
     "name": "stdout",
     "output_type": "stream",
     "text": [
      "sum= 7 (1, 6) i 0 j 5\n",
      "sum= 7 (2, 5) i 1 j 4\n",
      "sum= 7 (3, 4) i 2 j 3\n",
      "sum= 7 (4, 3) i 3 j 2\n",
      "sum= 7 (5, 2) i 4 j 1\n",
      "sum= 7 (6, 1) i 5 j 0\n"
     ]
    }
   ],
   "source": [
    "dice=2\n",
    "faces=6\n",
    "cartesian=faces**dice\n",
    "targetSum=7\n",
    "\n",
    "roll=[1,2,3,4,5,6]\n",
    "\n",
    "t=[\n",
    "[1,2,3,4,5,6],\n",
    "[1,2,3,4,5,6],\n",
    "[1,2,3,4,5,6]]\n",
    "\n",
    "sum=0\n",
    "i=0\n",
    "j=0\n",
    "for x in range(1,cartesian+1):\n",
    "    sum=roll[i]+roll[j]\n",
    "    if(sum==targetSum):\n",
    "        print(\"sum=\",sum,(roll[i],roll[j]),\"i\",i,\"j\",j)\n",
    "    if(j%5==0 and j > 1):\n",
    "        sum=0\n",
    "        j=0\n",
    "        i=i+1\n",
    "    else:\n",
    "        j=j+1\n",
    "       "
   ]
  },
  {
   "cell_type": "code",
   "execution_count": null,
   "metadata": {},
   "outputs": [],
   "source": []
  },
  {
   "cell_type": "code",
   "execution_count": null,
   "metadata": {},
   "outputs": [],
   "source": []
  },
  {
   "cell_type": "code",
   "execution_count": null,
   "metadata": {},
   "outputs": [],
   "source": [
    " "
   ]
  }
 ],
 "metadata": {
  "kernelspec": {
   "display_name": "Python 3",
   "language": "python",
   "name": "python3"
  },
  "language_info": {
   "codemirror_mode": {
    "name": "ipython",
    "version": 3
   },
   "file_extension": ".py",
   "mimetype": "text/x-python",
   "name": "python",
   "nbconvert_exporter": "python",
   "pygments_lexer": "ipython3",
   "version": "3.4.4"
  }
 },
 "nbformat": 4,
 "nbformat_minor": 2
}
