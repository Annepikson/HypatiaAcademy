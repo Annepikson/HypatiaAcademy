{
 "cells": [
  {
   "cell_type": "code",
   "execution_count": 8,
   "id": "4dce59d7",
   "metadata": {},
   "outputs": [
    {
     "name": "stdout",
     "output_type": "stream",
     "text": [
      " ,!,\",#,$,%,&,',(,),*,+,,,-,.,/,0,1,2,3,4,5,6,7,8,9,:,;,<,=,>,?,@,A,B,C,D,E,F,G,H,I,J,K,L,M,N,O,P,Q,R,S,T,U,V,W,X,Y,Z,[,\\,],^,_,`,a,b,c,d,e,f,g,h,i,j,k,l,m,n,o,p,q,r,s,t,u,v,w,x,y,z,{,|,},"
     ]
    }
   ],
   "source": [
    "for i in range(32,126,1):\n",
    "    print(chr(i),end=\",\")"
   ]
  },
  {
   "cell_type": "markdown",
   "id": "6cdf3c66",
   "metadata": {},
   "source": [
    "c3 80 = À  is hex UTF-8\n",
    "U+00C0\t is Unicode\n",
    "\n",
    "\n",
    "bit\n",
    "byte\n",
    "hex\n",
    "\n",
    "\n",
    "\n"
   ]
  },
  {
   "cell_type": "code",
   "execution_count": 16,
   "id": "c72228eb",
   "metadata": {},
   "outputs": [
    {
     "data": {
      "text/plain": [
       "'쎀'"
      ]
     },
     "execution_count": 16,
     "metadata": {},
     "output_type": "execute_result"
    }
   ],
   "source": [
    "chr(int('0xc380', base=16))"
   ]
  },
  {
   "cell_type": "code",
   "execution_count": 15,
   "id": "9cd38bff",
   "metadata": {},
   "outputs": [
    {
     "data": {
      "text/plain": [
       "b'0xc380'"
      ]
     },
     "execution_count": 15,
     "metadata": {},
     "output_type": "execute_result"
    }
   ],
   "source": [
    "# byte is b'xxxxxx'\n",
    "\n",
    "'0xc380'.encode('utf-8')"
   ]
  },
  {
   "cell_type": "code",
   "execution_count": 17,
   "id": "882b4dcc",
   "metadata": {},
   "outputs": [
    {
     "name": "stdout",
     "output_type": "stream",
     "text": [
      "À\n"
     ]
    }
   ],
   "source": [
    "print(\"\\u00C0\")\n",
    "\n",
    " "
   ]
  },
  {
   "cell_type": "markdown",
   "id": "9a6fc0ec",
   "metadata": {},
   "source": [
    "nous devons comprendre comment imprimer les caractères utf-8. les fichiers de données utilisent utf-8. unicode n'est pas aussi commun.\n",
    "\n",
    "mais pour comprendre cela, nous devons d'abord comprendre ce que sont les nombres hexadécimaux et binaires"
   ]
  },
  {
   "cell_type": "markdown",
   "id": "045531af",
   "metadata": {},
   "source": [
    "nous utilison le system decimal. c'est a dire que:\n",
    "\n",
    "4321 \n",
    "\n",
    "\n",
    "(4*1000) + (3*100) + (2*10) + (1*1)\n",
    "\n",
    "(4*10^3) + (3*10^2) + (2*10^1) + (1*10^0)\n",
    "\n",
    "dans le system decimal nous avons\n",
    "0, 1, 3, 4, 5, 6, 7, 8, 9\n",
    "\n",
    "dans le system binary nouse avons\n",
    "0, 1\n",
    "\n",
    "\n",
    "3=2+1\n",
    "\n",
    "binary:\n",
    "\n",
    "11\n",
    "\n",
    "\n",
    "3=(1*2^1) + (1*2^0)\n",
    "\n",
    "16=2^4\n",
    "\n",
    "binary:\n",
    "\n",
    "10000\n",
    "\n",
    "=(1*2^4) + (0*2^3) + (0*2^2) + (0*2^1) + (0*2^0)\n",
    "\n",
    "= (1*2^4) + 0 + 0 + 0 + 0\n",
    "\n",
    "hex utilize 16 chifre\n",
    "\n",
    "0, 1, 2, 3, 4, 5, 6, 7, 8, 9, A, B, C, D, E, F\n",
    "\n",
    "10<----deux letres.  c'est decimal. dans le ordinaire nouse avons espace pour suelement un letre\n",
    "\n",
    "\n",
    "decimal = hex\n",
    "0=0\n",
    "1=1\n",
    "2=2\n",
    "...\n",
    "9=9\n",
    "A=10\n",
    "B=11\n",
    "C=12\n",
    "D=13\n",
    "E=14\n",
    "F=15\n",
    "\n",
    " \n",
    "\n",
    "\n"
   ]
  },
  {
   "cell_type": "markdown",
   "id": "0d9b670e",
   "metadata": {},
   "source": [
    "devoir:\n",
    "    \n",
    "ecrire cette nombres dans binary:\n",
    "    \n",
    "0\n",
    "3\n",
    "7\n",
    "243\n",
    "    \n",
    "    \n",
    "    \n",
    "ecrire cettre nombres dans le hex:\n",
    "    \n",
    "0\n",
    "3\n",
    "7\n",
    "14\n",
    "17\n",
    "22\n",
    "\n",
    "243\n",
    "\n",
    "    "
   ]
  },
  {
   "cell_type": "markdown",
   "id": "f2bb485e",
   "metadata": {},
   "source": []
  }
 ],
 "metadata": {
  "kernelspec": {
   "display_name": "Python 3 (ipykernel)",
   "language": "python",
   "name": "python3"
  },
  "language_info": {
   "codemirror_mode": {
    "name": "ipython",
    "version": 3
   },
   "file_extension": ".py",
   "mimetype": "text/x-python",
   "name": "python",
   "nbconvert_exporter": "python",
   "pygments_lexer": "ipython3",
   "version": "3.8.9"
  }
 },
 "nbformat": 4,
 "nbformat_minor": 5
}
