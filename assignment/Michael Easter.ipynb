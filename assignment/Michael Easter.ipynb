{
 "cells": [
  {
   "cell_type": "code",
   "execution_count": 1,
   "metadata": {},
   "outputs": [
    {
     "name": "stdout",
     "output_type": "stream",
     "text": [
      "\n",
      "Gregorian Calendar Easter Is On: \n",
      "\n",
      "(2020, 4, 12)\n",
      "(2021, 4, 4)\n",
      "(2022, 4, 17)\n",
      "(2023, 4, 9)\n",
      "(2024, 3, 31)\n",
      "(2025, 4, 20)\n",
      "(2026, 4, 5)\n",
      "(2027, 3, 28)\n",
      "(2028, 4, 16)\n",
      "(2029, 4, 1)\n",
      "(2030, 4, 21)\n",
      "\n",
      "The Julian Calendar Easter Is On:\n",
      "19/4/2020\n",
      "2/5/2021\n",
      "24/4/2022\n",
      "16/4/2023\n",
      "5/5/2024\n",
      "20/4/2025\n",
      "12/4/2026\n",
      "2/5/2027\n",
      "16/4/2028\n",
      "8/4/2029\n",
      "28/4/2030\n"
     ]
    }
   ],
   "source": [
    "import math\n",
    "from datetime import date\n",
    "def easter(year):\n",
    "    Y = year\n",
    "    a = Y % 19\n",
    "    b = math.floor(Y / 100)\n",
    "    c = Y % 100\n",
    "    d = math.floor(b / 4)\n",
    "    e = b % 4\n",
    "    f = math.floor((b + 8) / 25)\n",
    "    g = math.floor((b - f + 1) / 3)\n",
    "    h = (19 * a + b - d - g + 15) % 30\n",
    "    i = math.floor(c / 4)\n",
    "    k = c % 4\n",
    "    L = (32 + 2 * e + 2 * i - h - k) % 7\n",
    "    m = math.floor((a + 11 * h + 22 * L) / 451)\n",
    "    month = math.floor((h + L - 7 * m + 114) / 31)\n",
    "    day = ((h + L - 7 * m + 114) % 31) + 1\n",
    "    return year, month, day\n",
    "print()\n",
    "s=date.today().year\n",
    "a=s+11\n",
    "print(\"Gregorian Calendar Easter Is On: \\n\")\n",
    "while s!=a:\n",
    "    print (easter(s))\n",
    "    s=s+1\n",
    "print()\n",
    "print(\"The Julian Calendar Easter Is On:\")\n",
    "def easter2(year):\n",
    "    c=(year%19*19+15)%30\n",
    "    d=c+(year%4*2+year%7*4-c+34)%7+128\n",
    "    return(\"%d/%d/%d\"%(d%31+d/155,d/31,year))\n",
    "f=date.today().year\n",
    "g=f+11\n",
    "while f!=g:\n",
    "    print (easter2(f))\n",
    "    f+=1"
   ]
  },
  {
   "cell_type": "code",
   "execution_count": null,
   "metadata": {},
   "outputs": [],
   "source": []
  }
 ],
 "metadata": {
  "kernelspec": {
   "display_name": "Python 3",
   "language": "python",
   "name": "python3"
  },
  "language_info": {
   "codemirror_mode": {
    "name": "ipython",
    "version": 3
   },
   "file_extension": ".py",
   "mimetype": "text/x-python",
   "name": "python",
   "nbconvert_exporter": "python",
   "pygments_lexer": "ipython3",
   "version": "3.4.4"
  }
 },
 "nbformat": 4,
 "nbformat_minor": 2
}
