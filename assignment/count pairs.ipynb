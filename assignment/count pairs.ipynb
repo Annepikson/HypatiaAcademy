{
 "cells": [
  {
   "cell_type": "markdown",
   "metadata": {},
   "source": [
    "Given a string s, for example, \"sastddefe\", count the number of sub strings of length 3 that have unique elements.\n",
    "\n",
    "For example, in the string \"sasaddefe\" we start at the begining. \"sas\" is not unique because the \"s\" appears in the string \"sas twice.\n",
    "\n",
    "Moving to the next triple of character \"ast\" this in unique because \"a\" is not = to \"s\" and \"a\" is not equal to \"t\" and \"s\" is not equal to \"t."
   ]
  },
  {
   "cell_type": "code",
   "execution_count": 42,
   "metadata": {},
   "outputs": [
    {
     "name": "stdout",
     "output_type": "stream",
     "text": [
      "s\n",
      "a\n",
      "s\n",
      "t\n",
      "d\n",
      "d\n",
      "e\n",
      "f\n",
      "e\n"
     ]
    }
   ],
   "source": [
    "s = \"sastddefe\"\n",
    "\n",
    "for letter in range(len(s)):\n",
    "    print(s[letter])"
   ]
  },
  {
   "cell_type": "code",
   "execution_count": 43,
   "metadata": {},
   "outputs": [
    {
     "name": "stdout",
     "output_type": "stream",
     "text": [
      "s a s\n",
      "a s t\n"
     ]
    }
   ],
   "source": [
    "print(s[0], s[1], s[2])\n",
    "print(s[1], s[2], s[3])\n",
    " \n"
   ]
  },
  {
   "cell_type": "code",
   "execution_count": 51,
   "metadata": {},
   "outputs": [
    {
     "name": "stdout",
     "output_type": "stream",
     "text": [
      "2\n",
      "letters not unique\n"
     ]
    }
   ],
   "source": [
    "u={s[0], s[1], s[2]}\n",
    "print(len(u))\n",
    "if len(u)<3:\n",
    "    print(\"letters not unique\")"
   ]
  },
  {
   "cell_type": "code",
   "execution_count": 49,
   "metadata": {},
   "outputs": [
    {
     "name": "stdout",
     "output_type": "stream",
     "text": [
      "3\n"
     ]
    }
   ],
   "source": [
    "t = {s[1], s[2], s[3]}\n",
    "print(len(t))"
   ]
  },
  {
   "cell_type": "code",
   "execution_count": 45,
   "metadata": {},
   "outputs": [
    {
     "data": {
      "text/plain": [
       "'a'"
      ]
     },
     "execution_count": 45,
     "metadata": {},
     "output_type": "execute_result"
    }
   ],
   "source": [
    "s[1]"
   ]
  },
  {
   "cell_type": "code",
   "execution_count": 46,
   "metadata": {},
   "outputs": [],
   "source": [
    "\n",
    " "
   ]
  },
  {
   "cell_type": "code",
   "execution_count": 47,
   "metadata": {},
   "outputs": [],
   "source": [
    "import urllib.request\n",
    "\n",
    "f = \"https://raw.githubusercontent.com/werowe/HypatiaAcademy/master/assignment/encoded.txt\"\n",
    "\n",
    "l = urllib.request.urlopen(f)"
   ]
  },
  {
   "cell_type": "code",
   "execution_count": null,
   "metadata": {},
   "outputs": [],
   "source": [
    " "
   ]
  },
  {
   "cell_type": "code",
   "execution_count": 48,
   "metadata": {},
   "outputs": [
    {
     "data": {
      "text/plain": [
       "'μῆνιν ἄειδε θεὰ Πηληϊάδεω Ἀχιλῆος'"
      ]
     },
     "execution_count": 48,
     "metadata": {},
     "output_type": "execute_result"
    }
   ],
   "source": [
    "b'\\xff\\xfe\\xbc\\x03\\xc6\\x1f\\xbd\\x03\\xb9\\x03\\xbd\\x03 \\x00\\x04\\x1f\\xb5\\x03\\xb9\\x03\\xb4\\x03\\xb5\\x03 \\x00\\xb8\\x03\\xb5\\x03p\\x1f \\x00\\xa0\\x03\\xb7\\x03\\xbb\\x03\\xb7\\x03\\xca\\x03\\xac\\x03\\xb4\\x03\\xb5\\x03\\xc9\\x03 \\x00\\x08\\x1f\\xc7\\x03\\xb9\\x03\\xbb\\x03\\xc6\\x1f\\xbf\\x03\\xc2\\x03'.decode('UTF-16')"
   ]
  },
  {
   "cell_type": "code",
   "execution_count": null,
   "metadata": {},
   "outputs": [],
   "source": []
  }
 ],
 "metadata": {
  "kernelspec": {
   "display_name": "Python 3",
   "language": "python",
   "name": "python3"
  },
  "language_info": {
   "codemirror_mode": {
    "name": "ipython",
    "version": 3
   },
   "file_extension": ".py",
   "mimetype": "text/x-python",
   "name": "python",
   "nbconvert_exporter": "python",
   "pygments_lexer": "ipython3",
   "version": "3.4.4"
  }
 },
 "nbformat": 4,
 "nbformat_minor": 2
}
