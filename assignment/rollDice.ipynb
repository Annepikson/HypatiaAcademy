{
 "cells": [
  {
   "cell_type": "markdown",
   "metadata": {},
   "source": [
    "# Craps\n",
    "\n",
    "Here’s the rules for the dice game. Each student will write code for the dice game. Don’t show your code to other students. Instead in class ask questions about specific items you are stuck on. Then whenever all students have finished we will compare they code. You should be able to finish in 7 days.\n",
    " \n",
    "* Each player rolls\n",
    "* Pick a random player to start first\n",
    "* First player rolls two dice\n",
    "* If the player rolls a 7 or 11 they win\n",
    "* If they roll a 3,2, or 12 they lose\n",
    "* If they roll any other number then that Number is the new target T.\n",
    "* In other words  7 or 11 is no longer a winning roll.  T is.\n",
    "* Next player rolls\n",
    "* Repeat until there is a winner or all people lose except last person"
   ]
  },
  {
   "cell_type": "code",
   "execution_count": 77,
   "metadata": {},
   "outputs": [],
   "source": [
    "from random import randint\n",
    "T=0\n",
    "\n",
    "players = [{\"name\": \"Michael\", \"crappedOut\":False},\n",
    "{\"name\": \"Walker\", \"crappedOut\":False},\n",
    "{\"name\": \"Mumteha\",\"crappedOut\":False} ,\n",
    "{\"name\": \"Akay\",\"crappedOut\":False },\n",
    " {\"name\": \"George\",\"crappedOut\":False }]      \n",
    "\n",
    "craps=[7,11]\n",
    "crappedOut=[3,2,12]\n",
    "    "
   ]
  },
  {
   "cell_type": "code",
   "execution_count": 78,
   "metadata": {},
   "outputs": [
    {
     "name": "stdout",
     "output_type": "stream",
     "text": [
      "roll was 7  dice one  5  dice two  2\n"
     ]
    }
   ],
   "source": [
    " \n",
    "td=randint(1,7) , randint(1,7)\n",
    "roll=td[0]+td[1]\n",
    "print(\"roll was\" , roll , \" dice one \" , td[0] , \" dice two \" , td[1])"
   ]
  },
  {
   "cell_type": "code",
   "execution_count": 79,
   "metadata": {},
   "outputs": [
    {
     "name": "stdout",
     "output_type": "stream",
     "text": [
      "winner\n"
     ]
    }
   ],
   "source": [
    "if roll in craps:\n",
    "    print(\"winner\")\n",
    "elif roll in crappedOut:\n",
    "    print(\"crapped out\")\n",
    "else:\n",
    "    print(\"keep playing, new winning roll is\", roll)\n",
    "    T=roll"
   ]
  },
  {
   "cell_type": "code",
   "execution_count": 81,
   "metadata": {},
   "outputs": [
    {
     "name": "stdout",
     "output_type": "stream",
     "text": [
      "roll was 9  dice one  6  dice two  3\n"
     ]
    }
   ],
   "source": [
    "td=randint(1,7) , randint(1,7)\n",
    "roll=td[0]+td[1]\n",
    "print(\"roll was\" , roll , \" dice one \" , td[0] , \" dice two \" , td[1])\n",
    "\n",
    "\n",
    "if roll == T:\n",
    "    print(\"winner\")\n",
    "\n",
    "if roll in crappedOut:\n",
    "    print(\"crapped out\")\n"
   ]
  },
  {
   "cell_type": "markdown",
   "metadata": {},
   "source": [
    "\n",
    "    "
   ]
  },
  {
   "cell_type": "code",
   "execution_count": 61,
   "metadata": {},
   "outputs": [
    {
     "data": {
      "text/plain": [
       "[{'crappedOut': False},\n",
       " {'crappedOut': False},\n",
       " {'crappedOut': False},\n",
       " {'crappedOut': False}]"
      ]
     },
     "execution_count": 61,
     "metadata": {},
     "output_type": "execute_result"
    }
   ],
   "source": [
    "players"
   ]
  },
  {
   "cell_type": "markdown",
   "metadata": {},
   "source": [
    "Here is how we update a player to say that they lost"
   ]
  },
  {
   "cell_type": "code",
   "execution_count": 84,
   "metadata": {},
   "outputs": [
    {
     "name": "stdout",
     "output_type": "stream",
     "text": [
      "Michael has crapped out\n"
     ]
    }
   ],
   "source": [
    "players[0]['crappedOut']=True\n",
    "\n",
    "print(players[0]['name'], \"has crapped out\")"
   ]
  },
  {
   "cell_type": "markdown",
   "metadata": {},
   "source": [
    "Let's now print all the players who have not crapped out.  Because in the game when you continue playing skip player who have crapped out."
   ]
  },
  {
   "cell_type": "code",
   "execution_count": 71,
   "metadata": {},
   "outputs": [
    {
     "name": "stdout",
     "output_type": "stream",
     "text": [
      "{'crappedOut': True} player has crapped out\n",
      "{'crappedOut': False} need to roll again\n",
      "{'crappedOut': False} need to roll again\n",
      "{'crappedOut': False} need to roll again\n"
     ]
    }
   ],
   "source": [
    "for p in players:\n",
    "    if (p['crappedOut']==True):\n",
    "        print(p,\"player has crapped out\")\n",
    "    else:\n",
    "        print(p,\"need to roll again\")"
   ]
  },
  {
   "cell_type": "code",
   "execution_count": 72,
   "metadata": {},
   "outputs": [
    {
     "data": {
      "text/plain": [
       "[{'crappedOut': True},\n",
       " {'crappedOut': False},\n",
       " {'crappedOut': False},\n",
       " {'crappedOut': False}]"
      ]
     },
     "execution_count": 72,
     "metadata": {},
     "output_type": "execute_result"
    }
   ],
   "source": [
    "players"
   ]
  },
  {
   "cell_type": "markdown",
   "metadata": {},
   "source": [
    "```python\n",
    "\n",
    "continue=True\n",
    "while(continue==True):\n",
    "    #keep playing\n",
    "    # if player is crapped out skip player others roll again\n",
    "    `for p in players`\n",
    "     `roll=randint(1,7)`\n",
    "     # if roll is a T end game you have winner, meaning set continue=False\n",
    "     # if roll is crappedOut update player to show they are crapped out\n",
    "    \n",
    "```"
   ]
  },
  {
   "cell_type": "code",
   "execution_count": null,
   "metadata": {},
   "outputs": [],
   "source": []
  }
 ],
 "metadata": {
  "kernelspec": {
   "display_name": "Python 3",
   "language": "python",
   "name": "python3"
  },
  "language_info": {
   "codemirror_mode": {
    "name": "ipython",
    "version": 3
   },
   "file_extension": ".py",
   "mimetype": "text/x-python",
   "name": "python",
   "nbconvert_exporter": "python",
   "pygments_lexer": "ipython3",
   "version": "3.4.4"
  }
 },
 "nbformat": 4,
 "nbformat_minor": 2
}
