{
 "cells": [
  {
   "cell_type": "markdown",
   "metadata": {},
   "source": [
    "# Craps\n",
    "\n",
    "Here’s the rules for the dice game. Each student will write code for the dice game. Don’t show your code to other students. Instead in class ask questions about specific items you are stuck on. Then whenever all students have finished we will compare they code. You should be able to finish in 7 days.\n",
    " \n",
    "* Each player rolls\n",
    "* Pick a random player to start first\n",
    "* First player rolls two dice\n",
    "* If the player rolls a 7 or 11 they win\n",
    "* If they roll a 3,2, or 12 they lose\n",
    "* If they roll any other number then that Number is the new target T.\n",
    "* In other words  7 or 11 is no longer a winning roll.  T is.\n",
    "* Next player rolls\n",
    "* Repeat until there is a winner or all people lose except last person"
   ]
  },
  {
   "cell_type": "code",
   "execution_count": 27,
   "metadata": {},
   "outputs": [
    {
     "name": "stdout",
     "output_type": "stream",
     "text": [
      "newRoll= 1  oldRoll= 4\n",
      "newRoll= 1  oldRoll= 4\n"
     ]
    }
   ],
   "source": [
    "from random import randint\n",
    "oldRoll=randint(1,7)\n",
    "newRoll=randint(1,7)\n",
    "print(\"newRoll=\", newRoll, \" oldRoll=\", oldRoll)\n",
    "\n",
    "keepGoing = True\n",
    "while (newRoll - oldRoll != 0):\n",
    "    newRoll=randint(1,7)\n",
    "    print(\"newRoll=\", newRoll, \" oldRoll=\", oldRoll)\n",
    "    if newRoll==oldRoll:\n",
    "        keepGoing=False\n",
    "    else:\n",
    "        oldRoll=newRoll\n",
    "    "
   ]
  },
  {
   "cell_type": "code",
   "execution_count": 28,
   "metadata": {},
   "outputs": [
    {
     "name": "stdout",
     "output_type": "stream",
     "text": [
      "newRoll= 5  oldRoll= 2\n",
      "newRoll= 1  oldRoll= 2\n",
      "newRoll= 3  oldRoll= 1\n",
      "newRoll= 2  oldRoll= 3\n",
      "newRoll= 7  oldRoll= 2\n",
      "newRoll= 5  oldRoll= 7\n",
      "newRoll= 4  oldRoll= 5\n",
      "newRoll= 7  oldRoll= 4\n",
      "newRoll= 6  oldRoll= 7\n",
      "newRoll= 1  oldRoll= 6\n",
      "newRoll= 2  oldRoll= 1\n",
      "newRoll= 7  oldRoll= 2\n",
      "newRoll= 7  oldRoll= 7\n"
     ]
    }
   ],
   "source": [
    "from random import randint\n",
    "oldRoll=randint(1,7)\n",
    "newRoll=randint(1,7)\n",
    "print(\"newRoll=\", newRoll, \" oldRoll=\", oldRoll)\n",
    "\n",
    "keepGoing = True\n",
    "while (keepGoing):\n",
    "    newRoll=randint(1,7)\n",
    "    print(\"newRoll=\", newRoll, \" oldRoll=\", oldRoll)\n",
    "    if newRoll==oldRoll:\n",
    "        keepGoing=False\n",
    "    else:\n",
    "        oldRoll=newRoll"
   ]
  },
  {
   "cell_type": "code",
   "execution_count": null,
   "metadata": {},
   "outputs": [],
   "source": []
  },
  {
   "cell_type": "code",
   "execution_count": null,
   "metadata": {},
   "outputs": [],
   "source": []
  },
  {
   "cell_type": "code",
   "execution_count": null,
   "metadata": {},
   "outputs": [],
   "source": []
  },
  {
   "cell_type": "code",
   "execution_count": null,
   "metadata": {},
   "outputs": [],
   "source": []
  },
  {
   "cell_type": "code",
   "execution_count": null,
   "metadata": {},
   "outputs": [],
   "source": []
  }
 ],
 "metadata": {
  "kernelspec": {
   "display_name": "Python 3",
   "language": "python",
   "name": "python3"
  },
  "language_info": {
   "codemirror_mode": {
    "name": "ipython",
    "version": 3
   },
   "file_extension": ".py",
   "mimetype": "text/x-python",
   "name": "python",
   "nbconvert_exporter": "python",
   "pygments_lexer": "ipython3",
   "version": "3.4.4"
  }
 },
 "nbformat": 4,
 "nbformat_minor": 2
}
