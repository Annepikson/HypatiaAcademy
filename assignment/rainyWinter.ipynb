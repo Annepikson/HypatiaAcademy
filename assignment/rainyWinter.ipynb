{
 "cells": [
  {
   "cell_type": "code",
   "execution_count": 353,
   "metadata": {},
   "outputs": [],
   "source": [
    "from datetime import date\n",
    "from datetime import datetime,date\n",
    "import time\n",
    "import pandas as pd\n",
    "import numpy as np\n",
    "import statistics as st\n",
    "from dateutil import parser"
   ]
  },
  {
   "cell_type": "code",
   "execution_count": 354,
   "metadata": {},
   "outputs": [],
   "source": [
    "df=pd.read_json('/Users/walkerrowe/Documents/weather/pathosWeather.json')"
   ]
  },
  {
   "cell_type": "code",
   "execution_count": 355,
   "metadata": {},
   "outputs": [
    {
     "data": {
      "text/plain": [
       "datetime.datetime(2000, 1, 1, 0, 0, tzinfo=datetime.timezone(datetime.timedelta(0), 'UTC'))"
      ]
     },
     "execution_count": 355,
     "metadata": {},
     "output_type": "execute_result"
    }
   ],
   "source": [
    "s='2000-01-01 00:00:00 +0000 UTC'\n",
    "datetime.strptime(s, '%Y-%m-%d %H:%M:%S %z %Z')"
   ]
  },
  {
   "cell_type": "code",
   "execution_count": 356,
   "metadata": {},
   "outputs": [],
   "source": [
    "df['temp']=df[\"main\"].map(lambda x: x[\"temp\"])\n",
    "df['temp_min']=df[\"main\"].map(lambda x: x[\"temp_min\"])\n",
    "df['temp_max']=df[\"main\"].map(lambda x: x[\"temp_max\"])"
   ]
  },
  {
   "cell_type": "code",
   "execution_count": 357,
   "metadata": {},
   "outputs": [],
   "source": [
    "def toDate(s):\n",
    "    return datetime.strptime(s, '%Y-%m-%d %H:%M:%S %z %Z')  "
   ]
  },
  {
   "cell_type": "code",
   "execution_count": 358,
   "metadata": {},
   "outputs": [],
   "source": [
    "df['date']=df['dt_iso'].map(lambda x: toDate(x))\n",
    "df['year']=df['date'].map(lambda x: x.year)\n",
    "df['month']=df['date'].map(lambda x: x.month)\n",
    "df['day']=df['date'].map(lambda x: x.day)"
   ]
  },
  {
   "cell_type": "code",
   "execution_count": 359,
   "metadata": {},
   "outputs": [],
   "source": [
    "df['temp_min']=df['temp_min'].map(lambda x: np.round(x,2))\n",
    "df['temp_max']=df['temp_max'].map(lambda x: np.round(x,2))\n"
   ]
  },
  {
   "cell_type": "code",
   "execution_count": 360,
   "metadata": {},
   "outputs": [],
   "source": [
    "def isNull(n):\n",
    "    if n is np.nan:\n",
    "        return 0\n",
    "    else:\n",
    "        return 1"
   ]
  },
  {
   "cell_type": "code",
   "execution_count": 361,
   "metadata": {},
   "outputs": [],
   "source": [
    "df['raining']=df['rain'].map(lambda x : isNull(x))"
   ]
  },
  {
   "cell_type": "code",
   "execution_count": 362,
   "metadata": {},
   "outputs": [],
   "source": [
    "weather=df[['year', 'month', 'day','raining']].loc[(df['month'] == 1) & (df['year'] == 2010)].groupby(['year','month','day']).mean()"
   ]
  },
  {
   "cell_type": "code",
   "execution_count": 363,
   "metadata": {},
   "outputs": [
    {
     "name": "stdout",
     "output_type": "stream",
     "text": [
      "                 raining\n",
      "year month day          \n",
      "2010 1     1    0.000000\n",
      "           2    0.000000\n",
      "           3    0.000000\n",
      "           4    0.000000\n",
      "           5    0.000000\n",
      "           6    0.000000\n",
      "           7    0.000000\n",
      "           8    0.000000\n",
      "           9    0.000000\n",
      "           10   0.000000\n",
      "           11   0.000000\n",
      "           12   0.000000\n",
      "           13   0.166667\n",
      "           14   0.166667\n",
      "           15   0.000000\n",
      "           16   0.000000\n",
      "           17   0.000000\n",
      "           18   0.708333\n",
      "           19   0.041667\n",
      "           20   0.291667\n",
      "           21   0.083333\n",
      "           22   0.041667\n",
      "           23   0.166667\n",
      "           24   0.250000\n",
      "           25   0.041667\n",
      "           26   0.000000\n",
      "           27   0.000000\n",
      "           28   0.083333\n",
      "           29   0.166667\n",
      "           30   0.000000\n",
      "           31   0.000000\n"
     ]
    }
   ],
   "source": [
    "with pd.option_context('display.max_rows', None, 'display.max_columns', None): \n",
    "    print(weather)"
   ]
  },
  {
   "cell_type": "code",
   "execution_count": 312,
   "metadata": {},
   "outputs": [
    {
     "data": {
      "text/html": [
       "<div>\n",
       "<style scoped>\n",
       "    .dataframe tbody tr th:only-of-type {\n",
       "        vertical-align: middle;\n",
       "    }\n",
       "\n",
       "    .dataframe tbody tr th {\n",
       "        vertical-align: top;\n",
       "    }\n",
       "\n",
       "    .dataframe thead th {\n",
       "        text-align: right;\n",
       "    }\n",
       "</style>\n",
       "<table border=\"1\" class=\"dataframe\">\n",
       "  <thead>\n",
       "    <tr style=\"text-align: right;\">\n",
       "      <th></th>\n",
       "      <th>year</th>\n",
       "      <th>month</th>\n",
       "      <th>day</th>\n",
       "      <th>clouds</th>\n",
       "    </tr>\n",
       "  </thead>\n",
       "  <tbody>\n",
       "    <tr>\n",
       "      <th>91296</th>\n",
       "      <td>2010</td>\n",
       "      <td>6</td>\n",
       "      <td>2010</td>\n",
       "      <td>Clouds</td>\n",
       "    </tr>\n",
       "    <tr>\n",
       "      <th>91297</th>\n",
       "      <td>2010</td>\n",
       "      <td>6</td>\n",
       "      <td>2010</td>\n",
       "      <td>Clear</td>\n",
       "    </tr>\n",
       "    <tr>\n",
       "      <th>91298</th>\n",
       "      <td>2010</td>\n",
       "      <td>6</td>\n",
       "      <td>2010</td>\n",
       "      <td>Clear</td>\n",
       "    </tr>\n",
       "    <tr>\n",
       "      <th>91299</th>\n",
       "      <td>2010</td>\n",
       "      <td>6</td>\n",
       "      <td>2010</td>\n",
       "      <td>Clouds</td>\n",
       "    </tr>\n",
       "    <tr>\n",
       "      <th>91300</th>\n",
       "      <td>2010</td>\n",
       "      <td>6</td>\n",
       "      <td>2010</td>\n",
       "      <td>Clouds</td>\n",
       "    </tr>\n",
       "    <tr>\n",
       "      <th>...</th>\n",
       "      <td>...</td>\n",
       "      <td>...</td>\n",
       "      <td>...</td>\n",
       "      <td>...</td>\n",
       "    </tr>\n",
       "    <tr>\n",
       "      <th>92011</th>\n",
       "      <td>2010</td>\n",
       "      <td>6</td>\n",
       "      <td>2010</td>\n",
       "      <td>Clouds</td>\n",
       "    </tr>\n",
       "    <tr>\n",
       "      <th>92012</th>\n",
       "      <td>2010</td>\n",
       "      <td>6</td>\n",
       "      <td>2010</td>\n",
       "      <td>Clouds</td>\n",
       "    </tr>\n",
       "    <tr>\n",
       "      <th>92013</th>\n",
       "      <td>2010</td>\n",
       "      <td>6</td>\n",
       "      <td>2010</td>\n",
       "      <td>Clouds</td>\n",
       "    </tr>\n",
       "    <tr>\n",
       "      <th>92014</th>\n",
       "      <td>2010</td>\n",
       "      <td>6</td>\n",
       "      <td>2010</td>\n",
       "      <td>Clouds</td>\n",
       "    </tr>\n",
       "    <tr>\n",
       "      <th>92015</th>\n",
       "      <td>2010</td>\n",
       "      <td>6</td>\n",
       "      <td>2010</td>\n",
       "      <td>Clouds</td>\n",
       "    </tr>\n",
       "  </tbody>\n",
       "</table>\n",
       "<p>720 rows × 4 columns</p>\n",
       "</div>"
      ],
      "text/plain": [
       "       year  month   day  clouds\n",
       "91296  2010      6  2010  Clouds\n",
       "91297  2010      6  2010   Clear\n",
       "91298  2010      6  2010   Clear\n",
       "91299  2010      6  2010  Clouds\n",
       "91300  2010      6  2010  Clouds\n",
       "...     ...    ...   ...     ...\n",
       "92011  2010      6  2010  Clouds\n",
       "92012  2010      6  2010  Clouds\n",
       "92013  2010      6  2010  Clouds\n",
       "92014  2010      6  2010  Clouds\n",
       "92015  2010      6  2010  Clouds\n",
       "\n",
       "[720 rows x 4 columns]"
      ]
     },
     "execution_count": 312,
     "metadata": {},
     "output_type": "execute_result"
    }
   ],
   "source": [
    "df[['year', 'month', 'day','clouds']].loc[(df['month'] == 6) & (df['year'] == 2010)]"
   ]
  },
  {
   "cell_type": "code",
   "execution_count": 364,
   "metadata": {},
   "outputs": [
    {
     "data": {
      "text/html": [
       "<div>\n",
       "<style scoped>\n",
       "    .dataframe tbody tr th:only-of-type {\n",
       "        vertical-align: middle;\n",
       "    }\n",
       "\n",
       "    .dataframe tbody tr th {\n",
       "        vertical-align: top;\n",
       "    }\n",
       "\n",
       "    .dataframe thead th {\n",
       "        text-align: right;\n",
       "    }\n",
       "</style>\n",
       "<table border=\"1\" class=\"dataframe\">\n",
       "  <thead>\n",
       "    <tr style=\"text-align: right;\">\n",
       "      <th></th>\n",
       "      <th>year</th>\n",
       "      <th>month</th>\n",
       "      <th>day</th>\n",
       "      <th>raining</th>\n",
       "    </tr>\n",
       "  </thead>\n",
       "  <tbody>\n",
       "    <tr>\n",
       "      <th>87672</th>\n",
       "      <td>2010</td>\n",
       "      <td>1</td>\n",
       "      <td>1</td>\n",
       "      <td>0</td>\n",
       "    </tr>\n",
       "    <tr>\n",
       "      <th>87673</th>\n",
       "      <td>2010</td>\n",
       "      <td>1</td>\n",
       "      <td>1</td>\n",
       "      <td>0</td>\n",
       "    </tr>\n",
       "    <tr>\n",
       "      <th>87674</th>\n",
       "      <td>2010</td>\n",
       "      <td>1</td>\n",
       "      <td>1</td>\n",
       "      <td>0</td>\n",
       "    </tr>\n",
       "    <tr>\n",
       "      <th>87675</th>\n",
       "      <td>2010</td>\n",
       "      <td>1</td>\n",
       "      <td>1</td>\n",
       "      <td>0</td>\n",
       "    </tr>\n",
       "    <tr>\n",
       "      <th>87676</th>\n",
       "      <td>2010</td>\n",
       "      <td>1</td>\n",
       "      <td>1</td>\n",
       "      <td>0</td>\n",
       "    </tr>\n",
       "    <tr>\n",
       "      <th>...</th>\n",
       "      <td>...</td>\n",
       "      <td>...</td>\n",
       "      <td>...</td>\n",
       "      <td>...</td>\n",
       "    </tr>\n",
       "    <tr>\n",
       "      <th>88411</th>\n",
       "      <td>2010</td>\n",
       "      <td>1</td>\n",
       "      <td>31</td>\n",
       "      <td>0</td>\n",
       "    </tr>\n",
       "    <tr>\n",
       "      <th>88412</th>\n",
       "      <td>2010</td>\n",
       "      <td>1</td>\n",
       "      <td>31</td>\n",
       "      <td>0</td>\n",
       "    </tr>\n",
       "    <tr>\n",
       "      <th>88413</th>\n",
       "      <td>2010</td>\n",
       "      <td>1</td>\n",
       "      <td>31</td>\n",
       "      <td>0</td>\n",
       "    </tr>\n",
       "    <tr>\n",
       "      <th>88414</th>\n",
       "      <td>2010</td>\n",
       "      <td>1</td>\n",
       "      <td>31</td>\n",
       "      <td>0</td>\n",
       "    </tr>\n",
       "    <tr>\n",
       "      <th>88415</th>\n",
       "      <td>2010</td>\n",
       "      <td>1</td>\n",
       "      <td>31</td>\n",
       "      <td>0</td>\n",
       "    </tr>\n",
       "  </tbody>\n",
       "</table>\n",
       "<p>744 rows × 4 columns</p>\n",
       "</div>"
      ],
      "text/plain": [
       "       year  month  day  raining\n",
       "87672  2010      1    1        0\n",
       "87673  2010      1    1        0\n",
       "87674  2010      1    1        0\n",
       "87675  2010      1    1        0\n",
       "87676  2010      1    1        0\n",
       "...     ...    ...  ...      ...\n",
       "88411  2010      1   31        0\n",
       "88412  2010      1   31        0\n",
       "88413  2010      1   31        0\n",
       "88414  2010      1   31        0\n",
       "88415  2010      1   31        0\n",
       "\n",
       "[744 rows x 4 columns]"
      ]
     },
     "execution_count": 364,
     "metadata": {},
     "output_type": "execute_result"
    }
   ],
   "source": [
    "df[['year', 'month', 'day','raining']].loc[(df['month'] == 1) & (df['year'] == 2010)]"
   ]
  },
  {
   "cell_type": "code",
   "execution_count": 421,
   "metadata": {},
   "outputs": [],
   "source": [
    "rainyDays=df[['year','month', 'raining']].loc[(df['raining'] == 1) & (df['month'].isin([12,1,2,3,4]))].groupby(['year','month']).count()"
   ]
  },
  {
   "cell_type": "code",
   "execution_count": 420,
   "metadata": {},
   "outputs": [
    {
     "name": "stdout",
     "output_type": "stream",
     "text": [
      "            raining\n",
      "year month         \n",
      "2000 1          1.0\n",
      "     2          1.0\n",
      "     3          1.0\n",
      "     4          1.0\n",
      "     12         1.0\n",
      "2001 1          1.0\n",
      "     2          1.0\n",
      "     3          1.0\n",
      "     4          1.0\n",
      "     12         1.0\n",
      "2002 1          1.0\n",
      "     2          1.0\n",
      "     3          1.0\n",
      "     4          1.0\n",
      "     12         1.0\n",
      "2003 1          1.0\n",
      "     2          1.0\n",
      "     3          1.0\n",
      "     4          1.0\n",
      "     12         1.0\n",
      "2004 1          1.0\n",
      "     2          1.0\n",
      "     3          1.0\n",
      "     4          1.0\n",
      "     12         1.0\n",
      "2005 1          1.0\n",
      "     2          1.0\n",
      "     3          1.0\n",
      "     4          1.0\n",
      "     12         1.0\n",
      "2006 1          1.0\n",
      "     2          1.0\n",
      "     3          1.0\n",
      "     4          1.0\n",
      "     12         1.0\n",
      "2007 1          1.0\n",
      "     2          1.0\n",
      "     3          1.0\n",
      "     4          1.0\n",
      "     12         1.0\n",
      "2008 1          1.0\n",
      "     2          1.0\n",
      "     3          1.0\n",
      "     4          1.0\n",
      "     12         1.0\n",
      "2009 1          1.0\n",
      "     2          1.0\n",
      "     3          1.0\n",
      "     4          1.0\n",
      "     12         1.0\n",
      "2010 1          1.0\n",
      "     2          1.0\n",
      "     3          1.0\n",
      "     4          1.0\n",
      "     12         1.0\n",
      "2011 1          1.0\n",
      "     2          1.0\n",
      "     3          1.0\n",
      "     4          1.0\n",
      "     12         1.0\n",
      "2012 1          1.0\n",
      "     2          1.0\n",
      "     3          1.0\n",
      "     4          1.0\n",
      "     12         1.0\n",
      "2013 1          1.0\n",
      "     2          1.0\n",
      "     3          1.0\n",
      "     4          1.0\n",
      "     12         1.0\n",
      "2014 1          1.0\n",
      "     2          1.0\n",
      "     3          1.0\n",
      "     4          1.0\n",
      "     12         1.0\n",
      "2015 1          1.0\n",
      "     2          1.0\n",
      "     3          1.0\n",
      "     4          1.0\n",
      "     12         1.0\n",
      "2016 1          1.0\n",
      "     2          1.0\n",
      "     3          1.0\n",
      "     4          1.0\n",
      "     12         1.0\n",
      "2017 1          1.0\n",
      "     2          1.0\n",
      "     3          1.0\n",
      "     4          1.0\n",
      "     12         1.0\n",
      "2018 1          1.0\n",
      "     2          1.0\n",
      "     3          1.0\n",
      "     4          1.0\n",
      "     12         1.0\n",
      "2019 1          1.0\n",
      "     2          1.0\n",
      "     3          1.0\n",
      "     4          1.0\n",
      "     12         1.0\n",
      "2020 1          1.0\n",
      "     2          1.0\n",
      "     3          1.0\n",
      "     4          1.0\n"
     ]
    }
   ],
   "source": [
    "with pd.option_context('display.max_rows', None, 'display.max_columns', None): \n",
    "    print(rainyDays)"
   ]
  },
  {
   "cell_type": "code",
   "execution_count": 427,
   "metadata": {},
   "outputs": [],
   "source": [
    "rainyMonths=df[['month', 'raining']].loc[(df['raining'] == 1) & (df['month'].isin([12,1,2,3,4]))].groupby(['month']).count()"
   ]
  },
  {
   "cell_type": "code",
   "execution_count": 428,
   "metadata": {},
   "outputs": [
    {
     "name": "stdout",
     "output_type": "stream",
     "text": [
      "       raining\n",
      "month         \n",
      "1         1404\n",
      "2          910\n",
      "3          528\n",
      "4          360\n",
      "12        1161\n"
     ]
    }
   ],
   "source": [
    "print(rainyMonths)"
   ]
  },
  {
   "cell_type": "code",
   "execution_count": null,
   "metadata": {},
   "outputs": [],
   "source": []
  }
 ],
 "metadata": {
  "kernelspec": {
   "display_name": "Python 3 (ipykernel)",
   "language": "python",
   "name": "python3"
  },
  "language_info": {
   "codemirror_mode": {
    "name": "ipython",
    "version": 3
   },
   "file_extension": ".py",
   "mimetype": "text/x-python",
   "name": "python",
   "nbconvert_exporter": "python",
   "pygments_lexer": "ipython3",
   "version": "3.8.9"
  }
 },
 "nbformat": 4,
 "nbformat_minor": 2
}
