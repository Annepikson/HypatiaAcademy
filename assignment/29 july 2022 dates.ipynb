{
 "cells": [
  {
   "cell_type": "code",
   "execution_count": 50,
   "id": "4540d135",
   "metadata": {},
   "outputs": [
    {
     "name": "stdout",
     "output_type": "stream",
     "text": [
      "2022-07-28\n",
      "\n",
      "datetime.now()= 2022-07-28 10:37:10.086562\n",
      "\n",
      "jeudi = datetime.datetime(2022, 7, 28, 9, 2, 35) 2022-07-28 09:02:35 \n",
      "\n",
      "\n",
      "A1 = datetime.datetime(2024, 12, 25, 10, 2, 3) 2024-12-25 10:02:03\n",
      "year= 2024\n",
      "month= 12\n",
      "day= 25\n",
      "c'et le object datetime= 2024-12-25 10:02:03\n"
     ]
    }
   ],
   "source": [
    "from datetime import date\n",
    "import datetime\n",
    "from datetime import datetime\n",
    "\n",
    "now = date.today()\n",
    "print(now)\n",
    "\n",
    "print()\n",
    "\n",
    "\n",
    "print(\"datetime.now()=\",datetime.now())\n",
    "\n",
    " \n",
    "\n",
    "\n",
    "jeudi = datetime(2022, 7, 28, 9, 2, 35)\n",
    "print(\"\\njeudi = datetime.datetime(2022, 7, 28, 9, 2, 35)\", jeudi, \"\\n\")\n",
    "\n",
    "\n",
    "import datetime\n",
    "\n",
    "A1 = datetime.datetime(2024, 12, 25, 10, 2, 3)\n",
    "\n",
    "\n",
    "print(\"\\nA1 = datetime.datetime(2024, 12, 25, 10, 2, 3)\", A1)\n",
    "\n",
    "\n",
    "\n",
    "d1 = datetime.datetime(2024, 12, 25, 10, 2, 3)\n",
    "print(\"year=\", d1.year)\n",
    "print(\"month=\", d1.month)\n",
    "print(\"day=\", d1.day)\n",
    "print(\"c'et le object datetime=\", d1)\n",
    "\n"
   ]
  },
  {
   "cell_type": "code",
   "execution_count": null,
   "id": "89b2253a",
   "metadata": {},
   "outputs": [],
   "source": [
    "import datetime as peter\n",
    "\n",
    "peter.datetime(2022, 7, 28, 9, 2, 35) "
   ]
  },
  {
   "cell_type": "code",
   "execution_count": null,
   "id": "7e43eaed",
   "metadata": {},
   "outputs": [],
   "source": [
    "from datetime import date\n",
    "import datetime\n",
    "from datetime import datetime"
   ]
  },
  {
   "cell_type": "markdown",
   "id": "4f2efa86",
   "metadata": {},
   "source": [
    "from datetime import time\n",
    "\n",
    "import datetime "
   ]
  },
  {
   "cell_type": "markdown",
   "id": "15d4f337",
   "metadata": {},
   "source": [
    "si nous écrivons import datetime cela signifie que nous voulons tout dans l'objet datetime.\n",
    "\n",
    "si nous écrivons à partir de la date d'importation datetime, cela signifie que nous n'en voulons qu'une partie. cela signifie que nous ne voulons que l'objet date.\n",
    "\n",
    "si nous écrivons à partir de l'heure d'importation datetime, cela signifie que nous ne voulons que l'objet temporel"
   ]
  },
  {
   "cell_type": "code",
   "execution_count": null,
   "id": "40e2fe23",
   "metadata": {},
   "outputs": [],
   "source": [
    "import datetime\n",
    "time(2022, 7, 28, 9, 2, 35)"
   ]
  },
  {
   "cell_type": "code",
   "execution_count": null,
   "id": "31dcf6c5",
   "metadata": {},
   "outputs": [],
   "source": [
    "\n",
    "\n",
    "datetime.time(hour=10, minute=7, second=28, microsecond=9)\n",
    "datetime.time(10,7,28,0)\n",
    "datetime.time(minutes=10, second=7, hour=12, microsecond=9)\n",
    "\n"
   ]
  },
  {
   "cell_type": "code",
   "execution_count": null,
   "id": "edba3c8b",
   "metadata": {},
   "outputs": [],
   "source": []
  },
  {
   "cell_type": "markdown",
   "id": "ebce2975",
   "metadata": {},
   "source": [
    "jeudi = datetime.datetime(2022, 7, 28, 9, 2, 35)\n",
    "\n",
    "\n",
    "le n'est pas valide pour des raisons. un datetime vous avez déjà tout cela. vous n'avez donc pas besoin de dire datetime deux fois.\n",
    "\n",
    "les autres dates sont la date a 3 arguments, date (année, mois, date)\n",
    "\n",
    "La fonction time a 5 arguments :\n",
    "\n",
    "temps(heure=0, minute=0, seconde=0, microseconde=0)\n"
   ]
  },
  {
   "cell_type": "code",
   "execution_count": null,
   "id": "20046c54",
   "metadata": {},
   "outputs": [],
   "source": []
  },
  {
   "cell_type": "markdown",
   "id": "1a5ef413",
   "metadata": {},
   "source": [
    "comment créez-vous une date à partir d'une chaîne? comment créez-vous une heure à partir d'une chaîne?"
   ]
  },
  {
   "cell_type": "code",
   "execution_count": null,
   "id": "6641b51f",
   "metadata": {},
   "outputs": [],
   "source": [
    "'''\n",
    "27/09/2022\n",
    "\n",
    "09/27/2022\n",
    "\n",
    "12 juilett 2022\n",
    "\n",
    "14 july 2022\n",
    "\n",
    "time.fromisoformat(time_string)\n",
    "\n",
    "HH[:MM[:SS[.fff[fff]]]][+HH:MM[:SS[.ffffff]]\n",
    "'''\n",
    "\n",
    "\n",
    "timeDejeuner=time.fromisoformat('12:02:59.001')\n",
    "                        \n",
    "                        "
   ]
  },
  {
   "cell_type": "code",
   "execution_count": null,
   "id": "6262d4e9",
   "metadata": {},
   "outputs": [],
   "source": [
    "timeDejeuner.isoformat()"
   ]
  },
  {
   "cell_type": "code",
   "execution_count": null,
   "id": "2736b2aa",
   "metadata": {},
   "outputs": [],
   "source": [
    "timeDansleAnglette=time.fromisoformat('12:02:59.001')\n",
    "timeDansleCameroon=time.fromisoformat('12:02:59.001+01:00')\n",
    "timeDansleChypre=time.fromisoformat('12:02:59.001+03:00')\n",
    "\n",
    "# fromisformat(hour:minute:second.microsecond:timezone)\n",
    "\n",
    "# gmt = england\n",
    "# gmt+1 = cameroon +01:00\n",
    "# gmt + 2 = italy\n",
    "# gmt + 3 = cyprus\n"
   ]
  },
  {
   "cell_type": "code",
   "execution_count": null,
   "id": "9336d7fd",
   "metadata": {},
   "outputs": [],
   "source": [
    "print(\"timeDansleChypre=\",timeDansleChypre)\n",
    "print(timeDansleChypre, timeDansleChypre.tzname( timeDansleChypre))"
   ]
  },
  {
   "cell_type": "code",
   "execution_count": null,
   "id": "f733e30a",
   "metadata": {},
   "outputs": [],
   "source": [
    "print(\"the time zone in cyprus is\", timeDansleChypre.tzname())"
   ]
  },
  {
   "cell_type": "code",
   "execution_count": null,
   "id": "52a65b45",
   "metadata": {},
   "outputs": [],
   "source": [
    "'''\n",
    "New York = EST\n",
    "London = GMT\n",
    "Cyprus = EEU (eastern european)\n",
    "'''\n",
    "\n"
   ]
  },
  {
   "cell_type": "code",
   "execution_count": null,
   "id": "fdeee84e",
   "metadata": {},
   "outputs": [],
   "source": [
    "'''\n",
    "cela signifie créer le temps maintenant. si vous ne mettez pas de fuseau horaire, il utilise le fuseau horaire où vous vous trouvez\n",
    "\n",
    "\n",
    "'''\n",
    "from datetime import datetime, date, time, timezone \n",
    "now=datetime.now()\n",
    "print(\"now\",now.isoformat())"
   ]
  },
  {
   "cell_type": "code",
   "execution_count": 52,
   "id": "b9643cea",
   "metadata": {},
   "outputs": [
    {
     "name": "stdout",
     "output_type": "stream",
     "text": [
      "12\n"
     ]
    }
   ],
   "source": [
    "from datetime import date\n",
    "a=date(2002, 12, 4)\n",
    "\n",
    "print(a.strftime(\"%m\"))"
   ]
  },
  {
   "cell_type": "markdown",
   "id": "8dad171c",
   "metadata": {},
   "source": [
    "créer une date à partir d'une chaîne"
   ]
  },
  {
   "cell_type": "code",
   "execution_count": 55,
   "id": "d030d265",
   "metadata": {},
   "outputs": [
    {
     "data": {
      "text/plain": [
       "datetime.date(2024, 10, 12)"
      ]
     },
     "execution_count": 55,
     "metadata": {},
     "output_type": "execute_result"
    }
   ],
   "source": [
    "# isoformat is ISO 8601\n",
    "\n",
    "date.fromisoformat(\"2024-10-12\")"
   ]
  },
  {
   "cell_type": "markdown",
   "id": "97921ada",
   "metadata": {},
   "source": [
    " 2. Corrigez cette ligne de code. recherchez sur google le format ISO 8601 et python pour trouver des exemples.\n",
    "\n",
    "1. étudiez tout ce que nous avons écrit ci-dessus\n",
    "\n",
    "3. assurez-vous de connaître strftime. Apprenez tous les arguments. Il y en a environ 20. SO recherche google pour des exemples"
   ]
  },
  {
   "cell_type": "code",
   "execution_count": 57,
   "id": "c25b63da",
   "metadata": {},
   "outputs": [
    {
     "ename": "ValueError",
     "evalue": "Invalid isoformat string: '2022-07-2806:04:32+00:00'",
     "output_type": "error",
     "traceback": [
      "\u001b[0;31m---------------------------------------------------------------------------\u001b[0m",
      "\u001b[0;31mValueError\u001b[0m                                Traceback (most recent call last)",
      "Input \u001b[0;32mIn [57]\u001b[0m, in \u001b[0;36m<module>\u001b[0;34m\u001b[0m\n\u001b[0;32m----> 1\u001b[0m \u001b[43mdate\u001b[49m\u001b[38;5;241;43m.\u001b[39;49m\u001b[43mfromisoformat\u001b[49m\u001b[43m(\u001b[49m\u001b[38;5;124;43m\"\u001b[39;49m\u001b[38;5;124;43m2022-07-2806:04:32+00:00\u001b[39;49m\u001b[38;5;124;43m\"\u001b[39;49m\u001b[43m)\u001b[49m\n",
      "\u001b[0;31mValueError\u001b[0m: Invalid isoformat string: '2022-07-2806:04:32+00:00'"
     ]
    }
   ],
   "source": [
    "   \n",
    "\n",
    "\n",
    "date.fromisoformat(\"2022-07-28T06:04:32+00:00\")"
   ]
  },
  {
   "cell_type": "code",
   "execution_count": null,
   "id": "b8e69607",
   "metadata": {},
   "outputs": [],
   "source": []
  }
 ],
 "metadata": {
  "kernelspec": {
   "display_name": "Python 3 (ipykernel)",
   "language": "python",
   "name": "python3"
  },
  "language_info": {
   "codemirror_mode": {
    "name": "ipython",
    "version": 3
   },
   "file_extension": ".py",
   "mimetype": "text/x-python",
   "name": "python",
   "nbconvert_exporter": "python",
   "pygments_lexer": "ipython3",
   "version": "3.8.9"
  }
 },
 "nbformat": 4,
 "nbformat_minor": 5
}
