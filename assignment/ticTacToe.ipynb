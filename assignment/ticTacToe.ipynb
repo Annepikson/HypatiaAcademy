{
 "cells": [
  {
   "cell_type": "code",
   "execution_count": 45,
   "metadata": {},
   "outputs": [
    {
     "name": "stdout",
     "output_type": "stream",
     "text": [
      "x o o \n",
      "o x o \n",
      "o o x \n"
     ]
    }
   ],
   "source": [
    " \n",
    "\n",
    "ttt=[[\"x\",\"o\",\"o\"],\n",
    "     [\"o\", \"x\",\"o\"],\n",
    "     [\"o\",\"o\",\"x\"]]\n",
    "\n",
    "for row in range(0,3):\n",
    "    for col in range(0,3):\n",
    "        if (col%2)==0 and (col > 0):\n",
    "            print (ttt[row][col], end=\" \\n\")\n",
    "        else:\n",
    "            print (ttt[row][col], end=\" \")\n",
    "        "
   ]
  },
  {
   "cell_type": "code",
   "execution_count": null,
   "metadata": {},
   "outputs": [],
   "source": []
  },
  {
   "cell_type": "code",
   "execution_count": null,
   "metadata": {},
   "outputs": [],
   "source": []
  }
 ],
 "metadata": {
  "kernelspec": {
   "display_name": "Python 3",
   "language": "python",
   "name": "python3"
  },
  "language_info": {
   "codemirror_mode": {
    "name": "ipython",
    "version": 3
   },
   "file_extension": ".py",
   "mimetype": "text/x-python",
   "name": "python",
   "nbconvert_exporter": "python",
   "pygments_lexer": "ipython3",
   "version": "3.4.4"
  }
 },
 "nbformat": 4,
 "nbformat_minor": 2
}
