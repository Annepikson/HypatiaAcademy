{
 "cells": [
  {
   "cell_type": "markdown",
   "metadata": {},
   "source": [
    "#### Paphos Weather\n",
    "\n",
    "This page shows various metrics for the weather in Paphos, Cyprus.\n",
    "\n",
    "Weather data is purchased from Openweather Marketplace [here](https://home.openweathermap.org/marketplace/my_orders)\n",
    "\n"
   ]
  },
  {
   "cell_type": "code",
   "execution_count": 2,
   "metadata": {},
   "outputs": [],
   "source": [
    "\n",
    "from datetime import date\n",
    "from datetime import datetime\n",
    "import time\n",
    "import pandas as pd\n",
    "\n",
    "\n",
    "def toDate(epoch_time):\n",
    "    return datetime.fromtimestamp(epoch_time)\n",
    "  \n"
   ]
  },
  {
   "cell_type": "code",
   "execution_count": 1,
   "metadata": {},
   "outputs": [],
   "source": [
    "import pandas as pd\n",
    "\n",
    "df=pd.read_json('/Users/walkerrowe/Documents/weather/HypatiaAcademy/assignment/pathosWeather.json')"
   ]
  },
  {
   "cell_type": "code",
   "execution_count": 3,
   "metadata": {},
   "outputs": [
    {
     "data": {
      "text/plain": [
       "datetime.datetime(1999, 12, 31, 19, 0)"
      ]
     },
     "execution_count": 3,
     "metadata": {},
     "output_type": "execute_result"
    }
   ],
   "source": [
    "toDate(946684800)"
   ]
  },
  {
   "cell_type": "code",
   "execution_count": 4,
   "metadata": {},
   "outputs": [
    {
     "data": {
      "text/plain": [
       "0        1999-12-31 19:00:00\n",
       "1        1999-12-31 20:00:00\n",
       "2        1999-12-31 21:00:00\n",
       "3        1999-12-31 22:00:00\n",
       "4        1999-12-31 23:00:00\n",
       "                 ...        \n",
       "181459   2020-09-12 15:00:00\n",
       "181460   2020-09-12 16:00:00\n",
       "181461   2020-09-12 17:00:00\n",
       "181462   2020-09-12 18:00:00\n",
       "181463   2020-09-12 19:00:00\n",
       "Name: dt, Length: 181464, dtype: datetime64[ns]"
      ]
     },
     "execution_count": 4,
     "metadata": {},
     "output_type": "execute_result"
    }
   ],
   "source": [
    "df['dt'].map(toDate)"
   ]
  },
  {
   "cell_type": "code",
   "execution_count": 5,
   "metadata": {},
   "outputs": [
    {
     "data": {
      "text/plain": [
       "Index(['city_name', 'lat', 'lon', 'main', 'wind', 'clouds', 'weather', 'dt',\n",
       "       'dt_iso', 'timezone', 'rain'],\n",
       "      dtype='object')"
      ]
     },
     "execution_count": 5,
     "metadata": {},
     "output_type": "execute_result"
    }
   ],
   "source": [
    "df.columns"
   ]
  },
  {
   "cell_type": "code",
   "execution_count": 6,
   "metadata": {},
   "outputs": [
    {
     "data": {
      "text/plain": [
       "{'temp': 55.35,\n",
       " 'temp_min': 51.8,\n",
       " 'temp_max': 65.53,\n",
       " 'feels_like': 49.44,\n",
       " 'pressure': 1016,\n",
       " 'humidity': 73}"
      ]
     },
     "execution_count": 6,
     "metadata": {},
     "output_type": "execute_result"
    }
   ],
   "source": [
    "df['main'][0]"
   ]
  },
  {
   "cell_type": "markdown",
   "metadata": {},
   "source": [
    "We have to convert the epoch time to ISO Date, which is something we can read.\n",
    "\n",
    "The map function runs a function over a series.  A series means a dataframe with one column.  When we write df['new column'] = df['some column'].map(somefunction) it adds the new columns to the dataframe.\n"
   ]
  },
  {
   "cell_type": "code",
   "execution_count": 17,
   "metadata": {},
   "outputs": [],
   "source": [
    "df['isoDate']=df['dt'].map(toDate)"
   ]
  },
  {
   "cell_type": "code",
   "execution_count": 19,
   "metadata": {},
   "outputs": [
    {
     "data": {
      "text/plain": [
       "Index(['city_name', 'lat', 'lon', 'main', 'wind', 'clouds', 'weather', 'dt',\n",
       "       'dt_iso', 'timezone', 'rain', 'isoDate'],\n",
       "      dtype='object')"
      ]
     },
     "execution_count": 19,
     "metadata": {},
     "output_type": "execute_result"
    }
   ],
   "source": [
    "df.columns"
   ]
  },
  {
   "cell_type": "code",
   "execution_count": 18,
   "metadata": {},
   "outputs": [
    {
     "data": {
      "text/plain": [
       "0        1999-12-31 19:00:00\n",
       "1        1999-12-31 20:00:00\n",
       "2        1999-12-31 21:00:00\n",
       "3        1999-12-31 22:00:00\n",
       "4        1999-12-31 23:00:00\n",
       "                 ...        \n",
       "181459   2020-09-12 15:00:00\n",
       "181460   2020-09-12 16:00:00\n",
       "181461   2020-09-12 17:00:00\n",
       "181462   2020-09-12 18:00:00\n",
       "181463   2020-09-12 19:00:00\n",
       "Name: isoDate, Length: 181464, dtype: datetime64[ns]"
      ]
     },
     "execution_count": 18,
     "metadata": {},
     "output_type": "execute_result"
    }
   ],
   "source": [
    "df['isoDate']"
   ]
  },
  {
   "cell_type": "markdown",
   "metadata": {},
   "source": [
    "We want to caculate the average temperature by date usign the mean() function.  But the problem is that the date is an object inside the **main** object.  See below how to fix that."
   ]
  },
  {
   "cell_type": "code",
   "execution_count": 9,
   "metadata": {},
   "outputs": [
    {
     "data": {
      "text/html": [
       "<div>\n",
       "<style scoped>\n",
       "    .dataframe tbody tr th:only-of-type {\n",
       "        vertical-align: middle;\n",
       "    }\n",
       "\n",
       "    .dataframe tbody tr th {\n",
       "        vertical-align: top;\n",
       "    }\n",
       "\n",
       "    .dataframe thead th {\n",
       "        text-align: right;\n",
       "    }\n",
       "</style>\n",
       "<table border=\"1\" class=\"dataframe\">\n",
       "  <thead>\n",
       "    <tr style=\"text-align: right;\">\n",
       "      <th></th>\n",
       "      <th>lat</th>\n",
       "      <th>lon</th>\n",
       "      <th>dt</th>\n",
       "      <th>timezone</th>\n",
       "    </tr>\n",
       "    <tr>\n",
       "      <th>isoDate</th>\n",
       "      <th></th>\n",
       "      <th></th>\n",
       "      <th></th>\n",
       "      <th></th>\n",
       "    </tr>\n",
       "  </thead>\n",
       "  <tbody>\n",
       "    <tr>\n",
       "      <th>1999-12-31</th>\n",
       "      <td>34.753637</td>\n",
       "      <td>32.406951</td>\n",
       "      <td>9.466920e+08</td>\n",
       "      <td>7200.0</td>\n",
       "    </tr>\n",
       "    <tr>\n",
       "      <th>2000-01-01</th>\n",
       "      <td>34.753637</td>\n",
       "      <td>32.406951</td>\n",
       "      <td>9.467442e+08</td>\n",
       "      <td>7200.0</td>\n",
       "    </tr>\n",
       "    <tr>\n",
       "      <th>2000-01-02</th>\n",
       "      <td>34.753637</td>\n",
       "      <td>32.406951</td>\n",
       "      <td>9.468306e+08</td>\n",
       "      <td>7200.0</td>\n",
       "    </tr>\n",
       "    <tr>\n",
       "      <th>2000-01-03</th>\n",
       "      <td>34.753637</td>\n",
       "      <td>32.406951</td>\n",
       "      <td>9.469170e+08</td>\n",
       "      <td>7200.0</td>\n",
       "    </tr>\n",
       "    <tr>\n",
       "      <th>2000-01-04</th>\n",
       "      <td>34.753637</td>\n",
       "      <td>32.406951</td>\n",
       "      <td>9.470034e+08</td>\n",
       "      <td>7200.0</td>\n",
       "    </tr>\n",
       "    <tr>\n",
       "      <th>...</th>\n",
       "      <td>...</td>\n",
       "      <td>...</td>\n",
       "      <td>...</td>\n",
       "      <td>...</td>\n",
       "    </tr>\n",
       "    <tr>\n",
       "      <th>2020-09-08</th>\n",
       "      <td>34.753637</td>\n",
       "      <td>32.406951</td>\n",
       "      <td>1.599579e+09</td>\n",
       "      <td>10800.0</td>\n",
       "    </tr>\n",
       "    <tr>\n",
       "      <th>2020-09-09</th>\n",
       "      <td>34.753637</td>\n",
       "      <td>32.406951</td>\n",
       "      <td>1.599665e+09</td>\n",
       "      <td>10800.0</td>\n",
       "    </tr>\n",
       "    <tr>\n",
       "      <th>2020-09-10</th>\n",
       "      <td>34.753637</td>\n",
       "      <td>32.406951</td>\n",
       "      <td>1.599752e+09</td>\n",
       "      <td>10800.0</td>\n",
       "    </tr>\n",
       "    <tr>\n",
       "      <th>2020-09-11</th>\n",
       "      <td>34.753637</td>\n",
       "      <td>32.406951</td>\n",
       "      <td>1.599838e+09</td>\n",
       "      <td>10800.0</td>\n",
       "    </tr>\n",
       "    <tr>\n",
       "      <th>2020-09-12</th>\n",
       "      <td>34.753637</td>\n",
       "      <td>32.406951</td>\n",
       "      <td>1.599917e+09</td>\n",
       "      <td>10800.0</td>\n",
       "    </tr>\n",
       "  </tbody>\n",
       "</table>\n",
       "<p>7562 rows × 4 columns</p>\n",
       "</div>"
      ],
      "text/plain": [
       "                  lat        lon            dt  timezone\n",
       "isoDate                                                 \n",
       "1999-12-31  34.753637  32.406951  9.466920e+08    7200.0\n",
       "2000-01-01  34.753637  32.406951  9.467442e+08    7200.0\n",
       "2000-01-02  34.753637  32.406951  9.468306e+08    7200.0\n",
       "2000-01-03  34.753637  32.406951  9.469170e+08    7200.0\n",
       "2000-01-04  34.753637  32.406951  9.470034e+08    7200.0\n",
       "...               ...        ...           ...       ...\n",
       "2020-09-08  34.753637  32.406951  1.599579e+09   10800.0\n",
       "2020-09-09  34.753637  32.406951  1.599665e+09   10800.0\n",
       "2020-09-10  34.753637  32.406951  1.599752e+09   10800.0\n",
       "2020-09-11  34.753637  32.406951  1.599838e+09   10800.0\n",
       "2020-09-12  34.753637  32.406951  1.599917e+09   10800.0\n",
       "\n",
       "[7562 rows x 4 columns]"
      ]
     },
     "execution_count": 9,
     "metadata": {},
     "output_type": "execute_result"
    }
   ],
   "source": [
    "df.index = pd.to_datetime(df['isoDate'])\n",
    "df.resample('d').mean()"
   ]
  },
  {
   "cell_type": "markdown",
   "metadata": {},
   "source": [
    "The series df['main'] is a JSON object.  Write a function to split it into it's seperate fields.  Use **series.map(function)** method like above.\n",
    "\n",
    "{'temp': 55.35,\n",
    " 'temp_min': 51.8,\n",
    " 'temp_max': 65.53,\n",
    " 'feels_like': 49.44,\n",
    " 'pressure': 1016,\n",
    " 'humidity': 73}\n",
    " "
   ]
  },
  {
   "cell_type": "code",
   "execution_count": 16,
   "metadata": {},
   "outputs": [
    {
     "data": {
      "text/plain": [
       "Index(['city_name', 'lat', 'lon', 'main', 'wind', 'clouds', 'weather', 'dt',\n",
       "       'dt_iso', 'timezone', 'rain'],\n",
       "      dtype='object')"
      ]
     },
     "execution_count": 16,
     "metadata": {},
     "output_type": "execute_result"
    }
   ],
   "source": [
    "df.columns"
   ]
  },
  {
   "cell_type": "code",
   "execution_count": 11,
   "metadata": {},
   "outputs": [
    {
     "data": {
      "text/html": [
       "<div>\n",
       "<style scoped>\n",
       "    .dataframe tbody tr th:only-of-type {\n",
       "        vertical-align: middle;\n",
       "    }\n",
       "\n",
       "    .dataframe tbody tr th {\n",
       "        vertical-align: top;\n",
       "    }\n",
       "\n",
       "    .dataframe thead th {\n",
       "        text-align: right;\n",
       "    }\n",
       "</style>\n",
       "<table border=\"1\" class=\"dataframe\">\n",
       "  <thead>\n",
       "    <tr style=\"text-align: right;\">\n",
       "      <th></th>\n",
       "      <th>city_name</th>\n",
       "      <th>lat</th>\n",
       "      <th>lon</th>\n",
       "      <th>main</th>\n",
       "      <th>wind</th>\n",
       "      <th>clouds</th>\n",
       "      <th>weather</th>\n",
       "      <th>dt</th>\n",
       "      <th>dt_iso</th>\n",
       "      <th>timezone</th>\n",
       "      <th>rain</th>\n",
       "      <th>isoDate</th>\n",
       "    </tr>\n",
       "    <tr>\n",
       "      <th>isoDate</th>\n",
       "      <th></th>\n",
       "      <th></th>\n",
       "      <th></th>\n",
       "      <th></th>\n",
       "      <th></th>\n",
       "      <th></th>\n",
       "      <th></th>\n",
       "      <th></th>\n",
       "      <th></th>\n",
       "      <th></th>\n",
       "      <th></th>\n",
       "      <th></th>\n",
       "    </tr>\n",
       "  </thead>\n",
       "  <tbody>\n",
       "    <tr>\n",
       "      <th>1999-12-31 19:00:00</th>\n",
       "      <td>Paphos Castle</td>\n",
       "      <td>34.753637</td>\n",
       "      <td>32.406951</td>\n",
       "      <td>{'temp': 55.35, 'temp_min': 51.8, 'temp_max': ...</td>\n",
       "      <td>{'speed': 9.17, 'deg': 20}</td>\n",
       "      <td>{'all': 1}</td>\n",
       "      <td>[{'id': 800, 'main': 'Clear', 'description': '...</td>\n",
       "      <td>946684800</td>\n",
       "      <td>2000-01-01 00:00:00 +0000 UTC</td>\n",
       "      <td>7200</td>\n",
       "      <td>NaN</td>\n",
       "      <td>1999-12-31 19:00:00</td>\n",
       "    </tr>\n",
       "  </tbody>\n",
       "</table>\n",
       "</div>"
      ],
      "text/plain": [
       "                         city_name        lat        lon  \\\n",
       "isoDate                                                    \n",
       "1999-12-31 19:00:00  Paphos Castle  34.753637  32.406951   \n",
       "\n",
       "                                                                  main  \\\n",
       "isoDate                                                                  \n",
       "1999-12-31 19:00:00  {'temp': 55.35, 'temp_min': 51.8, 'temp_max': ...   \n",
       "\n",
       "                                           wind      clouds  \\\n",
       "isoDate                                                       \n",
       "1999-12-31 19:00:00  {'speed': 9.17, 'deg': 20}  {'all': 1}   \n",
       "\n",
       "                                                               weather  \\\n",
       "isoDate                                                                  \n",
       "1999-12-31 19:00:00  [{'id': 800, 'main': 'Clear', 'description': '...   \n",
       "\n",
       "                            dt                         dt_iso  timezone rain  \\\n",
       "isoDate                                                                        \n",
       "1999-12-31 19:00:00  946684800  2000-01-01 00:00:00 +0000 UTC      7200  NaN   \n",
       "\n",
       "                                isoDate  \n",
       "isoDate                                  \n",
       "1999-12-31 19:00:00 1999-12-31 19:00:00  "
      ]
     },
     "execution_count": 11,
     "metadata": {},
     "output_type": "execute_result"
    }
   ],
   "source": [
    "df.head(1)"
   ]
  },
  {
   "cell_type": "code",
   "execution_count": null,
   "metadata": {},
   "outputs": [],
   "source": []
  }
 ],
 "metadata": {
  "kernelspec": {
   "display_name": "Python 3 (ipykernel)",
   "language": "python",
   "name": "python3"
  },
  "language_info": {
   "codemirror_mode": {
    "name": "ipython",
    "version": 3
   },
   "file_extension": ".py",
   "mimetype": "text/x-python",
   "name": "python",
   "nbconvert_exporter": "python",
   "pygments_lexer": "ipython3",
   "version": "3.8.9"
  }
 },
 "nbformat": 4,
 "nbformat_minor": 2
}
