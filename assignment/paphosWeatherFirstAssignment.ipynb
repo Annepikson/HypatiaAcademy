{
 "cells": [
  {
   "cell_type": "markdown",
   "metadata": {},
   "source": [
    "#### Paphos Weather\n",
    "\n",
    "This page shows various metrics for the weather in Paphos, Cyprus.\n",
    "\n",
    "Weather data is purchased from Openweather Marketplace [here](https://home.openweathermap.org/marketplace/my_orders)\n",
    "\n"
   ]
  },
  {
   "cell_type": "code",
   "execution_count": 25,
   "metadata": {},
   "outputs": [],
   "source": [
    "\n",
    "from datetime import date\n",
    "from datetime import datetime\n",
    "import time\n",
    "import pandas as pd\n",
    "\n",
    "\n",
    "def toDate(epoch_time):\n",
    "    return datetime.fromtimestamp(epoch_time)\n",
    "  \n"
   ]
  },
  {
   "cell_type": "code",
   "execution_count": 27,
   "metadata": {},
   "outputs": [],
   "source": [
    "import pandas as pd\n",
    "\n",
    "df=pd.read_json('/Users/walkerrowe/Documents/weather/pathosWeather.json')"
   ]
  },
  {
   "cell_type": "code",
   "execution_count": 28,
   "metadata": {},
   "outputs": [
    {
     "data": {
      "text/plain": [
       "Index(['city_name', 'lat', 'lon', 'main', 'wind', 'clouds', 'weather', 'dt',\n",
       "       'dt_iso', 'timezone', 'rain'],\n",
       "      dtype='object')"
      ]
     },
     "execution_count": 28,
     "metadata": {},
     "output_type": "execute_result"
    }
   ],
   "source": [
    "df.columns"
   ]
  },
  {
   "cell_type": "code",
   "execution_count": 3,
   "metadata": {},
   "outputs": [
    {
     "data": {
      "text/plain": [
       "datetime.datetime(1999, 12, 31, 19, 0)"
      ]
     },
     "execution_count": 3,
     "metadata": {},
     "output_type": "execute_result"
    }
   ],
   "source": [
    "toDate(946684800)"
   ]
  },
  {
   "cell_type": "code",
   "execution_count": 4,
   "metadata": {},
   "outputs": [
    {
     "data": {
      "text/plain": [
       "0        1999-12-31 19:00:00\n",
       "1        1999-12-31 20:00:00\n",
       "2        1999-12-31 21:00:00\n",
       "3        1999-12-31 22:00:00\n",
       "4        1999-12-31 23:00:00\n",
       "                 ...        \n",
       "181459   2020-09-12 15:00:00\n",
       "181460   2020-09-12 16:00:00\n",
       "181461   2020-09-12 17:00:00\n",
       "181462   2020-09-12 18:00:00\n",
       "181463   2020-09-12 19:00:00\n",
       "Name: dt, Length: 181464, dtype: datetime64[ns]"
      ]
     },
     "execution_count": 4,
     "metadata": {},
     "output_type": "execute_result"
    }
   ],
   "source": [
    "df['dt'].map(toDate)"
   ]
  },
  {
   "cell_type": "code",
   "execution_count": 5,
   "metadata": {},
   "outputs": [
    {
     "data": {
      "text/plain": [
       "Index(['city_name', 'lat', 'lon', 'main', 'wind', 'clouds', 'weather', 'dt',\n",
       "       'dt_iso', 'timezone', 'rain'],\n",
       "      dtype='object')"
      ]
     },
     "execution_count": 5,
     "metadata": {},
     "output_type": "execute_result"
    }
   ],
   "source": [
    "df.columns"
   ]
  },
  {
   "cell_type": "code",
   "execution_count": 6,
   "metadata": {},
   "outputs": [
    {
     "data": {
      "text/plain": [
       "{'temp': 55.35,\n",
       " 'temp_min': 51.8,\n",
       " 'temp_max': 65.53,\n",
       " 'feels_like': 49.44,\n",
       " 'pressure': 1016,\n",
       " 'humidity': 73}"
      ]
     },
     "execution_count": 6,
     "metadata": {},
     "output_type": "execute_result"
    }
   ],
   "source": [
    "df['main'][0]"
   ]
  },
  {
   "cell_type": "markdown",
   "metadata": {},
   "source": [
    "We have to convert the epoch time to ISO Date, which is something we can read.\n",
    "\n",
    "The map function runs a function over a series.  A series means a dataframe with one column.  When we write df['new column'] = df['some column'].map(somefunction) it adds the new columns to the dataframe.\n"
   ]
  },
  {
   "cell_type": "code",
   "execution_count": 17,
   "metadata": {},
   "outputs": [],
   "source": [
    "df['isoDate']=df['dt'].map(toDate)"
   ]
  },
  {
   "cell_type": "code",
   "execution_count": 19,
   "metadata": {},
   "outputs": [
    {
     "data": {
      "text/plain": [
       "Index(['city_name', 'lat', 'lon', 'main', 'wind', 'clouds', 'weather', 'dt',\n",
       "       'dt_iso', 'timezone', 'rain', 'isoDate'],\n",
       "      dtype='object')"
      ]
     },
     "execution_count": 19,
     "metadata": {},
     "output_type": "execute_result"
    }
   ],
   "source": [
    "df.columns"
   ]
  },
  {
   "cell_type": "code",
   "execution_count": 18,
   "metadata": {},
   "outputs": [
    {
     "data": {
      "text/plain": [
       "0        1999-12-31 19:00:00\n",
       "1        1999-12-31 20:00:00\n",
       "2        1999-12-31 21:00:00\n",
       "3        1999-12-31 22:00:00\n",
       "4        1999-12-31 23:00:00\n",
       "                 ...        \n",
       "181459   2020-09-12 15:00:00\n",
       "181460   2020-09-12 16:00:00\n",
       "181461   2020-09-12 17:00:00\n",
       "181462   2020-09-12 18:00:00\n",
       "181463   2020-09-12 19:00:00\n",
       "Name: isoDate, Length: 181464, dtype: datetime64[ns]"
      ]
     },
     "execution_count": 18,
     "metadata": {},
     "output_type": "execute_result"
    }
   ],
   "source": [
    "df['isoDate']"
   ]
  },
  {
   "cell_type": "markdown",
   "metadata": {},
   "source": [
    "We want to caculate the average temperature by date usign the mean() function.  But the problem is that the date is an object inside the **main** object.  See below how to fix that."
   ]
  },
  {
   "cell_type": "code",
   "execution_count": 9,
   "metadata": {},
   "outputs": [
    {
     "data": {
      "text/html": [
       "<div>\n",
       "<style scoped>\n",
       "    .dataframe tbody tr th:only-of-type {\n",
       "        vertical-align: middle;\n",
       "    }\n",
       "\n",
       "    .dataframe tbody tr th {\n",
       "        vertical-align: top;\n",
       "    }\n",
       "\n",
       "    .dataframe thead th {\n",
       "        text-align: right;\n",
       "    }\n",
       "</style>\n",
       "<table border=\"1\" class=\"dataframe\">\n",
       "  <thead>\n",
       "    <tr style=\"text-align: right;\">\n",
       "      <th></th>\n",
       "      <th>lat</th>\n",
       "      <th>lon</th>\n",
       "      <th>dt</th>\n",
       "      <th>timezone</th>\n",
       "    </tr>\n",
       "    <tr>\n",
       "      <th>isoDate</th>\n",
       "      <th></th>\n",
       "      <th></th>\n",
       "      <th></th>\n",
       "      <th></th>\n",
       "    </tr>\n",
       "  </thead>\n",
       "  <tbody>\n",
       "    <tr>\n",
       "      <th>1999-12-31</th>\n",
       "      <td>34.753637</td>\n",
       "      <td>32.406951</td>\n",
       "      <td>9.466920e+08</td>\n",
       "      <td>7200.0</td>\n",
       "    </tr>\n",
       "    <tr>\n",
       "      <th>2000-01-01</th>\n",
       "      <td>34.753637</td>\n",
       "      <td>32.406951</td>\n",
       "      <td>9.467442e+08</td>\n",
       "      <td>7200.0</td>\n",
       "    </tr>\n",
       "    <tr>\n",
       "      <th>2000-01-02</th>\n",
       "      <td>34.753637</td>\n",
       "      <td>32.406951</td>\n",
       "      <td>9.468306e+08</td>\n",
       "      <td>7200.0</td>\n",
       "    </tr>\n",
       "    <tr>\n",
       "      <th>2000-01-03</th>\n",
       "      <td>34.753637</td>\n",
       "      <td>32.406951</td>\n",
       "      <td>9.469170e+08</td>\n",
       "      <td>7200.0</td>\n",
       "    </tr>\n",
       "    <tr>\n",
       "      <th>2000-01-04</th>\n",
       "      <td>34.753637</td>\n",
       "      <td>32.406951</td>\n",
       "      <td>9.470034e+08</td>\n",
       "      <td>7200.0</td>\n",
       "    </tr>\n",
       "    <tr>\n",
       "      <th>...</th>\n",
       "      <td>...</td>\n",
       "      <td>...</td>\n",
       "      <td>...</td>\n",
       "      <td>...</td>\n",
       "    </tr>\n",
       "    <tr>\n",
       "      <th>2020-09-08</th>\n",
       "      <td>34.753637</td>\n",
       "      <td>32.406951</td>\n",
       "      <td>1.599579e+09</td>\n",
       "      <td>10800.0</td>\n",
       "    </tr>\n",
       "    <tr>\n",
       "      <th>2020-09-09</th>\n",
       "      <td>34.753637</td>\n",
       "      <td>32.406951</td>\n",
       "      <td>1.599665e+09</td>\n",
       "      <td>10800.0</td>\n",
       "    </tr>\n",
       "    <tr>\n",
       "      <th>2020-09-10</th>\n",
       "      <td>34.753637</td>\n",
       "      <td>32.406951</td>\n",
       "      <td>1.599752e+09</td>\n",
       "      <td>10800.0</td>\n",
       "    </tr>\n",
       "    <tr>\n",
       "      <th>2020-09-11</th>\n",
       "      <td>34.753637</td>\n",
       "      <td>32.406951</td>\n",
       "      <td>1.599838e+09</td>\n",
       "      <td>10800.0</td>\n",
       "    </tr>\n",
       "    <tr>\n",
       "      <th>2020-09-12</th>\n",
       "      <td>34.753637</td>\n",
       "      <td>32.406951</td>\n",
       "      <td>1.599917e+09</td>\n",
       "      <td>10800.0</td>\n",
       "    </tr>\n",
       "  </tbody>\n",
       "</table>\n",
       "<p>7562 rows × 4 columns</p>\n",
       "</div>"
      ],
      "text/plain": [
       "                  lat        lon            dt  timezone\n",
       "isoDate                                                 \n",
       "1999-12-31  34.753637  32.406951  9.466920e+08    7200.0\n",
       "2000-01-01  34.753637  32.406951  9.467442e+08    7200.0\n",
       "2000-01-02  34.753637  32.406951  9.468306e+08    7200.0\n",
       "2000-01-03  34.753637  32.406951  9.469170e+08    7200.0\n",
       "2000-01-04  34.753637  32.406951  9.470034e+08    7200.0\n",
       "...               ...        ...           ...       ...\n",
       "2020-09-08  34.753637  32.406951  1.599579e+09   10800.0\n",
       "2020-09-09  34.753637  32.406951  1.599665e+09   10800.0\n",
       "2020-09-10  34.753637  32.406951  1.599752e+09   10800.0\n",
       "2020-09-11  34.753637  32.406951  1.599838e+09   10800.0\n",
       "2020-09-12  34.753637  32.406951  1.599917e+09   10800.0\n",
       "\n",
       "[7562 rows x 4 columns]"
      ]
     },
     "execution_count": 9,
     "metadata": {},
     "output_type": "execute_result"
    }
   ],
   "source": [
    "df.index = pd.to_datetime(df['isoDate'])\n",
    "df.resample('d').mean()"
   ]
  },
  {
   "cell_type": "markdown",
   "metadata": {},
   "source": [
    "The series df['main'] is a JSON object.  Write a function to split it into it's seperate fields.  Use **series.map(function)** method like above.\n",
    "\n",
    "{'temp': 55.35,\n",
    " 'temp_min': 51.8,\n",
    " 'temp_max': 65.53,\n",
    " 'feels_like': 49.44,\n",
    " 'pressure': 1016,\n",
    " 'humidity': 73}\n",
    " "
   ]
  },
  {
   "cell_type": "code",
   "execution_count": 16,
   "metadata": {},
   "outputs": [
    {
     "data": {
      "text/plain": [
       "Index(['city_name', 'lat', 'lon', 'main', 'wind', 'clouds', 'weather', 'dt',\n",
       "       'dt_iso', 'timezone', 'rain'],\n",
       "      dtype='object')"
      ]
     },
     "execution_count": 16,
     "metadata": {},
     "output_type": "execute_result"
    }
   ],
   "source": [
    "df.columns"
   ]
  },
  {
   "cell_type": "code",
   "execution_count": 11,
   "metadata": {},
   "outputs": [
    {
     "data": {
      "text/html": [
       "<div>\n",
       "<style scoped>\n",
       "    .dataframe tbody tr th:only-of-type {\n",
       "        vertical-align: middle;\n",
       "    }\n",
       "\n",
       "    .dataframe tbody tr th {\n",
       "        vertical-align: top;\n",
       "    }\n",
       "\n",
       "    .dataframe thead th {\n",
       "        text-align: right;\n",
       "    }\n",
       "</style>\n",
       "<table border=\"1\" class=\"dataframe\">\n",
       "  <thead>\n",
       "    <tr style=\"text-align: right;\">\n",
       "      <th></th>\n",
       "      <th>city_name</th>\n",
       "      <th>lat</th>\n",
       "      <th>lon</th>\n",
       "      <th>main</th>\n",
       "      <th>wind</th>\n",
       "      <th>clouds</th>\n",
       "      <th>weather</th>\n",
       "      <th>dt</th>\n",
       "      <th>dt_iso</th>\n",
       "      <th>timezone</th>\n",
       "      <th>rain</th>\n",
       "      <th>isoDate</th>\n",
       "    </tr>\n",
       "    <tr>\n",
       "      <th>isoDate</th>\n",
       "      <th></th>\n",
       "      <th></th>\n",
       "      <th></th>\n",
       "      <th></th>\n",
       "      <th></th>\n",
       "      <th></th>\n",
       "      <th></th>\n",
       "      <th></th>\n",
       "      <th></th>\n",
       "      <th></th>\n",
       "      <th></th>\n",
       "      <th></th>\n",
       "    </tr>\n",
       "  </thead>\n",
       "  <tbody>\n",
       "    <tr>\n",
       "      <th>1999-12-31 19:00:00</th>\n",
       "      <td>Paphos Castle</td>\n",
       "      <td>34.753637</td>\n",
       "      <td>32.406951</td>\n",
       "      <td>{'temp': 55.35, 'temp_min': 51.8, 'temp_max': ...</td>\n",
       "      <td>{'speed': 9.17, 'deg': 20}</td>\n",
       "      <td>{'all': 1}</td>\n",
       "      <td>[{'id': 800, 'main': 'Clear', 'description': '...</td>\n",
       "      <td>946684800</td>\n",
       "      <td>2000-01-01 00:00:00 +0000 UTC</td>\n",
       "      <td>7200</td>\n",
       "      <td>NaN</td>\n",
       "      <td>1999-12-31 19:00:00</td>\n",
       "    </tr>\n",
       "  </tbody>\n",
       "</table>\n",
       "</div>"
      ],
      "text/plain": [
       "                         city_name        lat        lon  \\\n",
       "isoDate                                                    \n",
       "1999-12-31 19:00:00  Paphos Castle  34.753637  32.406951   \n",
       "\n",
       "                                                                  main  \\\n",
       "isoDate                                                                  \n",
       "1999-12-31 19:00:00  {'temp': 55.35, 'temp_min': 51.8, 'temp_max': ...   \n",
       "\n",
       "                                           wind      clouds  \\\n",
       "isoDate                                                       \n",
       "1999-12-31 19:00:00  {'speed': 9.17, 'deg': 20}  {'all': 1}   \n",
       "\n",
       "                                                               weather  \\\n",
       "isoDate                                                                  \n",
       "1999-12-31 19:00:00  [{'id': 800, 'main': 'Clear', 'description': '...   \n",
       "\n",
       "                            dt                         dt_iso  timezone rain  \\\n",
       "isoDate                                                                        \n",
       "1999-12-31 19:00:00  946684800  2000-01-01 00:00:00 +0000 UTC      7200  NaN   \n",
       "\n",
       "                                isoDate  \n",
       "isoDate                                  \n",
       "1999-12-31 19:00:00 1999-12-31 19:00:00  "
      ]
     },
     "execution_count": 11,
     "metadata": {},
     "output_type": "execute_result"
    }
   ],
   "source": [
    "df.head(1)"
   ]
  },
  {
   "cell_type": "code",
   "execution_count": 29,
   "metadata": {},
   "outputs": [],
   "source": [
    "df['temp']=df[\"main\"].map(lambda x: x[\"temp\"])"
   ]
  },
  {
   "cell_type": "code",
   "execution_count": 31,
   "metadata": {},
   "outputs": [],
   "source": [
    "import numpy as np\n",
    "\n",
    "year=[]\n",
    "month=[]\n",
    "row=len(df.index)\n",
    "for j in range(0,row):\n",
    "    date=df[\"dt_iso\"][j]\n",
    "    onlyDate=date[:len(date)-19]\n",
    "    year.append(onlyDate[0:4])\n",
    "    month.append(int(onlyDate[5:7]))\n",
    "    \n",
    "    \n",
    "month=np.asarray(month)\n",
    "year=np.asarray(year)"
   ]
  },
  {
   "cell_type": "code",
   "execution_count": 55,
   "metadata": {},
   "outputs": [],
   "source": [
    "monthYear=pd.DataFrame(year,columns=['year'])\n",
    "monthYear['month']=pd.DataFrame(month)\n",
    "monthYear['temp']=df[\"temp\"]"
   ]
  },
  {
   "cell_type": "code",
   "execution_count": 56,
   "metadata": {},
   "outputs": [
    {
     "name": "stdout",
     "output_type": "stream",
     "text": [
      "<class 'pandas.core.frame.DataFrame'>\n",
      "RangeIndex: 181464 entries, 0 to 181463\n",
      "Data columns (total 3 columns):\n",
      " #   Column  Non-Null Count   Dtype  \n",
      "---  ------  --------------   -----  \n",
      " 0   year    181464 non-null  float64\n",
      " 1   month   181464 non-null  float64\n",
      " 2   temp    181464 non-null  float64\n",
      "dtypes: float64(3)\n",
      "memory usage: 4.2 MB\n"
     ]
    }
   ],
   "source": [
    "monthYear.astype('float').info()"
   ]
  },
  {
   "cell_type": "code",
   "execution_count": 70,
   "metadata": {},
   "outputs": [
    {
     "data": {
      "text/html": [
       "<div>\n",
       "<style scoped>\n",
       "    .dataframe tbody tr th:only-of-type {\n",
       "        vertical-align: middle;\n",
       "    }\n",
       "\n",
       "    .dataframe tbody tr th {\n",
       "        vertical-align: top;\n",
       "    }\n",
       "\n",
       "    .dataframe thead th {\n",
       "        text-align: right;\n",
       "    }\n",
       "</style>\n",
       "<table border=\"1\" class=\"dataframe\">\n",
       "  <thead>\n",
       "    <tr style=\"text-align: right;\">\n",
       "      <th></th>\n",
       "      <th>temp</th>\n",
       "    </tr>\n",
       "    <tr>\n",
       "      <th>month</th>\n",
       "      <th></th>\n",
       "    </tr>\n",
       "  </thead>\n",
       "  <tbody>\n",
       "    <tr>\n",
       "      <th>1</th>\n",
       "      <td>55.434047</td>\n",
       "    </tr>\n",
       "    <tr>\n",
       "      <th>2</th>\n",
       "      <td>56.078107</td>\n",
       "    </tr>\n",
       "    <tr>\n",
       "      <th>3</th>\n",
       "      <td>59.114076</td>\n",
       "    </tr>\n",
       "    <tr>\n",
       "      <th>4</th>\n",
       "      <td>63.465818</td>\n",
       "    </tr>\n",
       "    <tr>\n",
       "      <th>5</th>\n",
       "      <td>69.825123</td>\n",
       "    </tr>\n",
       "    <tr>\n",
       "      <th>6</th>\n",
       "      <td>76.094807</td>\n",
       "    </tr>\n",
       "    <tr>\n",
       "      <th>7</th>\n",
       "      <td>80.706629</td>\n",
       "    </tr>\n",
       "    <tr>\n",
       "      <th>8</th>\n",
       "      <td>81.433214</td>\n",
       "    </tr>\n",
       "    <tr>\n",
       "      <th>9</th>\n",
       "      <td>77.987837</td>\n",
       "    </tr>\n",
       "    <tr>\n",
       "      <th>10</th>\n",
       "      <td>72.329584</td>\n",
       "    </tr>\n",
       "    <tr>\n",
       "      <th>11</th>\n",
       "      <td>65.300541</td>\n",
       "    </tr>\n",
       "    <tr>\n",
       "      <th>12</th>\n",
       "      <td>58.654369</td>\n",
       "    </tr>\n",
       "  </tbody>\n",
       "</table>\n",
       "</div>"
      ],
      "text/plain": [
       "            temp\n",
       "month           \n",
       "1      55.434047\n",
       "2      56.078107\n",
       "3      59.114076\n",
       "4      63.465818\n",
       "5      69.825123\n",
       "6      76.094807\n",
       "7      80.706629\n",
       "8      81.433214\n",
       "9      77.987837\n",
       "10     72.329584\n",
       "11     65.300541\n",
       "12     58.654369"
      ]
     },
     "execution_count": 70,
     "metadata": {},
     "output_type": "execute_result"
    }
   ],
   "source": [
    "monthly=monthYear.groupby(['month']).mean()\n",
    "monthly"
   ]
  },
  {
   "cell_type": "code",
   "execution_count": 69,
   "metadata": {},
   "outputs": [
    {
     "data": {
      "text/html": [
       "<div>\n",
       "<style scoped>\n",
       "    .dataframe tbody tr th:only-of-type {\n",
       "        vertical-align: middle;\n",
       "    }\n",
       "\n",
       "    .dataframe tbody tr th {\n",
       "        vertical-align: top;\n",
       "    }\n",
       "\n",
       "    .dataframe thead th {\n",
       "        text-align: right;\n",
       "    }\n",
       "</style>\n",
       "<table border=\"1\" class=\"dataframe\">\n",
       "  <thead>\n",
       "    <tr style=\"text-align: right;\">\n",
       "      <th></th>\n",
       "      <th>temp</th>\n",
       "    </tr>\n",
       "    <tr>\n",
       "      <th>month</th>\n",
       "      <th></th>\n",
       "    </tr>\n",
       "  </thead>\n",
       "  <tbody>\n",
       "    <tr>\n",
       "      <th>1</th>\n",
       "      <td>55.434047</td>\n",
       "    </tr>\n",
       "    <tr>\n",
       "      <th>2</th>\n",
       "      <td>56.078107</td>\n",
       "    </tr>\n",
       "    <tr>\n",
       "      <th>3</th>\n",
       "      <td>59.114076</td>\n",
       "    </tr>\n",
       "  </tbody>\n",
       "</table>\n",
       "</div>"
      ],
      "text/plain": [
       "            temp\n",
       "month           \n",
       "1      55.434047\n",
       "2      56.078107\n",
       "3      59.114076"
      ]
     },
     "execution_count": 69,
     "metadata": {},
     "output_type": "execute_result"
    }
   ],
   "source": [
    "winter=monthYear.loc[monthYear['month'] < 4 ].groupby(['month']).mean()\n",
    "winter\n"
   ]
  },
  {
   "cell_type": "code",
   "execution_count": 68,
   "metadata": {},
   "outputs": [
    {
     "data": {
      "text/html": [
       "<div>\n",
       "<style scoped>\n",
       "    .dataframe tbody tr th:only-of-type {\n",
       "        vertical-align: middle;\n",
       "    }\n",
       "\n",
       "    .dataframe tbody tr th {\n",
       "        vertical-align: top;\n",
       "    }\n",
       "\n",
       "    .dataframe thead th {\n",
       "        text-align: right;\n",
       "    }\n",
       "</style>\n",
       "<table border=\"1\" class=\"dataframe\">\n",
       "  <thead>\n",
       "    <tr style=\"text-align: right;\">\n",
       "      <th></th>\n",
       "      <th></th>\n",
       "      <th>temp</th>\n",
       "    </tr>\n",
       "    <tr>\n",
       "      <th>year</th>\n",
       "      <th>month</th>\n",
       "      <th></th>\n",
       "    </tr>\n",
       "  </thead>\n",
       "  <tbody>\n",
       "    <tr>\n",
       "      <th>2000</th>\n",
       "      <th>12</th>\n",
       "      <td>58.634516</td>\n",
       "    </tr>\n",
       "    <tr>\n",
       "      <th>2001</th>\n",
       "      <th>12</th>\n",
       "      <td>57.609099</td>\n",
       "    </tr>\n",
       "    <tr>\n",
       "      <th>2002</th>\n",
       "      <th>12</th>\n",
       "      <td>57.309220</td>\n",
       "    </tr>\n",
       "    <tr>\n",
       "      <th>2003</th>\n",
       "      <th>12</th>\n",
       "      <td>58.927715</td>\n",
       "    </tr>\n",
       "    <tr>\n",
       "      <th>2004</th>\n",
       "      <th>12</th>\n",
       "      <td>56.998159</td>\n",
       "    </tr>\n",
       "    <tr>\n",
       "      <th>2005</th>\n",
       "      <th>12</th>\n",
       "      <td>58.957675</td>\n",
       "    </tr>\n",
       "    <tr>\n",
       "      <th>2006</th>\n",
       "      <th>12</th>\n",
       "      <td>56.970282</td>\n",
       "    </tr>\n",
       "    <tr>\n",
       "      <th>2007</th>\n",
       "      <th>12</th>\n",
       "      <td>58.443884</td>\n",
       "    </tr>\n",
       "    <tr>\n",
       "      <th>2008</th>\n",
       "      <th>12</th>\n",
       "      <td>59.407110</td>\n",
       "    </tr>\n",
       "    <tr>\n",
       "      <th>2009</th>\n",
       "      <th>12</th>\n",
       "      <td>60.644704</td>\n",
       "    </tr>\n",
       "    <tr>\n",
       "      <th>2010</th>\n",
       "      <th>12</th>\n",
       "      <td>62.423683</td>\n",
       "    </tr>\n",
       "    <tr>\n",
       "      <th>2011</th>\n",
       "      <th>12</th>\n",
       "      <td>57.670175</td>\n",
       "    </tr>\n",
       "    <tr>\n",
       "      <th>2012</th>\n",
       "      <th>12</th>\n",
       "      <td>59.797809</td>\n",
       "    </tr>\n",
       "    <tr>\n",
       "      <th>2013</th>\n",
       "      <th>12</th>\n",
       "      <td>56.574677</td>\n",
       "    </tr>\n",
       "    <tr>\n",
       "      <th>2014</th>\n",
       "      <th>12</th>\n",
       "      <td>61.624664</td>\n",
       "    </tr>\n",
       "    <tr>\n",
       "      <th>2015</th>\n",
       "      <th>12</th>\n",
       "      <td>58.356788</td>\n",
       "    </tr>\n",
       "    <tr>\n",
       "      <th>2016</th>\n",
       "      <th>12</th>\n",
       "      <td>55.295927</td>\n",
       "    </tr>\n",
       "    <tr>\n",
       "      <th>2017</th>\n",
       "      <th>12</th>\n",
       "      <td>59.550054</td>\n",
       "    </tr>\n",
       "    <tr>\n",
       "      <th>2018</th>\n",
       "      <th>12</th>\n",
       "      <td>58.992177</td>\n",
       "    </tr>\n",
       "    <tr>\n",
       "      <th>2019</th>\n",
       "      <th>12</th>\n",
       "      <td>58.899059</td>\n",
       "    </tr>\n",
       "  </tbody>\n",
       "</table>\n",
       "</div>"
      ],
      "text/plain": [
       "                 temp\n",
       "year month           \n",
       "2000 12     58.634516\n",
       "2001 12     57.609099\n",
       "2002 12     57.309220\n",
       "2003 12     58.927715\n",
       "2004 12     56.998159\n",
       "2005 12     58.957675\n",
       "2006 12     56.970282\n",
       "2007 12     58.443884\n",
       "2008 12     59.407110\n",
       "2009 12     60.644704\n",
       "2010 12     62.423683\n",
       "2011 12     57.670175\n",
       "2012 12     59.797809\n",
       "2013 12     56.574677\n",
       "2014 12     61.624664\n",
       "2015 12     58.356788\n",
       "2016 12     55.295927\n",
       "2017 12     59.550054\n",
       "2018 12     58.992177\n",
       "2019 12     58.899059"
      ]
     },
     "execution_count": 68,
     "metadata": {},
     "output_type": "execute_result"
    }
   ],
   "source": [
    "december=monthYear.loc[monthYear['month'] == 12 ].groupby(['year','month']).mean()\n",
    "december"
   ]
  },
  {
   "cell_type": "code",
   "execution_count": null,
   "metadata": {},
   "outputs": [],
   "source": []
  }
 ],
 "metadata": {
  "kernelspec": {
   "display_name": "Python 3 (ipykernel)",
   "language": "python",
   "name": "python3"
  },
  "language_info": {
   "codemirror_mode": {
    "name": "ipython",
    "version": 3
   },
   "file_extension": ".py",
   "mimetype": "text/x-python",
   "name": "python",
   "nbconvert_exporter": "python",
   "pygments_lexer": "ipython3",
   "version": "3.8.9"
  }
 },
 "nbformat": 4,
 "nbformat_minor": 2
}
