{
 "cells": [
  {
   "cell_type": "markdown",
   "metadata": {},
   "source": [
    "# Paphos Weather\n",
    "\n",
    "This page shows various metrics for the weather in Paphos, Cyprus.\n",
    "\n",
    "\n",
    "Weather data is purchased from Openweather Marketplace [here](https://home.openweathermap.org/marketplace/my_orders)\n",
    "\n",
    "\n",
    "The code below is written by myself, Walker Rowe."
   ]
  },
  {
   "cell_type": "code",
   "execution_count": 371,
   "metadata": {},
   "outputs": [],
   "source": [
    "import pandas as pd\n",
    "import numpy as np\n",
    "import matplotlib.pyplot as plt\n",
    "from datetime import date\n",
    "from datetime import datetime\n",
    "\n",
    "def toDate(str):\n",
    "    return datetime.strptime(str, '%Y-%m-%d %H:%M:%S %z %Z').date()\n",
    "\n",
    "def jsonStr(s):\n",
    "    return round(s['temp'],2)\n",
    " \n"
   ]
  },
  {
   "cell_type": "code",
   "execution_count": 372,
   "metadata": {},
   "outputs": [],
   "source": [
    "paphos=pd.read_json('file:///Users/walkerrowe/Documents/paphosWeather.json',lines=True)\n"
   ]
  },
  {
   "cell_type": "code",
   "execution_count": 373,
   "metadata": {},
   "outputs": [],
   "source": [
    "paphos['dt_iso']=pd.DataFrame(paphos['dt_iso'].apply(toDate)) \n",
    "paphos['temp']=pd.DataFrame(paphos['main'].apply(jsonStr))\n",
    "paphos['month']=pd.DataFrame(paphos['dt_iso'].apply(lambda x: x.month))"
   ]
  },
  {
   "cell_type": "code",
   "execution_count": 374,
   "metadata": {},
   "outputs": [],
   "source": [
    "sept=pd.DataFrame([[\"2020-09-13 23:00:00 +0000 UTC\",\"80.5\"],\n",
    "[\"2020-09-14 23:00:00 +0000 UTC\",\"79.25\"],\n",
    "[\"2020-09-15 23:00:00 +0000 UTC\",\"79.58\"],\n",
    "[\"2020-09-16 23:00:00 +0000 UTC\",\"80.3125\"],\n",
    "[\"2020-09-17 23:00:00 +0000 UTC\",\"80.917\"],\n",
    "[\"2020-09-18 23:00:00 +0000 UTC\",\"80.79\"],\n",
    "[\"2020-09-19 23:00:00 +0000 UTC\",\"79.917\"],\n",
    "[\"2020-09-20 23:00:00 +0000 UTC\",\"78.085\"],\n",
    "[\"2020-09-21 23:00:00 +0000 UTC\",\"79.25\"],\n",
    "[\"2020-09-22 23:00:00 +0000 UTC\",\"78.65\"],\n",
    "[\"2020-09-23 23:00:00 +0000 UTC\",\"78.02\"],\n",
    "[\"2020-09-24 23:00:00 +0000 UTC\",\"76.77\"],\n",
    "[\"2020-09-25 23:00:00 +0000 UTC\",\"78.1\"],\n",
    "[\"2020-09-26 23:00:00 +0000 UTC\",\"77.3125\"],\n",
    "[\"2020-09-27 23:00:00 +0000 UTC\",\"77.3125\"],\n",
    "[\"2020-09-28 23:00:00 +0000 UTC\",\"79.98\"]], columns=(['dt_iso','temp'])) "
   ]
  },
  {
   "cell_type": "code",
   "execution_count": 375,
   "metadata": {},
   "outputs": [],
   "source": [
    "sept['dt_iso']=pd.DataFrame(sept['dt_iso'].apply(toDate)) \n",
    "sept['month']=pd.DataFrame(sept['dt_iso'].apply(lambda x: x.month))\n",
    "sept.set_index('dt_iso',inplace=True)"
   ]
  },
  {
   "cell_type": "code",
   "execution_count": 376,
   "metadata": {},
   "outputs": [],
   "source": [
    "temps=paphos[['temp','month','dt_iso']].groupby('dt_iso').mean()"
   ]
  },
  {
   "cell_type": "code",
   "execution_count": 377,
   "metadata": {},
   "outputs": [],
   "source": [
    "temps=temps.append(sept)\n",
    "temps['temp']=temps['temp'].astype(float)"
   ]
  },
  {
   "cell_type": "code",
   "execution_count": 387,
   "metadata": {},
   "outputs": [],
   "source": [
    "thisYear=temps[date(2020,1,1):date(2020,9,28)]\n",
    "lastYear=temps[date(2019,1,1):date(2019,9,28)]"
   ]
  },
  {
   "cell_type": "code",
   "execution_count": 388,
   "metadata": {},
   "outputs": [
    {
     "data": {
      "text/html": [
       "<div>\n",
       "<style scoped>\n",
       "    .dataframe tbody tr th:only-of-type {\n",
       "        vertical-align: middle;\n",
       "    }\n",
       "\n",
       "    .dataframe tbody tr th {\n",
       "        vertical-align: top;\n",
       "    }\n",
       "\n",
       "    .dataframe thead th {\n",
       "        text-align: right;\n",
       "    }\n",
       "</style>\n",
       "<table border=\"1\" class=\"dataframe\">\n",
       "  <thead>\n",
       "    <tr style=\"text-align: right;\">\n",
       "      <th></th>\n",
       "      <th>temp_2019</th>\n",
       "      <th>temp_2020</th>\n",
       "    </tr>\n",
       "    <tr>\n",
       "      <th>month</th>\n",
       "      <th></th>\n",
       "      <th></th>\n",
       "    </tr>\n",
       "  </thead>\n",
       "  <tbody>\n",
       "    <tr>\n",
       "      <th>1</th>\n",
       "      <td>54.96</td>\n",
       "      <td>54.00</td>\n",
       "    </tr>\n",
       "    <tr>\n",
       "      <th>2</th>\n",
       "      <td>56.35</td>\n",
       "      <td>54.45</td>\n",
       "    </tr>\n",
       "    <tr>\n",
       "      <th>3</th>\n",
       "      <td>57.79</td>\n",
       "      <td>57.53</td>\n",
       "    </tr>\n",
       "    <tr>\n",
       "      <th>4</th>\n",
       "      <td>61.83</td>\n",
       "      <td>61.28</td>\n",
       "    </tr>\n",
       "    <tr>\n",
       "      <th>5</th>\n",
       "      <td>70.18</td>\n",
       "      <td>70.51</td>\n",
       "    </tr>\n",
       "    <tr>\n",
       "      <th>6</th>\n",
       "      <td>76.74</td>\n",
       "      <td>72.94</td>\n",
       "    </tr>\n",
       "    <tr>\n",
       "      <th>7</th>\n",
       "      <td>79.92</td>\n",
       "      <td>80.01</td>\n",
       "    </tr>\n",
       "    <tr>\n",
       "      <th>8</th>\n",
       "      <td>81.31</td>\n",
       "      <td>80.67</td>\n",
       "    </tr>\n",
       "    <tr>\n",
       "      <th>9</th>\n",
       "      <td>77.86</td>\n",
       "      <td>80.20</td>\n",
       "    </tr>\n",
       "  </tbody>\n",
       "</table>\n",
       "</div>"
      ],
      "text/plain": [
       "       temp_2019  temp_2020\n",
       "month                      \n",
       "1          54.96      54.00\n",
       "2          56.35      54.45\n",
       "3          57.79      57.53\n",
       "4          61.83      61.28\n",
       "5          70.18      70.51\n",
       "6          76.74      72.94\n",
       "7          79.92      80.01\n",
       "8          81.31      80.67\n",
       "9          77.86      80.20"
      ]
     },
     "execution_count": 388,
     "metadata": {},
     "output_type": "execute_result"
    }
   ],
   "source": [
    "Year2020=thisYear.groupby('month').mean()\n",
    "Year2019=lastYear.groupby('month').mean()\n",
    "\n",
    "Year2019.join(Year2020, lsuffix='_2019', rsuffix='_2020').round(2)"
   ]
  },
  {
   "cell_type": "code",
   "execution_count": 381,
   "metadata": {},
   "outputs": [],
   "source": [
    "thisSept=temps[date(2020,9,1):date(2020,9,28)]\n",
    "lastSept=temps[date(2019,9,1):date(2019,9,28)]\n",
    "\n",
    "thisSept.to_csv('sept2020.csv')\n",
    "lastSept.to_csv('sept2019.csv')"
   ]
  },
  {
   "cell_type": "code",
   "execution_count": 391,
   "metadata": {},
   "outputs": [],
   "source": [
    "Year2020.to_csv('year2020.csv')\n",
    "Year2019.to_csv('year2019.csv')"
   ]
  },
  {
   "cell_type": "code",
   "execution_count": 392,
   "metadata": {},
   "outputs": [
    {
     "data": {
      "text/plain": [
       "Index(['city_name', 'clouds', 'dt', 'dt_iso', 'lat', 'lon', 'main', 'rain',\n",
       "       'timezone', 'weather', 'wind', 'temp', 'month'],\n",
       "      dtype='object')"
      ]
     },
     "execution_count": 392,
     "metadata": {},
     "output_type": "execute_result"
    }
   ],
   "source": [
    "paphos.columns"
   ]
  },
  {
   "cell_type": "code",
   "execution_count": 393,
   "metadata": {},
   "outputs": [
    {
     "data": {
      "text/html": [
       "<div>\n",
       "<style scoped>\n",
       "    .dataframe tbody tr th:only-of-type {\n",
       "        vertical-align: middle;\n",
       "    }\n",
       "\n",
       "    .dataframe tbody tr th {\n",
       "        vertical-align: top;\n",
       "    }\n",
       "\n",
       "    .dataframe thead th {\n",
       "        text-align: right;\n",
       "    }\n",
       "</style>\n",
       "<table border=\"1\" class=\"dataframe\">\n",
       "  <thead>\n",
       "    <tr style=\"text-align: right;\">\n",
       "      <th></th>\n",
       "      <th>city_name</th>\n",
       "      <th>clouds</th>\n",
       "      <th>dt</th>\n",
       "      <th>dt_iso</th>\n",
       "      <th>lat</th>\n",
       "      <th>lon</th>\n",
       "      <th>main</th>\n",
       "      <th>rain</th>\n",
       "      <th>timezone</th>\n",
       "      <th>weather</th>\n",
       "      <th>wind</th>\n",
       "      <th>temp</th>\n",
       "      <th>month</th>\n",
       "    </tr>\n",
       "  </thead>\n",
       "  <tbody>\n",
       "    <tr>\n",
       "      <th>0</th>\n",
       "      <td>Paphos Castle</td>\n",
       "      <td>{'all': 1}</td>\n",
       "      <td>946684800</td>\n",
       "      <td>2000-01-01</td>\n",
       "      <td>34.753637</td>\n",
       "      <td>32.406951</td>\n",
       "      <td>{'temp_min': 51.8, 'temp': 55.35, 'feels_like'...</td>\n",
       "      <td>NaN</td>\n",
       "      <td>7200</td>\n",
       "      <td>[{'id': 800, 'icon': '01n', 'description': 'sk...</td>\n",
       "      <td>{'deg': 20, 'speed': 9.17}</td>\n",
       "      <td>55.35</td>\n",
       "      <td>1</td>\n",
       "    </tr>\n",
       "    <tr>\n",
       "      <th>1</th>\n",
       "      <td>Paphos Castle</td>\n",
       "      <td>{'all': 15}</td>\n",
       "      <td>946688400</td>\n",
       "      <td>2000-01-01</td>\n",
       "      <td>34.753637</td>\n",
       "      <td>32.406951</td>\n",
       "      <td>{'temp_min': 51.8, 'temp': 55.38, 'feels_like'...</td>\n",
       "      <td>NaN</td>\n",
       "      <td>7200</td>\n",
       "      <td>[{'id': 801, 'icon': '02n', 'description': 'fe...</td>\n",
       "      <td>{'deg': 20, 'speed': 8.05}</td>\n",
       "      <td>55.38</td>\n",
       "      <td>1</td>\n",
       "    </tr>\n",
       "    <tr>\n",
       "      <th>2</th>\n",
       "      <td>Paphos Castle</td>\n",
       "      <td>{'all': 30}</td>\n",
       "      <td>946692000</td>\n",
       "      <td>2000-01-01</td>\n",
       "      <td>34.753637</td>\n",
       "      <td>32.406951</td>\n",
       "      <td>{'temp_min': 51.8, 'temp': 55.67, 'feels_like'...</td>\n",
       "      <td>NaN</td>\n",
       "      <td>7200</td>\n",
       "      <td>[{'id': 802, 'icon': '03n', 'description': 'sc...</td>\n",
       "      <td>{'deg': 20, 'speed': 8.05}</td>\n",
       "      <td>55.67</td>\n",
       "      <td>1</td>\n",
       "    </tr>\n",
       "    <tr>\n",
       "      <th>3</th>\n",
       "      <td>Paphos Castle</td>\n",
       "      <td>{'all': 1}</td>\n",
       "      <td>946695600</td>\n",
       "      <td>2000-01-01</td>\n",
       "      <td>34.753637</td>\n",
       "      <td>32.406951</td>\n",
       "      <td>{'temp_min': 48.92, 'temp': 54.09, 'feels_like...</td>\n",
       "      <td>NaN</td>\n",
       "      <td>7200</td>\n",
       "      <td>[{'id': 800, 'icon': '01n', 'description': 'sk...</td>\n",
       "      <td>{'deg': 20, 'speed': 8.05}</td>\n",
       "      <td>54.09</td>\n",
       "      <td>1</td>\n",
       "    </tr>\n",
       "    <tr>\n",
       "      <th>4</th>\n",
       "      <td>Paphos Castle</td>\n",
       "      <td>{'all': 14}</td>\n",
       "      <td>946699200</td>\n",
       "      <td>2000-01-01</td>\n",
       "      <td>34.753637</td>\n",
       "      <td>32.406951</td>\n",
       "      <td>{'temp_min': 48.2, 'temp': 54.39, 'feels_like'...</td>\n",
       "      <td>NaN</td>\n",
       "      <td>7200</td>\n",
       "      <td>[{'id': 801, 'icon': '02n', 'description': 'fe...</td>\n",
       "      <td>{'deg': 20, 'speed': 8.05}</td>\n",
       "      <td>54.39</td>\n",
       "      <td>1</td>\n",
       "    </tr>\n",
       "  </tbody>\n",
       "</table>\n",
       "</div>"
      ],
      "text/plain": [
       "       city_name       clouds         dt      dt_iso        lat        lon  \\\n",
       "0  Paphos Castle   {'all': 1}  946684800  2000-01-01  34.753637  32.406951   \n",
       "1  Paphos Castle  {'all': 15}  946688400  2000-01-01  34.753637  32.406951   \n",
       "2  Paphos Castle  {'all': 30}  946692000  2000-01-01  34.753637  32.406951   \n",
       "3  Paphos Castle   {'all': 1}  946695600  2000-01-01  34.753637  32.406951   \n",
       "4  Paphos Castle  {'all': 14}  946699200  2000-01-01  34.753637  32.406951   \n",
       "\n",
       "                                                main rain  timezone  \\\n",
       "0  {'temp_min': 51.8, 'temp': 55.35, 'feels_like'...  NaN      7200   \n",
       "1  {'temp_min': 51.8, 'temp': 55.38, 'feels_like'...  NaN      7200   \n",
       "2  {'temp_min': 51.8, 'temp': 55.67, 'feels_like'...  NaN      7200   \n",
       "3  {'temp_min': 48.92, 'temp': 54.09, 'feels_like...  NaN      7200   \n",
       "4  {'temp_min': 48.2, 'temp': 54.39, 'feels_like'...  NaN      7200   \n",
       "\n",
       "                                             weather  \\\n",
       "0  [{'id': 800, 'icon': '01n', 'description': 'sk...   \n",
       "1  [{'id': 801, 'icon': '02n', 'description': 'fe...   \n",
       "2  [{'id': 802, 'icon': '03n', 'description': 'sc...   \n",
       "3  [{'id': 800, 'icon': '01n', 'description': 'sk...   \n",
       "4  [{'id': 801, 'icon': '02n', 'description': 'fe...   \n",
       "\n",
       "                         wind   temp  month  \n",
       "0  {'deg': 20, 'speed': 9.17}  55.35      1  \n",
       "1  {'deg': 20, 'speed': 8.05}  55.38      1  \n",
       "2  {'deg': 20, 'speed': 8.05}  55.67      1  \n",
       "3  {'deg': 20, 'speed': 8.05}  54.09      1  \n",
       "4  {'deg': 20, 'speed': 8.05}  54.39      1  "
      ]
     },
     "execution_count": 393,
     "metadata": {},
     "output_type": "execute_result"
    }
   ],
   "source": [
    "paphos.head()"
   ]
  },
  {
   "cell_type": "code",
   "execution_count": null,
   "metadata": {},
   "outputs": [],
   "source": []
  }
 ],
 "metadata": {
  "kernelspec": {
   "display_name": "Python 3",
   "language": "python",
   "name": "python3"
  },
  "language_info": {
   "codemirror_mode": {
    "name": "ipython",
    "version": 3
   },
   "file_extension": ".py",
   "mimetype": "text/x-python",
   "name": "python",
   "nbconvert_exporter": "python",
   "pygments_lexer": "ipython3",
   "version": "3.4.4"
  }
 },
 "nbformat": 4,
 "nbformat_minor": 2
}
