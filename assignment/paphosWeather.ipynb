{
 "cells": [
  {
   "cell_type": "code",
   "execution_count": 312,
   "metadata": {},
   "outputs": [],
   "source": [
    "import pandas as pd\n",
    "import numpy as np\n",
    "import matplotlib.pyplot as plt\n",
    "from datetime import date\n",
    "from datetime import datetime\n",
    "\n",
    "def toDate(str):\n",
    "    return datetime.strptime(str, '%Y-%m-%d %H:%M:%S %z %Z').date()\n",
    "\n",
    "def jsonStr(s):\n",
    "    return round(s['temp'],2)\n",
    " \n"
   ]
  },
  {
   "cell_type": "code",
   "execution_count": 313,
   "metadata": {},
   "outputs": [],
   "source": [
    "paphos=pd.read_json('file:///Users/walkerrowe/Documents/paphosWeather.json',lines=True)\n"
   ]
  },
  {
   "cell_type": "code",
   "execution_count": 314,
   "metadata": {},
   "outputs": [],
   "source": [
    "paphos['dt_iso']=pd.DataFrame(paphos['dt_iso'].apply(toDate)) \n",
    "paphos['temp']=pd.DataFrame(paphos['main'].apply(jsonStr))\n",
    "paphos['month']=pd.DataFrame(paphos['dt_iso'].apply(lambda x: x.month))"
   ]
  },
  {
   "cell_type": "code",
   "execution_count": 315,
   "metadata": {},
   "outputs": [],
   "source": [
    "sept=pd.DataFrame([[\"2020-09-13 23:00:00 +0000 UTC\",\"80.5\"],\n",
    "[\"2020-09-14 23:00:00 +0000 UTC\",\"79.25\"],\n",
    "[\"2020-09-15 23:00:00 +0000 UTC\",\"79.58\"],\n",
    "[\"2020-09-16 23:00:00 +0000 UTC\",\"80.3125\"],\n",
    "[\"2020-09-17 23:00:00 +0000 UTC\",\"80.917\"],\n",
    "[\"2020-09-18 23:00:00 +0000 UTC\",\"80.79\"],\n",
    "[\"2020-09-19 23:00:00 +0000 UTC\",\"79.917\"],\n",
    "[\"2020-09-20 23:00:00 +0000 UTC\",\"78.085\"],\n",
    "[\"2020-09-21 23:00:00 +0000 UTC\",\"79.25\"],\n",
    "[\"2020-09-22 23:00:00 +0000 UTC\",\"78.65\"],\n",
    "[\"2020-09-23 23:00:00 +0000 UTC\",\"78.02\"],\n",
    "[\"2020-09-24 23:00:00 +0000 UTC\",\"76.77\"],\n",
    "[\"2020-09-25 23:00:00 +0000 UTC\",\"78.1\"],\n",
    "[\"2020-09-26 23:00:00 +0000 UTC\",\"77.3125\"],\n",
    "[\"2020-09-27 23:00:00 +0000 UTC\",\"77.3125\"],\n",
    "[\"2020-09-28 23:00:00 +0000 UTC\",\"79.98\"]], columns=(['dt_iso','temp'])) "
   ]
  },
  {
   "cell_type": "code",
   "execution_count": 316,
   "metadata": {},
   "outputs": [],
   "source": [
    "sept['dt_iso']=pd.DataFrame(sept['dt_iso'].apply(toDate)) \n",
    "sept['month']=pd.DataFrame(sept['dt_iso'].apply(lambda x: x.month))\n",
    "sept.set_index('dt_iso',inplace=True)\n"
   ]
  },
  {
   "cell_type": "code",
   "execution_count": 360,
   "metadata": {},
   "outputs": [],
   "source": [
    "temps=paphos[['temp','month','dt_iso']].groupby('dt_iso').mean()\n",
    "\n"
   ]
  },
  {
   "cell_type": "code",
   "execution_count": 361,
   "metadata": {},
   "outputs": [],
   "source": [
    "temps=temps.append(sept)\n",
    "temps['temp']=temps['temp'].astype(float)"
   ]
  },
  {
   "cell_type": "code",
   "execution_count": 362,
   "metadata": {},
   "outputs": [],
   "source": [
    "thisSummer=temps[date(2020,5,1):date(2020,9,28)]\n",
    "lastSummer=temps[date(2019,5,1):date(2019,9,28)]"
   ]
  },
  {
   "cell_type": "code",
   "execution_count": 363,
   "metadata": {},
   "outputs": [
    {
     "name": "stdout",
     "output_type": "stream",
     "text": [
      "<class 'pandas.core.frame.DataFrame'>\n",
      "Index: 7577 entries, 2000-01-01 to 2020-09-28\n",
      "Data columns (total 2 columns):\n",
      "temp     7577 non-null float64\n",
      "month    7577 non-null int64\n",
      "dtypes: float64(1), int64(1)\n",
      "memory usage: 497.6+ KB\n"
     ]
    }
   ],
   "source": [
    "temps.info()"
   ]
  },
  {
   "cell_type": "code",
   "execution_count": 339,
   "metadata": {},
   "outputs": [],
   "source": [
    "year2019=thisSummer.mean()\n",
    "year2020=lastSummer.mean() "
   ]
  },
  {
   "cell_type": "code",
   "execution_count": 364,
   "metadata": {},
   "outputs": [
    {
     "data": {
      "text/html": [
       "<div>\n",
       "<style scoped>\n",
       "    .dataframe tbody tr th:only-of-type {\n",
       "        vertical-align: middle;\n",
       "    }\n",
       "\n",
       "    .dataframe tbody tr th {\n",
       "        vertical-align: top;\n",
       "    }\n",
       "\n",
       "    .dataframe thead th {\n",
       "        text-align: right;\n",
       "    }\n",
       "</style>\n",
       "<table border=\"1\" class=\"dataframe\">\n",
       "  <thead>\n",
       "    <tr style=\"text-align: right;\">\n",
       "      <th></th>\n",
       "      <th>temp_2019</th>\n",
       "      <th>temp_2020</th>\n",
       "    </tr>\n",
       "    <tr>\n",
       "      <th>month</th>\n",
       "      <th></th>\n",
       "      <th></th>\n",
       "    </tr>\n",
       "  </thead>\n",
       "  <tbody>\n",
       "    <tr>\n",
       "      <th>5</th>\n",
       "      <td>70.51</td>\n",
       "      <td>70.18</td>\n",
       "    </tr>\n",
       "    <tr>\n",
       "      <th>6</th>\n",
       "      <td>72.94</td>\n",
       "      <td>76.74</td>\n",
       "    </tr>\n",
       "    <tr>\n",
       "      <th>7</th>\n",
       "      <td>80.01</td>\n",
       "      <td>79.92</td>\n",
       "    </tr>\n",
       "    <tr>\n",
       "      <th>8</th>\n",
       "      <td>80.67</td>\n",
       "      <td>81.31</td>\n",
       "    </tr>\n",
       "    <tr>\n",
       "      <th>9</th>\n",
       "      <td>80.20</td>\n",
       "      <td>77.86</td>\n",
       "    </tr>\n",
       "  </tbody>\n",
       "</table>\n",
       "</div>"
      ],
      "text/plain": [
       "       temp_2019  temp_2020\n",
       "month                      \n",
       "5          70.51      70.18\n",
       "6          72.94      76.74\n",
       "7          80.01      79.92\n",
       "8          80.67      81.31\n",
       "9          80.20      77.86"
      ]
     },
     "execution_count": 364,
     "metadata": {},
     "output_type": "execute_result"
    }
   ],
   "source": [
    "Summer2019=thisSummer.groupby('month').mean()\n",
    "Summer2020=lastSummer.groupby('month').mean()\n",
    "\n",
    "Summer2019.join(Summer2020, lsuffix='_2019', rsuffix='_2020').round(2)"
   ]
  },
  {
   "cell_type": "code",
   "execution_count": 366,
   "metadata": {},
   "outputs": [],
   "source": [
    "thisSept=temps[date(2020,9,1):date(2020,9,28)]\n",
    "lastSept=temps[date(2019,9,1):date(2019,9,28)]\n",
    "\n",
    "thisSept.to_csv('sept2020.csv')\n",
    "lastSept.to_csv('sept2019.csv')"
   ]
  },
  {
   "cell_type": "code",
   "execution_count": null,
   "metadata": {},
   "outputs": [],
   "source": [
    "\n"
   ]
  },
  {
   "cell_type": "code",
   "execution_count": null,
   "metadata": {},
   "outputs": [],
   "source": []
  },
  {
   "cell_type": "code",
   "execution_count": null,
   "metadata": {},
   "outputs": [],
   "source": []
  }
 ],
 "metadata": {
  "kernelspec": {
   "display_name": "Python 3",
   "language": "python",
   "name": "python3"
  },
  "language_info": {
   "codemirror_mode": {
    "name": "ipython",
    "version": 3
   },
   "file_extension": ".py",
   "mimetype": "text/x-python",
   "name": "python",
   "nbconvert_exporter": "python",
   "pygments_lexer": "ipython3",
   "version": "3.4.4"
  }
 },
 "nbformat": 4,
 "nbformat_minor": 2
}
