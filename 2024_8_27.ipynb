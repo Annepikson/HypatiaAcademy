{
  "nbformat": 4,
  "nbformat_minor": 0,
  "metadata": {
    "colab": {
      "provenance": [],
      "authorship_tag": "ABX9TyMgNhC9e5AdAz73esD4dNNx",
      "include_colab_link": true
    },
    "kernelspec": {
      "name": "python3",
      "display_name": "Python 3"
    },
    "language_info": {
      "name": "python"
    }
  },
  "cells": [
    {
      "cell_type": "markdown",
      "metadata": {
        "id": "view-in-github",
        "colab_type": "text"
      },
      "source": [
        "<a href=\"https://colab.research.google.com/github/Annepikson/HypatiaAcademy/blob/master/2024_8_27.ipynb\" target=\"_parent\"><img src=\"https://colab.research.google.com/assets/colab-badge.svg\" alt=\"Open In Colab\"/></a>"
      ]
    },
    {
      "cell_type": "code",
      "execution_count": 2,
      "metadata": {
        "colab": {
          "base_uri": "https://localhost:8080/"
        },
        "id": "-7VnfIheItX3",
        "outputId": "254981ec-b3b0-4a6b-f55f-4cf0b3ae9d1f"
      },
      "outputs": [
        {
          "output_type": "stream",
          "name": "stdout",
          "text": [
            "[3, 7, 8, 10]\n"
          ]
        }
      ],
      "source": [
        "\n",
        "numbers = [3, 7, 8, 10]\n",
        "numbers.sort()\n",
        "print(numbers)\n"
      ]
    },
    {
      "cell_type": "code",
      "source": [
        "[3, 7, 8, 10]"
      ],
      "metadata": {
        "id": "lkPjDMMEJA_Q"
      },
      "execution_count": null,
      "outputs": []
    },
    {
      "cell_type": "code",
      "source": [
        "\n",
        "l=[3,7]\n",
        "e=[8,10]\n",
        "\n",
        "# look at first number 2\n",
        "# look at second number 1\n",
        "\n",
        "if l[0] > l[1]:\n",
        "  l[0] , l[1] = l[1] , l[0]\n",
        "\n",
        "if e[0] > e[1]:\n",
        "  e[0] , e[1] = e[1] , e[0]\n",
        "\n",
        "print(l,e)\n"
      ],
      "metadata": {
        "colab": {
          "base_uri": "https://localhost:8080/"
        },
        "id": "uFPqCrZ9JGKf",
        "outputId": "e00ff2cb-6703-4443-9823-c1d89be4d90b"
      },
      "execution_count": 1,
      "outputs": [
        {
          "output_type": "stream",
          "name": "stdout",
          "text": [
            "[3, 7] [8, 10]\n"
          ]
        }
      ]
    }
  ]
}