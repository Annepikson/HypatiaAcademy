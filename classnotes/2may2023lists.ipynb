{
  "nbformat": 4,
  "nbformat_minor": 0,
  "metadata": {
    "colab": {
      "provenance": [],
      "include_colab_link": true
    },
    "kernelspec": {
      "name": "python3",
      "display_name": "Python 3"
    },
    "language_info": {
      "name": "python"
    }
  },
  "cells": [
    {
      "cell_type": "markdown",
      "metadata": {
        "id": "view-in-github",
        "colab_type": "text"
      },
      "source": [
        "<a href=\"https://colab.research.google.com/github/werowe/HypatiaAcademy/blob/master/classnotes%5C2may2023lists.ipynb\" target=\"_parent\"><img src=\"https://colab.research.google.com/assets/colab-badge.svg\" alt=\"Open In Colab\"/></a>"
      ]
    },
    {
      "cell_type": "code",
      "execution_count": 1,
      "metadata": {
        "id": "shg1sBjGRwY2"
      },
      "outputs": [],
      "source": [
        "#im going to make 4 characters..\n",
        "l = [\"23\", \"12\", \"14\", \"33\"]"
      ]
    },
    {
      "cell_type": "code",
      "source": [
        "#Im going to print the 3rd character in the array ( 14 )\n",
        "l[2]"
      ],
      "metadata": {
        "id": "1k4_sqduX1e-",
        "outputId": "ff52c829-6323-4bab-e042-bc142ebe1d04",
        "colab": {
          "base_uri": "https://localhost:8080/",
          "height": 37
        }
      },
      "execution_count": 2,
      "outputs": [
        {
          "output_type": "execute_result",
          "data": {
            "text/plain": [
              "'14'"
            ],
            "application/vnd.google.colaboratory.intrinsic+json": {
              "type": "string"
            }
          },
          "metadata": {},
          "execution_count": 2
        }
      ]
    },
    {
      "cell_type": "code",
      "source": [
        "#Now i will print all characters in the list.\n",
        "l"
      ],
      "metadata": {
        "colab": {
          "base_uri": "https://localhost:8080/"
        },
        "id": "ovQ2ueRdYLta",
        "outputId": "08c0f7e7-e082-4928-84bb-3a7d01c41b9e"
      },
      "execution_count": 3,
      "outputs": [
        {
          "output_type": "execute_result",
          "data": {
            "text/plain": [
              "['23', '12', '14', '33']"
            ]
          },
          "metadata": {},
          "execution_count": 3
        }
      ]
    },
    {
      "cell_type": "code",
      "source": [
        "'''\n",
        "in programming you usually start with 0\n",
        "\n",
        "l = [\"23\", \"12\", \"14\", \"33\"]\n",
        "\n",
        "\n",
        "\n",
        "'''\n",
        "\n",
        "l[0]"
      ],
      "metadata": {
        "id": "Sx-OIgMFeXvO",
        "outputId": "3323a588-a6f0-4c52-a7ec-097a2161da21",
        "colab": {
          "base_uri": "https://localhost:8080/",
          "height": 37
        }
      },
      "execution_count": 5,
      "outputs": [
        {
          "output_type": "execute_result",
          "data": {
            "text/plain": [
              "'23'"
            ],
            "application/vnd.google.colaboratory.intrinsic+json": {
              "type": "string"
            }
          },
          "metadata": {},
          "execution_count": 5
        }
      ]
    },
    {
      "cell_type": "code",
      "source": [
        "print(\"the length of the array l is\", len(l))\n",
        "\n",
        "'''\n",
        "type\n",
        "\n",
        "booleans.   True, False\n",
        "array    a list. of things in []\n",
        "dictionary.     {\"some key\":  \"some value\"}\n",
        "\n",
        "float?  1.23.   Decimal\n",
        "\n",
        "string?  it's just a letter\n",
        "\n",
        "\n",
        "\n",
        "l is the whole array\n",
        "\n",
        "any item in the array you find by it's index\n",
        "\n",
        "'''\n",
        "\n",
        "\n",
        "\n",
        "for i in range(len(l)):\n",
        "  print(i, l[i])\n",
        "\n",
        "\n"
      ],
      "metadata": {
        "id": "9-ULKfvVenio",
        "outputId": "fdcd43c5-9ece-47e9-c604-ced57b8cd990",
        "colab": {
          "base_uri": "https://localhost:8080/"
        }
      },
      "execution_count": 15,
      "outputs": [
        {
          "output_type": "stream",
          "name": "stdout",
          "text": [
            "the length of the array l is 4\n",
            "0 23\n",
            "1 12\n",
            "2 14\n",
            "3 33\n"
          ]
        }
      ]
    },
    {
      "cell_type": "code",
      "source": [
        "# do something 4 times\n",
        "\n",
        "print(\"the whole l \", l)\n",
        "\n",
        "for i in range(4):\n",
        "  print(\"the index is \", i, \"the item at that position is array[index] \", l[i])\n",
        "  \n"
      ],
      "metadata": {
        "id": "Gfz5_g_hgDzR",
        "outputId": "3080343f-a42c-48db-a6de-453ce035b93a",
        "colab": {
          "base_uri": "https://localhost:8080/"
        }
      },
      "execution_count": 21,
      "outputs": [
        {
          "output_type": "stream",
          "name": "stdout",
          "text": [
            "the whole l  ['23', '12', '14', '33']\n",
            "the index is  0 the item at that position is array[index]  23\n",
            "the index is  1 the item at that position is array[index]  12\n",
            "the index is  2 the item at that position is array[index]  14\n",
            "the index is  3 the item at that position is array[index]  33\n"
          ]
        }
      ]
    },
    {
      "cell_type": "code",
      "source": [
        "# range(4). is the same as range(start=0,stop=4,step=1)\n",
        "\n",
        "for i in range(0,4,1):\n",
        "    print(i)\n",
        "\n",
        "print(\"it's the same\")\n",
        "for i in range(4):\n",
        "    print(i)\n",
        "\n",
        "#now I want to go backwards\n",
        "\n",
        "start=4\n",
        "stop=0\n",
        "step=-1\n",
        "\n",
        "for i in range(4,0,-1):\n",
        "    print(i)\n",
        "\n"
      ],
      "metadata": {
        "id": "7dhbc0DXhL8f",
        "outputId": "33608aa6-d529-4327-80a1-d23fb6c4a87f",
        "colab": {
          "base_uri": "https://localhost:8080/"
        }
      },
      "execution_count": 28,
      "outputs": [
        {
          "output_type": "stream",
          "name": "stdout",
          "text": [
            "0\n",
            "1\n",
            "2\n",
            "3\n",
            "0\n",
            "1\n",
            "2\n",
            "3\n"
          ]
        }
      ]
    },
    {
      "cell_type": "code",
      "source": [
        "fourth=3\n",
        "\n",
        "third=2\n",
        "print(l)\n",
        "print(l[fourth])\n",
        "print(l[third])\n",
        "\n",
        "\n",
        "going forward we print items 0, 1, 2, 3,\n",
        "\n",
        "going backwards we print (3, 2, 1, 0)\n",
        "\n",
        "for i range(start where?, end where?  , go is which direction?)\n",
        "\n",
        "1,2,3,4,5,6\n",
        "\n",
        "step=1\n",
        "step=-1\n",
        "\n",
        "6,5,4,3,2,1\n",
        "\n"
      ],
      "metadata": {
        "id": "xPzaRzOgiFl-",
        "outputId": "7ad655e1-7437-4deb-8c64-36a782778217",
        "colab": {
          "base_uri": "https://localhost:8080/"
        }
      },
      "execution_count": 34,
      "outputs": [
        {
          "output_type": "stream",
          "name": "stdout",
          "text": [
            "['23', '12', '14', '33']\n",
            "33\n",
            "14\n"
          ]
        }
      ]
    },
    {
      "cell_type": "code",
      "source": [
        "l=[1,2,3,4,5,6,7,8,9,10]\n",
        "\n",
        "# for i in range(start=0,end=11,step=2):\n",
        "\n",
        "# range means this:\n",
        "\n",
        " \n",
        "\n",
        "\n",
        "#. the stop is consuming because it really means stop +1 \n",
        "\n",
        "# because the last item in l now l[9]\n",
        "\n",
        "for i in range(0,10,2):\n",
        "  print(\"index=\", i, \" item in the list l at that position is \", l[i])\n",
        "\n"
      ],
      "metadata": {
        "id": "Smpkw8ngjITh",
        "outputId": "d53fa338-972e-4be3-f2d0-35ee6e143e60",
        "colab": {
          "base_uri": "https://localhost:8080/"
        }
      },
      "execution_count": 44,
      "outputs": [
        {
          "output_type": "stream",
          "name": "stdout",
          "text": [
            "index= 0  item in the list l at that position is  1\n",
            "index= 2  item in the list l at that position is  3\n",
            "index= 4  item in the list l at that position is  5\n",
            "index= 6  item in the list l at that position is  7\n",
            "index= 8  item in the list l at that position is  9\n"
          ]
        }
      ]
    },
    {
      "cell_type": "code",
      "source": [
        "'''\n",
        "\n",
        "homework:\n",
        "\n",
        "1.  make a list of 33 items.  print every 3rd item\n",
        "\n",
        "hint:  range(stop,start,step)\n",
        "\n",
        "range(0,34,1)\n",
        "\n",
        "\n",
        "\n",
        "2.  the print same list backwards\n",
        "\n",
        "\n",
        "2.  hint:  start at the end.  go backwards (step = -1).  stop at 0\n",
        "\n",
        "\n",
        "\n",
        "\n",
        "'''\n",
        "\n",
        "\n"
      ],
      "metadata": {
        "id": "KHYU3rT8kuH8"
      },
      "execution_count": null,
      "outputs": []
    },
    {
      "cell_type": "code",
      "source": [
        "len(l)\n",
        "\n"
      ],
      "metadata": {
        "id": "-PlLnhFykRjM",
        "outputId": "0e14e566-8784-4b1f-bd02-ec77b3301a28",
        "colab": {
          "base_uri": "https://localhost:8080/"
        }
      },
      "execution_count": 42,
      "outputs": [
        {
          "output_type": "execute_result",
          "data": {
            "text/plain": [
              "11"
            ]
          },
          "metadata": {},
          "execution_count": 42
        }
      ]
    }
  ]
}
